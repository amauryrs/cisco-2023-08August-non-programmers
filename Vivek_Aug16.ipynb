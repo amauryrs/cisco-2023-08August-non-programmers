{
 "cells": [
  {
   "cell_type": "code",
   "execution_count": null,
   "id": "1c7e3420-76bb-4b81-80a4-e030692ec3f3",
   "metadata": {},
   "outputs": [],
   "source": [
    "#setup\n",
    "\n",
    "higher = []\n",
    "lower = []\n",
    "\n",
    "\n",
    "#cal\n",
    "threshold = input('enter an integer: ').strip()\n",
    "\n",
    "while True:\n",
    "\n",
    "    s = input('Enter string with numbers, separated by spaces: ').strip()\n",
    "\n",
    "    if s == '':   \n",
    "        break     \n",
    "    \n",
    "    words = s.split()\n",
    "\n",
    "    for one_word in words:\n",
    "        if one_word != \n",
    "        if one_word.isdigit():      # can we turn one_word into an integer?\n",
    "            total += int(one_word)  # if so, then add its int version to total\n",
    "        else:\n",
    "            print(f'{one_word} is not numeric; ignoring')\n",
    "\n",
    "    \n",
    "#report"
   ]
  },
  {
   "cell_type": "code",
   "execution_count": 26,
   "id": "c19e4558-6c4b-4ddb-a39a-0198ade5294a",
   "metadata": {},
   "outputs": [
    {
     "name": "stdin",
     "output_type": "stream",
     "text": [
      "Enter a string:  this is sting\n"
     ]
    },
    {
     "name": "stdout",
     "output_type": "stream",
     "text": [
      "{'digits': 0, 'vowels': 3, 'others': 10}\n"
     ]
    }
   ],
   "source": [
    "counts = {'digits':0, 'vowels':0, 'others':0}\n",
    "\n",
    "s = input('Enter a string: ').strip()\n",
    "    \n",
    "for one_character in s:\n",
    "    if one_character.isdigit():\n",
    "        counts['digits'] += 1\n",
    "    elif one_character in 'aeiou':\n",
    "        counts['vowels'] += 1\n",
    "    else:\n",
    "        counts['others'] += 1\n",
    "            \n",
    "print(counts)\n",
    "    "
   ]
  },
  {
   "cell_type": "code",
   "execution_count": 40,
   "id": "854b026b-ed96-48e3-a177-f892eaf2bb1b",
   "metadata": {},
   "outputs": [
    {
     "ename": "IndentationError",
     "evalue": "expected an indented block after 'if' statement on line 10 (3321249572.py, line 11)",
     "output_type": "error",
     "traceback": [
      "\u001b[0;36m  Cell \u001b[0;32mIn[40], line 11\u001b[0;36m\u001b[0m\n\u001b[0;31m    rain = input('Enter mm rain fell: ').strip()\u001b[0m\n\u001b[0m    ^\u001b[0m\n\u001b[0;31mIndentationError\u001b[0m\u001b[0;31m:\u001b[0m expected an indented block after 'if' statement on line 10\n"
     ]
    }
   ],
   "source": [
    "rainfall = {}\n",
    "\n",
    "while True:\n",
    "    city = input('Enter the name of City: ').strip()\n",
    "    if city == '':\n",
    "        break\n",
    "\n",
    "    rain = int(input('Enter mm rain: ')).strip()\n",
    "\n",
    "            if city in rain:\n",
    "            rain = input('Enter mm rain fell: ').strip()\n",
    "            rainfall[city] += rain\n",
    "\n",
    "print(rainfall)"
   ]
  }
 ],
 "metadata": {
  "kernelspec": {
   "display_name": "Python 3 (ipykernel)",
   "language": "python",
   "name": "python3"
  },
  "language_info": {
   "codemirror_mode": {
    "name": "ipython",
    "version": 3
   },
   "file_extension": ".py",
   "mimetype": "text/x-python",
   "name": "python",
   "nbconvert_exporter": "python",
   "pygments_lexer": "ipython3",
   "version": "3.10.12"
  }
 },
 "nbformat": 4,
 "nbformat_minor": 5
}
