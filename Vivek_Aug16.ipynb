{
 "cells": [
  {
   "cell_type": "code",
   "execution_count": null,
   "id": "1c7e3420-76bb-4b81-80a4-e030692ec3f3",
   "metadata": {},
   "outputs": [],
   "source": [
    "#setup\n",
    "\n",
    "higher = []\n",
    "lower = []\n",
    "\n",
    "\n",
    "#cal\n",
    "threshold = input('enter an integer: ').strip()\n",
    "\n",
    "while True:\n",
    "\n",
    "    s = input('Enter string with numbers, separated by spaces: ').strip()\n",
    "\n",
    "    if s == '':   \n",
    "        break     \n",
    "    \n",
    "    words = s.split()\n",
    "\n",
    "    for one_word in words:\n",
    "        if one_word != \n",
    "        if one_word.isdigit():      # can we turn one_word into an integer?\n",
    "            total += int(one_word)  # if so, then add its int version to total\n",
    "        else:\n",
    "            print(f'{one_word} is not numeric; ignoring')\n",
    "\n",
    "    \n",
    "#report"
   ]
  },
  {
   "cell_type": "code",
   "execution_count": 14,
   "id": "c19e4558-6c4b-4ddb-a39a-0198ade5294a",
   "metadata": {},
   "outputs": [
    {
     "name": "stdin",
     "output_type": "stream",
     "text": [
      "Enter a string:  afjh12\n"
     ]
    },
    {
     "ename": "NameError",
     "evalue": "name 'counts' is not defined",
     "output_type": "error",
     "traceback": [
      "\u001b[0;31m---------------------------------------------------------------------------\u001b[0m",
      "\u001b[0;31mNameError\u001b[0m                                 Traceback (most recent call last)",
      "Cell \u001b[0;32mIn[14], line 14\u001b[0m\n\u001b[1;32m     12\u001b[0m     counts[\u001b[38;5;124m'\u001b[39m\u001b[38;5;124mdigits\u001b[39m\u001b[38;5;124m'\u001b[39m] \u001b[38;5;241m+\u001b[39m\u001b[38;5;241m=\u001b[39m \u001b[38;5;241m1\u001b[39m\n\u001b[1;32m     13\u001b[0m \u001b[38;5;28;01melif\u001b[39;00m one_character \u001b[38;5;129;01min\u001b[39;00m \u001b[38;5;124m'\u001b[39m\u001b[38;5;124maeiou\u001b[39m\u001b[38;5;124m'\u001b[39m:\n\u001b[0;32m---> 14\u001b[0m     \u001b[43mcounts\u001b[49m[\u001b[38;5;124m'\u001b[39m\u001b[38;5;124mvowels\u001b[39m\u001b[38;5;124m'\u001b[39m] \u001b[38;5;241m+\u001b[39m\u001b[38;5;241m=\u001b[39m \u001b[38;5;241m1\u001b[39m\n\u001b[1;32m     15\u001b[0m \u001b[38;5;28;01melse\u001b[39;00m:\n\u001b[1;32m     16\u001b[0m     counts[\u001b[38;5;124m'\u001b[39m\u001b[38;5;124mothers\u001b[39m\u001b[38;5;124m'\u001b[39m] \u001b[38;5;241m+\u001b[39m\u001b[38;5;241m=\u001b[39m \u001b[38;5;241m1\u001b[39m\n",
      "\u001b[0;31mNameError\u001b[0m: name 'counts' is not defined"
     ]
    }
   ],
   "source": [
    "count = {'digits:0', 'vowels:0', 'others:0'}\n",
    "\n",
    "while True:\n",
    "\n",
    "    s = input('Enter a string: ').strip()\n",
    "\n",
    "    if s == '':   \n",
    "        break     \n",
    "            \n",
    "    for one_character in s:\n",
    "        if one_character.isdigit():\n",
    "            counts['digits'] += 1\n",
    "        elif one_character in 'aeiou':\n",
    "            counts['vowels'] += 1\n",
    "        else:\n",
    "            counts['others'] += 1\n",
    "            \n",
    "print(counts)\n",
    "    "
   ]
  }
 ],
 "metadata": {
  "kernelspec": {
   "display_name": "Python 3 (ipykernel)",
   "language": "python",
   "name": "python3"
  },
  "language_info": {
   "codemirror_mode": {
    "name": "ipython",
    "version": 3
   },
   "file_extension": ".py",
   "mimetype": "text/x-python",
   "name": "python",
   "nbconvert_exporter": "python",
   "pygments_lexer": "ipython3",
   "version": "3.10.12"
  }
 },
 "nbformat": 4,
 "nbformat_minor": 5
}
