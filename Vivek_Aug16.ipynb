{
 "cells": [
  {
   "cell_type": "code",
   "execution_count": null,
   "id": "1c7e3420-76bb-4b81-80a4-e030692ec3f3",
   "metadata": {},
   "outputs": [],
   "source": [
    "#setup\n",
    "\n",
    "higher = []\n",
    "lower = []\n",
    "\n",
    "\n",
    "#cal\n",
    "threshold = input('enter an integer: ').strip()\n",
    "\n",
    "while True:\n",
    "\n",
    "    s = input('Enter string with numbers, separated by spaces: ').strip()\n",
    "\n",
    "    if s == '':   \n",
    "        break     \n",
    "    \n",
    "    words = s.split()\n",
    "\n",
    "    for one_word in words:\n",
    "        if one_word != \n",
    "        if one_word.isdigit():      # can we turn one_word into an integer?\n",
    "            total += int(one_word)  # if so, then add its int version to total\n",
    "        else:\n",
    "            print(f'{one_word} is not numeric; ignoring')\n",
    "\n",
    "    \n",
    "#report"
   ]
  },
  {
   "cell_type": "code",
   "execution_count": 26,
   "id": "c19e4558-6c4b-4ddb-a39a-0198ade5294a",
   "metadata": {},
   "outputs": [
    {
     "name": "stdin",
     "output_type": "stream",
     "text": [
      "Enter a string:  this is sting\n"
     ]
    },
    {
     "name": "stdout",
     "output_type": "stream",
     "text": [
      "{'digits': 0, 'vowels': 3, 'others': 10}\n"
     ]
    }
   ],
   "source": [
    "counts = {'digits':0, 'vowels':0, 'others':0}\n",
    "\n",
    "s = input('Enter a string: ').strip()\n",
    "    \n",
    "for one_character in s:\n",
    "    if one_character.isdigit():\n",
    "        counts['digits'] += 1\n",
    "    elif one_character in 'aeiou':\n",
    "        counts['vowels'] += 1\n",
    "    else:\n",
    "        counts['others'] += 1\n",
    "            \n",
    "print(counts)\n",
    "    "
   ]
  },
  {
   "cell_type": "markdown",
   "id": "8e10ed96-0ff1-4fc3-8879-c292a67cc5da",
   "metadata": {},
   "source": [
    "rainfall = {}\n",
    "\n",
    "while True:\n",
    "    city = input('Enter the name of City: ').strip()\n",
    "    \n",
    "    if city == '':\n",
    "        break\n",
    "\n",
    "    rain = input('Enter mm rain: ').strip()\n",
    "    rain = int(rain)\n",
    "\n",
    "    if city in rainfall:\n",
    "        rainfall[city] += rain\n",
    "    else:\n",
    "        rainfall[city] = rain\n",
    "\n",
    "for key, value in rainfall.items():\n",
    "    print(f'{key}: {value}')\n"
   ]
  },
  {
   "cell_type": "markdown",
   "id": "47c9c7c3-f26b-4a06-b0da-276db7960e7d",
   "metadata": {},
   "source": [
    "rainfall = {}\n",
    "\n",
    "while True:\n",
    "    city = input('Enter the name of City: ').strip()\n",
    "    \n",
    "    if city == '':\n",
    "        break\n",
    "\n",
    "    rain = input('Enter mm rain: ').strip()\n",
    "    rain = int(rain)\n",
    "\n",
    "    if city in rainfall:\n",
    "        rainfall[city] += rain\n",
    "    else:\n",
    "        rainfall[city] = rain\n",
    "\n",
    "for key, value in rainfall.items():\n",
    "    print(f'{key}: {value}')"
   ]
  },
  {
   "cell_type": "code",
   "execution_count": 1,
   "id": "6138c6ad-4460-4575-8450-027083563087",
   "metadata": {},
   "outputs": [
    {
     "name": "stdin",
     "output_type": "stream",
     "text": [
      "Enter the name of City:  b\n",
      "Enter mm rain:  1\n",
      "Enter the name of City:  a\n",
      "Enter mm rain:  2\n",
      "Enter the name of City:  b\n",
      "Enter mm rain:  5\n",
      "Enter the name of City:  c\n",
      "Enter mm rain:  3\n",
      "Enter the name of City:  \n"
     ]
    },
    {
     "name": "stdout",
     "output_type": "stream",
     "text": [
      "b: 6\n",
      "a: 2\n",
      "c: 3\n"
     ]
    }
   ],
   "source": [
    "rainfall = {}\n",
    "\n",
    "while True:\n",
    "    city = input('Enter the name of City: ').strip()\n",
    "    \n",
    "    if city == '':\n",
    "        break\n",
    "\n",
    "    rain = input('Enter mm rain: ').strip()\n",
    "    rain = int(rain)\n",
    "\n",
    "    if city in rainfall:\n",
    "        rainfall[city] += rain\n",
    "    else:\n",
    "        rainfall[city] = rain\n",
    "\n",
    "for key, value in rainfall.items():\n",
    "    print(f'{key}: {value}')"
   ]
  },
  {
   "cell_type": "code",
   "execution_count": 11,
   "id": "b7d4a5b7-f015-460a-8130-a20c305188ec",
   "metadata": {},
   "outputs": [
    {
     "name": "stdin",
     "output_type": "stream",
     "text": [
      "Enter first number:  1\n",
      "Enter operator:  +\n",
      "Enter second number:  2\n"
     ]
    },
    {
     "name": "stdout",
     "output_type": "stream",
     "text": [
      "3\n"
     ]
    }
   ],
   "source": [
    "def calc():\n",
    "    x = input('Enter first number: ').strip()\n",
    "    operator = input('Enter operator: ').strip()\n",
    "    y = input('Enter second number: ').strip()\n",
    "\n",
    "    x = int(x)\n",
    "    y = int(y)\n",
    "    if operator == \"+\":\n",
    "        return x + y\n",
    "    elif operator == \"-\":\n",
    "        return x - y\n",
    "    elif operator == \"*\":\n",
    "        return x * y\n",
    "    \n",
    "    else:\n",
    "        print(\"Invalid Operator\")\n",
    "        \n",
    "print(calc())"
   ]
  },
  {
   "cell_type": "code",
   "execution_count": 14,
   "id": "121f4d52-2d14-4cd6-9348-41cd75c7b08a",
   "metadata": {},
   "outputs": [
    {
     "ename": "TypeError",
     "evalue": "calc() missing 3 required positional arguments: 'x', 'o', and 'y'",
     "output_type": "error",
     "traceback": [
      "\u001b[0;31m---------------------------------------------------------------------------\u001b[0m",
      "\u001b[0;31mTypeError\u001b[0m                                 Traceback (most recent call last)",
      "Cell \u001b[0;32mIn[14], line 11\u001b[0m\n\u001b[1;32m      8\u001b[0m     \u001b[38;5;28;01melse\u001b[39;00m:\n\u001b[1;32m      9\u001b[0m         \u001b[38;5;28mprint\u001b[39m(\u001b[38;5;124m'\u001b[39m\u001b[38;5;124mInvalid Operator\u001b[39m\u001b[38;5;124m'\u001b[39m)\n\u001b[0;32m---> 11\u001b[0m \u001b[38;5;28mprint\u001b[39m(\u001b[43mcalc\u001b[49m\u001b[43m(\u001b[49m\u001b[43m)\u001b[49m)\n",
      "\u001b[0;31mTypeError\u001b[0m: calc() missing 3 required positional arguments: 'x', 'o', and 'y'"
     ]
    }
   ],
   "source": [
    "def calc(x,o,y):\n",
    "    x = int(x)\n",
    "    y = int(y)\n",
    "    if operator == \"+\":\n",
    "        return x + y\n",
    "    elif operator == \"-\":\n",
    "        return x - y\n",
    "    else:\n",
    "        print('Invalid Operator')\n",
    "\n",
    "print(calc())\n"
   ]
  },
  {
   "cell_type": "code",
   "execution_count": null,
   "id": "26780c22-9b14-466d-aa27-653e4f118c39",
   "metadata": {},
   "outputs": [],
   "source": [
    "def add(x, y):\n",
    "    return x + y\n",
    "def sub(x, y):\n",
    "    return x - y\n",
    "\n",
    "value = int(input"
   ]
  }
 ],
 "metadata": {
  "kernelspec": {
   "display_name": "Python 3 (ipykernel)",
   "language": "python",
   "name": "python3"
  },
  "language_info": {
   "codemirror_mode": {
    "name": "ipython",
    "version": 3
   },
   "file_extension": ".py",
   "mimetype": "text/x-python",
   "name": "python",
   "nbconvert_exporter": "python",
   "pygments_lexer": "ipython3",
   "version": "3.10.12"
  }
 },
 "nbformat": 4,
 "nbformat_minor": 5
}
