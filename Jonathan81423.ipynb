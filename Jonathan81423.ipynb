{
 "cells": [
  {
   "cell_type": "code",
   "execution_count": 1,
   "id": "d0a96873-0214-4992-8385-16a35f7e2cc9",
   "metadata": {},
   "outputs": [
    {
     "data": {
      "text/plain": [
       "5"
      ]
     },
     "execution_count": 1,
     "metadata": {},
     "output_type": "execute_result"
    }
   ],
   "source": [
    "2 + 3"
   ]
  },
  {
   "cell_type": "code",
   "execution_count": 2,
   "id": "35cff227-c48f-48e3-ae33-8be089b22a3e",
   "metadata": {},
   "outputs": [
    {
     "name": "stdout",
     "output_type": "stream",
     "text": [
      "Hello\n"
     ]
    }
   ],
   "source": [
    "print('Hello')"
   ]
  },
  {
   "cell_type": "code",
   "execution_count": 3,
   "id": "54842ab9-9a1d-4b19-b989-219df014cfca",
   "metadata": {},
   "outputs": [
    {
     "name": "stdout",
     "output_type": "stream",
     "text": [
      "Hello\n"
     ]
    }
   ],
   "source": [
    "#This is a comment, starting with #\n",
    "#from# to end of the line, Python will ignore it -- this is for people, not Python\n",
    "\n",
    "#I'm calling/executing the function \"print\" __ functions are the verbs of a programming langualge\n",
    "print('Hello')\n"
   ]
  },
  {
   "cell_type": "code",
   "execution_count": 4,
   "id": "423bcd46-c207-4f6c-81b2-0b90d02177db",
   "metadata": {},
   "outputs": [
    {
     "name": "stdout",
     "output_type": "stream",
     "text": [
      "7\n"
     ]
    }
   ],
   "source": [
    "print(2 + 5)"
   ]
  },
  {
   "cell_type": "code",
   "execution_count": 5,
   "id": "ba55759a-2fbb-4a2e-99d7-f8be33a4940c",
   "metadata": {},
   "outputs": [
    {
     "name": "stdout",
     "output_type": "stream",
     "text": [
      "Helloandgoodbye\n"
     ]
    }
   ],
   "source": [
    "print('Hello' + 'and' + 'goodbye')"
   ]
  },
  {
   "cell_type": "code",
   "execution_count": 6,
   "id": "fa07f432-d293-4e6e-9c88-9e2e02855305",
   "metadata": {},
   "outputs": [],
   "source": [
    "x=5\n"
   ]
  },
  {
   "cell_type": "code",
   "execution_count": 7,
   "id": "b32044ad-4540-4af1-94ce-3a0fc72a3339",
   "metadata": {},
   "outputs": [
    {
     "data": {
      "text/plain": [
       "int"
      ]
     },
     "execution_count": 7,
     "metadata": {},
     "output_type": "execute_result"
    }
   ],
   "source": [
    "type(x)\n"
   ]
  },
  {
   "cell_type": "code",
   "execution_count": 8,
   "id": "ce2aef4d-4f70-4451-897b-e0781ef840c4",
   "metadata": {},
   "outputs": [
    {
     "data": {
      "text/plain": [
       "str"
      ]
     },
     "execution_count": 8,
     "metadata": {},
     "output_type": "execute_result"
    }
   ],
   "source": [
    "x = 'hello'\n",
    "type(x)\n"
   ]
  },
  {
   "cell_type": "code",
   "execution_count": 9,
   "id": "53055b9b-6342-4844-8f41-39645270d180",
   "metadata": {},
   "outputs": [
    {
     "ename": "SyntaxError",
     "evalue": "unterminated string literal (detected at line 1) (1756406648.py, line 1)",
     "output_type": "error",
     "traceback": [
      "\u001b[0;36m  Cell \u001b[0;32mIn[9], line 1\u001b[0;36m\u001b[0m\n\u001b[0;31m    print('Hello',' + name + '.'\u001b[0m\n\u001b[0m                               ^\u001b[0m\n\u001b[0;31mSyntaxError\u001b[0m\u001b[0;31m:\u001b[0m unterminated string literal (detected at line 1)\n"
     ]
    }
   ],
   "source": [
    "print('Hello',' + name + '.'"
   ]
  },
  {
   "cell_type": "code",
   "execution_count": 10,
   "id": "4d675547-8915-4a6c-8f36-1a91360b30dd",
   "metadata": {},
   "outputs": [
    {
     "ename": "NameError",
     "evalue": "name 'Jonathan' is not defined",
     "output_type": "error",
     "traceback": [
      "\u001b[0;31m---------------------------------------------------------------------------\u001b[0m",
      "\u001b[0;31mNameError\u001b[0m                                 Traceback (most recent call last)",
      "Cell \u001b[0;32mIn[10], line 1\u001b[0m\n\u001b[0;32m----> 1\u001b[0m name \u001b[38;5;241m=\u001b[39m \u001b[43mJonathan\u001b[49m\n\u001b[1;32m      2\u001b[0m \u001b[38;5;28mprint\u001b[39m(name)\n",
      "\u001b[0;31mNameError\u001b[0m: name 'Jonathan' is not defined"
     ]
    }
   ],
   "source": [
    "name = Jonathan\n",
    "print(name)\n",
    "\n"
   ]
  },
  {
   "cell_type": "code",
   "execution_count": 11,
   "id": "e641fe90-efe5-4f7c-a9ad-c91ef30b0951",
   "metadata": {},
   "outputs": [
    {
     "ename": "NameError",
     "evalue": "name 'Jonathan' is not defined",
     "output_type": "error",
     "traceback": [
      "\u001b[0;31m---------------------------------------------------------------------------\u001b[0m",
      "\u001b[0;31mNameError\u001b[0m                                 Traceback (most recent call last)",
      "Cell \u001b[0;32mIn[11], line 1\u001b[0m\n\u001b[0;32m----> 1\u001b[0m name \u001b[38;5;241m=\u001b[39m \u001b[43mJonathan\u001b[49m\n",
      "\u001b[0;31mNameError\u001b[0m: name 'Jonathan' is not defined"
     ]
    }
   ],
   "source": [
    "name = Jonathan\n"
   ]
  },
  {
   "cell_type": "code",
   "execution_count": 12,
   "id": "256564ff-74b7-4f56-ac04-5e3f91032b22",
   "metadata": {},
   "outputs": [
    {
     "ename": "NameError",
     "evalue": "name 'name' is not defined",
     "output_type": "error",
     "traceback": [
      "\u001b[0;31m---------------------------------------------------------------------------\u001b[0m",
      "\u001b[0;31mNameError\u001b[0m                                 Traceback (most recent call last)",
      "Cell \u001b[0;32mIn[12], line 1\u001b[0m\n\u001b[0;32m----> 1\u001b[0m \u001b[38;5;28mprint\u001b[39m(\u001b[38;5;124m'\u001b[39m\u001b[38;5;124mHello, \u001b[39m\u001b[38;5;124m'\u001b[39m \u001b[38;5;241m+\u001b[39m \u001b[43mname\u001b[49m \u001b[38;5;241m+\u001b[39m \u001b[38;5;124m'\u001b[39m\u001b[38;5;124m nice to meet you.\u001b[39m\u001b[38;5;124m'\u001b[39m)\n",
      "\u001b[0;31mNameError\u001b[0m: name 'name' is not defined"
     ]
    }
   ],
   "source": [
    "print('Hello, ' + name + ' nice to meet you.')\n"
   ]
  },
  {
   "cell_type": "code",
   "execution_count": 13,
   "id": "45ea485c-c0ee-4e2c-85be-f0d143cda7f2",
   "metadata": {},
   "outputs": [],
   "source": [
    "name = str\n"
   ]
  },
  {
   "cell_type": "code",
   "execution_count": 14,
   "id": "45a5e7c2-b27b-4bb3-bd12-49f305b18cb6",
   "metadata": {},
   "outputs": [
    {
     "ename": "NameError",
     "evalue": "name 'Jonathan' is not defined",
     "output_type": "error",
     "traceback": [
      "\u001b[0;31m---------------------------------------------------------------------------\u001b[0m",
      "\u001b[0;31mNameError\u001b[0m                                 Traceback (most recent call last)",
      "Cell \u001b[0;32mIn[14], line 1\u001b[0m\n\u001b[0;32m----> 1\u001b[0m name \u001b[38;5;241m=\u001b[39m \u001b[43mJonathan\u001b[49m\n",
      "\u001b[0;31mNameError\u001b[0m: name 'Jonathan' is not defined"
     ]
    }
   ],
   "source": [
    "name = Jonathan\n"
   ]
  },
  {
   "cell_type": "code",
   "execution_count": 15,
   "id": "cda27c22-26ce-47d3-9198-7e369f65dcca",
   "metadata": {},
   "outputs": [
    {
     "ename": "NameError",
     "evalue": "name 'Jonathan' is not defined",
     "output_type": "error",
     "traceback": [
      "\u001b[0;31m---------------------------------------------------------------------------\u001b[0m",
      "\u001b[0;31mNameError\u001b[0m                                 Traceback (most recent call last)",
      "Cell \u001b[0;32mIn[15], line 1\u001b[0m\n\u001b[0;32m----> 1\u001b[0m x \u001b[38;5;241m=\u001b[39m \u001b[43mJonathan\u001b[49m\n",
      "\u001b[0;31mNameError\u001b[0m: name 'Jonathan' is not defined"
     ]
    }
   ],
   "source": [
    "x = Jonathan\n"
   ]
  },
  {
   "cell_type": "code",
   "execution_count": 16,
   "id": "d246f339-1f2c-4057-ac52-fdd1ac1dc02e",
   "metadata": {},
   "outputs": [
    {
     "data": {
      "text/plain": [
       "type"
      ]
     },
     "execution_count": 16,
     "metadata": {},
     "output_type": "execute_result"
    }
   ],
   "source": [
    "type(name)\n"
   ]
  },
  {
   "cell_type": "code",
   "execution_count": 17,
   "id": "a221f254-f561-4fd7-830e-17fa63939c1d",
   "metadata": {},
   "outputs": [
    {
     "name": "stdout",
     "output_type": "stream",
     "text": [
      "Hello, Jonathannice to meet you!\n"
     ]
    }
   ],
   "source": [
    "name = 'Jonathan'\n",
    "print('Hello, ' + name + 'nice to meet you!')"
   ]
  },
  {
   "cell_type": "code",
   "execution_count": 18,
   "id": "c90731ec-5034-48fb-a5ed-2a6200e90b0d",
   "metadata": {},
   "outputs": [
    {
     "name": "stdin",
     "output_type": "stream",
     "text": [
      "Enter your name:  Jonathan\n"
     ]
    }
   ],
   "source": [
    "name = input('Enter your name: ')"
   ]
  },
  {
   "cell_type": "code",
   "execution_count": 20,
   "id": "36066f99-f189-48c0-8209-dc46bfd865bc",
   "metadata": {},
   "outputs": [
    {
     "name": "stdout",
     "output_type": "stream",
     "text": [
      "Hello, Jonathan welcome to python training!\n"
     ]
    }
   ],
   "source": [
    "print('Hello, ' + name + ' welcome to python training!')"
   ]
  },
  {
   "cell_type": "code",
   "execution_count": 21,
   "id": "c2d040d6-8226-4d8c-806c-09dca564de62",
   "metadata": {},
   "outputs": [
    {
     "data": {
      "text/plain": [
       "True"
      ]
     },
     "execution_count": 21,
     "metadata": {},
     "output_type": "execute_result"
    }
   ],
   "source": [
    "x = 10\n",
    "y = 10\n",
    "x == y"
   ]
  },
  {
   "cell_type": "code",
   "execution_count": 22,
   "id": "c09c155c-0bab-4877-adbc-f065a80e35bd",
   "metadata": {},
   "outputs": [
    {
     "name": "stdin",
     "output_type": "stream",
     "text": [
      "Enter your name:  Jonathan\n"
     ]
    },
    {
     "name": "stdout",
     "output_type": "stream",
     "text": [
      "Hello, Chief!\n",
      "Training proceeding well\n"
     ]
    }
   ],
   "source": [
    "name = input('Enter your name: ')\n",
    "\n",
    "if name == 'Jonathan':\n",
    "    print('Hello, Chief!')\n",
    "    print('Training proceeding well')\n",
    "else:\n",
    "    print ('Hello, ' + name + '!')\n",
    "    print ('Would you like to begin training?')\n",
    "\n",
    "\n"
   ]
  },
  {
   "cell_type": "code",
   "execution_count": 23,
   "id": "50c1b328-f462-4bfe-bb05-6222bbf1cb65",
   "metadata": {},
   "outputs": [
    {
     "name": "stdin",
     "output_type": "stream",
     "text": [
      "Enter your name:  mya\n"
     ]
    },
    {
     "name": "stdout",
     "output_type": "stream",
     "text": [
      "Get ta stepping!\n",
      "hahaha\n"
     ]
    }
   ],
   "source": [
    "name = input('Enter your name: ')\n",
    "\n",
    "if name == 'Jon':\n",
    "    print('What up doe!')\n",
    "    print('Whats good?')\n",
    "else:\n",
    "    print('Get ta stepping!')\n",
    "    print('hahaha')\n",
    "    "
   ]
  },
  {
   "cell_type": "code",
   "execution_count": 25,
   "id": "4b381cb3-a7f3-4d50-a3a6-e290a35991b9",
   "metadata": {},
   "outputs": [
    {
     "name": "stdin",
     "output_type": "stream",
     "text": [
      "Enter your name:  Jaivyn\n",
      "Would you like to register? yes\n"
     ]
    },
    {
     "name": "stdout",
     "output_type": "stream",
     "text": [
      "Get ta stepping!\n",
      "hahaha\n",
      "yes\n"
     ]
    }
   ],
   "source": [
    "name = input('Enter your name: ')\n",
    "register = input('Would you like to register?')\n",
    "\n",
    "if name == 'Jon':\n",
    "    print('What up doe!')\n",
    "    print('Whats good?')\n",
    "else:\n",
    "    print('Get ta stepping!')\n",
    "    print('hahaha')\n",
    "    print(register)\n"
   ]
  },
  {
   "cell_type": "code",
   "execution_count": null,
   "id": "7c781d87-3065-4405-88a9-0d2d836a817a",
   "metadata": {},
   "outputs": [],
   "source": [
    "x = 10\n",
    "y = 20\n",
    "\n",
    "x==10\n"
   ]
  },
  {
   "cell_type": "code",
   "execution_count": 26,
   "id": "2ba9756c-069e-43aa-89a7-e5499aa87616",
   "metadata": {},
   "outputs": [
    {
     "data": {
      "text/plain": [
       "True"
      ]
     },
     "execution_count": 26,
     "metadata": {},
     "output_type": "execute_result"
    }
   ],
   "source": [
    "x == 10 and y == 10\n"
   ]
  },
  {
   "cell_type": "code",
   "execution_count": 27,
   "id": "ec121437-f711-4d35-a9d6-d3ea912e9bb9",
   "metadata": {},
   "outputs": [
    {
     "name": "stdout",
     "output_type": "stream",
     "text": [
      "one of them is what you wanted.\n"
     ]
    }
   ],
   "source": [
    "if x == 10 or y == 555:\n",
    "    print('one of them is what you wanted.')"
   ]
  },
  {
   "cell_type": "code",
   "execution_count": 28,
   "id": "4ea51c58-e3eb-4765-85a1-f7c49e1c8b21",
   "metadata": {},
   "outputs": [
    {
     "name": "stdout",
     "output_type": "stream",
     "text": [
      "its what I want\n"
     ]
    }
   ],
   "source": [
    "if (x == 10 or\n",
    "    y == 555):\n",
    "    print ('its what I want')\n",
    "    "
   ]
  },
  {
   "cell_type": "code",
   "execution_count": 29,
   "id": "e818e4a0-45ff-472b-8c88-dd49faa277a1",
   "metadata": {},
   "outputs": [
    {
     "name": "stdout",
     "output_type": "stream",
     "text": [
      "It is 20!\n"
     ]
    }
   ],
   "source": [
    "x = 10\n",
    "\n",
    "if x == 30:\n",
    "    print('It is 30!')\n",
    "elif x == 20:\n",
    "    print('It is 20!')\n",
    "elif x == 10:\n",
    "    print('It is 20!')\n",
    "else:\n",
    "    print('I have no idea what its value is.')"
   ]
  },
  {
   "cell_type": "code",
   "execution_count": 33,
   "id": "b979cebb-240f-47fa-936e-66ab40e39821",
   "metadata": {},
   "outputs": [
    {
     "name": "stdin",
     "output_type": "stream",
     "text": [
      "Enter your name:  Art\n",
      "Enter your company name:  Dell\n"
     ]
    },
    {
     "name": "stdout",
     "output_type": "stream",
     "text": [
      "Nobodys perfect..haha\n"
     ]
    }
   ],
   "source": [
    "name = input('Enter your name: ')\n",
    "company = input('Enter your company name: ')\n",
    "\n",
    "if (name == 'Jonathan' and\n",
    "    company == 'Cisco'):\n",
    "    print ('Its great to be me!')\n",
    "elif (name == 'Jonathan' and \n",
    "      company != 'Cisco'):\n",
    "    print('Awesome name, mediocre company haha')\n",
    "elif (name != 'Jonathan' and\n",
    "      company == 'Cisco'):\n",
    "    print('Company rocks, name could use some work!')\n",
    "else:\n",
    "    print('Nobodys perfect..haha')"
   ]
  },
  {
   "cell_type": "code",
   "execution_count": 35,
   "id": "22111831-ff83-4e0c-adeb-e86292c412ef",
   "metadata": {},
   "outputs": [
    {
     "data": {
      "text/plain": [
       "'abcdefgh'"
      ]
     },
     "execution_count": 35,
     "metadata": {},
     "output_type": "execute_result"
    }
   ],
   "source": [
    "x = 'abcd'\n",
    "y = 'efgh'\n",
    "\n",
    "x + y\n"
   ]
  },
  {
   "cell_type": "code",
   "execution_count": 36,
   "id": "9345f4d8-c180-48d6-a293-9377183f326d",
   "metadata": {},
   "outputs": [
    {
     "data": {
      "text/plain": [
       "30"
      ]
     },
     "execution_count": 36,
     "metadata": {},
     "output_type": "execute_result"
    }
   ],
   "source": [
    "x = 10\n",
    "y = '20'\n",
    "\n",
    "x + int(y)\n"
   ]
  },
  {
   "cell_type": "code",
   "execution_count": 37,
   "id": "2051ba79-9d91-4737-85fe-3dbe6e60954f",
   "metadata": {},
   "outputs": [
    {
     "data": {
      "text/plain": [
       "30"
      ]
     },
     "execution_count": 37,
     "metadata": {},
     "output_type": "execute_result"
    }
   ],
   "source": [
    "y = int(y)\n",
    "x + y"
   ]
  },
  {
   "cell_type": "code",
   "execution_count": 38,
   "id": "7d19b073-b7c4-4c8d-9861-df41f558470c",
   "metadata": {},
   "outputs": [],
   "source": [
    "import random\n"
   ]
  },
  {
   "cell_type": "code",
   "execution_count": null,
   "id": "c2c3ef80-c34c-448b-873a-9112a6d591d9",
   "metadata": {},
   "outputs": [],
   "source": [
    "number = random.randint(0,100)\n",
    "numberguess = input('Guess a number between 0"
   ]
  }
 ],
 "metadata": {
  "kernelspec": {
   "display_name": "Python 3 (ipykernel)",
   "language": "python",
   "name": "python3"
  },
  "language_info": {
   "codemirror_mode": {
    "name": "ipython",
    "version": 3
   },
   "file_extension": ".py",
   "mimetype": "text/x-python",
   "name": "python",
   "nbconvert_exporter": "python",
   "pygments_lexer": "ipython3",
   "version": "3.10.12"
  }
 },
 "nbformat": 4,
 "nbformat_minor": 5
}
