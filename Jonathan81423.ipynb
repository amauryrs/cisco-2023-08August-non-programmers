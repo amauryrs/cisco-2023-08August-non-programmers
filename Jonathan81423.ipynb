{
 "cells": [
  {
   "cell_type": "code",
   "execution_count": 1,
   "id": "d0a96873-0214-4992-8385-16a35f7e2cc9",
   "metadata": {},
   "outputs": [
    {
     "data": {
      "text/plain": [
       "5"
      ]
     },
     "execution_count": 1,
     "metadata": {},
     "output_type": "execute_result"
    }
   ],
   "source": [
    "2 + 3"
   ]
  },
  {
   "cell_type": "code",
   "execution_count": 2,
   "id": "35cff227-c48f-48e3-ae33-8be089b22a3e",
   "metadata": {},
   "outputs": [
    {
     "name": "stdout",
     "output_type": "stream",
     "text": [
      "Hello\n"
     ]
    }
   ],
   "source": [
    "print('Hello')"
   ]
  },
  {
   "cell_type": "code",
   "execution_count": 3,
   "id": "54842ab9-9a1d-4b19-b989-219df014cfca",
   "metadata": {},
   "outputs": [
    {
     "name": "stdout",
     "output_type": "stream",
     "text": [
      "Hello\n"
     ]
    }
   ],
   "source": [
    "#This is a comment, starting with #\n",
    "#from# to end of the line, Python will ignore it -- this is for people, not Python\n",
    "\n",
    "#I'm calling/executing the function \"print\" __ functions are the verbs of a programming langualge\n",
    "print('Hello')\n"
   ]
  },
  {
   "cell_type": "code",
   "execution_count": 4,
   "id": "423bcd46-c207-4f6c-81b2-0b90d02177db",
   "metadata": {},
   "outputs": [
    {
     "name": "stdout",
     "output_type": "stream",
     "text": [
      "7\n"
     ]
    }
   ],
   "source": [
    "print(2 + 5)"
   ]
  },
  {
   "cell_type": "code",
   "execution_count": 5,
   "id": "ba55759a-2fbb-4a2e-99d7-f8be33a4940c",
   "metadata": {},
   "outputs": [
    {
     "name": "stdout",
     "output_type": "stream",
     "text": [
      "Helloandgoodbye\n"
     ]
    }
   ],
   "source": [
    "print('Hello' + 'and' + 'goodbye')"
   ]
  },
  {
   "cell_type": "code",
   "execution_count": 6,
   "id": "fa07f432-d293-4e6e-9c88-9e2e02855305",
   "metadata": {},
   "outputs": [],
   "source": [
    "x=5\n"
   ]
  },
  {
   "cell_type": "code",
   "execution_count": 7,
   "id": "b32044ad-4540-4af1-94ce-3a0fc72a3339",
   "metadata": {},
   "outputs": [
    {
     "data": {
      "text/plain": [
       "int"
      ]
     },
     "execution_count": 7,
     "metadata": {},
     "output_type": "execute_result"
    }
   ],
   "source": [
    "type(x)\n"
   ]
  },
  {
   "cell_type": "code",
   "execution_count": 8,
   "id": "ce2aef4d-4f70-4451-897b-e0781ef840c4",
   "metadata": {},
   "outputs": [
    {
     "data": {
      "text/plain": [
       "str"
      ]
     },
     "execution_count": 8,
     "metadata": {},
     "output_type": "execute_result"
    }
   ],
   "source": [
    "x = 'hello'\n",
    "type(x)\n"
   ]
  },
  {
   "cell_type": "code",
   "execution_count": 9,
   "id": "53055b9b-6342-4844-8f41-39645270d180",
   "metadata": {},
   "outputs": [
    {
     "ename": "SyntaxError",
     "evalue": "unterminated string literal (detected at line 1) (1756406648.py, line 1)",
     "output_type": "error",
     "traceback": [
      "\u001b[0;36m  Cell \u001b[0;32mIn[9], line 1\u001b[0;36m\u001b[0m\n\u001b[0;31m    print('Hello',' + name + '.'\u001b[0m\n\u001b[0m                               ^\u001b[0m\n\u001b[0;31mSyntaxError\u001b[0m\u001b[0;31m:\u001b[0m unterminated string literal (detected at line 1)\n"
     ]
    }
   ],
   "source": [
    "print('Hello',' + name + '.'"
   ]
  },
  {
   "cell_type": "code",
   "execution_count": 10,
   "id": "4d675547-8915-4a6c-8f36-1a91360b30dd",
   "metadata": {},
   "outputs": [
    {
     "ename": "NameError",
     "evalue": "name 'Jonathan' is not defined",
     "output_type": "error",
     "traceback": [
      "\u001b[0;31m---------------------------------------------------------------------------\u001b[0m",
      "\u001b[0;31mNameError\u001b[0m                                 Traceback (most recent call last)",
      "Cell \u001b[0;32mIn[10], line 1\u001b[0m\n\u001b[0;32m----> 1\u001b[0m name \u001b[38;5;241m=\u001b[39m \u001b[43mJonathan\u001b[49m\n\u001b[1;32m      2\u001b[0m \u001b[38;5;28mprint\u001b[39m(name)\n",
      "\u001b[0;31mNameError\u001b[0m: name 'Jonathan' is not defined"
     ]
    }
   ],
   "source": [
    "name = Jonathan\n",
    "print(name)\n",
    "\n"
   ]
  },
  {
   "cell_type": "code",
   "execution_count": 11,
   "id": "e641fe90-efe5-4f7c-a9ad-c91ef30b0951",
   "metadata": {},
   "outputs": [
    {
     "ename": "NameError",
     "evalue": "name 'Jonathan' is not defined",
     "output_type": "error",
     "traceback": [
      "\u001b[0;31m---------------------------------------------------------------------------\u001b[0m",
      "\u001b[0;31mNameError\u001b[0m                                 Traceback (most recent call last)",
      "Cell \u001b[0;32mIn[11], line 1\u001b[0m\n\u001b[0;32m----> 1\u001b[0m name \u001b[38;5;241m=\u001b[39m \u001b[43mJonathan\u001b[49m\n",
      "\u001b[0;31mNameError\u001b[0m: name 'Jonathan' is not defined"
     ]
    }
   ],
   "source": [
    "name = Jonathan\n"
   ]
  },
  {
   "cell_type": "code",
   "execution_count": 12,
   "id": "256564ff-74b7-4f56-ac04-5e3f91032b22",
   "metadata": {},
   "outputs": [
    {
     "ename": "NameError",
     "evalue": "name 'name' is not defined",
     "output_type": "error",
     "traceback": [
      "\u001b[0;31m---------------------------------------------------------------------------\u001b[0m",
      "\u001b[0;31mNameError\u001b[0m                                 Traceback (most recent call last)",
      "Cell \u001b[0;32mIn[12], line 1\u001b[0m\n\u001b[0;32m----> 1\u001b[0m \u001b[38;5;28mprint\u001b[39m(\u001b[38;5;124m'\u001b[39m\u001b[38;5;124mHello, \u001b[39m\u001b[38;5;124m'\u001b[39m \u001b[38;5;241m+\u001b[39m \u001b[43mname\u001b[49m \u001b[38;5;241m+\u001b[39m \u001b[38;5;124m'\u001b[39m\u001b[38;5;124m nice to meet you.\u001b[39m\u001b[38;5;124m'\u001b[39m)\n",
      "\u001b[0;31mNameError\u001b[0m: name 'name' is not defined"
     ]
    }
   ],
   "source": [
    "print('Hello, ' + name + ' nice to meet you.')\n"
   ]
  },
  {
   "cell_type": "code",
   "execution_count": 13,
   "id": "45ea485c-c0ee-4e2c-85be-f0d143cda7f2",
   "metadata": {},
   "outputs": [],
   "source": [
    "name = str\n"
   ]
  },
  {
   "cell_type": "code",
   "execution_count": 14,
   "id": "45a5e7c2-b27b-4bb3-bd12-49f305b18cb6",
   "metadata": {},
   "outputs": [
    {
     "ename": "NameError",
     "evalue": "name 'Jonathan' is not defined",
     "output_type": "error",
     "traceback": [
      "\u001b[0;31m---------------------------------------------------------------------------\u001b[0m",
      "\u001b[0;31mNameError\u001b[0m                                 Traceback (most recent call last)",
      "Cell \u001b[0;32mIn[14], line 1\u001b[0m\n\u001b[0;32m----> 1\u001b[0m name \u001b[38;5;241m=\u001b[39m \u001b[43mJonathan\u001b[49m\n",
      "\u001b[0;31mNameError\u001b[0m: name 'Jonathan' is not defined"
     ]
    }
   ],
   "source": [
    "name = Jonathan\n"
   ]
  },
  {
   "cell_type": "code",
   "execution_count": 15,
   "id": "cda27c22-26ce-47d3-9198-7e369f65dcca",
   "metadata": {},
   "outputs": [
    {
     "ename": "NameError",
     "evalue": "name 'Jonathan' is not defined",
     "output_type": "error",
     "traceback": [
      "\u001b[0;31m---------------------------------------------------------------------------\u001b[0m",
      "\u001b[0;31mNameError\u001b[0m                                 Traceback (most recent call last)",
      "Cell \u001b[0;32mIn[15], line 1\u001b[0m\n\u001b[0;32m----> 1\u001b[0m x \u001b[38;5;241m=\u001b[39m \u001b[43mJonathan\u001b[49m\n",
      "\u001b[0;31mNameError\u001b[0m: name 'Jonathan' is not defined"
     ]
    }
   ],
   "source": [
    "x = Jonathan\n"
   ]
  },
  {
   "cell_type": "code",
   "execution_count": 16,
   "id": "d246f339-1f2c-4057-ac52-fdd1ac1dc02e",
   "metadata": {},
   "outputs": [
    {
     "data": {
      "text/plain": [
       "type"
      ]
     },
     "execution_count": 16,
     "metadata": {},
     "output_type": "execute_result"
    }
   ],
   "source": [
    "type(name)\n"
   ]
  },
  {
   "cell_type": "code",
   "execution_count": 17,
   "id": "a221f254-f561-4fd7-830e-17fa63939c1d",
   "metadata": {},
   "outputs": [
    {
     "name": "stdout",
     "output_type": "stream",
     "text": [
      "Hello, Jonathannice to meet you!\n"
     ]
    }
   ],
   "source": [
    "name = 'Jonathan'\n",
    "print('Hello, ' + name + 'nice to meet you!')"
   ]
  },
  {
   "cell_type": "code",
   "execution_count": 18,
   "id": "c90731ec-5034-48fb-a5ed-2a6200e90b0d",
   "metadata": {},
   "outputs": [
    {
     "name": "stdin",
     "output_type": "stream",
     "text": [
      "Enter your name:  Jonathan\n"
     ]
    }
   ],
   "source": [
    "name = input('Enter your name: ')"
   ]
  },
  {
   "cell_type": "code",
   "execution_count": 20,
   "id": "36066f99-f189-48c0-8209-dc46bfd865bc",
   "metadata": {},
   "outputs": [
    {
     "name": "stdout",
     "output_type": "stream",
     "text": [
      "Hello, Jonathan welcome to python training!\n"
     ]
    }
   ],
   "source": [
    "print('Hello, ' + name + ' welcome to python training!')"
   ]
  },
  {
   "cell_type": "code",
   "execution_count": 21,
   "id": "c2d040d6-8226-4d8c-806c-09dca564de62",
   "metadata": {},
   "outputs": [
    {
     "data": {
      "text/plain": [
       "True"
      ]
     },
     "execution_count": 21,
     "metadata": {},
     "output_type": "execute_result"
    }
   ],
   "source": [
    "x = 10\n",
    "y = 10\n",
    "x == y"
   ]
  },
  {
   "cell_type": "code",
   "execution_count": 22,
   "id": "c09c155c-0bab-4877-adbc-f065a80e35bd",
   "metadata": {},
   "outputs": [
    {
     "name": "stdin",
     "output_type": "stream",
     "text": [
      "Enter your name:  Jonathan\n"
     ]
    },
    {
     "name": "stdout",
     "output_type": "stream",
     "text": [
      "Hello, Chief!\n",
      "Training proceeding well\n"
     ]
    }
   ],
   "source": [
    "name = input('Enter your name: ')\n",
    "\n",
    "if name == 'Jonathan':\n",
    "    print('Hello, Chief!')\n",
    "    print('Training proceeding well')\n",
    "else:\n",
    "    print ('Hello, ' + name + '!')\n",
    "    print ('Would you like to begin training?')\n",
    "\n",
    "\n"
   ]
  },
  {
   "cell_type": "code",
   "execution_count": 23,
   "id": "50c1b328-f462-4bfe-bb05-6222bbf1cb65",
   "metadata": {},
   "outputs": [
    {
     "name": "stdin",
     "output_type": "stream",
     "text": [
      "Enter your name:  mya\n"
     ]
    },
    {
     "name": "stdout",
     "output_type": "stream",
     "text": [
      "Get ta stepping!\n",
      "hahaha\n"
     ]
    }
   ],
   "source": [
    "name = input('Enter your name: ')\n",
    "\n",
    "if name == 'Jon':\n",
    "    print('What up doe!')\n",
    "    print('Whats good?')\n",
    "else:\n",
    "    print('Get ta stepping!')\n",
    "    print('hahaha')\n",
    "    "
   ]
  },
  {
   "cell_type": "code",
   "execution_count": 25,
   "id": "4b381cb3-a7f3-4d50-a3a6-e290a35991b9",
   "metadata": {},
   "outputs": [
    {
     "name": "stdin",
     "output_type": "stream",
     "text": [
      "Enter your name:  Jaivyn\n",
      "Would you like to register? yes\n"
     ]
    },
    {
     "name": "stdout",
     "output_type": "stream",
     "text": [
      "Get ta stepping!\n",
      "hahaha\n",
      "yes\n"
     ]
    }
   ],
   "source": [
    "name = input('Enter your name: ')\n",
    "register = input('Would you like to register?')\n",
    "\n",
    "if name == 'Jon':\n",
    "    print('What up doe!')\n",
    "    print('Whats good?')\n",
    "else:\n",
    "    print('Get ta stepping!')\n",
    "    print('hahaha')\n",
    "    print(register)\n"
   ]
  },
  {
   "cell_type": "code",
   "execution_count": null,
   "id": "7c781d87-3065-4405-88a9-0d2d836a817a",
   "metadata": {},
   "outputs": [],
   "source": [
    "x = 10\n",
    "y = 20\n",
    "\n",
    "x==10\n"
   ]
  },
  {
   "cell_type": "code",
   "execution_count": 26,
   "id": "2ba9756c-069e-43aa-89a7-e5499aa87616",
   "metadata": {},
   "outputs": [
    {
     "data": {
      "text/plain": [
       "True"
      ]
     },
     "execution_count": 26,
     "metadata": {},
     "output_type": "execute_result"
    }
   ],
   "source": [
    "x == 10 and y == 10\n"
   ]
  },
  {
   "cell_type": "code",
   "execution_count": 27,
   "id": "ec121437-f711-4d35-a9d6-d3ea912e9bb9",
   "metadata": {},
   "outputs": [
    {
     "name": "stdout",
     "output_type": "stream",
     "text": [
      "one of them is what you wanted.\n"
     ]
    }
   ],
   "source": [
    "if x == 10 or y == 555:\n",
    "    print('one of them is what you wanted.')"
   ]
  },
  {
   "cell_type": "code",
   "execution_count": 28,
   "id": "4ea51c58-e3eb-4765-85a1-f7c49e1c8b21",
   "metadata": {},
   "outputs": [
    {
     "name": "stdout",
     "output_type": "stream",
     "text": [
      "its what I want\n"
     ]
    }
   ],
   "source": [
    "if (x == 10 or\n",
    "    y == 555):\n",
    "    print ('its what I want')\n",
    "    "
   ]
  },
  {
   "cell_type": "code",
   "execution_count": 29,
   "id": "e818e4a0-45ff-472b-8c88-dd49faa277a1",
   "metadata": {},
   "outputs": [
    {
     "name": "stdout",
     "output_type": "stream",
     "text": [
      "It is 20!\n"
     ]
    }
   ],
   "source": [
    "x = 10\n",
    "\n",
    "if x == 30:\n",
    "    print('It is 30!')\n",
    "elif x == 20:\n",
    "    print('It is 20!')\n",
    "elif x == 10:\n",
    "    print('It is 20!')\n",
    "else:\n",
    "    print('I have no idea what its value is.')"
   ]
  },
  {
   "cell_type": "code",
   "execution_count": 33,
   "id": "b979cebb-240f-47fa-936e-66ab40e39821",
   "metadata": {},
   "outputs": [
    {
     "name": "stdin",
     "output_type": "stream",
     "text": [
      "Enter your name:  Art\n",
      "Enter your company name:  Dell\n"
     ]
    },
    {
     "name": "stdout",
     "output_type": "stream",
     "text": [
      "Nobodys perfect..haha\n"
     ]
    }
   ],
   "source": [
    "name = input('Enter your name: ')\n",
    "company = input('Enter your company name: ')\n",
    "\n",
    "if (name == 'Jonathan' and\n",
    "    company == 'Cisco'):\n",
    "    print ('Its great to be me!')\n",
    "elif (name == 'Jonathan' and \n",
    "      company != 'Cisco'):\n",
    "    print('Awesome name, mediocre company haha')\n",
    "elif (name != 'Jonathan' and\n",
    "      company == 'Cisco'):\n",
    "    print('Company rocks, name could use some work!')\n",
    "else:\n",
    "    print('Nobodys perfect..haha')"
   ]
  },
  {
   "cell_type": "code",
   "execution_count": 35,
   "id": "22111831-ff83-4e0c-adeb-e86292c412ef",
   "metadata": {},
   "outputs": [
    {
     "data": {
      "text/plain": [
       "'abcdefgh'"
      ]
     },
     "execution_count": 35,
     "metadata": {},
     "output_type": "execute_result"
    }
   ],
   "source": [
    "x = 'abcd'\n",
    "y = 'efgh'\n",
    "\n",
    "x + y\n"
   ]
  },
  {
   "cell_type": "code",
   "execution_count": 36,
   "id": "9345f4d8-c180-48d6-a293-9377183f326d",
   "metadata": {},
   "outputs": [
    {
     "data": {
      "text/plain": [
       "30"
      ]
     },
     "execution_count": 36,
     "metadata": {},
     "output_type": "execute_result"
    }
   ],
   "source": [
    "x = 10\n",
    "y = '20'\n",
    "\n",
    "x + int(y)\n"
   ]
  },
  {
   "cell_type": "code",
   "execution_count": 37,
   "id": "2051ba79-9d91-4737-85fe-3dbe6e60954f",
   "metadata": {},
   "outputs": [
    {
     "data": {
      "text/plain": [
       "30"
      ]
     },
     "execution_count": 37,
     "metadata": {},
     "output_type": "execute_result"
    }
   ],
   "source": [
    "y = int(y)\n",
    "x + y"
   ]
  },
  {
   "cell_type": "code",
   "execution_count": 38,
   "id": "7d19b073-b7c4-4c8d-9861-df41f558470c",
   "metadata": {},
   "outputs": [],
   "source": [
    "import random\n"
   ]
  },
  {
   "cell_type": "code",
   "execution_count": 44,
   "id": "c2c3ef80-c34c-448b-873a-9112a6d591d9",
   "metadata": {},
   "outputs": [
    {
     "name": "stdin",
     "output_type": "stream",
     "text": [
      "Guess a number between 0 and 100! 78\n"
     ]
    },
    {
     "name": "stdout",
     "output_type": "stream",
     "text": [
      "55\n",
      "Too high!\n"
     ]
    }
   ],
   "source": [
    "number = random.randint(0,100)\n",
    "numberguess = input('Guess a number between 0 and 100!')\n",
    "print(number)\n",
    "\n",
    "if (int(numberguess) == number):\n",
    "    print('You got it')\n",
    "elif(int(numberguess) > number):\n",
    "     print('Too high!')\n",
    "elif(int(numberguess) < number):\n",
    "     print('Too low!')\n",
    "else:\n",
    "     print('Thanks for playing!')\n",
    "     "
   ]
  },
  {
   "cell_type": "code",
   "execution_count": 45,
   "id": "ecb38674-52f5-408a-8647-3b41f850cc85",
   "metadata": {},
   "outputs": [
    {
     "data": {
      "text/plain": [
       "0.30000000000000004"
      ]
     },
     "execution_count": 45,
     "metadata": {},
     "output_type": "execute_result"
    }
   ],
   "source": [
    "0.1 + 0.2\n"
   ]
  },
  {
   "cell_type": "code",
   "execution_count": 47,
   "id": "47c0e82b-28f5-4f7e-9f5b-dd103e40e865",
   "metadata": {},
   "outputs": [
    {
     "name": "stdout",
     "output_type": "stream",
     "text": [
      "He's very nice\n"
     ]
    }
   ],
   "source": [
    "s = 'He\\'s very nice'\n",
    "print(s)\n",
    "\n"
   ]
  },
  {
   "cell_type": "code",
   "execution_count": 48,
   "id": "02e5d5d9-8791-4a93-8392-4f541723a8a0",
   "metadata": {},
   "outputs": [
    {
     "data": {
      "text/plain": [
       "5"
      ]
     },
     "execution_count": 48,
     "metadata": {},
     "output_type": "execute_result"
    }
   ],
   "source": [
    "s = '78890'\n",
    "len(s)\n"
   ]
  },
  {
   "cell_type": "code",
   "execution_count": 49,
   "id": "4d93ecc3-3442-407e-a500-814e30c099e9",
   "metadata": {},
   "outputs": [
    {
     "data": {
      "text/plain": [
       "'9'"
      ]
     },
     "execution_count": 49,
     "metadata": {},
     "output_type": "execute_result"
    }
   ],
   "source": [
    "s[3]"
   ]
  },
  {
   "cell_type": "code",
   "execution_count": 50,
   "id": "306069fe-7d18-404d-be20-d721a7e76e80",
   "metadata": {},
   "outputs": [
    {
     "data": {
      "text/plain": [
       "'9'"
      ]
     },
     "execution_count": 50,
     "metadata": {},
     "output_type": "execute_result"
    }
   ],
   "source": [
    "s[-2]\n"
   ]
  },
  {
   "cell_type": "code",
   "execution_count": 51,
   "id": "b96f6e14-4740-43e5-a846-71d93539f110",
   "metadata": {},
   "outputs": [
    {
     "data": {
      "text/plain": [
       "'889'"
      ]
     },
     "execution_count": 51,
     "metadata": {},
     "output_type": "execute_result"
    }
   ],
   "source": [
    "s[1:4]"
   ]
  },
  {
   "cell_type": "code",
   "execution_count": 52,
   "id": "3e694948-2275-4ea3-af60-b814b696a957",
   "metadata": {},
   "outputs": [
    {
     "data": {
      "text/plain": [
       "'78890'"
      ]
     },
     "execution_count": 52,
     "metadata": {},
     "output_type": "execute_result"
    }
   ],
   "source": [
    "s[:5]\n"
   ]
  },
  {
   "cell_type": "code",
   "execution_count": 53,
   "id": "f68edeb0-6f7e-4688-bdcc-6d402e05ea59",
   "metadata": {},
   "outputs": [
    {
     "data": {
      "text/plain": [
       "True"
      ]
     },
     "execution_count": 53,
     "metadata": {},
     "output_type": "execute_result"
    }
   ],
   "source": [
    "'8' in s"
   ]
  },
  {
   "cell_type": "code",
   "execution_count": 54,
   "id": "5460cd87-a026-4b08-9716-60d21c7db464",
   "metadata": {},
   "outputs": [
    {
     "data": {
      "text/plain": [
       "True"
      ]
     },
     "execution_count": 54,
     "metadata": {},
     "output_type": "execute_result"
    }
   ],
   "source": [
    "'889' in s\n"
   ]
  },
  {
   "cell_type": "code",
   "execution_count": 55,
   "id": "e16698e7-61f5-4dbe-ae62-b849ad3e19e5",
   "metadata": {},
   "outputs": [],
   "source": [
    "s = '78\\n890'\n"
   ]
  },
  {
   "cell_type": "code",
   "execution_count": 56,
   "id": "45ace8f3-51de-45af-b05b-e074a94e56e7",
   "metadata": {},
   "outputs": [],
   "source": [
    "s = 'He\\'s nice, but'"
   ]
  },
  {
   "cell_type": "code",
   "execution_count": 57,
   "id": "8a8826b8-3557-485f-8557-5e8a6f3cbb9d",
   "metadata": {},
   "outputs": [],
   "source": [
    "s = 'He nice\\nbut'\n"
   ]
  },
  {
   "cell_type": "code",
   "execution_count": 58,
   "id": "eae51a0a-8c8b-4de4-bb8f-f09ab972ab00",
   "metadata": {},
   "outputs": [
    {
     "data": {
      "text/plain": [
       "'1234'"
      ]
     },
     "execution_count": 58,
     "metadata": {},
     "output_type": "execute_result"
    }
   ],
   "source": [
    "str(1234)\n"
   ]
  },
  {
   "cell_type": "code",
   "execution_count": 60,
   "id": "066e061b-2729-4f1a-b4f4-4ef33899613d",
   "metadata": {},
   "outputs": [
    {
     "data": {
      "text/plain": [
       "'x = 100, y = 234, x+y = 334'"
      ]
     },
     "execution_count": 60,
     "metadata": {},
     "output_type": "execute_result"
    }
   ],
   "source": [
    "x = 100\n",
    "y = 234\n",
    "f'x = {x}, y = {y}, x+y = {x+y}'\n",
    "\n"
   ]
  },
  {
   "cell_type": "code",
   "execution_count": null,
   "id": "7ca97869-b67f-4bc9-97f0-3767a5824266",
   "metadata": {},
   "outputs": [],
   "source": [
    "English = input('Enter an all lowercase english word: ')\n",
    "\n",
    "vowels = \n",
    "\n",
    "if (english[0] == 'a' or\n",
    "    english[0] == 'e' or\n",
    "    english[0] == 'i' or\n",
    "    english[0] == 'o' or\n",
    "    english[0] == 'u'):\n",
    "    print(english + 'way'\n",
    "    \n"
   ]
  },
  {
   "cell_type": "code",
   "execution_count": 64,
   "id": "93e9f8a3-5e9f-4337-9385-c551f370a7e9",
   "metadata": {},
   "outputs": [
    {
     "name": "stdin",
     "output_type": "stream",
     "text": [
      "Enter a english word:  autumn\n"
     ]
    },
    {
     "name": "stdout",
     "output_type": "stream",
     "text": [
      "autumnway\n"
     ]
    }
   ],
   "source": [
    "english = input('Enter a english word: ')\n",
    "\n",
    "\n",
    "if english[0] in 'aeiou':\n",
    "    print (english + 'way')\n",
    "else:\n",
    "    print(english[1:] + english[0] + 'ay')"
   ]
  },
  {
   "cell_type": "code",
   "execution_count": 65,
   "id": "c8dce640-1cb4-41c2-b952-cd21ea49c49e",
   "metadata": {},
   "outputs": [
    {
     "name": "stdout",
     "output_type": "stream",
     "text": [
      "abcd\n"
     ]
    }
   ],
   "source": [
    "x = 'abcd'\n",
    "#the below line means:\n",
    "#find the current value of x\n",
    "#assign y to current value, but value isn't be tracked\n",
    "y = x # y and x refer to the same string\n",
    "x += 'efgh' # the same is saying: x = x + 'efgh'\n",
    "print(y) #y is still referring back to 'abcd'!\n"
   ]
  },
  {
   "cell_type": "code",
   "execution_count": 66,
   "id": "c194723c-3693-475b-86fe-5b8ea1269f65",
   "metadata": {},
   "outputs": [
    {
     "name": "stdin",
     "output_type": "stream",
     "text": [
      "Enter your name:  Jonathan\n"
     ]
    },
    {
     "name": "stdout",
     "output_type": "stream",
     "text": [
      "Hello, Jonathan!\n"
     ]
    }
   ],
   "source": [
    "#example 1: getting a user's name\n",
    "name = input('Enter your name: ')\n",
    "print(f'Hello, {name}!')"
   ]
  },
  {
   "cell_type": "code",
   "execution_count": 67,
   "id": "35fcd3f2-242b-479d-9ae4-65b010fa234b",
   "metadata": {},
   "outputs": [
    {
     "data": {
      "text/plain": [
       "'a   b   c'"
      ]
     },
     "execution_count": 67,
     "metadata": {},
     "output_type": "execute_result"
    }
   ],
   "source": [
    "s = '   a   b   c   '\n",
    "s.strip()"
   ]
  },
  {
   "cell_type": "code",
   "execution_count": null,
   "id": "583cd6bc-ec3a-4c5d-b6b6-bf3a06925cab",
   "metadata": {},
   "outputs": [],
   "source": [
    "numberone = input('Enter a number: ')\n",
    "operator = input('Enter an operator: ')\n",
    "numbertwo = "
   ]
  }
 ],
 "metadata": {
  "kernelspec": {
   "display_name": "Python 3 (ipykernel)",
   "language": "python",
   "name": "python3"
  },
  "language_info": {
   "codemirror_mode": {
    "name": "ipython",
    "version": 3
   },
   "file_extension": ".py",
   "mimetype": "text/x-python",
   "name": "python",
   "nbconvert_exporter": "python",
   "pygments_lexer": "ipython3",
   "version": "3.10.12"
  }
 },
 "nbformat": 4,
 "nbformat_minor": 5
}
