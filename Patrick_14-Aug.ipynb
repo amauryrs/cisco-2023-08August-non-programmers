{
 "cells": [
  {
   "cell_type": "code",
   "execution_count": 1,
   "id": "1bbfa08c-24a8-420d-a9ff-38d9ad4e09da",
   "metadata": {},
   "outputs": [
    {
     "name": "stdout",
     "output_type": "stream",
     "text": [
      "Hello\n"
     ]
    }
   ],
   "source": [
    "print(\"Hello\")"
   ]
  },
  {
   "cell_type": "code",
   "execution_count": 2,
   "id": "dffd28e6-b386-4cdf-b3b2-a80e2a047d91",
   "metadata": {},
   "outputs": [
    {
     "name": "stdout",
     "output_type": "stream",
     "text": [
      "5\n"
     ]
    }
   ],
   "source": [
    "print (2+3)"
   ]
  },
  {
   "cell_type": "code",
   "execution_count": 3,
   "id": "65154599-bff5-465c-b153-43b9f1cf9a14",
   "metadata": {},
   "outputs": [
    {
     "name": "stdout",
     "output_type": "stream",
     "text": [
      "12\n"
     ]
    }
   ],
   "source": [
    "print (3*4)"
   ]
  },
  {
   "cell_type": "code",
   "execution_count": 6,
   "id": "6bcd50b5-9a67-4a22-851f-7e042caf7c69",
   "metadata": {},
   "outputs": [
    {
     "name": "stdout",
     "output_type": "stream",
     "text": [
      "Patrick \n",
      " Jones \n",
      " JONES\n"
     ]
    }
   ],
   "source": [
    "first_name = 'patrick'\n",
    "\n",
    "last_name = 'jones'\n",
    "\n",
    "full_name = f'{first_name} \\n {last_name}'\n",
    "\n",
    "\n",
    "\n",
    "print (full_name.title(), \"\\n\", last_name.upper())"
   ]
  },
  {
   "cell_type": "code",
   "execution_count": 10,
   "id": "a97d3fdd-3a9e-4e16-bafb-01a878daba95",
   "metadata": {},
   "outputs": [
    {
     "name": "stdout",
     "output_type": "stream",
     "text": [
      "hello Patrick how are you today?\n"
     ]
    }
   ],
   "source": [
    "name = \"Patrick\"\n",
    "print (\"hello \" + name + \" how are you today?\")"
   ]
  },
  {
   "cell_type": "code",
   "execution_count": null,
   "id": "3858f486-1466-4047-a99e-d28440442630",
   "metadata": {},
   "outputs": [],
   "source": [
    "name_first = input(\"First Name: \")\n",
    "print "
   ]
  }
 ],
 "metadata": {
  "kernelspec": {
   "display_name": "Python 3 (ipykernel)",
   "language": "python",
   "name": "python3"
  },
  "language_info": {
   "codemirror_mode": {
    "name": "ipython",
    "version": 3
   },
   "file_extension": ".py",
   "mimetype": "text/x-python",
   "name": "python",
   "nbconvert_exporter": "python",
   "pygments_lexer": "ipython3",
   "version": "3.10.12"
  }
 },
 "nbformat": 4,
 "nbformat_minor": 5
}
