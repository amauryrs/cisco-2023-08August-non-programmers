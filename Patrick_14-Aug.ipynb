{
 "cells": [
  {
   "cell_type": "code",
   "execution_count": 1,
   "id": "1bbfa08c-24a8-420d-a9ff-38d9ad4e09da",
   "metadata": {},
   "outputs": [
    {
     "name": "stdout",
     "output_type": "stream",
     "text": [
      "Hello\n"
     ]
    }
   ],
   "source": [
    "print(\"Hello\")"
   ]
  },
  {
   "cell_type": "code",
   "execution_count": 2,
   "id": "dffd28e6-b386-4cdf-b3b2-a80e2a047d91",
   "metadata": {},
   "outputs": [
    {
     "name": "stdout",
     "output_type": "stream",
     "text": [
      "5\n"
     ]
    }
   ],
   "source": [
    "print (2+3)"
   ]
  },
  {
   "cell_type": "code",
   "execution_count": 3,
   "id": "65154599-bff5-465c-b153-43b9f1cf9a14",
   "metadata": {},
   "outputs": [
    {
     "name": "stdout",
     "output_type": "stream",
     "text": [
      "12\n"
     ]
    }
   ],
   "source": [
    "print (3*4)"
   ]
  },
  {
   "cell_type": "code",
   "execution_count": 6,
   "id": "6bcd50b5-9a67-4a22-851f-7e042caf7c69",
   "metadata": {},
   "outputs": [
    {
     "name": "stdout",
     "output_type": "stream",
     "text": [
      "Patrick \n",
      " Jones \n",
      " JONES\n"
     ]
    }
   ],
   "source": [
    "first_name = 'patrick'\n",
    "\n",
    "last_name = 'jones'\n",
    "\n",
    "full_name = f'{first_name} \\n {last_name}'\n",
    "\n",
    "\n",
    "\n",
    "print (full_name.title(), \"\\n\", last_name.upper())"
   ]
  },
  {
   "cell_type": "code",
   "execution_count": 10,
   "id": "a97d3fdd-3a9e-4e16-bafb-01a878daba95",
   "metadata": {},
   "outputs": [
    {
     "name": "stdout",
     "output_type": "stream",
     "text": [
      "hello Patrick how are you today?\n"
     ]
    }
   ],
   "source": [
    "name = \"Patrick\"\n",
    "print (\"hello \" + name + \" how are you today?\")"
   ]
  },
  {
   "cell_type": "code",
   "execution_count": 11,
   "id": "3858f486-1466-4047-a99e-d28440442630",
   "metadata": {},
   "outputs": [
    {
     "name": "stdin",
     "output_type": "stream",
     "text": [
      "First Name:  Vivek\n"
     ]
    },
    {
     "name": "stdout",
     "output_type": "stream",
     "text": [
      "Hello Vivek how are you today?\n"
     ]
    }
   ],
   "source": [
    "name_first = input(\"First Name: \")\n",
    "print (\"Hello \" + name_first + \" how are you today?\")"
   ]
  },
  {
   "cell_type": "code",
   "execution_count": 12,
   "id": "213af8af-e122-4fe9-97fc-b74dc8e27914",
   "metadata": {},
   "outputs": [
    {
     "name": "stdout",
     "output_type": "stream",
     "text": [
      "Vivek\n"
     ]
    }
   ],
   "source": [
    "print(name_first)"
   ]
  },
  {
   "cell_type": "code",
   "execution_count": 22,
   "id": "ce360383-acdc-4e56-a868-ccdefb3bce09",
   "metadata": {},
   "outputs": [
    {
     "name": "stdin",
     "output_type": "stream",
     "text": [
      "Input Name:  Timmy\n"
     ]
    },
    {
     "name": "stdout",
     "output_type": "stream",
     "text": [
      "What are doing BRO!\n",
      "never heard of you Timmy\n"
     ]
    }
   ],
   "source": [
    "user_name = input(\"Input Name: \")\n",
    "if (user_name == \"BOB\"):\n",
    "    print(\"Hello \" + user_name)\n",
    "    print(\"you look marvelous\")\n",
    "else:\n",
    "    print(\"What are doing BRO!\")\n",
    "    print(\"never heard of you \" + user_name)"
   ]
  },
  {
   "cell_type": "code",
   "execution_count": 24,
   "id": "7e507396-6aa9-410e-87b9-151d14a5fd02",
   "metadata": {},
   "outputs": [],
   "source": [
    "x=10\n",
    "y=20\n",
    "if x==222 or y==555:\n",
    "    print(\"YES\")"
   ]
  },
  {
   "cell_type": "code",
   "execution_count": 25,
   "id": "a18ba2c1-1cca-4119-88aa-5a8b49eb8fa9",
   "metadata": {},
   "outputs": [],
   "source": [
    "x=10\n",
    "y=20\n",
    "z=30"
   ]
  },
  {
   "cell_type": "code",
   "execution_count": 26,
   "id": "bf3ada2d-c6ba-421c-a58c-01ebb18b37a2",
   "metadata": {},
   "outputs": [
    {
     "data": {
      "text/plain": [
       "False"
      ]
     },
     "execution_count": 26,
     "metadata": {},
     "output_type": "execute_result"
    }
   ],
   "source": [
    "x==y"
   ]
  },
  {
   "cell_type": "code",
   "execution_count": 27,
   "id": "679ad458-40c5-4c41-aa79-c289117d1ab1",
   "metadata": {},
   "outputs": [
    {
     "name": "stdout",
     "output_type": "stream",
     "text": [
      "False\n",
      "False\n",
      "True\n",
      "True\n"
     ]
    }
   ],
   "source": [
    "print(x==y)\n",
    "print(x==z)\n",
    "print(x!=z)\n",
    "print(x<y)"
   ]
  },
  {
   "cell_type": "code",
   "execution_count": 46,
   "id": "e1b5bddc-974b-496f-b1fe-6a129f3c7030",
   "metadata": {},
   "outputs": [
    {
     "name": "stdin",
     "output_type": "stream",
     "text": [
      "Enter name:  tim\n",
      "Company:  palo\n"
     ]
    },
    {
     "name": "stdout",
     "output_type": "stream",
     "text": [
      "tim Who are you and who do you work for?\n"
     ]
    }
   ],
   "source": [
    "name =input(\"Enter name: \")\n",
    "company =input(\"Company: \")\n",
    "if (name == \"Patrick\") and (company == \"Cisco\"):\n",
    "    print(\"itsa me\")\n",
    "elif (name != \"Patrick\") and (company == \"Cisco\"):\n",
    "    print (\"great company, bad name\")\n",
    "elif (name == \"Patrick\") and (company != \"Cisco\"):\n",
    "    print (\"great name, bad company\")\n",
    "else:\n",
    "    print (name + \" Who are you and who do you work for?\")"
   ]
  },
  {
   "cell_type": "code",
   "execution_count": 47,
   "id": "1bea605f-2346-4a38-a308-997659a33048",
   "metadata": {},
   "outputs": [],
   "source": [
    "import random"
   ]
  },
  {
   "cell_type": "code",
   "execution_count": 63,
   "id": "ffd19b69-6430-47af-8f45-0fa1a15d474d",
   "metadata": {},
   "outputs": [
    {
     "name": "stdout",
     "output_type": "stream",
     "text": [
      "44\n"
     ]
    },
    {
     "name": "stdin",
     "output_type": "stream",
     "text": [
      "Guess 0-100:  44\n"
     ]
    },
    {
     "name": "stdout",
     "output_type": "stream",
     "text": [
      "HOORAY!\n"
     ]
    }
   ],
   "source": [
    "number = random.randint(0,100)\n",
    "print(number)\n",
    "guess = input(\"Guess 0-100: \")\n",
    "guess_int = int(guess)\n",
    "if (guess_int == number):\n",
    "    print(\"HOORAY!\")\n",
    "elif (guess_int <= number):\n",
    "    print(\"too low\")\n",
    "else:\n",
    "    print (\"too high\")"
   ]
  },
  {
   "cell_type": "code",
   "execution_count": 66,
   "id": "756e8ab4-ea24-4f81-a988-6c847b167729",
   "metadata": {},
   "outputs": [
    {
     "name": "stdin",
     "output_type": "stream",
     "text": [
      "Enter word:  hello\n"
     ]
    },
    {
     "name": "stdout",
     "output_type": "stream",
     "text": [
      "hello\n"
     ]
    }
   ],
   "source": [
    "word = input(\"Enter word: \")\n",
    "s = word\n",
    "if (s[0] == \"a\" or \"e\" or \"i\" or \"o\" or \"u\"):\n",
    "    print(s)"
   ]
  },
  {
   "cell_type": "code",
   "execution_count": null,
   "id": "940296ec-635d-44c9-9626-bebbe579a8e6",
   "metadata": {},
   "outputs": [],
   "source": []
  }
 ],
 "metadata": {
  "kernelspec": {
   "display_name": "Python 3 (ipykernel)",
   "language": "python",
   "name": "python3"
  },
  "language_info": {
   "codemirror_mode": {
    "name": "ipython",
    "version": 3
   },
   "file_extension": ".py",
   "mimetype": "text/x-python",
   "name": "python",
   "nbconvert_exporter": "python",
   "pygments_lexer": "ipython3",
   "version": "3.10.12"
  }
 },
 "nbformat": 4,
 "nbformat_minor": 5
}
