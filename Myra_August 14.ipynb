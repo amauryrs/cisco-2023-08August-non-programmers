{
 "cells": [
  {
   "cell_type": "code",
   "execution_count": 1,
   "id": "d497badc-11e9-47e0-a986-7d94bae544fb",
   "metadata": {},
   "outputs": [
    {
     "data": {
      "text/plain": [
       "5"
      ]
     },
     "execution_count": 1,
     "metadata": {},
     "output_type": "execute_result"
    }
   ],
   "source": [
    "2+3"
   ]
  },
  {
   "cell_type": "code",
   "execution_count": 2,
   "id": "f30008b2-5d7b-4f48-affa-1b0e687c2ede",
   "metadata": {},
   "outputs": [
    {
     "name": "stdout",
     "output_type": "stream",
     "text": [
      "Hello\n"
     ]
    }
   ],
   "source": [
    "print('Hello')"
   ]
  },
  {
   "cell_type": "code",
   "execution_count": 3,
   "id": "a815bf30-b93f-4844-a666-ac653105d776",
   "metadata": {},
   "outputs": [],
   "source": [
    "# comment"
   ]
  },
  {
   "cell_type": "code",
   "execution_count": 4,
   "id": "ee5a1673-e588-4c18-bad8-43c4761f8d5d",
   "metadata": {},
   "outputs": [
    {
     "ename": "NameError",
     "evalue": "name 'Hello' is not defined",
     "output_type": "error",
     "traceback": [
      "\u001b[0;31m---------------------------------------------------------------------------\u001b[0m",
      "\u001b[0;31mNameError\u001b[0m                                 Traceback (most recent call last)",
      "Cell \u001b[0;32mIn[4], line 1\u001b[0m\n\u001b[0;32m----> 1\u001b[0m \u001b[43mHello\u001b[49m\n",
      "\u001b[0;31mNameError\u001b[0m: name 'Hello' is not defined"
     ]
    }
   ],
   "source": [
    "Hello"
   ]
  },
  {
   "cell_type": "code",
   "execution_count": 5,
   "id": "2a976d31-6bc9-4c86-a5fc-789ca81b6b16",
   "metadata": {},
   "outputs": [
    {
     "data": {
      "text/plain": [
       "'Hello'"
      ]
     },
     "execution_count": 5,
     "metadata": {},
     "output_type": "execute_result"
    }
   ],
   "source": [
    "'Hello'"
   ]
  },
  {
   "cell_type": "code",
   "execution_count": 6,
   "id": "86c917db-e65e-4ed3-9782-423a8cc0abad",
   "metadata": {},
   "outputs": [],
   "source": [
    "x = \"Myra\""
   ]
  },
  {
   "cell_type": "code",
   "execution_count": 7,
   "id": "53002445-db2e-4d2e-b7e4-f29d44702915",
   "metadata": {},
   "outputs": [
    {
     "data": {
      "text/plain": [
       "'Myra'"
      ]
     },
     "execution_count": 7,
     "metadata": {},
     "output_type": "execute_result"
    }
   ],
   "source": [
    "x"
   ]
  },
  {
   "cell_type": "code",
   "execution_count": 8,
   "id": "7ab82bd8-2482-48c4-8fc4-df4b5ba8d954",
   "metadata": {},
   "outputs": [],
   "source": [
    "name = 'Myra'"
   ]
  },
  {
   "cell_type": "code",
   "execution_count": 9,
   "id": "087510b6-8986-4bfe-87e7-8fee7576d777",
   "metadata": {},
   "outputs": [
    {
     "data": {
      "text/plain": [
       "'Myra'"
      ]
     },
     "execution_count": 9,
     "metadata": {},
     "output_type": "execute_result"
    }
   ],
   "source": [
    "name"
   ]
  },
  {
   "cell_type": "code",
   "execution_count": 10,
   "id": "a3552150-d5a5-4c6c-8347-e90c3f254456",
   "metadata": {},
   "outputs": [],
   "source": [
    "name = 'Myra'"
   ]
  },
  {
   "cell_type": "code",
   "execution_count": 11,
   "id": "c2d06da8-27b1-467a-a997-03ba1c71e2cf",
   "metadata": {},
   "outputs": [
    {
     "name": "stdout",
     "output_type": "stream",
     "text": [
      "Hello, Myra.\n"
     ]
    }
   ],
   "source": [
    "print('Hello, ' + name + '.')"
   ]
  },
  {
   "cell_type": "code",
   "execution_count": 14,
   "id": "396aa3cc-bb79-4077-a4a9-5429db042668",
   "metadata": {},
   "outputs": [
    {
     "name": "stdout",
     "output_type": "stream",
     "text": [
      "Good morning and goodnight, Myra\n"
     ]
    }
   ],
   "source": [
    "print('Good morning ' + 'and ' + 'goodnight, ' + name)"
   ]
  },
  {
   "cell_type": "code",
   "execution_count": 15,
   "id": "d14baf90-757c-4d47-8c68-04f4e5dbfd5a",
   "metadata": {},
   "outputs": [
    {
     "name": "stdin",
     "output_type": "stream",
     "text": [
      "Enter your name:  Myra\n"
     ]
    }
   ],
   "source": [
    "name = input('Enter your name: ')"
   ]
  },
  {
   "cell_type": "code",
   "execution_count": 16,
   "id": "e828f6d2-8a54-4a6a-a8a2-c0a3dafd7096",
   "metadata": {},
   "outputs": [
    {
     "name": "stdout",
     "output_type": "stream",
     "text": [
      "Hello, Myra\n"
     ]
    }
   ],
   "source": [
    "print('Hello, ' + name)"
   ]
  },
  {
   "cell_type": "code",
   "execution_count": 29,
   "id": "b4fba3fc-c13d-43aa-b734-bd595758c313",
   "metadata": {},
   "outputs": [
    {
     "name": "stdin",
     "output_type": "stream",
     "text": [
      "Enter your state:  North Carolina\n"
     ]
    }
   ],
   "source": [
    "state = input('Enter your state: ')"
   ]
  },
  {
   "cell_type": "code",
   "execution_count": 24,
   "id": "2b2c19c8-eaff-4013-be6f-19047f6e271c",
   "metadata": {},
   "outputs": [
    {
     "name": "stdout",
     "output_type": "stream",
     "text": [
      "Welcome yall to North Carolina\n"
     ]
    }
   ],
   "source": [
    "print('Welcome yall to ' + state)"
   ]
  },
  {
   "cell_type": "code",
   "execution_count": 25,
   "id": "5528a445-e939-4d02-9dc0-b85cc2bff51f",
   "metadata": {},
   "outputs": [
    {
     "data": {
      "text/plain": [
       "'North Carolina'"
      ]
     },
     "execution_count": 25,
     "metadata": {},
     "output_type": "execute_result"
    }
   ],
   "source": [
    "state"
   ]
  },
  {
   "cell_type": "code",
   "execution_count": 26,
   "id": "6132eeab-ea08-4ca2-9cef-53ed418fa5aa",
   "metadata": {},
   "outputs": [
    {
     "data": {
      "text/plain": [
       "'Enter your state: '"
      ]
     },
     "execution_count": 26,
     "metadata": {},
     "output_type": "execute_result"
    }
   ],
   "source": [
    "('Enter your state: ')"
   ]
  },
  {
   "cell_type": "code",
   "execution_count": 28,
   "id": "c9440a51-929d-4178-802e-ed9b6cf6b146",
   "metadata": {},
   "outputs": [
    {
     "data": {
      "text/plain": [
       "'California'"
      ]
     },
     "execution_count": 28,
     "metadata": {},
     "output_type": "execute_result"
    }
   ],
   "source": [
    "state"
   ]
  },
  {
   "cell_type": "code",
   "execution_count": 30,
   "id": "2cdd02d2-c06b-46ce-99fe-52c1003884a9",
   "metadata": {},
   "outputs": [
    {
     "data": {
      "text/plain": [
       "'North Carolina'"
      ]
     },
     "execution_count": 30,
     "metadata": {},
     "output_type": "execute_result"
    }
   ],
   "source": [
    "state"
   ]
  },
  {
   "cell_type": "code",
   "execution_count": 35,
   "id": "609a5fa2-08a3-4a70-b3bd-e83d8e16731c",
   "metadata": {},
   "outputs": [
    {
     "name": "stdin",
     "output_type": "stream",
     "text": [
      "What is your name:  Sara\n"
     ]
    }
   ],
   "source": [
    "name = input('What is your name: ')"
   ]
  },
  {
   "cell_type": "code",
   "execution_count": 39,
   "id": "7ee06b51-c8e3-43ab-bf11-1629618c64e3",
   "metadata": {},
   "outputs": [
    {
     "name": "stdin",
     "output_type": "stream",
     "text": [
      "What is your name:  Sara\n"
     ]
    },
    {
     "name": "stdout",
     "output_type": "stream",
     "text": [
      "Not today\n"
     ]
    }
   ],
   "source": [
    "name = input('What is your name: ')\n",
    "if name == 'Myra':\n",
    "    print('Hello, ' + name)\n",
    "    print('Nice to meet you')\n",
    "else: \n",
    "    print('Not today')    "
   ]
  },
  {
   "cell_type": "code",
   "execution_count": 41,
   "id": "b4d88e54-2e87-4e62-bcf9-b3c540a250b1",
   "metadata": {},
   "outputs": [
    {
     "name": "stdin",
     "output_type": "stream",
     "text": [
      "Name Dolphin\n"
     ]
    },
    {
     "data": {
      "text/plain": [
       "'Dolphin'"
      ]
     },
     "execution_count": 41,
     "metadata": {},
     "output_type": "execute_result"
    }
   ],
   "source": [
    "input('Name')"
   ]
  },
  {
   "cell_type": "code",
   "execution_count": 48,
   "id": "40d34b81-856d-413e-9c77-fcc0345f5fc1",
   "metadata": {},
   "outputs": [
    {
     "name": "stdin",
     "output_type": "stream",
     "text": [
      "Enter your name:  Myra\n",
      "Enter your company:  SAS\n"
     ]
    },
    {
     "name": "stdout",
     "output_type": "stream",
     "text": [
      "Nice name, but it should by Sysco\n"
     ]
    }
   ],
   "source": [
    "name = input('Enter your name: ')\n",
    "company = input ('Enter your company: ')\n",
    "\n",
    "if name == 'Myra' and company == 'Cisco':\n",
    "    print('You must be me')\n",
    "if name == 'Myra' and company != 'Cisco':\n",
    "    print('Nice name, but it should by Sysco')\n",
    "if name != 'Myra' and company == 'Cisco':\n",
    "    print ('I do not know you, but I know your boss')\n",
    "if name != 'Myra' and company != 'Cisco':\n",
    "    print ('Wrong station folks')"
   ]
  },
  {
   "cell_type": "code",
   "execution_count": 51,
   "id": "958f5d21-fa37-4d27-b606-d42281a7d256",
   "metadata": {},
   "outputs": [
    {
     "name": "stdin",
     "output_type": "stream",
     "text": [
      "Enter your name:  Marth\n",
      "Enter your company:  Cisco\n"
     ]
    },
    {
     "name": "stdout",
     "output_type": "stream",
     "text": [
      "I do not know you, but I know your boss\n"
     ]
    }
   ],
   "source": [
    "name = input('Enter your name: ')\n",
    "company = input ('Enter your company: ')\n",
    "\n",
    "if name == 'Myra' and company == 'Cisco':\n",
    "    print('You must be me')\n",
    "elif name == 'Myra':\n",
    "    print('Nice name, but it should by Sysco')\n",
    "elif company == 'Cisco':\n",
    "    print ('I do not know you, but I know your boss')\n",
    "else:\n",
    "    print ('Wrong station folks')"
   ]
  },
  {
   "cell_type": "code",
   "execution_count": null,
   "id": "4536ad2b-2122-44a7-bb1b-fc7dd7e5b566",
   "metadata": {},
   "outputs": [],
   "source": []
  }
 ],
 "metadata": {
  "kernelspec": {
   "display_name": "Python 3 (ipykernel)",
   "language": "python",
   "name": "python3"
  },
  "language_info": {
   "codemirror_mode": {
    "name": "ipython",
    "version": 3
   },
   "file_extension": ".py",
   "mimetype": "text/x-python",
   "name": "python",
   "nbconvert_exporter": "python",
   "pygments_lexer": "ipython3",
   "version": "3.10.12"
  }
 },
 "nbformat": 4,
 "nbformat_minor": 5
}
