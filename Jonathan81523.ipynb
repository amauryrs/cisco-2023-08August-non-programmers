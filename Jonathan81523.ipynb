{
 "cells": [
  {
   "cell_type": "code",
   "execution_count": 1,
   "id": "5a525600-e908-408f-a2b5-f894f908bd73",
   "metadata": {},
   "outputs": [
    {
     "name": "stdout",
     "output_type": "stream",
     "text": [
      "Hello, Jonathan\n"
     ]
    }
   ],
   "source": [
    "#f-strings includes some dynamic content\n",
    "name = 'Jonathan'\n",
    "s = f'Hello, {name}'\n",
    "print(s)\n"
   ]
  },
  {
   "cell_type": "code",
   "execution_count": 13,
   "id": "1b610ca6-60db-417e-aa79-78acfbc08005",
   "metadata": {},
   "outputs": [
    {
     "name": "stdin",
     "output_type": "stream",
     "text": [
      "Enter your name:  Jonathan\n"
     ]
    },
    {
     "name": "stdout",
     "output_type": "stream",
     "text": [
      "J\n",
      "Jo\n",
      "Jon\n",
      "Jona\n",
      "Jonat\n",
      "Jonath\n",
      "Jonatha\n",
      "Jonathan\n"
     ]
    }
   ],
   "source": [
    "#Setup\n",
    "name = input('Enter your name: ').strip()\n",
    "\n",
    "#Calculation\n",
    "for index in range(len(name)): #what is index? Index is up to and not including 0 range provides reading string\n",
    "    print(name[0:index + 1])\n",
    "\n",
    "#report\n",
    "    "
   ]
  },
  {
   "cell_type": "code",
   "execution_count": 15,
   "id": "40fc38ca-4f07-4b5c-b19a-3c98f88d98d1",
   "metadata": {},
   "outputs": [
    {
     "name": "stdout",
     "output_type": "stream",
     "text": [
      "0: a\n",
      "1: b\n",
      "2: c\n",
      "3: d\n"
     ]
    }
   ],
   "source": [
    "#option 1 manual version\n",
    "index = 0 \n",
    "for index, one_character in enumerate('abcd'):\n",
    "    print(f'{index}: {one_character}')"
   ]
  },
  {
   "cell_type": "code",
   "execution_count": null,
   "id": "10575ac9-7663-4725-8d19-41f34ffac81b",
   "metadata": {},
   "outputs": [],
   "source": [
    "s = 'abcd' #string\n",
    "look_for = 'c' # what I want to look for in the string\n",
    "\n",
    "#pretend in doesn't exist\n",
    "print('Start')\n",
    "for one_character in s:\n",
    "    print(f'Current character is {"
   ]
  }
 ],
 "metadata": {
  "kernelspec": {
   "display_name": "Python 3 (ipykernel)",
   "language": "python",
   "name": "python3"
  },
  "language_info": {
   "codemirror_mode": {
    "name": "ipython",
    "version": 3
   },
   "file_extension": ".py",
   "mimetype": "text/x-python",
   "name": "python",
   "nbconvert_exporter": "python",
   "pygments_lexer": "ipython3",
   "version": "3.10.12"
  }
 },
 "nbformat": 4,
 "nbformat_minor": 5
}
