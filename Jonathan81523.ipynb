{
 "cells": [
  {
   "cell_type": "code",
   "execution_count": 1,
   "id": "5a525600-e908-408f-a2b5-f894f908bd73",
   "metadata": {},
   "outputs": [
    {
     "name": "stdout",
     "output_type": "stream",
     "text": [
      "Hello, Jonathan\n"
     ]
    }
   ],
   "source": [
    "#f-strings includes some dynamic content\n",
    "name = 'Jonathan'\n",
    "s = f'Hello, {name}'\n",
    "print(s)\n"
   ]
  },
  {
   "cell_type": "code",
   "execution_count": 13,
   "id": "1b610ca6-60db-417e-aa79-78acfbc08005",
   "metadata": {},
   "outputs": [
    {
     "name": "stdin",
     "output_type": "stream",
     "text": [
      "Enter your name:  Jonathan\n"
     ]
    },
    {
     "name": "stdout",
     "output_type": "stream",
     "text": [
      "J\n",
      "Jo\n",
      "Jon\n",
      "Jona\n",
      "Jonat\n",
      "Jonath\n",
      "Jonatha\n",
      "Jonathan\n"
     ]
    }
   ],
   "source": [
    "#Setup\n",
    "name = input('Enter your name: ').strip()\n",
    "\n",
    "#Calculation\n",
    "for index in range(len(name)): #what is index? Index is up to and not including 0 range provides reading string\n",
    "    print(name[0:index + 1])\n",
    "\n",
    "#report\n",
    "    "
   ]
  },
  {
   "cell_type": "code",
   "execution_count": 15,
   "id": "40fc38ca-4f07-4b5c-b19a-3c98f88d98d1",
   "metadata": {},
   "outputs": [
    {
     "name": "stdout",
     "output_type": "stream",
     "text": [
      "0: a\n",
      "1: b\n",
      "2: c\n",
      "3: d\n"
     ]
    }
   ],
   "source": [
    "#option 1 manual version\n",
    "index = 0 \n",
    "for index, one_character in enumerate('abcd'):\n",
    "    print(f'{index}: {one_character}')"
   ]
  },
  {
   "cell_type": "code",
   "execution_count": null,
   "id": "10575ac9-7663-4725-8d19-41f34ffac81b",
   "metadata": {},
   "outputs": [],
   "source": [
    "s = 'abcd' #string\n",
    "look_for = 'c' # what I want to look for in the string\n",
    "\n",
    "#pretend in doesn't exist\n",
    "print('Start')\n",
    "for one_character in s:\n",
    "    print(f'Current character is {one_character}')\n",
    "\n"
   ]
  },
  {
   "cell_type": "code",
   "execution_count": 16,
   "id": "08bc1449-b1c8-4aaf-99fe-bae01279b499",
   "metadata": {},
   "outputs": [
    {
     "name": "stdout",
     "output_type": "stream",
     "text": [
      "5\n",
      "4\n",
      "3\n",
      "2\n",
      "1\n",
      "Done\n"
     ]
    }
   ],
   "source": [
    "#While loops doesn't run on a sequence element by element. It's sort of like an if statement; has condition and checks it, if condition is true\n",
    "#the block run, if the block id done, it goes back to condition and checks it again\n",
    "#Block runs while condition is true, when false before first iteration, the block doesn't run\n",
    "\n",
    "x = 5\n",
    "while x > 0:\n",
    "    print(x)\n",
    "    x -= 1 #reduce x by 1 -- same syaing x = x-1\n",
    "print('Done')"
   ]
  },
  {
   "cell_type": "code",
   "execution_count": 27,
   "id": "7d10667b-b05a-4e35-9e09-69e513e2df6e",
   "metadata": {},
   "outputs": [
    {
     "name": "stdin",
     "output_type": "stream",
     "text": [
      "Enter a number:  30\n",
      "Enter a number:  30\n",
      "Enter a number:  40\n"
     ]
    },
    {
     "name": "stdout",
     "output_type": "stream",
     "text": [
      "Total is 100\n"
     ]
    }
   ],
   "source": [
    "#setup\n",
    "\n",
    "total = 0\n",
    "\n",
    "#Calculation\n",
    "#turn into an integer\n",
    "while total < 100:\n",
    "    number = input('Enter a number: ').strip()\n",
    "    if number.isdigit(): #if the user's input only contain digits\n",
    "        \n",
    "        n = int(number)\n",
    "        \n",
    "        total += n\n",
    "else:\n",
    "    \n",
    "    print(f'Total is {total}')\n",
    "    \n",
    "    \n",
    "    "
   ]
  },
  {
   "cell_type": "code",
   "execution_count": 28,
   "id": "3bbe69f8-ca6d-4b8a-8053-44b239d5974c",
   "metadata": {},
   "outputs": [
    {
     "name": "stdin",
     "output_type": "stream",
     "text": [
      "Enter your name:  Jon\n"
     ]
    },
    {
     "name": "stdout",
     "output_type": "stream",
     "text": [
      "Hello, Jon!\n"
     ]
    },
    {
     "name": "stdin",
     "output_type": "stream",
     "text": [
      "Enter your name:  \n"
     ]
    }
   ],
   "source": [
    "#Infinite loops\n",
    "while True:\n",
    "    name = input('Enter your name: ').strip()\n",
    "    if name == '':\n",
    "        break\n",
    "    print(F'Hello, {name}!')"
   ]
  },
  {
   "cell_type": "code",
   "execution_count": 37,
   "id": "482e4d71-b17e-4973-b399-f089fc9f0478",
   "metadata": {},
   "outputs": [
    {
     "name": "stdin",
     "output_type": "stream",
     "text": [
      "Enter string of digits:  123\n",
      "Enter string of digits:  45\n",
      "Enter string of digits:  56\n",
      "Enter string of digits:  \n"
     ]
    },
    {
     "name": "stdout",
     "output_type": "stream",
     "text": [
      "total = 26\n"
     ]
    }
   ],
   "source": [
    "#Setup\n",
    "total = 0\n",
    "\n",
    "while True:\n",
    "    number = input('Enter string of digits: ').strip()\n",
    "    if number == '': #'' empty string break\n",
    "        break\n",
    "    for one_character in number:\n",
    "        if one_character.isdigit():\n",
    "            total += int(one_character)\n",
    "        else:\n",
    "            print('contains a letter')\n",
    "    \n",
    "#report\n",
    "print(f'total = {total}')"
   ]
  },
  {
   "cell_type": "code",
   "execution_count": null,
   "id": "b6c8fb7d-8324-4955-b6af-b43168cbd0dc",
   "metadata": {},
   "outputs": [],
   "source": [
    "#List refresher\n",
    "#List are containers for other objects. A list can contain any number of other objects, of any type, in any combination. However, it's traditiona\n",
    "mylist = [] #empty list\n",
    "mylist = [10,20,30,40]\n",
    "mylist =[3] #returns 40\n",
    "20 in mylist # true\n",
    "\n",
    "mylist = [10, 20, 30, 40, 50]\n",
    "mylist{1] = 'hello'\n",
    "print(mylist) #{10, hello....] replaced index 1 with hello\n",
    "\n",
    "mylist.append('hello') #append modifies the list\n",
    "print(mylist) # [10, 20,30,40,50, 'hello']\n",
    "              \n"
   ]
  },
  {
   "cell_type": "code",
   "execution_count": 40,
   "id": "29d95c61-048c-4352-b5ec-6afcdc3b3649",
   "metadata": {},
   "outputs": [
    {
     "name": "stdin",
     "output_type": "stream",
     "text": [
      "Enter a string:  hello jon345!\n"
     ]
    },
    {
     "name": "stdout",
     "output_type": "stream",
     "text": [
      "digits = ['3', '4', '5']\n",
      "vowels = ['e', 'o', 'o']\n",
      "others = ['h', 'l', 'l', ' ', 'j', 'n', '!']\n"
     ]
    }
   ],
   "source": [
    "#setup\n",
    "digits = []\n",
    "vowels = []\n",
    "others = []\n",
    "\n",
    "s = input('Enter a string: ').strip()\n",
    "\n",
    "#Calculations\n",
    "for one_character in s:\n",
    "    if one_character.isdigit():\n",
    "        digits.append(one_character)\n",
    "    elif one_character in 'aeiou':\n",
    "        vowels.append(one_character)\n",
    "    else:\n",
    "        others.append(one_character)\n",
    "print(f'digits = {digits}')\n",
    "print(f'vowels = {vowels}')\n",
    "print(f'others = {others}')\n"
   ]
  },
  {
   "cell_type": "code",
   "execution_count": 41,
   "id": "1fefa41b-904c-4f56-96a2-2e91b480abd6",
   "metadata": {},
   "outputs": [
    {
     "data": {
      "text/plain": [
       "['abchd-ef-ghi']"
      ]
     },
     "execution_count": 41,
     "metadata": {},
     "output_type": "execute_result"
    }
   ],
   "source": [
    "#converting values\n",
    "#Weve seen, if data of one type, and we want to get its value in another type, we invoke the target type as a function\n",
    "#if string contains digits, I can right int(s) to get int\n",
    "\n",
    "s = 'abchd-ef-ghi'\n",
    "s.split('_')\n"
   ]
  },
  {
   "cell_type": "code",
   "execution_count": 42,
   "id": "4fe64887-ba33-4fc6-8563-8c4210988779",
   "metadata": {},
   "outputs": [
    {
     "data": {
      "text/plain": [
       "['abchd-', 'f-ghi']"
      ]
     },
     "execution_count": 42,
     "metadata": {},
     "output_type": "execute_result"
    }
   ],
   "source": [
    "s.split('e')\n"
   ]
  },
  {
   "cell_type": "code",
   "execution_count": 44,
   "id": "e61987fd-7b2c-458e-a987-85ce18a90547",
   "metadata": {},
   "outputs": [
    {
     "data": {
      "text/plain": [
       "['This', 'is', 'a', 'sample', 'sentence']"
      ]
     },
     "execution_count": 44,
     "metadata": {},
     "output_type": "execute_result"
    }
   ],
   "source": [
    "#if you want to treat multiple whitespace characters as a single delimiter, then\n",
    "#call str.split with NO ARGUMENTS. then, any run of space, \\t, \\n, \\r, \\v, in a row will be translated\n",
    "#into boundary between two elements\n",
    "\n",
    "s = 'This  is a sample sentence'\n",
    "s.split()"
   ]
  },
  {
   "cell_type": "code",
   "execution_count": 51,
   "id": "07f6e9e0-fba1-4206-b4f8-a10c964dffc2",
   "metadata": {},
   "outputs": [
    {
     "name": "stdin",
     "output_type": "stream",
     "text": [
      "Enter one or more numbers with spaces:  10 20 30\n",
      "Enter one or more numbers with spaces:  40 50\n",
      "Enter one or more numbers with spaces:  40 abc\n",
      "Enter one or more numbers with spaces:  \n"
     ]
    },
    {
     "name": "stdout",
     "output_type": "stream",
     "text": [
      "Total is 0\n"
     ]
    }
   ],
   "source": [
    "#setup\n",
    "total = 0\n",
    "\n",
    "\n",
    "#calc\n",
    "\n",
    "while True:\n",
    "    n = input('Enter one or more numbers with spaces: ').strip()\n",
    "    if n == '':\n",
    "        break\n",
    "        for one_character in n.split:\n",
    "            if one_character.isdigit(): #if the current word can be\n",
    "                total += int(one_character)\n",
    "            else:\n",
    "                print('a number dummy')\n",
    "        \n",
    "        \n",
    "\n",
    "#report\n",
    "print(f'Total is {total}')"
   ]
  },
  {
   "cell_type": "code",
   "execution_count": 54,
   "id": "db0ca399-d151-4de9-9713-0072c52bbfcc",
   "metadata": {},
   "outputs": [
    {
     "name": "stdout",
     "output_type": "stream",
     "text": [
      "largest = 654\n",
      "smallest = 9\n"
     ]
    }
   ],
   "source": [
    "#setup\n",
    "numbers = [23, 654, 21, 9, 564, 92, 51, 177, 20, 15]\n",
    "\n",
    "largest = numbers[0] #assume the largest number is the first element of numbers\n",
    "smallest = numbers[0] #assume that the smallest number is the first element of numbers\n",
    "\n",
    "for one_number in numbers:\n",
    "    if one_number < smallest:\n",
    "        smallest = one_number\n",
    "    if one_number > largest:\n",
    "        largest = one_number\n",
    "print(f'largest = {largest}')\n",
    "print(f'smallest = {smallest}')\n",
    "\n",
    "\n",
    "\n",
    "\n"
   ]
  },
  {
   "cell_type": "code",
   "execution_count": 55,
   "id": "099ec6af-c3bf-462d-ba98-8ab2f46d0c7f",
   "metadata": {},
   "outputs": [
    {
     "data": {
      "text/plain": [
       "20"
      ]
     },
     "execution_count": 55,
     "metadata": {},
     "output_type": "execute_result"
    }
   ],
   "source": [
    "#Tuples\n",
    "#typically, we create tuples with () and commas between element\n",
    "\n",
    "t = (10, 20, 30, 40, 50)\n",
    "t[1]"
   ]
  },
  {
   "cell_type": "code",
   "execution_count": 56,
   "id": "19531aa9-c311-404c-a873-8557958943e3",
   "metadata": {},
   "outputs": [
    {
     "data": {
      "text/plain": [
       "5"
      ]
     },
     "execution_count": 56,
     "metadata": {},
     "output_type": "execute_result"
    }
   ],
   "source": [
    "len(t)"
   ]
  },
  {
   "cell_type": "code",
   "execution_count": 57,
   "id": "8ea499d4-3481-431d-80dd-e39377b5cf6a",
   "metadata": {},
   "outputs": [
    {
     "data": {
      "text/plain": [
       "tuple"
      ]
     },
     "execution_count": 57,
     "metadata": {},
     "output_type": "execute_result"
    }
   ],
   "source": [
    "#tuples are immutable\n",
    "t = (10, 20)\n",
    "type(t)\n"
   ]
  },
  {
   "cell_type": "code",
   "execution_count": 59,
   "id": "aaa7c620-8b54-4f28-b40d-7d749bbc2b0f",
   "metadata": {},
   "outputs": [
    {
     "data": {
      "text/plain": [
       "int"
      ]
     },
     "execution_count": 59,
     "metadata": {},
     "output_type": "execute_result"
    }
   ],
   "source": [
    "t = (10)\n",
    "type(t)\n"
   ]
  },
  {
   "cell_type": "code",
   "execution_count": 60,
   "id": "d73f3e65-649c-48b7-92be-8d8f5bf3d794",
   "metadata": {},
   "outputs": [
    {
     "data": {
      "text/plain": [
       "tuple"
      ]
     },
     "execution_count": 60,
     "metadata": {},
     "output_type": "execute_result"
    }
   ],
   "source": [
    "#if you have have one value in parentheses, without commas,\n",
    "#its just the value - not a tuple\n",
    "#if you want a one-element, tuple, you need to use a comma!\n",
    "t = (10,) #oh, now it's a tuple\n",
    "type(t)\n"
   ]
  },
  {
   "cell_type": "code",
   "execution_count": 61,
   "id": "9b044a56-9b24-447b-9d0c-c62583096587",
   "metadata": {},
   "outputs": [],
   "source": [
    "#define tuples another way, without parentheses, but with commas\n",
    "#tuple unpacking\n",
    "mylist = [10, 20, 30]\n",
    "\n",
    "x = mylist #what is x\n",
    "x,y,z = mylist"
   ]
  },
  {
   "cell_type": "code",
   "execution_count": 62,
   "id": "c44bf6a6-098a-4b7d-8457-76f520a08e0c",
   "metadata": {},
   "outputs": [
    {
     "data": {
      "text/plain": [
       "10"
      ]
     },
     "execution_count": 62,
     "metadata": {},
     "output_type": "execute_result"
    }
   ],
   "source": [
    "x"
   ]
  },
  {
   "cell_type": "code",
   "execution_count": 63,
   "id": "ac0292cf-4572-4cf6-8f08-b110291e8a72",
   "metadata": {},
   "outputs": [
    {
     "data": {
      "text/plain": [
       "20"
      ]
     },
     "execution_count": 63,
     "metadata": {},
     "output_type": "execute_result"
    }
   ],
   "source": [
    "y"
   ]
  },
  {
   "cell_type": "code",
   "execution_count": 64,
   "id": "95f542af-ac59-48e6-bd3d-806756724135",
   "metadata": {},
   "outputs": [
    {
     "data": {
      "text/plain": [
       "30"
      ]
     },
     "execution_count": 64,
     "metadata": {},
     "output_type": "execute_result"
    }
   ],
   "source": [
    "z"
   ]
  },
  {
   "cell_type": "code",
   "execution_count": null,
   "id": "7131e1e4-469d-4a4f-9581-3d826e0f70da",
   "metadata": {},
   "outputs": [],
   "source": [
    "#enumerate - gives us an index along with an object in a for loop\n",
    "\n",
    "for index, one_item"
   ]
  }
 ],
 "metadata": {
  "kernelspec": {
   "display_name": "Python 3 (ipykernel)",
   "language": "python",
   "name": "python3"
  },
  "language_info": {
   "codemirror_mode": {
    "name": "ipython",
    "version": 3
   },
   "file_extension": ".py",
   "mimetype": "text/x-python",
   "name": "python",
   "nbconvert_exporter": "python",
   "pygments_lexer": "ipython3",
   "version": "3.10.12"
  }
 },
 "nbformat": 4,
 "nbformat_minor": 5
}
