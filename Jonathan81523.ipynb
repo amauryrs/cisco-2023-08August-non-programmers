{
 "cells": [
  {
   "cell_type": "code",
   "execution_count": 1,
   "id": "5a525600-e908-408f-a2b5-f894f908bd73",
   "metadata": {},
   "outputs": [
    {
     "name": "stdout",
     "output_type": "stream",
     "text": [
      "Hello, Jonathan\n"
     ]
    }
   ],
   "source": [
    "#f-strings includes some dynamic content\n",
    "name = 'Jonathan'\n",
    "s = f'Hello, {name}'\n",
    "print(s)\n"
   ]
  },
  {
   "cell_type": "code",
   "execution_count": 13,
   "id": "1b610ca6-60db-417e-aa79-78acfbc08005",
   "metadata": {},
   "outputs": [
    {
     "name": "stdin",
     "output_type": "stream",
     "text": [
      "Enter your name:  Jonathan\n"
     ]
    },
    {
     "name": "stdout",
     "output_type": "stream",
     "text": [
      "J\n",
      "Jo\n",
      "Jon\n",
      "Jona\n",
      "Jonat\n",
      "Jonath\n",
      "Jonatha\n",
      "Jonathan\n"
     ]
    }
   ],
   "source": [
    "#Setup\n",
    "name = input('Enter your name: ').strip()\n",
    "\n",
    "#Calculation\n",
    "for index in range(len(name)): #what is index? Index is up to and not including 0 range provides reading string\n",
    "    print(name[0:index + 1])\n",
    "\n",
    "#report\n",
    "    "
   ]
  },
  {
   "cell_type": "code",
   "execution_count": 15,
   "id": "40fc38ca-4f07-4b5c-b19a-3c98f88d98d1",
   "metadata": {},
   "outputs": [
    {
     "name": "stdout",
     "output_type": "stream",
     "text": [
      "0: a\n",
      "1: b\n",
      "2: c\n",
      "3: d\n"
     ]
    }
   ],
   "source": [
    "#option 1 manual version\n",
    "index = 0 \n",
    "for index, one_character in enumerate('abcd'):\n",
    "    print(f'{index}: {one_character}')"
   ]
  },
  {
   "cell_type": "code",
   "execution_count": null,
   "id": "10575ac9-7663-4725-8d19-41f34ffac81b",
   "metadata": {},
   "outputs": [],
   "source": [
    "s = 'abcd' #string\n",
    "look_for = 'c' # what I want to look for in the string\n",
    "\n",
    "#pretend in doesn't exist\n",
    "print('Start')\n",
    "for one_character in s:\n",
    "    print(f'Current character is {one_character}')\n",
    "\n"
   ]
  },
  {
   "cell_type": "code",
   "execution_count": 16,
   "id": "08bc1449-b1c8-4aaf-99fe-bae01279b499",
   "metadata": {},
   "outputs": [
    {
     "name": "stdout",
     "output_type": "stream",
     "text": [
      "5\n",
      "4\n",
      "3\n",
      "2\n",
      "1\n",
      "Done\n"
     ]
    }
   ],
   "source": [
    "#While loops doesn't run on a sequence element by element. It's sort of like an if statement; has condition and checks it, if condition is true\n",
    "#the block run, if the block id done, it goes back to condition and checks it again\n",
    "#Block runs while condition is true, when false before first iteration, the block doesn't run\n",
    "\n",
    "x = 5\n",
    "while x > 0:\n",
    "    print(x)\n",
    "    x -= 1 #reduce x by 1 -- same syaing x = x-1\n",
    "print('Done')"
   ]
  },
  {
   "cell_type": "code",
   "execution_count": 27,
   "id": "7d10667b-b05a-4e35-9e09-69e513e2df6e",
   "metadata": {},
   "outputs": [
    {
     "name": "stdin",
     "output_type": "stream",
     "text": [
      "Enter a number:  30\n",
      "Enter a number:  30\n",
      "Enter a number:  40\n"
     ]
    },
    {
     "name": "stdout",
     "output_type": "stream",
     "text": [
      "Total is 100\n"
     ]
    }
   ],
   "source": [
    "#setup\n",
    "\n",
    "total = 0\n",
    "\n",
    "#Calculation\n",
    "#turn into an integer\n",
    "while total < 100:\n",
    "    number = input('Enter a number: ').strip()\n",
    "    if number.isdigit(): #if the user's input only contain digits\n",
    "        \n",
    "        n = int(number)\n",
    "        \n",
    "        total += n\n",
    "else:\n",
    "    \n",
    "    print(f'Total is {total}')\n",
    "    \n",
    "    \n",
    "    "
   ]
  },
  {
   "cell_type": "code",
   "execution_count": 28,
   "id": "3bbe69f8-ca6d-4b8a-8053-44b239d5974c",
   "metadata": {},
   "outputs": [
    {
     "name": "stdin",
     "output_type": "stream",
     "text": [
      "Enter your name:  Jon\n"
     ]
    },
    {
     "name": "stdout",
     "output_type": "stream",
     "text": [
      "Hello, Jon!\n"
     ]
    },
    {
     "name": "stdin",
     "output_type": "stream",
     "text": [
      "Enter your name:  \n"
     ]
    }
   ],
   "source": [
    "#Infinite loops\n",
    "while True:\n",
    "    name = input('Enter your name: ').strip()\n",
    "    if name == '':\n",
    "        break\n",
    "    print(F'Hello, {name}!')"
   ]
  },
  {
   "cell_type": "code",
   "execution_count": 37,
   "id": "482e4d71-b17e-4973-b399-f089fc9f0478",
   "metadata": {},
   "outputs": [
    {
     "name": "stdin",
     "output_type": "stream",
     "text": [
      "Enter string of digits:  123\n",
      "Enter string of digits:  45\n",
      "Enter string of digits:  56\n",
      "Enter string of digits:  \n"
     ]
    },
    {
     "name": "stdout",
     "output_type": "stream",
     "text": [
      "total = 26\n"
     ]
    }
   ],
   "source": [
    "#Setup\n",
    "total = 0\n",
    "\n",
    "while True:\n",
    "    number = input('Enter string of digits: ').strip()\n",
    "    if number == '': #'' empty string break\n",
    "        break\n",
    "    for one_character in number:\n",
    "        if one_character.isdigit():\n",
    "            total += int(one_character)\n",
    "        else:\n",
    "            print('contains a letter')\n",
    "    \n",
    "#report\n",
    "print(f'total = {total}')"
   ]
  },
  {
   "cell_type": "code",
   "execution_count": null,
   "id": "b6c8fb7d-8324-4955-b6af-b43168cbd0dc",
   "metadata": {},
   "outputs": [],
   "source": [
    "#List refresher\n",
    "#List are containers for other objects. A list can contain any number of other objects, of any type, in any combination. However, it's traditiona\n",
    "mylist = [] #empty list\n",
    "mylist = [10,20,30,40]\n",
    "mylist =[3] #returns 40\n",
    "20 in mylist # true\n",
    "\n",
    "mylist = [10, 20, 30, 40, 50]\n",
    "mylist{1] = 'hello'\n",
    "print(mylist) #{10, hello....] replaced index 1 with hello\n",
    "\n",
    "mylist.append('hello') #append modifies the list\n",
    "print(mylist) # [10, 20,30,40,50, 'hello']\n",
    "              \n"
   ]
  }
 ],
 "metadata": {
  "kernelspec": {
   "display_name": "Python 3 (ipykernel)",
   "language": "python",
   "name": "python3"
  },
  "language_info": {
   "codemirror_mode": {
    "name": "ipython",
    "version": 3
   },
   "file_extension": ".py",
   "mimetype": "text/x-python",
   "name": "python",
   "nbconvert_exporter": "python",
   "pygments_lexer": "ipython3",
   "version": "3.10.12"
  }
 },
 "nbformat": 4,
 "nbformat_minor": 5
}
