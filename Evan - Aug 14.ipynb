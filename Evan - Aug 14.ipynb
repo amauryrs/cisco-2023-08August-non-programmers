{
 "cells": [
  {
   "cell_type": "code",
   "execution_count": 1,
   "id": "4dfe0465-63b5-4c60-af67-01e0bd10195f",
   "metadata": {},
   "outputs": [
    {
     "data": {
      "text/plain": [
       "5"
      ]
     },
     "execution_count": 1,
     "metadata": {},
     "output_type": "execute_result"
    }
   ],
   "source": [
    "2 + 3 "
   ]
  },
  {
   "cell_type": "code",
   "execution_count": 2,
   "id": "62cae2ae-4989-4d19-af20-10fd1293c857",
   "metadata": {},
   "outputs": [
    {
     "name": "stdout",
     "output_type": "stream",
     "text": [
      "Hello\n"
     ]
    }
   ],
   "source": [
    "print ('Hello')"
   ]
  },
  {
   "cell_type": "code",
   "execution_count": 3,
   "id": "d5038a4b-51f2-4b7f-9669-3204a4e44582",
   "metadata": {},
   "outputs": [
    {
     "ename": "NameError",
     "evalue": "name 'Evan' is not defined",
     "output_type": "error",
     "traceback": [
      "\u001b[0;31m---------------------------------------------------------------------------\u001b[0m",
      "\u001b[0;31mNameError\u001b[0m                                 Traceback (most recent call last)",
      "Cell \u001b[0;32mIn[3], line 1\u001b[0m\n\u001b[0;32m----> 1\u001b[0m x\u001b[38;5;241m=\u001b[39m\u001b[43mEvan\u001b[49m\n",
      "\u001b[0;31mNameError\u001b[0m: name 'Evan' is not defined"
     ]
    }
   ],
   "source": [
    "x=Evan"
   ]
  },
  {
   "cell_type": "code",
   "execution_count": 4,
   "id": "9a1dba33-e7dd-4cdf-971a-167b76b6448e",
   "metadata": {},
   "outputs": [
    {
     "ename": "NameError",
     "evalue": "name 'pint' is not defined",
     "output_type": "error",
     "traceback": [
      "\u001b[0;31m---------------------------------------------------------------------------\u001b[0m",
      "\u001b[0;31mNameError\u001b[0m                                 Traceback (most recent call last)",
      "Cell \u001b[0;32mIn[4], line 2\u001b[0m\n\u001b[1;32m      1\u001b[0m name \u001b[38;5;241m=\u001b[39m \u001b[38;5;124m'\u001b[39m\u001b[38;5;124mEvan\u001b[39m\u001b[38;5;124m'\u001b[39m\n\u001b[0;32m----> 2\u001b[0m \u001b[43mpint\u001b[49m(name)\n",
      "\u001b[0;31mNameError\u001b[0m: name 'pint' is not defined"
     ]
    }
   ],
   "source": [
    "name = 'Evan'\n",
    "pint(name)"
   ]
  },
  {
   "cell_type": "code",
   "execution_count": 5,
   "id": "190d8078-c8e0-499a-a141-254ba3300b6f",
   "metadata": {},
   "outputs": [
    {
     "ename": "NameError",
     "evalue": "name 'pint' is not defined",
     "output_type": "error",
     "traceback": [
      "\u001b[0;31m---------------------------------------------------------------------------\u001b[0m",
      "\u001b[0;31mNameError\u001b[0m                                 Traceback (most recent call last)",
      "Cell \u001b[0;32mIn[5], line 2\u001b[0m\n\u001b[1;32m      1\u001b[0m x \u001b[38;5;241m=\u001b[39m \u001b[38;5;124m'\u001b[39m\u001b[38;5;124mEvan\u001b[39m\u001b[38;5;124m'\u001b[39m\n\u001b[0;32m----> 2\u001b[0m \u001b[43mpint\u001b[49m (x)\n",
      "\u001b[0;31mNameError\u001b[0m: name 'pint' is not defined"
     ]
    }
   ],
   "source": [
    "x = 'Evan'\n",
    "pint (x)"
   ]
  },
  {
   "cell_type": "code",
   "execution_count": 6,
   "id": "7174bcd8-ae5c-4c05-b703-79bf66bbea28",
   "metadata": {},
   "outputs": [],
   "source": [
    "x = 'Evan'"
   ]
  },
  {
   "cell_type": "code",
   "execution_count": 7,
   "id": "4e721a05-b31e-4c3f-afc5-3c69893b353f",
   "metadata": {},
   "outputs": [
    {
     "name": "stdout",
     "output_type": "stream",
     "text": [
      "Evan\n"
     ]
    }
   ],
   "source": [
    "print (x)"
   ]
  },
  {
   "cell_type": "code",
   "execution_count": 8,
   "id": "c16ba892-f398-4eba-ba83-e1a4e94a05b2",
   "metadata": {},
   "outputs": [],
   "source": [
    "name = 'Evan'"
   ]
  },
  {
   "cell_type": "code",
   "execution_count": 9,
   "id": "6747dd38-d784-4010-a05a-7522f0adef79",
   "metadata": {},
   "outputs": [
    {
     "name": "stdout",
     "output_type": "stream",
     "text": [
      "hello, Evan.\n"
     ]
    }
   ],
   "source": [
    "print ('hello, ' + name + '.')"
   ]
  },
  {
   "cell_type": "code",
   "execution_count": 10,
   "id": "983d1115-e0b3-411d-b59b-00e0eaf4f092",
   "metadata": {},
   "outputs": [
    {
     "name": "stdout",
     "output_type": "stream",
     "text": [
      "Hello, Evan!\n"
     ]
    }
   ],
   "source": [
    "name = 'Evan'\n",
    "print('Hello, ' + name + '!')"
   ]
  },
  {
   "cell_type": "code",
   "execution_count": 11,
   "id": "d4695f71-9218-4320-8e32-61c28f93c5fb",
   "metadata": {},
   "outputs": [
    {
     "name": "stdin",
     "output_type": "stream",
     "text": [
      "Enter your name:  Evan\n"
     ]
    }
   ],
   "source": [
    "name = input ('Enter your name: ')"
   ]
  },
  {
   "cell_type": "code",
   "execution_count": 12,
   "id": "b1fe20df-780d-45de-bf65-b09003cbe1bd",
   "metadata": {},
   "outputs": [
    {
     "data": {
      "text/plain": [
       "'Evan'"
      ]
     },
     "execution_count": 12,
     "metadata": {},
     "output_type": "execute_result"
    }
   ],
   "source": [
    "name"
   ]
  },
  {
   "cell_type": "code",
   "execution_count": 13,
   "id": "873e8e5c-d941-4007-aea7-bc10a03a3f55",
   "metadata": {},
   "outputs": [
    {
     "name": "stdout",
     "output_type": "stream",
     "text": [
      "Hello, Evan!\n"
     ]
    }
   ],
   "source": [
    "print('Hello, ' + name + '!')"
   ]
  },
  {
   "cell_type": "code",
   "execution_count": 14,
   "id": "05a5c631-0a75-410b-ac07-e6bfa05440c7",
   "metadata": {},
   "outputs": [
    {
     "name": "stdin",
     "output_type": "stream",
     "text": [
      "Enter your name:  Steve\n"
     ]
    }
   ],
   "source": [
    "name = input ('Enter your name: ')"
   ]
  },
  {
   "cell_type": "code",
   "execution_count": 15,
   "id": "50efd5f5-aa9e-4343-ba7f-2e81b642af25",
   "metadata": {},
   "outputs": [
    {
     "data": {
      "text/plain": [
       "'Steve'"
      ]
     },
     "execution_count": 15,
     "metadata": {},
     "output_type": "execute_result"
    }
   ],
   "source": [
    "name"
   ]
  },
  {
   "cell_type": "code",
   "execution_count": 16,
   "id": "c8dbdeb4-aeb9-400a-bc24-d11e1b5657c8",
   "metadata": {},
   "outputs": [
    {
     "name": "stdout",
     "output_type": "stream",
     "text": [
      "Hello, Steve!\n"
     ]
    }
   ],
   "source": [
    "print ('Hello, ' + name + '!')"
   ]
  },
  {
   "cell_type": "code",
   "execution_count": 17,
   "id": "63682589-1784-4299-a265-a7e2622a35be",
   "metadata": {},
   "outputs": [],
   "source": [
    "name = ('Enter something: ')"
   ]
  },
  {
   "cell_type": "code",
   "execution_count": 18,
   "id": "16ef9746-33dd-439c-8c8c-5248341e1064",
   "metadata": {},
   "outputs": [
    {
     "data": {
      "text/plain": [
       "'Enter something: '"
      ]
     },
     "execution_count": 18,
     "metadata": {},
     "output_type": "execute_result"
    }
   ],
   "source": [
    "name"
   ]
  },
  {
   "cell_type": "code",
   "execution_count": 20,
   "id": "b109cd25-0fca-4205-a24b-6760a9316549",
   "metadata": {},
   "outputs": [
    {
     "name": "stdin",
     "output_type": "stream",
     "text": [
      "Enter your name:  Evan\n"
     ]
    }
   ],
   "source": [
    "name = input ('Enter your name: ')"
   ]
  },
  {
   "cell_type": "code",
   "execution_count": 23,
   "id": "fbd0baa2-7f54-4933-83dc-2632cb3395a0",
   "metadata": {},
   "outputs": [
    {
     "name": "stdin",
     "output_type": "stream",
     "text": [
      "Enter your name:  Evan\n"
     ]
    },
    {
     "name": "stdout",
     "output_type": "stream",
     "text": [
      "Hello, Evan!\n"
     ]
    }
   ],
   "source": [
    "user_name = input ('Enter your name: ')\n",
    "print('Hello, ' + user_name + '!')"
   ]
  },
  {
   "cell_type": "code",
   "execution_count": 25,
   "id": "0c47bff0-9da8-4370-ad46-443e6ebe64c6",
   "metadata": {},
   "outputs": [
    {
     "data": {
      "text/plain": [
       "False"
      ]
     },
     "execution_count": 25,
     "metadata": {},
     "output_type": "execute_result"
    }
   ],
   "source": [
    "x = 10\n",
    "y = 11\n",
    "\n",
    "x == y"
   ]
  },
  {
   "cell_type": "code",
   "execution_count": 29,
   "id": "3196b282-dc7e-412d-9885-6c9419574392",
   "metadata": {},
   "outputs": [
    {
     "name": "stdin",
     "output_type": "stream",
     "text": [
      "Enter your name:  Dave\n"
     ]
    },
    {
     "name": "stdout",
     "output_type": "stream",
     "text": [
      "Go away! Dave.\n"
     ]
    }
   ],
   "source": [
    "name = input ('Enter your name: ')\n",
    "\n",
    "if name == 'Evan':\n",
    "    print('Hello, brother!')\n",
    "    print('Good to see you again')\n",
    "\n",
    "else:\n",
    "    print('Go away! ' + name + '.')"
   ]
  },
  {
   "cell_type": "code",
   "execution_count": 44,
   "id": "9774dbca-f21f-4af1-809d-ec564034e024",
   "metadata": {},
   "outputs": [
    {
     "name": "stdin",
     "output_type": "stream",
     "text": [
      "Enter your name:  Dave\n",
      "Company name:  Cisco\n"
     ]
    },
    {
     "name": "stdout",
     "output_type": "stream",
     "text": [
      "You are not great\n"
     ]
    }
   ],
   "source": [
    "name = input ('Enter your name: ') # python does not care about the order of this operation\n",
    "company = input ('Company name: ')\n",
    "\n",
    "if name == 'Evan' and company == 'Cisco':\n",
    "    print('You must be me')\n",
    "\n",
    "elif name == 'Evan':\n",
    "    print('Your name is great, but your company.... well, not so great.')\n",
    "\n",
    "elif company_name == 'Cisco':\n",
    "    print('You work for a great comapny, bad name though!')\n",
    "\n",
    "else:\n",
    "    print('You are not great')\n",
    "\n"
   ]
  },
  {
   "cell_type": "code",
   "execution_count": null,
   "id": "3f9e3b72-602b-4f2f-9ef8-73057db9098a",
   "metadata": {},
   "outputs": [],
   "source": []
  }
 ],
 "metadata": {
  "kernelspec": {
   "display_name": "Python 3 (ipykernel)",
   "language": "python",
   "name": "python3"
  },
  "language_info": {
   "codemirror_mode": {
    "name": "ipython",
    "version": 3
   },
   "file_extension": ".py",
   "mimetype": "text/x-python",
   "name": "python",
   "nbconvert_exporter": "python",
   "pygments_lexer": "ipython3",
   "version": "3.10.12"
  }
 },
 "nbformat": 4,
 "nbformat_minor": 5
}
