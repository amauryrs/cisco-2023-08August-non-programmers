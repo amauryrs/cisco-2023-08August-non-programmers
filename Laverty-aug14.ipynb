{
 "cells": [
  {
   "cell_type": "code",
   "execution_count": 1,
   "id": "e949a56e-fa59-459a-b64c-61af04c777c8",
   "metadata": {},
   "outputs": [
    {
     "data": {
      "text/plain": [
       "4"
      ]
     },
     "execution_count": 1,
     "metadata": {},
     "output_type": "execute_result"
    }
   ],
   "source": [
    "2+2"
   ]
  },
  {
   "cell_type": "code",
   "execution_count": 2,
   "id": "1de44bdd-6abc-43da-889f-1f1d8daee7dc",
   "metadata": {},
   "outputs": [],
   "source": [
    "name = 'Kelly'"
   ]
  },
  {
   "cell_type": "code",
   "execution_count": 3,
   "id": "ed2b9666-ee9f-42ae-9c6f-907d6e3e96b9",
   "metadata": {},
   "outputs": [
    {
     "name": "stdout",
     "output_type": "stream",
     "text": [
      "Hello, Kelly\n"
     ]
    }
   ],
   "source": [
    "print ('Hello, ' + name)"
   ]
  },
  {
   "cell_type": "code",
   "execution_count": 4,
   "id": "b4314f3d-23b9-4432-8f5a-7402230f85b3",
   "metadata": {},
   "outputs": [
    {
     "name": "stdin",
     "output_type": "stream",
     "text": [
      "What is your name:  Kelly\n"
     ]
    },
    {
     "name": "stdout",
     "output_type": "stream",
     "text": [
      "Hi Kelly\n"
     ]
    }
   ],
   "source": [
    "name = input('What is your name: ')\n",
    "print ('Hi ' + name)"
   ]
  },
  {
   "cell_type": "code",
   "execution_count": 5,
   "id": "3ebe8673-9b42-4c04-921d-e0244906168a",
   "metadata": {},
   "outputs": [
    {
     "name": "stdin",
     "output_type": "stream",
     "text": [
      "Enter your name:  Kelly\n"
     ]
    }
   ],
   "source": [
    "name = input('Enter your name: ')"
   ]
  },
  {
   "cell_type": "code",
   "execution_count": 15,
   "id": "ad1bf1ef-b0be-4148-a274-c2d314d1baf8",
   "metadata": {},
   "outputs": [
    {
     "name": "stdin",
     "output_type": "stream",
     "text": [
      "Enter your name:  Kelly\n"
     ]
    },
    {
     "name": "stdout",
     "output_type": "stream",
     "text": [
      "Hello, Kelly.\n",
      "You know it rhymes with \"Belly\" and \"Jelly\".\n"
     ]
    }
   ],
   "source": [
    "name = input ('Enter your name: ')\n",
    "if name == 'Kelly':\n",
    "    print ('Hello, ' + name + '.')\n",
    "    print ('You know it rhymes with \"Belly\" and \"Jelly\".')\n",
    "else:\n",
    "    print ('Hello, ' + name)"
   ]
  },
  {
   "cell_type": "code",
   "execution_count": null,
   "id": "5d427751-fb93-4145-a502-d9cff54f8eba",
   "metadata": {},
   "outputs": [],
   "source": [
    "name = input ('Enter your name: ')\n",
    "company = input ('Enter your company: ')\n",
    "if name == 'Kelly' and company == 'Cisco'\n",
    "    print ('Hello me! Hope all is well.')\n",
    "else if name != 'Kelly' and"
   ]
  }
 ],
 "metadata": {
  "kernelspec": {
   "display_name": "Python 3 (ipykernel)",
   "language": "python",
   "name": "python3"
  },
  "language_info": {
   "codemirror_mode": {
    "name": "ipython",
    "version": 3
   },
   "file_extension": ".py",
   "mimetype": "text/x-python",
   "name": "python",
   "nbconvert_exporter": "python",
   "pygments_lexer": "ipython3",
   "version": "3.10.12"
  }
 },
 "nbformat": 4,
 "nbformat_minor": 5
}
