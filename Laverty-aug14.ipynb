{
 "cells": [
  {
   "cell_type": "code",
   "execution_count": 1,
   "id": "e949a56e-fa59-459a-b64c-61af04c777c8",
   "metadata": {},
   "outputs": [
    {
     "data": {
      "text/plain": [
       "4"
      ]
     },
     "execution_count": 1,
     "metadata": {},
     "output_type": "execute_result"
    }
   ],
   "source": [
    "2+2"
   ]
  },
  {
   "cell_type": "code",
   "execution_count": 2,
   "id": "1de44bdd-6abc-43da-889f-1f1d8daee7dc",
   "metadata": {},
   "outputs": [],
   "source": [
    "name = 'Kelly'"
   ]
  },
  {
   "cell_type": "code",
   "execution_count": 3,
   "id": "ed2b9666-ee9f-42ae-9c6f-907d6e3e96b9",
   "metadata": {},
   "outputs": [
    {
     "name": "stdout",
     "output_type": "stream",
     "text": [
      "Hello, Kelly\n"
     ]
    }
   ],
   "source": [
    "print ('Hello, ' + name)"
   ]
  },
  {
   "cell_type": "code",
   "execution_count": 4,
   "id": "b4314f3d-23b9-4432-8f5a-7402230f85b3",
   "metadata": {},
   "outputs": [
    {
     "name": "stdin",
     "output_type": "stream",
     "text": [
      "What is your name:  Kelly\n"
     ]
    },
    {
     "name": "stdout",
     "output_type": "stream",
     "text": [
      "Hi Kelly\n"
     ]
    }
   ],
   "source": [
    "name = input('What is your name: ')\n",
    "print ('Hi ' + name)"
   ]
  },
  {
   "cell_type": "code",
   "execution_count": 5,
   "id": "3ebe8673-9b42-4c04-921d-e0244906168a",
   "metadata": {},
   "outputs": [
    {
     "name": "stdin",
     "output_type": "stream",
     "text": [
      "Enter your name:  Kelly\n"
     ]
    }
   ],
   "source": [
    "name = input('Enter your name: ')"
   ]
  },
  {
   "cell_type": "code",
   "execution_count": 15,
   "id": "ad1bf1ef-b0be-4148-a274-c2d314d1baf8",
   "metadata": {},
   "outputs": [
    {
     "name": "stdin",
     "output_type": "stream",
     "text": [
      "Enter your name:  Kelly\n"
     ]
    },
    {
     "name": "stdout",
     "output_type": "stream",
     "text": [
      "Hello, Kelly.\n",
      "You know it rhymes with \"Belly\" and \"Jelly\".\n"
     ]
    }
   ],
   "source": [
    "name = input ('Enter your name: ')\n",
    "if name == 'Kelly':\n",
    "    print ('Hello, ' + name + '.')\n",
    "    print ('You know it rhymes with \"Belly\" and \"Jelly\".')\n",
    "else:\n",
    "    print ('Hello, ' + name)"
   ]
  },
  {
   "cell_type": "code",
   "execution_count": 23,
   "id": "5d427751-fb93-4145-a502-d9cff54f8eba",
   "metadata": {},
   "outputs": [
    {
     "name": "stdin",
     "output_type": "stream",
     "text": [
      "Enter your name:  June\n",
      "Enter your company:  IBM\n"
     ]
    }
   ],
   "source": [
    "name = input ('Enter your name: ')\n",
    "company = input ('Enter your company: ')\n",
    "if name == 'Kelly' and company == 'Cisco':\n",
    "    print ('Hello me! Hope all is well.')\n",
    "elif name != 'Kelly' and company == 'Cisco':\n",
    "    print ('Get back to work whoever you are.')\n",
    "    "
   ]
  },
  {
   "cell_type": "code",
   "execution_count": 28,
   "id": "0d23ff1a-c317-4015-ab77-1be0db74a86a",
   "metadata": {},
   "outputs": [
    {
     "name": "stdin",
     "output_type": "stream",
     "text": [
      "Enter your name:  June\n",
      "Enter your company:  IBM\n"
     ]
    },
    {
     "name": "stdout",
     "output_type": "stream",
     "text": [
      "Shoo!\n"
     ]
    }
   ],
   "source": [
    "name = input ('Enter your name: ')\n",
    "company = input ('Enter your company: ')\n",
    "if name == 'Kelly' and company == 'Cisco':\n",
    "    print ('Hello me! Hope all is well.')\n",
    "elif name != 'Kelly' and company == 'Cisco':\n",
    "    print ('Get back to work whoever you are.')\n",
    "elif name == 'Kelly' and company != 'Cisco':\n",
    "    print ('You know, Cisco is looking for more Kellys.')\n",
    "elif name != 'Kelly' and company != 'Cisco':\n",
    "    print ('Shoo!')\n",
    "    "
   ]
  },
  {
   "cell_type": "code",
   "execution_count": null,
   "id": "48566de9-8532-4f1f-bbf2-17d939a75eef",
   "metadata": {},
   "outputs": [],
   "source": []
  },
  {
   "cell_type": "code",
   "execution_count": 30,
   "id": "831844c8-bed3-423d-a172-32217e96cf1b",
   "metadata": {},
   "outputs": [
    {
     "name": "stdin",
     "output_type": "stream",
     "text": [
      "Enter your name:  Polly\n",
      "Enter your company:  Cisco\n"
     ]
    },
    {
     "name": "stdout",
     "output_type": "stream",
     "text": [
      "Get back to work whoever you are.\n"
     ]
    }
   ],
   "source": [
    "name = input ('Enter your name: ')\n",
    "company = input ('Enter your company: ')\n",
    "if name == 'Kelly' and company == 'Cisco':\n",
    "    print ('Hello me! Hope all is well.')\n",
    "elif company == 'Cisco':\n",
    "    print ('Get back to work whoever you are.')\n",
    "elif name == 'Kelly':\n",
    "    print ('You know, Cisco is looking for more Kellys.')\n",
    "else:\n",
    "    print ('Shoo!')\n",
    "    "
   ]
  },
  {
   "cell_type": "code",
   "execution_count": 45,
   "id": "364b8da4-e893-492b-92c6-7b09b5968a21",
   "metadata": {},
   "outputs": [
    {
     "name": "stdin",
     "output_type": "stream",
     "text": [
      "Guess a number from 0-100. 88\n"
     ]
    },
    {
     "name": "stdout",
     "output_type": "stream",
     "text": [
      "Boo! Your number was too high.\n",
      "The number was 72.\n"
     ]
    }
   ],
   "source": [
    "import random\n",
    "number = random.randint(0,100)\n",
    "guess = input ('Guess a number from 0-100.')\n",
    "if guess == number:\n",
    "     print ('Amazing! You are correct!.')\n",
    "if int(guess) < int(number):\n",
    "    print ('Boo! Your number was too low.')\n",
    "    print ('The number was ' + str(number))\n",
    "else:\n",
    "    print ('Boo! Your number was too high.')\n",
    "    print ('The number was ' + str(number) +'.')"
   ]
  },
  {
   "cell_type": "code",
   "execution_count": 46,
   "id": "0848402a-4172-4bf9-b65d-c51dd4396cad",
   "metadata": {},
   "outputs": [],
   "source": [
    "s='He\\'s very nice.'"
   ]
  },
  {
   "cell_type": "code",
   "execution_count": 47,
   "id": "37187028-9156-40cc-8b58-eb5961479271",
   "metadata": {},
   "outputs": [
    {
     "name": "stdout",
     "output_type": "stream",
     "text": [
      "He's very nice.\n"
     ]
    }
   ],
   "source": [
    "print (s)"
   ]
  },
  {
   "cell_type": "code",
   "execution_count": 48,
   "id": "71132abe-93c1-4a7b-9243-e1dbef9174d7",
   "metadata": {},
   "outputs": [
    {
     "name": "stdout",
     "output_type": "stream",
     "text": [
      "She said, \"He's very nice.\"\n"
     ]
    }
   ],
   "source": [
    "s='She said, \"He\\'s very nice.\"'\n",
    "print (s)"
   ]
  },
  {
   "cell_type": "code",
   "execution_count": 49,
   "id": "0c11842d-fc6d-4b10-a742-70cf46c8775f",
   "metadata": {},
   "outputs": [
    {
     "data": {
      "text/plain": [
       "23"
      ]
     },
     "execution_count": 49,
     "metadata": {},
     "output_type": "execute_result"
    }
   ],
   "source": [
    "s = 'adkjfopefjoiqewfjnkzdjh'\n",
    "len(s)"
   ]
  },
  {
   "cell_type": "code",
   "execution_count": 50,
   "id": "e5f5c54f-e16c-4646-a4ad-86bdfda22f85",
   "metadata": {},
   "outputs": [
    {
     "ename": "TypeError",
     "evalue": "'str' object is not callable",
     "output_type": "error",
     "traceback": [
      "\u001b[0;31m---------------------------------------------------------------------------\u001b[0m",
      "\u001b[0;31mTypeError\u001b[0m                                 Traceback (most recent call last)",
      "Cell \u001b[0;32mIn[50], line 1\u001b[0m\n\u001b[0;32m----> 1\u001b[0m \u001b[43ms\u001b[49m\u001b[43m(\u001b[49m\u001b[38;5;241;43m0\u001b[39;49m\u001b[43m)\u001b[49m\n",
      "\u001b[0;31mTypeError\u001b[0m: 'str' object is not callable"
     ]
    }
   ],
   "source": [
    "s(0)"
   ]
  },
  {
   "cell_type": "code",
   "execution_count": 51,
   "id": "9b545a3b-a980-4800-b129-551dbb173bae",
   "metadata": {},
   "outputs": [
    {
     "data": {
      "text/plain": [
       "'a'"
      ]
     },
     "execution_count": 51,
     "metadata": {},
     "output_type": "execute_result"
    }
   ],
   "source": [
    "s[0]"
   ]
  },
  {
   "cell_type": "code",
   "execution_count": 52,
   "id": "b60cc6e5-29e7-4ea8-98a0-1acb396c9856",
   "metadata": {},
   "outputs": [
    {
     "data": {
      "text/plain": [
       "'d'"
      ]
     },
     "execution_count": 52,
     "metadata": {},
     "output_type": "execute_result"
    }
   ],
   "source": [
    "s[1]"
   ]
  },
  {
   "cell_type": "code",
   "execution_count": 53,
   "id": "fc6a11e4-6503-417c-9288-48fa048c30c5",
   "metadata": {},
   "outputs": [
    {
     "data": {
      "text/plain": [
       "'d'"
      ]
     },
     "execution_count": 53,
     "metadata": {},
     "output_type": "execute_result"
    }
   ],
   "source": [
    "s[-3]"
   ]
  },
  {
   "cell_type": "code",
   "execution_count": 54,
   "id": "275783db-97dc-4c44-9bc5-7faddba9260e",
   "metadata": {},
   "outputs": [
    {
     "data": {
      "text/plain": [
       "'jfop'"
      ]
     },
     "execution_count": 54,
     "metadata": {},
     "output_type": "execute_result"
    }
   ],
   "source": [
    "s[3:7]"
   ]
  },
  {
   "cell_type": "code",
   "execution_count": 55,
   "id": "4eebd7f1-5cd4-47aa-aae5-c9c41ecb806c",
   "metadata": {},
   "outputs": [
    {
     "data": {
      "text/plain": [
       "'joiqewfjnkzdjh'"
      ]
     },
     "execution_count": 55,
     "metadata": {},
     "output_type": "execute_result"
    }
   ],
   "source": [
    "s[9:]"
   ]
  },
  {
   "cell_type": "code",
   "execution_count": 56,
   "id": "535dba35-9bc7-4cff-9630-f35df611ccec",
   "metadata": {},
   "outputs": [
    {
     "data": {
      "text/plain": [
       "'zdjh'"
      ]
     },
     "execution_count": 56,
     "metadata": {},
     "output_type": "execute_result"
    }
   ],
   "source": [
    "s[19:]"
   ]
  },
  {
   "cell_type": "code",
   "execution_count": 57,
   "id": "12481022-898e-40cc-91d0-d76680ba5b53",
   "metadata": {},
   "outputs": [
    {
     "data": {
      "text/plain": [
       "'adkjfopefjoiqewfjnkzdjh'"
      ]
     },
     "execution_count": 57,
     "metadata": {},
     "output_type": "execute_result"
    }
   ],
   "source": [
    "s"
   ]
  },
  {
   "cell_type": "code",
   "execution_count": 82,
   "id": "556a2a43-63c1-47f2-b844-f5a28c8bb2fc",
   "metadata": {},
   "outputs": [
    {
     "name": "stdin",
     "output_type": "stream",
     "text": [
      "Enter a word: cat\n"
     ]
    },
    {
     "name": "stdout",
     "output_type": "stream",
     "text": [
      "atcay\n"
     ]
    }
   ],
   "source": [
    "word = input('Enter a word:')\n",
    "rest = str(word[2:])\n",
    "if (word[0] == 'a' or\n",
    "    word[0] == 'e' or\n",
    "    word[0] == 'i' or\n",
    "    word[0] == 'o' or\n",
    "    word[0] == 'u'):\n",
    "    print (word[1:] + word[0] + 'way')\n",
    "else:\n",
    "    print (word[1:] + word[0] + 'ay')"
   ]
  },
  {
   "cell_type": "code",
   "execution_count": 83,
   "id": "2a6c83d7-1536-444c-80ed-16c46026bbe3",
   "metadata": {},
   "outputs": [
    {
     "name": "stdin",
     "output_type": "stream",
     "text": [
      "Enter a word: shark\n"
     ]
    },
    {
     "name": "stdout",
     "output_type": "stream",
     "text": [
      "harksay\n"
     ]
    }
   ],
   "source": [
    "word = input('Enter a word:')\n",
    "rest = str(word[2:])\n",
    "if (word[0] == 'a' or\n",
    "    word[0] == 'e' or\n",
    "    word[0] == 'i' or\n",
    "    word[0] == 'o' or\n",
    "    word[0] == 'u'):\n",
    "    print (word[1:] + word[0] + 'way')\n",
    "else:\n",
    "    print (word[1:] + word[0] + 'ay')"
   ]
  },
  {
   "cell_type": "code",
   "execution_count": 85,
   "id": "f4677837-1d21-4fa7-9848-c58b25ad2dcb",
   "metadata": {},
   "outputs": [
    {
     "name": "stdin",
     "output_type": "stream",
     "text": [
      "Enter a word: computer\n"
     ]
    },
    {
     "name": "stdout",
     "output_type": "stream",
     "text": [
      "omputercay\n"
     ]
    }
   ],
   "source": [
    "word = input('Enter a word:')\n",
    "if (word[0] == 'a' or\n",
    "    word[0] == 'e' or\n",
    "    word[0] == 'i' or\n",
    "    word[0] == 'o' or\n",
    "    word[0] == 'u'):\n",
    "    print (word[1:] + word[0] + 'way')\n",
    "else:\n",
    "    print (word[1:] + word[0] + 'ay')"
   ]
  },
  {
   "cell_type": "code",
   "execution_count": 86,
   "id": "3b1e17ae-d709-466d-a61f-ea7f1d499d13",
   "metadata": {},
   "outputs": [
    {
     "data": {
      "text/plain": [
       "'omputercay'"
      ]
     },
     "execution_count": 86,
     "metadata": {},
     "output_type": "execute_result"
    }
   ],
   "source": [
    "f'{word[1:]}{word[0]}ay'"
   ]
  },
  {
   "cell_type": "code",
   "execution_count": 87,
   "id": "a55eb6e9-fb15-446a-b52b-b9e632a2b424",
   "metadata": {},
   "outputs": [
    {
     "name": "stdin",
     "output_type": "stream",
     "text": [
      "Enter your name:      Jenny\n"
     ]
    },
    {
     "name": "stdout",
     "output_type": "stream",
     "text": [
      "Hello, Jenny!\n"
     ]
    }
   ],
   "source": [
    "name = input ('Enter your name: ').strip()\n",
    "print(f'Hello, {name}!')"
   ]
  },
  {
   "cell_type": "code",
   "execution_count": 88,
   "id": "9aa30f95-33f6-4bd2-8ca1-1e148b96be17",
   "metadata": {},
   "outputs": [
    {
     "data": {
      "text/plain": [
       "'ajbwhcwosge'"
      ]
     },
     "execution_count": 88,
     "metadata": {},
     "output_type": "execute_result"
    }
   ],
   "source": [
    "s = 'AJbwhcwoSGE'\n",
    "s.lower()"
   ]
  },
  {
   "cell_type": "code",
   "execution_count": 89,
   "id": "543636ec-74c5-4423-9f87-e1e530a99503",
   "metadata": {},
   "outputs": [
    {
     "data": {
      "text/plain": [
       "'AJBWHCWOSGE'"
      ]
     },
     "execution_count": 89,
     "metadata": {},
     "output_type": "execute_result"
    }
   ],
   "source": [
    "s.upper()"
   ]
  },
  {
   "cell_type": "code",
   "execution_count": 90,
   "id": "906a11bb-3dba-456a-8d21-249522536647",
   "metadata": {},
   "outputs": [
    {
     "data": {
      "text/plain": [
       "'Ajbwhcwosge'"
      ]
     },
     "execution_count": 90,
     "metadata": {},
     "output_type": "execute_result"
    }
   ],
   "source": [
    "s.capitalize()"
   ]
  },
  {
   "cell_type": "code",
   "execution_count": 91,
   "id": "5c313a42-963f-4731-89b8-124090792ce2",
   "metadata": {},
   "outputs": [
    {
     "data": {
      "text/plain": [
       "'Ajbwhcwosge'"
      ]
     },
     "execution_count": 91,
     "metadata": {},
     "output_type": "execute_result"
    }
   ],
   "source": [
    "s.title()"
   ]
  },
  {
   "cell_type": "code",
   "execution_count": 92,
   "id": "7ec98129-16d9-4dc5-b561-8ea12fef3879",
   "metadata": {},
   "outputs": [
    {
     "data": {
      "text/plain": [
       "'ajBWHCWOsge'"
      ]
     },
     "execution_count": 92,
     "metadata": {},
     "output_type": "execute_result"
    }
   ],
   "source": [
    "s.swapcase()"
   ]
  },
  {
   "cell_type": "code",
   "execution_count": null,
   "id": "8854dcca-6cda-4cc2-b4dc-f2eff85353bb",
   "metadata": {},
   "outputs": [],
   "source": [
    "s = 'KJNewydlSJ kfgjrKJEH'"
   ]
  },
  {
   "cell_type": "code",
   "execution_count": 107,
   "id": "deef31e1-bcb9-4571-8422-500e1e9830d3",
   "metadata": {},
   "outputs": [
    {
     "name": "stdin",
     "output_type": "stream",
     "text": [
      "Enter a number:  9\n",
      "Enter an operator (+, -, *, /):  -\n",
      "Enter another number:  3\n"
     ]
    },
    {
     "name": "stdout",
     "output_type": "stream",
     "text": [
      "9-3 = \n"
     ]
    }
   ],
   "source": [
    "num1 = input('Enter a number: ')\n",
    "op = input('Enter an operator (+, -, *, /): ')\n",
    "num2 = input('Enter another number: ')\n",
    "if num1.isdigit() and num2.isdigit():\n",
    "    print(f'{num1}{op}{num2} = ')\n",
    "else:\n",
    "    print('Not a digit.')"
   ]
  },
  {
   "cell_type": "markdown",
   "id": "6553233e-30b5-474b-99c2-5520a5698728",
   "metadata": {},
   "source": [
    "num1 = input('Enter a number: ')\n",
    "op = input('Enter an operator (+, -, *, /): ')\n",
    "num2 = input('Enter another number: ')\n",
    "val = (num1opnum2)\n",
    "if num1.isdigit() and num2.isdigit():\n",
    "    print(f'{num1}{op}{num2} = ')\n",
    "    print (val)\n",
    "else:\n",
    "    print('Not a digit.')"
   ]
  },
  {
   "cell_type": "code",
   "execution_count": 110,
   "id": "d9b7ac8a-367b-4285-a33f-199ab573e2d9",
   "metadata": {},
   "outputs": [
    {
     "name": "stdout",
     "output_type": "stream",
     "text": [
      "15\n"
     ]
    }
   ],
   "source": [
    "s1 = '10'\n",
    "op = '+'\n",
    "s2 = '5'\n",
    "\n",
    "n1 = int(s1)\n",
    "n2 = int(s2)\n",
    "\n",
    "result = n1 + n2\n",
    "\n",
    "print(result)\n"
   ]
  },
  {
   "cell_type": "code",
   "execution_count": 119,
   "id": "6ced21b7-5675-4815-af9b-85c017ba4f42",
   "metadata": {},
   "outputs": [
    {
     "name": "stdin",
     "output_type": "stream",
     "text": [
      "Enter a number:  5\n",
      "Enter an operator (+, -, *, /):  +\n",
      "Enter another number:  32\n"
     ]
    },
    {
     "name": "stdout",
     "output_type": "stream",
     "text": [
      "37\n"
     ]
    }
   ],
   "source": [
    "s1 = input('Enter a number: ').strip()\n",
    "op = input('Enter an operator (+, -, *, /): ').strip()\n",
    "s2 = input('Enter another number: ').strip()\n",
    "n1 = int(s1)\n",
    "n2 = int(s2)\n",
    "if s1.isdigit() and s2.isdigit():\n",
    "        if op == '+':\n",
    "         print(n1 + n2)\n",
    "            \n",
    "        elif op == '-':\n",
    "         print(n1 - n2)\n",
    "        \n",
    "        else:\n",
    "            result = f'No such operator (op)'\n",
    "\n",
    "else:\n",
    "    print(f'Try using numbers.')\n",
    "    \n"
   ]
  },
  {
   "cell_type": "code",
   "execution_count": 120,
   "id": "2f1a53e8-fed5-4335-967a-af9ef06b7d5b",
   "metadata": {},
   "outputs": [
    {
     "name": "stdout",
     "output_type": "stream",
     "text": [
      "K\n",
      "e\n",
      "l\n",
      "l\n",
      "y\n"
     ]
    }
   ],
   "source": [
    "name = 'Kelly'\n",
    "for one_character in name:\n",
    "    print(one_character)\n",
    "    "
   ]
  },
  {
   "cell_type": "code",
   "execution_count": 121,
   "id": "16fa09b5-f83b-433f-a494-16b4f592789e",
   "metadata": {},
   "outputs": [
    {
     "name": "stdin",
     "output_type": "stream",
     "text": [
      "Enter a string\"  Kelly\n"
     ]
    },
    {
     "name": "stdout",
     "output_type": "stream",
     "text": [
      "Kelly contains 1 vowels.\n"
     ]
    }
   ],
   "source": [
    "vowel_count = 0\n",
    "s = input('Enter a string\" ').strip()\n",
    "\n",
    "for one_character in s:\n",
    "    if one_character in 'aeiou':\n",
    "        vowel_count += 1\n",
    "\n",
    "print(f'{s} contains {vowel_count} vowels.')"
   ]
  },
  {
   "cell_type": "code",
   "execution_count": 127,
   "id": "46a15d46-d70f-44a1-b412-2f9826e51bd6",
   "metadata": {},
   "outputs": [
    {
     "name": "stdin",
     "output_type": "stream",
     "text": [
      "Enter a string of numbers:  123467\n"
     ]
    },
    {
     "ename": "TypeError",
     "evalue": "'int' object is not iterable",
     "output_type": "error",
     "traceback": [
      "\u001b[0;31m---------------------------------------------------------------------------\u001b[0m",
      "\u001b[0;31mTypeError\u001b[0m                                 Traceback (most recent call last)",
      "Cell \u001b[0;32mIn[127], line 6\u001b[0m\n\u001b[1;32m      4\u001b[0m string \u001b[38;5;241m=\u001b[39m \u001b[38;5;28minput\u001b[39m(\u001b[38;5;124m'\u001b[39m\u001b[38;5;124mEnter a string of numbers: \u001b[39m\u001b[38;5;124m'\u001b[39m)\n\u001b[1;32m      5\u001b[0m number \u001b[38;5;241m=\u001b[39m \u001b[38;5;28mint\u001b[39m(string)\n\u001b[0;32m----> 6\u001b[0m \u001b[38;5;28;01mfor\u001b[39;00m one_character \u001b[38;5;129;01min\u001b[39;00m \u001b[38;5;28mint\u001b[39m(string):\n\u001b[1;32m      7\u001b[0m     \u001b[38;5;28;01mif\u001b[39;00m one_character \u001b[38;5;129;01min\u001b[39;00m \u001b[38;5;124m'\u001b[39m\u001b[38;5;124m1\u001b[39m\u001b[38;5;124m'\u001b[39m:\n\u001b[1;32m      8\u001b[0m         odds \u001b[38;5;241m+\u001b[39m\u001b[38;5;241m=\u001b[39m \u001b[38;5;241m1\u001b[39m\n",
      "\u001b[0;31mTypeError\u001b[0m: 'int' object is not iterable"
     ]
    }
   ],
   "source": [
    "#odds and evens\n",
    "odds = 0\n",
    "evens = 0\n",
    "string = input('Enter a string of numbers: ')\n",
    "number = int(string)\n",
    "for one_character in string):\n",
    "    if one_character in '1':\n",
    "        odds += 1\n",
    "    if one_character in '2468':\n",
    "        evens += 1\n",
    "print(f'{string} contains {odds} odd numbers and {evens} even numbers.')\n"
   ]
  },
  {
   "cell_type": "code",
   "execution_count": 129,
   "id": "64ee53f2-8beb-4215-a535-1ff50bb72f2e",
   "metadata": {},
   "outputs": [
    {
     "name": "stdout",
     "output_type": "stream",
     "text": [
      "odds =  1 and evens = 0.\n"
     ]
    }
   ],
   "source": [
    "odds = 0\n",
    "evens = 0\n",
    "s='5123'\n",
    "n=int(s)\n",
    "if n% 2 == 0:\n",
    "    evens += 1\n",
    "\n",
    "else: \n",
    "    odds += 1\n",
    "\n",
    "\n",
    "print(f'odds =  {odds} and evens = {evens}.')"
   ]
  },
  {
   "cell_type": "code",
   "execution_count": 137,
   "id": "5150f7c1-9c50-471b-b25e-879d8061f8ac",
   "metadata": {},
   "outputs": [
    {
     "name": "stdin",
     "output_type": "stream",
     "text": [
      "Enter a string of numbers:  8274\n"
     ]
    },
    {
     "name": "stdout",
     "output_type": "stream",
     "text": [
      "odds =  1 and evens = 3.\n"
     ]
    }
   ],
   "source": [
    "odds = 0\n",
    "evens = 0\n",
    "s = input('Enter a string of numbers: ')\n",
    "\n",
    "\n",
    "for one_digit in s:\n",
    "    n = int(one_digit)\n",
    "    \n",
    "    if n % 2 == 0:\n",
    "        evens += 1\n",
    "\n",
    "    else: \n",
    "        odds += 1\n",
    "\n",
    "\n",
    "print(f'odds =  {odds} and evens = {evens}.')"
   ]
  },
  {
   "cell_type": "code",
   "execution_count": 136,
   "id": "21e80ff6-67bd-4224-87a7-eb4aeaf9b84e",
   "metadata": {},
   "outputs": [
    {
     "name": "stdout",
     "output_type": "stream",
     "text": [
      "odds =  3 and evens = 3.\n"
     ]
    }
   ],
   "source": [
    "odds = 0\n",
    "evens = 0\n",
    "s = '555222'\n",
    "\n",
    "\n",
    "for one_digit in s:\n",
    "    n = int(one_digit)\n",
    "    \n",
    "    if n % 2 == 0:\n",
    "        evens += 1\n",
    "\n",
    "    else: \n",
    "        odds += 1\n",
    "\n",
    "\n",
    "print(f'odds =  {odds} and evens = {evens}.')"
   ]
  },
  {
   "cell_type": "code",
   "execution_count": 138,
   "id": "2f225cf2-449c-44f7-9ae9-659ffaef0cc5",
   "metadata": {},
   "outputs": [
    {
     "name": "stdout",
     "output_type": "stream",
     "text": [
      "1: 8\n",
      "\t8\n",
      "1: 2\n",
      "\t2\n",
      "1: 7\n",
      "\t7\n",
      "1: 4\n",
      "\t4\n"
     ]
    }
   ],
   "source": [
    "index = 1\n",
    "\n",
    "for one_character in s:\n",
    "    print(f'{index}: {one_character}')\n",
    "    print(f'\\t{index * one_character}')"
   ]
  },
  {
   "cell_type": "code",
   "execution_count": 143,
   "id": "1160d907-26df-4723-bbca-4e460181631a",
   "metadata": {},
   "outputs": [
    {
     "name": "stdin",
     "output_type": "stream",
     "text": [
      "Enter a string:  Kelly 1234 ####\n"
     ]
    },
    {
     "name": "stdout",
     "output_type": "stream",
     "text": [
      "digits =  4 and vowels = 1 others = 10.\n"
     ]
    }
   ],
   "source": [
    "digits = 0\n",
    "vowels = 0\n",
    "others = 0\n",
    "s = input('Enter a string: ').strip()\n",
    "\n",
    "for one_character in s:\n",
    "    if one_character in \"aeiou\":\n",
    "        vowels += 1\n",
    "    if one_character in \"0123456789\":\n",
    "        digits += 1\n",
    "    if one_character not in \"0123456789aeiou\":\n",
    "        others += 1\n",
    "\n",
    "\n",
    "print(f'digits =  {digits} and vowels = {vowels} others = {others}.')"
   ]
  },
  {
   "cell_type": "code",
   "execution_count": 145,
   "id": "4a781ca6-dfde-4c32-a8c2-9efb047b936c",
   "metadata": {},
   "outputs": [
    {
     "name": "stdin",
     "output_type": "stream",
     "text": [
      "Enter a string:  123^^^aaa\n"
     ]
    },
    {
     "name": "stdout",
     "output_type": "stream",
     "text": [
      "digits =  3 and vowels = 3 others = 3.\n"
     ]
    }
   ],
   "source": [
    "digits = 0\n",
    "vowels = 0\n",
    "others = 0\n",
    "s = input('Enter a string: ').strip()\n",
    "\n",
    "for one_character in s:\n",
    "    if one_character in \"aeiou\":\n",
    "        vowels += 1\n",
    "    elif one_character.isdigit():\n",
    "        digits += 1\n",
    "    else:\n",
    "        others += 1\n",
    "\n",
    "\n",
    "print(f'digits =  {digits} and vowels = {vowels} others = {others}.')"
   ]
  },
  {
   "cell_type": "code",
   "execution_count": 145,
   "id": "a831759c-ed26-441b-b5fa-a25b53336b58",
   "metadata": {},
   "outputs": [
    {
     "name": "stdin",
     "output_type": "stream",
     "text": [
      "Enter a string:  123^^^aaa\n"
     ]
    },
    {
     "name": "stdout",
     "output_type": "stream",
     "text": [
      "digits =  3 and vowels = 3 others = 3.\n"
     ]
    }
   ],
   "source": [
    "digits = 0\n",
    "vowels = 0\n",
    "others = 0\n",
    "s = input('Enter a string: ').strip()\n",
    "\n",
    "for one_character in s:\n",
    "    if one_character in \"aeiou\":\n",
    "        vowels += 1\n",
    "    elif one_character.isdigit():\n",
    "        digits += 1\n",
    "    else:\n",
    "        others += 1\n",
    "\n",
    "\n",
    "print(f'digits =  {digits} and vowels = {vowels} others = {others}.')"
   ]
  },
  {
   "cell_type": "code",
   "execution_count": 146,
   "id": "efa22c18-11eb-4ced-a9fc-d4b530b7b074",
   "metadata": {},
   "outputs": [
    {
     "name": "stdout",
     "output_type": "stream",
     "text": [
      "Hey!\n",
      "Hey!\n",
      "Hey!\n"
     ]
    }
   ],
   "source": [
    "for one_interation in range(3):\n",
    "        print('Hey!')"
   ]
  },
  {
   "cell_type": "code",
   "execution_count": 150,
   "id": "6d339bc9-d68a-4065-9939-79bd9d0ff28a",
   "metadata": {},
   "outputs": [
    {
     "name": "stdout",
     "output_type": "stream",
     "text": [
      "0 Hey!\n",
      "1 Hey!\n",
      "2 Hey!\n"
     ]
    }
   ],
   "source": [
    "for one_iteration in range(3):\n",
    "        print(f'{one_iteration} Hey!')"
   ]
  },
  {
   "cell_type": "code",
   "execution_count": 154,
   "id": "8214b96f-0888-4e00-9284-c7e0475e7788",
   "metadata": {},
   "outputs": [
    {
     "name": "stdin",
     "output_type": "stream",
     "text": [
      "Enter your name:  Kelly\n"
     ]
    },
    {
     "name": "stdout",
     "output_type": "stream",
     "text": [
      "Kelly[0:1]\n",
      "Kelly[0:1]\n",
      "Kelly[0:1]\n",
      "Kelly[0:1]\n",
      "Kelly[0:1]\n"
     ]
    }
   ],
   "source": [
    "name = input('Enter your name: ')\n",
    "namelen = len(name)\n",
    "\n",
    "for onechar in range(namelen):\n",
    "    print (f'{name}')\n"
   ]
  },
  {
   "cell_type": "code",
   "execution_count": 155,
   "id": "50ac610f-c612-4525-ae4f-e8f156e06f87",
   "metadata": {},
   "outputs": [
    {
     "name": "stdin",
     "output_type": "stream",
     "text": [
      "Enter your name:  dd\n"
     ]
    },
    {
     "name": "stdout",
     "output_type": "stream",
     "text": [
      "\n",
      "d\n",
      "dd\n",
      "dd\n",
      "dd\n"
     ]
    }
   ],
   "source": [
    "name = input('Enter your name: ')\n",
    "\n",
    "print(name[:0])\n",
    "print(name[:1])\n",
    "print(name[:2])\n",
    "print(name[:3])\n",
    "print(name[:4])\n"
   ]
  },
  {
   "cell_type": "code",
   "execution_count": 157,
   "id": "342ab316-9e57-426d-bf9e-b62a74d2ae8f",
   "metadata": {},
   "outputs": [
    {
     "name": "stdin",
     "output_type": "stream",
     "text": [
      "Enter your name:  Kelly\n"
     ]
    },
    {
     "name": "stdout",
     "output_type": "stream",
     "text": [
      "K\n",
      "Ke\n",
      "Kel\n",
      "Kell\n",
      "Kelly\n"
     ]
    }
   ],
   "source": [
    "name = input('Enter your name: ').strip()\n",
    "\n",
    "for index in range(len(name)):\n",
    "    print(name[0:index+1])\n"
   ]
  },
  {
   "cell_type": "code",
   "execution_count": 158,
   "id": "fd1ed054-977e-41ac-bd33-f133fa85f0a0",
   "metadata": {},
   "outputs": [
    {
     "name": "stdin",
     "output_type": "stream",
     "text": [
      "Enter your name:  Kelly\n"
     ]
    },
    {
     "name": "stdout",
     "output_type": "stream",
     "text": [
      "K\n",
      "Ke\n",
      "Kel\n",
      "Kell\n",
      "Kelly\n"
     ]
    }
   ],
   "source": [
    "name = input('Enter your name: ').strip()\n",
    "\n",
    "for index in range(1,len(name)+1):\n",
    "    print(name[:index])\n"
   ]
  },
  {
   "cell_type": "code",
   "execution_count": 159,
   "id": "4c5f1c39-e0f8-40a6-9abc-c0662aa6c0e8",
   "metadata": {},
   "outputs": [
    {
     "name": "stdout",
     "output_type": "stream",
     "text": [
      "0: a\n",
      "1: b\n",
      "2: c\n",
      "3: d\n"
     ]
    }
   ],
   "source": [
    "index = 0\n",
    "\n",
    "for one_char in 'abcd':\n",
    "        print (f'{index}: {one_char}')\n",
    "        index += 1"
   ]
  },
  {
   "cell_type": "code",
   "execution_count": 160,
   "id": "b7e24ce4-e21e-431f-83d1-b6f3d40327a7",
   "metadata": {},
   "outputs": [
    {
     "name": "stdout",
     "output_type": "stream",
     "text": [
      "0: a\n",
      "1: b\n",
      "2: c\n",
      "3: d\n"
     ]
    }
   ],
   "source": [
    "index = 0\n",
    "\n",
    "for index, one_char in  enumerate('abcd'):\n",
    "        print (f'{index}: {one_char}')\n"
   ]
  },
  {
   "cell_type": "code",
   "execution_count": 162,
   "id": "89bc7fc2-5037-44d0-91ad-0924be8b6204",
   "metadata": {},
   "outputs": [
    {
     "name": "stdout",
     "output_type": "stream",
     "text": [
      "3\n"
     ]
    }
   ],
   "source": [
    "vowels = 0\n",
    "s = 'abcdefghij'\n",
    "\n",
    "for one_char in s:\n",
    "    if one_char not in 'aeiou':\n",
    "        continue\n",
    "    vowels += 1\n",
    "\n",
    "print(vowels)"
   ]
  },
  {
   "cell_type": "code",
   "execution_count": null,
   "id": "dc340dbc-ea91-487d-afc6-e733d9842825",
   "metadata": {},
   "outputs": [
    {
     "name": "stdin",
     "output_type": "stream",
     "text": [
      "Enter a number:  55\n",
      "Enter a number:  55\n"
     ]
    },
    {
     "name": "stdout",
     "output_type": "stream",
     "text": [
      "55\n"
     ]
    },
    {
     "name": "stdin",
     "output_type": "stream",
     "text": [
      "Enter a number:  22\n"
     ]
    },
    {
     "name": "stdout",
     "output_type": "stream",
     "text": [
      "55\n"
     ]
    },
    {
     "name": "stdin",
     "output_type": "stream",
     "text": [
      "Enter a number:  100\n"
     ]
    },
    {
     "name": "stdout",
     "output_type": "stream",
     "text": [
      "55\n"
     ]
    },
    {
     "name": "stdin",
     "output_type": "stream",
     "text": [
      "Enter a number:  111\n"
     ]
    },
    {
     "name": "stdout",
     "output_type": "stream",
     "text": [
      "55\n"
     ]
    }
   ],
   "source": [
    "total = 0\n",
    "user_input = input('Enter a number: ')\n",
    "sum = total + int(user_input)\n",
    "\n",
    "while sum <100:\n",
    "    user_input = input('Enter a number: ')\n",
    "    total += sum\n",
    "    \n",
    "    print (sum)"
   ]
  },
  {
   "cell_type": "code",
   "execution_count": 1,
   "id": "555b0995-9089-4bf2-a208-ddea6055d291",
   "metadata": {},
   "outputs": [
    {
     "name": "stdin",
     "output_type": "stream",
     "text": [
      "Enter a number:  44\n",
      "Enter a number:  44\n"
     ]
    },
    {
     "name": "stdout",
     "output_type": "stream",
     "text": [
      "44\n"
     ]
    },
    {
     "ename": "KeyboardInterrupt",
     "evalue": "Interrupted by user",
     "output_type": "error",
     "traceback": [
      "\u001b[0;31m---------------------------------------------------------------------------\u001b[0m",
      "\u001b[0;31mKeyboardInterrupt\u001b[0m                         Traceback (most recent call last)",
      "Cell \u001b[0;32mIn[1], line 6\u001b[0m\n\u001b[1;32m      3\u001b[0m \u001b[38;5;28msum\u001b[39m \u001b[38;5;241m=\u001b[39m total \u001b[38;5;241m+\u001b[39m \u001b[38;5;28mint\u001b[39m(user_input)\n\u001b[1;32m      5\u001b[0m \u001b[38;5;28;01mwhile\u001b[39;00m \u001b[38;5;28msum\u001b[39m \u001b[38;5;241m<\u001b[39m\u001b[38;5;241m100\u001b[39m:\n\u001b[0;32m----> 6\u001b[0m     user_input \u001b[38;5;241m=\u001b[39m \u001b[38;5;28;43minput\u001b[39;49m\u001b[43m(\u001b[49m\u001b[38;5;124;43m'\u001b[39;49m\u001b[38;5;124;43mEnter a number: \u001b[39;49m\u001b[38;5;124;43m'\u001b[39;49m\u001b[43m)\u001b[49m\n\u001b[1;32m      7\u001b[0m     total \u001b[38;5;241m+\u001b[39m\u001b[38;5;241m=\u001b[39m \u001b[38;5;28msum\u001b[39m\n\u001b[1;32m      9\u001b[0m     \u001b[38;5;28mprint\u001b[39m (\u001b[38;5;28msum\u001b[39m)\n",
      "File \u001b[0;32m/usr/local/lib/python3.10/dist-packages/ipykernel/kernelbase.py:1202\u001b[0m, in \u001b[0;36mKernel.raw_input\u001b[0;34m(self, prompt)\u001b[0m\n\u001b[1;32m   1200\u001b[0m     msg \u001b[38;5;241m=\u001b[39m \u001b[38;5;124m\"\u001b[39m\u001b[38;5;124mraw_input was called, but this frontend does not support input requests.\u001b[39m\u001b[38;5;124m\"\u001b[39m\n\u001b[1;32m   1201\u001b[0m     \u001b[38;5;28;01mraise\u001b[39;00m StdinNotImplementedError(msg)\n\u001b[0;32m-> 1202\u001b[0m \u001b[38;5;28;01mreturn\u001b[39;00m \u001b[38;5;28;43mself\u001b[39;49m\u001b[38;5;241;43m.\u001b[39;49m\u001b[43m_input_request\u001b[49m\u001b[43m(\u001b[49m\n\u001b[1;32m   1203\u001b[0m \u001b[43m    \u001b[49m\u001b[38;5;28;43mstr\u001b[39;49m\u001b[43m(\u001b[49m\u001b[43mprompt\u001b[49m\u001b[43m)\u001b[49m\u001b[43m,\u001b[49m\n\u001b[1;32m   1204\u001b[0m \u001b[43m    \u001b[49m\u001b[38;5;28;43mself\u001b[39;49m\u001b[38;5;241;43m.\u001b[39;49m\u001b[43m_parent_ident\u001b[49m\u001b[43m[\u001b[49m\u001b[38;5;124;43m\"\u001b[39;49m\u001b[38;5;124;43mshell\u001b[39;49m\u001b[38;5;124;43m\"\u001b[39;49m\u001b[43m]\u001b[49m\u001b[43m,\u001b[49m\n\u001b[1;32m   1205\u001b[0m \u001b[43m    \u001b[49m\u001b[38;5;28;43mself\u001b[39;49m\u001b[38;5;241;43m.\u001b[39;49m\u001b[43mget_parent\u001b[49m\u001b[43m(\u001b[49m\u001b[38;5;124;43m\"\u001b[39;49m\u001b[38;5;124;43mshell\u001b[39;49m\u001b[38;5;124;43m\"\u001b[39;49m\u001b[43m)\u001b[49m\u001b[43m,\u001b[49m\n\u001b[1;32m   1206\u001b[0m \u001b[43m    \u001b[49m\u001b[43mpassword\u001b[49m\u001b[38;5;241;43m=\u001b[39;49m\u001b[38;5;28;43;01mFalse\u001b[39;49;00m\u001b[43m,\u001b[49m\n\u001b[1;32m   1207\u001b[0m \u001b[43m\u001b[49m\u001b[43m)\u001b[49m\n",
      "File \u001b[0;32m/usr/local/lib/python3.10/dist-packages/ipykernel/kernelbase.py:1245\u001b[0m, in \u001b[0;36mKernel._input_request\u001b[0;34m(self, prompt, ident, parent, password)\u001b[0m\n\u001b[1;32m   1242\u001b[0m \u001b[38;5;28;01mexcept\u001b[39;00m \u001b[38;5;167;01mKeyboardInterrupt\u001b[39;00m:\n\u001b[1;32m   1243\u001b[0m     \u001b[38;5;66;03m# re-raise KeyboardInterrupt, to truncate traceback\u001b[39;00m\n\u001b[1;32m   1244\u001b[0m     msg \u001b[38;5;241m=\u001b[39m \u001b[38;5;124m\"\u001b[39m\u001b[38;5;124mInterrupted by user\u001b[39m\u001b[38;5;124m\"\u001b[39m\n\u001b[0;32m-> 1245\u001b[0m     \u001b[38;5;28;01mraise\u001b[39;00m \u001b[38;5;167;01mKeyboardInterrupt\u001b[39;00m(msg) \u001b[38;5;28;01mfrom\u001b[39;00m \u001b[38;5;28;01mNone\u001b[39;00m\n\u001b[1;32m   1246\u001b[0m \u001b[38;5;28;01mexcept\u001b[39;00m \u001b[38;5;167;01mException\u001b[39;00m:\n\u001b[1;32m   1247\u001b[0m     \u001b[38;5;28mself\u001b[39m\u001b[38;5;241m.\u001b[39mlog\u001b[38;5;241m.\u001b[39mwarning(\u001b[38;5;124m\"\u001b[39m\u001b[38;5;124mInvalid Message:\u001b[39m\u001b[38;5;124m\"\u001b[39m, exc_info\u001b[38;5;241m=\u001b[39m\u001b[38;5;28;01mTrue\u001b[39;00m)\n",
      "\u001b[0;31mKeyboardInterrupt\u001b[0m: Interrupted by user"
     ]
    }
   ],
   "source": [
    "total = 0\n",
    "user_input = input('Enter a number: ')\n",
    "\n",
    "\n",
    "while sum <100:\n",
    "    user_input = input('Enter a number: ')\n",
    "    total += user_input\n",
    "    \n",
    "    print (sum)"
   ]
  },
  {
   "cell_type": "code",
   "execution_count": 3,
   "id": "5577b824-6509-45bf-a1ad-25b1ab4e022d",
   "metadata": {},
   "outputs": [
    {
     "name": "stdin",
     "output_type": "stream",
     "text": [
      "Enter a number:  55\n",
      "Enter a number:  55\n"
     ]
    },
    {
     "name": "stdout",
     "output_type": "stream",
     "text": [
      "44\n"
     ]
    },
    {
     "name": "stdin",
     "output_type": "stream",
     "text": [
      "Enter a number:  55\n"
     ]
    },
    {
     "name": "stdout",
     "output_type": "stream",
     "text": [
      "44\n"
     ]
    },
    {
     "ename": "KeyboardInterrupt",
     "evalue": "Interrupted by user",
     "output_type": "error",
     "traceback": [
      "\u001b[0;31m---------------------------------------------------------------------------\u001b[0m",
      "\u001b[0;31mKeyboardInterrupt\u001b[0m                         Traceback (most recent call last)",
      "Cell \u001b[0;32mIn[3], line 6\u001b[0m\n\u001b[1;32m      2\u001b[0m user_input \u001b[38;5;241m=\u001b[39m \u001b[38;5;28minput\u001b[39m(\u001b[38;5;124m'\u001b[39m\u001b[38;5;124mEnter a number: \u001b[39m\u001b[38;5;124m'\u001b[39m)\n\u001b[1;32m      5\u001b[0m \u001b[38;5;28;01mwhile\u001b[39;00m \u001b[38;5;28msum\u001b[39m \u001b[38;5;241m<\u001b[39m\u001b[38;5;241m100\u001b[39m:\n\u001b[0;32m----> 6\u001b[0m     user_input \u001b[38;5;241m=\u001b[39m \u001b[38;5;28;43minput\u001b[39;49m\u001b[43m(\u001b[49m\u001b[38;5;124;43m'\u001b[39;49m\u001b[38;5;124;43mEnter a number: \u001b[39;49m\u001b[38;5;124;43m'\u001b[39;49m\u001b[43m)\u001b[49m\n\u001b[1;32m      7\u001b[0m     total \u001b[38;5;241m+\u001b[39m\u001b[38;5;241m=\u001b[39m \u001b[38;5;28mint\u001b[39m(user_input)\n\u001b[1;32m      9\u001b[0m     \u001b[38;5;28mprint\u001b[39m (\u001b[38;5;28msum\u001b[39m)\n",
      "File \u001b[0;32m/usr/local/lib/python3.10/dist-packages/ipykernel/kernelbase.py:1202\u001b[0m, in \u001b[0;36mKernel.raw_input\u001b[0;34m(self, prompt)\u001b[0m\n\u001b[1;32m   1200\u001b[0m     msg \u001b[38;5;241m=\u001b[39m \u001b[38;5;124m\"\u001b[39m\u001b[38;5;124mraw_input was called, but this frontend does not support input requests.\u001b[39m\u001b[38;5;124m\"\u001b[39m\n\u001b[1;32m   1201\u001b[0m     \u001b[38;5;28;01mraise\u001b[39;00m StdinNotImplementedError(msg)\n\u001b[0;32m-> 1202\u001b[0m \u001b[38;5;28;01mreturn\u001b[39;00m \u001b[38;5;28;43mself\u001b[39;49m\u001b[38;5;241;43m.\u001b[39;49m\u001b[43m_input_request\u001b[49m\u001b[43m(\u001b[49m\n\u001b[1;32m   1203\u001b[0m \u001b[43m    \u001b[49m\u001b[38;5;28;43mstr\u001b[39;49m\u001b[43m(\u001b[49m\u001b[43mprompt\u001b[49m\u001b[43m)\u001b[49m\u001b[43m,\u001b[49m\n\u001b[1;32m   1204\u001b[0m \u001b[43m    \u001b[49m\u001b[38;5;28;43mself\u001b[39;49m\u001b[38;5;241;43m.\u001b[39;49m\u001b[43m_parent_ident\u001b[49m\u001b[43m[\u001b[49m\u001b[38;5;124;43m\"\u001b[39;49m\u001b[38;5;124;43mshell\u001b[39;49m\u001b[38;5;124;43m\"\u001b[39;49m\u001b[43m]\u001b[49m\u001b[43m,\u001b[49m\n\u001b[1;32m   1205\u001b[0m \u001b[43m    \u001b[49m\u001b[38;5;28;43mself\u001b[39;49m\u001b[38;5;241;43m.\u001b[39;49m\u001b[43mget_parent\u001b[49m\u001b[43m(\u001b[49m\u001b[38;5;124;43m\"\u001b[39;49m\u001b[38;5;124;43mshell\u001b[39;49m\u001b[38;5;124;43m\"\u001b[39;49m\u001b[43m)\u001b[49m\u001b[43m,\u001b[49m\n\u001b[1;32m   1206\u001b[0m \u001b[43m    \u001b[49m\u001b[43mpassword\u001b[49m\u001b[38;5;241;43m=\u001b[39;49m\u001b[38;5;28;43;01mFalse\u001b[39;49;00m\u001b[43m,\u001b[49m\n\u001b[1;32m   1207\u001b[0m \u001b[43m\u001b[49m\u001b[43m)\u001b[49m\n",
      "File \u001b[0;32m/usr/local/lib/python3.10/dist-packages/ipykernel/kernelbase.py:1245\u001b[0m, in \u001b[0;36mKernel._input_request\u001b[0;34m(self, prompt, ident, parent, password)\u001b[0m\n\u001b[1;32m   1242\u001b[0m \u001b[38;5;28;01mexcept\u001b[39;00m \u001b[38;5;167;01mKeyboardInterrupt\u001b[39;00m:\n\u001b[1;32m   1243\u001b[0m     \u001b[38;5;66;03m# re-raise KeyboardInterrupt, to truncate traceback\u001b[39;00m\n\u001b[1;32m   1244\u001b[0m     msg \u001b[38;5;241m=\u001b[39m \u001b[38;5;124m\"\u001b[39m\u001b[38;5;124mInterrupted by user\u001b[39m\u001b[38;5;124m\"\u001b[39m\n\u001b[0;32m-> 1245\u001b[0m     \u001b[38;5;28;01mraise\u001b[39;00m \u001b[38;5;167;01mKeyboardInterrupt\u001b[39;00m(msg) \u001b[38;5;28;01mfrom\u001b[39;00m \u001b[38;5;28;01mNone\u001b[39;00m\n\u001b[1;32m   1246\u001b[0m \u001b[38;5;28;01mexcept\u001b[39;00m \u001b[38;5;167;01mException\u001b[39;00m:\n\u001b[1;32m   1247\u001b[0m     \u001b[38;5;28mself\u001b[39m\u001b[38;5;241m.\u001b[39mlog\u001b[38;5;241m.\u001b[39mwarning(\u001b[38;5;124m\"\u001b[39m\u001b[38;5;124mInvalid Message:\u001b[39m\u001b[38;5;124m\"\u001b[39m, exc_info\u001b[38;5;241m=\u001b[39m\u001b[38;5;28;01mTrue\u001b[39;00m)\n",
      "\u001b[0;31mKeyboardInterrupt\u001b[0m: Interrupted by user"
     ]
    }
   ],
   "source": [
    "total = 0\n",
    "user_input = input('Enter a number: ')\n",
    "\n",
    "\n",
    "while tota; <100:\n",
    "    user_input = input('Enter a number: ')\n",
    "    total += int(user_input)\n",
    "    \n",
    "    print (total)"
   ]
  },
  {
   "cell_type": "code",
   "execution_count": 11,
   "id": "e460cb78-ec75-4722-8fb2-70f20e85e16b",
   "metadata": {},
   "outputs": [
    {
     "name": "stdin",
     "output_type": "stream",
     "text": [
      "Enter a number:  88\n"
     ]
    },
    {
     "name": "stdout",
     "output_type": "stream",
     "text": [
      "Total = 88\n"
     ]
    },
    {
     "name": "stdin",
     "output_type": "stream",
     "text": [
      "Enter a number:  monkey\n"
     ]
    },
    {
     "name": "stdout",
     "output_type": "stream",
     "text": [
      "monkey is not numeric, try again!\n",
      "Total = 88\n"
     ]
    },
    {
     "name": "stdin",
     "output_type": "stream",
     "text": [
      "Enter a number:  dd\n"
     ]
    },
    {
     "name": "stdout",
     "output_type": "stream",
     "text": [
      "dd is not numeric, try again!\n",
      "Total = 88\n"
     ]
    },
    {
     "name": "stdin",
     "output_type": "stream",
     "text": [
      "Enter a number:  66\n"
     ]
    },
    {
     "name": "stdout",
     "output_type": "stream",
     "text": [
      "Total = 154\n"
     ]
    }
   ],
   "source": [
    "total = 0\n",
    "\n",
    "while total <100:\n",
    "    s = input('Enter a number: ').strip()\n",
    "    if s.isdigit():\n",
    "            n = int(s)\n",
    "            total += n\n",
    "    else:\n",
    "        print (f'{s} is not numeric, try again!')\n",
    "            \n",
    "    print (f'Total = {total}')"
   ]
  },
  {
   "cell_type": "code",
   "execution_count": null,
   "id": "86d843d6-1d5f-497c-bf0b-208460b5b207",
   "metadata": {},
   "outputs": [],
   "source": []
  },
  {
   "cell_type": "code",
   "execution_count": 12,
   "id": "8a4b214a-e42c-4803-84cc-c8f0b37b586d",
   "metadata": {},
   "outputs": [
    {
     "ename": "KeyboardInterrupt",
     "evalue": "Interrupted by user",
     "output_type": "error",
     "traceback": [
      "\u001b[0;31m---------------------------------------------------------------------------\u001b[0m",
      "\u001b[0;31mKeyboardInterrupt\u001b[0m                         Traceback (most recent call last)",
      "Cell \u001b[0;32mIn[12], line 4\u001b[0m\n\u001b[1;32m      1\u001b[0m total \u001b[38;5;241m=\u001b[39m \u001b[38;5;241m0\u001b[39m\n\u001b[1;32m      3\u001b[0m \u001b[38;5;28;01mwhile\u001b[39;00m total \u001b[38;5;241m<\u001b[39m\u001b[38;5;241m100\u001b[39m:\n\u001b[0;32m----> 4\u001b[0m     s \u001b[38;5;241m=\u001b[39m \u001b[38;5;28;43minput\u001b[39;49m\u001b[43m(\u001b[49m\u001b[38;5;124;43m'\u001b[39;49m\u001b[38;5;124;43mEnter a number: \u001b[39;49m\u001b[38;5;124;43m'\u001b[39;49m\u001b[43m)\u001b[49m\u001b[38;5;241m.\u001b[39mstrip()\n\u001b[1;32m      5\u001b[0m     \u001b[38;5;28;01mif\u001b[39;00m s\u001b[38;5;241m.\u001b[39misdigit():\n\u001b[1;32m      6\u001b[0m             n \u001b[38;5;241m=\u001b[39m \u001b[38;5;28mint\u001b[39m(s)\n",
      "File \u001b[0;32m/usr/local/lib/python3.10/dist-packages/ipykernel/kernelbase.py:1202\u001b[0m, in \u001b[0;36mKernel.raw_input\u001b[0;34m(self, prompt)\u001b[0m\n\u001b[1;32m   1200\u001b[0m     msg \u001b[38;5;241m=\u001b[39m \u001b[38;5;124m\"\u001b[39m\u001b[38;5;124mraw_input was called, but this frontend does not support input requests.\u001b[39m\u001b[38;5;124m\"\u001b[39m\n\u001b[1;32m   1201\u001b[0m     \u001b[38;5;28;01mraise\u001b[39;00m StdinNotImplementedError(msg)\n\u001b[0;32m-> 1202\u001b[0m \u001b[38;5;28;01mreturn\u001b[39;00m \u001b[38;5;28;43mself\u001b[39;49m\u001b[38;5;241;43m.\u001b[39;49m\u001b[43m_input_request\u001b[49m\u001b[43m(\u001b[49m\n\u001b[1;32m   1203\u001b[0m \u001b[43m    \u001b[49m\u001b[38;5;28;43mstr\u001b[39;49m\u001b[43m(\u001b[49m\u001b[43mprompt\u001b[49m\u001b[43m)\u001b[49m\u001b[43m,\u001b[49m\n\u001b[1;32m   1204\u001b[0m \u001b[43m    \u001b[49m\u001b[38;5;28;43mself\u001b[39;49m\u001b[38;5;241;43m.\u001b[39;49m\u001b[43m_parent_ident\u001b[49m\u001b[43m[\u001b[49m\u001b[38;5;124;43m\"\u001b[39;49m\u001b[38;5;124;43mshell\u001b[39;49m\u001b[38;5;124;43m\"\u001b[39;49m\u001b[43m]\u001b[49m\u001b[43m,\u001b[49m\n\u001b[1;32m   1205\u001b[0m \u001b[43m    \u001b[49m\u001b[38;5;28;43mself\u001b[39;49m\u001b[38;5;241;43m.\u001b[39;49m\u001b[43mget_parent\u001b[49m\u001b[43m(\u001b[49m\u001b[38;5;124;43m\"\u001b[39;49m\u001b[38;5;124;43mshell\u001b[39;49m\u001b[38;5;124;43m\"\u001b[39;49m\u001b[43m)\u001b[49m\u001b[43m,\u001b[49m\n\u001b[1;32m   1206\u001b[0m \u001b[43m    \u001b[49m\u001b[43mpassword\u001b[49m\u001b[38;5;241;43m=\u001b[39;49m\u001b[38;5;28;43;01mFalse\u001b[39;49;00m\u001b[43m,\u001b[49m\n\u001b[1;32m   1207\u001b[0m \u001b[43m\u001b[49m\u001b[43m)\u001b[49m\n",
      "File \u001b[0;32m/usr/local/lib/python3.10/dist-packages/ipykernel/kernelbase.py:1245\u001b[0m, in \u001b[0;36mKernel._input_request\u001b[0;34m(self, prompt, ident, parent, password)\u001b[0m\n\u001b[1;32m   1242\u001b[0m \u001b[38;5;28;01mexcept\u001b[39;00m \u001b[38;5;167;01mKeyboardInterrupt\u001b[39;00m:\n\u001b[1;32m   1243\u001b[0m     \u001b[38;5;66;03m# re-raise KeyboardInterrupt, to truncate traceback\u001b[39;00m\n\u001b[1;32m   1244\u001b[0m     msg \u001b[38;5;241m=\u001b[39m \u001b[38;5;124m\"\u001b[39m\u001b[38;5;124mInterrupted by user\u001b[39m\u001b[38;5;124m\"\u001b[39m\n\u001b[0;32m-> 1245\u001b[0m     \u001b[38;5;28;01mraise\u001b[39;00m \u001b[38;5;167;01mKeyboardInterrupt\u001b[39;00m(msg) \u001b[38;5;28;01mfrom\u001b[39;00m \u001b[38;5;28;01mNone\u001b[39;00m\n\u001b[1;32m   1246\u001b[0m \u001b[38;5;28;01mexcept\u001b[39;00m \u001b[38;5;167;01mException\u001b[39;00m:\n\u001b[1;32m   1247\u001b[0m     \u001b[38;5;28mself\u001b[39m\u001b[38;5;241m.\u001b[39mlog\u001b[38;5;241m.\u001b[39mwarning(\u001b[38;5;124m\"\u001b[39m\u001b[38;5;124mInvalid Message:\u001b[39m\u001b[38;5;124m\"\u001b[39m, exc_info\u001b[38;5;241m=\u001b[39m\u001b[38;5;28;01mTrue\u001b[39;00m)\n",
      "\u001b[0;31mKeyboardInterrupt\u001b[0m: Interrupted by user"
     ]
    }
   ],
   "source": [
    "total = 0\n",
    "\n",
    "while total <100:\n",
    "    s = input('Enter a number: ').strip()\n",
    "    if s.isdigit():\n",
    "            n = int(s)\n",
    "            total += n\n",
    "    else:\n",
    "        print (f'{s} is not numeric, try again!')\n",
    "            \n",
    "    print (f'Total = {total}')"
   ]
  },
  {
   "cell_type": "code",
   "execution_count": null,
   "id": "3f209186-8b38-4ef3-bd02-e6e04b5afdef",
   "metadata": {},
   "outputs": [],
   "source": []
  },
  {
   "cell_type": "code",
   "execution_count": 20,
   "id": "75bf0a59-a6e8-4cba-beb7-6bf5505be0b5",
   "metadata": {},
   "outputs": [
    {
     "name": "stdin",
     "output_type": "stream",
     "text": [
      "Enter a string containing digits:  u54\n"
     ]
    },
    {
     "ename": "ValueError",
     "evalue": "invalid literal for int() with base 10: 'u'",
     "output_type": "error",
     "traceback": [
      "\u001b[0;31m---------------------------------------------------------------------------\u001b[0m",
      "\u001b[0;31mValueError\u001b[0m                                Traceback (most recent call last)",
      "Cell \u001b[0;32mIn[20], line 10\u001b[0m\n\u001b[1;32m      8\u001b[0m \u001b[38;5;28;01melif\u001b[39;00m s \u001b[38;5;241m!=\u001b[39m \u001b[38;5;124m'\u001b[39m\u001b[38;5;124m'\u001b[39m:\n\u001b[1;32m      9\u001b[0m     \u001b[38;5;28;01mfor\u001b[39;00m one_digit \u001b[38;5;129;01min\u001b[39;00m s:\n\u001b[0;32m---> 10\u001b[0m         n \u001b[38;5;241m=\u001b[39m \u001b[38;5;28;43mint\u001b[39;49m\u001b[43m(\u001b[49m\u001b[43mone_digit\u001b[49m\u001b[43m)\u001b[49m\n\u001b[1;32m     11\u001b[0m         total \u001b[38;5;241m+\u001b[39m\u001b[38;5;241m=\u001b[39m n\n\u001b[1;32m     12\u001b[0m \u001b[38;5;28;01melse\u001b[39;00m:\n",
      "\u001b[0;31mValueError\u001b[0m: invalid literal for int() with base 10: 'u'"
     ]
    }
   ],
   "source": [
    "total = 0\n",
    "\n",
    "while total == 0:\n",
    "    s = input('Enter a string containing digits: ').strip()\n",
    "    if s == '':\n",
    "        break\n",
    "\n",
    "    elif s != '':\n",
    "        for one_digit in s:\n",
    "            n = int(one_digit)\n",
    "            total += n\n",
    "    else:\n",
    "        print (f'{s} is not numeric, try again!')\n",
    "            \n",
    "    print (f'Total = {total}')"
   ]
  },
  {
   "cell_type": "markdown",
   "id": "7786e182-da87-4638-92ff-663610274d06",
   "metadata": {},
   "source": [
    "total = 0\n",
    "\n",
    "while True:\n",
    "    s = input('Enter a string containing digits: ').strip()\n",
    "    if s == '':\n",
    "        break\n",
    "\n",
    "    for one_char in s:\n",
    "            total += int(one_char\n",
    "    else:\n",
    "        print (f'{s} is not numeric, try again!')\n",
    "            \n",
    "    print (f'Total = {total}')"
   ]
  },
  {
   "cell_type": "code",
   "execution_count": 44,
   "id": "14b99671-b425-4792-81ed-fca2ca7439f6",
   "metadata": {},
   "outputs": [
    {
     "name": "stdin",
     "output_type": "stream",
     "text": [
      "Enter a string containing digits:  4a5\n"
     ]
    },
    {
     "name": "stdout",
     "output_type": "stream",
     "text": [
      "4a5 is not a number\n"
     ]
    },
    {
     "name": "stdin",
     "output_type": "stream",
     "text": [
      "Enter a string containing digits:  \n"
     ]
    },
    {
     "name": "stdout",
     "output_type": "stream",
     "text": [
      "Total = 9\n"
     ]
    }
   ],
   "source": [
    "total = 0\n",
    "\n",
    "while True: \n",
    "    s = input('Enter a string containing digits: ').strip() \n",
    "    if s == '': \n",
    "        break\n",
    "    \n",
    "    for one_char in s:\n",
    "        if one_char.isdigit():\n",
    "           total += int(one_char)\n",
    "        else:\n",
    "          print(f'{s} is not a number')\n",
    "print (f'Total = {total}')"
   ]
  },
  {
   "cell_type": "code",
   "execution_count": null,
   "id": "6aeb765d-1481-4286-b4cc-14c17d67f760",
   "metadata": {},
   "outputs": [],
   "source": []
  },
  {
   "cell_type": "code",
   "execution_count": 55,
   "id": "903c397c-1da4-4104-8b05-145acb6490c1",
   "metadata": {},
   "outputs": [
    {
     "name": "stdin",
     "output_type": "stream",
     "text": [
      "Enter a number:  22\n",
      "Enter a number:  11\n",
      "Enter a number:  22\n",
      "Enter a number:  33\n",
      "Enter a number:  44\n",
      "Enter a number:  \n"
     ]
    },
    {
     "name": "stdout",
     "output_type": "stream",
     "text": [
      "Odds: ['11', '33']\n",
      "Evens: ['22', '22', '44']\n"
     ]
    }
   ],
   "source": [
    "odds = []\n",
    "evens = []\n",
    "\n",
    "while True: \n",
    "    s = input('Enter a number: ').strip() \n",
    "    if s == '': \n",
    "        break\n",
    "    if not s.isdigit(): \n",
    "        break\n",
    "    \n",
    "    if int(s)%2==0:\n",
    "           evens.append(s)\n",
    "    else:\n",
    "          odds.append(s)\n",
    "print (f'Odds: {odds}')\n",
    "print (f'Evens: {evens}')"
   ]
  },
  {
   "cell_type": "code",
   "execution_count": 61,
   "id": "91fae94d-f3cd-4c2f-be97-c5088dce29a9",
   "metadata": {},
   "outputs": [
    {
     "name": "stdin",
     "output_type": "stream",
     "text": [
      "Enter a string:  84aorjii3o4\n"
     ]
    },
    {
     "name": "stdout",
     "output_type": "stream",
     "text": [
      "digits =  ['8', '4', '3', '4']\n",
      "vowels = ['a', 'o', 'i', 'i', 'o']\n",
      "others = ['r', 'j']\n"
     ]
    }
   ],
   "source": [
    "digits = []\n",
    "vowels = []\n",
    "others = []\n",
    "s = input('Enter a string: ').strip()\n",
    "\n",
    "for char in s:\n",
    "    if char in \"aeiou\":\n",
    "        vowels.append(char)\n",
    "    elif char.isdigit():\n",
    "        digits.append(char)\n",
    "    else:\n",
    "        others.append(char)\n",
    "\n",
    "\n",
    "print(f'digits = {digits}')\n",
    "print(f'vowels = {vowels}')\n",
    "print(f'others = {others}')"
   ]
  },
  {
   "cell_type": "code",
   "execution_count": null,
   "id": "1e7b4399-416e-421b-9b83-ca60db41a3e1",
   "metadata": {},
   "outputs": [],
   "source": []
  },
  {
   "cell_type": "code",
   "execution_count": 70,
   "id": "09568704-0da8-498e-9eb0-3dc72dfcb4c2",
   "metadata": {},
   "outputs": [
    {
     "name": "stdin",
     "output_type": "stream",
     "text": [
      "Enter one or more numbers:  3 33. 333 3 \n"
     ]
    },
    {
     "name": "stdout",
     "output_type": "stream",
     "text": [
      "Total = 0\n",
      "list = 3 33. 333 3\n"
     ]
    },
    {
     "name": "stdin",
     "output_type": "stream",
     "text": [
      "Enter one or more numbers:  \n"
     ]
    }
   ],
   "source": [
    "total = 0\n",
    "\n",
    "\n",
    "while True: \n",
    "    s = input('Enter one or more numbers: ').strip() \n",
    "    s.split(' ')\n",
    "    if s == '': \n",
    "        break\n",
    "    \n",
    "    elif s.split(' '):\n",
    "        \n",
    " \n",
    "            \n",
    "        print (f'Total = {total}')\n",
    "        print (f'list = {s}')"
   ]
  },
  {
   "cell_type": "code",
   "execution_count": 101,
   "id": "d1d1996e-569b-47c0-9ab1-1740bcf2ad22",
   "metadata": {},
   "outputs": [
    {
     "name": "stdin",
     "output_type": "stream",
     "text": [
      "Enter numbers, separated by spaces:  33 aa 33\n"
     ]
    },
    {
     "ename": "AttributeError",
     "evalue": "type object 'list' has no attribute 'split'",
     "output_type": "error",
     "traceback": [
      "\u001b[0;31m---------------------------------------------------------------------------\u001b[0m",
      "\u001b[0;31mAttributeError\u001b[0m                            Traceback (most recent call last)",
      "Cell \u001b[0;32mIn[101], line 9\u001b[0m\n\u001b[1;32m      6\u001b[0m \u001b[38;5;28;01mif\u001b[39;00m s \u001b[38;5;241m==\u001b[39m \u001b[38;5;124m'\u001b[39m\u001b[38;5;124m'\u001b[39m:\n\u001b[1;32m      7\u001b[0m     \u001b[38;5;28;01mbreak\u001b[39;00m \n\u001b[0;32m----> 9\u001b[0m \u001b[38;5;28;01mfor\u001b[39;00m one_word \u001b[38;5;129;01min\u001b[39;00m \u001b[38;5;28;43mlist\u001b[39;49m\u001b[38;5;241;43m.\u001b[39;49m\u001b[43msplit\u001b[49m:\n\u001b[1;32m     10\u001b[0m     \u001b[38;5;28;01mif\u001b[39;00m one_word\u001b[38;5;241m.\u001b[39misdigit():\n\u001b[1;32m     11\u001b[0m         total \u001b[38;5;241m+\u001b[39m\u001b[38;5;241m=\u001b[39m \u001b[38;5;28mint\u001b[39m(one_word)\n",
      "\u001b[0;31mAttributeError\u001b[0m: type object 'list' has no attribute 'split'"
     ]
    }
   ],
   "source": [
    "total = 0\n",
    "\n",
    "while True:\n",
    "    s = input('Enter numbers, separated by spaces: ').strip()\n",
    "    list == [s\n",
    "    if s == '':\n",
    "        break \n",
    "    \n",
    "    for one_word in list.split:\n",
    "        if one_word.isdigit():\n",
    "            total += int(one_word)\n",
    "       \n",
    "        else:\n",
    "            print(f'not numeric')\n",
    "\n",
    "print(f'Total = {total}')"
   ]
  },
  {
   "cell_type": "code",
   "execution_count": 103,
   "id": "877acda2-dd38-414e-a357-aeadaebfddc8",
   "metadata": {},
   "outputs": [],
   "source": [
    "mlist = ['a', 'b', 'c', 'd', 'e']"
   ]
  },
  {
   "cell_type": "code",
   "execution_count": 104,
   "id": "8f9571e0-f9fc-4773-bffc-abab540c5af4",
   "metadata": {},
   "outputs": [
    {
     "data": {
      "text/plain": [
       "'a*b*c*d*e'"
      ]
     },
     "execution_count": 104,
     "metadata": {},
     "output_type": "execute_result"
    }
   ],
   "source": [
    "'*'.join(mlist)"
   ]
  },
  {
   "cell_type": "code",
   "execution_count": null,
   "id": "993009a4-e7e6-49e3-9faf-9b52d66b2cd9",
   "metadata": {},
   "outputs": [],
   "source": []
  },
  {
   "cell_type": "code",
   "execution_count": null,
   "id": "a783de3f-df58-4079-b394-e57345c5dea6",
   "metadata": {},
   "outputs": [],
   "source": [
    "word = input('Enter a word:')\n",
    "if (word[0] == 'a' or\n",
    "    word[0] == 'e' or\n",
    "    word[0] == 'i' or\n",
    "    word[0] == 'o' or\n",
    "    word[0] == 'u'):\n",
    "    print (word[1:] + word[0] + 'way')\n",
    "\n",
    "else:\n",
    "    print (word[1:] + word[0] + 'ay')"
   ]
  },
  {
   "cell_type": "code",
   "execution_count": 111,
   "id": "555c0945-8404-4671-988c-e278f19fb80e",
   "metadata": {},
   "outputs": [
    {
     "name": "stdin",
     "output_type": "stream",
     "text": [
      "Enter a sentence:  an animal\n"
     ]
    },
    {
     "name": "stdout",
     "output_type": "stream",
     "text": [
      "['an', 'animal'] #2\n"
     ]
    },
    {
     "ename": "TypeError",
     "evalue": "can only concatenate list (not \"str\") to list",
     "output_type": "error",
     "traceback": [
      "\u001b[0;31m---------------------------------------------------------------------------\u001b[0m",
      "\u001b[0;31mTypeError\u001b[0m                                 Traceback (most recent call last)",
      "Cell \u001b[0;32mIn[111], line 13\u001b[0m\n\u001b[1;32m      5\u001b[0m \u001b[38;5;28mprint\u001b[39m(\u001b[38;5;124mf\u001b[39m\u001b[38;5;124m'\u001b[39m\u001b[38;5;132;01m{\u001b[39;00msentence\u001b[38;5;132;01m}\u001b[39;00m\u001b[38;5;124m #\u001b[39m\u001b[38;5;132;01m{\u001b[39;00mwords\u001b[38;5;132;01m}\u001b[39;00m\u001b[38;5;124m'\u001b[39m)\n\u001b[1;32m      7\u001b[0m \u001b[38;5;28;01mif\u001b[39;00m (sentence[\u001b[38;5;241m0\u001b[39m][\u001b[38;5;241m0\u001b[39m] \u001b[38;5;241m==\u001b[39m \u001b[38;5;124m'\u001b[39m\u001b[38;5;124ma\u001b[39m\u001b[38;5;124m'\u001b[39m \u001b[38;5;129;01mor\u001b[39;00m\n\u001b[1;32m      8\u001b[0m     sentence[\u001b[38;5;241m0\u001b[39m][\u001b[38;5;241m0\u001b[39m] \u001b[38;5;241m==\u001b[39m \u001b[38;5;124m'\u001b[39m\u001b[38;5;124me\u001b[39m\u001b[38;5;124m'\u001b[39m \u001b[38;5;129;01mor\u001b[39;00m\n\u001b[1;32m      9\u001b[0m     sentence[\u001b[38;5;241m0\u001b[39m][\u001b[38;5;241m0\u001b[39m] \u001b[38;5;241m==\u001b[39m \u001b[38;5;124m'\u001b[39m\u001b[38;5;124mi\u001b[39m\u001b[38;5;124m'\u001b[39m \u001b[38;5;129;01mor\u001b[39;00m\n\u001b[1;32m     10\u001b[0m     sentence[\u001b[38;5;241m0\u001b[39m][\u001b[38;5;241m0\u001b[39m] \u001b[38;5;241m==\u001b[39m \u001b[38;5;124m'\u001b[39m\u001b[38;5;124mo\u001b[39m\u001b[38;5;124m'\u001b[39m \u001b[38;5;129;01mor\u001b[39;00m\n\u001b[1;32m     11\u001b[0m     sentence[\u001b[38;5;241m0\u001b[39m][\u001b[38;5;241m0\u001b[39m] \u001b[38;5;241m==\u001b[39m \u001b[38;5;124m'\u001b[39m\u001b[38;5;124mu\u001b[39m\u001b[38;5;124m'\u001b[39m):\n\u001b[0;32m---> 13\u001b[0m     \u001b[38;5;28mprint\u001b[39m (\u001b[43msentence\u001b[49m\u001b[43m[\u001b[49m\u001b[38;5;241;43m1\u001b[39;49m\u001b[43m:\u001b[49m\u001b[43m]\u001b[49m\u001b[43m \u001b[49m\u001b[38;5;241;43m+\u001b[39;49m\u001b[43m \u001b[49m\u001b[43msentence\u001b[49m\u001b[43m[\u001b[49m\u001b[38;5;241;43m0\u001b[39;49m\u001b[43m]\u001b[49m \u001b[38;5;241m+\u001b[39m \u001b[38;5;124m'\u001b[39m\u001b[38;5;124mway\u001b[39m\u001b[38;5;124m'\u001b[39m)\n",
      "\u001b[0;31mTypeError\u001b[0m: can only concatenate list (not \"str\") to list"
     ]
    }
   ],
   "source": [
    "total = 0\n",
    "s = input('Enter a sentence: ').strip()\n",
    "sentence = list(s.split(\" \"))\n",
    "words = len(sentence)\n",
    "print(f'{sentence} #{words}')\n",
    "\n",
    "if (sentence[0][0] == 'a' or\n",
    "    sentence[0][0] == 'e' or\n",
    "    sentence[0][0] == 'i' or\n",
    "    sentence[0][0] == 'o' or\n",
    "    sentence[0][0] == 'u'):\n",
    "    \n",
    "    print (sentence[1:] + sentence[0] + 'way')\n"
   ]
  },
  {
   "cell_type": "code",
   "execution_count": 114,
   "id": "740f9341-4668-423f-b050-93aa80250f16",
   "metadata": {},
   "outputs": [
    {
     "ename": "SyntaxError",
     "evalue": "invalid syntax (1586015708.py, line 8)",
     "output_type": "error",
     "traceback": [
      "\u001b[0;36m  Cell \u001b[0;32mIn[114], line 8\u001b[0;36m\u001b[0m\n\u001b[0;31m    print(word[1:] += word[0] + 'ay')\u001b[0m\n\u001b[0m                   ^\u001b[0m\n\u001b[0;31mSyntaxError\u001b[0m\u001b[0;31m:\u001b[0m invalid syntax\n"
     ]
    }
   ],
   "source": [
    "\n",
    "output = ''\n",
    "sentence = input('Enter a sentence: ').strip()\n",
    "\n",
    "for word in sentence.split():\n",
    "    if word[0] in 'aeiou':\n",
    "        print(word + 'way')\n",
    "\n",
    "    else:\n",
    "        print(word[1:] += word[0] + 'ay')"
   ]
  },
  {
   "cell_type": "code",
   "execution_count": 122,
   "id": "5c4abe6c-04f0-411e-b41a-70637d0fc64e",
   "metadata": {},
   "outputs": [
    {
     "ename": "AttributeError",
     "evalue": "'list' object has no attribute 'split'",
     "output_type": "error",
     "traceback": [
      "\u001b[0;31m---------------------------------------------------------------------------\u001b[0m",
      "\u001b[0;31mAttributeError\u001b[0m                            Traceback (most recent call last)",
      "Cell \u001b[0;32mIn[122], line 2\u001b[0m\n\u001b[1;32m      1\u001b[0m mlist \u001b[38;5;241m=\u001b[39m [\u001b[38;5;124m'\u001b[39m\u001b[38;5;124m32\u001b[39m\u001b[38;5;124m'\u001b[39m,\u001b[38;5;124m'\u001b[39m\u001b[38;5;124m13\u001b[39m\u001b[38;5;124m'\u001b[39m, \u001b[38;5;124m'\u001b[39m\u001b[38;5;124m55\u001b[39m\u001b[38;5;124m'\u001b[39m,\u001b[38;5;124m'\u001b[39m\u001b[38;5;124m4\u001b[39m\u001b[38;5;124m'\u001b[39m,\u001b[38;5;124m'\u001b[39m\u001b[38;5;124m90\u001b[39m\u001b[38;5;124m'\u001b[39m,\u001b[38;5;124m'\u001b[39m\u001b[38;5;124m17\u001b[39m\u001b[38;5;124m'\u001b[39m,\u001b[38;5;124m'\u001b[39m\u001b[38;5;124m44\u001b[39m\u001b[38;5;124m'\u001b[39m,\u001b[38;5;124m'\u001b[39m\u001b[38;5;124m1\u001b[39m\u001b[38;5;124m'\u001b[39m,\u001b[38;5;124m'\u001b[39m\u001b[38;5;124m70\u001b[39m\u001b[38;5;124m'\u001b[39m,\u001b[38;5;124m'\u001b[39m\u001b[38;5;124m7\u001b[39m\u001b[38;5;124m'\u001b[39m]\n\u001b[0;32m----> 2\u001b[0m \u001b[38;5;28;01mfor\u001b[39;00m num \u001b[38;5;129;01min\u001b[39;00m \u001b[43mmlist\u001b[49m\u001b[38;5;241;43m.\u001b[39;49m\u001b[43msplit\u001b[49m():\n\u001b[1;32m      3\u001b[0m     largest \u001b[38;5;241m=\u001b[39m num[\u001b[38;5;241m0\u001b[39m]\n\u001b[1;32m      4\u001b[0m     smallest \u001b[38;5;241m=\u001b[39m num[\u001b[38;5;241m0\u001b[39m]\n",
      "\u001b[0;31mAttributeError\u001b[0m: 'list' object has no attribute 'split'"
     ]
    }
   ],
   "source": [
    "mlist = [32,13, 55,4,90,17,44,1,70,7]\n",
    "for num in mlist.split():\n",
    "    largest = num[0]\n",
    "    smallest = num[0]\n",
    "    if num[1]>num[0]:\n",
    "        largest = num[1]\n",
    "    elif num[1]<num[0]:        \n",
    "        smallest = num[1]\n",
    "        print(f'{largest} and {smallest}')"
   ]
  },
  {
   "cell_type": "code",
   "execution_count": 125,
   "id": "09d63fea-57c3-4a08-b06d-b32c6b9514c5",
   "metadata": {},
   "outputs": [
    {
     "name": "stdout",
     "output_type": "stream",
     "text": [
      "largest = 90\n",
      "smallest = 1\n"
     ]
    }
   ],
   "source": [
    "mlist = [32,13, 55,4,90,17,44,1,70,7]\n",
    "largest = mlist[0]\n",
    "smallest = mlist[0]\n",
    "\n",
    "for one_num in mlist:\n",
    "    if one_num < smallest:\n",
    "        smallest = one_num\n",
    "    if one_num > largest:\n",
    "        largest = one_num\n",
    "\n",
    "print (f'largest = {largest}')\n",
    "print (f'smallest = {smallest}')"
   ]
  },
  {
   "cell_type": "code",
   "execution_count": 127,
   "id": "47906258-b06a-44b6-acb5-9fdffaa5d635",
   "metadata": {},
   "outputs": [
    {
     "name": "stdout",
     "output_type": "stream",
     "text": [
      "largest = 70\n",
      "smallest = 4\n"
     ]
    }
   ],
   "source": [
    "mlist = [32,13, 55,4,9,17,44,5,70,7]\n",
    "largest = mlist[0]\n",
    "smallest = mlist[0]\n",
    "\n",
    "for one_num in mlist[1:]:\n",
    "    if one_num < smallest:\n",
    "        smallest = one_num\n",
    "    if one_num > largest:\n",
    "        largest = one_num\n",
    "\n",
    "print (f'largest = {largest}')\n",
    "print (f'smallest = {smallest}')"
   ]
  },
  {
   "cell_type": "code",
   "execution_count": null,
   "id": "0de09e16-9fc6-4f78-8e59-711de75637fa",
   "metadata": {},
   "outputs": [],
   "source": []
  }
 ],
 "metadata": {
  "kernelspec": {
   "display_name": "Python 3 (ipykernel)",
   "language": "python",
   "name": "python3"
  },
  "language_info": {
   "codemirror_mode": {
    "name": "ipython",
    "version": 3
   },
   "file_extension": ".py",
   "mimetype": "text/x-python",
   "name": "python",
   "nbconvert_exporter": "python",
   "pygments_lexer": "ipython3",
   "version": "3.10.12"
  }
 },
 "nbformat": 4,
 "nbformat_minor": 5
}
