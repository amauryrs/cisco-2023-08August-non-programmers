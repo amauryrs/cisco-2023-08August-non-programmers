{
 "cells": [
  {
   "cell_type": "code",
   "execution_count": 1,
   "id": "e949a56e-fa59-459a-b64c-61af04c777c8",
   "metadata": {},
   "outputs": [
    {
     "data": {
      "text/plain": [
       "4"
      ]
     },
     "execution_count": 1,
     "metadata": {},
     "output_type": "execute_result"
    }
   ],
   "source": [
    "2+2"
   ]
  },
  {
   "cell_type": "code",
   "execution_count": 2,
   "id": "1de44bdd-6abc-43da-889f-1f1d8daee7dc",
   "metadata": {},
   "outputs": [],
   "source": [
    "name = 'Kelly'"
   ]
  },
  {
   "cell_type": "code",
   "execution_count": 3,
   "id": "ed2b9666-ee9f-42ae-9c6f-907d6e3e96b9",
   "metadata": {},
   "outputs": [
    {
     "name": "stdout",
     "output_type": "stream",
     "text": [
      "Hello, Kelly\n"
     ]
    }
   ],
   "source": [
    "print ('Hello, ' + name)"
   ]
  },
  {
   "cell_type": "code",
   "execution_count": 4,
   "id": "b4314f3d-23b9-4432-8f5a-7402230f85b3",
   "metadata": {},
   "outputs": [
    {
     "name": "stdin",
     "output_type": "stream",
     "text": [
      "What is your name:  Kelly\n"
     ]
    },
    {
     "name": "stdout",
     "output_type": "stream",
     "text": [
      "Hi Kelly\n"
     ]
    }
   ],
   "source": [
    "name = input('What is your name: ')\n",
    "print ('Hi ' + name)"
   ]
  },
  {
   "cell_type": "code",
   "execution_count": 5,
   "id": "3ebe8673-9b42-4c04-921d-e0244906168a",
   "metadata": {},
   "outputs": [
    {
     "name": "stdin",
     "output_type": "stream",
     "text": [
      "Enter your name:  Kelly\n"
     ]
    }
   ],
   "source": [
    "name = input('Enter your name: ')"
   ]
  },
  {
   "cell_type": "code",
   "execution_count": 15,
   "id": "ad1bf1ef-b0be-4148-a274-c2d314d1baf8",
   "metadata": {},
   "outputs": [
    {
     "name": "stdin",
     "output_type": "stream",
     "text": [
      "Enter your name:  Kelly\n"
     ]
    },
    {
     "name": "stdout",
     "output_type": "stream",
     "text": [
      "Hello, Kelly.\n",
      "You know it rhymes with \"Belly\" and \"Jelly\".\n"
     ]
    }
   ],
   "source": [
    "name = input ('Enter your name: ')\n",
    "if name == 'Kelly':\n",
    "    print ('Hello, ' + name + '.')\n",
    "    print ('You know it rhymes with \"Belly\" and \"Jelly\".')\n",
    "else:\n",
    "    print ('Hello, ' + name)"
   ]
  },
  {
   "cell_type": "code",
   "execution_count": 23,
   "id": "5d427751-fb93-4145-a502-d9cff54f8eba",
   "metadata": {},
   "outputs": [
    {
     "name": "stdin",
     "output_type": "stream",
     "text": [
      "Enter your name:  June\n",
      "Enter your company:  IBM\n"
     ]
    }
   ],
   "source": [
    "name = input ('Enter your name: ')\n",
    "company = input ('Enter your company: ')\n",
    "if name == 'Kelly' and company == 'Cisco':\n",
    "    print ('Hello me! Hope all is well.')\n",
    "elif name != 'Kelly' and company == 'Cisco':\n",
    "    print ('Get back to work whoever you are.')\n",
    "    "
   ]
  },
  {
   "cell_type": "code",
   "execution_count": 28,
   "id": "0d23ff1a-c317-4015-ab77-1be0db74a86a",
   "metadata": {},
   "outputs": [
    {
     "name": "stdin",
     "output_type": "stream",
     "text": [
      "Enter your name:  June\n",
      "Enter your company:  IBM\n"
     ]
    },
    {
     "name": "stdout",
     "output_type": "stream",
     "text": [
      "Shoo!\n"
     ]
    }
   ],
   "source": [
    "name = input ('Enter your name: ')\n",
    "company = input ('Enter your company: ')\n",
    "if name == 'Kelly' and company == 'Cisco':\n",
    "    print ('Hello me! Hope all is well.')\n",
    "elif name != 'Kelly' and company == 'Cisco':\n",
    "    print ('Get back to work whoever you are.')\n",
    "elif name == 'Kelly' and company != 'Cisco':\n",
    "    print ('You know, Cisco is looking for more Kellys.')\n",
    "elif name != 'Kelly' and company != 'Cisco':\n",
    "    print ('Shoo!')\n",
    "    "
   ]
  },
  {
   "cell_type": "code",
   "execution_count": null,
   "id": "48566de9-8532-4f1f-bbf2-17d939a75eef",
   "metadata": {},
   "outputs": [],
   "source": []
  },
  {
   "cell_type": "code",
   "execution_count": 30,
   "id": "831844c8-bed3-423d-a172-32217e96cf1b",
   "metadata": {},
   "outputs": [
    {
     "name": "stdin",
     "output_type": "stream",
     "text": [
      "Enter your name:  Polly\n",
      "Enter your company:  Cisco\n"
     ]
    },
    {
     "name": "stdout",
     "output_type": "stream",
     "text": [
      "Get back to work whoever you are.\n"
     ]
    }
   ],
   "source": [
    "name = input ('Enter your name: ')\n",
    "company = input ('Enter your company: ')\n",
    "if name == 'Kelly' and company == 'Cisco':\n",
    "    print ('Hello me! Hope all is well.')\n",
    "elif company == 'Cisco':\n",
    "    print ('Get back to work whoever you are.')\n",
    "elif name == 'Kelly':\n",
    "    print ('You know, Cisco is looking for more Kellys.')\n",
    "else:\n",
    "    print ('Shoo!')\n",
    "    "
   ]
  },
  {
   "cell_type": "code",
   "execution_count": 45,
   "id": "364b8da4-e893-492b-92c6-7b09b5968a21",
   "metadata": {},
   "outputs": [
    {
     "name": "stdin",
     "output_type": "stream",
     "text": [
      "Guess a number from 0-100. 88\n"
     ]
    },
    {
     "name": "stdout",
     "output_type": "stream",
     "text": [
      "Boo! Your number was too high.\n",
      "The number was 72.\n"
     ]
    }
   ],
   "source": [
    "import random\n",
    "number = random.randint(0,100)\n",
    "guess = input ('Guess a number from 0-100.')\n",
    "if guess == number:\n",
    "     print ('Amazing! You are correct!.')\n",
    "if int(guess) < int(number):\n",
    "    print ('Boo! Your number was too low.')\n",
    "    print ('The number was ' + str(number))\n",
    "else:\n",
    "    print ('Boo! Your number was too high.')\n",
    "    print ('The number was ' + str(number) +'.')"
   ]
  },
  {
   "cell_type": "code",
   "execution_count": 46,
   "id": "0848402a-4172-4bf9-b65d-c51dd4396cad",
   "metadata": {},
   "outputs": [],
   "source": [
    "s='He\\'s very nice.'"
   ]
  },
  {
   "cell_type": "code",
   "execution_count": 47,
   "id": "37187028-9156-40cc-8b58-eb5961479271",
   "metadata": {},
   "outputs": [
    {
     "name": "stdout",
     "output_type": "stream",
     "text": [
      "He's very nice.\n"
     ]
    }
   ],
   "source": [
    "print (s)"
   ]
  },
  {
   "cell_type": "code",
   "execution_count": 48,
   "id": "71132abe-93c1-4a7b-9243-e1dbef9174d7",
   "metadata": {},
   "outputs": [
    {
     "name": "stdout",
     "output_type": "stream",
     "text": [
      "She said, \"He's very nice.\"\n"
     ]
    }
   ],
   "source": [
    "s='She said, \"He\\'s very nice.\"'\n",
    "print (s)"
   ]
  },
  {
   "cell_type": "code",
   "execution_count": 49,
   "id": "0c11842d-fc6d-4b10-a742-70cf46c8775f",
   "metadata": {},
   "outputs": [
    {
     "data": {
      "text/plain": [
       "23"
      ]
     },
     "execution_count": 49,
     "metadata": {},
     "output_type": "execute_result"
    }
   ],
   "source": [
    "s = 'adkjfopefjoiqewfjnkzdjh'\n",
    "len(s)"
   ]
  },
  {
   "cell_type": "code",
   "execution_count": 50,
   "id": "e5f5c54f-e16c-4646-a4ad-86bdfda22f85",
   "metadata": {},
   "outputs": [
    {
     "ename": "TypeError",
     "evalue": "'str' object is not callable",
     "output_type": "error",
     "traceback": [
      "\u001b[0;31m---------------------------------------------------------------------------\u001b[0m",
      "\u001b[0;31mTypeError\u001b[0m                                 Traceback (most recent call last)",
      "Cell \u001b[0;32mIn[50], line 1\u001b[0m\n\u001b[0;32m----> 1\u001b[0m \u001b[43ms\u001b[49m\u001b[43m(\u001b[49m\u001b[38;5;241;43m0\u001b[39;49m\u001b[43m)\u001b[49m\n",
      "\u001b[0;31mTypeError\u001b[0m: 'str' object is not callable"
     ]
    }
   ],
   "source": [
    "s(0)"
   ]
  },
  {
   "cell_type": "code",
   "execution_count": 51,
   "id": "9b545a3b-a980-4800-b129-551dbb173bae",
   "metadata": {},
   "outputs": [
    {
     "data": {
      "text/plain": [
       "'a'"
      ]
     },
     "execution_count": 51,
     "metadata": {},
     "output_type": "execute_result"
    }
   ],
   "source": [
    "s[0]"
   ]
  },
  {
   "cell_type": "code",
   "execution_count": 52,
   "id": "b60cc6e5-29e7-4ea8-98a0-1acb396c9856",
   "metadata": {},
   "outputs": [
    {
     "data": {
      "text/plain": [
       "'d'"
      ]
     },
     "execution_count": 52,
     "metadata": {},
     "output_type": "execute_result"
    }
   ],
   "source": [
    "s[1]"
   ]
  },
  {
   "cell_type": "code",
   "execution_count": 53,
   "id": "fc6a11e4-6503-417c-9288-48fa048c30c5",
   "metadata": {},
   "outputs": [
    {
     "data": {
      "text/plain": [
       "'d'"
      ]
     },
     "execution_count": 53,
     "metadata": {},
     "output_type": "execute_result"
    }
   ],
   "source": [
    "s[-3]"
   ]
  },
  {
   "cell_type": "code",
   "execution_count": 54,
   "id": "275783db-97dc-4c44-9bc5-7faddba9260e",
   "metadata": {},
   "outputs": [
    {
     "data": {
      "text/plain": [
       "'jfop'"
      ]
     },
     "execution_count": 54,
     "metadata": {},
     "output_type": "execute_result"
    }
   ],
   "source": [
    "s[3:7]"
   ]
  },
  {
   "cell_type": "code",
   "execution_count": 55,
   "id": "4eebd7f1-5cd4-47aa-aae5-c9c41ecb806c",
   "metadata": {},
   "outputs": [
    {
     "data": {
      "text/plain": [
       "'joiqewfjnkzdjh'"
      ]
     },
     "execution_count": 55,
     "metadata": {},
     "output_type": "execute_result"
    }
   ],
   "source": [
    "s[9:]"
   ]
  },
  {
   "cell_type": "code",
   "execution_count": 56,
   "id": "535dba35-9bc7-4cff-9630-f35df611ccec",
   "metadata": {},
   "outputs": [
    {
     "data": {
      "text/plain": [
       "'zdjh'"
      ]
     },
     "execution_count": 56,
     "metadata": {},
     "output_type": "execute_result"
    }
   ],
   "source": [
    "s[19:]"
   ]
  },
  {
   "cell_type": "code",
   "execution_count": 57,
   "id": "12481022-898e-40cc-91d0-d76680ba5b53",
   "metadata": {},
   "outputs": [
    {
     "data": {
      "text/plain": [
       "'adkjfopefjoiqewfjnkzdjh'"
      ]
     },
     "execution_count": 57,
     "metadata": {},
     "output_type": "execute_result"
    }
   ],
   "source": [
    "s"
   ]
  },
  {
   "cell_type": "code",
   "execution_count": 82,
   "id": "556a2a43-63c1-47f2-b844-f5a28c8bb2fc",
   "metadata": {},
   "outputs": [
    {
     "name": "stdin",
     "output_type": "stream",
     "text": [
      "Enter a word: cat\n"
     ]
    },
    {
     "name": "stdout",
     "output_type": "stream",
     "text": [
      "atcay\n"
     ]
    }
   ],
   "source": [
    "word = input('Enter a word:')\n",
    "rest = str(word[2:])\n",
    "if (word[0] == 'a' or\n",
    "    word[0] == 'e' or\n",
    "    word[0] == 'i' or\n",
    "    word[0] == 'o' or\n",
    "    word[0] == 'u'):\n",
    "    print (word[1:] + word[0] + 'way')\n",
    "else:\n",
    "    print (word[1:] + word[0] + 'ay')"
   ]
  },
  {
   "cell_type": "code",
   "execution_count": 83,
   "id": "2a6c83d7-1536-444c-80ed-16c46026bbe3",
   "metadata": {},
   "outputs": [
    {
     "name": "stdin",
     "output_type": "stream",
     "text": [
      "Enter a word: shark\n"
     ]
    },
    {
     "name": "stdout",
     "output_type": "stream",
     "text": [
      "harksay\n"
     ]
    }
   ],
   "source": [
    "word = input('Enter a word:')\n",
    "rest = str(word[2:])\n",
    "if (word[0] == 'a' or\n",
    "    word[0] == 'e' or\n",
    "    word[0] == 'i' or\n",
    "    word[0] == 'o' or\n",
    "    word[0] == 'u'):\n",
    "    print (word[1:] + word[0] + 'way')\n",
    "else:\n",
    "    print (word[1:] + word[0] + 'ay')"
   ]
  },
  {
   "cell_type": "code",
   "execution_count": 85,
   "id": "f4677837-1d21-4fa7-9848-c58b25ad2dcb",
   "metadata": {},
   "outputs": [
    {
     "name": "stdin",
     "output_type": "stream",
     "text": [
      "Enter a word: computer\n"
     ]
    },
    {
     "name": "stdout",
     "output_type": "stream",
     "text": [
      "omputercay\n"
     ]
    }
   ],
   "source": [
    "word = input('Enter a word:')\n",
    "if (word[0] == 'a' or\n",
    "    word[0] == 'e' or\n",
    "    word[0] == 'i' or\n",
    "    word[0] == 'o' or\n",
    "    word[0] == 'u'):\n",
    "    print (word[1:] + word[0] + 'way')\n",
    "else:\n",
    "    print (word[1:] + word[0] + 'ay')"
   ]
  },
  {
   "cell_type": "code",
   "execution_count": 86,
   "id": "3b1e17ae-d709-466d-a61f-ea7f1d499d13",
   "metadata": {},
   "outputs": [
    {
     "data": {
      "text/plain": [
       "'omputercay'"
      ]
     },
     "execution_count": 86,
     "metadata": {},
     "output_type": "execute_result"
    }
   ],
   "source": [
    "f'{word[1:]}{word[0]}ay'"
   ]
  },
  {
   "cell_type": "code",
   "execution_count": 87,
   "id": "a55eb6e9-fb15-446a-b52b-b9e632a2b424",
   "metadata": {},
   "outputs": [
    {
     "name": "stdin",
     "output_type": "stream",
     "text": [
      "Enter your name:      Jenny\n"
     ]
    },
    {
     "name": "stdout",
     "output_type": "stream",
     "text": [
      "Hello, Jenny!\n"
     ]
    }
   ],
   "source": [
    "name = input ('Enter your name: ').strip()\n",
    "print(f'Hello, {name}!')"
   ]
  },
  {
   "cell_type": "code",
   "execution_count": 88,
   "id": "9aa30f95-33f6-4bd2-8ca1-1e148b96be17",
   "metadata": {},
   "outputs": [
    {
     "data": {
      "text/plain": [
       "'ajbwhcwosge'"
      ]
     },
     "execution_count": 88,
     "metadata": {},
     "output_type": "execute_result"
    }
   ],
   "source": [
    "s = 'AJbwhcwoSGE'\n",
    "s.lower()"
   ]
  },
  {
   "cell_type": "code",
   "execution_count": 89,
   "id": "543636ec-74c5-4423-9f87-e1e530a99503",
   "metadata": {},
   "outputs": [
    {
     "data": {
      "text/plain": [
       "'AJBWHCWOSGE'"
      ]
     },
     "execution_count": 89,
     "metadata": {},
     "output_type": "execute_result"
    }
   ],
   "source": [
    "s.upper()"
   ]
  },
  {
   "cell_type": "code",
   "execution_count": 90,
   "id": "906a11bb-3dba-456a-8d21-249522536647",
   "metadata": {},
   "outputs": [
    {
     "data": {
      "text/plain": [
       "'Ajbwhcwosge'"
      ]
     },
     "execution_count": 90,
     "metadata": {},
     "output_type": "execute_result"
    }
   ],
   "source": [
    "s.capitalize()"
   ]
  },
  {
   "cell_type": "code",
   "execution_count": 91,
   "id": "5c313a42-963f-4731-89b8-124090792ce2",
   "metadata": {},
   "outputs": [
    {
     "data": {
      "text/plain": [
       "'Ajbwhcwosge'"
      ]
     },
     "execution_count": 91,
     "metadata": {},
     "output_type": "execute_result"
    }
   ],
   "source": [
    "s.title()"
   ]
  },
  {
   "cell_type": "code",
   "execution_count": 92,
   "id": "7ec98129-16d9-4dc5-b561-8ea12fef3879",
   "metadata": {},
   "outputs": [
    {
     "data": {
      "text/plain": [
       "'ajBWHCWOsge'"
      ]
     },
     "execution_count": 92,
     "metadata": {},
     "output_type": "execute_result"
    }
   ],
   "source": [
    "s.swapcase()"
   ]
  },
  {
   "cell_type": "code",
   "execution_count": null,
   "id": "8854dcca-6cda-4cc2-b4dc-f2eff85353bb",
   "metadata": {},
   "outputs": [],
   "source": [
    "s = 'KJNewydlSJ kfgjrKJEH'"
   ]
  },
  {
   "cell_type": "code",
   "execution_count": 107,
   "id": "deef31e1-bcb9-4571-8422-500e1e9830d3",
   "metadata": {},
   "outputs": [
    {
     "name": "stdin",
     "output_type": "stream",
     "text": [
      "Enter a number:  9\n",
      "Enter an operator (+, -, *, /):  -\n",
      "Enter another number:  3\n"
     ]
    },
    {
     "name": "stdout",
     "output_type": "stream",
     "text": [
      "9-3 = \n"
     ]
    }
   ],
   "source": [
    "num1 = input('Enter a number: ')\n",
    "op = input('Enter an operator (+, -, *, /): ')\n",
    "num2 = input('Enter another number: ')\n",
    "if num1.isdigit() and num2.isdigit():\n",
    "    print(f'{num1}{op}{num2} = ')\n",
    "else:\n",
    "    print('Not a digit.')"
   ]
  },
  {
   "cell_type": "markdown",
   "id": "6553233e-30b5-474b-99c2-5520a5698728",
   "metadata": {},
   "source": [
    "num1 = input('Enter a number: ')\n",
    "op = input('Enter an operator (+, -, *, /): ')\n",
    "num2 = input('Enter another number: ')\n",
    "val = (num1opnum2)\n",
    "if num1.isdigit() and num2.isdigit():\n",
    "    print(f'{num1}{op}{num2} = ')\n",
    "    print (val)\n",
    "else:\n",
    "    print('Not a digit.')"
   ]
  },
  {
   "cell_type": "code",
   "execution_count": 110,
   "id": "d9b7ac8a-367b-4285-a33f-199ab573e2d9",
   "metadata": {},
   "outputs": [
    {
     "name": "stdout",
     "output_type": "stream",
     "text": [
      "15\n"
     ]
    }
   ],
   "source": [
    "s1 = '10'\n",
    "op = '+'\n",
    "s2 = '5'\n",
    "\n",
    "n1 = int(s1)\n",
    "n2 = int(s2)\n",
    "\n",
    "result = n1 + n2\n",
    "\n",
    "print(result)\n"
   ]
  },
  {
   "cell_type": "code",
   "execution_count": 119,
   "id": "6ced21b7-5675-4815-af9b-85c017ba4f42",
   "metadata": {},
   "outputs": [
    {
     "name": "stdin",
     "output_type": "stream",
     "text": [
      "Enter a number:  5\n",
      "Enter an operator (+, -, *, /):  +\n",
      "Enter another number:  32\n"
     ]
    },
    {
     "name": "stdout",
     "output_type": "stream",
     "text": [
      "37\n"
     ]
    }
   ],
   "source": [
    "s1 = input('Enter a number: ').strip()\n",
    "op = input('Enter an operator (+, -, *, /): ').strip()\n",
    "s2 = input('Enter another number: ').strip()\n",
    "n1 = int(s1)\n",
    "n2 = int(s2)\n",
    "if s1.isdigit() and s2.isdigit():\n",
    "        if op == '+':\n",
    "         print(n1 + n2)\n",
    "            \n",
    "        elif op == '-':\n",
    "         print(n1 - n2)\n",
    "        \n",
    "        else:\n",
    "            result = f'No such operator (op)'\n",
    "\n",
    "else:\n",
    "    print(f'Try using numbers.')\n",
    "    \n"
   ]
  },
  {
   "cell_type": "code",
   "execution_count": 120,
   "id": "2f1a53e8-fed5-4335-967a-af9ef06b7d5b",
   "metadata": {},
   "outputs": [
    {
     "name": "stdout",
     "output_type": "stream",
     "text": [
      "K\n",
      "e\n",
      "l\n",
      "l\n",
      "y\n"
     ]
    }
   ],
   "source": [
    "name = 'Kelly'\n",
    "for one_character in name:\n",
    "    print(one_character)\n",
    "    "
   ]
  },
  {
   "cell_type": "code",
   "execution_count": 121,
   "id": "16fa09b5-f83b-433f-a494-16b4f592789e",
   "metadata": {},
   "outputs": [
    {
     "name": "stdin",
     "output_type": "stream",
     "text": [
      "Enter a string\"  Kelly\n"
     ]
    },
    {
     "name": "stdout",
     "output_type": "stream",
     "text": [
      "Kelly contains 1 vowels.\n"
     ]
    }
   ],
   "source": [
    "vowel_count = 0\n",
    "s = input('Enter a string\" ').strip()\n",
    "\n",
    "for one_character in s:\n",
    "    if one_character in 'aeiou':\n",
    "        vowel_count += 1\n",
    "\n",
    "print(f'{s} contains {vowel_count} vowels.')"
   ]
  },
  {
   "cell_type": "code",
   "execution_count": 127,
   "id": "46a15d46-d70f-44a1-b412-2f9826e51bd6",
   "metadata": {},
   "outputs": [
    {
     "name": "stdin",
     "output_type": "stream",
     "text": [
      "Enter a string of numbers:  123467\n"
     ]
    },
    {
     "ename": "TypeError",
     "evalue": "'int' object is not iterable",
     "output_type": "error",
     "traceback": [
      "\u001b[0;31m---------------------------------------------------------------------------\u001b[0m",
      "\u001b[0;31mTypeError\u001b[0m                                 Traceback (most recent call last)",
      "Cell \u001b[0;32mIn[127], line 6\u001b[0m\n\u001b[1;32m      4\u001b[0m string \u001b[38;5;241m=\u001b[39m \u001b[38;5;28minput\u001b[39m(\u001b[38;5;124m'\u001b[39m\u001b[38;5;124mEnter a string of numbers: \u001b[39m\u001b[38;5;124m'\u001b[39m)\n\u001b[1;32m      5\u001b[0m number \u001b[38;5;241m=\u001b[39m \u001b[38;5;28mint\u001b[39m(string)\n\u001b[0;32m----> 6\u001b[0m \u001b[38;5;28;01mfor\u001b[39;00m one_character \u001b[38;5;129;01min\u001b[39;00m \u001b[38;5;28mint\u001b[39m(string):\n\u001b[1;32m      7\u001b[0m     \u001b[38;5;28;01mif\u001b[39;00m one_character \u001b[38;5;129;01min\u001b[39;00m \u001b[38;5;124m'\u001b[39m\u001b[38;5;124m1\u001b[39m\u001b[38;5;124m'\u001b[39m:\n\u001b[1;32m      8\u001b[0m         odds \u001b[38;5;241m+\u001b[39m\u001b[38;5;241m=\u001b[39m \u001b[38;5;241m1\u001b[39m\n",
      "\u001b[0;31mTypeError\u001b[0m: 'int' object is not iterable"
     ]
    }
   ],
   "source": [
    "#odds and evens\n",
    "odds = 0\n",
    "evens = 0\n",
    "string = input('Enter a string of numbers: ')\n",
    "number = int(string)\n",
    "for one_character in string):\n",
    "    if one_character in '1':\n",
    "        odds += 1\n",
    "    if one_character in '2468':\n",
    "        evens += 1\n",
    "print(f'{string} contains {odds} odd numbers and {evens} even numbers.')\n"
   ]
  },
  {
   "cell_type": "code",
   "execution_count": 129,
   "id": "64ee53f2-8beb-4215-a535-1ff50bb72f2e",
   "metadata": {},
   "outputs": [
    {
     "name": "stdout",
     "output_type": "stream",
     "text": [
      "odds =  1 and evens = 0.\n"
     ]
    }
   ],
   "source": [
    "odds = 0\n",
    "evens = 0\n",
    "s='5123'\n",
    "n=int(s)\n",
    "if n% 2 == 0:\n",
    "    evens += 1\n",
    "\n",
    "else: \n",
    "    odds += 1\n",
    "\n",
    "\n",
    "print(f'odds =  {odds} and evens = {evens}.')"
   ]
  },
  {
   "cell_type": "code",
   "execution_count": 131,
   "id": "5150f7c1-9c50-471b-b25e-879d8061f8ac",
   "metadata": {},
   "outputs": [
    {
     "name": "stdin",
     "output_type": "stream",
     "text": [
      "Enter a string of numbers:  891236745\n"
     ]
    },
    {
     "name": "stdout",
     "output_type": "stream",
     "text": [
      "odds =  1 and evens = 0.\n"
     ]
    }
   ],
   "source": [
    "odds = 0\n",
    "evens = 0\n",
    "s = input('Enter a string of numbers: ')\n",
    "\n",
    "\n",
    "for one_digit in s:\n",
    "    n = int(one_digit)\n",
    "if n% 2 == 0:\n",
    "    evens += 1\n",
    "\n",
    "else: \n",
    "    odds += 1\n",
    "\n",
    "\n",
    "print(f'odds =  {odds} and evens = {evens}.')"
   ]
  },
  {
   "cell_type": "code",
   "execution_count": null,
   "id": "21e80ff6-67bd-4224-87a7-eb4aeaf9b84e",
   "metadata": {},
   "outputs": [],
   "source": []
  }
 ],
 "metadata": {
  "kernelspec": {
   "display_name": "Python 3 (ipykernel)",
   "language": "python",
   "name": "python3"
  },
  "language_info": {
   "codemirror_mode": {
    "name": "ipython",
    "version": 3
   },
   "file_extension": ".py",
   "mimetype": "text/x-python",
   "name": "python",
   "nbconvert_exporter": "python",
   "pygments_lexer": "ipython3",
   "version": "3.10.12"
  }
 },
 "nbformat": 4,
 "nbformat_minor": 5
}
