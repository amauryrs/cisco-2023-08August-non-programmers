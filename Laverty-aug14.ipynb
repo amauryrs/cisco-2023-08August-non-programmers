{
 "cells": [
  {
   "cell_type": "code",
   "execution_count": 1,
   "id": "e949a56e-fa59-459a-b64c-61af04c777c8",
   "metadata": {},
   "outputs": [
    {
     "data": {
      "text/plain": [
       "4"
      ]
     },
     "execution_count": 1,
     "metadata": {},
     "output_type": "execute_result"
    }
   ],
   "source": [
    "2+2"
   ]
  },
  {
   "cell_type": "code",
   "execution_count": 2,
   "id": "1de44bdd-6abc-43da-889f-1f1d8daee7dc",
   "metadata": {},
   "outputs": [],
   "source": [
    "name = 'Kelly'"
   ]
  },
  {
   "cell_type": "code",
   "execution_count": 3,
   "id": "ed2b9666-ee9f-42ae-9c6f-907d6e3e96b9",
   "metadata": {},
   "outputs": [
    {
     "name": "stdout",
     "output_type": "stream",
     "text": [
      "Hello, Kelly\n"
     ]
    }
   ],
   "source": [
    "print ('Hello, ' + name)"
   ]
  },
  {
   "cell_type": "code",
   "execution_count": 4,
   "id": "b4314f3d-23b9-4432-8f5a-7402230f85b3",
   "metadata": {},
   "outputs": [
    {
     "name": "stdin",
     "output_type": "stream",
     "text": [
      "What is your name:  Kelly\n"
     ]
    },
    {
     "name": "stdout",
     "output_type": "stream",
     "text": [
      "Hi Kelly\n"
     ]
    }
   ],
   "source": [
    "name = input('What is your name: ')\n",
    "print ('Hi ' + name)"
   ]
  },
  {
   "cell_type": "code",
   "execution_count": 5,
   "id": "3ebe8673-9b42-4c04-921d-e0244906168a",
   "metadata": {},
   "outputs": [
    {
     "name": "stdin",
     "output_type": "stream",
     "text": [
      "Enter your name:  Kelly\n"
     ]
    }
   ],
   "source": [
    "name = input('Enter your name: ')"
   ]
  },
  {
   "cell_type": "code",
   "execution_count": 15,
   "id": "ad1bf1ef-b0be-4148-a274-c2d314d1baf8",
   "metadata": {},
   "outputs": [
    {
     "name": "stdin",
     "output_type": "stream",
     "text": [
      "Enter your name:  Kelly\n"
     ]
    },
    {
     "name": "stdout",
     "output_type": "stream",
     "text": [
      "Hello, Kelly.\n",
      "You know it rhymes with \"Belly\" and \"Jelly\".\n"
     ]
    }
   ],
   "source": [
    "name = input ('Enter your name: ')\n",
    "if name == 'Kelly':\n",
    "    print ('Hello, ' + name + '.')\n",
    "    print ('You know it rhymes with \"Belly\" and \"Jelly\".')\n",
    "else:\n",
    "    print ('Hello, ' + name)"
   ]
  },
  {
   "cell_type": "code",
   "execution_count": 23,
   "id": "5d427751-fb93-4145-a502-d9cff54f8eba",
   "metadata": {},
   "outputs": [
    {
     "name": "stdin",
     "output_type": "stream",
     "text": [
      "Enter your name:  June\n",
      "Enter your company:  IBM\n"
     ]
    }
   ],
   "source": [
    "name = input ('Enter your name: ')\n",
    "company = input ('Enter your company: ')\n",
    "if name == 'Kelly' and company == 'Cisco':\n",
    "    print ('Hello me! Hope all is well.')\n",
    "elif name != 'Kelly' and company == 'Cisco':\n",
    "    print ('Get back to work whoever you are.')\n",
    "    "
   ]
  },
  {
   "cell_type": "code",
   "execution_count": 28,
   "id": "0d23ff1a-c317-4015-ab77-1be0db74a86a",
   "metadata": {},
   "outputs": [
    {
     "name": "stdin",
     "output_type": "stream",
     "text": [
      "Enter your name:  June\n",
      "Enter your company:  IBM\n"
     ]
    },
    {
     "name": "stdout",
     "output_type": "stream",
     "text": [
      "Shoo!\n"
     ]
    }
   ],
   "source": [
    "name = input ('Enter your name: ')\n",
    "company = input ('Enter your company: ')\n",
    "if name == 'Kelly' and company == 'Cisco':\n",
    "    print ('Hello me! Hope all is well.')\n",
    "elif name != 'Kelly' and company == 'Cisco':\n",
    "    print ('Get back to work whoever you are.')\n",
    "elif name == 'Kelly' and company != 'Cisco':\n",
    "    print ('You know, Cisco is looking for more Kellys.')\n",
    "elif name != 'Kelly' and company != 'Cisco':\n",
    "    print ('Shoo!')\n",
    "    "
   ]
  },
  {
   "cell_type": "code",
   "execution_count": null,
   "id": "48566de9-8532-4f1f-bbf2-17d939a75eef",
   "metadata": {},
   "outputs": [],
   "source": []
  },
  {
   "cell_type": "code",
   "execution_count": 30,
   "id": "831844c8-bed3-423d-a172-32217e96cf1b",
   "metadata": {},
   "outputs": [
    {
     "name": "stdin",
     "output_type": "stream",
     "text": [
      "Enter your name:  Polly\n",
      "Enter your company:  Cisco\n"
     ]
    },
    {
     "name": "stdout",
     "output_type": "stream",
     "text": [
      "Get back to work whoever you are.\n"
     ]
    }
   ],
   "source": [
    "name = input ('Enter your name: ')\n",
    "company = input ('Enter your company: ')\n",
    "if name == 'Kelly' and company == 'Cisco':\n",
    "    print ('Hello me! Hope all is well.')\n",
    "elif company == 'Cisco':\n",
    "    print ('Get back to work whoever you are.')\n",
    "elif name == 'Kelly':\n",
    "    print ('You know, Cisco is looking for more Kellys.')\n",
    "else:\n",
    "    print ('Shoo!')\n",
    "    "
   ]
  },
  {
   "cell_type": "code",
   "execution_count": 45,
   "id": "364b8da4-e893-492b-92c6-7b09b5968a21",
   "metadata": {},
   "outputs": [
    {
     "name": "stdin",
     "output_type": "stream",
     "text": [
      "Guess a number from 0-100. 88\n"
     ]
    },
    {
     "name": "stdout",
     "output_type": "stream",
     "text": [
      "Boo! Your number was too high.\n",
      "The number was 72.\n"
     ]
    }
   ],
   "source": [
    "import random\n",
    "number = random.randint(0,100)\n",
    "guess = input ('Guess a number from 0-100.')\n",
    "if guess == number:\n",
    "     print ('Amazing! You are correct!.')\n",
    "if int(guess) < int(number):\n",
    "    print ('Boo! Your number was too low.')\n",
    "    print ('The number was ' + str(number))\n",
    "else:\n",
    "    print ('Boo! Your number was too high.')\n",
    "    print ('The number was ' + str(number) +'.')"
   ]
  },
  {
   "cell_type": "code",
   "execution_count": 46,
   "id": "0848402a-4172-4bf9-b65d-c51dd4396cad",
   "metadata": {},
   "outputs": [],
   "source": [
    "s='He\\'s very nice.'"
   ]
  },
  {
   "cell_type": "code",
   "execution_count": 47,
   "id": "37187028-9156-40cc-8b58-eb5961479271",
   "metadata": {},
   "outputs": [
    {
     "name": "stdout",
     "output_type": "stream",
     "text": [
      "He's very nice.\n"
     ]
    }
   ],
   "source": [
    "print (s)"
   ]
  },
  {
   "cell_type": "code",
   "execution_count": 48,
   "id": "71132abe-93c1-4a7b-9243-e1dbef9174d7",
   "metadata": {},
   "outputs": [
    {
     "name": "stdout",
     "output_type": "stream",
     "text": [
      "She said, \"He's very nice.\"\n"
     ]
    }
   ],
   "source": [
    "s='She said, \"He\\'s very nice.\"'\n",
    "print (s)"
   ]
  },
  {
   "cell_type": "code",
   "execution_count": 49,
   "id": "0c11842d-fc6d-4b10-a742-70cf46c8775f",
   "metadata": {},
   "outputs": [
    {
     "data": {
      "text/plain": [
       "23"
      ]
     },
     "execution_count": 49,
     "metadata": {},
     "output_type": "execute_result"
    }
   ],
   "source": [
    "s = 'adkjfopefjoiqewfjnkzdjh'\n",
    "len(s)"
   ]
  },
  {
   "cell_type": "code",
   "execution_count": 50,
   "id": "e5f5c54f-e16c-4646-a4ad-86bdfda22f85",
   "metadata": {},
   "outputs": [
    {
     "ename": "TypeError",
     "evalue": "'str' object is not callable",
     "output_type": "error",
     "traceback": [
      "\u001b[0;31m---------------------------------------------------------------------------\u001b[0m",
      "\u001b[0;31mTypeError\u001b[0m                                 Traceback (most recent call last)",
      "Cell \u001b[0;32mIn[50], line 1\u001b[0m\n\u001b[0;32m----> 1\u001b[0m \u001b[43ms\u001b[49m\u001b[43m(\u001b[49m\u001b[38;5;241;43m0\u001b[39;49m\u001b[43m)\u001b[49m\n",
      "\u001b[0;31mTypeError\u001b[0m: 'str' object is not callable"
     ]
    }
   ],
   "source": [
    "s(0)"
   ]
  },
  {
   "cell_type": "code",
   "execution_count": null,
   "id": "9b545a3b-a980-4800-b129-551dbb173bae",
   "metadata": {},
   "outputs": [],
   "source": []
  }
 ],
 "metadata": {
  "kernelspec": {
   "display_name": "Python 3 (ipykernel)",
   "language": "python",
   "name": "python3"
  },
  "language_info": {
   "codemirror_mode": {
    "name": "ipython",
    "version": 3
   },
   "file_extension": ".py",
   "mimetype": "text/x-python",
   "name": "python",
   "nbconvert_exporter": "python",
   "pygments_lexer": "ipython3",
   "version": "3.10.12"
  }
 },
 "nbformat": 4,
 "nbformat_minor": 5
}
