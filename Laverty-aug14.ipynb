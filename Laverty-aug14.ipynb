{
 "cells": [
  {
   "cell_type": "code",
   "execution_count": 1,
   "id": "e949a56e-fa59-459a-b64c-61af04c777c8",
   "metadata": {},
   "outputs": [
    {
     "data": {
      "text/plain": [
       "4"
      ]
     },
     "execution_count": 1,
     "metadata": {},
     "output_type": "execute_result"
    }
   ],
   "source": [
    "2+2"
   ]
  },
  {
   "cell_type": "code",
   "execution_count": 2,
   "id": "1de44bdd-6abc-43da-889f-1f1d8daee7dc",
   "metadata": {},
   "outputs": [],
   "source": [
    "name = 'Kelly'"
   ]
  },
  {
   "cell_type": "code",
   "execution_count": 3,
   "id": "ed2b9666-ee9f-42ae-9c6f-907d6e3e96b9",
   "metadata": {},
   "outputs": [
    {
     "name": "stdout",
     "output_type": "stream",
     "text": [
      "Hello, Kelly\n"
     ]
    }
   ],
   "source": [
    "print ('Hello, ' + name)"
   ]
  },
  {
   "cell_type": "code",
   "execution_count": 4,
   "id": "b4314f3d-23b9-4432-8f5a-7402230f85b3",
   "metadata": {},
   "outputs": [
    {
     "name": "stdin",
     "output_type": "stream",
     "text": [
      "What is your name:  Kelly\n"
     ]
    },
    {
     "name": "stdout",
     "output_type": "stream",
     "text": [
      "Hi Kelly\n"
     ]
    }
   ],
   "source": [
    "name = input('What is your name: ')\n",
    "print ('Hi ' + name)"
   ]
  },
  {
   "cell_type": "code",
   "execution_count": 5,
   "id": "3ebe8673-9b42-4c04-921d-e0244906168a",
   "metadata": {},
   "outputs": [
    {
     "name": "stdin",
     "output_type": "stream",
     "text": [
      "Enter your name:  Kelly\n"
     ]
    }
   ],
   "source": [
    "name = input('Enter your name: ')"
   ]
  },
  {
   "cell_type": "code",
   "execution_count": 15,
   "id": "ad1bf1ef-b0be-4148-a274-c2d314d1baf8",
   "metadata": {},
   "outputs": [
    {
     "name": "stdin",
     "output_type": "stream",
     "text": [
      "Enter your name:  Kelly\n"
     ]
    },
    {
     "name": "stdout",
     "output_type": "stream",
     "text": [
      "Hello, Kelly.\n",
      "You know it rhymes with \"Belly\" and \"Jelly\".\n"
     ]
    }
   ],
   "source": [
    "name = input ('Enter your name: ')\n",
    "if name == 'Kelly':\n",
    "    print ('Hello, ' + name + '.')\n",
    "    print ('You know it rhymes with \"Belly\" and \"Jelly\".')\n",
    "else:\n",
    "    print ('Hello, ' + name)"
   ]
  },
  {
   "cell_type": "code",
   "execution_count": 23,
   "id": "5d427751-fb93-4145-a502-d9cff54f8eba",
   "metadata": {},
   "outputs": [
    {
     "name": "stdin",
     "output_type": "stream",
     "text": [
      "Enter your name:  June\n",
      "Enter your company:  IBM\n"
     ]
    }
   ],
   "source": [
    "name = input ('Enter your name: ')\n",
    "company = input ('Enter your company: ')\n",
    "if name == 'Kelly' and company == 'Cisco':\n",
    "    print ('Hello me! Hope all is well.')\n",
    "elif name != 'Kelly' and company == 'Cisco':\n",
    "    print ('Get back to work whoever you are.')\n",
    "    "
   ]
  },
  {
   "cell_type": "code",
   "execution_count": 28,
   "id": "0d23ff1a-c317-4015-ab77-1be0db74a86a",
   "metadata": {},
   "outputs": [
    {
     "name": "stdin",
     "output_type": "stream",
     "text": [
      "Enter your name:  June\n",
      "Enter your company:  IBM\n"
     ]
    },
    {
     "name": "stdout",
     "output_type": "stream",
     "text": [
      "Shoo!\n"
     ]
    }
   ],
   "source": [
    "name = input ('Enter your name: ')\n",
    "company = input ('Enter your company: ')\n",
    "if name == 'Kelly' and company == 'Cisco':\n",
    "    print ('Hello me! Hope all is well.')\n",
    "elif name != 'Kelly' and company == 'Cisco':\n",
    "    print ('Get back to work whoever you are.')\n",
    "elif name == 'Kelly' and company != 'Cisco':\n",
    "    print ('You know, Cisco is looking for more Kellys.')\n",
    "elif name != 'Kelly' and company != 'Cisco':\n",
    "    print ('Shoo!')\n",
    "    "
   ]
  },
  {
   "cell_type": "code",
   "execution_count": null,
   "id": "48566de9-8532-4f1f-bbf2-17d939a75eef",
   "metadata": {},
   "outputs": [],
   "source": []
  },
  {
   "cell_type": "code",
   "execution_count": 30,
   "id": "831844c8-bed3-423d-a172-32217e96cf1b",
   "metadata": {},
   "outputs": [
    {
     "name": "stdin",
     "output_type": "stream",
     "text": [
      "Enter your name:  Polly\n",
      "Enter your company:  Cisco\n"
     ]
    },
    {
     "name": "stdout",
     "output_type": "stream",
     "text": [
      "Get back to work whoever you are.\n"
     ]
    }
   ],
   "source": [
    "name = input ('Enter your name: ')\n",
    "company = input ('Enter your company: ')\n",
    "if name == 'Kelly' and company == 'Cisco':\n",
    "    print ('Hello me! Hope all is well.')\n",
    "elif company == 'Cisco':\n",
    "    print ('Get back to work whoever you are.')\n",
    "elif name == 'Kelly':\n",
    "    print ('You know, Cisco is looking for more Kellys.')\n",
    "else:\n",
    "    print ('Shoo!')\n",
    "    "
   ]
  },
  {
   "cell_type": "code",
   "execution_count": 33,
   "id": "364b8da4-e893-492b-92c6-7b09b5968a21",
   "metadata": {},
   "outputs": [
    {
     "name": "stdout",
     "output_type": "stream",
     "text": [
      "73\n"
     ]
    }
   ],
   "source": [
    "import random\n",
    "number = random.randint(0,100)\n",
    "guess = input ('Guess a number from 0-100.')\n",
    "if guess = number:\n",
    "print ('Amazing! You are correct!.')\n",
    "if gue"
   ]
  },
  {
   "cell_type": "code",
   "execution_count": null,
   "id": "0848402a-4172-4bf9-b65d-c51dd4396cad",
   "metadata": {},
   "outputs": [],
   "source": []
  }
 ],
 "metadata": {
  "kernelspec": {
   "display_name": "Python 3 (ipykernel)",
   "language": "python",
   "name": "python3"
  },
  "language_info": {
   "codemirror_mode": {
    "name": "ipython",
    "version": 3
   },
   "file_extension": ".py",
   "mimetype": "text/x-python",
   "name": "python",
   "nbconvert_exporter": "python",
   "pygments_lexer": "ipython3",
   "version": "3.10.12"
  }
 },
 "nbformat": 4,
 "nbformat_minor": 5
}
