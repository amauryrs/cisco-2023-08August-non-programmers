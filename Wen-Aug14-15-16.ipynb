{
 "cells": [
  {
   "cell_type": "code",
   "execution_count": 1,
   "id": "b50bfe67-8ab6-49a5-a556-72344e297b57",
   "metadata": {},
   "outputs": [
    {
     "data": {
      "text/plain": [
       "8"
      ]
     },
     "execution_count": 1,
     "metadata": {},
     "output_type": "execute_result"
    }
   ],
   "source": [
    "3+5"
   ]
  },
  {
   "cell_type": "code",
   "execution_count": 2,
   "id": "365cf6d9-d64e-43a5-9d71-3397e7f6a2f2",
   "metadata": {},
   "outputs": [
    {
     "name": "stdout",
     "output_type": "stream",
     "text": [
      "Today is Aug 14th\n"
     ]
    }
   ],
   "source": [
    "print (\"Today is Aug 14th\")"
   ]
  },
  {
   "cell_type": "code",
   "execution_count": 6,
   "id": "b66d42a4-4d97-47e5-8718-0b5918537739",
   "metadata": {},
   "outputs": [
    {
     "name": "stdout",
     "output_type": "stream",
     "text": [
      "Wen\n"
     ]
    }
   ],
   "source": [
    "name = (\"Wen\")\n",
    "print(name)"
   ]
  },
  {
   "cell_type": "code",
   "execution_count": 29,
   "id": "a7ebe5ed-c538-4bd3-be4d-157086af490f",
   "metadata": {},
   "outputs": [
    {
     "name": "stdout",
     "output_type": "stream",
     "text": [
      "Happy Monday Max!\n"
     ]
    }
   ],
   "source": [
    "print(\"Happy Monday \" + name + \"!\")"
   ]
  },
  {
   "cell_type": "markdown",
   "id": "0d7af25a-1be2-44eb-b622-a4e72e3b492b",
   "metadata": {},
   "source": [
    "# Exercise: Nice greeting to any user, with their name\n",
    "1. Get the user's name with `input`, and assign it to the variable `name`.\n",
    "2. Print a nice greeting to the user, including whatever they entered."
   ]
  },
  {
   "cell_type": "code",
   "execution_count": 8,
   "id": "1cce4e84-4b9f-4bd5-baf1-ba7fc1d81b92",
   "metadata": {},
   "outputs": [
    {
     "name": "stdin",
     "output_type": "stream",
     "text": [
      "Good morning, please enter your name:  Wen\n"
     ]
    }
   ],
   "source": [
    "name = input ('Good morning, please enter your name: ')"
   ]
  },
  {
   "cell_type": "code",
   "execution_count": 9,
   "id": "6c7cad46-d62b-4ac2-a43a-d095cf3deb4a",
   "metadata": {},
   "outputs": [
    {
     "data": {
      "text/plain": [
       "'Wen'"
      ]
     },
     "execution_count": 9,
     "metadata": {},
     "output_type": "execute_result"
    }
   ],
   "source": [
    "name"
   ]
  },
  {
   "cell_type": "code",
   "execution_count": 10,
   "id": "b6533637-fdca-4d0c-a81b-2d2c1c9c03a6",
   "metadata": {},
   "outputs": [
    {
     "name": "stdout",
     "output_type": "stream",
     "text": [
      "Thank you for entering your name, Wen\n"
     ]
    }
   ],
   "source": [
    "print (\"Thank you for entering your name, \" + name)"
   ]
  },
  {
   "cell_type": "code",
   "execution_count": 15,
   "id": "de6e8bc8-b837-479c-b1e2-9c3ce333f2fa",
   "metadata": {},
   "outputs": [
    {
     "name": "stdin",
     "output_type": "stream",
     "text": [
      "Please enter your name:  Apple\n"
     ]
    },
    {
     "name": "stdout",
     "output_type": "stream",
     "text": [
      "You are not her, Apple, please sign out\n"
     ]
    }
   ],
   "source": [
    "name = input ('Please enter your name: ')\n",
    "if name == 'Wen':\n",
    "    print ('Good morning,' + name)\n",
    "else: \n",
    "    print ('You are not her, ' + name + ',' + ' please sign out')"
   ]
  },
  {
   "cell_type": "code",
   "execution_count": null,
   "id": "5479b795-dd8f-4f8a-8f01-fc593d05283e",
   "metadata": {},
   "outputs": [],
   "source": [
    "# Exercise: Nice greeting\n",
    "1. Ask the user to enter their name, and assign to `name`.\n",
    "2. If the user's name is the same as yours print a respectful greeting. Have at least 2 lines in that block.\n",
    "3. If the user's name is *not* the same as yours, then print a snarky response."
   ]
  },
  {
   "cell_type": "code",
   "execution_count": 19,
   "id": "51c2628e-6e59-4c17-89f8-aec9e26747e9",
   "metadata": {},
   "outputs": [
    {
     "name": "stdin",
     "output_type": "stream",
     "text": [
      "Please enter your name:  Wen\n"
     ]
    },
    {
     "name": "stdout",
     "output_type": "stream",
     "text": [
      "Good morning, Wen\n",
      "I am so excited to see you!\n"
     ]
    }
   ],
   "source": [
    "name = input ('Please enter your name: ')\n",
    "if name == 'Wen':\n",
    "    print ('Good morning, ' + name)\n",
    "    print ('I am so excited to see you!')\n",
    "else: \n",
    "    print ('You are not her, ' + name + ',' + ' please sign out')\n",
    "    print ('I am not joking, please sign out now!')"
   ]
  },
  {
   "cell_type": "markdown",
   "id": "ea247f5d-0047-426a-8e46-7b0728e8ebc5",
   "metadata": {},
   "source": [
    "# Exercise: Greet a colleague (or not)\n",
    "1. Ask the user to enter their name, and assign to `name`.\n",
    "2. Ask the user to enter their company's name, and assign to `company`.\n",
    "3. Print one of four things:\n",
    "    - If the name and company match yours say something like, \"You must be me.\"\n",
    "    - If the name is the same, but the company is not, then compliment their name, and be snarky about their company.\n",
    "    - If the company is the same, but the name is not, then compliment their company, and be snarky about their name.\n",
    "    - If neither is a match, then just be generally snarky with them."
   ]
  },
  {
   "cell_type": "code",
   "execution_count": 28,
   "id": "80736463-28a8-4bd3-8bdb-4b82a5efb250",
   "metadata": {},
   "outputs": [
    {
     "name": "stdin",
     "output_type": "stream",
     "text": [
      "please enter your name:  Max\n",
      "please enter your company:  Apple\n"
     ]
    },
    {
     "name": "stdout",
     "output_type": "stream",
     "text": [
      "Get out of here who are you and who you work for?\n"
     ]
    }
   ],
   "source": [
    "name = input ('please enter your name: ')\n",
    "company = input ('please enter your company: ')\n",
    "if name == 'Wen' and company == 'Cisco':\n",
    "    print ('You must be me! Welcome!')\n",
    "elif name =='Wen' and company != 'Cisco':\n",
    "    print ('Hey you, ' + name + ', but you are not from Cisco.')\n",
    "elif company == 'Cisco' and name != 'Wen':\n",
    "    print ('Cool company, but why are ' + name + ' you here?')\n",
    "else:\n",
    "    print ('Get out of here who are you and who you work for?')"
   ]
  },
  {
   "cell_type": "code",
   "execution_count": 33,
   "id": "e9251a3b-3b8c-4a5a-b88e-c102786029c5",
   "metadata": {},
   "outputs": [
    {
     "name": "stdin",
     "output_type": "stream",
     "text": [
      "please enter your name:  Wen\n",
      "please enter your company:  Cisco\n"
     ]
    },
    {
     "name": "stdout",
     "output_type": "stream",
     "text": [
      "You must be me! Welcome!\n"
     ]
    }
   ],
   "source": [
    "name = input ('please enter your name: ')\n",
    "company = input ('please enter your company: ')\n",
    "if name == 'Wen' and company == 'Cisco':\n",
    "    print ('You must be me! Welcome!')\n",
    "elif name =='Wen':\n",
    "    print ('Hey you, ' + name + ', but you are not from Cisco.')\n",
    "elif company == 'Cisco':\n",
    "    print ('Cool company, but why are ' + name + ' you here?')\n",
    "else:\n",
    "    print ('Get out of here who are you and who you work for?')"
   ]
  },
  {
   "cell_type": "code",
   "execution_count": 34,
   "id": "e5602027-b43c-464b-9981-af4fb55391c1",
   "metadata": {},
   "outputs": [
    {
     "name": "stdout",
     "output_type": "stream",
     "text": [
      "30\n"
     ]
    }
   ],
   "source": [
    "x = 10\n",
    "y = '20'\n",
    "print (x + int (y))"
   ]
  },
  {
   "cell_type": "markdown",
   "id": "4fe86904-0ce4-4405-b1dc-4af79dc2897e",
   "metadata": {},
   "source": [
    "# Exercise: Guessing game\n",
    "1. Generate a random number from 0-100, and store it in `number` (I'll show you how).\n",
    "2. Print the number, for easier debugging.\n",
    "3. Ask the user to guess the number:\n",
    "     - If they guess correctly, write \"You got it!\"\n",
    "     - If they guess too high, write, \"Too high!\"\n",
    "     - If they guess too low, write, \"Too low!\"\n",
    "We'll assume that the user will enter only digits. \n",
    "The user only gets one chance to guess.\n",
    "How can we get a random number? We'll use the `random` module that comes with Python; we'll talk more about it on Thursday.\n",
    "```python\n",
    "import random     # this imports the module, or library, containing random info\n",
    "number = random.randint(0, 100)   # this calls the randint function, and assigns to number\n",
    "```"
   ]
  },
  {
   "cell_type": "code",
   "execution_count": 46,
   "id": "fd42ce4c-d640-4dd6-aced-7567af0295b0",
   "metadata": {},
   "outputs": [
    {
     "name": "stdin",
     "output_type": "stream",
     "text": [
      "please enter your guess:  10\n"
     ]
    },
    {
     "name": "stdout",
     "output_type": "stream",
     "text": [
      "Too low!\n",
      "93\n"
     ]
    }
   ],
   "source": [
    "import random\n",
    "\n",
    "number = random.randint(0,100)\n",
    "#print (number)\n",
    "\n",
    "guess = input('please enter your guess: ')\n",
    "\n",
    "if int(guess) == number:\n",
    "    print ('You got it')\n",
    "elif int(guess) >= number:\n",
    "    print ('Too high!')\n",
    "else:\n",
    "    print ('Too low!')\n",
    "\n",
    "print (number)\n"
   ]
  },
  {
   "cell_type": "markdown",
   "id": "4ee9ddf7-c248-4203-bda0-7a34527b4d6d",
   "metadata": {},
   "source": [
    "# Exercise: Pig Latin\n",
    "To translate a word from English into Pig Latin, check the first letter of the word.\n",
    "1. If the word starts with a vowel (a, e, i, o, or u) then we add `way` to the word.\n",
    "2. In other cases, we move the first letter to the end of the word, then add `ay`.\n",
    "I want you to ask the user to enter a word in English -- no puncutation, all lowercase, one word. The program should look at the first letter, and based on that, print a translation into Pig Latin.\n",
    "Examples:\n",
    "- computer -> omputercay\n",
    "- elephant -> elephantway\n",
    "- octopus -> octopusway\n",
    "- papaya -> apayapay\n",
    "Some things to remember:\n",
    "- Strings are immutable, so you cannot change them. But you can extract parts of them and use those parts to create a new string.\n",
    "- You can use `if` and all of its friends\n",
    "- You can search with `in`\n",
    "- You can retrieve one character with `s[i]`\n",
    "- You can retrieve a slice with `s[start:stop]`"
   ]
  },
  {
   "cell_type": "code",
   "execution_count": 51,
   "id": "1739e553-2c44-4d9c-b544-0ccc2181fa52",
   "metadata": {},
   "outputs": [
    {
     "name": "stdin",
     "output_type": "stream",
     "text": [
      "please enter your word:  computer\n"
     ]
    },
    {
     "name": "stdout",
     "output_type": "stream",
     "text": [
      "omputercay\n"
     ]
    }
   ],
   "source": [
    "word = input ('please enter your word: ')\n",
    "vowel = 'a,e,i,o,u'\n",
    "if word[0] in vowel:\n",
    "    print (word + 'way')\n",
    "else:\n",
    "    print (word[1:] + word[0] + 'ay')"
   ]
  },
  {
   "cell_type": "code",
   "execution_count": 53,
   "id": "1bf0791e-744c-4789-b9a1-f84897967ae1",
   "metadata": {},
   "outputs": [
    {
     "name": "stdout",
     "output_type": "stream",
     "text": [
      "shfgqjsfuwjs\n"
     ]
    }
   ],
   "source": [
    "s='shfgqjsfuwjs'\n",
    "print (s[:])"
   ]
  },
  {
   "cell_type": "code",
   "execution_count": 54,
   "id": "31dc2c6b-b8be-4a43-a5cb-89310315a5f5",
   "metadata": {},
   "outputs": [
    {
     "name": "stdout",
     "output_type": "stream",
     "text": [
      "shfg\n"
     ]
    }
   ],
   "source": [
    "print (s[:4])"
   ]
  },
  {
   "cell_type": "markdown",
   "id": "39cb91a9-4053-498c-890e-99c3211bf9ea",
   "metadata": {},
   "source": [
    "# Exercise: Simple calculator\n",
    "1. Ask the user to enter a number.\n",
    "2. Ask the user to enter an operator (+ or -).\n",
    "3. Ask the user to enter a second number.\n",
    "4. If one or both numbers cannot be turned into integers, scold the user and stop.\n",
    "5. Turn the numbers into integers.\n",
    "6. Get the result of running the operation on them (+ or -).\n",
    "7. Print the result\n",
    "Example:\n",
    "    Enter a number: 10\n",
    "    Enter an operator: +\n",
    "    Enter a number: 5\n",
    "    10 + 5 = 15\n",
    "    Enter a number: 10\n",
    "    Enter an operator: -\n",
    "    Enter a number: no\n",
    "    no is not numeric; giving up\n",
    "Hints/suggestions:\n",
    "1. Use `if`/`elif`/`else` to check conditions\n",
    "2. Use `str.isdigit` to check if something is numeric\n",
    "3. Use f-strings to print things nicely."
   ]
  },
  {
   "cell_type": "code",
   "execution_count": null,
   "id": "08ea3634-0e1a-44b0-ab3c-d1746b4353f4",
   "metadata": {},
   "outputs": [],
   "source": [
    "# let's validate the numeric inputs, to make sure they can be turned into integers\r\n",
    "\r\n",
    "s1 = input('Enter first number: ').strip()\r\n",
    "op = input('Enter operator: ').strip()\r\n",
    "s2 = input('Enter second number: ').strip()\r\n",
    "\r\n",
    "if s1.isdigit() and s2.isdigit():\r\n",
    "\r\n",
    "    # (1) turn s1 and s2 into integers\r\n",
    "    n1 = int(s1)     # create a new integer based on s1, and assign to the new variable n1\r\n",
    "    n2 = int(s2)     \r\n",
    "    \r\n",
    "    # (2) get the result of running the operation on them\r\n",
    "    if op == '+':\r\n",
    "        result = n1 + n2\r\n",
    "    elif op == '-':\r\n",
    "        result = n1 - n2\r\n",
    "    elif op == '*':\r\n",
    "        result = n1 * n2\r\n",
    "    else:\r\n",
    "        result = f'No such operator {op}'\r\n",
    "    \r\n",
    "    # (3) print that result\r\n",
    "    print(result)\r\n",
    "\r\n",
    "else:\r\n",
    "    print(f'Make sure that both {s1} and {s2} are numeric in the future')"
   ]
  },
  {
   "cell_type": "code",
   "execution_count": 79,
   "id": "784c244a-47f6-4e59-a42b-98e8303d5658",
   "metadata": {},
   "outputs": [
    {
     "name": "stdin",
     "output_type": "stream",
     "text": [
      "Please enter yor first number:  1\n",
      "Please enter an operator, + or - :  +\n",
      "Please enter your second number:  1\n"
     ]
    },
    {
     "name": "stdout",
     "output_type": "stream",
     "text": [
      "2\n"
     ]
    }
   ],
   "source": [
    "n1 = input ('Please enter yor first number: ').strip()\n",
    "operator = input ('Please enter an operator, + or - : ').strip()\n",
    "n2 = input ('Please enter your second number: ').strip()\n",
    "\n",
    "if n1.isdigit()and n2.isdigit():\n",
    "    newn1 = int(n1)\n",
    "    newn2 = int(n2)\n",
    "    \n",
    "    if operator == '+':\n",
    "        print (newn1+newn2)\n",
    "    elif operator == '-':\n",
    "        print (newn1-newn2)\n",
    "    else:\n",
    "        print ('wrong operator, try again')\n",
    "else:\n",
    "    print(f'The numbers are not integers please try again')"
   ]
  },
  {
   "cell_type": "code",
   "execution_count": 82,
   "id": "edc9dd31-e366-40fc-bb86-a9a749e5bc4f",
   "metadata": {},
   "outputs": [
    {
     "name": "stdin",
     "output_type": "stream",
     "text": [
      "Please enter yor first number:  1\n",
      "Please enter an operator, + or - :  +\n",
      "Please enter your second number:  5\n"
     ]
    },
    {
     "name": "stdout",
     "output_type": "stream",
     "text": [
      "6\n"
     ]
    }
   ],
   "source": [
    "n1 = input ('Please enter yor first number: ').strip()\n",
    "operator = input ('Please enter an operator, + or - : ').strip()\n",
    "n2 = input ('Please enter your second number: ').strip()\n",
    "\n",
    "if n1.isdigit()and n2.isdigit():\n",
    "    newn1 = int(n1)\n",
    "    newn2 = int(n2)\n",
    "    \n",
    "    if operator == '+':\n",
    "       result = newn1+newn2\n",
    "    elif operator == '-':\n",
    "       result = newn1-newn2\n",
    "    else:\n",
    "        print ('wrong operator, try again')\n",
    "    print (result)\n",
    "    \n",
    "else:\n",
    "    print(f'The numbers are not integers please try again')"
   ]
  },
  {
   "cell_type": "markdown",
   "id": "9d5a9c2c-d140-4371-a3b1-9a04711077cd",
   "metadata": {},
   "source": [
    "# Exercise: Odds and evens\n",
    "1. Define two variables, `odds` and `evens`, and set both to be 0.\n",
    "2. Ask the user to enter a string containing digits.\n",
    "3. Go through that string, one character (digit) at a time.\n",
    "    - If the digit is odd, then add 1 to `odds`\n",
    "    - If the digit is even, add 1 to `evens`\n",
    "4. At the end, print the total number of odds and evens.\n",
    "Let's assume that the user's input only contains digits. If you finish and want to put in a check, then that's OK, too.\n",
    "Example:\n",
    "    Enter a string of digits: 1352468\n",
    "    odds: 3\n",
    "    evens: 4\n",
    "If you want to know whether a number is odd or even, you can use the `%` operator. If it returns 1, then the number is odds. If it returns 0, then the number is even.\n",
    "Remember that you'll need to convert each digit to an integer.\n",
    "The `%` operator works on integers, *not* strings. So first convert, and then use `%`."
   ]
  },
  {
   "cell_type": "code",
   "execution_count": 86,
   "id": "371bfd8b-bb8c-4463-957d-9f44b7214e16",
   "metadata": {},
   "outputs": [
    {
     "name": "stdin",
     "output_type": "stream",
     "text": [
      "Please enter a number:  234567\n"
     ]
    },
    {
     "name": "stdout",
     "output_type": "stream",
     "text": [
      "234567 contains 3 odds and 3 evens\n"
     ]
    }
   ],
   "source": [
    "odds = 0\n",
    "evens = 0\n",
    "s1 = input ('Please enter a number: ').strip()\n",
    "\n",
    "for one_character in s1:\n",
    "    if int(one_character)%2 ==1:\n",
    "        odds += 1\n",
    "    else: \n",
    "        evens += 1\n",
    "        \n",
    "print(f'{s1} contains {odds} odds and {evens} evens')\n"
   ]
  },
  {
   "cell_type": "markdown",
   "id": "182ba045-08b8-4020-810f-b89acb8242a6",
   "metadata": {},
   "source": [
    "# Aug 15, Tuesday"
   ]
  },
  {
   "cell_type": "code",
   "execution_count": 87,
   "id": "8ea8ca19-7df3-42e7-9cb5-b0023315f908",
   "metadata": {
    "scrolled": true
   },
   "outputs": [
    {
     "name": "stdout",
     "output_type": "stream",
     "text": [
      "1: s\n",
      "\ts\n",
      "2: h\n",
      "\thh\n",
      "3: f\n",
      "\tfff\n",
      "4: g\n",
      "\tgggg\n",
      "5: q\n",
      "\tqqqqq\n",
      "6: j\n",
      "\tjjjjjj\n",
      "7: s\n",
      "\tsssssss\n",
      "8: f\n",
      "\tffffffff\n",
      "9: u\n",
      "\tuuuuuuuuu\n",
      "10: w\n",
      "\twwwwwwwwww\n",
      "11: j\n",
      "\tjjjjjjjjjjj\n",
      "12: s\n",
      "\tssssssssssss\n"
     ]
    }
   ],
   "source": [
    "index = 1\n",
    "\n",
    "for one_character in s:\n",
    "    print(f'{index}: {one_character}')\n",
    "    print(f'\\t{index * one_character}')   #yes, you can multiply an int by a string!\n",
    "    index += 1"
   ]
  },
  {
   "cell_type": "markdown",
   "id": "28b93e3d-da1d-45c2-80b2-e3427a9b6f77",
   "metadata": {},
   "source": [
    "# Exercise: Digits, vowels, and others\n",
    "1. Define three variables, `digits`, `vowels`, and `others`, all to be 0. We will use these variables to count how many times we see digits, vowels, and other characters in the user's input.\n",
    "2. Ask the user to enter a string.\n",
    "3. Go through that string, one character at a time:\n",
    "    - If the current character is a digit 0-9, add 1 to the `digits` variable.\n",
    "    - If the current character is a vowel (a, e, i, o, or u), add 1 to the `vowels` variable.\n",
    "    - In all other cases, add 1 to the `others` variable.\n",
    "4. Print the names and values of all three counting variables.\n",
    "Example:\n",
    "    Enter a string: hello!! 123\n",
    "    digits: 3\n",
    "    vowels: 2\n",
    "    others: 6"
   ]
  },
  {
   "cell_type": "code",
   "execution_count": 92,
   "id": "f8758cd8-82b7-4d74-b4c1-90660edc4c16",
   "metadata": {},
   "outputs": [
    {
     "name": "stdin",
     "output_type": "stream",
     "text": [
      "Please enter a random string:  wen  23  !\n"
     ]
    },
    {
     "name": "stdout",
     "output_type": "stream",
     "text": [
      "wen  23  ! contains digits 2 vowels 1 others 7\n"
     ]
    }
   ],
   "source": [
    "digits = 0\n",
    "vowels = 0\n",
    "others = 0\n",
    "s1 = input ('Please enter a random string: ').strip()\n",
    "\n",
    "for one_character in s1:\n",
    "    if one_character.isdigit():\n",
    "        digits +=1\n",
    "    elif one_character in 'aeiou':\n",
    "        vowels +=1\n",
    "    else:\n",
    "        others +=1\n",
    "print (f'{s1} contains digits {digits} vowels {vowels} others {others}')"
   ]
  },
  {
   "cell_type": "markdown",
   "id": "96110f5d-4070-42db-9022-7982e933be8d",
   "metadata": {},
   "source": [
    "# Exercise: Name triangles\n",
    "1. Ask the user to enter their name.\n",
    "2. Print the user's name as a triangle:\n",
    "    - On the first line, print the first letter\n",
    "    - On the second line, print the first two letters\n",
    "    - Continue...\n",
    "    - On the final line, print the entire name\n",
    "  \n",
    "Example:\n",
    "    Enter your name: Reuven\n",
    "    R\n",
    "    Re\n",
    "    Reu\n",
    "    Reuv\n",
    "    Reuve\n",
    "    Reuven\n",
    "A few things to remember:\n",
    "- You can get the length of a string with `len`\n",
    "- You can iterate a number of times with `range`\n",
    "- You can grab a portion of a string with a slice, namely `s[start:end]`"
   ]
  },
  {
   "cell_type": "code",
   "execution_count": 106,
   "id": "978bfecd-7517-4ebf-bf73-3de4c200091f",
   "metadata": {},
   "outputs": [
    {
     "name": "stdin",
     "output_type": "stream",
     "text": [
      "Please enter your name here, and we will print it in triangles way:  wen\n"
     ]
    },
    {
     "ename": "TypeError",
     "evalue": "int() argument must be a string, a bytes-like object or a real number, not 'range'",
     "output_type": "error",
     "traceback": [
      "\u001b[0;31m---------------------------------------------------------------------------\u001b[0m",
      "\u001b[0;31mTypeError\u001b[0m                                 Traceback (most recent call last)",
      "Cell \u001b[0;32mIn[106], line 4\u001b[0m\n\u001b[1;32m      1\u001b[0m name \u001b[38;5;241m=\u001b[39m \u001b[38;5;28minput\u001b[39m(\u001b[38;5;124m'\u001b[39m\u001b[38;5;124mPlease enter your name here, and we will print it in triangles way: \u001b[39m\u001b[38;5;124m'\u001b[39m)\u001b[38;5;241m.\u001b[39mstrip()\n\u001b[1;32m      3\u001b[0m \u001b[38;5;28;01mfor\u001b[39;00m one_iteration \u001b[38;5;129;01min\u001b[39;00m \u001b[38;5;28mrange\u001b[39m(\u001b[38;5;28mlen\u001b[39m(name)):\n\u001b[0;32m----> 4\u001b[0m     \u001b[38;5;28;01mif\u001b[39;00m \u001b[38;5;28;43mint\u001b[39;49m\u001b[43m(\u001b[49m\u001b[38;5;28;43mrange\u001b[39;49m\u001b[43m(\u001b[49m\u001b[38;5;28;43mlen\u001b[39;49m\u001b[43m(\u001b[49m\u001b[43mname\u001b[49m\u001b[43m)\u001b[49m\u001b[43m)\u001b[49m\u001b[43m)\u001b[49m \u001b[38;5;241m<\u001b[39m\u001b[38;5;241m=\u001b[39m \u001b[38;5;28mlen\u001b[39m(name):\n\u001b[1;32m      5\u001b[0m         \u001b[38;5;28mprint\u001b[39m (name[\u001b[38;5;241m0\u001b[39m:\u001b[38;5;28mlen\u001b[39m(name)])\n\u001b[1;32m      6\u001b[0m     \u001b[38;5;28;01melse\u001b[39;00m:\u001b[38;5;28mprint\u001b[39m (one_iteration)\n",
      "\u001b[0;31mTypeError\u001b[0m: int() argument must be a string, a bytes-like object or a real number, not 'range'"
     ]
    }
   ],
   "source": [
    "name = input('Please enter your name here, and we will print it in triangles way: ').strip()\n",
    "\n",
    "for one_iteration in range(len(name)):\n",
    "    if "
   ]
  },
  {
   "cell_type": "code",
   "execution_count": 107,
   "id": "b12b0692-2933-4b0a-97ca-6cf6dd2f7388",
   "metadata": {},
   "outputs": [
    {
     "name": "stdin",
     "output_type": "stream",
     "text": [
      "Please enter your name here, and we will print it in triangles way:  wen\n"
     ]
    },
    {
     "name": "stdout",
     "output_type": "stream",
     "text": [
      "w\n",
      "we\n",
      "wen\n"
     ]
    }
   ],
   "source": [
    "name = input('Please enter your name here, and we will print it in triangles way: ').strip()\n",
    "\n",
    "for index in range(len(name)):\n",
    "    print (name[0:index+1])"
   ]
  },
  {
   "cell_type": "code",
   "execution_count": 109,
   "id": "96a84f0d-07f0-4bea-80de-b8a3a1e13a89",
   "metadata": {},
   "outputs": [
    {
     "name": "stdin",
     "output_type": "stream",
     "text": [
      "Please enter your name here, and we will print it in triangles way:  wen\n"
     ]
    },
    {
     "name": "stdout",
     "output_type": "stream",
     "text": [
      "w\n",
      "we\n",
      "wen\n"
     ]
    }
   ],
   "source": [
    "name = input('Please enter your name here, and we will print it in triangles way: ').strip()\n",
    "\n",
    "for index in range(1, len(name)+1):\n",
    "    print (name[0:index])"
   ]
  },
  {
   "cell_type": "markdown",
   "id": "9bad5ccb-0ba6-4b3a-b9b1-b3b2d3ff305c",
   "metadata": {},
   "source": [
    "# Exercise: Sum to 100\n",
    "1. Define a variable, `total`, and set it to 0.\n",
    "2. So long as `total` is less than 100, ask the user to enter a number.\n",
    "    - If they enter something non-numeric, scold them and let them try again.\n",
    "3. Add the user's input to `total`.\n",
    "4. When `total` is 100 or more, stop asking and print its value.\n",
    "Example:\n",
    "    Enter a number: 30\n",
    "    Enter a number: 50\n",
    "    Enter a number: hello\n",
    "    hello is not a number\n",
    "    Enter a number: 30\n",
    "    Total is 110\n",
    "- What condition do you need in the `while` loop?\n",
    "- Start off by not checking if the user's input is numeric, to make things easier\n",
    "- Don't forget to convert your data from strings to ints (or vice versa)."
   ]
  },
  {
   "cell_type": "code",
   "execution_count": 121,
   "id": "e3bfb682-bc43-4838-99e6-7e636d834f89",
   "metadata": {},
   "outputs": [
    {
     "name": "stdin",
     "output_type": "stream",
     "text": [
      "Enter your number:  50\n",
      "Enter your number:  20\n",
      "Enter your number:  30\n"
     ]
    },
    {
     "name": "stdout",
     "output_type": "stream",
     "text": [
      "Total is 100\n"
     ]
    }
   ],
   "source": [
    "total = 0\n",
    "\n",
    "while total < 100: #total is less than 100, should keep asking for input,and add all the input together\n",
    "    s1 = input ('Enter your number: ').strip()\n",
    "    if s1.isdigit():\n",
    "        n1 = int(s1)\n",
    "        total += n1\n",
    "    else: \n",
    "        print ('invalid number,try again')\n",
    "print (f'Total is {total}')"
   ]
  },
  {
   "cell_type": "markdown",
   "id": "a197c4ac-f04b-46b0-ad26-415454b5dfb0",
   "metadata": {},
   "source": [
    "# Exercise: Sum digits\n",
    "1. Define `total` to be 0.\n",
    "2. Repeatedly ask the user to enter a string containing digits.\n",
    "3. If the user enters an empty string (or one containing just whitespace), then stop asking and print `total`.\n",
    "4. If the user enters a string, then go through each character in the string.\n",
    "    - If it's numeric, then turn it into an integer, and add to `total`.\n",
    "    - Otherwise, scold the user.\n",
    "5. Print `total`\n",
    "This means: \n",
    "- We're going to use a `while` loop to get input from the user, because we don't know how many strings we'll get.\n",
    "- Inside of the `while` loop, we'll use a `for` loop to go through each character. If it's numeric, we'll turn it into an int and add to `total`\n",
    "Example:\n",
    "    Enter numbers: 123\n",
    "    Enter numbers: 4a5\n",
    "    a is not numeric; ignoring\n",
    "    Enter numbers: [ENTER]\n",
    "    Total: 15"
   ]
  },
  {
   "cell_type": "code",
   "execution_count": 141,
   "id": "d852f688-17cc-48a5-b435-d6dc73abf5ac",
   "metadata": {},
   "outputs": [
    {
     "name": "stdin",
     "output_type": "stream",
     "text": [
      "Enter your string:  123\n",
      "Enter your string:  456\n",
      "Enter your string:  \n"
     ]
    },
    {
     "name": "stdout",
     "output_type": "stream",
     "text": [
      "21!\n"
     ]
    }
   ],
   "source": [
    "total = 0\n",
    "while True:\n",
    "    s1 = input('Enter your string: ').strip()\n",
    "    if s1 == '':\n",
    "        break # did I get an empty string from the user? break\n",
    "    for one_character in s1:\n",
    "        if one_character.isdigit():\n",
    "            total += int(one_character)\n",
    "        else:\n",
    "            print ('wrong')\n",
    "      \n",
    "print(f'{total}!')"
   ]
  },
  {
   "cell_type": "code",
   "execution_count": 140,
   "id": "c4e5548a-f533-46b9-b5f7-472ea9662240",
   "metadata": {},
   "outputs": [
    {
     "name": "stdin",
     "output_type": "stream",
     "text": [
      "Enter numbers:  123\n",
      "Enter numbers:  4a5\n"
     ]
    },
    {
     "name": "stdout",
     "output_type": "stream",
     "text": [
      "a is not numeric; ignoring\n"
     ]
    },
    {
     "name": "stdin",
     "output_type": "stream",
     "text": [
      "Enter numbers:  456\n",
      "Enter numbers:  123\n",
      "Enter numbers:  \n"
     ]
    },
    {
     "name": "stdout",
     "output_type": "stream",
     "text": [
      "total = 36\n"
     ]
    }
   ],
   "source": [
    "# setup\n",
    "total = 0\n",
    "\n",
    "# calculations\n",
    "while True:\n",
    "    s = input('Enter numbers: ').strip()\n",
    "\n",
    "    if s == '':    # empty string? break!\n",
    "        break\n",
    "\n",
    "    for one_character in s:\n",
    "        if one_character.isdigit():\n",
    "            total += int(one_character)    # we know it's safe to turn one_character into an int\n",
    "        else:\n",
    "            print(f'{one_character} is not numeric; ignoring')\n",
    "\n",
    "# report\n",
    "print(f'total = {total}')"
   ]
  },
  {
   "cell_type": "markdown",
   "id": "a3d46915-b152-44fb-8f3d-bf12d2df7459",
   "metadata": {},
   "source": [
    "# Exercise: Odds and evens\n",
    "1. Define two empty lists, `odds` and `evens`.\n",
    "2. Ask the user to enter a number.\n",
    "    - If the user enters the empty string, break\n",
    "    - If the user enters non-numeric data, break\n",
    "3. Check whether the number is odd or even.\n",
    "    - If it's odd, append to the `odds` list\n",
    "    - If it's even, append to the `evens\" list\n",
    "4. Print both lists \n",
    "Example:\n",
    "    Enter a number: 10\n",
    "    Enter a number: 7\n",
    "    Enter a number: 22\n",
    "    Enter a number: 93\n",
    "    Enter a number: [ENTER]\n",
    "    Odds: [7, 93]\n",
    "    Evens: 10, 22]"
   ]
  },
  {
   "cell_type": "code",
   "execution_count": 33,
   "id": "dc1f6542-f1eb-4c2e-8f2d-ec49ef5116ba",
   "metadata": {},
   "outputs": [
    {
     "name": "stdin",
     "output_type": "stream",
     "text": [
      "please enter a number:  10 11 12 13\n"
     ]
    },
    {
     "name": "stdout",
     "output_type": "stream",
     "text": [
      "10 11 12 13 is not numeric; try again!\n"
     ]
    },
    {
     "name": "stdin",
     "output_type": "stream",
     "text": [
      "please enter a number:  1\n",
      "please enter a number:  2\n",
      "please enter a number:  3\n",
      "please enter a number:  4\n",
      "please enter a number:  \n"
     ]
    },
    {
     "name": "stdout",
     "output_type": "stream",
     "text": [
      "evens = [2, 4]\n",
      "odds = [1, 3]\n"
     ]
    }
   ],
   "source": [
    "odds = []\n",
    "evens = []\n",
    "\n",
    "while True:\n",
    "    \n",
    "    s1 = input ('please enter a number: ').strip()\n",
    "  \n",
    "    if s1 == '':\n",
    "        break\n",
    "        \n",
    "    if s1.isdigit():\n",
    "        n1 = int (s1) \n",
    "        \n",
    "        if n1 % 2 == 0:\n",
    "            evens.append(n1)\n",
    "        else: odds.append(n1)\n",
    "            \n",
    "    else: print (f'{s1} is not numeric; try again!')\n",
    "\n",
    "print(f'evens = {evens}')\n",
    "print(f'odds = {odds}')"
   ]
  },
  {
   "cell_type": "code",
   "execution_count": 156,
   "id": "128658af-f958-4f24-b744-dd7c6b43e4fe",
   "metadata": {},
   "outputs": [
    {
     "name": "stdin",
     "output_type": "stream",
     "text": [
      "Enter a number:  10\n",
      "Enter a number:  11\n",
      "Enter a number:  12\n",
      "Enter a number:  13\n",
      "Enter a number:  \n"
     ]
    },
    {
     "name": "stdout",
     "output_type": "stream",
     "text": [
      "evens = [10, 12]\n",
      "odds = [11, 13]\n"
     ]
    }
   ],
   "source": [
    "# setup\n",
    "evens = []\n",
    "odds = []\n",
    "\n",
    "# calculations\n",
    "while True:\n",
    "    s = input('Enter a number: ').strip()\n",
    "\n",
    "    if s == '':\n",
    "        break\n",
    "\n",
    "    if s.isdigit():   # if all characters in s are 0-9\n",
    "\n",
    "        # convert s into an integer\n",
    "        n = int(s)\n",
    "    \n",
    "        # check whether n is odd or even\n",
    "        # if it's odd, append to odds\n",
    "        if n % 2 == 1:   # meaning: after dividing n by 2, do we have a remainder of 1?\n",
    "            odds.append(n)\n",
    "    \n",
    "        # if it's even, append to evens\n",
    "        else:\n",
    "            evens.append(n)\n",
    "\n",
    "    else:\n",
    "        print(f'{s} is not numeric; try again!')\n",
    "\n",
    "# report\n",
    "print(f'evens = {evens}')\n",
    "print(f'odds = {odds}')"
   ]
  },
  {
   "cell_type": "markdown",
   "id": "409838e6-1c62-4f69-9191-c834bce9436d",
   "metadata": {},
   "source": [
    "# Exercise: Digits, vowels, and others -- list edition\n",
    "1. Define three empty lists, called `digits`, `vowels`, and `others`.\n",
    "2. Ask the user to enter a string.\n",
    "3. Go through each character in the string:\n",
    "    - If it's a digit, then add that digit to the `digits` list.\n",
    "    - If it's a vowel, then add that vowel to the `vowels` list.\n",
    "    - Otherwise, append it to the `others` list.\n",
    "4. Print all three lists.\n",
    "Example:\n",
    "    Enter a string: hello!! 123\n",
    "    digits = ['1', '2', '3']\n",
    "    vowels = ['e', 'o']\n",
    "    others = ['h', 'l', 'l', '!', '!', ' ']\n",
    "    "
   ]
  },
  {
   "cell_type": "code",
   "execution_count": 13,
   "id": "45c5da42-067c-4cb6-a4e3-7062cccac5cb",
   "metadata": {},
   "outputs": [
    {
     "name": "stdin",
     "output_type": "stream",
     "text": [
      "enter a string:  hello123\n"
     ]
    },
    {
     "name": "stdout",
     "output_type": "stream",
     "text": [
      "digits = ['1', '2', '3']\n",
      "vowels = ['e', 'o']\n",
      "others = ['h', 'l', 'l']\n"
     ]
    }
   ],
   "source": [
    "digits = []\n",
    "vowels = []\n",
    "others = []\n",
    "\n",
    "s1 = input ('enter a string: ').strip()\n",
    "\n",
    "    \n",
    "for one_character in s1:\n",
    "    if one_character.isdigit():\n",
    "        digits.append(one_character)\n",
    "    elif one_character in 'aeiou':\n",
    "        vowels.append(one_character)\n",
    "    else:\n",
    "        others.append(one_character)\n",
    "\n",
    "print (f'digits = {digits}')\n",
    "print (f'vowels = {vowels}')\n",
    "print (f'others = {others}')"
   ]
  },
  {
   "cell_type": "markdown",
   "id": "b6f699e0-f607-43bc-bfa6-7b221896999c",
   "metadata": {},
   "source": [
    "# Exercise: Summing numbers\n",
    "1. Define `total` to be 0.\n",
    "2. Ask the user, repeatedly, to enter one or more numbers separated by whitespace.\n",
    "    - If the user just presses ENTER or gives the empty string, stop asking\n",
    "3. Break the user's input into a list of strings\n",
    "4. Go through each \"word\" one at a time\n",
    "    - If the string/word is numeric, then turn it into an int and add to `total`.\n",
    "    - Otherwise, scold the user\n",
    "5. Print `total`.\n",
    "Example:\n",
    "    Enter one or more numbers: 10 20 30\n",
    "    Enter one or more numbers: 100 200\n",
    "    Enter one or more numbers: asdfafdas\n",
    "    Please enter a number!\n",
    "    Enter one or more numbers: [ENTER]\n",
    "    Total is 360\n",
    "Strategy:\n",
    "- Use `while True` to get user input\n",
    "- Compare the user's input with `''`, empty string\n",
    "- Use `str.split` to turn the string into a list of strings/words\n",
    "- Use a `for` loop to go through the words\n",
    "- If it's numeric, then turn into an integer and add to `total`.\n",
    "    "
   ]
  },
  {
   "cell_type": "code",
   "execution_count": 32,
   "id": "6ad57e9f-007d-4c24-b918-f714ea5fbeb3",
   "metadata": {},
   "outputs": [
    {
     "name": "stdin",
     "output_type": "stream",
     "text": [
      "enter one or more numbers:  10 20 30\n",
      "enter one or more numbers:  10 a 20 30\n"
     ]
    },
    {
     "name": "stdout",
     "output_type": "stream",
     "text": [
      "not a  number\n"
     ]
    },
    {
     "name": "stdin",
     "output_type": "stream",
     "text": [
      "enter one or more numbers:  \n"
     ]
    },
    {
     "name": "stdout",
     "output_type": "stream",
     "text": [
      "total is 120\n"
     ]
    }
   ],
   "source": [
    "total = 0\n",
    "\n",
    "while True:\n",
    "    s = input ('enter one or more numbers: ').strip()\n",
    "    if s == '':\n",
    "        break\n",
    "\n",
    "    s1 = s.split()\n",
    "    for one_word in s1:\n",
    "        if one_word.isdigit():\n",
    "            total += int(one_word)\n",
    "        else:\n",
    "            print ('not a  number')\n",
    "print (f'total is {total}')"
   ]
  },
  {
   "cell_type": "code",
   "execution_count": 31,
   "id": "fa0035c5-8aa6-489a-9353-a6a17371137c",
   "metadata": {},
   "outputs": [
    {
     "name": "stdin",
     "output_type": "stream",
     "text": [
      "Enter numbers, separated by spaces:  10 20 30\n",
      "Enter numbers, separated by spaces:  10 a 20 30\n"
     ]
    },
    {
     "name": "stdout",
     "output_type": "stream",
     "text": [
      "a is not numeric; ignoring\n"
     ]
    },
    {
     "name": "stdin",
     "output_type": "stream",
     "text": [
      "Enter numbers, separated by spaces:  \n"
     ]
    },
    {
     "name": "stdout",
     "output_type": "stream",
     "text": [
      "total = 120\n"
     ]
    }
   ],
   "source": [
    "# setup\n",
    "total = 0\n",
    "\n",
    "# calculations\n",
    "while True:\n",
    "\n",
    "    s = input('Enter numbers, separated by spaces: ').strip()\n",
    "\n",
    "    if s == '':    # did we get the empty string?\n",
    "        break      # break out of the loop!\n",
    "    \n",
    "    words = s.split() \n",
    "    \n",
    "    for one_word in words:\n",
    "        # add the current number/word to total   \n",
    "        if one_word.isdigit():      # can we turn one_word into an integer?\n",
    "            total += int(one_word)  # if so, then add its int version to total\n",
    "        else:\n",
    "            print(f'{one_word} is not numeric; ignoring')\n",
    "\n",
    "# report\n",
    "print(f'total = {total}')"
   ]
  },
  {
   "cell_type": "code",
   "execution_count": 29,
   "id": "84492025-182e-4cfe-bc1a-ab6af5608b2a",
   "metadata": {},
   "outputs": [
    {
     "data": {
      "text/plain": [
       "'a*b*c*d'"
      ]
     },
     "execution_count": 29,
     "metadata": {},
     "output_type": "execute_result"
    }
   ],
   "source": [
    "mylist = 'abcd'\n",
    "'*'.join(mylist)"
   ]
  },
  {
   "cell_type": "markdown",
   "id": "452a68c9-bed0-48fe-b50f-bcbd6934a4d8",
   "metadata": {},
   "source": [
    "# Exercise: Pig Latin sentence!\n",
    "Yesterday, we wrote a program that takes one word, and translates it into Pig Latin:\n",
    "```python\n",
    "word = input('Enter a word: ').strip()\n",
    "if word[0] in 'aeiou':\n",
    "    print(word + 'way')\n",
    "else:\n",
    "    print(word[1:] + word[0] + 'ay')\n",
    "```\n",
    "1. Ask the user to enter a *sentence* -- no capitals, no punctuation.\n",
    "2. Print the result of translating the sentence, with all of the words on a single line.\n",
    "Hints/ideas:\n",
    "1. It's totally OK to start with yesterday's code.\n",
    "2. Consider how you'll get a sentence from the user, and break it apart.\n",
    "3. Once you've broken it apart, how can you apply yesterday's code to each word?\n",
    "4. Once you've translated each word, how can you put it back together?\n"
   ]
  },
  {
   "cell_type": "code",
   "execution_count": 56,
   "id": "5847e4f5-ffd1-43c9-bd30-eea97164319d",
   "metadata": {},
   "outputs": [
    {
     "name": "stdin",
     "output_type": "stream",
     "text": [
      "Enter a sentence:  this is a test\n"
     ]
    },
    {
     "name": "stdout",
     "output_type": "stream",
     "text": [
      "histay siay aay esttay\n"
     ]
    }
   ],
   "source": [
    "output = []\n",
    "sentence = input('Enter a sentence: ').strip()\n",
    "# neword = word.split()\n",
    "\n",
    "for one_charactor in sentence.split():\n",
    "    if one_character[0] in 'aeiou':\n",
    "        output.append(one_charactor + 'way')\n",
    "    else:\n",
    "       output.append(one_charactor[1:] + one_charactor[0] + 'ay')\n",
    "        \n",
    "print (' '.join(output))"
   ]
  },
  {
   "cell_type": "code",
   "execution_count": null,
   "id": "90b5b1d6-df99-4421-aadb-e0638aeff399",
   "metadata": {},
   "outputs": [],
   "source": [
    "# option 2: use a list -- the better, more efficient option\n",
    "\n",
    "output = []\n",
    "sentence = input('Enter a sentence: ').strip()\n",
    "\n",
    "for word in sentence.split():\n",
    "    if word[0] in 'aeiou':\n",
    "        output.append(word + 'way')\n",
    "    else:\n",
    "        output.append(word[1:] + word[0] + 'ay')\n",
    "\n",
    "print(' '.join(output))"
   ]
  },
  {
   "cell_type": "markdown",
   "id": "4ca335d6-b153-4689-b010-0653ca375e8d",
   "metadata": {},
   "source": [
    "# Exercise: Smallest and largest\n",
    "1. Define a list, `numbers`, containing 10 integers.\n",
    "2. Find the largest and smallest numbers in this list.\n",
    "3. Print the largest and smallest numbers.\n",
    "You could cheat and use the builtin `min` and `max` functions on the list, getting the answers. But that's not what I want! Instead, I want you to do the following:\n",
    "1. Define `largest` and `smallest` both to be the first element of `numbers`.\n",
    "2. Go through `numbers`, one element at a time.\n",
    "    - If the current element is larger than `largest`, replace it.\n",
    "    - If the current element is smaller than `smallest`, replace it.\n",
    "3. Print `largest` and `smallest`."
   ]
  },
  {
   "cell_type": "code",
   "execution_count": 53,
   "id": "9bb06d69-7d9f-44cd-a5cb-43b62dc8aa83",
   "metadata": {},
   "outputs": [
    {
     "name": "stdout",
     "output_type": "stream",
     "text": [
      "323342\n",
      "11\n"
     ]
    }
   ],
   "source": [
    "numbers = [11,2034,323342,14,5344,62,755,888,92,100]\n",
    "largest = numbers [0]\n",
    "smallest = numbers[0]\n",
    "for one_number in numbers:\n",
    "    if one_number > largest:\n",
    "        largest = one_number \n",
    "    elif one_number < smallest:\n",
    "        smallest = one_number\n",
    "print (f'{largest}')\n",
    "print (f'{smallest}')"
   ]
  },
  {
   "cell_type": "markdown",
   "id": "d506d61a-0900-40f5-87dc-8010e9be709a",
   "metadata": {},
   "source": [
    "# August 16 Wednesday"
   ]
  },
  {
   "cell_type": "markdown",
   "id": "8ce62b8b-18d6-4fb4-80b9-e5334e2ae80e",
   "metadata": {},
   "source": [
    "# Exercise: Higher and lower\n",
    "1. Define two empty lists, `higher` and `lower`.\n",
    "2. Ask the user to enter an integer, which we'll call `threshold`.\n",
    "3. Repeatedly ask the user to enter a string with numbers separated by whitespace.\n",
    "    - If the user enters an empty string, stop asking\n",
    "4. Go through each \"word\" in the string, one at a time.\n",
    "    - If it's not a number, then scold the user and go on to the next word\n",
    "    - If it's a number and lower than the threshold, append it to `lower`.\n",
    "    - If it's a number and higher (or equal to) the threshold, append it to `higher`.\n",
    "5. At the end print the elements of both `higher` and `lower`.\n",
    "Example:\n",
    "    Enter a threshold: 10\n",
    "    Enter numbers: 5 15 20 30 7\n",
    "    Enter numbers: 2 10 hello\n",
    "    hello is not a number\n",
    "    Enter numbers: [ENTER]\n",
    "    higher: [15, 20, 30, 10]\n",
    "    lower: [5, 7, 2]\n",
    "What are the things to keep in mind here?\n",
    "- `while` loop that goes forever\n",
    "- Ask the user for input, and check for an empty string -- if it's empty, then `break`\r",
    "- Split the user's input string into a bunch of words\r",
    "- Iterate over those words, one at a time\r",
    "- If the word cannot be turned into an integer, continue onto the next word\r",
    "- If the word *can* be turned into an integer, then check whether it's higher/lower than the threshold\r",
    "- Append to the appropriate list\r",
    "- At the end of everything, print both `higher` and `lower`."
   ]
  },
  {
   "cell_type": "code",
   "execution_count": 5,
   "id": "3886e6f7-838d-4987-a9e8-0ab1ff7409ca",
   "metadata": {},
   "outputs": [
    {
     "name": "stdin",
     "output_type": "stream",
     "text": [
      "please enter an integer:  10\n",
      "enter a string with numbers seperated by whitespace:  1 4 14 15\n",
      "enter a string with numbers seperated by whitespace:  2 3 hi 0 7 90\n"
     ]
    },
    {
     "name": "stdout",
     "output_type": "stream",
     "text": [
      "hi is not numeric, ignore\n"
     ]
    },
    {
     "name": "stdin",
     "output_type": "stream",
     "text": [
      "enter a string with numbers seperated by whitespace:  \n"
     ]
    },
    {
     "name": "stdout",
     "output_type": "stream",
     "text": [
      "higher: ['14', '15', '90'], lower: ['1', '4', '2', '3', '0', '7']\n"
     ]
    }
   ],
   "source": [
    "higher = []\n",
    "lower = []\n",
    "threshold = input('please enter an integer: ').strip()\n",
    "while True:\n",
    "    s1 = input ('enter a string with numbers seperated by whitespace: ').strip()\n",
    "    \n",
    "    if s1 == '':\n",
    "        break\n",
    "        \n",
    "    s2 = s1.split(' ')  \n",
    "    \n",
    "    for one_word in s2:\n",
    "        if one_word.isdigit():\n",
    "            if int(one_word) < int(threshold):\n",
    "                lower.append(one_word)\n",
    "            else:\n",
    "                higher.append(one_word)\n",
    "        else: \n",
    "            print(f'{one_word} is not numeric, ignore')  #how to go to the next word if the word is not digit and keep going? \n",
    "                                                        #- this is a loop so it will keep going\n",
    "\n",
    "print (f'higher: {higher}, lower: {lower}')"
   ]
  },
  {
   "cell_type": "markdown",
   "id": "01cba7d7-a462-42e4-9317-cee15ac2d4b3",
   "metadata": {},
   "source": [
    "# Exercise: Restaurant\n",
    "1. Define a dict whose keys are strings, the entries on a restaurant menu, and the values are the prices of those items.\n",
    "2. Define `total` to be 0.\n",
    "3. Ask the user, repeatedly, to order something from the menu. (You don't have to print the menu for them.)\n",
    "    - If the user enters an empty string, stop asking and print the total bill.\n",
    "    - If the user enters something that *is* on the menu, then print that item's price and the total so far, including that item.\n",
    "    - If the user enters something that is *not* on the menu, then scold the user.\n",
    "4. Print the total.\n",
    "Example:\n",
    "    Order: sandwich\n",
    "    sandwich is 10, total is 10\n",
    "    Order: tea\n",
    "    tea is 5, total is 15\n",
    "    Order: elephant\n",
    "    We're all out of elephant today!\n",
    "    Order: [ENTER]\n",
    "    Total is 15"
   ]
  },
  {
   "cell_type": "code",
   "execution_count": 8,
   "id": "ea4b08c3-34f2-41a4-9012-d023b1fc6fe0",
   "metadata": {},
   "outputs": [
    {
     "name": "stdin",
     "output_type": "stream",
     "text": [
      "what would you like to order:  bagel\n"
     ]
    },
    {
     "name": "stdout",
     "output_type": "stream",
     "text": [
      "order is bagel, total is 5\n"
     ]
    },
    {
     "name": "stdin",
     "output_type": "stream",
     "text": [
      "what would you like to order:  tea\n"
     ]
    },
    {
     "name": "stdout",
     "output_type": "stream",
     "text": [
      "order is tea, total is 7\n"
     ]
    },
    {
     "name": "stdin",
     "output_type": "stream",
     "text": [
      "what would you like to order:  burrito\n"
     ]
    },
    {
     "name": "stdout",
     "output_type": "stream",
     "text": [
      "sorry this is not on the menu\n"
     ]
    },
    {
     "name": "stdin",
     "output_type": "stream",
     "text": [
      "what would you like to order:  muffin\n"
     ]
    },
    {
     "name": "stdout",
     "output_type": "stream",
     "text": [
      "order is muffin, total is 9\n"
     ]
    },
    {
     "name": "stdin",
     "output_type": "stream",
     "text": [
      "what would you like to order:  \n"
     ]
    },
    {
     "name": "stdout",
     "output_type": "stream",
     "text": [
      "Your total is 9\n"
     ]
    }
   ],
   "source": [
    "menu = {'bagel':5, 'breakfast burrito':7, 'tea': 2, 'sandwich':10, 'muffin':2}\n",
    "total = 0\n",
    "\n",
    "while True:\n",
    "    order = input ('what would you like to order: ').strip()\n",
    "    if order == '':\n",
    "        break\n",
    "    if order in menu:\n",
    "        total += menu[order]\n",
    "        print(f'order is {order}, total is {total}')\n",
    "    else:\n",
    "        print (f'sorry this is not on the menu')\n",
    "print (f'Your total is {total}')"
   ]
  },
  {
   "cell_type": "markdown",
   "id": "4469d676-9b95-4b53-8799-5d193030d81b",
   "metadata": {},
   "source": [
    "# Exercise: Digits, vowels, and others -- dict edition\n",
    "1. Define a dict, `counts`, with three keys -- `digits`, `vowels`, and `others`. The values should all be 0.\n",
    "2. Ask the user to enter a string.\n",
    "3. Go through each character in the string.\n",
    "    - If it's a digit, add 1 to the `digits` count.\n",
    "    - If it's a vowel, add 1 to the `vowels` count.\n",
    "    - Otherwise, add 1 to the `others` count.\n",
    "4. Print the dict when you're done."
   ]
  },
  {
   "cell_type": "code",
   "execution_count": 15,
   "id": "5d3fe00e-22f9-4ae6-a286-b7a5f15149c1",
   "metadata": {},
   "outputs": [
    {
     "name": "stdin",
     "output_type": "stream",
     "text": [
      "please enter a string:  good morning Max123!\n"
     ]
    },
    {
     "name": "stdout",
     "output_type": "stream",
     "text": [
      "{'digits': 3, 'vowels': 5, 'others': 12}\n"
     ]
    }
   ],
   "source": [
    "counts = {'digits':0, 'vowels':0, 'others':0}\n",
    "\n",
    "s = input ('please enter a string: ').strip()\n",
    "\n",
    "for one_character in s:\n",
    "    if one_character.isdigit():\n",
    "        counts['digits'] += 1\n",
    "    elif one_character in 'aeiou':\n",
    "        counts['vowels'] += 1\n",
    "    else:\n",
    "        counts['others'] += 1\n",
    "print (counts)"
   ]
  },
  {
   "cell_type": "markdown",
   "id": "86eaf091-7207-42c8-ab8f-c4bb7e6d2f23",
   "metadata": {},
   "source": [
    "# Exercise: Rainfall\n",
    "In this exercise, we're going to start with an empty dict called `rainfall`. Over time, we're going to grow it:\n",
    "- The keys will be names of cities whose rainfall we're tracking\n",
    "- The values will be integers, the mm of rain that have fallen so far in that city\n",
    "We aren't going to define the city names in advance! Whatever the user enters is what we'll take.\n",
    "1. Define the empty dict `rainfall`.\n",
    "2. Ask the user, repeatedly, to enter a city name.\n",
    "    - If they enter an empty string, stop asking\n",
    "3. If we got a city name, ask for the mm rain that fell in that city. (We can assume we got legit digits here.)\n",
    "    - If we have seen this city before, then add the new rainfall to the existing value.\n",
    "    - If we have *not* seen this city before, then add a new key-value pair to the dict.\n",
    "4. When the user indicates (which an empty string) that they don't want to enter more data, iterate over the `rainfall` dict, and print all of the keys and values.\n",
    "\n",
    "Example:\r",
    "    City: Tel Aviv\r",
    "    Rain: 2\r",
    "    City: Jerusalem\r",
    "    Rain: 3\r",
    "    City: Tel Aviv\r",
    "    Rain: 4\r",
    "    City: [ENTER]\r",
    "    Tel Aviv: 6\r",
    "    Jerusalem: 3"
   ]
  },
  {
   "cell_type": "code",
   "execution_count": 18,
   "id": "2a137396-45a3-463b-b0ef-78294052aeee",
   "metadata": {},
   "outputs": [
    {
     "name": "stdin",
     "output_type": "stream",
     "text": [
      "enter a city name:  boston\n",
      "enter mm rain fell in that city:  5\n",
      "enter a city name:  \n"
     ]
    },
    {
     "name": "stdout",
     "output_type": "stream",
     "text": [
      ": 5\n"
     ]
    }
   ],
   "source": [
    "rainfall = {}\n",
    "while True:\n",
    "    cityname = input('enter a city name: ').strip()\n",
    "    if cityname == '':\n",
    "        break\n",
    "    volumn = input('enter mm rain fell in that city: ')\n",
    "    if cityname in rainfall.keys(): #how to add value to key\n",
    "        rainfall.values()\n",
    "    else:\n",
    "        for cityname, volumn in rainfall.items():\n",
    "            rainfall = {'cityname':volumn}\n",
    "print(f'{cityname}: {volumn}')"
   ]
  },
  {
   "cell_type": "code",
   "execution_count": 22,
   "id": "9f971e07-c8a0-4178-8d40-a9b068dd20f6",
   "metadata": {},
   "outputs": [
    {
     "name": "stdin",
     "output_type": "stream",
     "text": [
      "enter a city name:  boston\n",
      "enter mm rain fell in that city:  5\n",
      "enter a city name:  boston\n",
      "enter mm rain fell in that city:  3\n",
      "enter a city name:  newyork\n",
      "enter mm rain fell in that city:  2\n",
      "enter a city name:  \n"
     ]
    },
    {
     "name": "stdout",
     "output_type": "stream",
     "text": [
      "boston: 8\n",
      "newyork: 2\n"
     ]
    }
   ],
   "source": [
    "rainfall = {}\n",
    "while True:\n",
    "    cityname = input('enter a city name: ').strip()\n",
    "    if cityname == '':\n",
    "        break\n",
    "    volumn = int(input('enter mm rain fell in that city: ').strip())\n",
    "    \n",
    "    if cityname in rainfall: #how to add value to key\n",
    "        rainfall[cityname] += volumn\n",
    "    else:\n",
    "        rainfall[cityname] = volumn\n",
    "\n",
    "for cityname, volumn in rainfall.items():\n",
    "    print(f'{cityname}: {volumn}')"
   ]
  },
  {
   "cell_type": "code",
   "execution_count": 21,
   "id": "07487552-3937-40b4-aa46-7d37dab13a40",
   "metadata": {},
   "outputs": [
    {
     "ename": "KeyboardInterrupt",
     "evalue": "Interrupted by user",
     "output_type": "error",
     "traceback": [
      "\u001b[0;31m---------------------------------------------------------------------------\u001b[0m",
      "\u001b[0;31mKeyboardInterrupt\u001b[0m                         Traceback (most recent call last)",
      "Cell \u001b[0;32mIn[21], line 4\u001b[0m\n\u001b[1;32m      1\u001b[0m rainfall \u001b[38;5;241m=\u001b[39m {}\n\u001b[1;32m      3\u001b[0m \u001b[38;5;28;01mwhile\u001b[39;00m \u001b[38;5;28;01mTrue\u001b[39;00m:\n\u001b[0;32m----> 4\u001b[0m     city_name \u001b[38;5;241m=\u001b[39m \u001b[38;5;28;43minput\u001b[39;49m\u001b[43m(\u001b[49m\u001b[38;5;124;43m'\u001b[39;49m\u001b[38;5;124;43mCity: \u001b[39;49m\u001b[38;5;124;43m'\u001b[39;49m\u001b[43m)\u001b[49m\u001b[38;5;241m.\u001b[39mstrip()\n\u001b[1;32m      6\u001b[0m     \u001b[38;5;28;01mif\u001b[39;00m city_name \u001b[38;5;241m==\u001b[39m \u001b[38;5;124m'\u001b[39m\u001b[38;5;124m'\u001b[39m:\n\u001b[1;32m      7\u001b[0m         \u001b[38;5;28;01mbreak\u001b[39;00m\n",
      "File \u001b[0;32m/usr/local/lib/python3.10/dist-packages/ipykernel/kernelbase.py:1202\u001b[0m, in \u001b[0;36mKernel.raw_input\u001b[0;34m(self, prompt)\u001b[0m\n\u001b[1;32m   1200\u001b[0m     msg \u001b[38;5;241m=\u001b[39m \u001b[38;5;124m\"\u001b[39m\u001b[38;5;124mraw_input was called, but this frontend does not support input requests.\u001b[39m\u001b[38;5;124m\"\u001b[39m\n\u001b[1;32m   1201\u001b[0m     \u001b[38;5;28;01mraise\u001b[39;00m StdinNotImplementedError(msg)\n\u001b[0;32m-> 1202\u001b[0m \u001b[38;5;28;01mreturn\u001b[39;00m \u001b[38;5;28;43mself\u001b[39;49m\u001b[38;5;241;43m.\u001b[39;49m\u001b[43m_input_request\u001b[49m\u001b[43m(\u001b[49m\n\u001b[1;32m   1203\u001b[0m \u001b[43m    \u001b[49m\u001b[38;5;28;43mstr\u001b[39;49m\u001b[43m(\u001b[49m\u001b[43mprompt\u001b[49m\u001b[43m)\u001b[49m\u001b[43m,\u001b[49m\n\u001b[1;32m   1204\u001b[0m \u001b[43m    \u001b[49m\u001b[38;5;28;43mself\u001b[39;49m\u001b[38;5;241;43m.\u001b[39;49m\u001b[43m_parent_ident\u001b[49m\u001b[43m[\u001b[49m\u001b[38;5;124;43m\"\u001b[39;49m\u001b[38;5;124;43mshell\u001b[39;49m\u001b[38;5;124;43m\"\u001b[39;49m\u001b[43m]\u001b[49m\u001b[43m,\u001b[49m\n\u001b[1;32m   1205\u001b[0m \u001b[43m    \u001b[49m\u001b[38;5;28;43mself\u001b[39;49m\u001b[38;5;241;43m.\u001b[39;49m\u001b[43mget_parent\u001b[49m\u001b[43m(\u001b[49m\u001b[38;5;124;43m\"\u001b[39;49m\u001b[38;5;124;43mshell\u001b[39;49m\u001b[38;5;124;43m\"\u001b[39;49m\u001b[43m)\u001b[49m\u001b[43m,\u001b[49m\n\u001b[1;32m   1206\u001b[0m \u001b[43m    \u001b[49m\u001b[43mpassword\u001b[49m\u001b[38;5;241;43m=\u001b[39;49m\u001b[38;5;28;43;01mFalse\u001b[39;49;00m\u001b[43m,\u001b[49m\n\u001b[1;32m   1207\u001b[0m \u001b[43m\u001b[49m\u001b[43m)\u001b[49m\n",
      "File \u001b[0;32m/usr/local/lib/python3.10/dist-packages/ipykernel/kernelbase.py:1245\u001b[0m, in \u001b[0;36mKernel._input_request\u001b[0;34m(self, prompt, ident, parent, password)\u001b[0m\n\u001b[1;32m   1242\u001b[0m \u001b[38;5;28;01mexcept\u001b[39;00m \u001b[38;5;167;01mKeyboardInterrupt\u001b[39;00m:\n\u001b[1;32m   1243\u001b[0m     \u001b[38;5;66;03m# re-raise KeyboardInterrupt, to truncate traceback\u001b[39;00m\n\u001b[1;32m   1244\u001b[0m     msg \u001b[38;5;241m=\u001b[39m \u001b[38;5;124m\"\u001b[39m\u001b[38;5;124mInterrupted by user\u001b[39m\u001b[38;5;124m\"\u001b[39m\n\u001b[0;32m-> 1245\u001b[0m     \u001b[38;5;28;01mraise\u001b[39;00m \u001b[38;5;167;01mKeyboardInterrupt\u001b[39;00m(msg) \u001b[38;5;28;01mfrom\u001b[39;00m \u001b[38;5;28;01mNone\u001b[39;00m\n\u001b[1;32m   1246\u001b[0m \u001b[38;5;28;01mexcept\u001b[39;00m \u001b[38;5;167;01mException\u001b[39;00m:\n\u001b[1;32m   1247\u001b[0m     \u001b[38;5;28mself\u001b[39m\u001b[38;5;241m.\u001b[39mlog\u001b[38;5;241m.\u001b[39mwarning(\u001b[38;5;124m\"\u001b[39m\u001b[38;5;124mInvalid Message:\u001b[39m\u001b[38;5;124m\"\u001b[39m, exc_info\u001b[38;5;241m=\u001b[39m\u001b[38;5;28;01mTrue\u001b[39;00m)\n",
      "\u001b[0;31mKeyboardInterrupt\u001b[0m: Interrupted by user"
     ]
    }
   ],
   "source": [
    "rainfall = {}\n",
    "\n",
    "while True:\n",
    "    city_name = input('City: ').strip()\n",
    "\n",
    "    if city_name == '':\n",
    "        break\n",
    "\n",
    "    mm_rain = input('Enter mm rain').strip()\n",
    "    mm_rain = int(mm_rain)\n",
    "    \n",
    "    if city_name in rainfall:   # does this key exist?\n",
    "        rainfall[city_name] += mm_rain\n",
    "    else:  # if the key doesn't yet exist..\n",
    "        rainfall[city_name] = mm_rain\n",
    "\n",
    "# report\n",
    "\n",
    "# dict.items returns (sort of) a list of 2-element tuples, with (key, value)\n",
    "# with each iteration over rainfall.items(), we'll get (key, value)\n",
    "# we can use unpacking in the for loop to get the key and value into separate variables\n",
    "for key, value in rainfall.items():\n",
    "    print(f'{key}: {value}')\n"
   ]
  },
  {
   "cell_type": "markdown",
   "id": "d950a2df-5312-47e2-8dd7-c51d6b121eb7",
   "metadata": {},
   "source": [
    "# Exercise: Odds and evens -- dict edition\n",
    "1. Define a dict with two keys, `odds` and `evens`. The values should be empty lists.\n",
    "2. Ask the user to enter a string containing integers, separated by spaces. (We'll just ask once.)\n",
    "3. Go through the numbers in the string:\n",
    "    - If it's not a number, then scold the user\n",
    "    - If it is a number and even, then append the number to `evens` in the dict\n",
    "    - If it is a number and odd, then append the number to `odds` in the dict\n",
    "4. Print the dict\n",
    "Reminders:\n",
    "- Use `str.split` to take a string and break it into a list of strings\n",
    "- Use `int` to take a string and get an int from it\n",
    "- Use `str.isdigit` to check if a string contains only digits\n",
    "- You can check if an integer is odd or even by using `% 2` -- if the response is 1, then the number is odd. Otherwise, it's even.\n",
    "- Dict values can be of any type, including a list. Once you retrieve that value, you can append to a list or do anything else you might want, because it's a list."
   ]
  },
  {
   "cell_type": "code",
   "execution_count": 7,
   "id": "918b6696-7222-4b19-bb51-61c1741d9c4c",
   "metadata": {},
   "outputs": [
    {
     "name": "stdin",
     "output_type": "stream",
     "text": [
      "enter a string containing integers, seperated by space:  1 2\n"
     ]
    },
    {
     "ename": "ValueError",
     "evalue": "empty separator",
     "output_type": "error",
     "traceback": [
      "\u001b[0;31m---------------------------------------------------------------------------\u001b[0m",
      "\u001b[0;31mValueError\u001b[0m                                Traceback (most recent call last)",
      "Cell \u001b[0;32mIn[7], line 5\u001b[0m\n\u001b[1;32m      1\u001b[0m d \u001b[38;5;241m=\u001b[39m {\u001b[38;5;124m'\u001b[39m\u001b[38;5;124modds\u001b[39m\u001b[38;5;124m'\u001b[39m:[],\u001b[38;5;124m'\u001b[39m\u001b[38;5;124mevens\u001b[39m\u001b[38;5;124m'\u001b[39m:[]}\n\u001b[1;32m      3\u001b[0m s \u001b[38;5;241m=\u001b[39m \u001b[38;5;28minput\u001b[39m(\u001b[38;5;124m'\u001b[39m\u001b[38;5;124menter a string containing integers, seperated by space: \u001b[39m\u001b[38;5;124m'\u001b[39m)\n\u001b[0;32m----> 5\u001b[0m s1 \u001b[38;5;241m=\u001b[39m \u001b[43ms\u001b[49m\u001b[38;5;241;43m.\u001b[39;49m\u001b[43msplit\u001b[49m\u001b[43m(\u001b[49m\u001b[38;5;124;43m'\u001b[39;49m\u001b[38;5;124;43m'\u001b[39;49m\u001b[43m)\u001b[49m\n\u001b[1;32m      7\u001b[0m \u001b[38;5;28;01mif\u001b[39;00m \u001b[38;5;28mint\u001b[39m(s1)\u001b[38;5;241m.\u001b[39misdigit():\n\u001b[1;32m      8\u001b[0m     \u001b[38;5;28;01mif\u001b[39;00m s1\u001b[38;5;241m.\u001b[39misdigit()\u001b[38;5;241m%\u001b[39m\u001b[38;5;241m2\u001b[39m \u001b[38;5;241m==\u001b[39m \u001b[38;5;241m1\u001b[39m:\n",
      "\u001b[0;31mValueError\u001b[0m: empty separator"
     ]
    }
   ],
   "source": [
    "d = {'odds':[],'evens':[]}\n",
    "\n",
    "s = input('enter a string containing integers, seperated by space: ')\n",
    "\n",
    "s1 = s.split('')\n",
    "s1 = int(s1)\n",
    "\n",
    "if s1.isdigit():\n",
    "    if s1.isdigit()%2 == 1:\n",
    "        d['odds'].append(s1)\n",
    "    else:\n",
    "        d['evens'].append(s1)\n",
    "else:\n",
    "    print ('invalid, try again')\n",
    "\n",
    "print (d)\n",
    "    "
   ]
  },
  {
   "cell_type": "code",
   "execution_count": null,
   "id": "b24fdb8d-d481-4abc-a795-a78fced5f9eb",
   "metadata": {},
   "outputs": [],
   "source": []
  }
 ],
 "metadata": {
  "kernelspec": {
   "display_name": "Python 3 (ipykernel)",
   "language": "python",
   "name": "python3"
  },
  "language_info": {
   "codemirror_mode": {
    "name": "ipython",
    "version": 3
   },
   "file_extension": ".py",
   "mimetype": "text/x-python",
   "name": "python",
   "nbconvert_exporter": "python",
   "pygments_lexer": "ipython3",
   "version": "3.10.12"
  }
 },
 "nbformat": 4,
 "nbformat_minor": 5
}
