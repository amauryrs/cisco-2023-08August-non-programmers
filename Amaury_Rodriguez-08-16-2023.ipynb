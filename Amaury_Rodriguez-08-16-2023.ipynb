{
 "cells": [
  {
   "cell_type": "code",
   "execution_count": null,
   "id": "d2b6478d-d239-44ad-a22e-f31e33f8a0c7",
   "metadata": {},
   "outputs": [],
   "source": [
    "## # Exercise: Higher and lower\n",
    "1. Define two empty lists, `higher` and `lower`.\n",
    "2. Ask the user to enter an integer, which we'll call `threshold`.\n",
    "3. Repeatedly ask the user to enter a string with numbers separated by whitespace.\n",
    "    - If the user enters an empty string, stop asking\n",
    "4. Go through each \"word\" in the string, one at a time.\n",
    "    - If it's not a number, then scold the user and go on to the next word\n",
    "    - If it's a number and lower than the threshold, append it to `lower`.\n",
    "    - If it's a number and higher (or equal to) the threshold, append it to `higher`.\n",
    "5. At the end print the elements of both `higher` and `lower`.\n",
    "\n",
    "Example:\n",
    "    Enter a threshold: 10\n",
    "    Enter numbers: 5 15 20 30 7\n",
    "    Enter numbers: 2 10 hello\n",
    "    hello is not a number\n",
    "    Enter numbers: [ENTER]\n",
    "    higher: [15, 20, 30, 10]\n",
    "    lower: [5, 7, 2]\n",
    "What are the things to keep in mind here?\n",
    "- `while` loop that goes forever\n",
    "- Ask the user for input, and check for an empty string -- if it's empty, then `break`\n",
    "- Split the user's input string into a bunch of words\n",
    "- Iterate over those words, one at a time\n",
    "- If the word cannot be turned into an integer, continue onto the next word\n",
    "- If the word *can* be turned into an integer, then check whether it's higher/lower than the threshold\n",
    "- Append to the appropriate list\n",
    "- At the end of everything, print both `higher` and `lower`.\n",
    "\n",
    "\n",
    "#### EXAMPLE SOLUTION:\n",
    "# setup\n",
    "higher = []\n",
    "lower = []\n",
    "\n",
    "# calculations\n",
    "s = input('Enter threshold: ').strip()\n",
    "threshold = int(s)   # here, we assume we got a number\n",
    "\n",
    "while True:\n",
    "    s = input('Enter numbers: ').strip()\n",
    "\n",
    "    # if the user gave us an empty string, then break out of this loop\n",
    "    if s == '':\n",
    "        break\n",
    "\n",
    "    # if I'm here, then I know that the string is non-empty\n",
    "    # break it apart into individual words/numbers, and go through each one to see if it's\n",
    "    # higher or lower\n",
    "    for one_word in s.split():\n",
    "\n",
    "        if one_word.isdigit():\n",
    "            n = int(one_word)    # get an int from one_word, and assign to n\n",
    "            if n < threshold:\n",
    "                lower.append(n)                \n",
    "            else:\n",
    "                higher.append(n)\n",
    "\n",
    "        else:   # not numeric? scold the user!\n",
    "            print(f'{one_word} is not numeric; ignoring')\n",
    "\n",
    "# report\n",
    "print(f'higher = {higher}')\n",
    "print(f'lower = {lower}')\n",
    "\n"
   ]
  },
  {
   "cell_type": "code",
   "execution_count": null,
   "id": "3c0aee1d-ebcb-4353-9bbb-d08e180c584d",
   "metadata": {},
   "outputs": [],
   "source": [
    "#setup  \n",
    "higher = []\n",
    "lower = []\n",
    "\n",
    "#Calculation\n",
    "threshold = input('Enter a number: ').strip()\n",
    "\n",
    "while True:\n",
    "    s = input('Enter one or more numbers: ').strip()\n",
    "    if s == '':\n",
    "        break\n",
    "\n",
    "#report\n",
    "print(lower)\n",
    "print(higher)\n",
    "\n",
    "## Incompleted..."
   ]
  },
  {
   "cell_type": "markdown",
   "id": "d2c6f873-e411-472a-8c52-60da61b1f604",
   "metadata": {},
   "source": [
    "#### Exercise: Restaurant\n",
    "Define a dict whose keys are strings, the entries on a restaurant menu, and the values are the prices of those items.\n",
    "Define total to be 0.\n",
    "Ask the user, repeatedly, to order something from the menu. (You don't have to print the menu for them.)\n",
    "    If the user enters an empty string, stop asking and print the total bill.\n",
    "    If the user enters something that is on the menu, then print that item's price and the total so far, including that item.\n",
    "    If the user enters something that is not on the menu, then scold the user.\n",
    "Print the total.\n",
    "    \n",
    "Example:\n",
    "\n",
    "Order: sandwich\n",
    "sandwich is 10, total is 10\n",
    "Order: tea\n",
    "tea is 5, total is 15\n",
    "Order: elephant\n",
    "We're all out of elephant today!\n",
    "Order: [ENTER]\n",
    "Total is 15"
   ]
  },
  {
   "cell_type": "code",
   "execution_count": null,
   "id": "7439e9c9-3460-4446-b339-6eb2e33dc484",
   "metadata": {},
   "outputs": [],
   "source": [
    "#setup\n",
    "menu = {'arroz':100, 'pollo':200, 'pasta':150, 'ensalada':50, 'res':250}\n",
    "total = 0\n",
    "\n",
    "#calculation\n",
    "s = input('Enter items: ').strip()\n",
    "    if s == '':\n",
    "        print(f'total= {total}')\n",
    "        break\n",
    "    elif:\n",
    "        \n",
    "\n",
    "    \n",
    "\n",
    "\n",
    "\n",
    "#report\n",
    "print(f'total= {total}')\n"
   ]
  },
  {
   "cell_type": "markdown",
   "id": "30c6e4b3-f1ae-4ec2-a441-c789ed5e713d",
   "metadata": {},
   "source": [
    "### # Exercise: Digits, vowels, and others -- dict edition\n",
    "1. Define a dict, `counts`, with three keys -- `digits`, `vowels`, and `others`. The values should all be 0.\n",
    "2. Ask the user to enter a string.\n",
    "3. Go through each character in the string.\n",
    "    - If it's a digit, add 1 to the `digits` count.\n",
    "    - If it's a vowel, add 1 to the `vowels` count.\n",
    "    - Otherwise, add 1 to the `others` count.\n",
    "4. Print the dict when you're done.\n"
   ]
  },
  {
   "cell_type": "code",
   "execution_count": 5,
   "id": "40fb5d23-0004-4a53-a6e9-d34c6cee45a9",
   "metadata": {},
   "outputs": [
    {
     "name": "stdin",
     "output_type": "stream",
     "text": [
      "Enter a String:  hola mundo 2023\n",
      "Enter a String:  \n"
     ]
    },
    {
     "name": "stdout",
     "output_type": "stream",
     "text": [
      "Counts= {'digits': 4, 'vowels': 4, 'others': 7}\n"
     ]
    }
   ],
   "source": [
    "#setup\n",
    "counts ={'digits':0,'vowels':0,'others':0}\n",
    "\n",
    "#calculation\n",
    "while True:\n",
    "    s = input('Enter a String: ').strip()\n",
    "    if s == '':\n",
    "        break\n",
    "    for char in s:\n",
    "        if char.isdigit():\n",
    "            counts['digits'] += 1\n",
    "        elif char in 'aeiou':\n",
    "            counts['vowels'] += 1\n",
    "        else:\n",
    "            counts['others'] += 1\n",
    "\n",
    "#report\n",
    "#print(f'Digits= {digits}')\n",
    "#print(f'Vowels= {vowels}')\n",
    "#print(f'Others= {others}')\n",
    "print(f'Counts= {counts}')\n"
   ]
  },
  {
   "cell_type": "markdown",
   "id": "8636269c-cfa0-4ce7-9011-58ecdc1da288",
   "metadata": {},
   "source": [
    "### # Exercise: Rainfall\n",
    "In this exercise, we're going to start with an empty dict called `rainfall`. Over time, we're going to grow it:\n",
    "- The keys will be names of cities whose rainfall we're tracking\n",
    "- The values will be integers, the mm of rain that have fallen so far in that city\n",
    "We aren't going to define the city names in advance! Whatever the user enters is what we'll take.\n",
    "1. Define the empty dict `rainfall`.\n",
    "2. Ask the user, repeatedly, to enter a city name.\n",
    "    - If they enter an empty string, stop asking\n",
    "3. If we got a city name, ask for the mm rain that fell in that city. (We can assume we got legit digits here.)\n",
    "    - If we have seen this city before, then add the new rainfall to the existing value.\n",
    "    - If we have *not* seen this city before, then add a new key-value pair to the dict.\n",
    "4. When the user indicates (which an empty string) that they don't want to enter more data, iterate over the `rainfall` dict,\n",
    "   and print all of the keys and values.\n",
    "\n",
    "Example:\r",
    "    City: Tel Aviv\r",
    "    Rain: 2\r",
    "    City: Jerusalem\r",
    "    Rain: 3\r",
    "    City: Tel Aviv\r",
    "    Rain: 4\r",
    "    City: [ENTER]\r",
    "    Tel Aviv: 6\r",
    "    Jerusalem: 3\n"
   ]
  },
  {
   "cell_type": "code",
   "execution_count": 3,
   "id": "d3b7137b-56b6-4bc7-9d7d-0656bb6708c2",
   "metadata": {},
   "outputs": [
    {
     "ename": "IndentationError",
     "evalue": "expected an indented block after 'for' statement on line 17 (972144857.py, line 21)",
     "output_type": "error",
     "traceback": [
      "\u001b[0;36m  Cell \u001b[0;32mIn[3], line 21\u001b[0;36m\u001b[0m\n\u001b[0;31m    for city, rain in rainfall.items():\u001b[0m\n\u001b[0m    ^\u001b[0m\n\u001b[0;31mIndentationError\u001b[0m\u001b[0;31m:\u001b[0m expected an indented block after 'for' statement on line 17\n"
     ]
    }
   ],
   "source": [
    "#setup\n",
    "rainfall = {}\n",
    "\n",
    "#calculation\n",
    "while True:\n",
    "    city = input('Enter City Name: ').strip()\n",
    "    if city == '':\n",
    "        break \n",
    "    rain = input('Enter Rain in mm: ').strip()\n",
    "    rain = int(rain)\n",
    "\n",
    "    if city in rainfall:\n",
    "        rainfall[city] += rain\n",
    "    else:\n",
    "        rainfall[city] = rain\n",
    "\n",
    "for city, rain in rainfall.items():\n",
    "  \n",
    "    \n",
    "#report\n",
    "for city, rain in rainfall.items():\n",
    "    print(f'{city}: {rain}')\n"
   ]
  },
  {
   "cell_type": "markdown",
   "id": "431192f9-a03d-4236-9392-761e344867f5",
   "metadata": {},
   "source": [
    "### # Exercise: Odds and evens -- dict edition\n",
    "1. Define a dict with two keys, `odds` and `evens`. The values should be empty lists.\n",
    "2. Ask the user to enter a string containing integers, separated by spaces. (We'll just ask once.)\n",
    "3. Go through the numbers in the string:\n",
    "    - If it's not a number, then scold the user\n",
    "    - If it is a number and even, then append the number to `evens` in the dict\n",
    "    - If it is a number and odd, then append the number to `odds` in the dict\n",
    "4. Print the dict\n",
    "Reminders:\n",
    "- Use `str.split` to take a string and break it into a list of strings\n",
    "- Use `int` to take a string and get an int from it\n",
    "- Use `str.isdigit` to check if a string contains only digits\n",
    "- You can check if an integer is odd or even by using `% 2` -- if the response is 1, then the number is odd. Otherwise, it's even.\n",
    "- Dict values can be of any type, including a list. Once you retrieve that value, you can append to a list or do anything else you might want, because it's a list."
   ]
  },
  {
   "cell_type": "code",
   "execution_count": null,
   "id": "b86d3773-d7d6-49d4-87e3-e7ee1abb0da8",
   "metadata": {},
   "outputs": [],
   "source": [
    "# Setup\n",
    "numbers = {'odds':[],'evens'[]}\n",
    "s = input('Enter numbers separate by space here: ').strip()\n",
    "num_list = s.split()\n",
    "    for num in num_list:\n",
    "        num = int(num)\n",
    "        if num % 2 == 0\n",
    "            \n",
    "        \n",
    "#report\n",
    "for key, value in numbers.items():\n",
    "    print(f'{city}: {rain}')        \n",
    "\n",
    "\n"
   ]
  },
  {
   "cell_type": "markdown",
   "id": "f77d181d-d983-4a30-9a0b-f9783c0fbfff",
   "metadata": {},
   "source": [
    "### FILES: \n",
    "### ======\n",
    "### Exercise: Sum nums.txt\r\n",
    "In the same directory as Jupyter, I've put a file called nums.txt. Nothing too exciting, but each line contains some whitespace and some digits.\r\n",
    "\r\n",
    "There is one line that doesn't contain anything except whitespace.\r\n",
    "\r\n",
    "Write a program that opens and iterates over each line in nums.txt.\r\n",
    "If the line contains only whitespace, then ignore it.\r\n",
    "If the line contains an integer -- even with whitespace around it -- then add it to the total.\r\n",
    "Print the total, which shoul\n",
    "\n",
    "Example:\n",
    "!cat nums.txt\r\n",
    "\r\n",
    "# ! lets me run programs outside of Jupyter, on the Unix shelld be 83."
   ]
  },
  {
   "cell_type": "code",
   "execution_count": 1,
   "id": "204bacd3-9d50-4ac6-9d9b-7a8e285a2841",
   "metadata": {},
   "outputs": [
    {
     "name": "stdout",
     "output_type": "stream",
     "text": [
      "5\n",
      "\t10     \n",
      "\t20\n",
      "  \t3\n",
      "\t\t   \t20        \n",
      "\n",
      " 25\n"
     ]
    }
   ],
   "source": [
    "!cat nums.txt\n"
   ]
  },
  {
   "cell_type": "code",
   "execution_count": 8,
   "id": "3a917626-26eb-4f4d-b36b-f238554b66f7",
   "metadata": {},
   "outputs": [
    {
     "name": "stdout",
     "output_type": "stream",
     "text": [
      "83\n"
     ]
    }
   ],
   "source": [
    "#\n",
    "total = 0\n",
    "\n",
    "for one_line in open('nums.txt'):\n",
    "    stripped_line = one_line.strip()\n",
    "\n",
    "    # Code session below is not needed!\n",
    "    '''\n",
    "    if stripped_line =='': \n",
    "        continue\n",
    "    '''  \n",
    "    #----------------------------------\n",
    "    \n",
    "    if stripped_line.isdigit():\n",
    "        total += int(stripped_line)\n",
    "\n",
    "print(total)\n"
   ]
  },
  {
   "cell_type": "markdown",
   "id": "a7898723-4093-46bf-a083-ee57c3a38d9c",
   "metadata": {},
   "source": [
    "### Exercise: Word count (\"wc\")\n",
    "Unix comes with a wc command, for \"word count.\" If you hand it a text file, it'll tell you:\n",
    "\n",
    "How many lines are in the file\n",
    "How many characters are in the file\n",
    "How many words (separated by whitespace) are in the file\n",
    "I want you to write a program that gives the same sorts of information. Given a filename (or you can just use wcfile.txt, which is in the current directory), your program should go through it line by line, calculating one or more of these metrics.\n",
    "\n",
    "When the program is done, it displays the results.\n",
    "\n",
    "For starters, write the program so that it prints the number of lines in the file that we're looking at."
   ]
  },
  {
   "cell_type": "code",
   "execution_count": 9,
   "id": "f71efdb3-8b52-4274-bb5f-a34dd92b5c30",
   "metadata": {},
   "outputs": [
    {
     "name": "stdout",
     "output_type": "stream",
     "text": [
      " 11  28 165 wcfile.txt\n"
     ]
    }
   ],
   "source": [
    "!wc wcfile.txt"
   ]
  },
  {
   "cell_type": "code",
   "execution_count": 11,
   "id": "9f7e951b-b460-4f55-91ef-26283fa4d0a2",
   "metadata": {},
   "outputs": [
    {
     "name": "stdout",
     "output_type": "stream",
     "text": [
      "This is a test file.\n",
      "\n",
      "It contains 28 words and 20 different words.\n",
      "\n",
      "It also contains 165 characters.\n",
      "\n",
      "It also contains 11 lines.\n",
      "\n",
      "It is also self-referential.\n",
      "\n",
      "Wow!\n"
     ]
    }
   ],
   "source": [
    "!cat wcfile.txt"
   ]
  },
  {
   "cell_type": "code",
   "execution_count": 13,
   "id": "a1d2e4ea-f94b-4708-ab94-cf8bf9efa2b7",
   "metadata": {},
   "outputs": [
    {
     "name": "stdout",
     "output_type": "stream",
     "text": [
      "lines = 11\n"
     ]
    }
   ],
   "source": [
    "### EXAMPLE SOLUTION:\n",
    "# PART 1:\n",
    "filename = 'wcfile.txt'\n",
    "line_count = 0\n",
    "for one_line in open(filename):\n",
    "    line_count += 1\n",
    "print(f'lines = {line_count}') \n"
   ]
  },
  {
   "cell_type": "code",
   "execution_count": null,
   "id": "943b47b6-b46b-432b-8108-609ebfd55b6c",
   "metadata": {},
   "outputs": [],
   "source": [
    "#Setup WC.py\n",
    "filename = 'wcfile.txt'\n",
    "\n",
    "for  line in (filename):\n",
    "    lines += 1\n",
    "    \n",
    "\n",
    "print(total)\n",
    "\n",
    "\n"
   ]
  }
 ],
 "metadata": {
  "kernelspec": {
   "display_name": "Python 3 (ipykernel)",
   "language": "python",
   "name": "python3"
  },
  "language_info": {
   "codemirror_mode": {
    "name": "ipython",
    "version": 3
   },
   "file_extension": ".py",
   "mimetype": "text/x-python",
   "name": "python",
   "nbconvert_exporter": "python",
   "pygments_lexer": "ipython3",
   "version": "3.10.12"
  }
 },
 "nbformat": 4,
 "nbformat_minor": 5
}
