{
 "cells": [
  {
   "cell_type": "code",
   "execution_count": null,
   "id": "3618a410-617b-4313-9603-e2575d84af35",
   "metadata": {},
   "outputs": [],
   "source": [
    "char = {}\n",
    "filename = 'wcfile.txt'\n",
    "\n",
    "for one_line in open(filename):\n",
    "    while True:\n",
    "        for one_char in one_line:\n",
    "            print(one_char)"
   ]
  },
  {
   "cell_type": "code",
   "execution_count": null,
   "id": "f2db82c7-b20c-4a1f-a24c-6a8e02fbf507",
   "metadata": {},
   "outputs": [],
   "source": []
  }
 ],
 "metadata": {
  "kernelspec": {
   "display_name": "Python 3 (ipykernel)",
   "language": "python",
   "name": "python3"
  },
  "language_info": {
   "codemirror_mode": {
    "name": "ipython",
    "version": 3
   },
   "file_extension": ".py",
   "mimetype": "text/x-python",
   "name": "python",
   "nbconvert_exporter": "python",
   "pygments_lexer": "ipython3",
   "version": "3.10.12"
  }
 },
 "nbformat": 4,
 "nbformat_minor": 5
}
