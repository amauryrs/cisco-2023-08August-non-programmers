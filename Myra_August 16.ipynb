{
 "cells": [
  {
   "cell_type": "code",
   "execution_count": null,
   "id": "72d79825-93c8-410d-811b-15ad5610bc3b",
   "metadata": {},
   "outputs": [
    {
     "name": "stdin",
     "output_type": "stream",
     "text": [
      "What is your order:  cheeses\n"
     ]
    },
    {
     "name": "stdout",
     "output_type": "stream",
     "text": [
      "Not on the menu \n"
     ]
    },
    {
     "name": "stdin",
     "output_type": "stream",
     "text": [
      "What is your order:  cheese\n"
     ]
    },
    {
     "name": "stdout",
     "output_type": "stream",
     "text": [
      "price = {'cheese': 5, 'milk': 2, 'beer': 8, 'wine': 10} += total\n"
     ]
    },
    {
     "name": "stdin",
     "output_type": "stream",
     "text": [
      "What is your order:  \n"
     ]
    },
    {
     "name": "stdout",
     "output_type": "stream",
     "text": [
      "Not on the menu \n"
     ]
    }
   ],
   "source": [
    "menu = {'cheese': 5, 'milk': 2, 'beer': 8, 'wine': 10}\n",
    "total = 0\n",
    "\n",
    "while True:\n",
    "    order = input('What is your order: ').strip()\n",
    "    if order in menu:    #different format which uses 'in'\n",
    "        print(f'price = {d} += total')\n",
    "    elif s == '':\n",
    "        break\n",
    "    else:\n",
    "        print(f'Not on the menu ')\n",
    "\n",
    "print(f'total = {total}')"
   ]
  },
  {
   "cell_type": "code",
   "execution_count": null,
   "id": "7cfa7461-0b04-4cf0-b9c6-90804090121d",
   "metadata": {},
   "outputs": [],
   "source": []
  }
 ],
 "metadata": {
  "kernelspec": {
   "display_name": "Python 3 (ipykernel)",
   "language": "python",
   "name": "python3"
  },
  "language_info": {
   "codemirror_mode": {
    "name": "ipython",
    "version": 3
   },
   "file_extension": ".py",
   "mimetype": "text/x-python",
   "name": "python",
   "nbconvert_exporter": "python",
   "pygments_lexer": "ipython3",
   "version": "3.10.12"
  }
 },
 "nbformat": 4,
 "nbformat_minor": 5
}
