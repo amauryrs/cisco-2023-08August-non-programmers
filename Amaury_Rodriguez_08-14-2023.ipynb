{
 "cells": [
  {
   "cell_type": "code",
   "execution_count": 1,
   "id": "42490f8f-3322-4915-ac7b-51ff27004f7f",
   "metadata": {},
   "outputs": [
    {
     "ename": "SyntaxError",
     "evalue": "invalid syntax. Perhaps you forgot a comma? (913543610.py, line 1)",
     "output_type": "error",
     "traceback": [
      "\u001b[0;36m  Cell \u001b[0;32mIn[1], line 1\u001b[0;36m\u001b[0m\n\u001b[0;31m    print(Hello Lener!)\u001b[0m\n\u001b[0m          ^\u001b[0m\n\u001b[0;31mSyntaxError\u001b[0m\u001b[0;31m:\u001b[0m invalid syntax. Perhaps you forgot a comma?\n"
     ]
    }
   ],
   "source": [
    "print(Hello Lener!)\n"
   ]
  },
  {
   "cell_type": "code",
   "execution_count": 2,
   "id": "1b45087d-58ab-45a8-8e0b-9a4aa68eb296",
   "metadata": {},
   "outputs": [
    {
     "name": "stdout",
     "output_type": "stream",
     "text": [
      "Hello Lerner!\n"
     ]
    }
   ],
   "source": [
    "print(\"Hello Lerner!\")"
   ]
  },
  {
   "cell_type": "code",
   "execution_count": 3,
   "id": "451339fb-e1eb-437b-b2a9-896ec94be550",
   "metadata": {},
   "outputs": [
    {
     "ename": "SyntaxError",
     "evalue": "invalid syntax. Perhaps you forgot a comma? (406646560.py, line 2)",
     "output_type": "error",
     "traceback": [
      "\u001b[0;36m  Cell \u001b[0;32mIn[3], line 2\u001b[0;36m\u001b[0m\n\u001b[0;31m    print('Hello, ' name'.')\u001b[0m\n\u001b[0m          ^\u001b[0m\n\u001b[0;31mSyntaxError\u001b[0m\u001b[0;31m:\u001b[0m invalid syntax. Perhaps you forgot a comma?\n"
     ]
    }
   ],
   "source": [
    "name = Amaury\n",
    "print('Hello, ' name'.') "
   ]
  },
  {
   "cell_type": "code",
   "execution_count": 4,
   "id": "936a7aba-5d50-4b03-b145-f70038e17812",
   "metadata": {},
   "outputs": [
    {
     "ename": "NameError",
     "evalue": "name 'name' is not defined",
     "output_type": "error",
     "traceback": [
      "\u001b[0;31m---------------------------------------------------------------------------\u001b[0m",
      "\u001b[0;31mNameError\u001b[0m                                 Traceback (most recent call last)",
      "Cell \u001b[0;32mIn[4], line 1\u001b[0m\n\u001b[0;32m----> 1\u001b[0m \u001b[38;5;28mprint\u001b[39m(\u001b[38;5;124m'\u001b[39m\u001b[38;5;124mHi, \u001b[39m\u001b[38;5;124m'\u001b[39m \u001b[38;5;241m+\u001b[39m \u001b[43mname\u001b[49m \u001b[38;5;241m+\u001b[39m \u001b[38;5;124m'\u001b[39m\u001b[38;5;124m.\u001b[39m\u001b[38;5;124m'\u001b[39m)\n",
      "\u001b[0;31mNameError\u001b[0m: name 'name' is not defined"
     ]
    }
   ],
   "source": [
    "print('Hi, ' + name + '.')\n"
   ]
  },
  {
   "cell_type": "code",
   "execution_count": 7,
   "id": "9f960fee-d40d-4981-a59c-3ad15fc3f483",
   "metadata": {},
   "outputs": [
    {
     "name": "stdout",
     "output_type": "stream",
     "text": [
      "Hello, Amaury.\n"
     ]
    }
   ],
   "source": [
    "name = 'Amaury'\n",
    "print('Hello, ' + name + '.')\n"
   ]
  },
  {
   "cell_type": "code",
   "execution_count": 8,
   "id": "e60b2e41-3b8f-433c-8df9-11fc3191059d",
   "metadata": {},
   "outputs": [
    {
     "name": "stdin",
     "output_type": "stream",
     "text": [
      "Enter your Name: Amaury Rodriguez\n"
     ]
    }
   ],
   "source": [
    "name = input('Enter your Name:')"
   ]
  },
  {
   "cell_type": "code",
   "execution_count": 12,
   "id": "e125a39c-675a-44ed-bf47-25ff527025ee",
   "metadata": {},
   "outputs": [
    {
     "name": "stdin",
     "output_type": "stream",
     "text": [
      "Enter your Name: Hiiii\n"
     ]
    }
   ],
   "source": [
    "user_name = input('Enter your Name:')"
   ]
  },
  {
   "cell_type": "code",
   "execution_count": 11,
   "id": "e050d425-328d-4d01-a330-059cfed3c92b",
   "metadata": {},
   "outputs": [
    {
     "name": "stdout",
     "output_type": "stream",
     "text": [
      "Hi! Amaury Rodriguez\n"
     ]
    }
   ],
   "source": [
    "print('Hi! ' + user_name)"
   ]
  },
  {
   "cell_type": "code",
   "execution_count": 13,
   "id": "ee721502-217e-4202-a417-126101775395",
   "metadata": {},
   "outputs": [
    {
     "name": "stdin",
     "output_type": "stream",
     "text": [
      "Enter your Name: Amama\n"
     ]
    },
    {
     "name": "stdout",
     "output_type": "stream",
     "text": [
      "Hi! Amama\n"
     ]
    }
   ],
   "source": [
    "user_name = input('Enter your Name:')\n",
    "print('Hi! ' + user_name)\n",
    "\n"
   ]
  },
  {
   "cell_type": "code",
   "execution_count": null,
   "id": "d243f80f-e9d4-4811-b3c3-ed47fa8fa1cc",
   "metadata": {},
   "outputs": [],
   "source": [
    "name = input('Enter your Name: ')\n",
    "\n",
    "if name == 'Amaury'\n",
    "   print('Hello the best NCE!!!')\n",
    "   print('The Network will good')   \n",
    "\n",
    "else:\n",
    "   print('Hello, ' + name + \".\")\n"
   ]
  },
  {
   "cell_type": "code",
   "execution_count": null,
   "id": "ff116bfd-0e03-4764-95f8-218f92b7cbfc",
   "metadata": {},
   "outputs": [],
   "source": []
  }
 ],
 "metadata": {
  "kernelspec": {
   "display_name": "Python 3 (ipykernel)",
   "language": "python",
   "name": "python3"
  },
  "language_info": {
   "codemirror_mode": {
    "name": "ipython",
    "version": 3
   },
   "file_extension": ".py",
   "mimetype": "text/x-python",
   "name": "python",
   "nbconvert_exporter": "python",
   "pygments_lexer": "ipython3",
   "version": "3.10.12"
  }
 },
 "nbformat": 4,
 "nbformat_minor": 5
}
