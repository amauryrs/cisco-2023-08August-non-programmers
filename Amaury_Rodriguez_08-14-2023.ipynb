{
 "cells": [
  {
   "cell_type": "code",
   "execution_count": 1,
   "id": "42490f8f-3322-4915-ac7b-51ff27004f7f",
   "metadata": {},
   "outputs": [
    {
     "ename": "SyntaxError",
     "evalue": "invalid syntax. Perhaps you forgot a comma? (913543610.py, line 1)",
     "output_type": "error",
     "traceback": [
      "\u001b[0;36m  Cell \u001b[0;32mIn[1], line 1\u001b[0;36m\u001b[0m\n\u001b[0;31m    print(Hello Lener!)\u001b[0m\n\u001b[0m          ^\u001b[0m\n\u001b[0;31mSyntaxError\u001b[0m\u001b[0;31m:\u001b[0m invalid syntax. Perhaps you forgot a comma?\n"
     ]
    }
   ],
   "source": [
    "print(Hello Lener!)\n"
   ]
  },
  {
   "cell_type": "code",
   "execution_count": 2,
   "id": "1b45087d-58ab-45a8-8e0b-9a4aa68eb296",
   "metadata": {},
   "outputs": [
    {
     "name": "stdout",
     "output_type": "stream",
     "text": [
      "Hello Lerner!\n"
     ]
    }
   ],
   "source": [
    "print(\"Hello Lerner!\")"
   ]
  },
  {
   "cell_type": "code",
   "execution_count": null,
   "id": "451339fb-e1eb-437b-b2a9-896ec94be550",
   "metadata": {},
   "outputs": [],
   "source": []
  }
 ],
 "metadata": {
  "kernelspec": {
   "display_name": "Python 3 (ipykernel)",
   "language": "python",
   "name": "python3"
  },
  "language_info": {
   "codemirror_mode": {
    "name": "ipython",
    "version": 3
   },
   "file_extension": ".py",
   "mimetype": "text/x-python",
   "name": "python",
   "nbconvert_exporter": "python",
   "pygments_lexer": "ipython3",
   "version": "3.10.12"
  }
 },
 "nbformat": 4,
 "nbformat_minor": 5
}
