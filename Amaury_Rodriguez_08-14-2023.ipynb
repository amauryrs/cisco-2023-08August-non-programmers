{
 "cells": [
  {
   "cell_type": "code",
   "execution_count": 1,
   "id": "42490f8f-3322-4915-ac7b-51ff27004f7f",
   "metadata": {},
   "outputs": [
    {
     "ename": "SyntaxError",
     "evalue": "invalid syntax. Perhaps you forgot a comma? (913543610.py, line 1)",
     "output_type": "error",
     "traceback": [
      "\u001b[0;36m  Cell \u001b[0;32mIn[1], line 1\u001b[0;36m\u001b[0m\n\u001b[0;31m    print(Hello Lener!)\u001b[0m\n\u001b[0m          ^\u001b[0m\n\u001b[0;31mSyntaxError\u001b[0m\u001b[0;31m:\u001b[0m invalid syntax. Perhaps you forgot a comma?\n"
     ]
    }
   ],
   "source": [
    "print(Hello Lener!)\n"
   ]
  },
  {
   "cell_type": "code",
   "execution_count": 2,
   "id": "1b45087d-58ab-45a8-8e0b-9a4aa68eb296",
   "metadata": {},
   "outputs": [
    {
     "name": "stdout",
     "output_type": "stream",
     "text": [
      "Hello Lerner!\n"
     ]
    }
   ],
   "source": [
    "print(\"Hello Lerner!\")"
   ]
  },
  {
   "cell_type": "code",
   "execution_count": 3,
   "id": "451339fb-e1eb-437b-b2a9-896ec94be550",
   "metadata": {},
   "outputs": [
    {
     "ename": "SyntaxError",
     "evalue": "invalid syntax. Perhaps you forgot a comma? (406646560.py, line 2)",
     "output_type": "error",
     "traceback": [
      "\u001b[0;36m  Cell \u001b[0;32mIn[3], line 2\u001b[0;36m\u001b[0m\n\u001b[0;31m    print('Hello, ' name'.')\u001b[0m\n\u001b[0m          ^\u001b[0m\n\u001b[0;31mSyntaxError\u001b[0m\u001b[0;31m:\u001b[0m invalid syntax. Perhaps you forgot a comma?\n"
     ]
    }
   ],
   "source": [
    "name = Amaury\n",
    "print('Hello, ' name'.') "
   ]
  },
  {
   "cell_type": "code",
   "execution_count": 4,
   "id": "936a7aba-5d50-4b03-b145-f70038e17812",
   "metadata": {},
   "outputs": [
    {
     "ename": "NameError",
     "evalue": "name 'name' is not defined",
     "output_type": "error",
     "traceback": [
      "\u001b[0;31m---------------------------------------------------------------------------\u001b[0m",
      "\u001b[0;31mNameError\u001b[0m                                 Traceback (most recent call last)",
      "Cell \u001b[0;32mIn[4], line 1\u001b[0m\n\u001b[0;32m----> 1\u001b[0m \u001b[38;5;28mprint\u001b[39m(\u001b[38;5;124m'\u001b[39m\u001b[38;5;124mHi, \u001b[39m\u001b[38;5;124m'\u001b[39m \u001b[38;5;241m+\u001b[39m \u001b[43mname\u001b[49m \u001b[38;5;241m+\u001b[39m \u001b[38;5;124m'\u001b[39m\u001b[38;5;124m.\u001b[39m\u001b[38;5;124m'\u001b[39m)\n",
      "\u001b[0;31mNameError\u001b[0m: name 'name' is not defined"
     ]
    }
   ],
   "source": [
    "print('Hi, ' + name + '.')\n"
   ]
  },
  {
   "cell_type": "code",
   "execution_count": 7,
   "id": "9f960fee-d40d-4981-a59c-3ad15fc3f483",
   "metadata": {},
   "outputs": [
    {
     "name": "stdout",
     "output_type": "stream",
     "text": [
      "Hello, Amaury.\n"
     ]
    }
   ],
   "source": [
    "name = 'Amaury'\n",
    "print('Hello, ' + name + '.')\n"
   ]
  },
  {
   "cell_type": "code",
   "execution_count": 8,
   "id": "e60b2e41-3b8f-433c-8df9-11fc3191059d",
   "metadata": {},
   "outputs": [
    {
     "name": "stdin",
     "output_type": "stream",
     "text": [
      "Enter your Name: Amaury Rodriguez\n"
     ]
    }
   ],
   "source": [
    "name = input('Enter your Name:')"
   ]
  },
  {
   "cell_type": "code",
   "execution_count": 12,
   "id": "e125a39c-675a-44ed-bf47-25ff527025ee",
   "metadata": {},
   "outputs": [
    {
     "name": "stdin",
     "output_type": "stream",
     "text": [
      "Enter your Name: Hiiii\n"
     ]
    }
   ],
   "source": [
    "user_name = input('Enter your Name:')"
   ]
  },
  {
   "cell_type": "code",
   "execution_count": 11,
   "id": "e050d425-328d-4d01-a330-059cfed3c92b",
   "metadata": {},
   "outputs": [
    {
     "name": "stdout",
     "output_type": "stream",
     "text": [
      "Hi! Amaury Rodriguez\n"
     ]
    }
   ],
   "source": [
    "print('Hi! ' + user_name)"
   ]
  },
  {
   "cell_type": "code",
   "execution_count": 13,
   "id": "ee721502-217e-4202-a417-126101775395",
   "metadata": {},
   "outputs": [
    {
     "name": "stdin",
     "output_type": "stream",
     "text": [
      "Enter your Name: Amama\n"
     ]
    },
    {
     "name": "stdout",
     "output_type": "stream",
     "text": [
      "Hi! Amama\n"
     ]
    }
   ],
   "source": [
    "user_name = input('Enter your Name:')\n",
    "print('Hi! ' + user_name)\n"
   ]
  },
  {
   "cell_type": "code",
   "execution_count": 18,
   "id": "d243f80f-e9d4-4811-b3c3-ed47fa8fa1cc",
   "metadata": {},
   "outputs": [
    {
     "name": "stdin",
     "output_type": "stream",
     "text": [
      "Enter your Name:  Mike\n"
     ]
    },
    {
     "name": "stdout",
     "output_type": "stream",
     "text": [
      "Hello, Mike.\n"
     ]
    }
   ],
   "source": [
    "name = input('Enter your Name: ')\n",
    "\n",
    "if name == 'Amaury':\n",
    "    print('Hello the best NCE!!!')\n",
    "    print('The Network will be Amazing')   \n",
    "else:\n",
    "    print('Hello, ' + name + \".\")\n"
   ]
  },
  {
   "cell_type": "code",
   "execution_count": 24,
   "id": "6a1e52c7-8337-4bf6-920b-0068e6b159ce",
   "metadata": {},
   "outputs": [
    {
     "name": "stdout",
     "output_type": "stream",
     "text": [
      "Yeah! you get it!\n"
     ]
    }
   ],
   "source": [
    "x = 10\n",
    "y = 555\n",
    "\n",
    "if x == 10 or y == 555:\n",
    "    print('Yeah! you get it!')\n"
   ]
  },
  {
   "cell_type": "code",
   "execution_count": 42,
   "id": "418d7103-2c0a-4e3e-87ff-9f72149cd560",
   "metadata": {},
   "outputs": [
    {
     "name": "stdin",
     "output_type": "stream",
     "text": [
      "Enter Name:  Amaury\n",
      "Enter Company:  Cisco\n"
     ]
    },
    {
     "name": "stdout",
     "output_type": "stream",
     "text": [
      "You must be here!\n"
     ]
    }
   ],
   "source": [
    "name_ = 'Amaury'\n",
    "company_ = 'Cisco'\n",
    "name = input('Enter Name: ')\n",
    "company = input('Enter Company: ')\n",
    "\n",
    "if name == name_ and company == company_:\n",
    "    print('You must be here!')\n",
    "elif name == name_ and company != company_:\n",
    "    print('Hi ' + name + \" You have a nice Name\")\n",
    "elif name != name_ and company == company_:\n",
    "    print('Hi ' + name + \" You work in a good Company\")\n",
    "elif name != name_ and company != company_:\n",
    "    print('Hi ' + name + \" You work in \" + company + \" Blalalal\")\n",
    "          \n"
   ]
  },
  {
   "cell_type": "code",
   "execution_count": null,
   "id": "7a07e15c-7a09-4d49-a8a4-535817b1434f",
   "metadata": {},
   "outputs": [],
   "source": [
    "#EXERCISE:\n",
    "1. Generate a random number from 0-100, and store it in `number` (I'll show you how).\n",
    "2. Print the number, for easier debugging.\n",
    "3. Ask the user to guess the number:\n",
    "     - If they guess correctly, write \"You got it!\"\n",
    "     - If they guess too high, write, \"Too high!\"\n",
    "     - If they guess too low, write, \"Too low!\"\n",
    "We'll assume that the user will enter only digits. \n",
    "The user only gets one chance to guess.\n",
    "How can we get a random number? We'll use the `random` module that comes with Python; we'll talk more about it on Thursday.\n",
    "```python\n",
    "import random     # this imports the module, or library, containing random info\n",
    "number = random.randint(0, 100)   # this calls the randint function, and assigns to number\n",
    "```\n"
   ]
  },
  {
   "cell_type": "code",
   "execution_count": 46,
   "id": "c6ae20c2-8213-4e1e-9f1b-fef253ff6cb8",
   "metadata": {},
   "outputs": [
    {
     "name": "stdout",
     "output_type": "stream",
     "text": [
      "58\n"
     ]
    },
    {
     "name": "stdin",
     "output_type": "stream",
     "text": [
      "Enter your number:  35\n"
     ]
    },
    {
     "ename": "TypeError",
     "evalue": "'>' not supported between instances of 'str' and 'int'",
     "output_type": "error",
     "traceback": [
      "\u001b[0;31m---------------------------------------------------------------------------\u001b[0m",
      "\u001b[0;31mTypeError\u001b[0m                                 Traceback (most recent call last)",
      "Cell \u001b[0;32mIn[46], line 8\u001b[0m\n\u001b[1;32m      6\u001b[0m \u001b[38;5;28;01mif\u001b[39;00m number \u001b[38;5;241m==\u001b[39m guest_num:\n\u001b[1;32m      7\u001b[0m     \u001b[38;5;28mprint\u001b[39m(\u001b[38;5;124m\"\u001b[39m\u001b[38;5;124mYou got it! ;-)\u001b[39m\u001b[38;5;124m\"\u001b[39m)\n\u001b[0;32m----> 8\u001b[0m \u001b[38;5;28;01melif\u001b[39;00m \u001b[43mguest_num\u001b[49m\u001b[43m \u001b[49m\u001b[38;5;241;43m>\u001b[39;49m\u001b[43m \u001b[49m\u001b[43mnumber\u001b[49m:\n\u001b[1;32m      9\u001b[0m     \u001b[38;5;28mprint\u001b[39m(\u001b[38;5;124m\"\u001b[39m\u001b[38;5;124mToo High!\u001b[39m\u001b[38;5;124m\"\u001b[39m)\n\u001b[1;32m     10\u001b[0m \u001b[38;5;28;01melif\u001b[39;00m guest_num \u001b[38;5;241m<\u001b[39m number:\n",
      "\u001b[0;31mTypeError\u001b[0m: '>' not supported between instances of 'str' and 'int'"
     ]
    }
   ],
   "source": [
    "import random\n",
    "number = random.randint(0,100)\n",
    "print(number)\n",
    "guest_num = input( )\n",
    "\n",
    "if number == guest_num:\n",
    "    print(\"You got it! ;-)\")\n",
    "elif guest_num > number:\n",
    "    print(\"Too High!\")\n",
    "elif guest_num < number:\n",
    "    print(\"Too low! =(\")\n",
    "\n",
    "\n"
   ]
  },
  {
   "cell_type": "code",
   "execution_count": null,
   "id": "014cf32b-9ed1-40cb-8265-cdf9e3a7ffc6",
   "metadata": {},
   "outputs": [],
   "source": []
  }
 ],
 "metadata": {
  "kernelspec": {
   "display_name": "Python 3 (ipykernel)",
   "language": "python",
   "name": "python3"
  },
  "language_info": {
   "codemirror_mode": {
    "name": "ipython",
    "version": 3
   },
   "file_extension": ".py",
   "mimetype": "text/x-python",
   "name": "python",
   "nbconvert_exporter": "python",
   "pygments_lexer": "ipython3",
   "version": "3.10.12"
  }
 },
 "nbformat": 4,
 "nbformat_minor": 5
}
