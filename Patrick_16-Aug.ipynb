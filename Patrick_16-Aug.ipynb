{
 "cells": [
  {
   "cell_type": "code",
   "execution_count": 11,
   "id": "0de8b2ee-a477-498f-a462-e04b4fae4172",
   "metadata": {},
   "outputs": [
    {
     "name": "stdin",
     "output_type": "stream",
     "text": [
      "Enter a threshold:  20\n",
      "Enter numbers:  10 20 30 40\n",
      "Enter numbers:  hello 50 5\n"
     ]
    },
    {
     "name": "stdout",
     "output_type": "stream",
     "text": [
      "hello is not number\n"
     ]
    },
    {
     "name": "stdin",
     "output_type": "stream",
     "text": [
      "Enter numbers:  \n"
     ]
    },
    {
     "name": "stdout",
     "output_type": "stream",
     "text": [
      "higher: [20, 30, 40, 50]\n",
      "lower: [10, 5]\n"
     ]
    }
   ],
   "source": [
    "\n",
    "higher = []\n",
    "lower = []\n",
    "\n",
    "\n",
    "s = input (\"Enter a threshold: \").strip()\n",
    "threshold = int(s)\n",
    "\n",
    "while True:\n",
    "    s = input (\"Enter numbers: \").strip()\n",
    "    \n",
    "    if s == '':\n",
    "        break\n",
    "\n",
    "    for one_word in s.split():\n",
    "        \n",
    "        if one_word.isdigit():\n",
    "            n = int(one_word)\n",
    "            if n < threshold:\n",
    "                lower.append(n)\n",
    "            else:\n",
    "                higher.append(n)\n",
    "\n",
    "        else:\n",
    "            print(f'{one_word} is not number')\n",
    "    \n",
    "\n",
    "\n",
    "print(f'higher: {higher}')\n",
    "print(f'lower: {lower}')"
   ]
  },
  {
   "cell_type": "code",
   "execution_count": 17,
   "id": "5ee50f04-cc93-4007-a5c0-5b46789204a0",
   "metadata": {},
   "outputs": [
    {
     "name": "stdin",
     "output_type": "stream",
     "text": [
      "Order:  burger\n"
     ]
    },
    {
     "name": "stdout",
     "output_type": "stream",
     "text": [
      "Price is 10; total is 10\n"
     ]
    },
    {
     "name": "stdin",
     "output_type": "stream",
     "text": [
      "Order:  coke\n"
     ]
    },
    {
     "name": "stdout",
     "output_type": "stream",
     "text": [
      "Price is 5; total is 15\n"
     ]
    },
    {
     "name": "stdin",
     "output_type": "stream",
     "text": [
      "Order:  hot dog\n"
     ]
    },
    {
     "name": "stdout",
     "output_type": "stream",
     "text": [
      "out of hot dog\n"
     ]
    },
    {
     "name": "stdin",
     "output_type": "stream",
     "text": [
      "Order:  fries\n"
     ]
    },
    {
     "name": "stdout",
     "output_type": "stream",
     "text": [
      "Price is 6; total is 21\n"
     ]
    },
    {
     "name": "stdin",
     "output_type": "stream",
     "text": [
      "Order:  \n"
     ]
    },
    {
     "name": "stdout",
     "output_type": "stream",
     "text": [
      "Total Price: 21\n"
     ]
    }
   ],
   "source": [
    "\n",
    "total = 0\n",
    "\n",
    "menu = {'coke':5, 'fries':6, 'burger':10}\n",
    "\n",
    "while True:\n",
    "    s = input(\"Order: \").strip()\n",
    "\n",
    "    if s == '':\n",
    "        break\n",
    "\n",
    "    if s in menu:\n",
    "        price = menu[s]\n",
    "        total += price\n",
    "        print(f'Price is {price}; total is {total}')\n",
    "\n",
    "    else:\n",
    "        print(f'out of {s}')\n",
    "\n",
    "\n",
    "print(f'Total Price: {total}')\n"
   ]
  },
  {
   "cell_type": "code",
   "execution_count": 26,
   "id": "a52dc55d-abbb-4121-ac16-a390cafc0c54",
   "metadata": {},
   "outputs": [
    {
     "name": "stdin",
     "output_type": "stream",
     "text": [
      "enter string:  hello !! 123\n"
     ]
    },
    {
     "name": "stdout",
     "output_type": "stream",
     "text": [
      "{'digits': 3, 'vowels': 2, 'others': 7}\n"
     ]
    }
   ],
   "source": [
    "\n",
    "counts = {'digits':0, 'vowels':0, 'others':0}\n",
    "\n",
    "s = input(\"enter string: \").strip()\n",
    "\n",
    "\n",
    "for one_character in s:\n",
    "    if one_character.isdigit():\n",
    "        counts['digits'] +=1\n",
    "    elif one_character in \"aeiou\":\n",
    "        counts['vowels'] +=1\n",
    "    else:\n",
    "        counts['others'] +=1\n",
    "\n",
    "        \n",
    "\n",
    "print(counts)"
   ]
  },
  {
   "cell_type": "code",
   "execution_count": null,
   "id": "5039431a-d901-4b49-a56b-d2786133c467",
   "metadata": {},
   "outputs": [],
   "source": [
    "\n",
    "rainfall = {}\n",
    "\n",
    "\n"
   ]
  }
 ],
 "metadata": {
  "kernelspec": {
   "display_name": "Python 3 (ipykernel)",
   "language": "python",
   "name": "python3"
  },
  "language_info": {
   "codemirror_mode": {
    "name": "ipython",
    "version": 3
   },
   "file_extension": ".py",
   "mimetype": "text/x-python",
   "name": "python",
   "nbconvert_exporter": "python",
   "pygments_lexer": "ipython3",
   "version": "3.10.12"
  }
 },
 "nbformat": 4,
 "nbformat_minor": 5
}
