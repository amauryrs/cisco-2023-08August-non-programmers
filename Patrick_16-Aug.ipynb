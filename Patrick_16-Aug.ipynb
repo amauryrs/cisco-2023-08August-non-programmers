{
 "cells": [
  {
   "cell_type": "code",
   "execution_count": null,
   "id": "0de8b2ee-a477-498f-a462-e04b4fae4172",
   "metadata": {},
   "outputs": [
    {
     "name": "stdin",
     "output_type": "stream",
     "text": [
      "Enter a threshold:  20\n"
     ]
    }
   ],
   "source": [
    "\n",
    "higher = []\n",
    "lower = []\n",
    "\n",
    "\n",
    "s = input (\"Enter a threshold: \").strip()\n",
    "threshold = int(s)\n",
    "\n",
    "while True:\n",
    "    s = input (\"Enter numbers: \").strip()\n",
    "    \n",
    "    if s == '':\n",
    "        break\n",
    "\n",
    "    for one_word in s.split():\n",
    "        \n",
    "        if one_word.isdigit():\n",
    "            n = int(one_word)\n",
    "            if n < threshold:\n",
    "                lower.append(n)\n",
    "            else:\n",
    "                higher.append(n)\n",
    "\n",
    "        else:\n",
    "            print(f'{one_word} is not number')\n",
    "    \n",
    "\n",
    "\n",
    "print(f'higher: {higher}')\n",
    "print(f'lower: {lower}')"
   ]
  },
  {
   "cell_type": "code",
   "execution_count": null,
   "id": "5ee50f04-cc93-4007-a5c0-5b46789204a0",
   "metadata": {},
   "outputs": [],
   "source": []
  }
 ],
 "metadata": {
  "kernelspec": {
   "display_name": "Python 3 (ipykernel)",
   "language": "python",
   "name": "python3"
  },
  "language_info": {
   "codemirror_mode": {
    "name": "ipython",
    "version": 3
   },
   "file_extension": ".py",
   "mimetype": "text/x-python",
   "name": "python",
   "nbconvert_exporter": "python",
   "pygments_lexer": "ipython3",
   "version": "3.10.12"
  }
 },
 "nbformat": 4,
 "nbformat_minor": 5
}
