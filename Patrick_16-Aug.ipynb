{
 "cells": [
  {
   "cell_type": "code",
   "execution_count": 1,
   "id": "0de8b2ee-a477-498f-a462-e04b4fae4172",
   "metadata": {},
   "outputs": [
    {
     "name": "stdout",
     "output_type": "stream",
     "text": [
      "higher: []\n",
      "lower: []\n"
     ]
    }
   ],
   "source": [
    "higher = []\n",
    "lower = []\n",
    "\n",
    "while True:\n",
    "    int(threshold) = input (\"Enter an integer: \")\n",
    "\n",
    "    if threshold == '':\n",
    "        break\n",
    "\n",
    "    s = input (\"Enter numbers: \")\n",
    "    \n",
    "\n",
    "\n",
    "\n",
    "\n",
    "print(f'higher: {higher}')\n",
    "print(f'lower: {lower}')"
   ]
  },
  {
   "cell_type": "code",
   "execution_count": null,
   "id": "5ee50f04-cc93-4007-a5c0-5b46789204a0",
   "metadata": {},
   "outputs": [],
   "source": []
  }
 ],
 "metadata": {
  "kernelspec": {
   "display_name": "Python 3 (ipykernel)",
   "language": "python",
   "name": "python3"
  },
  "language_info": {
   "codemirror_mode": {
    "name": "ipython",
    "version": 3
   },
   "file_extension": ".py",
   "mimetype": "text/x-python",
   "name": "python",
   "nbconvert_exporter": "python",
   "pygments_lexer": "ipython3",
   "version": "3.10.12"
  }
 },
 "nbformat": 4,
 "nbformat_minor": 5
}
