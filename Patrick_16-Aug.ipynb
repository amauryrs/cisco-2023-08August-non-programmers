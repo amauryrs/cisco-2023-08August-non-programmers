{
 "cells": [
  {
   "cell_type": "code",
   "execution_count": 11,
   "id": "0de8b2ee-a477-498f-a462-e04b4fae4172",
   "metadata": {},
   "outputs": [
    {
     "name": "stdin",
     "output_type": "stream",
     "text": [
      "Enter a threshold:  20\n",
      "Enter numbers:  10 20 30 40\n",
      "Enter numbers:  hello 50 5\n"
     ]
    },
    {
     "name": "stdout",
     "output_type": "stream",
     "text": [
      "hello is not number\n"
     ]
    },
    {
     "name": "stdin",
     "output_type": "stream",
     "text": [
      "Enter numbers:  \n"
     ]
    },
    {
     "name": "stdout",
     "output_type": "stream",
     "text": [
      "higher: [20, 30, 40, 50]\n",
      "lower: [10, 5]\n"
     ]
    }
   ],
   "source": [
    "\n",
    "higher = []\n",
    "lower = []\n",
    "\n",
    "\n",
    "s = input (\"Enter a threshold: \").strip()\n",
    "threshold = int(s)\n",
    "\n",
    "while True:\n",
    "    s = input (\"Enter numbers: \").strip()\n",
    "    \n",
    "    if s == '':\n",
    "        break\n",
    "\n",
    "    for one_word in s.split():\n",
    "        \n",
    "        if one_word.isdigit():\n",
    "            n = int(one_word)\n",
    "            if n < threshold:\n",
    "                lower.append(n)\n",
    "            else:\n",
    "                higher.append(n)\n",
    "\n",
    "        else:\n",
    "            print(f'{one_word} is not number')\n",
    "    \n",
    "\n",
    "\n",
    "print(f'higher: {higher}')\n",
    "print(f'lower: {lower}')"
   ]
  },
  {
   "cell_type": "code",
   "execution_count": 14,
   "id": "5ee50f04-cc93-4007-a5c0-5b46789204a0",
   "metadata": {},
   "outputs": [
    {
     "name": "stdin",
     "output_type": "stream",
     "text": [
      "Order:  coke\n"
     ]
    },
    {
     "ename": "KeyError",
     "evalue": "''",
     "output_type": "error",
     "traceback": [
      "\u001b[0;31m---------------------------------------------------------------------------\u001b[0m",
      "\u001b[0;31mKeyError\u001b[0m                                  Traceback (most recent call last)",
      "Cell \u001b[0;32mIn[14], line 11\u001b[0m\n\u001b[1;32m      8\u001b[0m     \u001b[38;5;28;01mif\u001b[39;00m s \u001b[38;5;241m==\u001b[39m \u001b[38;5;124m'\u001b[39m\u001b[38;5;124m'\u001b[39m:\n\u001b[1;32m      9\u001b[0m         \u001b[38;5;28;01mbreak\u001b[39;00m\n\u001b[0;32m---> 11\u001b[0m     \u001b[38;5;28;01mfor\u001b[39;00m price \u001b[38;5;129;01min\u001b[39;00m \u001b[43mmenu\u001b[49m\u001b[43m[\u001b[49m\u001b[38;5;124;43m'\u001b[39;49m\u001b[38;5;124;43m'\u001b[39;49m\u001b[43m]\u001b[49m:\n\u001b[1;32m     12\u001b[0m         \u001b[38;5;28mprint\u001b[39m(\u001b[38;5;124mf\u001b[39m\u001b[38;5;124m'\u001b[39m\u001b[38;5;124mPrice: \u001b[39m\u001b[38;5;132;01m{\u001b[39;00mprice\u001b[38;5;132;01m}\u001b[39;00m\u001b[38;5;124m'\u001b[39m)\n\u001b[1;32m     18\u001b[0m \u001b[38;5;28mprint\u001b[39m(\u001b[38;5;124mf\u001b[39m\u001b[38;5;124m'\u001b[39m\u001b[38;5;124mTotal Price: \u001b[39m\u001b[38;5;132;01m{\u001b[39;00mtotal\u001b[38;5;132;01m}\u001b[39;00m\u001b[38;5;124m'\u001b[39m)\n",
      "\u001b[0;31mKeyError\u001b[0m: ''"
     ]
    }
   ],
   "source": [
    "\n",
    "total = 0\n",
    "\n",
    "menu = {'coke':5, 'fries':6, 'burger':10}\n",
    "\n",
    "while True:\n",
    "    s = input(\"Order: \").strip()\n",
    "\n",
    "    if s == '':\n",
    "        break\n",
    "\n",
    "    if s in menu:\n",
    "        \n",
    "\n",
    "\n",
    "\n",
    "\n",
    "\n",
    "print(f'Total Price: {total}')\n"
   ]
  },
  {
   "cell_type": "code",
   "execution_count": null,
   "id": "a52dc55d-abbb-4121-ac16-a390cafc0c54",
   "metadata": {},
   "outputs": [],
   "source": []
  }
 ],
 "metadata": {
  "kernelspec": {
   "display_name": "Python 3 (ipykernel)",
   "language": "python",
   "name": "python3"
  },
  "language_info": {
   "codemirror_mode": {
    "name": "ipython",
    "version": 3
   },
   "file_extension": ".py",
   "mimetype": "text/x-python",
   "name": "python",
   "nbconvert_exporter": "python",
   "pygments_lexer": "ipython3",
   "version": "3.10.12"
  }
 },
 "nbformat": 4,
 "nbformat_minor": 5
}
