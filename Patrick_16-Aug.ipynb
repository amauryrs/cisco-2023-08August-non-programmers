{
 "cells": [
  {
   "cell_type": "code",
   "execution_count": 4,
   "id": "0de8b2ee-a477-498f-a462-e04b4fae4172",
   "metadata": {},
   "outputs": [
    {
     "ename": "SyntaxError",
     "evalue": "invalid syntax (3766044898.py, line 16)",
     "output_type": "error",
     "traceback": [
      "\u001b[0;36m  Cell \u001b[0;32mIn[4], line 16\u001b[0;36m\u001b[0m\n\u001b[0;31m    lower[] = one_number\u001b[0m\n\u001b[0m          ^\u001b[0m\n\u001b[0;31mSyntaxError\u001b[0m\u001b[0;31m:\u001b[0m invalid syntax\n"
     ]
    }
   ],
   "source": [
    "higher = numbers[0]\n",
    "lower = numbers[0]\n",
    "\n",
    "while True:\n",
    "    threshold = input (\"Enter an integer: \")\n",
    "\n",
    "    if threshold == '':\n",
    "        break\n",
    "\n",
    "    s = input (\"Enter numbers: \")\n",
    "    if s == '':\n",
    "        break\n",
    "\n",
    "for one_number in numbers:\n",
    "    if one_number < threshold:\n",
    "        lower[] = one_number\n",
    "\n",
    "    if one_number > threshold:\n",
    "        higher[] = one_number\n",
    "\n",
    "\n",
    "\n",
    "\n",
    "print(f'higher: {higher}')\n",
    "print(f'lower: {lower}')"
   ]
  },
  {
   "cell_type": "code",
   "execution_count": null,
   "id": "5ee50f04-cc93-4007-a5c0-5b46789204a0",
   "metadata": {},
   "outputs": [],
   "source": []
  }
 ],
 "metadata": {
  "kernelspec": {
   "display_name": "Python 3 (ipykernel)",
   "language": "python",
   "name": "python3"
  },
  "language_info": {
   "codemirror_mode": {
    "name": "ipython",
    "version": 3
   },
   "file_extension": ".py",
   "mimetype": "text/x-python",
   "name": "python",
   "nbconvert_exporter": "python",
   "pygments_lexer": "ipython3",
   "version": "3.10.12"
  }
 },
 "nbformat": 4,
 "nbformat_minor": 5
}
