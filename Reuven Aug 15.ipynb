{
 "cells": [
  {
   "cell_type": "markdown",
   "id": "95ccc737-0bea-40cf-9d50-cadea3dfc2c9",
   "metadata": {},
   "source": [
    "# Agenda\n",
    "\n",
    "1. Recap, questions, review exercise\n",
    "2. More loops\n",
    "    - `range` and iterating over numbers\n",
    "    - Ways to get the index, even if Python won't give it to us\n",
    "    - Leaving a loop early with `break`\n",
    "    - `while` loops -- what are they, and when do we use them?\n",
    "3. Lists\n",
    "    - What are they?\n",
    "    - How/when do we use them?\n",
    "    - List methods\n",
    "    - How are lists the same as strings, and how are they different?\n",
    "4. From strings to lists, and back\n",
    "    - `str.split`\n",
    "    - `str.join`\n",
    "5. Tuples\n",
    "    - What the heck are tuples?\n",
    "    - Tuple unpacking"
   ]
  },
  {
   "cell_type": "code",
   "execution_count": null,
   "id": "20bf632c-0128-4d0a-890f-ce18a3ca0431",
   "metadata": {},
   "outputs": [],
   "source": [
    "\n"
   ]
  }
 ],
 "metadata": {
  "kernelspec": {
   "display_name": "Python 3 (ipykernel)",
   "language": "python",
   "name": "python3"
  },
  "language_info": {
   "codemirror_mode": {
    "name": "ipython",
    "version": 3
   },
   "file_extension": ".py",
   "mimetype": "text/x-python",
   "name": "python",
   "nbconvert_exporter": "python",
   "pygments_lexer": "ipython3",
   "version": "3.10.12"
  }
 },
 "nbformat": 4,
 "nbformat_minor": 5
}
