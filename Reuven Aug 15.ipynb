{
 "cells": [
  {
   "cell_type": "markdown",
   "id": "95ccc737-0bea-40cf-9d50-cadea3dfc2c9",
   "metadata": {},
   "source": [
    "# Agenda\n",
    "\n",
    "1. Recap, questions, review exercise\n",
    "2. More loops\n",
    "    - `range` and iterating over numbers\n",
    "    - Ways to get the index, even if Python won't give it to us\n",
    "    - Leaving a loop early with `break`\n",
    "    - `while` loops -- what are they, and when do we use them?\n",
    "3. Lists\n",
    "    - What are they?\n",
    "    - How/when do we use them?\n",
    "    - List methods\n",
    "    - How are lists the same as strings, and how are they different?\n",
    "4. From strings to lists, and back\n",
    "    - `str.split`\n",
    "    - `str.join`\n",
    "5. Tuples\n",
    "    - What the heck are tuples?\n",
    "    - Tuple unpacking"
   ]
  },
  {
   "cell_type": "markdown",
   "id": "3206c294-19bf-4c52-b71a-1418783ea51a",
   "metadata": {},
   "source": [
    "# Yesterday -- recap\n",
    "\n",
    "1. Values and variables\n",
    "    - Each value has a type -- integer, string, float, etc.\n",
    "    - We can assign a value to a variable with `=` (the assignment operator). When we assign, Python finds (\"evaluates\") the stuff on the right, gets a value, and then assigns that value to the variable named on the left.\n",
    "    - Values in Python are \"strongly typed\" -- meaning that they don't automatically get turned into other types. This means that if you try (for example) to add a string and an integer, you'll get an error.\n",
    "    - You can get a value with a new type based on an existing value by invoking the type you want as a function. In other words, you can say `int('5')` to get an integer based on the string `'5'`. And you can call `str(123)` to get back a string `'123'` based on the integer 123. You always call the type that you want to get. The original value isn't changed.\n",
    "2. Conditions and conditionals\n",
    "    - We can compare values with comparison operators, such as `==` and `<`. These return boolean values, aka `True` and `False`.\n",
    "    - We can use `if` to check if an expression is `True` -- if so, then the block following the `if` will execute. This block must be indented, typically with 4 spaces. The block will only run if the `if` condition is `True`.\n",
    "    - If you want something to execute if the `if` condition is `False`, then you can use `elif` with other conditions, or `else` (with no conditions at all), and those blocks will run\n",
    "3. Numbers\n",
    "    - There are two basic numeric types in Python, `int` (whole numbers) and `float` (numbers with a fractional part).\n",
    "    - We can use all of the standard math operators on these, including `+` and `-`. There are some additional operators that are special to Python, such as `**` (exponentiation) and `%` (modulus, aka remainder after division).\n",
    "4. Strings\n",
    "    - Text strings in Python, the type `str`, are for anything that contains text. A string can be of any length, and contain any characters from all of Unicode.\n",
    "    - To get the length of a string, run the `len` function on the string, such as `len(s)`. You will get back an integer.\n",
    "    - To retrieve one element (character) from a string, use `[]` with an index in it, starting with 0 and going up to the length-1. For example, we can say `s[5]`, which will give us the 6th character, because of the 0-based indexing. You can use a variable as the index, instead of a literal integer.\n",
    "    - To retrieve multiple items from a string, use `[]` with a slice -- meaning, two integers separated by a `:`. The first integer is the starting index, and the second integer is one past the final character we'll get back. So if I say `s[10:20]`, this will return a string based on `s`, starting at index 10, up to and not including index 20.\n",
    "    - Search in a string with the `in` operator, which returns `True` if the left item is in the right item.\n",
    "5. Methods\n",
    "    - Most of the verbs in Python are in the form of methods, meaning that they're invoked after a dot following the object name.\n",
    "    - We learned about a bunch of string methods:\n",
    "        - `str.strip` -- returns the original string, but without leading/trailing whitespace\n",
    "        - `str.isdigit` -- returns `True` if the strong contains only 0-9, and is non-empty\n",
    "        - `str.lower` -- returns a new string based on the original, but all lowercase\n",
    "6. `for` loops\n",
    "    - If we loop over the contents of a string, we'll get each character in the string, one at a time\n",
    "    - The character is placed inside of the \"loop variable\"\n",
    "    - Each iteration means that the loop body executes once for each value in the loop variable\n",
    "\n"
   ]
  },
  {
   "cell_type": "code",
   "execution_count": 1,
   "id": "8070b55c-0dfd-4376-bad1-0afa099cc081",
   "metadata": {},
   "outputs": [
    {
     "name": "stdout",
     "output_type": "stream",
     "text": [
      "Hello, Reuven\n"
     ]
    }
   ],
   "source": [
    "# f-strings\n",
    "# this is a way to create a string that includes some dynamic content\n",
    "\n",
    "name = 'Reuven'\n",
    "s = f'Hello, {name}'   # this creates a string based on static part + current value of \"name\"\n",
    "print(s)"
   ]
  },
  {
   "cell_type": "code",
   "execution_count": 3,
   "id": "4528b36e-3c9b-4f4d-8289-024a39a8eba2",
   "metadata": {},
   "outputs": [
    {
     "name": "stdout",
     "output_type": "stream",
     "text": [
      "Your favorite number is 123\n"
     ]
    }
   ],
   "source": [
    "number = 123\n",
    "s = f'Your favorite number is {number}'  # automatically, values in {} have str() run on them\n",
    "print(s)"
   ]
  },
  {
   "cell_type": "code",
   "execution_count": 5,
   "id": "399176a8-9193-44d4-9f0d-6f50227b0ac2",
   "metadata": {},
   "outputs": [
    {
     "name": "stdout",
     "output_type": "stream",
     "text": [
      "Yet another dumb use of swapcase would be turning \"aBcD eFgH\" into \"AbCd EfGh\"\n"
     ]
    }
   ],
   "source": [
    "s = 'aBcD eFgH'\n",
    "print(f'Yet another dumb use of swapcase would be turning \"{s}\" into \"{s.swapcase()}\"')"
   ]
  },
  {
   "cell_type": "code",
   "execution_count": 8,
   "id": "56f54a31-1b1d-42e8-9167-c44e140be2cc",
   "metadata": {},
   "outputs": [
    {
     "name": "stdout",
     "output_type": "stream",
     "text": [
      "10 + 20 = 30\n"
     ]
    }
   ],
   "source": [
    "x = 10\n",
    "y = 20\n",
    "\n",
    "s = f'{x} + {y} = {x+y}'\n",
    "print(s)"
   ]
  },
  {
   "cell_type": "code",
   "execution_count": 9,
   "id": "ba664c51-b958-438a-8930-045966197bd0",
   "metadata": {},
   "outputs": [
    {
     "name": "stdout",
     "output_type": "stream",
     "text": [
      "10 + 20 = 30\n"
     ]
    }
   ],
   "source": [
    "x = 234\n",
    "y = 567\n",
    "print(s)   # what will this print?"
   ]
  },
  {
   "cell_type": "code",
   "execution_count": 10,
   "id": "73afcc16-771a-4d8c-98cf-31eb67e4d8ec",
   "metadata": {},
   "outputs": [
    {
     "data": {
      "text/plain": [
       "'5'"
      ]
     },
     "execution_count": 10,
     "metadata": {},
     "output_type": "execute_result"
    }
   ],
   "source": [
    "# str is the type -- it's the \"factory\" for all strings\n",
    "# I can create a new string by applying str to something\n",
    "# also, all string methods are named by putting \"str\" first\n",
    "\n",
    "x = 5\n",
    "str(x)  # this returns a new string value, '5'"
   ]
  },
  {
   "cell_type": "code",
   "execution_count": 12,
   "id": "5f394ebd-a93d-4ec1-9a64-23a50316049a",
   "metadata": {},
   "outputs": [
    {
     "data": {
      "text/plain": [
       "'5'"
      ]
     },
     "execution_count": 12,
     "metadata": {},
     "output_type": "execute_result"
    }
   ],
   "source": [
    "# I can assign that value to a variable, and I often use \"s\" as the variable name for strings\n",
    "\n",
    "s = str(x)   # s is a variable that refers to whatever we get back from str(x)\n",
    "s"
   ]
  },
  {
   "cell_type": "code",
   "execution_count": 13,
   "id": "4681bcc2-ff92-4df1-8ed5-0caf19e70dc5",
   "metadata": {},
   "outputs": [
    {
     "data": {
      "text/plain": [
       "'ABCD EFGH'"
      ]
     },
     "execution_count": 13,
     "metadata": {},
     "output_type": "execute_result"
    }
   ],
   "source": [
    "# you can do this:\n",
    "s = 'abCD efGH'\n",
    "s.upper()"
   ]
  },
  {
   "cell_type": "code",
   "execution_count": 14,
   "id": "f9323f37-b506-4669-adf6-0464fad76df1",
   "metadata": {},
   "outputs": [
    {
     "data": {
      "text/plain": [
       "'ABCD EFGH'"
      ]
     },
     "execution_count": 14,
     "metadata": {},
     "output_type": "execute_result"
    }
   ],
   "source": [
    "# we can actually also do this:\n",
    "str.upper(s)  # totally equivalent"
   ]
  },
  {
   "cell_type": "code",
   "execution_count": 15,
   "id": "73163948-c3ae-4ea1-ac35-f86270bc512f",
   "metadata": {},
   "outputs": [
    {
     "name": "stdout",
     "output_type": "stream",
     "text": [
      "aaa\n",
      "bbb\n",
      "ccc\n",
      "ddd\n",
      "eee\n",
      "fff\n",
      "ggg\n",
      "hhh\n",
      "iii\n",
      "jjj\n"
     ]
    }
   ],
   "source": [
    "# for loops\n",
    "# for loops are perfect for when you have a string (or other sequence) and you want to\n",
    "# repeat your actions on every element in that sequence\n",
    "\n",
    "s = 'abcdefghij'\n",
    "\n",
    "# I want to go through each character in s, and print it three times\n",
    "\n",
    "for one_character in s:\n",
    "    print(one_character + one_character + one_character)"
   ]
  },
  {
   "cell_type": "code",
   "execution_count": 16,
   "id": "dd24da59-09c6-4128-bfce-7e4bdd20c3b4",
   "metadata": {},
   "outputs": [
    {
     "name": "stdout",
     "output_type": "stream",
     "text": [
      "a\n",
      "\taaa\n",
      "b\n",
      "\tbbb\n",
      "c\n",
      "\tccc\n",
      "d\n",
      "\tddd\n",
      "e\n",
      "\teee\n",
      "f\n",
      "\tfff\n",
      "g\n",
      "\tggg\n",
      "h\n",
      "\thhh\n",
      "i\n",
      "\tiii\n",
      "j\n",
      "\tjjj\n"
     ]
    }
   ],
   "source": [
    "for one_character in s:\n",
    "    print(one_character)\n",
    "    print(f'\\t{one_character + one_character + one_character}')"
   ]
  },
  {
   "cell_type": "code",
   "execution_count": 18,
   "id": "d53849b8-6ded-4fb9-8508-17d97d2a0149",
   "metadata": {},
   "outputs": [
    {
     "name": "stdout",
     "output_type": "stream",
     "text": [
      "1: a\n",
      "\ta\n",
      "2: b\n",
      "\tbb\n",
      "3: c\n",
      "\tccc\n",
      "4: d\n",
      "\tdddd\n",
      "5: e\n",
      "\teeeee\n",
      "6: f\n",
      "\tffffff\n",
      "7: g\n",
      "\tggggggg\n",
      "8: h\n",
      "\thhhhhhhh\n",
      "9: i\n",
      "\tiiiiiiiii\n",
      "10: j\n",
      "\tjjjjjjjjjj\n"
     ]
    }
   ],
   "source": [
    "index = 1\n",
    "\n",
    "for one_character in s:\n",
    "    print(f'{index}: {one_character}')\n",
    "    print(f'\\t{index * one_character}')   #yes, you can multiply an int by a string!\n",
    "    index += 1"
   ]
  },
  {
   "cell_type": "markdown",
   "id": "3ab45c2f-5664-459a-b0b4-cf9ad56add9e",
   "metadata": {},
   "source": [
    "# Exercise: Digits, vowels, and others\n",
    "\n",
    "1. Define three variables, `digits`, `vowels`, and `others`, all to be 0. We will use these variables to count how many times we see digits, vowels, and other characters in the user's input.\n",
    "2. Ask the user to enter a string.\n",
    "3. Go through that string, one character at a time:\n",
    "    - If the current character is a digit 0-9, add 1 to the `digits` variable.\n",
    "    - If the current character is a vowel (a, e, i, o, or u), add 1 to the `vowels` variable.\n",
    "    - In all other cases, add 1 to the `others` variable.\n",
    "4. Print the names and values of all three counting variables.\n",
    "\n",
    "Example:\n",
    "\n",
    "    Enter a string: hello!! 123\n",
    "    digits: 3\n",
    "    vowels: 2\n",
    "    others: 6"
   ]
  },
  {
   "cell_type": "code",
   "execution_count": 19,
   "id": "88720013-87cc-4a6c-95ba-a698ff32459f",
   "metadata": {},
   "outputs": [
    {
     "name": "stdin",
     "output_type": "stream",
     "text": [
      "Enter a string:  hello!! 123\n"
     ]
    },
    {
     "name": "stdout",
     "output_type": "stream",
     "text": [
      "vowels = 2\n",
      "digits = 3\n",
      "others = 6\n"
     ]
    }
   ],
   "source": [
    "# setup\n",
    "digits = 0\n",
    "vowels = 0\n",
    "others = 0\n",
    "\n",
    "s = input('Enter a string: ').strip()    # get input from the user, removing leading/trailing spaces\n",
    "\n",
    "# calculations\n",
    "for one_character in s:\n",
    "    if one_character.isdigit():\n",
    "        digits += 1\n",
    "    elif one_character in 'aeiou':\n",
    "        vowels += 1\n",
    "    else:\n",
    "        others += 1\n",
    "        \n",
    "# report\n",
    "print(f'vowels = {vowels}')\n",
    "print(f'digits = {digits}')\n",
    "print(f'others = {others}')\n"
   ]
  },
  {
   "cell_type": "markdown",
   "id": "255cabc0-1cf9-44cc-857b-c66ede924e4b",
   "metadata": {},
   "source": [
    "# Solution in Python tutor\n",
    "\n",
    "https://pythontutor.com/render.html#code=%23%20setup%0Adigits%20%3D%200%0Avowels%20%3D%200%0Aothers%20%3D%200%0A%0As%20%3D%20input%28'Enter%20a%20string%3A%20'%29.strip%28%29%20%20%20%20%23%20get%20input%20from%20the%20user,%20removing%20leading/trailing%20spaces%0A%0A%23%20calculations%0Afor%20one_character%20in%20s%3A%0A%20%20%20%20if%20one_character.isdigit%28%29%3A%0A%20%20%20%20%20%20%20%20digits%20%2B%3D%201%0A%20%20%20%20elif%20one_character%20in%20'aeiou'%3A%0A%20%20%20%20%20%20%20%20vowels%20%2B%3D%201%0A%20%20%20%20else%3A%0A%20%20%20%20%20%20%20%20others%20%2B%3D%201%0A%20%20%20%20%20%20%20%20%0A%23%20report%0Aprint%28f'vowels%20%3D%20%7Bvowels%7D'%29%0Aprint%28f'digits%20%3D%20%7Bdigits%7D'%29%0Aprint%28f'others%20%3D%20%7Bothers%7D'%29&cumulative=false&curInstr=49&heapPrimitives=nevernest&mode=display&origin=opt-frontend.js&py=3&rawInputLstJSON=%5B%22hello!!%20123%22%5D&textReferences=false"
   ]
  },
  {
   "cell_type": "markdown",
   "id": "24f2188a-6f04-4383-bdbe-dc1c889e3486",
   "metadata": {},
   "source": [
    "# More about looping\n",
    "\n",
    "We've now seen how we can iterate over a string, getting each character, one at a time.\n",
    "\n",
    "What if I want to do something 3 times? Can I loop over an integer?"
   ]
  },
  {
   "cell_type": "code",
   "execution_count": 20,
   "id": "192e74fb-affd-4370-a9eb-a4f48e4af343",
   "metadata": {},
   "outputs": [
    {
     "name": "stdout",
     "output_type": "stream",
     "text": [
      "Hooray!\n",
      "Hooray!\n",
      "Hooray!\n"
     ]
    }
   ],
   "source": [
    "print('Hooray!')\n",
    "print('Hooray!')\n",
    "print('Hooray!')"
   ]
  },
  {
   "cell_type": "code",
   "execution_count": 21,
   "id": "2a1d7e04-54a7-4dbe-9671-3b95fc323654",
   "metadata": {},
   "outputs": [
    {
     "ename": "TypeError",
     "evalue": "'int' object is not iterable",
     "output_type": "error",
     "traceback": [
      "\u001b[0;31m---------------------------------------------------------------------------\u001b[0m",
      "\u001b[0;31mTypeError\u001b[0m                                 Traceback (most recent call last)",
      "Cell \u001b[0;32mIn[21], line 3\u001b[0m\n\u001b[1;32m      1\u001b[0m \u001b[38;5;66;03m# I want to \"DRY up\" this code -- remove the repetition\u001b[39;00m\n\u001b[0;32m----> 3\u001b[0m \u001b[38;5;28;01mfor\u001b[39;00m one_iteration \u001b[38;5;129;01min\u001b[39;00m \u001b[38;5;241m3\u001b[39m:\n\u001b[1;32m      4\u001b[0m     \u001b[38;5;28mprint\u001b[39m(\u001b[38;5;124m'\u001b[39m\u001b[38;5;124mHooray!\u001b[39m\u001b[38;5;124m'\u001b[39m)\n",
      "\u001b[0;31mTypeError\u001b[0m: 'int' object is not iterable"
     ]
    }
   ],
   "source": [
    "# I want to \"DRY up\" this code -- remove the repetition\n",
    "\n",
    "for one_iteration in 3:\n",
    "    print('Hooray!')"
   ]
  },
  {
   "cell_type": "markdown",
   "id": "c8c9aaf3-fbf6-4c18-aca3-31567d36debb",
   "metadata": {},
   "source": [
    "# Integers aren't iterable -- enter `range`\n",
    "\n",
    "Because integers aren't iterable in Python, we can use the `range` function, which lets us iterate a certain number of times. If we invoke `range(3)`, we get back an object that knows how to behave inside of a `for` loop, and which will give us three iterations."
   ]
  },
  {
   "cell_type": "code",
   "execution_count": 22,
   "id": "4bc199da-4bd7-44fa-a132-6f1f74b22256",
   "metadata": {},
   "outputs": [
    {
     "name": "stdout",
     "output_type": "stream",
     "text": [
      "Hooray!\n",
      "Hooray!\n",
      "Hooray!\n"
     ]
    }
   ],
   "source": [
    "# notice that now we'll use range\n",
    "\n",
    "for one_iteration in range(3):\n",
    "    print('Hooray!')"
   ]
  },
  {
   "cell_type": "code",
   "execution_count": 23,
   "id": "dacd860f-2911-44ca-8adc-a568347708ce",
   "metadata": {},
   "outputs": [
    {
     "name": "stdout",
     "output_type": "stream",
     "text": [
      "0 Hooray!\n",
      "1 Hooray!\n",
      "2 Hooray!\n"
     ]
    }
   ],
   "source": [
    "# what is the value in each iteration of the variable one_iteration?\n",
    "\n",
    "for one_iteration in range(3):\n",
    "    print(f'{one_iteration} Hooray!')"
   ]
  },
  {
   "cell_type": "markdown",
   "id": "f99ddb0d-954b-4b1f-b281-53ac77f6c3a9",
   "metadata": {},
   "source": [
    "# What `range` returns\n",
    "\n",
    "If you invoke `range(5)` in Python, you'll get an object that knows how to behave inside of a `for` loop, and which will iterate 5 times. But it turns out that we'll get integer values back from `range`, starting at 0 and continuing until the number you gave - 1. So if you say `range(5)`, the values you get will be 0, 1, 2, 3, and 4.\n",
    "\n",
    "If this sounds sort of like slices, you're right -- everything in Python that involves a limit or range is always \"from the first number until, but not including, the second number.\"\n",
    "\n",
    "Here, the first number is implicit, it's 0. The second number -- the ending number, or one beyond it -- is explicit."
   ]
  },
  {
   "cell_type": "code",
   "execution_count": 24,
   "id": "3a19e132-be19-441d-8a9c-a9103f5fdf3e",
   "metadata": {},
   "outputs": [
    {
     "data": {
      "text/plain": [
       "range(0, 100)"
      ]
     },
     "execution_count": 24,
     "metadata": {},
     "output_type": "execute_result"
    }
   ],
   "source": [
    "range(100) # this will give  me all of the integers, starting at 0 going up through 99."
   ]
  },
  {
   "cell_type": "code",
   "execution_count": 25,
   "id": "e3c635a0-42fa-4a0f-96d5-155bf8e2ac33",
   "metadata": {},
   "outputs": [
    {
     "name": "stdout",
     "output_type": "stream",
     "text": [
      "1\n",
      "2\n",
      "3\n",
      "4\n"
     ]
    }
   ],
   "source": [
    "n = 1234\n",
    "\n",
    "# to go through each digit in an integer:\n",
    "# (1) turn the integer into a string\n",
    "# (2) go through the string one character at time\n",
    "\n",
    "for one_digit in str(n):\n",
    "    print(one_digit)"
   ]
  },
  {
   "cell_type": "code",
   "execution_count": 26,
   "id": "514dd7ac-5c04-4844-8e32-6f88e30a5220",
   "metadata": {},
   "outputs": [
    {
     "name": "stdout",
     "output_type": "stream",
     "text": [
      "5\n",
      "6\n",
      "7\n",
      "8\n",
      "9\n"
     ]
    }
   ],
   "source": [
    "# you can actually pass *two* arguments to range, if you want to specify\n",
    "# the starting and ending points.  In that way, it's just like slices.\n",
    "\n",
    "for counter in range(5, 10):\n",
    "    print(counter)"
   ]
  },
  {
   "cell_type": "markdown",
   "id": "f9e2bad1-3be0-4028-98af-bba2096fcf25",
   "metadata": {},
   "source": [
    "# Exercise: Name triangles\n",
    "\n",
    "1. Ask the user to enter their name.\n",
    "2. Print the user's name as a triangle:\n",
    "    - On the first line, print the first letter\n",
    "    - On the second line, print the first two letters\n",
    "    - Continue...\n",
    "    - On the final line, print the entire name\n",
    "  \n",
    "Example:\n",
    "\n",
    "    Enter your name: Reuven\n",
    "    R\n",
    "    Re\n",
    "    Reu\n",
    "    Reuv\n",
    "    Reuve\n",
    "    Reuven\n",
    "\n",
    "A few things to remember:\n",
    "- You can get the length of a string with `len`\n",
    "- You can iterate a number of times with `range`\n",
    "- You can grab a portion of a string with a slice, namely `s[start:end]`"
   ]
  },
  {
   "cell_type": "code",
   "execution_count": 28,
   "id": "17c5098a-85bc-43d0-8b39-e3093e6963cb",
   "metadata": {},
   "outputs": [
    {
     "name": "stdin",
     "output_type": "stream",
     "text": [
      "Enter your name:  verylongname\n"
     ]
    },
    {
     "name": "stdout",
     "output_type": "stream",
     "text": [
      "v\n",
      "ve\n",
      "ver\n",
      "very\n",
      "veryl\n",
      "verylo\n"
     ]
    }
   ],
   "source": [
    "name = input('Enter your name: ').strip()\n",
    "\n",
    "print(name[:1])  # just the first character\n",
    "print(name[:2])  # first 2\n",
    "print(name[:3])  # first 3\n",
    "print(name[:4])\n",
    "print(name[:5])\n",
    "print(name[:6])  # first 6 characters"
   ]
  },
  {
   "cell_type": "code",
   "execution_count": 33,
   "id": "c75d5681-1e68-48f0-b457-266150e442ff",
   "metadata": {},
   "outputs": [
    {
     "name": "stdin",
     "output_type": "stream",
     "text": [
      "Enter your name:  Reuven\n"
     ]
    },
    {
     "name": "stdout",
     "output_type": "stream",
     "text": [
      "R\n",
      "Re\n",
      "Reu\n",
      "Reuv\n",
      "Reuve\n",
      "Reuven\n"
     ]
    }
   ],
   "source": [
    "# setup\n",
    "name = input('Enter your name: ').strip()\n",
    "\n",
    "# calculations\n",
    "for index in range(len(name)):\n",
    "    print(name[:index+1])  \n",
    "\n",
    "# report"
   ]
  },
  {
   "cell_type": "code",
   "execution_count": 34,
   "id": "a9f3ce39-a680-41b1-8137-761aee2516be",
   "metadata": {},
   "outputs": [
    {
     "name": "stdin",
     "output_type": "stream",
     "text": [
      "Enter your name:  Reuven\n"
     ]
    },
    {
     "name": "stdout",
     "output_type": "stream",
     "text": [
      "R\n",
      "Re\n",
      "Reu\n",
      "Reuv\n",
      "Reuve\n",
      "Reuven\n"
     ]
    }
   ],
   "source": [
    "# setup\n",
    "name = input('Enter your name: ').strip()\n",
    "\n",
    "# calculations\n",
    "# here, index will be accurate, and not need +1, because we'll use a fancier invocation of range\n",
    "for index in range(1, len(name)+1):\n",
    "    print(name[:index])  \n",
    "\n",
    "# report"
   ]
  },
  {
   "cell_type": "markdown",
   "id": "e037a2ad-097b-4598-880c-6ee47006d076",
   "metadata": {},
   "source": [
    "# `range` with 1 and 2 arguments\n",
    "\n",
    "If I invoke `range` with a single integer argument, I can then iterate from 0 up to and not including the number I give -- meaning, that number of iterations:\n",
    "\n",
    "- `range(5)` -- 5 times, from 0 through 4\n",
    "- `range(1000)` -- 1000 times, from 0 through 1,000\n",
    "\n",
    "If I invoke `range` with two arguments, then the first argument is the starting point and the second argument is 1 past the ending point:\n",
    "\n",
    "- `range(5, 10)` -- 5 times, from 5 through 9 (because it's up to and *not* including 10)\n",
    "- `range(30, 40)` -- 10 times, from 30 through 39 (because it's up to and *not* including 40)\n",
    "\n",
    "So when we wrote `range(1, len(name)+1)`, that means:\n",
    "\n",
    "- Start with 1\n",
    "- Go up to the length of the string `name` + 1.  If `name` has 5 characters in it, we'll then iterate up to (and not including) 6.\n",
    "\n",
    "This means:\n",
    "\n",
    "- A 5-letter name will iterate 5 times, from 1 up to and *including* 5. Why? Because our end point will be `len(name)+1`, which is 5+1, or 6.  It'll be up to and not including 6.\n",
    "- A 7-letter name will iterate 7 times, from 1 up to and *including* 7. Our end point will be `len(name)+1`, which is 7+1, or 8. It'll iterate up to and not including 8."
   ]
  },
  {
   "cell_type": "markdown",
   "id": "89973dcc-54e4-4f8d-b07c-4c3e9086cd98",
   "metadata": {},
   "source": [
    "# Indexes and `for` loops\n",
    "\n",
    "Normally, when we iterate over a string, we don't get (or care about) the index. After all, we're interested in the characters.\n",
    "\n",
    "But sometimes, we actually do want the index -- if only because to display them.\n",
    "\n",
    "In a language like C, the index is always available in the loop, because we need it to get the character.\n",
    "\n",
    "In Python, we actually need to use the characters to calculate the index.\n",
    "\n",
    "Here are two systems you can use to get the index."
   ]
  },
  {
   "cell_type": "code",
   "execution_count": 35,
   "id": "0c443643-6c1a-4214-b3d7-c799da07e8e2",
   "metadata": {},
   "outputs": [
    {
     "name": "stdout",
     "output_type": "stream",
     "text": [
      "0: a\n",
      "1: b\n",
      "2: c\n",
      "3: d\n"
     ]
    }
   ],
   "source": [
    "# option 1 -- manual version\n",
    "\n",
    "index = 0\n",
    "\n",
    "for one_character in 'abcd':\n",
    "    print(f'{index}: {one_character}')\n",
    "    index += 1    # make sure to increment the index!"
   ]
  },
  {
   "cell_type": "code",
   "execution_count": 36,
   "id": "471a9ebe-f53e-4d6d-a6b2-f617bb462ab6",
   "metadata": {},
   "outputs": [
    {
     "name": "stdout",
     "output_type": "stream",
     "text": [
      "0: a\n",
      "1: b\n",
      "2: c\n",
      "3: d\n"
     ]
    }
   ],
   "source": [
    "# option 2 -- automatic version, using \"enumerate\"\n",
    "# enumerate is a function that wraps itself around any iterable value\n",
    "# in each iteration, it returns TWO values, the index and the next item from the iterable\n",
    "# in other words, it basically does what we did above, in option 1, but behind the scenes\n",
    "\n",
    "for index, one_character in enumerate('abcd'):\n",
    "    print(f'{index}: {one_character}')"
   ]
  },
  {
   "cell_type": "markdown",
   "id": "9ffee8ed-ab11-47fc-a6fe-da71d54a85a0",
   "metadata": {},
   "source": [
    "# Stopping a loop early\n",
    "\n",
    "So far, we've seen that when we run a `for` loop, we go through each of the elements in the string, one at a time. What if we want to stop early, because we have accomplished our goals?\n",
    "\n",
    "Right now, we can't do anything about it. But there are two different kinds of stopping we might want to do:\n",
    "\n",
    "- We might want to stop the entire loop -- we can use the `break` statement\n",
    "- We might want to stop the current iteration, going onto the next one -- we can use the `continue` statement\n",
    "\n",
    "Neither of these works outside of a loop! They only make sense inside of one."
   ]
  },
  {
   "cell_type": "code",
   "execution_count": 38,
   "id": "361c4596-5441-4c91-b63a-76f56e8d47fb",
   "metadata": {},
   "outputs": [
    {
     "name": "stdout",
     "output_type": "stream",
     "text": [
      "Start\n",
      "Current character is a\n",
      "Current character is b\n",
      "Current character is c\n",
      "Found c!\n",
      "Done\n"
     ]
    }
   ],
   "source": [
    "s = 'abcd'       # string\n",
    "look_for = 'c'   # what I want to look for in the string\n",
    "\n",
    "# we'll pretend that \"in\" doesn't exist in Python\n",
    "\n",
    "print('Start')\n",
    "for one_character in s:\n",
    "    print(f'Current character is {one_character}')\n",
    "\n",
    "    if one_character == look_for:   # did we find what we want?\n",
    "        print(f'Found {look_for}!')\n",
    "        break\n",
    "print('Done')        "
   ]
  },
  {
   "cell_type": "code",
   "execution_count": 39,
   "id": "922de761-685c-4cf0-ac7a-680b8162f641",
   "metadata": {},
   "outputs": [
    {
     "name": "stdout",
     "output_type": "stream",
     "text": [
      "3\n"
     ]
    }
   ],
   "source": [
    "# what if we know that the current iteration isn't useful, and we want\n",
    "# to move into the next one?  For that, we have continue\n",
    "\n",
    "vowels = 0    # how many vowels?\n",
    "s = 'abcdefghij'\n",
    "\n",
    "for one_character in s:\n",
    "    if one_character in 'aeiou':\n",
    "        vowels += 1\n",
    "\n",
    "print(vowels)"
   ]
  },
  {
   "cell_type": "code",
   "execution_count": 40,
   "id": "14a5811c-5be9-4599-87b6-2a247b279934",
   "metadata": {},
   "outputs": [
    {
     "name": "stdout",
     "output_type": "stream",
     "text": [
      "3\n"
     ]
    }
   ],
   "source": [
    "# we could also structure it like this:\n",
    "\n",
    "vowels = 0    # how many vowels?\n",
    "s = 'abcdefghij'\n",
    "\n",
    "for one_character in s:\n",
    "    if one_character not in 'aeiou':   # get rid of bad values\n",
    "        continue\n",
    "\n",
    "    vowels += 1    # this doesn't need to be in an \"else\" clause\n",
    "\n",
    "print(vowels)"
   ]
  },
  {
   "cell_type": "markdown",
   "id": "a3b2d16a-bc12-41b7-9ff4-4d7bec9cda57",
   "metadata": {},
   "source": [
    "# Next up\n",
    "\n",
    "- `while` loops\n",
    "- Lists\n",
    "\n",
    "Resume at :40"
   ]
  },
  {
   "cell_type": "markdown",
   "id": "79f21d96-437d-401f-9508-5e212bb9bb32",
   "metadata": {},
   "source": [
    "# `while` loops\n",
    "\n",
    "A `while` loop doesn't run on a sequence, element by element. Rather, a `while` loop is sort of like an `if` statement: It has a condition, and it checks that condition, and if the condition is `True`, then the block runs.\n",
    "\n",
    "The difference is that when the block is done, we go back up to the condition, and check it again. So long as the condition is `True`, the `while` loop's block runs.\n",
    "\n",
    "If the condition is `False` before the first iteration even happens, then the block never runs."
   ]
  },
  {
   "cell_type": "code",
   "execution_count": 42,
   "id": "b00d93a7-6acc-4c82-97f3-a62e8efd6c99",
   "metadata": {},
   "outputs": [
    {
     "name": "stdout",
     "output_type": "stream",
     "text": [
      "Start\n",
      "5\n",
      "4\n",
      "3\n",
      "2\n",
      "1\n",
      "Done\n"
     ]
    }
   ],
   "source": [
    "x = 5\n",
    "\n",
    "print('Start')\n",
    "while x > 0:\n",
    "    print(x)\n",
    "    x -= 1     # reduce x by 1 -- same as saying x = x - 1\n",
    "print('Done')"
   ]
  },
  {
   "cell_type": "markdown",
   "id": "bbfdab7a-34ea-497d-8438-e512fa36c854",
   "metadata": {},
   "source": [
    "# Exercise: Sum to 100\n",
    "\n",
    "1. Define a variable, `total`, and set it to 0.\n",
    "2. So long as `total` is less than 100, ask the user to enter a number.\n",
    "    - If they enter something non-numeric, scold them and let them try again.\n",
    "3. Add the user's input to `total`.\n",
    "4. When `total` is 100 or more, stop asking and print its value.\n",
    "\n",
    "Example:\n",
    "\n",
    "    Enter a number: 30\n",
    "    Enter a number: 50\n",
    "    Enter a number: hello\n",
    "    hello is not a number\n",
    "    Enter a number: 30\n",
    "    Total is 110\n",
    "\n",
    "- What condition do you need in the `while` loop?\n",
    "- Start off by not checking if the user's input is numeric, to make things easier\n",
    "- Don't forget to convert your data from strings to ints (or vice versa)."
   ]
  },
  {
   "cell_type": "code",
   "execution_count": 48,
   "id": "b55cf0c0-cda0-4fd5-aca8-140ede3ebb96",
   "metadata": {},
   "outputs": [
    {
     "name": "stdin",
     "output_type": "stream",
     "text": [
      "Enter a number:  20\n",
      "Enter a number:  hello\n"
     ]
    },
    {
     "name": "stdout",
     "output_type": "stream",
     "text": [
      "hello is not numeric; try again!\n"
     ]
    },
    {
     "name": "stdin",
     "output_type": "stream",
     "text": [
      "Enter a number:  30\n",
      "Enter a number:  70\n"
     ]
    },
    {
     "name": "stdout",
     "output_type": "stream",
     "text": [
      "Total = 120\n"
     ]
    }
   ],
   "source": [
    "# setup\n",
    "total = 0\n",
    "\n",
    "# calculations\n",
    "\n",
    "while total < 100:\n",
    "\n",
    "    # (1) get a number from the user\n",
    "    s = input('Enter a number: ').strip()\n",
    "    \n",
    "    if s.isdigit():   # if the user's input only contains digits...\n",
    "\n",
    "        # (2) turn it into an integer\n",
    "        n = int(s)\n",
    "        \n",
    "        # (3) add to total\n",
    "        total += n\n",
    "\n",
    "    else:\n",
    "        print(f'{s} is not numeric; try again!')\n",
    "\n",
    "# report\n",
    "print(f'Total = {total}')"
   ]
  },
  {
   "cell_type": "markdown",
   "id": "750d1492-9aa4-4e88-8d07-c74f40f61748",
   "metadata": {},
   "source": [
    "# Infinite loops\n",
    "\n",
    "It's not that uncommon for a Python program to have a `while` loop that starts like this:\n",
    "\n",
    "    while True:\n",
    "\n",
    "This is an infinite loop! It will literally run forever (or until you turn off the computer / Python). It seems scary/weird. It's actually a pretty common Python idiom. Just make sure that you have a condition and a `break` in there somewhere."
   ]
  },
  {
   "cell_type": "code",
   "execution_count": 49,
   "id": "570e8599-672d-497e-b725-8a739a8d681e",
   "metadata": {},
   "outputs": [
    {
     "name": "stdin",
     "output_type": "stream",
     "text": [
      "Enter your name:  Reuven\n"
     ]
    },
    {
     "name": "stdout",
     "output_type": "stream",
     "text": [
      "Hello, Reuven!\n"
     ]
    },
    {
     "name": "stdin",
     "output_type": "stream",
     "text": [
      "Enter your name:  world\n"
     ]
    },
    {
     "name": "stdout",
     "output_type": "stream",
     "text": [
      "Hello, world!\n"
     ]
    },
    {
     "name": "stdin",
     "output_type": "stream",
     "text": [
      "Enter your name:  out there\n"
     ]
    },
    {
     "name": "stdout",
     "output_type": "stream",
     "text": [
      "Hello, out there!\n"
     ]
    },
    {
     "name": "stdin",
     "output_type": "stream",
     "text": [
      "Enter your name:  \n"
     ]
    }
   ],
   "source": [
    "while True:\n",
    "    name = input('Enter your name: ').strip()\n",
    "\n",
    "    if name == '':    # did I get an empty string from the user?\n",
    "        break\n",
    "\n",
    "    print(f'Hello, {name}!')"
   ]
  },
  {
   "cell_type": "markdown",
   "id": "17e378e4-63a7-4c97-9e6f-cca287039cc3",
   "metadata": {},
   "source": [
    "# Exercise: Sum digits\n",
    "\n",
    "1. Define `total` to be 0.\n",
    "2. Repeatedly ask the user to enter a string containing digits.\n",
    "3. If the user enters an empty string (or one containing just whitespace), then stop asking and print `total`.\n",
    "4. If the user enters a string, then go through each character in the string.\n",
    "    - If it's numeric, then turn it into an integer, and add to `total`.\n",
    "    - Otherwise, scold the user.\n",
    "5. Print `total`\n",
    "\n",
    "This means: \n",
    "- We're going to use a `while` loop to get input from the user, because we don't know how many strings we'll get.\n",
    "- Inside of the `while` loop, we'll use a `for` loop to go through each character. If it's numeric, we'll turn it into an int and add to `total`\n",
    "\n",
    "Example:\n",
    "\n",
    "    Enter numbers: 123\n",
    "    Enter numbers: 4a5\n",
    "    a is not numeric; ignoring\n",
    "    Enter numbers: [ENTER]\n",
    "    Total: 15"
   ]
  },
  {
   "cell_type": "code",
   "execution_count": 52,
   "id": "af67c417-7507-4495-8d61-6d2e96a409c9",
   "metadata": {},
   "outputs": [
    {
     "name": "stdin",
     "output_type": "stream",
     "text": [
      "Enter numbers:  123\n",
      "Enter numbers:  4a5\n"
     ]
    },
    {
     "name": "stdout",
     "output_type": "stream",
     "text": [
      "a is not numeric; ignoring\n"
     ]
    },
    {
     "name": "stdin",
     "output_type": "stream",
     "text": [
      "Enter numbers:  \n"
     ]
    },
    {
     "name": "stdout",
     "output_type": "stream",
     "text": [
      "total = 15\n"
     ]
    }
   ],
   "source": [
    "# setup\n",
    "total = 0\n",
    "\n",
    "# calculations\n",
    "while True:\n",
    "    s = input('Enter numbers: ').strip()\n",
    "\n",
    "    if s == '':    # empty string? break!\n",
    "        break\n",
    "\n",
    "    for one_character in s:\n",
    "        if one_character.isdigit():\n",
    "            total += int(one_character)    # we know it's safe to turn one_character into an int\n",
    "        else:\n",
    "            print(f'{one_character} is not numeric; ignoring')\n",
    "\n",
    "# report\n",
    "print(f'total = {total}')"
   ]
  },
  {
   "cell_type": "code",
   "execution_count": 51,
   "id": "ca754309-6274-4e4b-a9f3-1943d22c866d",
   "metadata": {},
   "outputs": [
    {
     "data": {
      "text/plain": [
       "21"
      ]
     },
     "execution_count": 51,
     "metadata": {},
     "output_type": "execute_result"
    }
   ],
   "source": [
    "1 + 2 + 3 + 4 + 5 + 6"
   ]
  },
  {
   "cell_type": "code",
   "execution_count": 54,
   "id": "e1fd97c9-bce7-42ac-9e5c-3b758be12032",
   "metadata": {},
   "outputs": [
    {
     "name": "stdin",
     "output_type": "stream",
     "text": [
      "Enter string of digits:  123\n"
     ]
    },
    {
     "ename": "TypeError",
     "evalue": "'builtin_function_or_method' object is not iterable",
     "output_type": "error",
     "traceback": [
      "\u001b[0;31m---------------------------------------------------------------------------\u001b[0m",
      "\u001b[0;31mTypeError\u001b[0m                                 Traceback (most recent call last)",
      "Cell \u001b[0;32mIn[54], line 8\u001b[0m\n\u001b[1;32m      6\u001b[0m \u001b[38;5;28;01mif\u001b[39;00m number \u001b[38;5;241m==\u001b[39m \u001b[38;5;124m'\u001b[39m\u001b[38;5;124m'\u001b[39m: \u001b[38;5;66;03m#'' empty string break\u001b[39;00m\n\u001b[1;32m      7\u001b[0m     \u001b[38;5;28;01mbreak\u001b[39;00m\n\u001b[0;32m----> 8\u001b[0m \u001b[38;5;28;01mfor\u001b[39;00m one_character \u001b[38;5;129;01min\u001b[39;00m number:\n\u001b[1;32m      9\u001b[0m     \u001b[38;5;28;01mif\u001b[39;00m one_character\u001b[38;5;241m.\u001b[39misdigit():\n\u001b[1;32m     10\u001b[0m         total \u001b[38;5;241m+\u001b[39m\u001b[38;5;241m=\u001b[39m \u001b[38;5;28mint\u001b[39m(one_character)\n",
      "\u001b[0;31mTypeError\u001b[0m: 'builtin_function_or_method' object is not iterable"
     ]
    }
   ],
   "source": [
    "# Jon\n",
    "\n",
    "total = 0\n",
    "while True:\n",
    "    number = input('Enter string of digits: ').strip()\n",
    "    if number == '': #'' empty string break\n",
    "        break\n",
    "    for one_character in number:\n",
    "        if one_character.isdigit():\n",
    "            total += int(one_character)\n",
    "        else:\n",
    "            print('contains a letter')\n",
    "    \n",
    "#report\n",
    "print(f'total = {total}')\n"
   ]
  },
  {
   "cell_type": "code",
   "execution_count": 55,
   "id": "f83c33ea-cb18-4cfc-8af8-df93e528564d",
   "metadata": {},
   "outputs": [],
   "source": [
    "# in Python, when we have an \"if\" , we need to have an indented block:\n",
    "\n",
    "if x == 5:\n",
    "    print('a')\n",
    "    print('b')"
   ]
  },
  {
   "cell_type": "code",
   "execution_count": null,
   "id": "c1942036-faf9-49ce-8778-a7165da81e95",
   "metadata": {},
   "outputs": [],
   "source": [
    "# in C, if your block is only one line long, then you don't need anything:\n",
    "\n",
    "if (x == 5):\n",
    "    printf('a');\n",
    "\n",
    "# but if you have two or more lines, then you need {} around the block\n",
    "\n",
    "if (x == 5):\n",
    "{\n",
    "    printf('a');\n",
    "    printf('b');\n",
    "}\n",
    "\n",
    "# someone wrote this:\n",
    "\n",
    "if (x == 5):\n",
    "    printf('a');\n",
    "    printf('b');   # not part of the \"if\" block -- this always executed!\n",
    "\n"
   ]
  },
  {
   "cell_type": "code",
   "execution_count": 59,
   "id": "8619e7ab-800a-4670-9eaa-9a37a618b420",
   "metadata": {},
   "outputs": [
    {
     "name": "stdin",
     "output_type": "stream",
     "text": [
      "enter a value:  4a5\n"
     ]
    },
    {
     "name": "stdout",
     "output_type": "stream",
     "text": [
      "Enter a numeric value\n"
     ]
    },
    {
     "name": "stdin",
     "output_type": "stream",
     "text": [
      "enter a value:  \n"
     ]
    },
    {
     "name": "stdout",
     "output_type": "stream",
     "text": [
      "Total is  9\n"
     ]
    }
   ],
   "source": [
    "# Hetal\n",
    "total = 0\n",
    "while True: \n",
    "    value = input('enter a value: ').strip()\n",
    "    if value == '':\n",
    "        break\n",
    "    for one_char in value:\n",
    "        if one_char.isdigit():\n",
    "            total += int(one_char)\n",
    "        else:\n",
    "            print('Enter a numeric value')\n",
    "print(f'Total is  {total}')\n"
   ]
  },
  {
   "cell_type": "markdown",
   "id": "7245786d-8700-4347-b00e-06f2a68ed92e",
   "metadata": {},
   "source": [
    "# Lists\n",
    "\n",
    "So far, we have discussed a few \"primitive\" data structures -- integers, floats, and even strings (which aren't so primitive).\n",
    "\n",
    "Lists are a \"container\" type -- they contain other objects. In Python, lists, can contain any combination, in any number, of any values we want, of any type. Traditionally, every list should have elements that are all of the same type, but Python doesn't enforce this.\n",
    "\n",
    "Other languages sometimes refer to this kind of data as an \"array.\" But lists are not arrays, because (as we'll see) they can contain different types and we can change their length over time. Both of these are violations of what's considered to be an \"array\" in computer science.\n",
    "\n",
    "The idea of a list is that you have a bunch of related values. Some examples of where you might want to use a list are:\n",
    "\n",
    "- list of usernames\n",
    "- list of student grades\n",
    "- list of error messages that appeared in a logfile\n",
    "\n",
    "We often say that lists are Python's default container type. They're easy to work with, fast, and flexible.\n",
    "\n",
    "We also say that lists are *ordered*, meaning that if you put elements in a particular order, they'll stay in that order. "
   ]
  },
  {
   "cell_type": "code",
   "execution_count": 60,
   "id": "c152b24c-1772-4394-86b9-ef24f1949048",
   "metadata": {},
   "outputs": [],
   "source": [
    "# here's a simple list\n",
    "\n",
    "# I create a list with []\n",
    "# the elements are separated by , (commas)\n",
    "# I can create an empty list as [] with no elements\n",
    "mylist = [10, 20, 30, 40, 50, 60, 70, 80, 90, 100]"
   ]
  },
  {
   "cell_type": "code",
   "execution_count": 61,
   "id": "3dbb9024-086a-494e-a931-78a11e8d6ddb",
   "metadata": {},
   "outputs": [
    {
     "data": {
      "text/plain": [
       "list"
      ]
     },
     "execution_count": 61,
     "metadata": {},
     "output_type": "execute_result"
    }
   ],
   "source": [
    "type(mylist)"
   ]
  },
  {
   "cell_type": "code",
   "execution_count": 62,
   "id": "5bb5937e-8235-4da7-bccd-9f73caa17600",
   "metadata": {},
   "outputs": [
    {
     "data": {
      "text/plain": [
       "10"
      ]
     },
     "execution_count": 62,
     "metadata": {},
     "output_type": "execute_result"
    }
   ],
   "source": [
    "# I can do lots of things with lists that I could also do with strings\n",
    "\n",
    "len(mylist)"
   ]
  },
  {
   "cell_type": "code",
   "execution_count": 63,
   "id": "28428de5-57ca-40db-b5f2-c8a656c45fd1",
   "metadata": {},
   "outputs": [
    {
     "data": {
      "text/plain": [
       "10"
      ]
     },
     "execution_count": 63,
     "metadata": {},
     "output_type": "execute_result"
    }
   ],
   "source": [
    "mylist[0]"
   ]
  },
  {
   "cell_type": "code",
   "execution_count": 64,
   "id": "cdb9c084-fb0f-490f-86fd-c6b268820971",
   "metadata": {},
   "outputs": [
    {
     "data": {
      "text/plain": [
       "20"
      ]
     },
     "execution_count": 64,
     "metadata": {},
     "output_type": "execute_result"
    }
   ],
   "source": [
    "mylist[1]"
   ]
  },
  {
   "cell_type": "code",
   "execution_count": 65,
   "id": "4ccba9b9-8ddc-436a-9054-5f04b8a04f98",
   "metadata": {},
   "outputs": [
    {
     "data": {
      "text/plain": [
       "100"
      ]
     },
     "execution_count": 65,
     "metadata": {},
     "output_type": "execute_result"
    }
   ],
   "source": [
    "mylist[-1]"
   ]
  },
  {
   "cell_type": "code",
   "execution_count": 66,
   "id": "7e900924-56ca-49eb-be2b-7443359c43ab",
   "metadata": {},
   "outputs": [
    {
     "data": {
      "text/plain": [
       "90"
      ]
     },
     "execution_count": 66,
     "metadata": {},
     "output_type": "execute_result"
    }
   ],
   "source": [
    "mylist[-2]"
   ]
  },
  {
   "cell_type": "code",
   "execution_count": 67,
   "id": "cd724287-798f-4626-954b-9f2380128e14",
   "metadata": {},
   "outputs": [
    {
     "data": {
      "text/plain": [
       "[40, 50, 60, 70]"
      ]
     },
     "execution_count": 67,
     "metadata": {},
     "output_type": "execute_result"
    }
   ],
   "source": [
    "# slice\n",
    "mylist[3:7]"
   ]
  },
  {
   "cell_type": "code",
   "execution_count": 68,
   "id": "93118b74-3551-4fcb-873c-08e6fcce5375",
   "metadata": {},
   "outputs": [
    {
     "data": {
      "text/plain": [
       "True"
      ]
     },
     "execution_count": 68,
     "metadata": {},
     "output_type": "execute_result"
    }
   ],
   "source": [
    "# I can search in a list with \"in\"\n",
    "50 in mylist"
   ]
  },
  {
   "cell_type": "code",
   "execution_count": 69,
   "id": "3dbe7b66-9b12-4f02-b46e-a591fd677730",
   "metadata": {},
   "outputs": [
    {
     "data": {
      "text/plain": [
       "False"
      ]
     },
     "execution_count": 69,
     "metadata": {},
     "output_type": "execute_result"
    }
   ],
   "source": [
    "500 in mylist"
   ]
  },
  {
   "cell_type": "code",
   "execution_count": 70,
   "id": "dd5a9781-1596-43e0-a330-dfb7f72b005a",
   "metadata": {},
   "outputs": [
    {
     "name": "stdout",
     "output_type": "stream",
     "text": [
      "10\n",
      "20\n",
      "30\n",
      "40\n",
      "50\n",
      "60\n",
      "70\n",
      "80\n",
      "90\n",
      "100\n"
     ]
    }
   ],
   "source": [
    "# I can iterate over a list with \"for\" \n",
    "\n",
    "for one_item in mylist:\n",
    "    print(one_item)"
   ]
  },
  {
   "cell_type": "code",
   "execution_count": 71,
   "id": "fed82191-68c7-44c6-86f8-c5c0797bbed4",
   "metadata": {},
   "outputs": [
    {
     "name": "stdout",
     "output_type": "stream",
     "text": [
      "20\n",
      "40\n",
      "60\n",
      "80\n",
      "100\n"
     ]
    }
   ],
   "source": [
    "# I can get fancier, too:\n",
    "\n",
    "for one_item in mylist:\n",
    "    if (one_item / 10) % 2 == 0:   # if the remainder is 0, it's even... print it\n",
    "        print(one_item)"
   ]
  },
  {
   "cell_type": "code",
   "execution_count": 72,
   "id": "aa8ebfe8-bed8-4818-b859-c6d581e23d6c",
   "metadata": {},
   "outputs": [
    {
     "data": {
      "text/plain": [
       "[10, 20, 30, 40, 50, 60, 70, 80, 90, 100]"
      ]
     },
     "execution_count": 72,
     "metadata": {},
     "output_type": "execute_result"
    }
   ],
   "source": [
    "mylist"
   ]
  },
  {
   "cell_type": "code",
   "execution_count": 73,
   "id": "5bb230a3-d51e-4ea8-be09-f8bd8a693383",
   "metadata": {},
   "outputs": [
    {
     "ename": "TypeError",
     "evalue": "'str' object does not support item assignment",
     "output_type": "error",
     "traceback": [
      "\u001b[0;31m---------------------------------------------------------------------------\u001b[0m",
      "\u001b[0;31mTypeError\u001b[0m                                 Traceback (most recent call last)",
      "Cell \u001b[0;32mIn[73], line 4\u001b[0m\n\u001b[1;32m      1\u001b[0m \u001b[38;5;66;03m# we've seen that strings are immutable\u001b[39;00m\n\u001b[1;32m      2\u001b[0m s \u001b[38;5;241m=\u001b[39m \u001b[38;5;124m'\u001b[39m\u001b[38;5;124mabcdefghij\u001b[39m\u001b[38;5;124m'\u001b[39m\n\u001b[0;32m----> 4\u001b[0m \u001b[43ms\u001b[49m\u001b[43m[\u001b[49m\u001b[38;5;241;43m0\u001b[39;49m\u001b[43m]\u001b[49m \u001b[38;5;241m=\u001b[39m \u001b[38;5;124m'\u001b[39m\u001b[38;5;124m!\u001b[39m\u001b[38;5;124m'\u001b[39m   \u001b[38;5;66;03m# can't change a string!\u001b[39;00m\n",
      "\u001b[0;31mTypeError\u001b[0m: 'str' object does not support item assignment"
     ]
    }
   ],
   "source": [
    "# we've seen that strings are immutable\n",
    "s = 'abcdefghij'\n",
    "\n",
    "s[0] = '!'   # can't change a string!"
   ]
  },
  {
   "cell_type": "code",
   "execution_count": 74,
   "id": "bbdd8e1b-ca4c-4fca-873b-2877ef956534",
   "metadata": {},
   "outputs": [],
   "source": [
    "# what about a list?\n",
    "\n",
    "mylist = [10, 20, 30]\n",
    "mylist[0] = '!'"
   ]
  },
  {
   "cell_type": "code",
   "execution_count": 75,
   "id": "a191b626-5052-4657-bfbb-8ac79c017089",
   "metadata": {},
   "outputs": [
    {
     "data": {
      "text/plain": [
       "['!', 20, 30]"
      ]
     },
     "execution_count": 75,
     "metadata": {},
     "output_type": "execute_result"
    }
   ],
   "source": [
    "mylist"
   ]
  },
  {
   "cell_type": "markdown",
   "id": "473d3881-80d8-4d5a-8f79-2c2e58c160fa",
   "metadata": {},
   "source": [
    "# Lists are mutable!\n",
    "\n",
    "If two variables both refer to the same list, and you modify the list, then both variables see the modification."
   ]
  },
  {
   "cell_type": "code",
   "execution_count": 76,
   "id": "6f2010f0-b956-4bde-86bc-f8b631b8153f",
   "metadata": {},
   "outputs": [
    {
     "name": "stdout",
     "output_type": "stream",
     "text": [
      "100\n"
     ]
    }
   ],
   "source": [
    "x = 100       # 100 is assigned to x\n",
    "y = x         # 100 is assigned to y\n",
    "\n",
    "x = 200       # update x's value\n",
    "print(y)      # this will print 100 -- because y, since line 2, has referred to 100"
   ]
  },
  {
   "cell_type": "code",
   "execution_count": null,
   "id": "550b1aa4-8e52-44c2-9707-7daac75949bc",
   "metadata": {},
   "outputs": [],
   "source": [
    "# if we do something similar with lists...\n",
    "\n",
    "x = [10, 20, 30]   # the list [10, 20, 30] is a\n",
    "y = x"
   ]
  }
 ],
 "metadata": {
  "kernelspec": {
   "display_name": "Python 3 (ipykernel)",
   "language": "python",
   "name": "python3"
  },
  "language_info": {
   "codemirror_mode": {
    "name": "ipython",
    "version": 3
   },
   "file_extension": ".py",
   "mimetype": "text/x-python",
   "name": "python",
   "nbconvert_exporter": "python",
   "pygments_lexer": "ipython3",
   "version": "3.10.12"
  }
 },
 "nbformat": 4,
 "nbformat_minor": 5
}
