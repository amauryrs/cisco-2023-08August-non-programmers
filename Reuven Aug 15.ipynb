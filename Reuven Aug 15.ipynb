{
 "cells": [
  {
   "cell_type": "markdown",
   "id": "95ccc737-0bea-40cf-9d50-cadea3dfc2c9",
   "metadata": {},
   "source": [
    "# Agenda\n",
    "\n",
    "1. Recap, questions, review exercise\n",
    "2. More loops\n",
    "    - `range` and iterating over numbers\n",
    "    - Ways to get the index, even if Python won't give it to us\n",
    "    - Leaving a loop early with `break`\n",
    "    - `while` loops -- what are they, and when do we use them?\n",
    "3. Lists\n",
    "    - What are they?\n",
    "    - How/when do we use them?\n",
    "    - List methods\n",
    "    - How are lists the same as strings, and how are they different?\n",
    "4. From strings to lists, and back\n",
    "    - `str.split`\n",
    "    - `str.join`\n",
    "5. Tuples\n",
    "    - What the heck are tuples?\n",
    "    - Tuple unpacking"
   ]
  },
  {
   "cell_type": "markdown",
   "id": "3206c294-19bf-4c52-b71a-1418783ea51a",
   "metadata": {},
   "source": [
    "# Yesterday -- recap\n",
    "\n",
    "1. Values and variables\n",
    "    - Each value has a type -- integer, string, float, etc.\n",
    "    - We can assign a value to a variable with `=` (the assignment operator). When we assign, Python finds (\"evaluates\") the stuff on the right, gets a value, and then assigns that value to the variable named on the left.\n",
    "    - Values in Python are \"strongly typed\" -- meaning that they don't automatically get turned into other types. This means that if you try (for example) to add a string and an integer, you'll get an error.\n",
    "    - You can get a value with a new type based on an existing value by invoking the type you want as a function. In other words, you can say `int('5')` to get an integer based on the string `'5'`. And you can call `str(123)` to get back a string `'123'` based on the integer 123. You always call the type that you want to get. The original value isn't changed.\n",
    "2. Conditions and conditionals\n",
    "    - We can compare values with comparison operators, such as `==` and `<`. These return boolean values, aka `True` and `False`.\n",
    "    - We can use `if` to check if an expression is `True` -- if so, then the block following the `if` will execute. This block must be indented, typically with 4 spaces. The block will only run if the `if` condition is `True`.\n",
    "    - If you want something to execute if the `if` condition is `False`, then you can use `elif` with other conditions, or `else` (with no conditions at all), and those blocks will run\n",
    "3. Numbers\n",
    "    - There are two basic numeric types in Python, `int` (whole numbers) and `float` (numbers with a fractional part).\n",
    "    - We can use all of the standard math operators on these, including `+` and `-`. There are some additional operators that are special to Python, such as `**` (exponentiation) and `%` (modulus, aka remainder after division).\n",
    "4. Strings\n",
    "    - Text strings in Python, the type `str`, are for anything that contains text. A string can be of any length, and contain any characters from all of Unicode.\n",
    "    - To get the length of a string, run the `len` function on the string, such as `len(s)`. You will get back an integer.\n",
    "    - To retrieve one element (character) from a string, use `[]` with an index in it, starting with 0 and going up to the length-1. For example, we can say `s[5]`, which will give us the 6th character, because of the 0-based indexing. You can use a variable as the index, instead of a literal integer.\n",
    "    - To retrieve multiple items from a string, use `[]` with a slice -- meaning, two integers separated by a `:`. The first integer is the starting index, and the second integer is one past the final character we'll get back. So if I say `s[10:20]`, this will return a string based on `s`, starting at index 10, up to and not including index 20.\n",
    "    - Search in a string with the `in` operator, which returns `True` if the left item is in the right item.\n",
    "5. Methods\n",
    "    - Most of the verbs in Python are in the form of methods, meaning that they're invoked after a dot following the object name.\n",
    "    - We learned about a bunch of string methods:\n",
    "        - `str.strip` -- returns the original string, but without leading/trailing whitespace\n",
    "        - `str.isdigit` -- returns `True` if the strong contains only 0-9, and is non-empty\n",
    "        - `str.lower` -- returns a new string based on the original, but all lowercase\n",
    "6. `for` loops\n",
    "    - If we loop over the contents of a string, we'll get each character in the string, one at a time\n",
    "    - The character is placed inside of the \"loop variable\"\n",
    "    - Each iteration means that the loop body executes once for each value in the loop variable\n",
    "\n"
   ]
  },
  {
   "cell_type": "code",
   "execution_count": 1,
   "id": "8070b55c-0dfd-4376-bad1-0afa099cc081",
   "metadata": {},
   "outputs": [
    {
     "name": "stdout",
     "output_type": "stream",
     "text": [
      "Hello, Reuven\n"
     ]
    }
   ],
   "source": [
    "# f-strings\n",
    "# this is a way to create a string that includes some dynamic content\n",
    "\n",
    "name = 'Reuven'\n",
    "s = f'Hello, {name}'   # this creates a string based on static part + current value of \"name\"\n",
    "print(s)"
   ]
  },
  {
   "cell_type": "code",
   "execution_count": 3,
   "id": "4528b36e-3c9b-4f4d-8289-024a39a8eba2",
   "metadata": {},
   "outputs": [
    {
     "name": "stdout",
     "output_type": "stream",
     "text": [
      "Your favorite number is 123\n"
     ]
    }
   ],
   "source": [
    "number = 123\n",
    "s = f'Your favorite number is {number}'  # automatically, values in {} have str() run on them\n",
    "print(s)"
   ]
  },
  {
   "cell_type": "code",
   "execution_count": 5,
   "id": "399176a8-9193-44d4-9f0d-6f50227b0ac2",
   "metadata": {},
   "outputs": [
    {
     "name": "stdout",
     "output_type": "stream",
     "text": [
      "Yet another dumb use of swapcase would be turning \"aBcD eFgH\" into \"AbCd EfGh\"\n"
     ]
    }
   ],
   "source": [
    "s = 'aBcD eFgH'\n",
    "print(f'Yet another dumb use of swapcase would be turning \"{s}\" into \"{s.swapcase()}\"')"
   ]
  },
  {
   "cell_type": "code",
   "execution_count": 8,
   "id": "56f54a31-1b1d-42e8-9167-c44e140be2cc",
   "metadata": {},
   "outputs": [
    {
     "name": "stdout",
     "output_type": "stream",
     "text": [
      "10 + 20 = 30\n"
     ]
    }
   ],
   "source": [
    "x = 10\n",
    "y = 20\n",
    "\n",
    "s = f'{x} + {y} = {x+y}'\n",
    "print(s)"
   ]
  },
  {
   "cell_type": "code",
   "execution_count": 9,
   "id": "ba664c51-b958-438a-8930-045966197bd0",
   "metadata": {},
   "outputs": [
    {
     "name": "stdout",
     "output_type": "stream",
     "text": [
      "10 + 20 = 30\n"
     ]
    }
   ],
   "source": [
    "x = 234\n",
    "y = 567\n",
    "print(s)   # what will this print?"
   ]
  },
  {
   "cell_type": "code",
   "execution_count": 10,
   "id": "73afcc16-771a-4d8c-98cf-31eb67e4d8ec",
   "metadata": {},
   "outputs": [
    {
     "data": {
      "text/plain": [
       "'5'"
      ]
     },
     "execution_count": 10,
     "metadata": {},
     "output_type": "execute_result"
    }
   ],
   "source": [
    "# str is the type -- it's the \"factory\" for all strings\n",
    "# I can create a new string by applying str to something\n",
    "# also, all string methods are named by putting \"str\" first\n",
    "\n",
    "x = 5\n",
    "str(x)  # this returns a new string value, '5'"
   ]
  },
  {
   "cell_type": "code",
   "execution_count": 12,
   "id": "5f394ebd-a93d-4ec1-9a64-23a50316049a",
   "metadata": {},
   "outputs": [
    {
     "data": {
      "text/plain": [
       "'5'"
      ]
     },
     "execution_count": 12,
     "metadata": {},
     "output_type": "execute_result"
    }
   ],
   "source": [
    "# I can assign that value to a variable, and I often use \"s\" as the variable name for strings\n",
    "\n",
    "s = str(x)   # s is a variable that refers to whatever we get back from str(x)\n",
    "s"
   ]
  },
  {
   "cell_type": "code",
   "execution_count": 13,
   "id": "4681bcc2-ff92-4df1-8ed5-0caf19e70dc5",
   "metadata": {},
   "outputs": [
    {
     "data": {
      "text/plain": [
       "'ABCD EFGH'"
      ]
     },
     "execution_count": 13,
     "metadata": {},
     "output_type": "execute_result"
    }
   ],
   "source": [
    "# you can do this:\n",
    "s = 'abCD efGH'\n",
    "s.upper()"
   ]
  },
  {
   "cell_type": "code",
   "execution_count": 14,
   "id": "f9323f37-b506-4669-adf6-0464fad76df1",
   "metadata": {},
   "outputs": [
    {
     "data": {
      "text/plain": [
       "'ABCD EFGH'"
      ]
     },
     "execution_count": 14,
     "metadata": {},
     "output_type": "execute_result"
    }
   ],
   "source": [
    "# we can actually also do this:\n",
    "str.upper(s)  # totally equivalent"
   ]
  },
  {
   "cell_type": "code",
   "execution_count": 15,
   "id": "73163948-c3ae-4ea1-ac35-f86270bc512f",
   "metadata": {},
   "outputs": [
    {
     "name": "stdout",
     "output_type": "stream",
     "text": [
      "aaa\n",
      "bbb\n",
      "ccc\n",
      "ddd\n",
      "eee\n",
      "fff\n",
      "ggg\n",
      "hhh\n",
      "iii\n",
      "jjj\n"
     ]
    }
   ],
   "source": [
    "# for loops\n",
    "# for loops are perfect for when you have a string (or other sequence) and you want to\n",
    "# repeat your actions on every element in that sequence\n",
    "\n",
    "s = 'abcdefghij'\n",
    "\n",
    "# I want to go through each character in s, and print it three times\n",
    "\n",
    "for one_character in s:\n",
    "    print(one_character + one_character + one_character)"
   ]
  },
  {
   "cell_type": "code",
   "execution_count": 16,
   "id": "dd24da59-09c6-4128-bfce-7e4bdd20c3b4",
   "metadata": {},
   "outputs": [
    {
     "name": "stdout",
     "output_type": "stream",
     "text": [
      "a\n",
      "\taaa\n",
      "b\n",
      "\tbbb\n",
      "c\n",
      "\tccc\n",
      "d\n",
      "\tddd\n",
      "e\n",
      "\teee\n",
      "f\n",
      "\tfff\n",
      "g\n",
      "\tggg\n",
      "h\n",
      "\thhh\n",
      "i\n",
      "\tiii\n",
      "j\n",
      "\tjjj\n"
     ]
    }
   ],
   "source": [
    "for one_character in s:\n",
    "    print(one_character)\n",
    "    print(f'\\t{one_character + one_character + one_character}')"
   ]
  },
  {
   "cell_type": "code",
   "execution_count": 18,
   "id": "d53849b8-6ded-4fb9-8508-17d97d2a0149",
   "metadata": {},
   "outputs": [
    {
     "name": "stdout",
     "output_type": "stream",
     "text": [
      "1: a\n",
      "\ta\n",
      "2: b\n",
      "\tbb\n",
      "3: c\n",
      "\tccc\n",
      "4: d\n",
      "\tdddd\n",
      "5: e\n",
      "\teeeee\n",
      "6: f\n",
      "\tffffff\n",
      "7: g\n",
      "\tggggggg\n",
      "8: h\n",
      "\thhhhhhhh\n",
      "9: i\n",
      "\tiiiiiiiii\n",
      "10: j\n",
      "\tjjjjjjjjjj\n"
     ]
    }
   ],
   "source": [
    "index = 1\n",
    "\n",
    "for one_character in s:\n",
    "    print(f'{index}: {one_character}')\n",
    "    print(f'\\t{index * one_character}')   #yes, you can multiply an int by a string!\n",
    "    index += 1"
   ]
  },
  {
   "cell_type": "markdown",
   "id": "3ab45c2f-5664-459a-b0b4-cf9ad56add9e",
   "metadata": {},
   "source": [
    "# Exercise: Digits, vowels, and others\n",
    "\n",
    "1. Define three variables, `digits`, `vowels`, and `others`, all to be 0. We will use these variables to count how many times we see digits, vowels, and other characters in the user's input.\n",
    "2. Ask the user to enter a string.\n",
    "3. Go through that string, one character at a time:\n",
    "    - If the current character is a digit 0-9, add 1 to the `digits` variable.\n",
    "    - If the current character is a vowel (a, e, i, o, or u), add 1 to the `vowels` variable.\n",
    "    - In all other cases, add 1 to the `others` variable.\n",
    "4. Print the names and values of all three counting variables.\n",
    "\n",
    "Example:\n",
    "\n",
    "    Enter a string: hello!! 123\n",
    "    digits: 3\n",
    "    vowels: 2\n",
    "    others: 6"
   ]
  },
  {
   "cell_type": "code",
   "execution_count": 19,
   "id": "88720013-87cc-4a6c-95ba-a698ff32459f",
   "metadata": {},
   "outputs": [
    {
     "name": "stdin",
     "output_type": "stream",
     "text": [
      "Enter a string:  hello!! 123\n"
     ]
    },
    {
     "name": "stdout",
     "output_type": "stream",
     "text": [
      "vowels = 2\n",
      "digits = 3\n",
      "others = 6\n"
     ]
    }
   ],
   "source": [
    "# setup\n",
    "digits = 0\n",
    "vowels = 0\n",
    "others = 0\n",
    "\n",
    "s = input('Enter a string: ').strip()    # get input from the user, removing leading/trailing spaces\n",
    "\n",
    "# calculations\n",
    "for one_character in s:\n",
    "    if one_character.isdigit():\n",
    "        digits += 1\n",
    "    elif one_character in 'aeiou':\n",
    "        vowels += 1\n",
    "    else:\n",
    "        others += 1\n",
    "        \n",
    "# report\n",
    "print(f'vowels = {vowels}')\n",
    "print(f'digits = {digits}')\n",
    "print(f'others = {others}')\n"
   ]
  },
  {
   "cell_type": "markdown",
   "id": "255cabc0-1cf9-44cc-857b-c66ede924e4b",
   "metadata": {},
   "source": [
    "# Solution in Python tutor\n",
    "\n",
    "https://pythontutor.com/render.html#code=%23%20setup%0Adigits%20%3D%200%0Avowels%20%3D%200%0Aothers%20%3D%200%0A%0As%20%3D%20input%28'Enter%20a%20string%3A%20'%29.strip%28%29%20%20%20%20%23%20get%20input%20from%20the%20user,%20removing%20leading/trailing%20spaces%0A%0A%23%20calculations%0Afor%20one_character%20in%20s%3A%0A%20%20%20%20if%20one_character.isdigit%28%29%3A%0A%20%20%20%20%20%20%20%20digits%20%2B%3D%201%0A%20%20%20%20elif%20one_character%20in%20'aeiou'%3A%0A%20%20%20%20%20%20%20%20vowels%20%2B%3D%201%0A%20%20%20%20else%3A%0A%20%20%20%20%20%20%20%20others%20%2B%3D%201%0A%20%20%20%20%20%20%20%20%0A%23%20report%0Aprint%28f'vowels%20%3D%20%7Bvowels%7D'%29%0Aprint%28f'digits%20%3D%20%7Bdigits%7D'%29%0Aprint%28f'others%20%3D%20%7Bothers%7D'%29&cumulative=false&curInstr=49&heapPrimitives=nevernest&mode=display&origin=opt-frontend.js&py=3&rawInputLstJSON=%5B%22hello!!%20123%22%5D&textReferences=false"
   ]
  },
  {
   "cell_type": "markdown",
   "id": "24f2188a-6f04-4383-bdbe-dc1c889e3486",
   "metadata": {},
   "source": [
    "# More about looping\n",
    "\n",
    "We've now seen how we can iterate over a string, getting each character, one at a time.\n",
    "\n",
    "What if I want to do something 3 times? Can I loop over an integer?"
   ]
  },
  {
   "cell_type": "code",
   "execution_count": 20,
   "id": "192e74fb-affd-4370-a9eb-a4f48e4af343",
   "metadata": {},
   "outputs": [
    {
     "name": "stdout",
     "output_type": "stream",
     "text": [
      "Hooray!\n",
      "Hooray!\n",
      "Hooray!\n"
     ]
    }
   ],
   "source": [
    "print('Hooray!')\n",
    "print('Hooray!')\n",
    "print('Hooray!')"
   ]
  },
  {
   "cell_type": "code",
   "execution_count": 21,
   "id": "2a1d7e04-54a7-4dbe-9671-3b95fc323654",
   "metadata": {},
   "outputs": [
    {
     "ename": "TypeError",
     "evalue": "'int' object is not iterable",
     "output_type": "error",
     "traceback": [
      "\u001b[0;31m---------------------------------------------------------------------------\u001b[0m",
      "\u001b[0;31mTypeError\u001b[0m                                 Traceback (most recent call last)",
      "Cell \u001b[0;32mIn[21], line 3\u001b[0m\n\u001b[1;32m      1\u001b[0m \u001b[38;5;66;03m# I want to \"DRY up\" this code -- remove the repetition\u001b[39;00m\n\u001b[0;32m----> 3\u001b[0m \u001b[38;5;28;01mfor\u001b[39;00m one_iteration \u001b[38;5;129;01min\u001b[39;00m \u001b[38;5;241m3\u001b[39m:\n\u001b[1;32m      4\u001b[0m     \u001b[38;5;28mprint\u001b[39m(\u001b[38;5;124m'\u001b[39m\u001b[38;5;124mHooray!\u001b[39m\u001b[38;5;124m'\u001b[39m)\n",
      "\u001b[0;31mTypeError\u001b[0m: 'int' object is not iterable"
     ]
    }
   ],
   "source": [
    "# I want to \"DRY up\" this code -- remove the repetition\n",
    "\n",
    "for one_iteration in 3:\n",
    "    print('Hooray!')"
   ]
  },
  {
   "cell_type": "markdown",
   "id": "c8c9aaf3-fbf6-4c18-aca3-31567d36debb",
   "metadata": {},
   "source": [
    "# Integers aren't iterable -- enter `range`\n",
    "\n",
    "Because integers aren't iterable in Python, we can use the `range` function, which lets us iterate a certain number of times. If we invoke `range(3)`, we get back an object that knows how to behave inside of a `for` loop, and which will give us three iterations."
   ]
  },
  {
   "cell_type": "code",
   "execution_count": null,
   "id": "4bc199da-4bd7-44fa-a132-6f1f74b22256",
   "metadata": {},
   "outputs": [],
   "source": [
    "# notice that \n",
    "for one_iteration in range(3):\n",
    "    print('Hooray!')"
   ]
  }
 ],
 "metadata": {
  "kernelspec": {
   "display_name": "Python 3 (ipykernel)",
   "language": "python",
   "name": "python3"
  },
  "language_info": {
   "codemirror_mode": {
    "name": "ipython",
    "version": 3
   },
   "file_extension": ".py",
   "mimetype": "text/x-python",
   "name": "python",
   "nbconvert_exporter": "python",
   "pygments_lexer": "ipython3",
   "version": "3.10.12"
  }
 },
 "nbformat": 4,
 "nbformat_minor": 5
}
