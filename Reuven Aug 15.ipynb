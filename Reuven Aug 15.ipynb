{
 "cells": [
  {
   "cell_type": "markdown",
   "id": "95ccc737-0bea-40cf-9d50-cadea3dfc2c9",
   "metadata": {},
   "source": [
    "# Agenda\n",
    "\n",
    "1. Recap, questions, review exercise\n",
    "2. More loops\n",
    "    - `range` and iterating over numbers\n",
    "    - Ways to get the index, even if Python won't give it to us\n",
    "    - Leaving a loop early with `break`\n",
    "    - `while` loops -- what are they, and when do we use them?\n",
    "3. Lists\n",
    "    - What are they?\n",
    "    - How/when do we use them?\n",
    "    - List methods\n",
    "    - How are lists the same as strings, and how are they different?\n",
    "4. From strings to lists, and back\n",
    "    - `str.split`\n",
    "    - `str.join`\n",
    "5. Tuples\n",
    "    - What the heck are tuples?\n",
    "    - Tuple unpacking"
   ]
  },
  {
   "cell_type": "markdown",
   "id": "3206c294-19bf-4c52-b71a-1418783ea51a",
   "metadata": {},
   "source": [
    "# Yesterday -- recap\n",
    "\n",
    "1. Values and variables\n",
    "    - Each value has a type -- integer, string, float, etc.\n",
    "    - We can assign a value to a variable with `=` (the assignment operator). When we assign, Python finds (\"evaluates\") the stuff on the right, gets a value, and then assigns that value to the variable named on the left.\n",
    "    - Values in Python are \"strongly typed\" -- meaning that they don't automatically get turned into other types. This means that if you try (for example) to add a string and an integer, you'll get an error.\n",
    "    - You can get a value with a new type based on an existing value by invoking the type you want as a function. In other words, you can say `int('5')` to get an integer based on the string `'5'`. And you can call `str(123)` to get back a string `'123'` based on the integer 123. You always call the type that you want to get. The original value isn't changed.\n",
    "2. Conditions and conditionals\n",
    "    - We can compare values with comparison operators, such as `==` and `<`. These return boolean values, aka `True` and `False`.\n",
    "    - We can use `if` to check if an expression is `True` -- if so, then the block following the `if` will execute. This block must be indented, typically with 4 spaces. The block will only run if the `if` condition is `True`.\n",
    "    - If you want something to execute if the `if` condition is `False`, then you can use `elif` with other conditions, or `else` (with no conditions at all), and those blocks will run\n",
    "3. Numbers\n",
    "    - There are two basic numeric types in Python, `int` (whole numbers) and `float` (numbers with a fractional part).\n",
    "    - We can use all of the standard math operators on these, including `+` and `-`. There are some additional operators that are special to Python, such as `**` (exponentiation) and `%` (modulus, aka remainder after division).\n",
    "4. Strings\n",
    "    - Text strings in Python, the type `str`, are for anything that contains text. A string can be of any length, and contain any characters from all of Unicode.\n",
    "    - To get the length of a string, run the `len` function on the string, such as `len(s)`. You will get back an integer.\n",
    "    - To retrieve one element (character) from a string, use `[]` with an index in it, starting with 0 and going up to the length-1. For example, we can say `s[5]`, which will give us the 6th character, because of the 0-based indexing. You can use a variable as the index, instead of a literal integer.\n",
    "    - To retrieve multiple items from a string, use `[]` with a slice -- meaning, two integers separated by a `:`. The first integer is the starting index, and the second integer is one past the final character we'll get back. So if I say `s[10:20]`, this will return a string based on `s`, starting at index 10, up to and not including index 20.\n",
    "5. Methods\n",
    "    - Most of the verbs in Python are in the form of methods, meaning that they're invoked after a dot following the object name.\n",
    "    - We learned about a bunch of string methods:\n",
    "        - `str.strip` -- returns the original string, but without leading/trailing whitespace\n",
    "        - `str.isdigit` -- returns `True` if the strong contains only 0-9, and is non-empty\n",
    "        - `str.lower` -- returns a new string based on the original, but all lowercase\n",
    "6. `for` loops\n",
    "    - If we loop over the contents of a string, we'll get each character in the string, one at a time\n",
    "    - The character is placed inside of the \"loop variable\"\n",
    "    - Each iteration means that the loop body executes once for each value in the loop variable\n",
    "\n"
   ]
  },
  {
   "cell_type": "code",
   "execution_count": null,
   "id": "2574d3a7-e883-4913-9ca1-484e213eb32b",
   "metadata": {},
   "outputs": [],
   "source": []
  }
 ],
 "metadata": {
  "kernelspec": {
   "display_name": "Python 3 (ipykernel)",
   "language": "python",
   "name": "python3"
  },
  "language_info": {
   "codemirror_mode": {
    "name": "ipython",
    "version": 3
   },
   "file_extension": ".py",
   "mimetype": "text/x-python",
   "name": "python",
   "nbconvert_exporter": "python",
   "pygments_lexer": "ipython3",
   "version": "3.10.12"
  }
 },
 "nbformat": 4,
 "nbformat_minor": 5
}
