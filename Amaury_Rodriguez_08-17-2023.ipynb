{
 "cells": [
  {
   "cell_type": "markdown",
   "id": "f3a7592b-d0e5-4b01-8230-a1aa2e023ae9",
   "metadata": {},
   "source": [
    "### Exercise: Count characters\n",
    "The point of this program is to create a dictionary whose keys are characters and whose values indicate how many times each character appeared.\n",
    "We'll give the program the name of a file. Our program will read through the file, one line at a time, adding to the count for each character. So the end result will be a dict counting how often each character appears in the file.\n",
    "1. Define a variable `filename` that contains the name of a text file.\n",
    "2. Define a variable `counts`, an empty dict.\n",
    "3. Open and iterate over that file, one line at a time.\n",
    "4. Inside of that loop, start a new (inner/nested) loop, iterating over each character in the current line.\n",
    "    - If the character is already a key in `counts`, then just add 1 to the count\n",
    "    - If the character is not already a key in `counts`, then add the key and the value 1\n",
    "    - Note that we're counting all characters, including space, newline, etc.\n",
    "5. Iterate over the `counts` dict, printing all keys and values.\n",
    "Stage 1: Iterate over the lines of the file, and print them out.\n",
    "\n"
   ]
  },
  {
   "cell_type": "code",
   "execution_count": null,
   "id": "2de57fcb-37bd-4303-8932-7701a5e713e0",
   "metadata": {},
   "outputs": [],
   "source": [
    "# setup\n",
    "filename = 'wcfile.txt'\n",
    "counts = {}\n",
    "\n",
    "\n",
    "# calculations\n",
    "for lines in open(filename):\n",
    "    lines += 1\n",
    "    if \n",
    "    character_count += len(one_line)\n",
    "    word_count += len(one_line.split())\n",
    "\n",
    "# report\n",
    "print(f'lines = {line_count}')\n",
    "print(f'characters = {character_count}')\n",
    "print(f'words = {word_count}')\n",
    "\n",
    "\n",
    "\n",
    "\n"
   ]
  }
 ],
 "metadata": {
  "kernelspec": {
   "display_name": "Python 3 (ipykernel)",
   "language": "python",
   "name": "python3"
  },
  "language_info": {
   "codemirror_mode": {
    "name": "ipython",
    "version": 3
   },
   "file_extension": ".py",
   "mimetype": "text/x-python",
   "name": "python",
   "nbconvert_exporter": "python",
   "pygments_lexer": "ipython3",
   "version": "3.10.12"
  }
 },
 "nbformat": 4,
 "nbformat_minor": 5
}
