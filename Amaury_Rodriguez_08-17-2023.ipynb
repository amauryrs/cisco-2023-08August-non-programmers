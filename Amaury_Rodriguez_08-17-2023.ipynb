{
 "cells": [
  {
   "cell_type": "markdown",
   "id": "f3a7592b-d0e5-4b01-8230-a1aa2e023ae9",
   "metadata": {},
   "source": [
    "### Exercise: Count characters\n",
    "The point of this program is to create a dictionary whose keys are characters and whose values indicate how many times each character appeared.\n",
    "We'll give the program the name of a file. Our program will read through the file, one line at a time, adding to the count for each character. So the end result will be a dict counting how often each character appears in the file.\n",
    "1. Define a variable `filename` that contains the name of a text file.\n",
    "2. Define a variable `counts`, an empty dict.\n",
    "3. Open and iterate over that file, one line at a time.\n",
    "4. Inside of that loop, start a new (inner/nested) loop, iterating over each character in the current line.\n",
    "    - If the character is already a key in `counts`, then just add 1 to the count\n",
    "    - If the character is not already a key in `counts`, then add the key and the value 1\n",
    "    - Note that we're counting all characters, including space, newline, etc.\n",
    "5. Iterate over the `counts` dict, printing all keys and values.\n",
    "Stage 1: Iterate over the lines of the file, and print them out.\n",
    "\n"
   ]
  },
  {
   "cell_type": "code",
   "execution_count": 11,
   "id": "2de57fcb-37bd-4303-8932-7701a5e713e0",
   "metadata": {},
   "outputs": [
    {
     "name": "stdout",
     "output_type": "stream",
     "text": [
      "T:1\n",
      "h:2\n",
      "i:10\n",
      "s:15\n",
      " :22\n",
      "a:11\n",
      "t:12\n",
      "e:10\n",
      "f:5\n",
      "l:7\n",
      ".:5\n",
      "\n",
      ":11\n",
      "I:4\n",
      "c:5\n",
      "o:9\n",
      "n:10\n",
      "2:2\n",
      "8:1\n",
      "w:3\n",
      "r:7\n",
      "d:4\n",
      "0:1\n",
      "1:3\n",
      "6:1\n",
      "5:1\n",
      "-:1\n",
      "W:1\n",
      "!:1\n"
     ]
    }
   ],
   "source": [
    "# setup\n",
    "filename = 'wcfile.txt'\n",
    "counts = {}\n",
    "character_count = 0\n",
    "\n",
    "#Calculations:\n",
    "\n",
    "for lines in open(filename):\n",
    "    for char in lines:\n",
    "        if char in counts:\n",
    "            counts[char] += 1\n",
    "        else:\n",
    "            counts[char] = 1\n",
    "\n",
    "\n",
    "#Report\n",
    "for key, value in counts.items():\n",
    "    print(f'{key}:{value}')\n",
    "\n"
   ]
  },
  {
   "cell_type": "markdown",
   "id": "24a0307d-7f5b-4658-a9fa-9b83001d8765",
   "metadata": {},
   "source": [
    "### # Exercise: IP counts\n",
    "There's a file called `mini-access-log.txt` in the same directory as Jupyter. It contains about 200 lines of log information from an old Web server. Each line starts with an IP address. We don't care about the rest of the line!\n",
    "1. Create an empty dict.\n",
    "2. Iterate over this file, one line at a time.\n",
    "3. Grab the IP address from the start of each line.\n",
    "4. If we have seen this IP address before, add to its count.\n",
    "5. If we have never seen this IP address before, add it to the dict with a value of 1.\n",
    "6. When we get to the end of the file, we will have a dict whose keys are IP addresses (strings) and whose values are integers (counts), indicating how often each IP address was accessing our server.\n",
    "7. Use a `for` loop to iterate over the dict and print each IP address and count.\"\n",
    "\n"
   ]
  },
  {
   "cell_type": "code",
   "execution_count": 12,
   "id": "50e5a53d-f68c-4801-a63f-edada7d9f3b3",
   "metadata": {},
   "outputs": [
    {
     "name": "stdout",
     "output_type": "stream",
     "text": [
      "67.218.116.165 - - [30/Jan/2010:00:03:18 +0200] \"GET /robots.txt HTTP/1.0\" 200 99 \"-\" \"Mozilla/5.0 (Twiceler-0.9 http://www.cuil.com/twiceler/robot.html)\"\n",
      "66.249.71.65 - - [30/Jan/2010:00:12:06 +0200] \"GET /browse/one_node/1557 HTTP/1.1\" 200 39208 \"-\" \"Mozilla/5.0 (compatible; Googlebot/2.1; +http://www.google.com/bot.html)\"\n",
      "65.55.106.183 - - [30/Jan/2010:01:29:23 +0200] \"GET /robots.txt HTTP/1.1\" 200 99 \"-\" \"msnbot/2.0b (+http://search.msn.com/msnbot.htm)\"\n",
      "65.55.106.183 - - [30/Jan/2010:01:30:06 +0200] \"GET /browse/one_model/2162 HTTP/1.1\" 200 2181 \"-\" \"msnbot/2.0b (+http://search.msn.com/msnbot.htm)\"\n",
      "66.249.71.65 - - [30/Jan/2010:02:07:14 +0200] \"GET /browse/browse_applet_tab/2593 HTTP/1.1\" 200 10305 \"-\" \"Mozilla/5.0 (compatible; Googlebot/2.1; +http://www.google.com/bot.html)\"\n"
     ]
    }
   ],
   "source": [
    "!head -5 mini-access-log.txt"
   ]
  },
  {
   "cell_type": "code",
   "execution_count": 3,
   "id": "cea64637-fa28-4426-96b9-93d05088dd49",
   "metadata": {},
   "outputs": [
    {
     "name": "stdout",
     "output_type": "stream",
     "text": [
      "67.218.116.165:\t2\n",
      "66.249.71.65:\t3\n",
      "65.55.106.183:\t2\n",
      "66.249.65.12:\t32\n",
      "65.55.106.131:\t2\n",
      "65.55.106.186:\t2\n",
      "74.52.245.146:\t2\n",
      "66.249.65.43:\t3\n",
      "65.55.207.25:\t2\n",
      "65.55.207.94:\t2\n",
      "65.55.207.71:\t1\n",
      "98.242.170.241:\t1\n",
      "66.249.65.38:\t100\n",
      "65.55.207.126:\t2\n",
      "82.34.9.20:\t2\n",
      "65.55.106.155:\t2\n",
      "65.55.207.77:\t2\n",
      "208.80.193.28:\t1\n",
      "89.248.172.58:\t22\n",
      "67.195.112.35:\t16\n",
      "65.55.207.50:\t3\n",
      "65.55.215.75:\t2\n"
     ]
    }
   ],
   "source": [
    "filename = 'mini-access-log.txt'\n",
    "counts = {}\n",
    "\n",
    "for lines in open(filename):\n",
    "    ip_address = lines.split()[0]\n",
    "    if ip_address in counts:\n",
    "        counts[ip_address] += 1\n",
    "    else:\n",
    "        counts[ip_address] = 1\n",
    "\n",
    "\n",
    "for key, value in counts.items():\n",
    "    print(f'{key}:\\t{value}')"
   ]
  },
  {
   "cell_type": "code",
   "execution_count": null,
   "id": "3523c019-4c03-4882-ad36-048ca3a5b54f",
   "metadata": {},
   "outputs": [],
   "source": [
    "### You can get a zipfile with our data from: \n",
    "\n",
    "https://files.lerner.co.il/exercise-files.zip\n"
   ]
  },
  {
   "cell_type": "code",
   "execution_count": null,
   "id": "cc21efe9-dc53-43fd-8177-a78ddf323615",
   "metadata": {},
   "outputs": [],
   "source": [
    "### # Exercise: Running a program from the command line\n",
    "1. In PyCharm, create a simple program -- just ask for the user's name and print a greeting.\n",
    "2. Find out where your project is located.\n",
    "3. Open a terminal/CMD window\n",
    "4. Type \"python\" or (on Windows) \"py -3\" followed by the full path + name of the program you wrote.\n",
    "5. Check that the program runs!\n",
    "Your command will probably look like this:\n",
    "    py -3 /Users/reuven/PycharmProjects/cisco-aug-2023/myprog.py\n",
    "or maybe\n",
    "    python /Users/reuven/PycharmProjects/cisco-aug-2023/myprog.py\n"
   ]
  },
  {
   "cell_type": "code",
   "execution_count": null,
   "id": "b3096e89-e2e3-42ef-8145-919212cba58b",
   "metadata": {},
   "outputs": [],
   "source": [
    "## # Exercise: Hello function\n",
    "1. In PyCharm, start a new file (hello.py)\n",
    "2. Define a function called `hello` that, when run, asks the user for their name and prints a nice greeting on the screen using their name.\n",
    "3. In the same file, lower down (after the definition), run the function with `hello()`.\n",
    "4. Now, run the file (inside of PyCharm is OK), and see that it asks for your name and prints it.\n"
   ]
  },
  {
   "cell_type": "code",
   "execution_count": 4,
   "id": "e54c92b1-f4c6-493d-83f9-9ede7958e197",
   "metadata": {},
   "outputs": [
    {
     "name": "stdin",
     "output_type": "stream",
     "text": [
      "Enter you Name:  Mike\n"
     ]
    },
    {
     "name": "stdout",
     "output_type": "stream",
     "text": [
      "Hello, Mike!\n"
     ]
    }
   ],
   "source": [
    "#Setup a funtion\n",
    "\n",
    "def hello():\n",
    "    name = input(\"Enter you Name: \").strip()\n",
    "    print(f'Hello, {name}!')\n",
    "\n",
    "hello()\n"
   ]
  },
  {
   "cell_type": "code",
   "execution_count": null,
   "id": "a0d17bbb-1e01-4fc2-8e50-ee393318c188",
   "metadata": {},
   "outputs": [],
   "source": [
    "#### # Exercise: Calculator\n",
    "1. Write a function, `calc`, that when run asks the user to enter three things:\n",
    "    - first number\n",
    "    - operator (a string, either `+` or `-`\n",
    "    - second number\n",
    "2. Return the value you got from invoking the operator on the numbers.\n",
    "3. Assign the return value from `calc` to the variable `result`, and print it.\n",
    "Example:\n",
    "    result = calc()\n",
    "    Enter first number: 3\n",
    "    Enter operator: +\n",
    "    Enter second number: 10\n",
    "    print(result)\n",
    "    13\n",
    "                "
   ]
  },
  {
   "cell_type": "code",
   "execution_count": null,
   "id": "4ea236b0-ac67-4e12-989b-ce373e08af72",
   "metadata": {},
   "outputs": [],
   "source": [
    "### # Exercise: `calc` with arguments\n",
    "Rewrite `calc` such that it doesn't use `input` to get input from the user. \n",
    "Rather, it gets three arguments -- the first number, the operator, and the second number. It should still return the result it gets.\n",
    "    \n",
    "Example:\n",
    "    value = calc(10, '+', 3)\n",
    "    print(value)  # should be 13"
   ]
  },
  {
   "cell_type": "code",
   "execution_count": null,
   "id": "f6b5be84-1b7c-49b4-b7a5-1dbb3e71979f",
   "metadata": {},
   "outputs": [],
   "source": [
    "### Exersice: Count_vowels_file\n",
    "Define a function whose argument is a filename.\n",
    "The function will return an integer, the number of vowels in that file.\n",
    "This means you'll need to open the file, iterate over every line, then iteratve over every character in the line.\n",
    "Print the value returned by the function.\n"
   ]
  },
  {
   "cell_type": "code",
   "execution_count": null,
   "id": "f116bf9c-12cf-45d9-a7c7-0ea2fe623497",
   "metadata": {},
   "outputs": [],
   "source": []
  }
 ],
 "metadata": {
  "kernelspec": {
   "display_name": "Python 3 (ipykernel)",
   "language": "python",
   "name": "python3"
  },
  "language_info": {
   "codemirror_mode": {
    "name": "ipython",
    "version": 3
   },
   "file_extension": ".py",
   "mimetype": "text/x-python",
   "name": "python",
   "nbconvert_exporter": "python",
   "pygments_lexer": "ipython3",
   "version": "3.10.12"
  }
 },
 "nbformat": 4,
 "nbformat_minor": 5
}
