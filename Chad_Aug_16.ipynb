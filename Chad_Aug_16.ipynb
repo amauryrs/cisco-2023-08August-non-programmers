{
 "cells": [
  {
   "cell_type": "code",
   "execution_count": 18,
   "id": "72e839f1-2637-4c74-be57-2f6ad57b9173",
   "metadata": {},
   "outputs": [
    {
     "name": "stdin",
     "output_type": "stream",
     "text": [
      "enter threshold 5\n",
      "Enter integers with white space between: a 2 4\n"
     ]
    },
    {
     "name": "stdout",
     "output_type": "stream",
     "text": [
      "['2', '4']\n",
      "[]\n"
     ]
    }
   ],
   "source": [
    "higher = []\n",
    "lower = []\n",
    "threshold = 0\n",
    "\n",
    "threshold = input('enter threshold')    \n",
    "x = input('Enter integers with white space between:').strip\n",
    "    \n",
    "for item in x:\n",
    "    if item.isdigit():\n",
    "        if item < threshold:\n",
    "            lower.append(item)\n",
    "        elif item > threshold:\n",
    "            higher.append(item)\n",
    "        else:\n",
    "            print('not integer')\n",
    "            \n",
    "                \n",
    "            \n",
    "\n",
    "print(lower)\n",
    "print(higher)\n",
    "            \n"
   ]
  },
  {
   "cell_type": "code",
   "execution_count": 19,
   "id": "1e23ed77-3213-442d-b65c-969f79748974",
   "metadata": {},
   "outputs": [
    {
     "name": "stdin",
     "output_type": "stream",
     "text": [
      "Enter threshold:  5\n",
      "Enter numbers:  a 2 3\n",
      "Enter numbers:  6 7 8\n",
      "Enter numbers:  \n"
     ]
    },
    {
     "name": "stdout",
     "output_type": "stream",
     "text": [
      "higher = [6, 7, 8]\n",
      "lower = [2, 3]\n"
     ]
    }
   ],
   "source": [
    "# setup\n",
    "higher = []\n",
    "lower = []\n",
    "\n",
    "# calculations\n",
    "s = input('Enter threshold: ').strip()\n",
    "threshold = int(s)   # here, we assume we got a number\n",
    "\n",
    "while True:\n",
    "    s = input('Enter numbers: ').strip()\n",
    "\n",
    "    # if the user gave us an empty string, then break out of this loop\n",
    "    if s == '':\n",
    "        break\n",
    "\n",
    "    # if I'm here, then I know that the string is non-empty\n",
    "    # break it apart into individual words/numbers, and go through each one to see if it's\n",
    "    # higher or lower\n",
    "    for one_word in s.split():\n",
    "\n",
    "        if one_word.isdigit():\n",
    "            n = int(one_word)    # get an int from one_word, and assign to n\n",
    "            if n < threshold:\n",
    "                lower.append(n)                \n",
    "            else:\n",
    "                higher.append(n)\n",
    "\n",
    "# report\n",
    "print(f'higher = {higher}')\n",
    "print(f'lower = {lower}')"
   ]
  },
  {
   "cell_type": "code",
   "execution_count": 32,
   "id": "b8b54549-495b-48f1-9ba5-1d043ab158ee",
   "metadata": {},
   "outputs": [
    {
     "name": "stdin",
     "output_type": "stream",
     "text": [
      "Please Order fish, chicken or buger chicken\n"
     ]
    },
    {
     "name": "stdout",
     "output_type": "stream",
     "text": [
      "You ordered chicken, total:  3\n"
     ]
    },
    {
     "name": "stdin",
     "output_type": "stream",
     "text": [
      "Please Order fish, chicken or buger burger\n"
     ]
    },
    {
     "name": "stdout",
     "output_type": "stream",
     "text": [
      "burger is not on the menu\n"
     ]
    },
    {
     "name": "stdin",
     "output_type": "stream",
     "text": [
      "Please Order fish, chicken or buger dog\n"
     ]
    },
    {
     "name": "stdout",
     "output_type": "stream",
     "text": [
      "dog is not on the menu\n"
     ]
    },
    {
     "name": "stdin",
     "output_type": "stream",
     "text": [
      "Please Order fish, chicken or buger fish\n"
     ]
    },
    {
     "name": "stdout",
     "output_type": "stream",
     "text": [
      "You ordered fish, total:  13\n"
     ]
    },
    {
     "name": "stdin",
     "output_type": "stream",
     "text": [
      "Please Order fish, chicken or buger fish\n"
     ]
    },
    {
     "name": "stdout",
     "output_type": "stream",
     "text": [
      "You ordered fish, total:  23\n"
     ]
    },
    {
     "name": "stdin",
     "output_type": "stream",
     "text": [
      "Please Order fish, chicken or buger \n"
     ]
    },
    {
     "name": "stdout",
     "output_type": "stream",
     "text": [
      "the total is 23\n"
     ]
    }
   ],
   "source": [
    "menu = {'fish':10, 'burger':5, 'chicken':3}\n",
    "total = 0\n",
    "\n",
    "while True:\n",
    "    x = input('Please Order fish, chicken or buger').strip()\n",
    "    if x == '': \n",
    "        break\n",
    "    elif x == 'fish':\n",
    "        total += menu['fish']\n",
    "        print(f'You ordered fish, total:  {total}')\n",
    "    elif x == 'chicken':\n",
    "        total += menu['chicken']\n",
    "        print(f'You ordered chicken, total:  {total}')\n",
    "    elif x == 'fish':\n",
    "        total += menu['burger']\n",
    "        print(f'You ordered burger. total:  {total}')\n",
    "    else:\n",
    "        print(f'{x} is not on the menu')\n",
    "\n",
    "\n",
    "print(f'the total is {total}')\n",
    "\n",
    "\n",
    "    \n",
    "        "
   ]
  },
  {
   "cell_type": "code",
   "execution_count": 33,
   "id": "7ab4eeb6-ad0c-450e-86f3-72c6d0da75f8",
   "metadata": {},
   "outputs": [
    {
     "name": "stdin",
     "output_type": "stream",
     "text": [
      "Order:  \n"
     ]
    },
    {
     "name": "stdout",
     "output_type": "stream",
     "text": [
      "Total is 0\n"
     ]
    }
   ],
   "source": [
    "# setup\n",
    "menu = {'sandwich':10, 'tea':5, 'apple':2, 'cake':7}\n",
    "total = 0\n",
    "\n",
    "# calculations\n",
    "while True:\n",
    "    order = input('Order: ').strip()\n",
    "\n",
    "    if order == '':\n",
    "        break\n",
    "\n",
    "    # take whatever the user entered\n",
    "    # does it appear as a key in the \"menu\" dict?\n",
    "    if order in menu:\n",
    "        price = menu[order]    # retrieve the price from the menu, and assign to price\n",
    "        total += price\n",
    "        print(f'Price is {price}; total is {total}')\n",
    "\n",
    "# report\n",
    "print(f'Total is {total}')\n"
   ]
  },
  {
   "cell_type": "code",
   "execution_count": 52,
   "id": "17f1924c-b075-441b-9ae9-4a987ebec708",
   "metadata": {},
   "outputs": [
    {
     "name": "stdin",
     "output_type": "stream",
     "text": [
      "Enter a string Aaw2@\n"
     ]
    },
    {
     "name": "stdout",
     "output_type": "stream",
     "text": [
      "{'digits': 1, 'vowels': 2, 'others': 2}\n"
     ]
    }
   ],
   "source": [
    "#setup\n",
    "counts = {'digits':0, 'vowels':0, 'others':0}\n",
    "\n",
    "\n",
    "\n",
    "# Calculations\n",
    "\n",
    "x = input('Enter a string')\n",
    "for item in x:\n",
    "    if item.isdigit():\n",
    "        counts['digits'] += 1\n",
    "    elif item in 'aeiou':\n",
    "        counts['vowels'] += 1\n",
    "    elif item in 'AEIOU':\n",
    "        counts['vowels'] += 1\n",
    "    else:\n",
    "        counts['others'] += 1\n",
    "\n",
    "\n",
    "\n",
    "#report\n",
    "\n",
    "\n",
    "print(counts)"
   ]
  },
  {
   "cell_type": "code",
   "execution_count": 54,
   "id": "b5b7e8e0-ca1a-476c-8f52-f3c3e7a9ea0d",
   "metadata": {},
   "outputs": [
    {
     "name": "stdout",
     "output_type": "stream",
     "text": [
      "{'a': 100}\n",
      "a\n",
      "100\n"
     ]
    }
   ],
   "source": [
    "d = {'a':100}\n",
    "key = 'a'\n",
    "d[key]\n",
    "print(d)\n",
    "print(key)\n",
    "print(d[key])"
   ]
  },
  {
   "cell_type": "code",
   "execution_count": 55,
   "id": "805fc2dd-5628-47c3-a2ce-eb4ee29713ea",
   "metadata": {},
   "outputs": [
    {
     "name": "stdout",
     "output_type": "stream",
     "text": [
      "a: 100\n",
      "b: 200\n",
      "c: 300\n"
     ]
    }
   ],
   "source": [
    "d = {'a':100, 'b':200, 'c':300}\n",
    "for key, value in d.items():\n",
    "    print(f'{key}: {value}')\n"
   ]
  },
  {
   "cell_type": "code",
   "execution_count": 70,
   "id": "62c787df-5fda-447d-8045-fc8dced45107",
   "metadata": {},
   "outputs": [
    {
     "name": "stdin",
     "output_type": "stream",
     "text": [
      "City:  napa\n",
      "Enter mm rain 3\n",
      "City:  \n"
     ]
    },
    {
     "name": "stdout",
     "output_type": "stream",
     "text": [
      "{'napa': 3}\n"
     ]
    }
   ],
   "source": [
    "#setup\n",
    "rainfall = {}\n",
    "\n",
    "\n",
    "# Calculations\n",
    "while True:\n",
    "    city_name = input('City: ').strip()\n",
    "\n",
    "    if city_name == '':\n",
    "        break\n",
    "\n",
    "    mm_rain = input('Enter mm rain').strip()\n",
    "    mm_rain = int(mm_rain)\n",
    "    \n",
    "    if city_name in rainfall:   # does this key exist?\n",
    "        rainfall[city_name] += mm_rain\n",
    "    else:  # if the key doesn't yet exist..\n",
    "        rainfall[city_name] = mm_rain\n",
    "#report\n",
    "for key, value in rainfall.items():\n",
    "    print(f'{key}: {value}')"
   ]
  },
  {
   "cell_type": "code",
   "execution_count": 12,
   "id": "68c0d960-dbdb-4766-8bb0-25f465889da0",
   "metadata": {},
   "outputs": [
    {
     "name": "stdin",
     "output_type": "stream",
     "text": [
      "Enter Intergers with spaces between 1 2 4 5 \n"
     ]
    },
    {
     "ename": "AttributeError",
     "evalue": "'int' object has no attribute 'append'",
     "output_type": "error",
     "traceback": [
      "\u001b[0;31m---------------------------------------------------------------------------\u001b[0m",
      "\u001b[0;31mAttributeError\u001b[0m                            Traceback (most recent call last)",
      "Cell \u001b[0;32mIn[12], line 16\u001b[0m\n\u001b[1;32m     13\u001b[0m x \u001b[38;5;241m=\u001b[39m \u001b[38;5;28mint\u001b[39m(item)\n\u001b[1;32m     14\u001b[0m \u001b[38;5;28;01mif\u001b[39;00m x \u001b[38;5;241m%\u001b[39m \u001b[38;5;241m2\u001b[39m \u001b[38;5;241m==\u001b[39m \u001b[38;5;241m1\u001b[39m:\n\u001b[0;32m---> 16\u001b[0m     \u001b[43mnumlist\u001b[49m\u001b[43m[\u001b[49m\u001b[38;5;124;43m'\u001b[39;49m\u001b[38;5;124;43modd\u001b[39;49m\u001b[38;5;124;43m'\u001b[39;49m\u001b[43m]\u001b[49m\u001b[38;5;241;43m.\u001b[39;49m\u001b[43mappend\u001b[49m(item)\n\u001b[1;32m     17\u001b[0m \u001b[38;5;28;01melse\u001b[39;00m:\n\u001b[1;32m     18\u001b[0m     numlist[\u001b[38;5;124m'\u001b[39m\u001b[38;5;124meven\u001b[39m\u001b[38;5;124m'\u001b[39m]\u001b[38;5;241m.\u001b[39mappend(item)\n",
      "\u001b[0;31mAttributeError\u001b[0m: 'int' object has no attribute 'append'"
     ]
    }
   ],
   "source": [
    "#setup\n",
    "\n",
    "numlist = {'odd':0, 'even':0}\n",
    "\n",
    "\n",
    "#Calulations\n",
    "\n",
    "x = input('Enter Intergers with spaces between')\n",
    "#print({x})\n",
    "xlist = x.split()\n",
    "#xlist\n",
    "for item in xlist:\n",
    "    x = int(item)\n",
    "    if x % 2 == 1:\n",
    "        \n",
    "        numlist['odd'].append(item)\n",
    "    else:\n",
    "        numlist['even'].append(item)\n",
    "\n",
    "#report\n",
    "for key, value in numlist.items():\n",
    "    print(f'{key}: {value}')\n",
    "    "
   ]
  },
  {
   "cell_type": "code",
   "execution_count": 20,
   "id": "45bdab6f-5c68-40e7-bb44-321f7ac7bc9e",
   "metadata": {},
   "outputs": [
    {
     "name": "stdin",
     "output_type": "stream",
     "text": [
      "Enter numbers, separated by spaces:  10 20 4-\n"
     ]
    },
    {
     "name": "stdout",
     "output_type": "stream",
     "text": [
      "odds: []\n",
      "evens: [6]\n"
     ]
    }
   ],
   "source": [
    "# setup\n",
    "counts = {'odds': [],\n",
    "          'evens': []}\n",
    "\n",
    "# calculations\n",
    "s = input('Enter numbers, separated by spaces: ').strip()\n",
    "\n",
    "# s contains multiple numbers, separated by spaces\n",
    "# e.g., s could be '123 456 789'\n",
    "\n",
    "# we want to get them, one at a time, into the variable one_word\n",
    "\n",
    "\n",
    "\n",
    "if one_item.isdigit():\n",
    "    n = int(one_item)   # here's our int based on that string\n",
    "    \n",
    "    if n % 2 == 0:    # if n%2 is 0, then the number is even\n",
    "        counts['evens'].append(n)\n",
    "    else:   # not even? It must be odd!\n",
    "        counts['odds'].append(n)    \n",
    "else:\n",
    "    print(f'{one_item} is not a number!')\n",
    "\n",
    "# report\n",
    "for key, value in counts.items():\n",
    "    print(f'{key}: {value}')"
   ]
  },
  {
   "cell_type": "code",
   "execution_count": 26,
   "id": "3d8a6f4a-46df-42d5-bda9-62450ee17e6c",
   "metadata": {},
   "outputs": [
    {
     "ename": "SyntaxError",
     "evalue": "unterminated string literal (detected at line 1) (2009233046.py, line 1)",
     "output_type": "error",
     "traceback": [
      "\u001b[0;36m  Cell \u001b[0;32mIn[26], line 1\u001b[0;36m\u001b[0m\n\u001b[0;31m    for one_line in open(:num.txt\"):\u001b[0m\n\u001b[0m                                 ^\u001b[0m\n\u001b[0;31mSyntaxError\u001b[0m\u001b[0;31m:\u001b[0m unterminated string literal (detected at line 1)\n"
     ]
    }
   ],
   "source": [
    "for one_line in open(:num.txt\"):\n",
    "    print(one_line)\n"
   ]
  },
  {
   "cell_type": "code",
   "execution_count": 27,
   "id": "0e73ded2-d488-4258-8b62-49cccced26ed",
   "metadata": {},
   "outputs": [
    {
     "name": "stdout",
     "output_type": "stream",
     "text": [
      "5\n",
      "\t10     \n",
      "\t20\n",
      "  \t3\n",
      "\t\t   \t20        \n",
      "\n",
      " 25\n"
     ]
    }
   ],
   "source": [
    "!cat nums.txt"
   ]
  },
  {
   "cell_type": "code",
   "execution_count": 28,
   "id": "25d73e9d-51c5-4996-9554-f47973c25d0d",
   "metadata": {},
   "outputs": [
    {
     "ename": "NameError",
     "evalue": "name 'nums' is not defined",
     "output_type": "error",
     "traceback": [
      "\u001b[0;31m---------------------------------------------------------------------------\u001b[0m",
      "\u001b[0;31mNameError\u001b[0m                                 Traceback (most recent call last)",
      "Cell \u001b[0;32mIn[28], line 1\u001b[0m\n\u001b[0;32m----> 1\u001b[0m \u001b[38;5;28mopen\u001b[39m(\u001b[43mnums\u001b[49m\u001b[38;5;241m.\u001b[39mtxt)\n",
      "\u001b[0;31mNameError\u001b[0m: name 'nums' is not defined"
     ]
    }
   ],
   "source": [
    "open(nums.txt)"
   ]
  },
  {
   "cell_type": "code",
   "execution_count": 29,
   "id": "df17ebc1-5fe5-4c0a-9290-9679a1c57ab6",
   "metadata": {},
   "outputs": [
    {
     "ename": "NameError",
     "evalue": "name 'nums' is not defined",
     "output_type": "error",
     "traceback": [
      "\u001b[0;31m---------------------------------------------------------------------------\u001b[0m",
      "\u001b[0;31mNameError\u001b[0m                                 Traceback (most recent call last)",
      "Cell \u001b[0;32mIn[29], line 1\u001b[0m\n\u001b[0;32m----> 1\u001b[0m f \u001b[38;5;241m=\u001b[39m \u001b[38;5;28mopen\u001b[39m(\u001b[43mnums\u001b[49m\u001b[38;5;241m.\u001b[39mtxt)\n",
      "\u001b[0;31mNameError\u001b[0m: name 'nums' is not defined"
     ]
    }
   ],
   "source": [
    "f = open(nums.txt)"
   ]
  },
  {
   "cell_type": "code",
   "execution_count": 30,
   "id": "c6a05401-ae76-4d58-af9e-20b27a0f058b",
   "metadata": {},
   "outputs": [
    {
     "data": {
      "text/plain": [
       "<_io.TextIOWrapper name='nums.txt' mode='r' encoding='UTF-8'>"
      ]
     },
     "execution_count": 30,
     "metadata": {},
     "output_type": "execute_result"
    }
   ],
   "source": [
    "open('nums.txt')"
   ]
  },
  {
   "cell_type": "code",
   "execution_count": 45,
   "id": "a0e629e3-e88c-4a85-9fc0-665d6b69af06",
   "metadata": {},
   "outputs": [
    {
     "name": "stdout",
     "output_type": "stream",
     "text": [
      "0\n",
      "['25']\n"
     ]
    }
   ],
   "source": [
    "sum = int(0)\n",
    "for one_line in open('nums.txt'):\n",
    "    x = one_line.split()\n",
    "    if one_line.isdigit():\n",
    "        sum += int(x)\n",
    "        print(x)\n",
    "\n",
    "print(sum)\n",
    "print(x)"
   ]
  },
  {
   "cell_type": "code",
   "execution_count": 48,
   "id": "7d7fdb05-eacd-4a55-b225-f7568db7b9de",
   "metadata": {},
   "outputs": [
    {
     "name": "stdout",
     "output_type": "stream",
     "text": [
      "83\n"
     ]
    }
   ],
   "source": [
    "total = 0\n",
    "\n",
    "for one_line in open('nums.txt'):\n",
    "    stripped_line = one_line.strip()     # remove whitespace\n",
    "\n",
    "    if stripped_line == '':              # is anything left after removing whitespace?\n",
    "        continue\n",
    "\n",
    "    if stripped_line.isdigit():\n",
    "        total += int(stripped_line)      # the only things left are integers... convert and add\n",
    "\n",
    "print(total)"
   ]
  },
  {
   "cell_type": "code",
   "execution_count": 54,
   "id": "f768d019-495d-41e1-a133-6d89a82818d0",
   "metadata": {},
   "outputs": [
    {
     "name": "stdout",
     "output_type": "stream",
     "text": [
      "5\n",
      "10\n",
      "20\n",
      "3\n",
      "20\n",
      "25\n"
     ]
    },
    {
     "data": {
      "text/plain": [
       "83"
      ]
     },
     "execution_count": 54,
     "metadata": {},
     "output_type": "execute_result"
    }
   ],
   "source": [
    "total = 0\n",
    "\n",
    "for one_line in open('nums.txt'):\n",
    "    stripped_line = one_line.strip()     # remove whitespace\n",
    "    if stripped_line == '':\n",
    "        continue\n",
    "    if stripped_line.isdigit():\n",
    "        total += int(stripped_line)\n",
    "    print(stripped_line)\n",
    "    \n",
    "#    if stripped_line == '':              # is anything left after removing whitespace?\n",
    "#        continue\n",
    "\n",
    "#    if stripped_line.isdigit():\n",
    "#        total += int(stripped_line)      # the only things left are integers... convert and add\n",
    "\n",
    "total"
   ]
  },
  {
   "cell_type": "code",
   "execution_count": 55,
   "id": "7a76f338-0408-4664-a162-686d6ddb6d9f",
   "metadata": {},
   "outputs": [
    {
     "name": "stdout",
     "output_type": "stream",
     "text": [
      "This is a test file.\n",
      "\n",
      "It contains 28 words and 20 different words.\n",
      "\n",
      "It also contains 165 characters.\n",
      "\n",
      "It also contains 11 lines.\n",
      "\n",
      "It is also self-referential.\n",
      "\n",
      "Wow!\n"
     ]
    }
   ],
   "source": [
    "!cat wcfile.txt"
   ]
  },
  {
   "cell_type": "code",
   "execution_count": 68,
   "id": "69a220ae-a39d-409a-aefc-64d9ea4d5dab",
   "metadata": {},
   "outputs": [
    {
     "name": "stdout",
     "output_type": "stream",
     "text": [
      "11\n",
      "165\n"
     ]
    }
   ],
   "source": [
    "lines = 0\n",
    "letter_count = 0\n",
    "for one_line in open('wcfile.txt'):\n",
    "    lines += 1\n",
    "    for letter in one_line:\n",
    "        if letter != \"\":\n",
    "            letter_count += 1\n",
    "print(lines)\n",
    "print(letter_count)    "
   ]
  },
  {
   "cell_type": "code",
   "execution_count": 88,
   "id": "a1891b80-f030-4421-b0dc-51084b56e85b",
   "metadata": {},
   "outputs": [
    {
     "name": "stdout",
     "output_type": "stream",
     "text": [
      "This\n",
      "is\n",
      "a\n",
      "test\n",
      "file.\n",
      "It\n",
      "contains\n",
      "28\n",
      "words\n",
      "and\n",
      "20\n",
      "different\n",
      "words.\n",
      "It\n",
      "also\n",
      "contains\n",
      "165\n",
      "characters.\n",
      "It\n",
      "also\n",
      "contains\n",
      "11\n",
      "lines.\n",
      "It\n",
      "is\n",
      "also\n",
      "self-referential.\n",
      "Wow!\n",
      "lines = 11\n",
      "characters = 165\n",
      "words = 28\n"
     ]
    }
   ],
   "source": [
    "filename = 'wcfile.txt'\n",
    "line_count = 0\n",
    "character_count = 0\n",
    "word_count = 0\n",
    "\n",
    "for one_line in open(filename):\n",
    "    line_count += 1\n",
    "    character_count += len(one_line)\n",
    "    for word in one_line.split():\n",
    "        word_count += 1  \n",
    "        print(word)\n",
    "\n",
    "\n",
    "print(f'lines = {line_count}')\n",
    "print(f'characters = {character_count}')\n",
    "print(f'words = {word_count}')"
   ]
  },
  {
   "cell_type": "code",
   "execution_count": 89,
   "id": "c07449b5-6220-4734-9374-a89c4cf6726a",
   "metadata": {},
   "outputs": [
    {
     "ename": "SyntaxError",
     "evalue": "incomplete input (15244367.py, line 2)",
     "output_type": "error",
     "traceback": [
      "\u001b[0;36m  Cell \u001b[0;32mIn[89], line 2\u001b[0;36m\u001b[0m\n\u001b[0;31m    \u001b[0m\n\u001b[0m    ^\u001b[0m\n\u001b[0;31mSyntaxError\u001b[0m\u001b[0;31m:\u001b[0m incomplete input\n"
     ]
    }
   ],
   "source": [
    "with open('nums.txt', 'w') as f:\n",
    "    "
   ]
  },
  {
   "cell_type": "code",
   "execution_count": 5,
   "id": "764c365e-4caa-453e-99ec-7f60fd26522e",
   "metadata": {},
   "outputs": [
    {
     "name": "stdout",
     "output_type": "stream",
     "text": [
      "This is a test file.\n",
      "\n",
      "\n",
      "\n",
      "It contains 28 words and 20 different words.\n",
      "\n",
      "\n",
      "\n",
      "It also contains 165 characters.\n",
      "\n",
      "\n",
      "\n",
      "It also contains 11 lines.\n",
      "\n",
      "\n",
      "\n",
      "It is also self-referential.\n",
      "\n",
      "\n",
      "\n",
      "Wow!\n",
      "\n"
     ]
    }
   ],
   "source": [
    "counts = {}\n",
    "filename = 'wcfile.txt'\n",
    "\n",
    "for one_line in open(filename):\n",
    "    print(one_line)\n",
    " for one_line in open(filename):   "
   ]
  },
  {
   "cell_type": "code",
   "execution_count": 8,
   "id": "5e1d4306-e137-4fd6-8636-08f13223fd03",
   "metadata": {},
   "outputs": [
    {
     "ename": "TypeError",
     "evalue": "'str' object is not callable",
     "output_type": "error",
     "traceback": [
      "\u001b[0;31m---------------------------------------------------------------------------\u001b[0m",
      "\u001b[0;31mTypeError\u001b[0m                                 Traceback (most recent call last)",
      "Cell \u001b[0;32mIn[8], line 5\u001b[0m\n\u001b[1;32m      3\u001b[0m \u001b[38;5;28;01mfor\u001b[39;00m one_line \u001b[38;5;129;01min\u001b[39;00m \u001b[38;5;28mopen\u001b[39m(filename):   \u001b[38;5;66;03m# open the file + iterate over it in a for loop\u001b[39;00m\n\u001b[1;32m      4\u001b[0m     \u001b[38;5;28;01mfor\u001b[39;00m word \u001b[38;5;129;01min\u001b[39;00m one_line\u001b[38;5;241m.\u001b[39msplit():\n\u001b[0;32m----> 5\u001b[0m         \u001b[38;5;28;01mfor\u001b[39;00m char \u001b[38;5;129;01min\u001b[39;00m \u001b[43mword\u001b[49m\u001b[43m(\u001b[49m\u001b[43m)\u001b[49m\u001b[38;5;241m.\u001b[39msplit:\n\u001b[1;32m      6\u001b[0m             \u001b[38;5;28mprint\u001b[39m(char)\n",
      "\u001b[0;31mTypeError\u001b[0m: 'str' object is not callable"
     ]
    }
   ],
   "source": [
    "filename = 'wcfile.txt'    # in the same directory as Jupyter\n",
    "\n",
    "for one_line in open(filename):   # open the file + iterate over it in a for loop\n",
    "    for word in one_line.split():\n",
    "        for char in word().split:\n",
    "            print(char)"
   ]
  },
  {
   "cell_type": "code",
   "execution_count": 10,
   "id": "531aa8c5-21ae-4d02-a91a-63edc6d7afba",
   "metadata": {},
   "outputs": [
    {
     "name": "stdout",
     "output_type": "stream",
     "text": [
      "words = 0\n"
     ]
    }
   ],
   "source": []
  },
  {
   "cell_type": "code",
   "execution_count": 18,
   "id": "675537e0-be39-4cab-b149-18593468f120",
   "metadata": {},
   "outputs": [
    {
     "name": "stdout",
     "output_type": "stream",
     "text": [
      "T\n",
      "h\n",
      "i\n",
      "s\n",
      " \n",
      "i\n",
      "s\n",
      " \n",
      "a\n",
      " \n",
      "t\n",
      "e\n",
      "s\n",
      "t\n",
      " \n",
      "f\n",
      "i\n",
      "l\n",
      "e\n",
      ".\n",
      "\n",
      "\n",
      "\n",
      "\n",
      "I\n",
      "t\n",
      " \n",
      "c\n",
      "o\n",
      "n\n",
      "t\n",
      "a\n",
      "i\n",
      "n\n",
      "s\n",
      " \n",
      "2\n",
      "8\n",
      " \n",
      "w\n",
      "o\n",
      "r\n",
      "d\n",
      "s\n",
      " \n",
      "a\n",
      "n\n",
      "d\n",
      " \n",
      "2\n",
      "0\n",
      " \n",
      "d\n",
      "i\n",
      "f\n",
      "f\n",
      "e\n",
      "r\n",
      "e\n",
      "n\n",
      "t\n",
      " \n",
      "w\n",
      "o\n",
      "r\n",
      "d\n",
      "s\n",
      ".\n",
      "\n",
      "\n",
      "\n",
      "\n",
      "I\n",
      "t\n",
      " \n",
      "a\n",
      "l\n",
      "s\n",
      "o\n",
      " \n",
      "c\n",
      "o\n",
      "n\n",
      "t\n",
      "a\n",
      "i\n",
      "n\n",
      "s\n",
      " \n",
      "1\n",
      "6\n",
      "5\n",
      " \n",
      "c\n",
      "h\n",
      "a\n",
      "r\n",
      "a\n",
      "c\n",
      "t\n",
      "e\n",
      "r\n",
      "s\n",
      ".\n",
      "\n",
      "\n",
      "\n",
      "\n",
      "I\n",
      "t\n",
      " \n",
      "a\n",
      "l\n",
      "s\n",
      "o\n",
      " \n",
      "c\n",
      "o\n",
      "n\n",
      "t\n",
      "a\n",
      "i\n",
      "n\n",
      "s\n",
      " \n",
      "1\n",
      "1\n",
      " \n",
      "l\n",
      "i\n",
      "n\n",
      "e\n",
      "s\n",
      ".\n",
      "\n",
      "\n",
      "\n",
      "\n",
      "I\n",
      "t\n",
      " \n",
      "i\n",
      "s\n",
      " \n",
      "a\n",
      "l\n",
      "s\n",
      "o\n",
      " \n",
      "s\n",
      "e\n",
      "l\n",
      "f\n",
      "-\n",
      "r\n",
      "e\n",
      "f\n",
      "e\n",
      "r\n",
      "e\n",
      "n\n",
      "t\n",
      "i\n",
      "a\n",
      "l\n",
      ".\n",
      "\n",
      "\n",
      "\n",
      "\n",
      "W\n",
      "o\n",
      "w\n",
      "!\n",
      "\n",
      "\n",
      "charcharacter_count = 0\n"
     ]
    }
   ],
   "source": [
    "filename = 'wcfile.txt'\n",
    "\n",
    "character_count = 0\n",
    "\n",
    "\n",
    "for one_line in open(filename):\n",
    "    for word in one_line:\n",
    "        for char in word:\n",
    "            print(char)\n",
    " \n",
    "        \n",
    "\n",
    "\n",
    "\n",
    "print(f'charcharacter_count = {character_count}')"
   ]
  },
  {
   "cell_type": "code",
   "execution_count": null,
   "id": "0316d365-7b1d-449f-a5bc-15e4831dbf40",
   "metadata": {},
   "outputs": [],
   "source": []
  }
 ],
 "metadata": {
  "kernelspec": {
   "display_name": "Python 3 (ipykernel)",
   "language": "python",
   "name": "python3"
  },
  "language_info": {
   "codemirror_mode": {
    "name": "ipython",
    "version": 3
   },
   "file_extension": ".py",
   "mimetype": "text/x-python",
   "name": "python",
   "nbconvert_exporter": "python",
   "pygments_lexer": "ipython3",
   "version": "3.10.12"
  }
 },
 "nbformat": 4,
 "nbformat_minor": 5
}
