{
 "cells": [
  {
   "cell_type": "code",
   "execution_count": null,
   "id": "72e839f1-2637-4c74-be57-2f6ad57b9173",
   "metadata": {},
   "outputs": [],
   "source": [
    "higher = []\n",
    "lower = []\n",
    "threshold = 0\n",
    "\n",
    "threshold = input('enter threshold')\n",
    "x = input('Enter integers with white space between:')\n",
    "\n",
    "for item in x:\n",
    "    if item isdigit():\n",
    "        if item < threshold:\n",
    "            item.append[]\n"
   ]
  }
 ],
 "metadata": {
  "kernelspec": {
   "display_name": "Python 3 (ipykernel)",
   "language": "python",
   "name": "python3"
  },
  "language_info": {
   "codemirror_mode": {
    "name": "ipython",
    "version": 3
   },
   "file_extension": ".py",
   "mimetype": "text/x-python",
   "name": "python",
   "nbconvert_exporter": "python",
   "pygments_lexer": "ipython3",
   "version": "3.10.12"
  }
 },
 "nbformat": 4,
 "nbformat_minor": 5
}
