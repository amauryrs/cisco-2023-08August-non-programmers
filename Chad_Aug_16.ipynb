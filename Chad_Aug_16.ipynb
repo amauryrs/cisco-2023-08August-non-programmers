{
 "cells": [
  {
   "cell_type": "code",
   "execution_count": 15,
   "id": "72e839f1-2637-4c74-be57-2f6ad57b9173",
   "metadata": {},
   "outputs": [
    {
     "ename": "IndentationError",
     "evalue": "unexpected indent (3175691866.py, line 8)",
     "output_type": "error",
     "traceback": [
      "\u001b[0;36m  Cell \u001b[0;32mIn[15], line 8\u001b[0;36m\u001b[0m\n\u001b[0;31m    for item in x:\u001b[0m\n\u001b[0m    ^\u001b[0m\n\u001b[0;31mIndentationError\u001b[0m\u001b[0;31m:\u001b[0m unexpected indent\n"
     ]
    }
   ],
   "source": [
    "higher = []\n",
    "lower = []\n",
    "threshold = 0\n",
    "\n",
    "threshold = input('enter threshold')    \n",
    "x = input('Enter integers with white space between:')\n",
    "    \n",
    "for item in x:\n",
    "    if item.isdigit():\n",
    "        if item < threshold:\n",
    "            lower.append(item)\n",
    "        else:\n",
    "            higher.append(item)\n",
    "        else:\n",
    "            print('not integer')\n",
    "            \n",
    "                \n",
    "            \n",
    "\n",
    "print(lower)\n",
    "print(higher)\n",
    "            \n"
   ]
  },
  {
   "cell_type": "code",
   "execution_count": null,
   "id": "1e23ed77-3213-442d-b65c-969f79748974",
   "metadata": {},
   "outputs": [],
   "source": []
  }
 ],
 "metadata": {
  "kernelspec": {
   "display_name": "Python 3 (ipykernel)",
   "language": "python",
   "name": "python3"
  },
  "language_info": {
   "codemirror_mode": {
    "name": "ipython",
    "version": 3
   },
   "file_extension": ".py",
   "mimetype": "text/x-python",
   "name": "python",
   "nbconvert_exporter": "python",
   "pygments_lexer": "ipython3",
   "version": "3.10.12"
  }
 },
 "nbformat": 4,
 "nbformat_minor": 5
}
