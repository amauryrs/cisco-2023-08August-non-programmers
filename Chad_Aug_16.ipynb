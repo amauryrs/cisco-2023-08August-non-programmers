{
 "cells": [
  {
   "cell_type": "code",
   "execution_count": null,
   "id": "72e839f1-2637-4c74-be57-2f6ad57b9173",
   "metadata": {},
   "outputs": [
    {
     "name": "stdin",
     "output_type": "stream",
     "text": [
      "enter threshold 5\n",
      "Enter integers with white space between: a\n"
     ]
    },
    {
     "name": "stdout",
     "output_type": "stream",
     "text": [
      "not a number\n"
     ]
    },
    {
     "name": "stdin",
     "output_type": "stream",
     "text": [
      "Enter integers with white space between: 1 2 3 6 7 8\n"
     ]
    },
    {
     "name": "stdout",
     "output_type": "stream",
     "text": [
      "not a number\n",
      "not a number\n",
      "not a number\n",
      "not a number\n",
      "not a number\n"
     ]
    }
   ],
   "source": [
    "higher = []\n",
    "lower = []\n",
    "threshold = 0\n",
    "\n",
    "threshold = input('enter threshold')\n",
    "\n",
    "while True:\n",
    "    \n",
    "    x = input('Enter integers with white space between:')\n",
    "    \n",
    "    for item in x:\n",
    "        if item.isdigit():\n",
    "            if item < threshold:\n",
    "                lower.append(item)\n",
    "            else:\n",
    "                higher.append(item)\n",
    "\n",
    "        elif item == '':\n",
    "            break\n",
    "        else:\n",
    "            print('not a number')\n",
    "            \n",
    "\n",
    "print(lower)\n",
    "print(higher)\n",
    "            \n"
   ]
  },
  {
   "cell_type": "code",
   "execution_count": null,
   "id": "1e23ed77-3213-442d-b65c-969f79748974",
   "metadata": {},
   "outputs": [],
   "source": []
  }
 ],
 "metadata": {
  "kernelspec": {
   "display_name": "Python 3 (ipykernel)",
   "language": "python",
   "name": "python3"
  },
  "language_info": {
   "codemirror_mode": {
    "name": "ipython",
    "version": 3
   },
   "file_extension": ".py",
   "mimetype": "text/x-python",
   "name": "python",
   "nbconvert_exporter": "python",
   "pygments_lexer": "ipython3",
   "version": "3.10.12"
  }
 },
 "nbformat": 4,
 "nbformat_minor": 5
}
