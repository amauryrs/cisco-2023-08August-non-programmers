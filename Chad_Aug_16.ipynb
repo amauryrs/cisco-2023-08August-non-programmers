{
 "cells": [
  {
   "cell_type": "code",
   "execution_count": 18,
   "id": "72e839f1-2637-4c74-be57-2f6ad57b9173",
   "metadata": {},
   "outputs": [
    {
     "name": "stdin",
     "output_type": "stream",
     "text": [
      "enter threshold 5\n",
      "Enter integers with white space between: a 2 4\n"
     ]
    },
    {
     "name": "stdout",
     "output_type": "stream",
     "text": [
      "['2', '4']\n",
      "[]\n"
     ]
    }
   ],
   "source": [
    "higher = []\n",
    "lower = []\n",
    "threshold = 0\n",
    "\n",
    "threshold = input('enter threshold')    \n",
    "x = input('Enter integers with white space between:').strip\n",
    "    \n",
    "for item in x:\n",
    "    if item.isdigit():\n",
    "        if item < threshold:\n",
    "            lower.append(item)\n",
    "        elif item > threshold:\n",
    "            higher.append(item)\n",
    "        else:\n",
    "            print('not integer')\n",
    "            \n",
    "                \n",
    "            \n",
    "\n",
    "print(lower)\n",
    "print(higher)\n",
    "            \n"
   ]
  },
  {
   "cell_type": "code",
   "execution_count": 19,
   "id": "1e23ed77-3213-442d-b65c-969f79748974",
   "metadata": {},
   "outputs": [
    {
     "name": "stdin",
     "output_type": "stream",
     "text": [
      "Enter threshold:  5\n",
      "Enter numbers:  a 2 3\n",
      "Enter numbers:  6 7 8\n",
      "Enter numbers:  \n"
     ]
    },
    {
     "name": "stdout",
     "output_type": "stream",
     "text": [
      "higher = [6, 7, 8]\n",
      "lower = [2, 3]\n"
     ]
    }
   ],
   "source": [
    "# setup\n",
    "higher = []\n",
    "lower = []\n",
    "\n",
    "# calculations\n",
    "s = input('Enter threshold: ').strip()\n",
    "threshold = int(s)   # here, we assume we got a number\n",
    "\n",
    "while True:\n",
    "    s = input('Enter numbers: ').strip()\n",
    "\n",
    "    # if the user gave us an empty string, then break out of this loop\n",
    "    if s == '':\n",
    "        break\n",
    "\n",
    "    # if I'm here, then I know that the string is non-empty\n",
    "    # break it apart into individual words/numbers, and go through each one to see if it's\n",
    "    # higher or lower\n",
    "    for one_word in s.split():\n",
    "\n",
    "        if one_word.isdigit():\n",
    "            n = int(one_word)    # get an int from one_word, and assign to n\n",
    "            if n < threshold:\n",
    "                lower.append(n)                \n",
    "            else:\n",
    "                higher.append(n)\n",
    "\n",
    "# report\n",
    "print(f'higher = {higher}')\n",
    "print(f'lower = {lower}')"
   ]
  },
  {
   "cell_type": "code",
   "execution_count": 30,
   "id": "b8b54549-495b-48f1-9ba5-1d043ab158ee",
   "metadata": {},
   "outputs": [
    {
     "ename": "SyntaxError",
     "evalue": "unterminated string literal (detected at line 21) (836465018.py, line 21)",
     "output_type": "error",
     "traceback": [
      "\u001b[0;36m  Cell \u001b[0;32mIn[30], line 21\u001b[0;36m\u001b[0m\n\u001b[0;31m    print(f'You total is {total})\u001b[0m\n\u001b[0m          ^\u001b[0m\n\u001b[0;31mSyntaxError\u001b[0m\u001b[0;31m:\u001b[0m unterminated string literal (detected at line 21)\n"
     ]
    }
   ],
   "source": [
    "menu = {'fish':10, 'burger':5, 'chicken':3}\n",
    "total = 0\n",
    "\n",
    "while True:\n",
    "    x = input('Please Order fish, chicken or buger')\n",
    "    if x == '': \n",
    "        break\n",
    "    elif x == 'fish':\n",
    "        total += menu['fish']\n",
    "        print(f'You ordered fish, total:  {total}')\n",
    "    elif x == 'chicken':\n",
    "        total += menu['chicken']\n",
    "        print(f'You ordered chicken, total:  {chicken}')\n",
    "    elif x == 'fish':\n",
    "        total += menu['burger']\n",
    "        print(f'You ordered burger. total:  {burger}')\n",
    "    else:\n",
    "        print(f'{x} is not on the menu')\n",
    "\n",
    "\n",
    "print(f'thetotal is {total})\n",
    "\n",
    "\n",
    "    \n",
    "        "
   ]
  },
  {
   "cell_type": "code",
   "execution_count": null,
   "id": "7ab4eeb6-ad0c-450e-86f3-72c6d0da75f8",
   "metadata": {},
   "outputs": [],
   "source": []
  }
 ],
 "metadata": {
  "kernelspec": {
   "display_name": "Python 3 (ipykernel)",
   "language": "python",
   "name": "python3"
  },
  "language_info": {
   "codemirror_mode": {
    "name": "ipython",
    "version": 3
   },
   "file_extension": ".py",
   "mimetype": "text/x-python",
   "name": "python",
   "nbconvert_exporter": "python",
   "pygments_lexer": "ipython3",
   "version": "3.10.12"
  }
 },
 "nbformat": 4,
 "nbformat_minor": 5
}
