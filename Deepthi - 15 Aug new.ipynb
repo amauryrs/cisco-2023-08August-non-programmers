{
 "cells": [
  {
   "cell_type": "code",
   "execution_count": 1,
   "id": "ad9c28fe-5d57-480b-a044-437c89459336",
   "metadata": {},
   "outputs": [
    {
     "name": "stdout",
     "output_type": "stream",
     "text": [
      "Hello\n"
     ]
    }
   ],
   "source": [
    "print('Hello')\n"
   ]
  },
  {
   "cell_type": "code",
   "execution_count": 2,
   "id": "b3db968a-0ed8-4a5d-b5e4-a09fd21e8024",
   "metadata": {},
   "outputs": [
    {
     "name": "stdout",
     "output_type": "stream",
     "text": [
      "[10, 20, 30]\n"
     ]
    }
   ],
   "source": [
    "mylist=[10, 20, 30]\n",
    "print(mylist)"
   ]
  },
  {
   "cell_type": "code",
   "execution_count": 24,
   "id": "282ef552-1e18-47df-92ef-ed1975f207f5",
   "metadata": {},
   "outputs": [
    {
     "ename": "IndentationError",
     "evalue": "unexpected indent (2588693314.py, line 6)",
     "output_type": "error",
     "traceback": [
      "\u001b[0;36m  Cell \u001b[0;32mIn[24], line 6\u001b[0;36m\u001b[0m\n\u001b[0;31m    if s=='':\u001b[0m\n\u001b[0m    ^\u001b[0m\n\u001b[0;31mIndentationError\u001b[0m\u001b[0;31m:\u001b[0m unexpected indent\n"
     ]
    }
   ],
   "source": [
    "odds=[]\n",
    "evens=[]\n",
    "\n",
    "while True:\n",
    "    s=input('Enter a number: ').strip()\n",
    "       if s=='':\n",
    "            break\n",
    "            if s.isdigit():\n",
    "            n=int(s)\n",
    "                if n%2==1:\n",
    "            odds.append(n)\n",
    "else:\n",
    "            evens.append(n)\n",
    "\n",
    "else:\n",
    "print(f'{s} is not numeric')\n",
    "print(f'evens ={evens]')\n",
    "print(f'odds ={odds]')\n",
    "\n"
   ]
  },
  {
   "cell_type": "code",
   "execution_count": 39,
   "id": "f1a17467-ebc8-4e4a-b788-af8cb473793e",
   "metadata": {},
   "outputs": [
    {
     "name": "stdin",
     "output_type": "stream",
     "text": [
      "Enter a string:  ui\n"
     ]
    },
    {
     "ename": "NameError",
     "evalue": "name 'n' is not defined",
     "output_type": "error",
     "traceback": [
      "\u001b[0;31m---------------------------------------------------------------------------\u001b[0m",
      "\u001b[0;31mNameError\u001b[0m                                 Traceback (most recent call last)",
      "Cell \u001b[0;32mIn[39], line 12\u001b[0m\n\u001b[1;32m      9\u001b[0m     digits\u001b[38;5;241m.\u001b[39mappend(n)\n\u001b[1;32m     11\u001b[0m \u001b[38;5;28;01melif\u001b[39;00m one_character \u001b[38;5;129;01min\u001b[39;00m \u001b[38;5;124m'\u001b[39m\u001b[38;5;124maeiou\u001b[39m\u001b[38;5;124m'\u001b[39m:\n\u001b[0;32m---> 12\u001b[0m    vowels\u001b[38;5;241m.\u001b[39mappend(\u001b[43mn\u001b[49m)\n\u001b[1;32m     14\u001b[0m \u001b[38;5;28;01melse\u001b[39;00m:\n\u001b[1;32m     15\u001b[0m     others\u001b[38;5;241m.\u001b[39mappend(n)\n",
      "\u001b[0;31mNameError\u001b[0m: name 'n' is not defined"
     ]
    }
   ],
   "source": [
    "digits=[]\n",
    "vowels=[]\n",
    "others=[]\n",
    "s=input('Enter a string: ').strip()\n",
    "\n",
    "for one_character in s:\n",
    "    if one_character .isdigit():\n",
    "        n=int(s)\n",
    "        digits.append(n)\n",
    "       \n",
    "    elif one_character in 'aeiou':\n",
    "       vowels.append(n)\n",
    "        \n",
    "    else:\n",
    "        others.append(n)\n",
    "print(f'digits={digits}')\n",
    "print(f'vowels={vowels}')\n",
    "print(f'others={others}')\n"
   ]
  },
  {
   "cell_type": "code",
   "execution_count": 40,
   "id": "50cd649c-c694-48ea-8f0b-52fe0d7a6f4f",
   "metadata": {},
   "outputs": [
    {
     "name": "stdin",
     "output_type": "stream",
     "text": [
      "Enter a string:  hello 23\n"
     ]
    },
    {
     "name": "stdout",
     "output_type": "stream",
     "text": [
      "digits=['2', '3']\n",
      "vowels=['e', 'o']\n",
      "others=['h', 'l', 'l', ' ']\n"
     ]
    }
   ],
   "source": [
    "digits=[]\n",
    "vowels=[]\n",
    "others=[]\n",
    "s=input('Enter a string: ').strip()\n",
    "\n",
    "for one_character in s:\n",
    "    if one_character .isdigit():\n",
    "        digits.append(one_character)\n",
    "       \n",
    "    elif one_character in 'aeiou':\n",
    "       vowels.append(one_character)\n",
    "        \n",
    "    else:\n",
    "        others.append(one_character)\n",
    "print(f'digits={digits}')\n",
    "print(f'vowels={vowels}')\n",
    "print(f'others={others}')"
   ]
  },
  {
   "cell_type": "code",
   "execution_count": 41,
   "id": "25525a4d-37b2-46e2-8701-9f6333704dd3",
   "metadata": {},
   "outputs": [
    {
     "data": {
      "text/plain": [
       "['D',\n",
       " 'e',\n",
       " 'e',\n",
       " 'p',\n",
       " 't',\n",
       " 'h',\n",
       " 'i',\n",
       " ' ',\n",
       " 'K',\n",
       " 'a',\n",
       " 'm',\n",
       " 'a',\n",
       " 'l',\n",
       " 'a',\n",
       " 'k',\n",
       " 'a',\n",
       " 'n',\n",
       " 'n',\n",
       " 'a',\n",
       " 'n']"
      ]
     },
     "execution_count": 41,
     "metadata": {},
     "output_type": "execute_result"
    }
   ],
   "source": [
    "s = 'Deepthi Kamalakannan'\n",
    "list(s)"
   ]
  },
  {
   "cell_type": "code",
   "execution_count": 42,
   "id": "9c59d0bb-3736-43be-b2de-5055f99b769a",
   "metadata": {},
   "outputs": [
    {
     "data": {
      "text/plain": [
       "['Deep', 'kamal', 'Mret']"
      ]
     },
     "execution_count": 42,
     "metadata": {},
     "output_type": "execute_result"
    }
   ],
   "source": [
    "s='Deep_kamal_Mret'\n",
    "s.split('_')"
   ]
  },
  {
   "cell_type": "code",
   "execution_count": 43,
   "id": "1139abfc-3948-491a-a32a-f4cca0e9bdf0",
   "metadata": {},
   "outputs": [
    {
     "data": {
      "text/plain": [
       "['Dee', '_kamal_Mret']"
      ]
     },
     "execution_count": 43,
     "metadata": {},
     "output_type": "execute_result"
    }
   ],
   "source": [
    "s.split('p')"
   ]
  },
  {
   "cell_type": "code",
   "execution_count": 45,
   "id": "bfb43a8b-d9cb-4414-8825-4a658a45877b",
   "metadata": {},
   "outputs": [
    {
     "data": {
      "text/plain": [
       "['This', 'is', 'an', 'interesting', 'class']"
      ]
     },
     "execution_count": 45,
     "metadata": {},
     "output_type": "execute_result"
    }
   ],
   "source": [
    "s='This is an interesting class'\n",
    "s.split(' ')"
   ]
  },
  {
   "cell_type": "code",
   "execution_count": 46,
   "id": "a8d1dd45-4f7f-4e62-a8c3-8f20700b68b0",
   "metadata": {},
   "outputs": [
    {
     "data": {
      "text/plain": [
       "['This', 'is', 'an', 'interesting', '', '', 'class']"
      ]
     },
     "execution_count": 46,
     "metadata": {},
     "output_type": "execute_result"
    }
   ],
   "source": [
    "s='This is an interesting   class'\n",
    "s.split(' ')"
   ]
  },
  {
   "cell_type": "code",
   "execution_count": 47,
   "id": "86a3969e-f46c-4ae4-83e6-9cedbb71084d",
   "metadata": {},
   "outputs": [
    {
     "data": {
      "text/plain": [
       "['This', 'is', 'an', 'interesting', 'class']"
      ]
     },
     "execution_count": 47,
     "metadata": {},
     "output_type": "execute_result"
    }
   ],
   "source": [
    "s='This is an   interesting   class'\n",
    "s.split()"
   ]
  },
  {
   "cell_type": "code",
   "execution_count": 53,
   "id": "3a54ff64-e937-4370-8c66-6611239879d1",
   "metadata": {},
   "outputs": [
    {
     "ename": "IndentationError",
     "evalue": "unexpected indent (3195201595.py, line 5)",
     "output_type": "error",
     "traceback": [
      "\u001b[0;36m  Cell \u001b[0;32mIn[53], line 5\u001b[0;36m\u001b[0m\n\u001b[0;31m    if s=='':\u001b[0m\n\u001b[0m    ^\u001b[0m\n\u001b[0;31mIndentationError\u001b[0m\u001b[0;31m:\u001b[0m unexpected indent\n"
     ]
    }
   ],
   "source": [
    "total=0\n",
    "\n",
    "while True:\n",
    "    s=input('Enter a one or more number seperated by whitespace: ').strip()\n",
    "       if s=='':\n",
    "        break\n",
    "            if s.isdigit():\n",
    "                str.split(s)\n",
    "            for one_character in s:\n",
    "                if one_character .isdigit():\n",
    "                    digits.append(one_character)  \n",
    "                    n=int(s)\n",
    "                    total=+1\n",
    "                \n",
    "else:\n",
    "print(f'{s} is not numeric')\n",
    "\n",
    "print(f'total ={total]')\n"
   ]
  },
  {
   "cell_type": "code",
   "execution_count": 60,
   "id": "0a259ba1-da0b-4e6d-95dd-6d4d5eaa3008",
   "metadata": {},
   "outputs": [
    {
     "name": "stdin",
     "output_type": "stream",
     "text": [
      "Enter a one or more number seperated by whitespace:  789hjd\n"
     ]
    },
    {
     "name": "stdout",
     "output_type": "stream",
     "text": [
      "789hjd is not numeric\n"
     ]
    },
    {
     "name": "stdin",
     "output_type": "stream",
     "text": [
      "Enter a one or more number seperated by whitespace:  \n"
     ]
    },
    {
     "name": "stdout",
     "output_type": "stream",
     "text": [
      "total =0\n"
     ]
    }
   ],
   "source": [
    "total=0\n",
    "\n",
    "while True:\n",
    "\n",
    "    s=input('Enter a one or more number seperated by whitespace: ').strip()\n",
    "    if s=='':\n",
    "        break\n",
    "    \n",
    "    words =s.split() \n",
    "\n",
    "    for one_word in words:\n",
    "        if one_word.isdigit():\n",
    "            total+=int(one_word)\n",
    "        else:\n",
    "            print(f'{one_word} is not numeric')\n",
    "                \n",
    "\n",
    "print(f'total ={total}')\n"
   ]
  },
  {
   "cell_type": "code",
   "execution_count": 62,
   "id": "dc0469f6-9f8b-4899-b005-82915f72465c",
   "metadata": {},
   "outputs": [
    {
     "name": "stdout",
     "output_type": "stream",
     "text": [
      "['deep', 'mrethi']\n"
     ]
    }
   ],
   "source": [
    "mylist=['deep', 'mrethi']\n",
    "print(mylist)"
   ]
  },
  {
   "cell_type": "code",
   "execution_count": 63,
   "id": "9d0ac9d2-f756-4dfa-b056-ef9c9efecf6a",
   "metadata": {},
   "outputs": [
    {
     "data": {
      "text/plain": [
       "'deep&mrethi'"
      ]
     },
     "execution_count": 63,
     "metadata": {},
     "output_type": "execute_result"
    }
   ],
   "source": [
    "'&'.join(mylist)"
   ]
  },
  {
   "cell_type": "code",
   "execution_count": 66,
   "id": "72c865af-b45d-457d-a5e6-0db520cdd6c5",
   "metadata": {},
   "outputs": [
    {
     "ename": "TypeError",
     "evalue": "list indices must be integers or slices, not str",
     "output_type": "error",
     "traceback": [
      "\u001b[0;31m---------------------------------------------------------------------------\u001b[0m",
      "\u001b[0;31mTypeError\u001b[0m                                 Traceback (most recent call last)",
      "Cell \u001b[0;32mIn[66], line 1\u001b[0m\n\u001b[0;32m----> 1\u001b[0m \u001b[43mmylist\u001b[49m\u001b[43m[\u001b[49m\u001b[38;5;124;43m'\u001b[39;49m\u001b[38;5;124;43mHow are you\u001b[39;49m\u001b[38;5;124;43m'\u001b[39;49m\u001b[43m]\u001b[49m\n\u001b[1;32m      2\u001b[0m mylist\u001b[38;5;241m.\u001b[39msplit\n",
      "\u001b[0;31mTypeError\u001b[0m: list indices must be integers or slices, not str"
     ]
    }
   ],
   "source": [
    "mylist['How are you']\n",
    "mylist.split"
   ]
  },
  {
   "cell_type": "code",
   "execution_count": null,
   "id": "ec2920cc-c0df-45e0-9037-34b0bbe8a00d",
   "metadata": {},
   "outputs": [],
   "source": []
  }
 ],
 "metadata": {
  "kernelspec": {
   "display_name": "Python 3 (ipykernel)",
   "language": "python",
   "name": "python3"
  },
  "language_info": {
   "codemirror_mode": {
    "name": "ipython",
    "version": 3
   },
   "file_extension": ".py",
   "mimetype": "text/x-python",
   "name": "python",
   "nbconvert_exporter": "python",
   "pygments_lexer": "ipython3",
   "version": "3.10.12"
  }
 },
 "nbformat": 4,
 "nbformat_minor": 5
}
