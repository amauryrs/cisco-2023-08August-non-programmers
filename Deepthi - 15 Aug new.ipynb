{
 "cells": [
  {
   "cell_type": "code",
   "execution_count": 1,
   "id": "ad9c28fe-5d57-480b-a044-437c89459336",
   "metadata": {},
   "outputs": [
    {
     "name": "stdout",
     "output_type": "stream",
     "text": [
      "Hello\n"
     ]
    }
   ],
   "source": [
    "print('Hello')\n"
   ]
  },
  {
   "cell_type": "code",
   "execution_count": 2,
   "id": "b3db968a-0ed8-4a5d-b5e4-a09fd21e8024",
   "metadata": {},
   "outputs": [
    {
     "name": "stdout",
     "output_type": "stream",
     "text": [
      "[10, 20, 30]\n"
     ]
    }
   ],
   "source": [
    "mylist=[10, 20, 30]\n",
    "print(mylist)"
   ]
  },
  {
   "cell_type": "code",
   "execution_count": 24,
   "id": "282ef552-1e18-47df-92ef-ed1975f207f5",
   "metadata": {},
   "outputs": [
    {
     "ename": "IndentationError",
     "evalue": "unexpected indent (2588693314.py, line 6)",
     "output_type": "error",
     "traceback": [
      "\u001b[0;36m  Cell \u001b[0;32mIn[24], line 6\u001b[0;36m\u001b[0m\n\u001b[0;31m    if s=='':\u001b[0m\n\u001b[0m    ^\u001b[0m\n\u001b[0;31mIndentationError\u001b[0m\u001b[0;31m:\u001b[0m unexpected indent\n"
     ]
    }
   ],
   "source": [
    "odds=[]\n",
    "evens=[]\n",
    "\n",
    "while True:\n",
    "    s=input('Enter a number: ').strip()\n",
    "       if s=='':\n",
    "            break\n",
    "            if s.isdigit():\n",
    "            n=int(s)\n",
    "                if n%2==1:\n",
    "            odds.append(n)\n",
    "else:\n",
    "            evens.append(n)\n",
    "\n",
    "else:\n",
    "print(f'{s} is not numeric')\n",
    "print(f'evens ={evens]')\n",
    "print(f'odds ={odds]')\n",
    "\n"
   ]
  },
  {
   "cell_type": "code",
   "execution_count": 39,
   "id": "f1a17467-ebc8-4e4a-b788-af8cb473793e",
   "metadata": {},
   "outputs": [
    {
     "name": "stdin",
     "output_type": "stream",
     "text": [
      "Enter a string:  ui\n"
     ]
    },
    {
     "ename": "NameError",
     "evalue": "name 'n' is not defined",
     "output_type": "error",
     "traceback": [
      "\u001b[0;31m---------------------------------------------------------------------------\u001b[0m",
      "\u001b[0;31mNameError\u001b[0m                                 Traceback (most recent call last)",
      "Cell \u001b[0;32mIn[39], line 12\u001b[0m\n\u001b[1;32m      9\u001b[0m     digits\u001b[38;5;241m.\u001b[39mappend(n)\n\u001b[1;32m     11\u001b[0m \u001b[38;5;28;01melif\u001b[39;00m one_character \u001b[38;5;129;01min\u001b[39;00m \u001b[38;5;124m'\u001b[39m\u001b[38;5;124maeiou\u001b[39m\u001b[38;5;124m'\u001b[39m:\n\u001b[0;32m---> 12\u001b[0m    vowels\u001b[38;5;241m.\u001b[39mappend(\u001b[43mn\u001b[49m)\n\u001b[1;32m     14\u001b[0m \u001b[38;5;28;01melse\u001b[39;00m:\n\u001b[1;32m     15\u001b[0m     others\u001b[38;5;241m.\u001b[39mappend(n)\n",
      "\u001b[0;31mNameError\u001b[0m: name 'n' is not defined"
     ]
    }
   ],
   "source": [
    "digits=[]\n",
    "vowels=[]\n",
    "others=[]\n",
    "s=input('Enter a string: ').strip()\n",
    "\n",
    "for one_character in s:\n",
    "    if one_character .isdigit():\n",
    "        n=int(s)\n",
    "        digits.append(n)\n",
    "       \n",
    "    elif one_character in 'aeiou':\n",
    "       vowels.append(n)\n",
    "        \n",
    "    else:\n",
    "        others.append(n)\n",
    "print(f'digits={digits}')\n",
    "print(f'vowels={vowels}')\n",
    "print(f'others={others}')\n"
   ]
  },
  {
   "cell_type": "code",
   "execution_count": 40,
   "id": "50cd649c-c694-48ea-8f0b-52fe0d7a6f4f",
   "metadata": {},
   "outputs": [
    {
     "name": "stdin",
     "output_type": "stream",
     "text": [
      "Enter a string:  hello 23\n"
     ]
    },
    {
     "name": "stdout",
     "output_type": "stream",
     "text": [
      "digits=['2', '3']\n",
      "vowels=['e', 'o']\n",
      "others=['h', 'l', 'l', ' ']\n"
     ]
    }
   ],
   "source": [
    "digits=[]\n",
    "vowels=[]\n",
    "others=[]\n",
    "s=input('Enter a string: ').strip()\n",
    "\n",
    "for one_character in s:\n",
    "    if one_character .isdigit():\n",
    "        digits.append(one_character)\n",
    "       \n",
    "    elif one_character in 'aeiou':\n",
    "       vowels.append(one_character)\n",
    "        \n",
    "    else:\n",
    "        others.append(one_character)\n",
    "print(f'digits={digits}')\n",
    "print(f'vowels={vowels}')\n",
    "print(f'others={others}')"
   ]
  },
  {
   "cell_type": "code",
   "execution_count": null,
   "id": "25525a4d-37b2-46e2-8701-9f6333704dd3",
   "metadata": {},
   "outputs": [],
   "source": []
  }
 ],
 "metadata": {
  "kernelspec": {
   "display_name": "Python 3 (ipykernel)",
   "language": "python",
   "name": "python3"
  },
  "language_info": {
   "codemirror_mode": {
    "name": "ipython",
    "version": 3
   },
   "file_extension": ".py",
   "mimetype": "text/x-python",
   "name": "python",
   "nbconvert_exporter": "python",
   "pygments_lexer": "ipython3",
   "version": "3.10.12"
  }
 },
 "nbformat": 4,
 "nbformat_minor": 5
}
