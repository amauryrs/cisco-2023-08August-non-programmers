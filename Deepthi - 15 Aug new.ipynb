{
 "cells": [
  {
   "cell_type": "code",
   "execution_count": 1,
   "id": "ad9c28fe-5d57-480b-a044-437c89459336",
   "metadata": {},
   "outputs": [
    {
     "name": "stdout",
     "output_type": "stream",
     "text": [
      "Hello\n"
     ]
    }
   ],
   "source": [
    "print('Hello')\n"
   ]
  },
  {
   "cell_type": "code",
   "execution_count": 2,
   "id": "b3db968a-0ed8-4a5d-b5e4-a09fd21e8024",
   "metadata": {},
   "outputs": [
    {
     "name": "stdout",
     "output_type": "stream",
     "text": [
      "[10, 20, 30]\n"
     ]
    }
   ],
   "source": [
    "mylist=[10, 20, 30]\n",
    "print(mylist)"
   ]
  },
  {
   "cell_type": "code",
   "execution_count": 13,
   "id": "282ef552-1e18-47df-92ef-ed1975f207f5",
   "metadata": {},
   "outputs": [
    {
     "ename": "IndentationError",
     "evalue": "unindent does not match any outer indentation level (<tokenize>, line 8)",
     "output_type": "error",
     "traceback": [
      "\u001b[0;36m  File \u001b[0;32m<tokenize>:8\u001b[0;36m\u001b[0m\n\u001b[0;31m    if s.isdigit()\u001b[0m\n\u001b[0m    ^\u001b[0m\n\u001b[0;31mIndentationError\u001b[0m\u001b[0;31m:\u001b[0m unindent does not match any outer indentation level\n"
     ]
    }
   ],
   "source": [
    "odds=[]\n",
    "evens=[]\n",
    "\n",
    "while True:\n",
    "s=input('Enter a number: ').strip()\n",
    "   if s=='':\n",
    "        break\n",
    "    if s.isdigit()\n",
    "\n",
    "        n=int(s)\n",
    "        if n%2==1;\n",
    "            odds.append(n)\n",
    "        else\n",
    "            evens.append(n)\n",
    "\n",
    "else:\n",
    "print(f'{s} is not numeric')\n",
    "print(f'evens ={evens]')\n",
    "print(f'odds ={odds]')\n",
    "\n"
   ]
  },
  {
   "cell_type": "code",
   "execution_count": null,
   "id": "f1a17467-ebc8-4e4a-b788-af8cb473793e",
   "metadata": {},
   "outputs": [],
   "source": []
  }
 ],
 "metadata": {
  "kernelspec": {
   "display_name": "Python 3 (ipykernel)",
   "language": "python",
   "name": "python3"
  },
  "language_info": {
   "codemirror_mode": {
    "name": "ipython",
    "version": 3
   },
   "file_extension": ".py",
   "mimetype": "text/x-python",
   "name": "python",
   "nbconvert_exporter": "python",
   "pygments_lexer": "ipython3",
   "version": "3.10.12"
  }
 },
 "nbformat": 4,
 "nbformat_minor": 5
}
