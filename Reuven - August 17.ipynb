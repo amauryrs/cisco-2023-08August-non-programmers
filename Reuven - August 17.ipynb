{
 "cells": [
  {
   "cell_type": "markdown",
   "id": "2d7eb356-5e1c-4388-89f5-864c1e5a654c",
   "metadata": {},
   "source": [
    "# Agenda\n",
    "\n",
    "1. Recap + Q&A + Exercise\n",
    "2. Functions\n",
    "    - What are functions?\n",
    "    - How do we define functions?\n",
    "    - Arguments and parameters\n",
    "    - A little about local vs. global variables\n",
    "3. Modules and Packages\n",
    "    - Using the `import` statement to use a module\n",
    "    - Python standard library and its modules\n",
    "    - PyPI and packages you can download from the Internet\n",
    "    - `requests` and consuming APIs with JSON using Python"
   ]
  },
  {
   "cell_type": "markdown",
   "id": "4bc96775-1459-4b51-9d8c-ace2568ffcd0",
   "metadata": {},
   "source": [
    "# Recap from yesterday\n",
    "\n",
    "1. Dictionaries\n",
    "    - Key-value stores: Every key has a value, and every value has a key\n",
    "    - Keys are unique, but values aren't\n",
    "    - Keys must be immutable, but values can be anything\n",
    "    - We define a dict with `{}` -- empty braces are an empty dict.\n",
    "    - You can define a dict with keys and values by putting them in the braces: `{'a':10, 'b':[10, 20, 30], 'c':12.34}`\n",
    "    - You can retrieve from a dict using `[]` and the key you want: `d['a']`\n",
    "    - You can search in a dict's keys with the `in` operator\n",
    "    - You can assign to a dict via `=`, as in `d['a'] = 1234`\n",
    "        - If the key already exists, then the value is updated\n",
    "        - If the key doesn't yet exist, then the key-value pair is created\n",
    "    - Three paradigms for dict use\n",
    "        1. Define it at the top of the program, and use it as a read-only database. Examples: Months, countries, locations.\n",
    "        2. Define the dict with keys and initial values. We don't change the keys (adding or removing them), but we do update the values. This is useful for counters of various sorts.\n",
    "        3. Define an empty dict, and over time, add both keys and values. We saw the \"rainfall\" program, which used this.\n",
    "    - Iterating over dicts\n",
    "        - If you iterate over a dict, you get the keys\n",
    "        - You can (if you want) iterate over the result of invoking `dict.keys` or `dict.values`. The first is almost always a bad idea, and the second can be useful.\n",
    "        - You can also use `dict.items`, a method that returns a 2-element tuple with the key and value with each iteration. If you then iterate using unpacking, with `for key, value in d.items():`, that lets you iterate over keys and values, accessing them with variables, in a nice and compact way.\n",
    "2. Files\n",
    "    - To work with a file, you need to first open it by stating the filename. We do that with the `open` function.\n",
    "    - If we don't specify otherwise, then the file is opened in read-only mode.\n",
    "    - We can specify a second argument to `open`, either `'r'` (for reading) or `'w'` (for writing).\n",
    "    - Once we have a file object, we can get the contents of the file as a string with the `read` method. However, this returns the entire file's contents, which can be overwhelming -- to us or to our computers.\n",
    "    - A better way to read through a file is line by line, iterating over the file object\n",
    "    - Each line is a string, up to and including the next newline character in the file. Each string we get back from iterating is thus guaranteed to end with `\\n`.\n",
    "    - Once we have the string, we can analyze it, or even use `str.split` to break it into pieces.\n",
    "    - To write to a file, make sure to open it with the `'w'` option, and then use `file.write` to write strings to the file.  When you're done writing to the file, be sure to close it. Otherwise, it's unknown when the data you've written will actually be written to disk.\n",
    "    - It's common to use the `with` statement with files, because at the end of the `with` block, the file is automatically flushed and closed."
   ]
  },
  {
   "cell_type": "markdown",
   "id": "4967ab67-c56d-4fd0-b52e-dfad4a1215ac",
   "metadata": {},
   "source": [
    "# Exercise: Count characters\n",
    "\n",
    "The point of this program is to create a dictionary whose keys are characters and whose values indicate how many times each character appeared.\n",
    "\n",
    "We'll give the program the name of a file. Our program will read through the file, one line at a time, adding to the count for each character. So the end result will be a dict counting how often each character appears in the file.\n",
    "\n",
    "1. Define a variable `filename` that contains the name of a text file.\n",
    "2. Define a variable `counts`, an empty dict.\n",
    "3. Open and iterate over that file, one line at a time.\n",
    "4. Inside of that loop, start a new (inner/nested) loop, iterating over each character in the current line.\n",
    "    - If the character is already a key in `counts`, then just add 1 to the count\n",
    "    - If the character is not already a key in `counts`, then add the key and the value 1\n",
    "    - Note that we're counting all characters, including space, newline, etc.\n",
    "5. Iterate over the `counts` dict, printing all keys and values.\n",
    "\n",
    "Stage 1: Iterate over the lines of the file, and print them out."
   ]
  },
  {
   "cell_type": "code",
   "execution_count": 2,
   "id": "6f7132ce-c734-4281-8dfe-79e02a8c9d68",
   "metadata": {},
   "outputs": [],
   "source": [
    "# right now, all you need to do is\n",
    "# (a) define a variable with a filename\n",
    "# (b) open the named file, iterate over it one line at a time, and print the line"
   ]
  },
  {
   "cell_type": "code",
   "execution_count": null,
   "id": "716f0978-b0d2-4b59-896d-c41aeb5d171e",
   "metadata": {},
   "outputs": [],
   "source": []
  }
 ],
 "metadata": {
  "kernelspec": {
   "display_name": "Python 3 (ipykernel)",
   "language": "python",
   "name": "python3"
  },
  "language_info": {
   "codemirror_mode": {
    "name": "ipython",
    "version": 3
   },
   "file_extension": ".py",
   "mimetype": "text/x-python",
   "name": "python",
   "nbconvert_exporter": "python",
   "pygments_lexer": "ipython3",
   "version": "3.10.12"
  }
 },
 "nbformat": 4,
 "nbformat_minor": 5
}
