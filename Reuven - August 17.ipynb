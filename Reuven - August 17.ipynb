{
 "cells": [
  {
   "cell_type": "markdown",
   "id": "2d7eb356-5e1c-4388-89f5-864c1e5a654c",
   "metadata": {},
   "source": [
    "# Agenda\n",
    "\n",
    "1. Recap + Q&A + Exercise\n",
    "2. Functions\n",
    "    - What are functions?\n",
    "    - How do we define functions?\n",
    "    - Arguments and parameters\n",
    "    - A little about local vs. global variables"
   ]
  },
  {
   "cell_type": "code",
   "execution_count": null,
   "id": "afce6ab9-21ab-4f3e-86b6-a698df2b6534",
   "metadata": {},
   "outputs": [],
   "source": []
  }
 ],
 "metadata": {
  "kernelspec": {
   "display_name": "Python 3 (ipykernel)",
   "language": "python",
   "name": "python3"
  },
  "language_info": {
   "codemirror_mode": {
    "name": "ipython",
    "version": 3
   },
   "file_extension": ".py",
   "mimetype": "text/x-python",
   "name": "python",
   "nbconvert_exporter": "python",
   "pygments_lexer": "ipython3",
   "version": "3.10.12"
  }
 },
 "nbformat": 4,
 "nbformat_minor": 5
}
