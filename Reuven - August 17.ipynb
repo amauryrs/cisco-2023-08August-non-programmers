{
 "cells": [
  {
   "cell_type": "markdown",
   "id": "2d7eb356-5e1c-4388-89f5-864c1e5a654c",
   "metadata": {},
   "source": [
    "# Agenda\n",
    "\n",
    "1. Recap + Q&A + Exercise\n",
    "2. Functions\n",
    "    - What are functions?\n",
    "    - How do we define functions?\n",
    "    - Arguments and parameters\n",
    "    - A little about local vs. global variables\n",
    "3. Modules and Packages\n",
    "    - Using the `import` statement to use a module\n",
    "    - Python standard library and its modules\n",
    "    - PyPI and packages you can download from the Internet\n",
    "    - `requests` and consuming APIs with JSON using Python"
   ]
  },
  {
   "cell_type": "markdown",
   "id": "4bc96775-1459-4b51-9d8c-ace2568ffcd0",
   "metadata": {},
   "source": [
    "# Recap from yesterday\n",
    "\n",
    "1. Dictionaries\n",
    "    - Key-value stores: Every key has a value, and every value has a key\n",
    "    - Keys are unique, but values aren't\n",
    "    - Keys must be immutable, but values can be anything\n",
    "    - We define a dict with `{}` -- empty braces are an empty dict.\n",
    "    - You can define a dict with keys and values by putting them in the braces: `{'a':10, 'b':[10, 20, 30], 'c':12.34}`\n",
    "    - You can retrieve from a dict using `[]` and the key you want: `d['a']`\n",
    "    - You can search in a dict's keys with the `in` operator\n",
    "    - You can assign to a dict via `=`, as in `d['a'] = 1234`\n",
    "        - If the key already exists, then the value is updated\n",
    "        - If the key doesn't yet exist, then the key-value pair is created\n",
    "    - Three paradigms for dict use\n",
    "        1. Define it at the top of the program, and use it as a read-only database. Examples: Months, countries, locations.\n",
    "        2. Define the dict with keys and initial values. We don't change the keys (adding or removing them), but we do update the values. This is useful for counters of various sorts.\n",
    "        3. Define an empty dict, and over time, add both keys and values. We saw the \"rainfall\" program, which used this.\n",
    "    - Iterating over dicts\n",
    "        - If you iterate over a dict, you get the keys\n",
    "        - You can (if you want) iterate over the result of invoking `dict.keys` or `dict.values`. The first is almost always a bad idea, and the second can be useful.\n",
    "        - You can also use `dict.items`, a method that returns a 2-element tuple with the key and value with each iteration. If you then iterate using unpacking, with `for key, value in d.items():`, that lets you iterate over keys and values, accessing them with variables, in a nice and compact way.\n",
    "2. Files\n",
    "    - To work with a file, you need to first open it by stating the filename. We do that with the `open` function.\n",
    "    - If we don't specify otherwise, then the file is opened in read-only mode.\n",
    "    - We can specify a second argument to `open`, either `'r'` (for reading) or `'w'` (for writing).\n",
    "    - Once we have a file object, we can get the contents of the file as a string with the `read` method. However, this returns the entire file's contents, which can be overwhelming -- to us or to our computers.\n",
    "    - A better way to read through a file is line by line, iterating over the file object\n",
    "    - Each line is a string, up to and including the next newline character in the file. Each string we get back from iterating is thus guaranteed to end with `\\n`.\n",
    "    - Once we have the string, we can analyze it, or even use `str.split` to break it into pieces.\n",
    "    - To write to a file, make sure to open it with the `'w'` option, and then use `file.write` to write strings to the file.  When you're done writing to the file, be sure to close it. Otherwise, it's unknown when the data you've written will actually be written to disk.\n",
    "    - It's common to use the `with` statement with files, because at the end of the `with` block, the file is automatically flushed and closed."
   ]
  },
  {
   "cell_type": "markdown",
   "id": "4967ab67-c56d-4fd0-b52e-dfad4a1215ac",
   "metadata": {},
   "source": [
    "# Exercise: Count characters\n",
    "\n",
    "The point of this program is to create a dictionary whose keys are characters and whose values indicate how many times each character appeared.\n",
    "\n",
    "We'll give the program the name of a file. Our program will read through the file, one line at a time, adding to the count for each character. So the end result will be a dict counting how often each character appears in the file.\n",
    "\n",
    "1. Define a variable `filename` that contains the name of a text file.\n",
    "2. Define a variable `counts`, an empty dict.\n",
    "3. Open and iterate over that file, one line at a time.\n",
    "4. Inside of that loop, start a new (inner/nested) loop, iterating over each character in the current line.\n",
    "    - If the character is already a key in `counts`, then just add 1 to the count\n",
    "    - If the character is not already a key in `counts`, then add the key and the value 1\n",
    "    - Note that we're counting all characters, including space, newline, etc.\n",
    "5. Iterate over the `counts` dict, printing all keys and values.\n",
    "\n",
    "Stage 1: Iterate over the lines of the file, and print them out."
   ]
  },
  {
   "cell_type": "code",
   "execution_count": 2,
   "id": "6f7132ce-c734-4281-8dfe-79e02a8c9d68",
   "metadata": {},
   "outputs": [],
   "source": [
    "# right now, all you need to do is\n",
    "# (a) define a variable with a filename\n",
    "# (b) open the named file, iterate over it one line at a time, and print the line"
   ]
  },
  {
   "cell_type": "code",
   "execution_count": 4,
   "id": "716f0978-b0d2-4b59-896d-c41aeb5d171e",
   "metadata": {},
   "outputs": [
    {
     "name": "stdout",
     "output_type": "stream",
     "text": [
      "This is a test file.\n",
      "\n",
      "\n",
      "\n",
      "It contains 28 words and 20 different words.\n",
      "\n",
      "\n",
      "\n",
      "It also contains 165 characters.\n",
      "\n",
      "\n",
      "\n",
      "It also contains 11 lines.\n",
      "\n",
      "\n",
      "\n",
      "It is also self-referential.\n",
      "\n",
      "\n",
      "\n",
      "Wow!\n",
      "\n"
     ]
    }
   ],
   "source": [
    "filename = 'wcfile.txt'    # in the same directory as Jupyter\n",
    "\n",
    "for one_line in open(filename):   # open the file + iterate over it in a for loop\n",
    "    print(one_line)               # print the current line from the file"
   ]
  },
  {
   "cell_type": "code",
   "execution_count": 5,
   "id": "592a1e97-ffed-4d34-8711-250a530839aa",
   "metadata": {},
   "outputs": [],
   "source": [
    "# stage 2: we want to count the characters\n",
    "# in order to do that, we need to get the characters\n",
    "\n",
    "# Given the code we already have, expand it such that we don't print each line\n",
    "# of the file, but rather we print each *character* in the file.\n",
    "# the result of printing each character will be a very very long, skinny line of characters\n"
   ]
  },
  {
   "cell_type": "code",
   "execution_count": null,
   "id": "6b8b39c6-a300-4419-a9a9-246181e492c9",
   "metadata": {},
   "outputs": [],
   "source": [
    "filename = 'wcfile.txt'    # in the same directory as Jupyter\n",
    "\n",
    "for one_line in open(filename):   # open the file + iterate over it in a for loop\n",
    "    print(one_line)               # print the current line from the file"
   ]
  },
  {
   "cell_type": "code",
   "execution_count": 7,
   "id": "e283bff7-37df-4a7d-ad97-f1158a0aa77b",
   "metadata": {},
   "outputs": [
    {
     "name": "stdout",
     "output_type": "stream",
     "text": [
      "t\n",
      "h\n",
      "i\n",
      "s\n",
      " \n",
      "i\n",
      "s\n",
      " \n",
      "a\n",
      " \n",
      "l\n",
      "i\n",
      "n\n",
      "e\n"
     ]
    }
   ],
   "source": [
    "# if I have a string, and I want to print every charcter\n",
    "# in that string, I can just use this kind of for loop:\n",
    "\n",
    "one_line = 'this is a line'\n",
    "\n",
    "for one_character in one_line:\n",
    "    print(one_character)"
   ]
  },
  {
   "cell_type": "code",
   "execution_count": 9,
   "id": "e59eb7ca-87f3-47fc-b86f-92bcb8ea97e9",
   "metadata": {
    "scrolled": true
   },
   "outputs": [
    {
     "name": "stdout",
     "output_type": "stream",
     "text": [
      "T\n",
      "h\n",
      "i\n",
      "s\n",
      " \n",
      "i\n",
      "s\n",
      " \n",
      "a\n",
      " \n",
      "t\n",
      "e\n",
      "s\n",
      "t\n",
      " \n",
      "f\n",
      "i\n",
      "l\n",
      "e\n",
      ".\n",
      "\n",
      "\n",
      "\n",
      "\n",
      "I\n",
      "t\n",
      " \n",
      "c\n",
      "o\n",
      "n\n",
      "t\n",
      "a\n",
      "i\n",
      "n\n",
      "s\n",
      " \n",
      "2\n",
      "8\n",
      " \n",
      "w\n",
      "o\n",
      "r\n",
      "d\n",
      "s\n",
      " \n",
      "a\n",
      "n\n",
      "d\n",
      " \n",
      "2\n",
      "0\n",
      " \n",
      "d\n",
      "i\n",
      "f\n",
      "f\n",
      "e\n",
      "r\n",
      "e\n",
      "n\n",
      "t\n",
      " \n",
      "w\n",
      "o\n",
      "r\n",
      "d\n",
      "s\n",
      ".\n",
      "\n",
      "\n",
      "\n",
      "\n",
      "I\n",
      "t\n",
      " \n",
      "a\n",
      "l\n",
      "s\n",
      "o\n",
      " \n",
      "c\n",
      "o\n",
      "n\n",
      "t\n",
      "a\n",
      "i\n",
      "n\n",
      "s\n",
      " \n",
      "1\n",
      "6\n",
      "5\n",
      " \n",
      "c\n",
      "h\n",
      "a\n",
      "r\n",
      "a\n",
      "c\n",
      "t\n",
      "e\n",
      "r\n",
      "s\n",
      ".\n",
      "\n",
      "\n",
      "\n",
      "\n",
      "I\n",
      "t\n",
      " \n",
      "a\n",
      "l\n",
      "s\n",
      "o\n",
      " \n",
      "c\n",
      "o\n",
      "n\n",
      "t\n",
      "a\n",
      "i\n",
      "n\n",
      "s\n",
      " \n",
      "1\n",
      "1\n",
      " \n",
      "l\n",
      "i\n",
      "n\n",
      "e\n",
      "s\n",
      ".\n",
      "\n",
      "\n",
      "\n",
      "\n",
      "I\n",
      "t\n",
      " \n",
      "i\n",
      "s\n",
      " \n",
      "a\n",
      "l\n",
      "s\n",
      "o\n",
      " \n",
      "s\n",
      "e\n",
      "l\n",
      "f\n",
      "-\n",
      "r\n",
      "e\n",
      "f\n",
      "e\n",
      "r\n",
      "e\n",
      "n\n",
      "t\n",
      "i\n",
      "a\n",
      "l\n",
      ".\n",
      "\n",
      "\n",
      "\n",
      "\n",
      "W\n",
      "o\n",
      "w\n",
      "!\n",
      "\n",
      "\n"
     ]
    }
   ],
   "source": [
    "filename = 'wcfile.txt'    # in the same directory as Jupyter\n",
    "\n",
    "for one_line in open(filename):   # iterating over a file -- we get strings, the lines in a file\n",
    "    for char in one_line:         # iterating over a string -- we get characters\n",
    "        print(char)               "
   ]
  },
  {
   "cell_type": "code",
   "execution_count": 11,
   "id": "410f55b1-c94c-48c9-9558-57d21deb7a27",
   "metadata": {},
   "outputs": [
    {
     "name": "stdout",
     "output_type": "stream",
     "text": [
      "{'T': 1, 'h': 2, 'i': 10, 's': 15, ' ': 22, 'a': 11, 't': 12, 'e': 10, 'f': 5, 'l': 7, '.': 5, '\\n': 11, 'I': 4, 'c': 5, 'o': 9, 'n': 10, '2': 2, '8': 1, 'w': 3, 'r': 7, 'd': 4, '0': 1, '1': 3, '6': 1, '5': 1, '-': 1, 'W': 1, '!': 1}\n"
     ]
    }
   ],
   "source": [
    "# stage 3\n",
    "# we have this code.\n",
    "# as we go through each character, don't print it -- rather, either update the\n",
    "# existing count for that character in the dict, or add it with a count of 1\n",
    "\n",
    "filename = 'wcfile.txt'    # in the same directory as Jupyter\n",
    "counts = {}                # this where we'll keep a count of each character\n",
    "\n",
    "for one_line in open(filename):   # iterating over a file -- we get strings, the lines in a file\n",
    "    for char in one_line:         # iterating over a string -- we get characters\n",
    "\n",
    "        # check to see if the character is already a key in the dict\n",
    "        # if it is, then just +1 on the count\n",
    "        # if it isn't, then add the key-value pair -- the character, and the count of 1\n",
    "        if char in counts:\n",
    "            counts[char] += 1   # we've seen this char before -- just increment the count\n",
    "        else:\n",
    "            counts[char] = 1    # we've never seen this char before -- add it, with a count of 1\n",
    "\n",
    "print(counts)"
   ]
  },
  {
   "cell_type": "code",
   "execution_count": 12,
   "id": "955df14f-b2bf-489d-bc06-aefb6fc6b64f",
   "metadata": {},
   "outputs": [
    {
     "data": {
      "text/plain": [
       "15"
      ]
     },
     "execution_count": 12,
     "metadata": {},
     "output_type": "execute_result"
    }
   ],
   "source": [
    "counts['s']"
   ]
  },
  {
   "cell_type": "code",
   "execution_count": 13,
   "id": "21dc3c1f-3f44-48c4-ae86-80d7230eb5b2",
   "metadata": {},
   "outputs": [
    {
     "data": {
      "text/plain": [
       "22"
      ]
     },
     "execution_count": 13,
     "metadata": {},
     "output_type": "execute_result"
    }
   ],
   "source": [
    "counts[' ']"
   ]
  },
  {
   "cell_type": "code",
   "execution_count": 15,
   "id": "0f978f3e-e212-45bb-beb7-d74b9b430dff",
   "metadata": {},
   "outputs": [
    {
     "name": "stdout",
     "output_type": "stream",
     "text": [
      "T: 1\n",
      "h: 2\n",
      "i: 10\n",
      "s: 15\n",
      " : 22\n",
      "a: 11\n",
      "t: 12\n",
      "e: 10\n",
      "f: 5\n",
      "l: 7\n",
      ".: 5\n",
      "\n",
      ": 11\n",
      "I: 4\n",
      "c: 5\n",
      "o: 9\n",
      "n: 10\n",
      "2: 2\n",
      "8: 1\n",
      "w: 3\n",
      "r: 7\n",
      "d: 4\n",
      "0: 1\n",
      "1: 3\n",
      "6: 1\n",
      "5: 1\n",
      "-: 1\n",
      "W: 1\n",
      "!: 1\n"
     ]
    }
   ],
   "source": [
    "# stage 4\n",
    "# now, instead of printing counts all at once, iterate through it\n",
    "# and print each key-value pair on a line by itself\n",
    "\n",
    "# setup\n",
    "filename = 'wcfile.txt'    # in the same directory as Jupyter\n",
    "counts = {}                # this where we'll keep a count of each character\n",
    "\n",
    "# calculation\n",
    "for one_line in open(filename):   # iterating over a file -- we get strings, the lines in a file\n",
    "    for char in one_line:         # iterating over a string -- we get characters\n",
    "\n",
    "        # check to see if the character is already a key in the dict\n",
    "        # if it is, then just +1 on the count\n",
    "        # if it isn't, then add the key-value pair -- the character, and the count of 1\n",
    "        if char in counts:\n",
    "            counts[char] += 1   # we've seen this char before -- just increment the count\n",
    "        else:\n",
    "            counts[char] = 1    # we've never seen this char before -- add it, with a count of 1\n",
    "\n",
    "# report\n",
    "for key, value in counts.items():   # each iteration of items returns (key, value)\n",
    "    print(f'{key}: {value}')"
   ]
  },
  {
   "cell_type": "markdown",
   "id": "040cfaae-0d80-4d89-98fc-bfd546e480b4",
   "metadata": {},
   "source": [
    "# Exercise: IP counts\n",
    "\n",
    "There's a file called `mini-access-log.txt` in the same directory as Jupyter. It contains about 200 lines of log information from an old Web server. Each line starts with an IP address. We don't care about the rest of the line!\n",
    "\n",
    "1. Create an empty dict.\n",
    "2. Iterate over this file, one line at a time.\n",
    "3. Grab the IP address from the start of each line.\n",
    "4. If we have seen this IP address before, add to its count.\n",
    "5. If we have never seen this IP address before, add it to the dict with a value of 1.\n",
    "6. When we get to the end of the file, we will have a dict whose keys are IP addresses (strings) and whose values are integers (counts), indicating how often each IP address was accessing our server.\n",
    "7. Use a `for` loop to iterate over the dict and print each IP address and count.\""
   ]
  },
  {
   "cell_type": "code",
   "execution_count": 16,
   "id": "d86a069f-3756-46ae-b5a4-ea6329d41d89",
   "metadata": {},
   "outputs": [
    {
     "name": "stdout",
     "output_type": "stream",
     "text": [
      "67.218.116.165 - - [30/Jan/2010:00:03:18 +0200] \"GET /robots.txt HTTP/1.0\" 200 99 \"-\" \"Mozilla/5.0 (Twiceler-0.9 http://www.cuil.com/twiceler/robot.html)\"\n",
      "66.249.71.65 - - [30/Jan/2010:00:12:06 +0200] \"GET /browse/one_node/1557 HTTP/1.1\" 200 39208 \"-\" \"Mozilla/5.0 (compatible; Googlebot/2.1; +http://www.google.com/bot.html)\"\n",
      "65.55.106.183 - - [30/Jan/2010:01:29:23 +0200] \"GET /robots.txt HTTP/1.1\" 200 99 \"-\" \"msnbot/2.0b (+http://search.msn.com/msnbot.htm)\"\n",
      "65.55.106.183 - - [30/Jan/2010:01:30:06 +0200] \"GET /browse/one_model/2162 HTTP/1.1\" 200 2181 \"-\" \"msnbot/2.0b (+http://search.msn.com/msnbot.htm)\"\n",
      "66.249.71.65 - - [30/Jan/2010:02:07:14 +0200] \"GET /browse/browse_applet_tab/2593 HTTP/1.1\" 200 10305 \"-\" \"Mozilla/5.0 (compatible; Googlebot/2.1; +http://www.google.com/bot.html)\"\n",
      "66.249.71.65 - - [30/Jan/2010:02:10:39 +0200] \"GET /browse/browse_files_tab/2499?tab=true HTTP/1.1\" 200 446 \"-\" \"Mozilla/5.0 (compatible; Googlebot/2.1; +http://www.google.com/bot.html)\"\n",
      "66.249.65.12 - - [30/Jan/2010:03:13:34 +0200] \"GET /robots.txt HTTP/1.1\" 200 99 \"-\" \"Mozilla/5.0 (compatible; Googlebot/2.1; +http://www.google.com/bot.html)\"\n",
      "66.249.65.12 - - [30/Jan/2010:03:13:34 +0200] \"GET /browse/one_node/2715 HTTP/1.1\" 200 26433 \"-\" \"Mozilla/5.0 (compatible; Googlebot/2.1; +http://www.google.com/bot.html)\"\n",
      "66.249.65.12 - - [30/Jan/2010:03:43:39 +0200] \"GET /browse/download_model/1969 HTTP/1.1\" 200 31713 \"-\" \"Mozilla/5.0 (compatible; Googlebot/2.1; +http://www.google.com/bot.html)\"\n",
      "66.249.65.12 - - [30/Jan/2010:04:05:43 +0200] \"GET /browse/one_node/1406 HTTP/1.1\" 302 118 \"-\" \"Mozilla/5.0 (compatible; Googlebot/2.1; +http://www.google.com/bot.html)\"\n"
     ]
    }
   ],
   "source": [
    "!head mini-access-log.txt"
   ]
  },
  {
   "cell_type": "code",
   "execution_count": 24,
   "id": "3c1916c3-0a11-42a4-8487-f32b74bd987d",
   "metadata": {},
   "outputs": [
    {
     "name": "stdout",
     "output_type": "stream",
     "text": [
      "67.218.116.165:\t2\n",
      "66.249.71.65:\t3\n",
      "65.55.106.183:\t2\n",
      "66.249.65.12:\t32\n",
      "65.55.106.131:\t2\n",
      "65.55.106.186:\t2\n",
      "74.52.245.146:\t2\n",
      "66.249.65.43:\t3\n",
      "65.55.207.25:\t2\n",
      "65.55.207.94:\t2\n",
      "65.55.207.71:\t1\n",
      "98.242.170.241:\t1\n",
      "66.249.65.38:\t100\n",
      "65.55.207.126:\t2\n",
      "82.34.9.20:\t2\n",
      "65.55.106.155:\t2\n",
      "65.55.207.77:\t2\n",
      "208.80.193.28:\t1\n",
      "89.248.172.58:\t22\n",
      "67.195.112.35:\t16\n",
      "65.55.207.50:\t3\n",
      "65.55.215.75:\t2\n"
     ]
    }
   ],
   "source": [
    "# setup\n",
    "counts = {}  # empty dict, soon to be filled with IP:count pairs\n",
    "\n",
    "# calculations\n",
    "for one_line in open('mini-access-log.txt'):\n",
    "    ip_address = one_line.split()[0]\n",
    "\n",
    "    if ip_address in counts:     # if we've seen this IP address before,\n",
    "        counts[ip_address] += 1  # add 1 to the existing count\n",
    "    else:\n",
    "        counts[ip_address] = 1   # first time with this IP? Add the new key-value pair\n",
    "\n",
    "# report\n",
    "for key, value in counts.items():    # go through each key-value pair\n",
    "    print(f'{key}:\\t{value}')         # print the key and the value"
   ]
  },
  {
   "cell_type": "markdown",
   "id": "0ace4163-b1a3-444d-9b9d-135f1a7d7146",
   "metadata": {},
   "source": [
    "# Exercise: Running a program from the command line\n",
    "\n",
    "1. In PyCharm, create a simple program -- just ask for the user's name and print a greeting.\n",
    "2. Find out where your project is located.\n",
    "3. Open a terminal/CMD window\n",
    "4. Type \"python\" or (on Windows) \"py -3\" followed by the full path + name of the program you wrote.\n",
    "5. Check that the program runs!\n",
    "\n",
    "Your command will probably look like this:\n",
    "\n",
    "    py -3 /Users/reuven/PycharmProjects/cisco-aug-2023/myprog.py\n",
    "\n",
    "or maybe\n",
    "\n",
    "    python /Users/reuven/PycharmProjects/cisco-aug-2023/myprog.py\n"
   ]
  },
  {
   "cell_type": "markdown",
   "id": "72fd5e6a-a65b-4a0a-88ad-3218fcca6fdf",
   "metadata": {},
   "source": [
    "# Functions!\n",
    "\n",
    "We've already seen the \"DRY rule,\" where we say, \"Don't repeat yourself!\"\n",
    "\n",
    "- If you have the same code on several lines in a row, then you can \"DRY up\" that code with a loop.\n",
    "- If you have the same code in several places in a program, then you can \"DRY up\" your code with a function.\n",
    "\n",
    "A function lets you define a new verb in Python. That shortens your code, and gives you semantic power -- it lets you refer to a lot of things using a single term/name.\n",
    "\n",
    "This idea of hiding lots of complexity under a single name is known in engineering as \"abstraction.\" Functions are all about abstraction, letting us express complex ideas in a short amount of time, and ignoring the details that will just distract us."
   ]
  },
  {
   "cell_type": "markdown",
   "id": "d9ccc986-a59c-4967-b830-a5d2b1e17a55",
   "metadata": {},
   "source": [
    "# how do you have a successful startup?\n",
    "\n",
    "1. Good idea\n",
    "2. (something goes here)\n",
    "3. Exit!"
   ]
  },
  {
   "cell_type": "code",
   "execution_count": 25,
   "id": "d5e13272-6a72-4d1a-baa4-2c231a28f389",
   "metadata": {},
   "outputs": [],
   "source": [
    "# how do we define a new function?\n",
    "\n",
    "# - def -- this is the reserved word that lets us define it\n",
    "# - name the function\n",
    "# - empty parentheses (for now), where the parameters will go\n",
    "# - colon at the end of the line\n",
    "# - an indented block, the \"body\" of the function\n",
    "\n",
    "def hello():\n",
    "    print('Hello!')"
   ]
  },
  {
   "cell_type": "code",
   "execution_count": 27,
   "id": "8dca8932-77ec-49db-b3ee-477e44d0851b",
   "metadata": {},
   "outputs": [
    {
     "name": "stdout",
     "output_type": "stream",
     "text": [
      "Hello!\n"
     ]
    }
   ],
   "source": [
    "hello()   # call the function hello, with the help of ()"
   ]
  },
  {
   "cell_type": "markdown",
   "id": "3c26d4e6-38de-4fd1-baf7-af0974e0cb0f",
   "metadata": {},
   "source": [
    "# Exercise: Hello function\n",
    "\n",
    "1. In PyCharm, start a new file (hello.py)\n",
    "2. Define a function called `hello` that, when run, asks the user for their name and prints a nice greeting on the screen using their name.\n",
    "3. In the same file, lower down (after the definition), run the function with `hello()`.\n",
    "4. Now, run the file (inside of PyCharm is OK), and see that it asks for your name and prints it."
   ]
  },
  {
   "cell_type": "markdown",
   "id": "a94e7c06-39d9-4b8f-8a31-ba50f38912bd",
   "metadata": {},
   "source": [
    "# Next up\n",
    "\n",
    "- Return values from functions\n",
    "- Arguments and parameters\n",
    "- Local variables\n",
    "\n",
    "- Resume at :50"
   ]
  },
  {
   "cell_type": "markdown",
   "id": "313a6156-f32a-4b60-bc87-5541bd8f2ba7",
   "metadata": {},
   "source": [
    "# What can we put in a function?\n",
    "\n",
    "Anything we want:\n",
    "\n",
    "- Variable assignment\n",
    "- Input from the user\n",
    "- Displaying things to the user\n",
    "- Working with files\n",
    "- `for` and `while` loops\n",
    "\n",
    "You want to keep a function as short/small as possible:\n",
    "- It's easier to understand\n",
    "- It's easier to test\n",
    "\n",
    "I like to write functions that are no more than 20 lines long.\n",
    "\n",
    "Better (I think) to have more, short functions than fewer, longer functions.\n",
    "\n",
    "If you end up having a really complex function, I often think it's best to break it into several little pieces, each its own function, and then call those functions from the main one."
   ]
  },
  {
   "cell_type": "code",
   "execution_count": 28,
   "id": "9596eeb0-f266-4bfb-84e0-d751aae22565",
   "metadata": {},
   "outputs": [
    {
     "name": "stdout",
     "output_type": "stream",
     "text": [
      "thing1\n",
      "thing2\n",
      "thing3\n"
     ]
    }
   ],
   "source": [
    "def very_complex_thing():\n",
    "    print('thing1')\n",
    "    print('thing2')\n",
    "    print('thing3')\n",
    "\n",
    "# We can turn the above into:\n",
    "\n",
    "def very_complex_thing():\n",
    "    thing1()\n",
    "    thing2()\n",
    "    thing3()\n",
    "    \n",
    "def thing1():\n",
    "    print('thing1')\n",
    "\n",
    "def thing2():\n",
    "    print('thing2')\n",
    "\n",
    "def thing3():\n",
    "    print('thing3')\n",
    "\n",
    "very_complex_thing()"
   ]
  },
  {
   "cell_type": "markdown",
   "id": "8f60fb8d-c853-403e-b3df-ebf4dca3b959",
   "metadata": {},
   "source": [
    "# Return values\n",
    "\n",
    "When I call some functions, I get a value back:\n",
    "\n",
    "    s = 'abcd')\n",
    "    len(s)       # this returns the integer 4\n",
    "    s.upper()    # this could return the string 'ABCD'\n",
    "\n",
    "When a function returns a value, I can do any of several things with it:\n",
    "\n",
    "- Print it\n",
    "- Assign it to a variable\n",
    "- Pass it to another function as an argument\n",
    "\n",
    "Right now, our functions cannot be used in this way because they *print* values, but they don't *return* values. \n",
    "\n",
    "Returning a value ≠ printing a value on the screen.\n",
    "\n",
    "A function can print as much as it wants, as often as it wants. But it only gets to return one value per call.  A function might have code that returns different values, and even different types, depending on circumstances. But in any one given invocation of the function, we'll only have one return value.\n",
    "\n",
    "How can our functions start to return values?\n",
    "\n",
    "They just need to use the `return` keyword. When Python hits `return` in a function, it immediately stops the function's execution and returns that value.\n",
    "\n"
   ]
  },
  {
   "cell_type": "code",
   "execution_count": 29,
   "id": "bba59cbc-0a6f-456d-882d-0d633854818c",
   "metadata": {},
   "outputs": [],
   "source": [
    "def hello():\n",
    "    name = input('Enter your name: ').strip()\n",
    "    return f'Hello, {name}'"
   ]
  },
  {
   "cell_type": "code",
   "execution_count": 30,
   "id": "784959d3-c9a6-4461-bcfa-35a2d8e759ce",
   "metadata": {},
   "outputs": [
    {
     "name": "stdin",
     "output_type": "stream",
     "text": [
      "Enter your name:  Reuven\n"
     ]
    },
    {
     "data": {
      "text/plain": [
       "'Hello, Reuven'"
      ]
     },
     "execution_count": 30,
     "metadata": {},
     "output_type": "execute_result"
    }
   ],
   "source": [
    "hello()"
   ]
  },
  {
   "cell_type": "code",
   "execution_count": 31,
   "id": "e0c990a1-cc98-48de-abe6-620098528474",
   "metadata": {},
   "outputs": [
    {
     "name": "stdin",
     "output_type": "stream",
     "text": [
      "Enter your name:  Reuven\n"
     ]
    },
    {
     "name": "stdout",
     "output_type": "stream",
     "text": [
      "Hello, Reuven\n"
     ]
    }
   ],
   "source": [
    "# here, I took the output / return value from hello, \n",
    "# and immediately pased it to print\n",
    "\n",
    "# first, the hello function runs, then it returns a string, then print displays that string\n",
    "print(hello())"
   ]
  },
  {
   "cell_type": "code",
   "execution_count": 32,
   "id": "a7d7efeb-75e7-46ee-b2e5-8b4330077688",
   "metadata": {},
   "outputs": [
    {
     "name": "stdin",
     "output_type": "stream",
     "text": [
      "Enter your name:  Reuven\n"
     ]
    },
    {
     "name": "stdout",
     "output_type": "stream",
     "text": [
      "Hello, Reuven\n"
     ]
    }
   ],
   "source": [
    "# the return value of hello() can be assigned to a variable\n",
    "\n",
    "s = hello()\n",
    "print(s)"
   ]
  },
  {
   "cell_type": "code",
   "execution_count": 33,
   "id": "e45757a1-51fe-43fa-aa2c-36e20d3e512f",
   "metadata": {},
   "outputs": [
    {
     "data": {
      "text/plain": [
       "'Hello, Reuven'"
      ]
     },
     "execution_count": 33,
     "metadata": {},
     "output_type": "execute_result"
    }
   ],
   "source": [
    "s"
   ]
  },
  {
   "cell_type": "markdown",
   "id": "ab4b8a60-65ba-4fff-88c5-10ac3a5d9f50",
   "metadata": {},
   "source": [
    "# Exercise: Calculator\n",
    "\n",
    "1. Write a function, `calc`, that when run asks the user to enter three things:\n",
    "    - first number\n",
    "    - operator (a string, either `+` or `-`\n",
    "    - second number\n",
    "2. Return the value you got from invoking the operator on the numbers.\n",
    "3. Assign the return value from `calc` to the variable `result`, and print it.\n",
    "\n",
    "Example:\n",
    "\n",
    "    result = calc()\n",
    "    Enter first number: 3\n",
    "    Enter operator: +\n",
    "    Enter second number: 10\n",
    "\n",
    "    print(result)\n",
    "    13"
   ]
  },
  {
   "cell_type": "markdown",
   "id": "1beaec9d-b022-4674-95c1-ea82789719bc",
   "metadata": {},
   "source": [
    "# Parameters\n",
    "\n",
    "The `calc` function we just wrote works... but it feels weird to call a function and then to have to enter values manually.\n",
    "\n",
    "It seems more reasonable for us to call the function and pass those values to it, and for those values to be assigned to variables in the function.\n",
    "\n",
    "The variables in the function are known as *parameters*. The values that we pass when we call a function are known as *arguments*. "
   ]
  },
  {
   "cell_type": "code",
   "execution_count": 34,
   "id": "0d5bf004-43f8-4f71-a068-f69160313a06",
   "metadata": {},
   "outputs": [],
   "source": [
    "def square(x):       # here, I've defined the function with one parameter\n",
    "    return x ** 2    # I know that the parameter has a value, and can use it"
   ]
  },
  {
   "cell_type": "code",
   "execution_count": 38,
   "id": "95529b4f-63b4-4457-9a49-926e3d869c97",
   "metadata": {},
   "outputs": [
    {
     "data": {
      "text/plain": [
       "25"
      ]
     },
     "execution_count": 38,
     "metadata": {},
     "output_type": "execute_result"
    }
   ],
   "source": [
    "# here, I call the square function with an integer argument, 5\n",
    "# Python assigns 5 to the parameter x\n",
    "# then the function body runs\n",
    "# then we get a result back\n",
    "\n",
    "square(5)"
   ]
  },
  {
   "cell_type": "code",
   "execution_count": 37,
   "id": "390895b1-1c05-4990-9cd6-da3afef4bdbb",
   "metadata": {},
   "outputs": [
    {
     "data": {
      "text/plain": [
       "152399025"
      ]
     },
     "execution_count": 37,
     "metadata": {},
     "output_type": "execute_result"
    }
   ],
   "source": [
    "# here, I call the square function with an integer argument, 12345\n",
    "# Python assigns 12345 to the parameter x\n",
    "# then the function body runs\n",
    "# then we get a result back\n",
    "\n",
    "square(12345)\n"
   ]
  },
  {
   "cell_type": "code",
   "execution_count": 39,
   "id": "d673e115-47bb-48fc-bb5c-c29d6be8527d",
   "metadata": {},
   "outputs": [
    {
     "ename": "TypeError",
     "evalue": "square() missing 1 required positional argument: 'x'",
     "output_type": "error",
     "traceback": [
      "\u001b[0;31m---------------------------------------------------------------------------\u001b[0m",
      "\u001b[0;31mTypeError\u001b[0m                                 Traceback (most recent call last)",
      "Cell \u001b[0;32mIn[39], line 4\u001b[0m\n\u001b[1;32m      1\u001b[0m \u001b[38;5;66;03m# what if I call a function with the wrong number of arguments?\u001b[39;00m\n\u001b[1;32m      2\u001b[0m \u001b[38;5;66;03m# that is, with fewer or more arguments than the number of parameters?\u001b[39;00m\n\u001b[0;32m----> 4\u001b[0m \u001b[43msquare\u001b[49m\u001b[43m(\u001b[49m\u001b[43m)\u001b[49m   \u001b[38;5;66;03m# no arguments!\u001b[39;00m\n",
      "\u001b[0;31mTypeError\u001b[0m: square() missing 1 required positional argument: 'x'"
     ]
    }
   ],
   "source": [
    "# what if I call a function with the wrong number of arguments?\n",
    "# that is, with fewer or more arguments than the number of parameters?\n",
    "\n",
    "square()   # no arguments!"
   ]
  },
  {
   "cell_type": "code",
   "execution_count": 40,
   "id": "763e8781-1103-478a-8edc-35f8142509d1",
   "metadata": {},
   "outputs": [
    {
     "ename": "TypeError",
     "evalue": "square() takes 1 positional argument but 2 were given",
     "output_type": "error",
     "traceback": [
      "\u001b[0;31m---------------------------------------------------------------------------\u001b[0m",
      "\u001b[0;31mTypeError\u001b[0m                                 Traceback (most recent call last)",
      "Cell \u001b[0;32mIn[40], line 1\u001b[0m\n\u001b[0;32m----> 1\u001b[0m \u001b[43msquare\u001b[49m\u001b[43m(\u001b[49m\u001b[38;5;241;43m10\u001b[39;49m\u001b[43m,\u001b[49m\u001b[43m \u001b[49m\u001b[38;5;241;43m20\u001b[39;49m\u001b[43m)\u001b[49m\n",
      "\u001b[0;31mTypeError\u001b[0m: square() takes 1 positional argument but 2 were given"
     ]
    }
   ],
   "source": [
    "square(10, 20)"
   ]
  },
  {
   "cell_type": "markdown",
   "id": "6a12a0be-ffa3-447a-b2b1-6406cdd84498",
   "metadata": {},
   "source": [
    "# Exercise: `calc` with arguments\n",
    "\n",
    "Rewrite `calc` such that it doesn't use `input` to get input from the user. Rather, it gets three arguments -- the first number, the operator, and the second number. It should still return the result it gets.\n",
    "\n",
    "Example:\n",
    "\n",
    "    value = calc(10, '+', 3)\n",
    "    print(value)  # should be 13"
   ]
  },
  {
   "cell_type": "markdown",
   "id": "69c694f4-fac9-4762-83f4-68a1d3346837",
   "metadata": {},
   "source": [
    "# Arguments and parameters\n",
    "\n",
    "When you define a function, much as when you define a variable, you're cutting the ties between that function name and any previous function by that name.\n",
    "\n",
    "This means that if you defined `hello` to take 0 arguments, and then you change `hello` to take two arguments, then any mention of `hello` will now be the two-argument version.  You can only have one version of a function at a time.\n",
    "\n",
    "Can we restrict the types of values that we pass to a function?  That is, let's say I have a function that works well with strings. Can I somehow tell Python that if someone tries to call it with a non-string type, it'll give an error?\n",
    "\n",
    "No. That doesn't exist."
   ]
  },
  {
   "cell_type": "code",
   "execution_count": 41,
   "id": "a6e77366-008f-4923-8a65-a60a82960b5c",
   "metadata": {},
   "outputs": [],
   "source": [
    "def hello(name):\n",
    "    return f'Hello, {name}!'"
   ]
  },
  {
   "cell_type": "code",
   "execution_count": 42,
   "id": "18f2f73a-9484-48ec-b1a1-f9c653d4c79a",
   "metadata": {},
   "outputs": [
    {
     "data": {
      "text/plain": [
       "'Hello, world!'"
      ]
     },
     "execution_count": 42,
     "metadata": {},
     "output_type": "execute_result"
    }
   ],
   "source": [
    "hello('world')\n"
   ]
  },
  {
   "cell_type": "code",
   "execution_count": 43,
   "id": "f4086841-586c-4e67-a348-ae63ec63dee9",
   "metadata": {},
   "outputs": [
    {
     "data": {
      "text/plain": [
       "'Hello, Reuven!'"
      ]
     },
     "execution_count": 43,
     "metadata": {},
     "output_type": "execute_result"
    }
   ],
   "source": [
    "hello('Reuven')"
   ]
  },
  {
   "cell_type": "code",
   "execution_count": 44,
   "id": "4933dfa3-ceea-4420-a8e2-7f5a51ceed03",
   "metadata": {},
   "outputs": [
    {
     "data": {
      "text/plain": [
       "'Hello, [10, 20, 30]!'"
      ]
     },
     "execution_count": 44,
     "metadata": {},
     "output_type": "execute_result"
    }
   ],
   "source": [
    "hello([10, 20, 30])"
   ]
  },
  {
   "cell_type": "code",
   "execution_count": 45,
   "id": "cfd15d64-ca4b-48b0-9309-b04690592483",
   "metadata": {},
   "outputs": [
    {
     "data": {
      "text/plain": [
       "'Hello, <function hello at 0x7fd2c66b1e10>!'"
      ]
     },
     "execution_count": 45,
     "metadata": {},
     "output_type": "execute_result"
    }
   ],
   "source": [
    "hello(hello)   # yes, we'll the function to itself."
   ]
  },
  {
   "cell_type": "markdown",
   "id": "502bbe77-a1dc-44ee-b100-9bb684a1a49a",
   "metadata": {},
   "source": [
    "# Exercise: `count_vowels_file`\n",
    "\n",
    "1. Define a function whose argument is a filename.\n",
    "2. The function will return an integer, the number of vowels in that file.\n",
    "3. This means you'll need to open the file, iterate over every line, then iteratve over every character in the line.\n",
    "4. Print the value returned by the function.\n",
    "\n",
    "`count_vowels_file('/etc/passwd')` -- it'll return an integer."
   ]
  },
  {
   "cell_type": "markdown",
   "id": "a6c6c0c0-ec43-470a-9861-f5c87ef6050c",
   "metadata": {},
   "source": [
    "# Next up:\n",
    "\n",
    "1. Local vs. global variables (functions)\n",
    "2. Modules\n",
    "    - What is a module?\n",
    "    - Importing from modules\n",
    "    - Python standard library\n",
    "    - PyPI and downloading packages\n",
    "    - Download via an API\n",
    "3. What's next + open Q&A"
   ]
  },
  {
   "cell_type": "markdown",
   "id": "11785d08-fe0a-42aa-82ab-adb9d7a2647c",
   "metadata": {},
   "source": [
    "# Local vs. global variables\n",
    "\n",
    "Without functions, all of the variables we define are known as \"globals.\" That means that any one part of our program can view and modify any variable.\n",
    "\n",
    "If we're collaborating on a software project, and I use the variable name `x`, and you use the variable name `x`, then we're going to have what's known as a *namespace collision*. Meaning, someone is going to lose, and it'll be very ugly.\n",
    "\n",
    "Functions solve this problem by keeping things local. Any variable you define or assign to in a function (i.e., inside of a function body) is totally separate from all global variables. This means that if two different functions both use `x` inside of their function bodies, neither affects the other -- because the variables only exist when the function runs. When the function returns, the variables go away.\n",
    "\n",
    "This means that when you're writing a function, you can largely ignore the variable names outside of the function.\n",
    "\n",
    "Parameters (the variables we declared at the top of the function) are local variables, too. They are automatically assigned values when we call the function, and their are also wiped away when the function exits."
   ]
  },
  {
   "cell_type": "code",
   "execution_count": 46,
   "id": "ab93f1e3-ddd3-4b37-af76-5089efd041bc",
   "metadata": {},
   "outputs": [
    {
     "name": "stdout",
     "output_type": "stream",
     "text": [
      "Before, x = 100\n",
      "x = 200\n",
      "After, x = 100\n"
     ]
    }
   ],
   "source": [
    "x = 100      # outside of a function -- so it must be global\n",
    "\n",
    "def myfunc():\n",
    "    x = 200  # inside of a function -- so it must be local\n",
    "    print(f'x = {x}')  # local variables, if they exist, get priority\n",
    "\n",
    "print(f'Before, x = {x}')    # we'll get the global\n",
    "myfunc()\n",
    "print(f'After, x = {x}')     # we'll get the global, because the function returned"
   ]
  },
  {
   "cell_type": "markdown",
   "id": "190f4cf0-41e7-47a1-932c-90d298a2b51c",
   "metadata": {},
   "source": [
    "# Modules\n",
    "\n",
    "DRY -- don't repeat yourself\n",
    "\n",
    "1. Several lines repeated -- replace with a loop!\n",
    "2. The same code repeated in multiple places -- replace with a function!\n",
    "3. The same code repeated in multiple *programs* -- use a library, known in Python as a \"module.\"\n",
    "\n",
    "Modules are Python's libraries. But they are also our *namespaces*, meaning that they ensure we don't have major namespace collisions.  \n",
    "\n"
   ]
  },
  {
   "cell_type": "code",
   "execution_count": null,
   "id": "a89c1915-598d-4596-a432-7b3128cfd7d5",
   "metadata": {},
   "outputs": [],
   "source": [
    "# if I want to generate a random integer between 0-100,\n",
    "# I can use the \"random\" module, and specifically the \"randint\"\n",
    "# function in the module.\n",
    "\n",
    "# first, I have to load the module\n",
    "import random\n",
    "\n",
    "# then any names defined in random.py are available as attributes of the module object\n",
    "# meaning, if \"random"
   ]
  }
 ],
 "metadata": {
  "kernelspec": {
   "display_name": "Python 3 (ipykernel)",
   "language": "python",
   "name": "python3"
  },
  "language_info": {
   "codemirror_mode": {
    "name": "ipython",
    "version": 3
   },
   "file_extension": ".py",
   "mimetype": "text/x-python",
   "name": "python",
   "nbconvert_exporter": "python",
   "pygments_lexer": "ipython3",
   "version": "3.10.12"
  }
 },
 "nbformat": 4,
 "nbformat_minor": 5
}
