{
 "cells": [
  {
   "cell_type": "markdown",
   "id": "2d7eb356-5e1c-4388-89f5-864c1e5a654c",
   "metadata": {},
   "source": [
    "# Agenda\n",
    "\n",
    "1. Recap + Q&A + Exercise\n",
    "2. Functions\n",
    "    - What are functions?\n",
    "    - How do we define functions?\n",
    "    - Arguments and parameters\n",
    "    - A little about local vs. global variables\n",
    "3. Modules and Packages\n",
    "    - Using the `import` statement to use a module\n",
    "    - Python standard library and its modules\n",
    "    - PyPI and packages you can download from the Internet\n",
    "    - `requests` and consuming APIs with JSON using Python"
   ]
  },
  {
   "cell_type": "markdown",
   "id": "4bc96775-1459-4b51-9d8c-ace2568ffcd0",
   "metadata": {},
   "source": [
    "# Recap from yesterday\n",
    "\n",
    "1. Dictionaries\n",
    "    - Key-value stores: Every key has a value, and every value has a key\n",
    "    - Keys are unique, but values aren't\n",
    "    - Keys must be immutable, but values can be anything\n",
    "    - We define a dict with `{}` -- empty braces are an empty dict.\n",
    "    - \n",
    "2. Files"
   ]
  }
 ],
 "metadata": {
  "kernelspec": {
   "display_name": "Python 3 (ipykernel)",
   "language": "python",
   "name": "python3"
  },
  "language_info": {
   "codemirror_mode": {
    "name": "ipython",
    "version": 3
   },
   "file_extension": ".py",
   "mimetype": "text/x-python",
   "name": "python",
   "nbconvert_exporter": "python",
   "pygments_lexer": "ipython3",
   "version": "3.10.12"
  }
 },
 "nbformat": 4,
 "nbformat_minor": 5
}
