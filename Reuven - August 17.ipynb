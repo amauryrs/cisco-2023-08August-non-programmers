{
 "cells": [
  {
   "cell_type": "markdown",
   "id": "2d7eb356-5e1c-4388-89f5-864c1e5a654c",
   "metadata": {},
   "source": [
    "# Agenda\n",
    "\n",
    "1. Recap + Q&A + Exercise\n",
    "2. Functions\n",
    "    - What are functions?\n",
    "    - How do we define functions?\n",
    "    - Arguments and parameters\n",
    "    - A little about local vs. global variables\n",
    "3. Modules and Packages\n",
    "    - Using the `import` statement to use a module\n",
    "    - Python standard library and its modules\n",
    "    - PyPI and packages you can download from the Internet\n",
    "    - `requests` and consuming APIs with JSON using Python"
   ]
  },
  {
   "cell_type": "markdown",
   "id": "4bc96775-1459-4b51-9d8c-ace2568ffcd0",
   "metadata": {},
   "source": [
    "# Recap from yesterday\n",
    "\n",
    "1. Dictionaries\n",
    "    - Key-value stores: Every key has a value, and every value has a key\n",
    "    - Keys are unique, but values aren't\n",
    "    - Keys must be immutable, but values can be anything\n",
    "    - We define a dict with `{}` -- empty braces are an empty dict.\n",
    "    - You can define a dict with keys and values by putting them in the braces: `{'a':10, 'b':[10, 20, 30], 'c':12.34}`\n",
    "    - You can retrieve from a dict using `[]` and the key you want: `d['a']`\n",
    "    - You can search in a dict's keys with the `in` operator\n",
    "    - You can assign to a dict via `=`, as in `d['a'] = 1234`\n",
    "        - If the key already exists, then the value is updated\n",
    "        - If the key doesn't yet exist, then the key-value pair is created\n",
    "    - Three paradigms for dict use\n",
    "        1. Define it at the top of the program, and use it as a read-only database. Examples: Months, countries, locations.\n",
    "        2. Define the dict with keys and initial values. We don't change the keys (adding or removing them), but we do update the values. This is useful for counters of various sorts.\n",
    "        3. Define an empty dict, and over time, add both keys and values. We saw the \"rainfall\" program, which used this.\n",
    "    - Iterating over dicts\n",
    "        - If you iterate over a dict, you get the keys\n",
    "        - You can (if you want) iterate over the result of invoking `dict.keys` or `dict.values`. The first is almost always a bad idea, and the second can be useful.\n",
    "        - You can also use `dict.items`, a method that returns a 2-element tuple with the key and value with each iteration. If you then iterate using unpacking, with `for key, value in d.items():`, that lets you iterate over keys and values, accessing them with variables, in a nice and compact way.\n",
    "2. Files\n",
    "    - To work with a file, you need to first open it by stating the filename. We do that with the `open` function.\n",
    "    - If we don't specify otherwise, then the file is opened in read-only mode.\n",
    "    - We can specify a second argument to `open`, either `'r'` (for reading) or `'w'` (for writing).\n",
    "    - Once we have a file object, we can get the contents of the file as a string with the `read` method. However, this returns the entire file's contents, which can be overwhelming -- to us or to our computers.\n",
    "    - A better way to read through a file is line by line, iterating over the file object\n",
    "    - Each line is a string, up to and including the next newline character in the file. Each string we get back from iterating is thus guaranteed to end with `\\n`.\n",
    "    - Once we have the string, we can analyze it, or even use `str.split` to break it into pieces.\n",
    "    - To write to a file, make sure to open it with the `'w'` option, and then use `file.write` to write strings to the file.  When you're done writing to the file, be sure to close it. Otherwise, it's unknown when the data you've written will actually be written to disk.\n",
    "    - It's common to use the `with` statement with files, because at the end of the `with` block, the file is automatically flushed and closed."
   ]
  },
  {
   "cell_type": "markdown",
   "id": "4967ab67-c56d-4fd0-b52e-dfad4a1215ac",
   "metadata": {},
   "source": [
    "# Exercise: Count characters\n",
    "\n",
    "The point of this program is to create a dictionary whose keys are characters and whose values indicate how many times each character appeared.\n",
    "\n",
    "We'll give the program the name of a file. Our program will read through the file, one line at a time, adding to the count for each character. So the end result will be a dict counting how often each character appears in the file.\n",
    "\n",
    "1. Define a variable `filename` that contains the name of a text file.\n",
    "2. Define a variable `counts`, an empty dict.\n",
    "3. Open and iterate over that file, one line at a time.\n",
    "4. Inside of that loop, start a new (inner/nested) loop, iterating over each character in the current line.\n",
    "    - If the character is already a key in `counts`, then just add 1 to the count\n",
    "    - If the character is not already a key in `counts`, then add the key and the value 1\n",
    "    - Note that we're counting all characters, including space, newline, etc.\n",
    "5. Iterate over the `counts` dict, printing all keys and values.\n",
    "\n",
    "Stage 1: Iterate over the lines of the file, and print them out."
   ]
  },
  {
   "cell_type": "code",
   "execution_count": 2,
   "id": "6f7132ce-c734-4281-8dfe-79e02a8c9d68",
   "metadata": {},
   "outputs": [],
   "source": [
    "# right now, all you need to do is\n",
    "# (a) define a variable with a filename\n",
    "# (b) open the named file, iterate over it one line at a time, and print the line"
   ]
  },
  {
   "cell_type": "code",
   "execution_count": 4,
   "id": "716f0978-b0d2-4b59-896d-c41aeb5d171e",
   "metadata": {},
   "outputs": [
    {
     "name": "stdout",
     "output_type": "stream",
     "text": [
      "This is a test file.\n",
      "\n",
      "\n",
      "\n",
      "It contains 28 words and 20 different words.\n",
      "\n",
      "\n",
      "\n",
      "It also contains 165 characters.\n",
      "\n",
      "\n",
      "\n",
      "It also contains 11 lines.\n",
      "\n",
      "\n",
      "\n",
      "It is also self-referential.\n",
      "\n",
      "\n",
      "\n",
      "Wow!\n",
      "\n"
     ]
    }
   ],
   "source": [
    "filename = 'wcfile.txt'    # in the same directory as Jupyter\n",
    "\n",
    "for one_line in open(filename):   # open the file + iterate over it in a for loop\n",
    "    print(one_line)               # print the current line from the file"
   ]
  },
  {
   "cell_type": "code",
   "execution_count": 5,
   "id": "592a1e97-ffed-4d34-8711-250a530839aa",
   "metadata": {},
   "outputs": [],
   "source": [
    "# stage 2: we want to count the characters\n",
    "# in order to do that, we need to get the characters\n",
    "\n",
    "# Given the code we already have, expand it such that we don't print each line\n",
    "# of the file, but rather we print each *character* in the file.\n",
    "# the result of printing each character will be a very very long, skinny line of characters\n"
   ]
  },
  {
   "cell_type": "code",
   "execution_count": null,
   "id": "6b8b39c6-a300-4419-a9a9-246181e492c9",
   "metadata": {},
   "outputs": [],
   "source": [
    "filename = 'wcfile.txt'    # in the same directory as Jupyter\n",
    "\n",
    "for one_line in open(filename):   # open the file + iterate over it in a for loop\n",
    "    print(one_line)               # print the current line from the file"
   ]
  },
  {
   "cell_type": "code",
   "execution_count": 7,
   "id": "e283bff7-37df-4a7d-ad97-f1158a0aa77b",
   "metadata": {},
   "outputs": [
    {
     "name": "stdout",
     "output_type": "stream",
     "text": [
      "t\n",
      "h\n",
      "i\n",
      "s\n",
      " \n",
      "i\n",
      "s\n",
      " \n",
      "a\n",
      " \n",
      "l\n",
      "i\n",
      "n\n",
      "e\n"
     ]
    }
   ],
   "source": [
    "# if I have a string, and I want to print every charcter\n",
    "# in that string, I can just use this kind of for loop:\n",
    "\n",
    "one_line = 'this is a line'\n",
    "\n",
    "for one_character in one_line:\n",
    "    print(one_character)"
   ]
  },
  {
   "cell_type": "code",
   "execution_count": 9,
   "id": "e59eb7ca-87f3-47fc-b86f-92bcb8ea97e9",
   "metadata": {
    "scrolled": true
   },
   "outputs": [
    {
     "name": "stdout",
     "output_type": "stream",
     "text": [
      "T\n",
      "h\n",
      "i\n",
      "s\n",
      " \n",
      "i\n",
      "s\n",
      " \n",
      "a\n",
      " \n",
      "t\n",
      "e\n",
      "s\n",
      "t\n",
      " \n",
      "f\n",
      "i\n",
      "l\n",
      "e\n",
      ".\n",
      "\n",
      "\n",
      "\n",
      "\n",
      "I\n",
      "t\n",
      " \n",
      "c\n",
      "o\n",
      "n\n",
      "t\n",
      "a\n",
      "i\n",
      "n\n",
      "s\n",
      " \n",
      "2\n",
      "8\n",
      " \n",
      "w\n",
      "o\n",
      "r\n",
      "d\n",
      "s\n",
      " \n",
      "a\n",
      "n\n",
      "d\n",
      " \n",
      "2\n",
      "0\n",
      " \n",
      "d\n",
      "i\n",
      "f\n",
      "f\n",
      "e\n",
      "r\n",
      "e\n",
      "n\n",
      "t\n",
      " \n",
      "w\n",
      "o\n",
      "r\n",
      "d\n",
      "s\n",
      ".\n",
      "\n",
      "\n",
      "\n",
      "\n",
      "I\n",
      "t\n",
      " \n",
      "a\n",
      "l\n",
      "s\n",
      "o\n",
      " \n",
      "c\n",
      "o\n",
      "n\n",
      "t\n",
      "a\n",
      "i\n",
      "n\n",
      "s\n",
      " \n",
      "1\n",
      "6\n",
      "5\n",
      " \n",
      "c\n",
      "h\n",
      "a\n",
      "r\n",
      "a\n",
      "c\n",
      "t\n",
      "e\n",
      "r\n",
      "s\n",
      ".\n",
      "\n",
      "\n",
      "\n",
      "\n",
      "I\n",
      "t\n",
      " \n",
      "a\n",
      "l\n",
      "s\n",
      "o\n",
      " \n",
      "c\n",
      "o\n",
      "n\n",
      "t\n",
      "a\n",
      "i\n",
      "n\n",
      "s\n",
      " \n",
      "1\n",
      "1\n",
      " \n",
      "l\n",
      "i\n",
      "n\n",
      "e\n",
      "s\n",
      ".\n",
      "\n",
      "\n",
      "\n",
      "\n",
      "I\n",
      "t\n",
      " \n",
      "i\n",
      "s\n",
      " \n",
      "a\n",
      "l\n",
      "s\n",
      "o\n",
      " \n",
      "s\n",
      "e\n",
      "l\n",
      "f\n",
      "-\n",
      "r\n",
      "e\n",
      "f\n",
      "e\n",
      "r\n",
      "e\n",
      "n\n",
      "t\n",
      "i\n",
      "a\n",
      "l\n",
      ".\n",
      "\n",
      "\n",
      "\n",
      "\n",
      "W\n",
      "o\n",
      "w\n",
      "!\n",
      "\n",
      "\n"
     ]
    }
   ],
   "source": [
    "filename = 'wcfile.txt'    # in the same directory as Jupyter\n",
    "\n",
    "for one_line in open(filename):   # iterating over a file -- we get strings, the lines in a file\n",
    "    for char in one_line:         # iterating over a string -- we get characters\n",
    "        print(char)               "
   ]
  },
  {
   "cell_type": "code",
   "execution_count": 11,
   "id": "410f55b1-c94c-48c9-9558-57d21deb7a27",
   "metadata": {},
   "outputs": [
    {
     "name": "stdout",
     "output_type": "stream",
     "text": [
      "{'T': 1, 'h': 2, 'i': 10, 's': 15, ' ': 22, 'a': 11, 't': 12, 'e': 10, 'f': 5, 'l': 7, '.': 5, '\\n': 11, 'I': 4, 'c': 5, 'o': 9, 'n': 10, '2': 2, '8': 1, 'w': 3, 'r': 7, 'd': 4, '0': 1, '1': 3, '6': 1, '5': 1, '-': 1, 'W': 1, '!': 1}\n"
     ]
    }
   ],
   "source": [
    "# stage 3\n",
    "# we have this code.\n",
    "# as we go through each character, don't print it -- rather, either update the\n",
    "# existing count for that character in the dict, or add it with a count of 1\n",
    "\n",
    "filename = 'wcfile.txt'    # in the same directory as Jupyter\n",
    "counts = {}                # this where we'll keep a count of each character\n",
    "\n",
    "for one_line in open(filename):   # iterating over a file -- we get strings, the lines in a file\n",
    "    for char in one_line:         # iterating over a string -- we get characters\n",
    "\n",
    "        # check to see if the character is already a key in the dict\n",
    "        # if it is, then just +1 on the count\n",
    "        # if it isn't, then add the key-value pair -- the character, and the count of 1\n",
    "        if char in counts:\n",
    "            counts[char] += 1   # we've seen this char before -- just increment the count\n",
    "        else:\n",
    "            counts[char] = 1    # we've never seen this char before -- add it, with a count of 1\n",
    "\n",
    "print(counts)"
   ]
  },
  {
   "cell_type": "code",
   "execution_count": 12,
   "id": "955df14f-b2bf-489d-bc06-aefb6fc6b64f",
   "metadata": {},
   "outputs": [
    {
     "data": {
      "text/plain": [
       "15"
      ]
     },
     "execution_count": 12,
     "metadata": {},
     "output_type": "execute_result"
    }
   ],
   "source": [
    "counts['s']"
   ]
  },
  {
   "cell_type": "code",
   "execution_count": 13,
   "id": "21dc3c1f-3f44-48c4-ae86-80d7230eb5b2",
   "metadata": {},
   "outputs": [
    {
     "data": {
      "text/plain": [
       "22"
      ]
     },
     "execution_count": 13,
     "metadata": {},
     "output_type": "execute_result"
    }
   ],
   "source": [
    "counts[' ']"
   ]
  },
  {
   "cell_type": "code",
   "execution_count": 15,
   "id": "0f978f3e-e212-45bb-beb7-d74b9b430dff",
   "metadata": {},
   "outputs": [
    {
     "name": "stdout",
     "output_type": "stream",
     "text": [
      "T: 1\n",
      "h: 2\n",
      "i: 10\n",
      "s: 15\n",
      " : 22\n",
      "a: 11\n",
      "t: 12\n",
      "e: 10\n",
      "f: 5\n",
      "l: 7\n",
      ".: 5\n",
      "\n",
      ": 11\n",
      "I: 4\n",
      "c: 5\n",
      "o: 9\n",
      "n: 10\n",
      "2: 2\n",
      "8: 1\n",
      "w: 3\n",
      "r: 7\n",
      "d: 4\n",
      "0: 1\n",
      "1: 3\n",
      "6: 1\n",
      "5: 1\n",
      "-: 1\n",
      "W: 1\n",
      "!: 1\n"
     ]
    }
   ],
   "source": [
    "# stage 4\n",
    "# now, instead of printing counts all at once, iterate through it\n",
    "# and print each key-value pair on a line by itself\n",
    "\n",
    "# setup\n",
    "filename = 'wcfile.txt'    # in the same directory as Jupyter\n",
    "counts = {}                # this where we'll keep a count of each character\n",
    "\n",
    "# calculation\n",
    "for one_line in open(filename):   # iterating over a file -- we get strings, the lines in a file\n",
    "    for char in one_line:         # iterating over a string -- we get characters\n",
    "\n",
    "        # check to see if the character is already a key in the dict\n",
    "        # if it is, then just +1 on the count\n",
    "        # if it isn't, then add the key-value pair -- the character, and the count of 1\n",
    "        if char in counts:\n",
    "            counts[char] += 1   # we've seen this char before -- just increment the count\n",
    "        else:\n",
    "            counts[char] = 1    # we've never seen this char before -- add it, with a count of 1\n",
    "\n",
    "# report\n",
    "for key, value in counts.items():   # each iteration of items returns (key, value)\n",
    "    print(f'{key}: {value}')"
   ]
  },
  {
   "cell_type": "markdown",
   "id": "040cfaae-0d80-4d89-98fc-bfd546e480b4",
   "metadata": {},
   "source": [
    "# Exercise: IP counts\n",
    "\n",
    "There's a file called `mini-access-log.txt` in the same directory as Jupyter. It contains about 200 lines of log information from an old Web server. Each line starts with an IP address. We don't care about the rest of the line!\n",
    "\n",
    "1. Create an empty dict.\n",
    "2. Iterate over this file, one line at a time.\n",
    "3. Grab the IP address from the start of each line.\n",
    "4. If we have seen this IP address before, add to its count.\n",
    "5. If we have never seen this IP address before, add it to the dict with a value of 1.\n",
    "6. When we get to the end of the file, we will have a dict whose keys are IP addresses (strings) and whose values are integers (counts), indicating how often each IP address was accessing our server.\n",
    "7. Use a `for` loop to iterate over the dict and print each IP address and count.\""
   ]
  },
  {
   "cell_type": "code",
   "execution_count": 16,
   "id": "d86a069f-3756-46ae-b5a4-ea6329d41d89",
   "metadata": {},
   "outputs": [
    {
     "name": "stdout",
     "output_type": "stream",
     "text": [
      "67.218.116.165 - - [30/Jan/2010:00:03:18 +0200] \"GET /robots.txt HTTP/1.0\" 200 99 \"-\" \"Mozilla/5.0 (Twiceler-0.9 http://www.cuil.com/twiceler/robot.html)\"\n",
      "66.249.71.65 - - [30/Jan/2010:00:12:06 +0200] \"GET /browse/one_node/1557 HTTP/1.1\" 200 39208 \"-\" \"Mozilla/5.0 (compatible; Googlebot/2.1; +http://www.google.com/bot.html)\"\n",
      "65.55.106.183 - - [30/Jan/2010:01:29:23 +0200] \"GET /robots.txt HTTP/1.1\" 200 99 \"-\" \"msnbot/2.0b (+http://search.msn.com/msnbot.htm)\"\n",
      "65.55.106.183 - - [30/Jan/2010:01:30:06 +0200] \"GET /browse/one_model/2162 HTTP/1.1\" 200 2181 \"-\" \"msnbot/2.0b (+http://search.msn.com/msnbot.htm)\"\n",
      "66.249.71.65 - - [30/Jan/2010:02:07:14 +0200] \"GET /browse/browse_applet_tab/2593 HTTP/1.1\" 200 10305 \"-\" \"Mozilla/5.0 (compatible; Googlebot/2.1; +http://www.google.com/bot.html)\"\n",
      "66.249.71.65 - - [30/Jan/2010:02:10:39 +0200] \"GET /browse/browse_files_tab/2499?tab=true HTTP/1.1\" 200 446 \"-\" \"Mozilla/5.0 (compatible; Googlebot/2.1; +http://www.google.com/bot.html)\"\n",
      "66.249.65.12 - - [30/Jan/2010:03:13:34 +0200] \"GET /robots.txt HTTP/1.1\" 200 99 \"-\" \"Mozilla/5.0 (compatible; Googlebot/2.1; +http://www.google.com/bot.html)\"\n",
      "66.249.65.12 - - [30/Jan/2010:03:13:34 +0200] \"GET /browse/one_node/2715 HTTP/1.1\" 200 26433 \"-\" \"Mozilla/5.0 (compatible; Googlebot/2.1; +http://www.google.com/bot.html)\"\n",
      "66.249.65.12 - - [30/Jan/2010:03:43:39 +0200] \"GET /browse/download_model/1969 HTTP/1.1\" 200 31713 \"-\" \"Mozilla/5.0 (compatible; Googlebot/2.1; +http://www.google.com/bot.html)\"\n",
      "66.249.65.12 - - [30/Jan/2010:04:05:43 +0200] \"GET /browse/one_node/1406 HTTP/1.1\" 302 118 \"-\" \"Mozilla/5.0 (compatible; Googlebot/2.1; +http://www.google.com/bot.html)\"\n"
     ]
    }
   ],
   "source": [
    "!head mini-access-log.txt"
   ]
  },
  {
   "cell_type": "code",
   "execution_count": null,
   "id": "3c1916c3-0a11-42a4-8487-f32b74bd987d",
   "metadata": {},
   "outputs": [],
   "source": [
    "# setup\n",
    "counts = {}  # empty dict, soon to be filled with IP:count pairs\n",
    "\n",
    "# calculations\n",
    "for one_line in open('mini-access-log.txt'):\n",
    "    print(one_line)\n",
    "\n",
    "# report\n",
    "print(counts)"
   ]
  }
 ],
 "metadata": {
  "kernelspec": {
   "display_name": "Python 3 (ipykernel)",
   "language": "python",
   "name": "python3"
  },
  "language_info": {
   "codemirror_mode": {
    "name": "ipython",
    "version": 3
   },
   "file_extension": ".py",
   "mimetype": "text/x-python",
   "name": "python",
   "nbconvert_exporter": "python",
   "pygments_lexer": "ipython3",
   "version": "3.10.12"
  }
 },
 "nbformat": 4,
 "nbformat_minor": 5
}
