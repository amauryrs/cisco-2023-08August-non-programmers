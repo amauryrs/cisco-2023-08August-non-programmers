{
 "cells": [
  {
   "cell_type": "code",
   "execution_count": 1,
   "id": "fb327212-1aa5-4475-bd8e-5abb34b9ef3c",
   "metadata": {},
   "outputs": [
    {
     "data": {
      "text/plain": [
       "dict"
      ]
     },
     "execution_count": 1,
     "metadata": {},
     "output_type": "execute_result"
    }
   ],
   "source": [
    "#Dictionaries\n",
    "#define a simple one\n",
    "\n",
    "d = {'a':100, 'b':200, 'c':300}\n",
    "type(d)"
   ]
  },
  {
   "cell_type": "code",
   "execution_count": 2,
   "id": "b449fac0-f7d5-42f3-bb79-81f89185fcb0",
   "metadata": {},
   "outputs": [
    {
     "data": {
      "text/plain": [
       "100"
      ]
     },
     "execution_count": 2,
     "metadata": {},
     "output_type": "execute_result"
    }
   ],
   "source": [
    "#to retrieve from a dict?\n",
    "# user []\n",
    "\n",
    "d['a'] # put a key in the square brackets key = indexes"
   ]
  },
  {
   "cell_type": "code",
   "execution_count": 3,
   "id": "6e55f0f7-0c9b-4534-b73e-005b8ebc2e59",
   "metadata": {},
   "outputs": [
    {
     "data": {
      "text/plain": [
       "200"
      ]
     },
     "execution_count": 3,
     "metadata": {},
     "output_type": "execute_result"
    }
   ],
   "source": [
    "#can I use a variable? yes\n",
    "\n",
    "k = 'b'\n",
    "d[k]"
   ]
  },
  {
   "cell_type": "code",
   "execution_count": null,
   "id": "c516d376-98d9-4580-9e3e-ff7dbbad5383",
   "metadata": {},
   "outputs": [],
   "source": [
    "Here, see that we can retrieve a value based on the key\n"
   ]
  }
 ],
 "metadata": {
  "kernelspec": {
   "display_name": "Python 3 (ipykernel)",
   "language": "python",
   "name": "python3"
  },
  "language_info": {
   "codemirror_mode": {
    "name": "ipython",
    "version": 3
   },
   "file_extension": ".py",
   "mimetype": "text/x-python",
   "name": "python",
   "nbconvert_exporter": "python",
   "pygments_lexer": "ipython3",
   "version": "3.10.12"
  }
 },
 "nbformat": 4,
 "nbformat_minor": 5
}
