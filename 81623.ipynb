{
 "cells": [
  {
   "cell_type": "code",
   "execution_count": 1,
   "id": "fb327212-1aa5-4475-bd8e-5abb34b9ef3c",
   "metadata": {},
   "outputs": [
    {
     "data": {
      "text/plain": [
       "dict"
      ]
     },
     "execution_count": 1,
     "metadata": {},
     "output_type": "execute_result"
    }
   ],
   "source": [
    "#Dictionaries\n",
    "#define a simple one\n",
    "\n",
    "d = {'a':100, 'b':200, 'c':300}\n",
    "type(d)"
   ]
  },
  {
   "cell_type": "code",
   "execution_count": 2,
   "id": "b449fac0-f7d5-42f3-bb79-81f89185fcb0",
   "metadata": {},
   "outputs": [
    {
     "data": {
      "text/plain": [
       "100"
      ]
     },
     "execution_count": 2,
     "metadata": {},
     "output_type": "execute_result"
    }
   ],
   "source": [
    "#to retrieve from a dict?\n",
    "# user []\n",
    "\n",
    "d['a'] # put a key in the square brackets key = indexes"
   ]
  },
  {
   "cell_type": "code",
   "execution_count": 3,
   "id": "6e55f0f7-0c9b-4534-b73e-005b8ebc2e59",
   "metadata": {},
   "outputs": [
    {
     "data": {
      "text/plain": [
       "200"
      ]
     },
     "execution_count": 3,
     "metadata": {},
     "output_type": "execute_result"
    }
   ],
   "source": [
    "#can I use a variable? yes\n",
    "\n",
    "k = 'b'\n",
    "d[k]"
   ]
  },
  {
   "cell_type": "code",
   "execution_count": 4,
   "id": "c516d376-98d9-4580-9e3e-ff7dbbad5383",
   "metadata": {},
   "outputs": [
    {
     "data": {
      "text/plain": [
       "True"
      ]
     },
     "execution_count": 4,
     "metadata": {},
     "output_type": "execute_result"
    }
   ],
   "source": [
    "#Here, see that we can retrieve a value based on the key\n",
    "#can we retrieve a key based on value? No Dict is a one-ways street\n",
    "#choose keys well so that they'll work for your purposes\n",
    "\n",
    "#check if key is in a dict?, us in operator, it doesn't check values, only keys\n",
    "\n",
    "'a' in d # is 'a' a key in d?"
   ]
  },
  {
   "cell_type": "code",
   "execution_count": 5,
   "id": "aad77104-7294-40ad-80e8-08f482be2ff0",
   "metadata": {},
   "outputs": [
    {
     "data": {
      "text/plain": [
       "False"
      ]
     },
     "execution_count": 5,
     "metadata": {},
     "output_type": "execute_result"
    }
   ],
   "source": [
    "'x' in d"
   ]
  },
  {
   "cell_type": "code",
   "execution_count": 9,
   "id": "35c63dbc-569a-4f9e-aa68-d477e9b4b91c",
   "metadata": {},
   "outputs": [
    {
     "name": "stdin",
     "output_type": "stream",
     "text": [
      "Please order! burger\n"
     ]
    },
    {
     "name": "stdout",
     "output_type": "stream",
     "text": [
      "price is 12; total is 12\n"
     ]
    },
    {
     "name": "stdin",
     "output_type": "stream",
     "text": [
      "Please order! steak\n"
     ]
    },
    {
     "name": "stdout",
     "output_type": "stream",
     "text": [
      "We are out of steak\n"
     ]
    },
    {
     "name": "stdin",
     "output_type": "stream",
     "text": [
      "Please order! drink\n"
     ]
    },
    {
     "name": "stdout",
     "output_type": "stream",
     "text": [
      "price is 3; total is 15\n"
     ]
    },
    {
     "name": "stdin",
     "output_type": "stream",
     "text": [
      "Please order! fries\n"
     ]
    },
    {
     "name": "stdout",
     "output_type": "stream",
     "text": [
      "price is 5; total is 20\n"
     ]
    },
    {
     "name": "stdin",
     "output_type": "stream",
     "text": [
      "Please order! salmon\n"
     ]
    },
    {
     "name": "stdout",
     "output_type": "stream",
     "text": [
      "price is 22; total is 42\n"
     ]
    },
    {
     "name": "stdin",
     "output_type": "stream",
     "text": [
      "Please order! \n"
     ]
    },
    {
     "name": "stdout",
     "output_type": "stream",
     "text": [
      "Total is 42\n"
     ]
    }
   ],
   "source": [
    "#First paradigm of dict use: Define once, and treat as read-only database\n",
    "#setup\n",
    "menu = {'burger':12, 'fries':5, 'drink':3, 'salmon':22}\n",
    "\n",
    "total = 0\n",
    "\n",
    "#calculation\n",
    "while True:\n",
    "    order = input('Please order!').strip()\n",
    "    #take whatever\n",
    "    if order == '':\n",
    "        break\n",
    "    \n",
    "    if order in menu:\n",
    "        price = menu[order] #retrieve the price from the menu, and assign to the price\n",
    "        total += price\n",
    "        print(f'price is {price}; total is {total}')\n",
    "    else:\n",
    "        print(f'We are out of {order}')\n",
    "\n",
    "#report\n",
    "print(f'Total is {total}')"
   ]
  },
  {
   "cell_type": "code",
   "execution_count": 10,
   "id": "712c99ce-ecd3-4c89-a0a8-999f3f72e505",
   "metadata": {},
   "outputs": [],
   "source": [
    "#define a dict:\n",
    "\n",
    "d = {'a':100, 'b':200, 'c':300}\n",
    "\n",
    "#dictionaries are mutable, like lists!\n",
    "#change value, naming key\n",
    "\n",
    "d['c'] = 999"
   ]
  },
  {
   "cell_type": "code",
   "execution_count": 11,
   "id": "cc8aafc2-d86c-4cb0-97df-1fe6627bf803",
   "metadata": {},
   "outputs": [
    {
     "data": {
      "text/plain": [
       "{'a': 100, 'b': 200, 'c': 999}"
      ]
     },
     "execution_count": 11,
     "metadata": {},
     "output_type": "execute_result"
    }
   ],
   "source": [
    "d"
   ]
  },
  {
   "cell_type": "code",
   "execution_count": 12,
   "id": "bb6028b8-515b-4db8-81ee-e350a14f79c4",
   "metadata": {},
   "outputs": [
    {
     "data": {
      "text/plain": [
       "{'a': 100, 'b': 200, 'c': 999, 'x': 345}"
      ]
     },
     "execution_count": 12,
     "metadata": {},
     "output_type": "execute_result"
    }
   ],
   "source": [
    "#update dictionary\n",
    "d['x'] = 345\n",
    "d"
   ]
  },
  {
   "cell_type": "code",
   "execution_count": 13,
   "id": "f312684d-f81e-4691-a512-5045357c09a8",
   "metadata": {},
   "outputs": [
    {
     "data": {
      "text/plain": [
       "345"
      ]
     },
     "execution_count": 13,
     "metadata": {},
     "output_type": "execute_result"
    }
   ],
   "source": [
    "d.pop('x') #remove a key"
   ]
  },
  {
   "cell_type": "code",
   "execution_count": 14,
   "id": "6163c9fa-dc72-4aaf-950d-b0ccaa4a94d9",
   "metadata": {},
   "outputs": [
    {
     "data": {
      "text/plain": [
       "{'a': 100, 'b': 200, 'c': 999}"
      ]
     },
     "execution_count": 14,
     "metadata": {},
     "output_type": "execute_result"
    }
   ],
   "source": [
    "d"
   ]
  },
  {
   "cell_type": "code",
   "execution_count": 22,
   "id": "e903e648-3f5b-4a29-8575-bcc5842f19c9",
   "metadata": {},
   "outputs": [
    {
     "name": "stdin",
     "output_type": "stream",
     "text": [
      "Enter a string:  hello123!\n"
     ]
    },
    {
     "name": "stdout",
     "output_type": "stream",
     "text": [
      "{'digits': 3, 'vowels': 2, 'others': 4}\n"
     ]
    }
   ],
   "source": [
    "#Second paradigm of dicts: Keys don't change, but values do\n",
    "\n",
    "counts = {'digits':0, 'vowels':0, 'others':0}\n",
    "\n",
    "\n",
    "s = input('Enter a string: ').strip()\n",
    "\n",
    "for one_character in s:\n",
    "    if one_character.isdigit():\n",
    "        counts['digits'] += 1\n",
    "    elif one_character in 'aeiou':\n",
    "        counts['vowels'] += 1\n",
    "    else:\n",
    "        counts['others'] += 1\n",
    "print(counts)\n",
    "\n",
    "            \n",
    "     \n",
    "\n",
    "\n",
    "            "
   ]
  },
  {
   "cell_type": "code",
   "execution_count": 24,
   "id": "3939c683-6c57-4438-b4c3-4ca011b87287",
   "metadata": {},
   "outputs": [
    {
     "ename": "NameError",
     "evalue": "name 'one_key' is not defined",
     "output_type": "error",
     "traceback": [
      "\u001b[0;31m---------------------------------------------------------------------------\u001b[0m",
      "\u001b[0;31mNameError\u001b[0m                                 Traceback (most recent call last)",
      "Cell \u001b[0;32mIn[24], line 8\u001b[0m\n\u001b[1;32m      5\u001b[0m d \u001b[38;5;241m=\u001b[39m {\u001b[38;5;124m'\u001b[39m\u001b[38;5;124ma\u001b[39m\u001b[38;5;124m'\u001b[39m:\u001b[38;5;241m100\u001b[39m, \u001b[38;5;124m'\u001b[39m\u001b[38;5;124mb\u001b[39m\u001b[38;5;124m'\u001b[39m:\u001b[38;5;241m200\u001b[39m, \u001b[38;5;124m'\u001b[39m\u001b[38;5;124mc\u001b[39m\u001b[38;5;124m'\u001b[39m:\u001b[38;5;241m300\u001b[39m}\n\u001b[1;32m      7\u001b[0m \u001b[38;5;28;01mfor\u001b[39;00m one_item \u001b[38;5;129;01min\u001b[39;00m d:\n\u001b[0;32m----> 8\u001b[0m     \u001b[38;5;28mprint\u001b[39m(\u001b[38;5;124mf\u001b[39m\u001b[38;5;124m'\u001b[39m\u001b[38;5;132;01m{\u001b[39;00m\u001b[43mone_key\u001b[49m\u001b[38;5;132;01m}\u001b[39;00m\u001b[38;5;124m: \u001b[39m\u001b[38;5;132;01m{\u001b[39;00md[one_key]\u001b[38;5;132;01m}\u001b[39;00m\u001b[38;5;124m'\u001b[39m)\n",
      "\u001b[0;31mNameError\u001b[0m: name 'one_key' is not defined"
     ]
    }
   ],
   "source": [
    "#Iterating over dicts\n",
    "#Paradigm 3 for dicts -- adding keys and values over\n",
    "#iterating over a string, gives us the characters, one at a time\n",
    "#iterating over alist or tuple givues us the elements, one at a time\n",
    "d = {'a':100, 'b':200, 'c':300}\n",
    "\n",
    "for one_item in d:\n",
    "    print(f'{one_key}: {d[one_key]}')"
   ]
  },
  {
   "cell_type": "code",
   "execution_count": 25,
   "id": "441e4e9e-ef57-428c-b33a-f340459542bb",
   "metadata": {},
   "outputs": [
    {
     "name": "stdout",
     "output_type": "stream",
     "text": [
      "c: 300\n"
     ]
    }
   ],
   "source": [
    "#d.items() returns, with each iteration, a tuple of (key, value)\n",
    "for t in d.items():\n",
    "    key, value = t #unpacking\n",
    "print(f'{key}: {value}')"
   ]
  },
  {
   "cell_type": "code",
   "execution_count": 26,
   "id": "c6e8e569-bc05-4adc-9fea-3336fb330a1e",
   "metadata": {},
   "outputs": [
    {
     "name": "stdout",
     "output_type": "stream",
     "text": [
      "a: 100\n",
      "b: 200\n",
      "c: 300\n"
     ]
    }
   ],
   "source": [
    "#unpack inside of the loop: best way to iterate over a dict\n",
    "for key, value in d.items():\n",
    "    print(f'{key}: {value}')"
   ]
  },
  {
   "cell_type": "code",
   "execution_count": 32,
   "id": "e599f225-4390-45f4-a116-e2098b102219",
   "metadata": {},
   "outputs": [
    {
     "name": "stdin",
     "output_type": "stream",
     "text": [
      "Enter a city name:  tel aviv\n",
      "Enter mm rain 4\n"
     ]
    },
    {
     "name": "stdout",
     "output_type": "stream",
     "text": [
      "tel aviv: 4\n"
     ]
    },
    {
     "name": "stdin",
     "output_type": "stream",
     "text": [
      "Enter a city name:  boston\n",
      "Enter mm rain 5\n"
     ]
    },
    {
     "name": "stdout",
     "output_type": "stream",
     "text": [
      "tel aviv: 4\n",
      "boston: 5\n"
     ]
    },
    {
     "name": "stdin",
     "output_type": "stream",
     "text": [
      "Enter a city name:  \n"
     ]
    }
   ],
   "source": [
    "#Paradigm 3 for dict: Start empty, and grow from there adding keys as necessary and updating values as necessary\n",
    "#setup\n",
    "\n",
    "rainfall = {}\n",
    "\n",
    "while True:\n",
    "    city = input('Enter a city name: ').strip()\n",
    "    if city == '':\n",
    "        break\n",
    "    mm_rain = input('Enter mm rain').strip()\n",
    "    mm_rain = int(mm_rain)\n",
    "    if city in rainfall: #does this key exist?\n",
    "        rainfall[city] += mm_rian\n",
    "    else: #if the key doesn't exist yet...\n",
    "        rainfall[city] = mm_rain\n",
    "\n",
    "    #dict.itmes returns (sort of) a list of 2 element tuples, with (key, value)\n",
    "    for key, value in rainfall.items():\n",
    "        print(f'{key}: {value}')\n",
    "          \n",
    "    "
   ]
  },
  {
   "cell_type": "code",
   "execution_count": null,
   "id": "b987e7f4-79fc-421a-8132-f829fa4e9aba",
   "metadata": {},
   "outputs": [],
   "source": [
    "oe = {'odds':[], 'evens':[]}\n",
    "\n",
    "s = input('Enter numbers separated by spaces: ').strip()\n",
    "\n",
    "#calculations\n",
    "\n",
    "for one_character in s.split:\n",
    "    if one_character.isdigit():\n",
    "        oe['odds'].append()"
   ]
  }
 ],
 "metadata": {
  "kernelspec": {
   "display_name": "Python 3 (ipykernel)",
   "language": "python",
   "name": "python3"
  },
  "language_info": {
   "codemirror_mode": {
    "name": "ipython",
    "version": 3
   },
   "file_extension": ".py",
   "mimetype": "text/x-python",
   "name": "python",
   "nbconvert_exporter": "python",
   "pygments_lexer": "ipython3",
   "version": "3.10.12"
  }
 },
 "nbformat": 4,
 "nbformat_minor": 5
}
