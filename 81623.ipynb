{
 "cells": [
  {
   "cell_type": "code",
   "execution_count": 1,
   "id": "fb327212-1aa5-4475-bd8e-5abb34b9ef3c",
   "metadata": {},
   "outputs": [
    {
     "data": {
      "text/plain": [
       "dict"
      ]
     },
     "execution_count": 1,
     "metadata": {},
     "output_type": "execute_result"
    }
   ],
   "source": [
    "#Dictionaries\n",
    "#define a simple one\n",
    "\n",
    "d = {'a':100, 'b':200, 'c':300}\n",
    "type(d)"
   ]
  },
  {
   "cell_type": "code",
   "execution_count": 2,
   "id": "b449fac0-f7d5-42f3-bb79-81f89185fcb0",
   "metadata": {},
   "outputs": [
    {
     "data": {
      "text/plain": [
       "100"
      ]
     },
     "execution_count": 2,
     "metadata": {},
     "output_type": "execute_result"
    }
   ],
   "source": [
    "#to retrieve from a dict?\n",
    "# user []\n",
    "\n",
    "d['a'] # put a key in the square brackets key = indexes"
   ]
  },
  {
   "cell_type": "code",
   "execution_count": 3,
   "id": "6e55f0f7-0c9b-4534-b73e-005b8ebc2e59",
   "metadata": {},
   "outputs": [
    {
     "data": {
      "text/plain": [
       "200"
      ]
     },
     "execution_count": 3,
     "metadata": {},
     "output_type": "execute_result"
    }
   ],
   "source": [
    "#can I use a variable? yes\n",
    "\n",
    "k = 'b'\n",
    "d[k]"
   ]
  },
  {
   "cell_type": "code",
   "execution_count": 4,
   "id": "c516d376-98d9-4580-9e3e-ff7dbbad5383",
   "metadata": {},
   "outputs": [
    {
     "data": {
      "text/plain": [
       "True"
      ]
     },
     "execution_count": 4,
     "metadata": {},
     "output_type": "execute_result"
    }
   ],
   "source": [
    "#Here, see that we can retrieve a value based on the key\n",
    "#can we retrieve a key based on value? No Dict is a one-ways street\n",
    "#choose keys well so that they'll work for your purposes\n",
    "\n",
    "#check if key is in a dict?, us in operator, it doesn't check values, only keys\n",
    "\n",
    "'a' in d # is 'a' a key in d?"
   ]
  },
  {
   "cell_type": "code",
   "execution_count": 5,
   "id": "aad77104-7294-40ad-80e8-08f482be2ff0",
   "metadata": {},
   "outputs": [
    {
     "data": {
      "text/plain": [
       "False"
      ]
     },
     "execution_count": 5,
     "metadata": {},
     "output_type": "execute_result"
    }
   ],
   "source": [
    "'x' in d"
   ]
  },
  {
   "cell_type": "code",
   "execution_count": 9,
   "id": "35c63dbc-569a-4f9e-aa68-d477e9b4b91c",
   "metadata": {},
   "outputs": [
    {
     "name": "stdin",
     "output_type": "stream",
     "text": [
      "Please order! burger\n"
     ]
    },
    {
     "name": "stdout",
     "output_type": "stream",
     "text": [
      "price is 12; total is 12\n"
     ]
    },
    {
     "name": "stdin",
     "output_type": "stream",
     "text": [
      "Please order! steak\n"
     ]
    },
    {
     "name": "stdout",
     "output_type": "stream",
     "text": [
      "We are out of steak\n"
     ]
    },
    {
     "name": "stdin",
     "output_type": "stream",
     "text": [
      "Please order! drink\n"
     ]
    },
    {
     "name": "stdout",
     "output_type": "stream",
     "text": [
      "price is 3; total is 15\n"
     ]
    },
    {
     "name": "stdin",
     "output_type": "stream",
     "text": [
      "Please order! fries\n"
     ]
    },
    {
     "name": "stdout",
     "output_type": "stream",
     "text": [
      "price is 5; total is 20\n"
     ]
    },
    {
     "name": "stdin",
     "output_type": "stream",
     "text": [
      "Please order! salmon\n"
     ]
    },
    {
     "name": "stdout",
     "output_type": "stream",
     "text": [
      "price is 22; total is 42\n"
     ]
    },
    {
     "name": "stdin",
     "output_type": "stream",
     "text": [
      "Please order! \n"
     ]
    },
    {
     "name": "stdout",
     "output_type": "stream",
     "text": [
      "Total is 42\n"
     ]
    }
   ],
   "source": [
    "#First paradigm of dict use: Define once, and treat as read-only database\n",
    "#setup\n",
    "menu = {'burger':12, 'fries':5, 'drink':3, 'salmon':22}\n",
    "\n",
    "total = 0\n",
    "\n",
    "#calculation\n",
    "while True:\n",
    "    order = input('Please order!').strip()\n",
    "    #take whatever\n",
    "    if order == '':\n",
    "        break\n",
    "    \n",
    "    if order in menu:\n",
    "        price = menu[order] #retrieve the price from the menu, and assign to the price\n",
    "        total += price\n",
    "        print(f'price is {price}; total is {total}')\n",
    "    else:\n",
    "        print(f'We are out of {order}')\n",
    "\n",
    "#report\n",
    "print(f'Total is {total}')"
   ]
  },
  {
   "cell_type": "code",
   "execution_count": 10,
   "id": "712c99ce-ecd3-4c89-a0a8-999f3f72e505",
   "metadata": {},
   "outputs": [],
   "source": [
    "#define a dict:\n",
    "\n",
    "d = {'a':100, 'b':200, 'c':300}\n",
    "\n",
    "#dictionaries are mutable, like lists!\n",
    "#change value, naming key\n",
    "\n",
    "d['c'] = 999"
   ]
  },
  {
   "cell_type": "code",
   "execution_count": 11,
   "id": "cc8aafc2-d86c-4cb0-97df-1fe6627bf803",
   "metadata": {},
   "outputs": [
    {
     "data": {
      "text/plain": [
       "{'a': 100, 'b': 200, 'c': 999}"
      ]
     },
     "execution_count": 11,
     "metadata": {},
     "output_type": "execute_result"
    }
   ],
   "source": [
    "d"
   ]
  },
  {
   "cell_type": "code",
   "execution_count": 12,
   "id": "bb6028b8-515b-4db8-81ee-e350a14f79c4",
   "metadata": {},
   "outputs": [
    {
     "data": {
      "text/plain": [
       "{'a': 100, 'b': 200, 'c': 999, 'x': 345}"
      ]
     },
     "execution_count": 12,
     "metadata": {},
     "output_type": "execute_result"
    }
   ],
   "source": [
    "#update dictionary\n",
    "d['x'] = 345\n",
    "d"
   ]
  },
  {
   "cell_type": "code",
   "execution_count": 13,
   "id": "f312684d-f81e-4691-a512-5045357c09a8",
   "metadata": {},
   "outputs": [
    {
     "data": {
      "text/plain": [
       "345"
      ]
     },
     "execution_count": 13,
     "metadata": {},
     "output_type": "execute_result"
    }
   ],
   "source": [
    "d.pop('x') #remove a key"
   ]
  },
  {
   "cell_type": "code",
   "execution_count": 14,
   "id": "6163c9fa-dc72-4aaf-950d-b0ccaa4a94d9",
   "metadata": {},
   "outputs": [
    {
     "data": {
      "text/plain": [
       "{'a': 100, 'b': 200, 'c': 999}"
      ]
     },
     "execution_count": 14,
     "metadata": {},
     "output_type": "execute_result"
    }
   ],
   "source": [
    "d"
   ]
  },
  {
   "cell_type": "code",
   "execution_count": 22,
   "id": "e903e648-3f5b-4a29-8575-bcc5842f19c9",
   "metadata": {},
   "outputs": [
    {
     "name": "stdin",
     "output_type": "stream",
     "text": [
      "Enter a string:  hello123!\n"
     ]
    },
    {
     "name": "stdout",
     "output_type": "stream",
     "text": [
      "{'digits': 3, 'vowels': 2, 'others': 4}\n"
     ]
    }
   ],
   "source": [
    "#Second paradigm of dicts: Keys don't change, but values do\n",
    "\n",
    "counts = {'digits':0, 'vowels':0, 'others':0}\n",
    "\n",
    "\n",
    "s = input('Enter a string: ').strip()\n",
    "\n",
    "for one_character in s:\n",
    "    if one_character.isdigit():\n",
    "        counts['digits'] += 1\n",
    "    elif one_character in 'aeiou':\n",
    "        counts['vowels'] += 1\n",
    "    else:\n",
    "        counts['others'] += 1\n",
    "print(counts)\n",
    "\n",
    "            \n",
    "     \n",
    "\n",
    "\n",
    "            "
   ]
  },
  {
   "cell_type": "code",
   "execution_count": 24,
   "id": "3939c683-6c57-4438-b4c3-4ca011b87287",
   "metadata": {},
   "outputs": [
    {
     "ename": "NameError",
     "evalue": "name 'one_key' is not defined",
     "output_type": "error",
     "traceback": [
      "\u001b[0;31m---------------------------------------------------------------------------\u001b[0m",
      "\u001b[0;31mNameError\u001b[0m                                 Traceback (most recent call last)",
      "Cell \u001b[0;32mIn[24], line 8\u001b[0m\n\u001b[1;32m      5\u001b[0m d \u001b[38;5;241m=\u001b[39m {\u001b[38;5;124m'\u001b[39m\u001b[38;5;124ma\u001b[39m\u001b[38;5;124m'\u001b[39m:\u001b[38;5;241m100\u001b[39m, \u001b[38;5;124m'\u001b[39m\u001b[38;5;124mb\u001b[39m\u001b[38;5;124m'\u001b[39m:\u001b[38;5;241m200\u001b[39m, \u001b[38;5;124m'\u001b[39m\u001b[38;5;124mc\u001b[39m\u001b[38;5;124m'\u001b[39m:\u001b[38;5;241m300\u001b[39m}\n\u001b[1;32m      7\u001b[0m \u001b[38;5;28;01mfor\u001b[39;00m one_item \u001b[38;5;129;01min\u001b[39;00m d:\n\u001b[0;32m----> 8\u001b[0m     \u001b[38;5;28mprint\u001b[39m(\u001b[38;5;124mf\u001b[39m\u001b[38;5;124m'\u001b[39m\u001b[38;5;132;01m{\u001b[39;00m\u001b[43mone_key\u001b[49m\u001b[38;5;132;01m}\u001b[39;00m\u001b[38;5;124m: \u001b[39m\u001b[38;5;132;01m{\u001b[39;00md[one_key]\u001b[38;5;132;01m}\u001b[39;00m\u001b[38;5;124m'\u001b[39m)\n",
      "\u001b[0;31mNameError\u001b[0m: name 'one_key' is not defined"
     ]
    }
   ],
   "source": [
    "#Iterating over dicts\n",
    "#Paradigm 3 for dicts -- adding keys and values over\n",
    "#iterating over a string, gives us the characters, one at a time\n",
    "#iterating over alist or tuple givues us the elements, one at a time\n",
    "d = {'a':100, 'b':200, 'c':300}\n",
    "\n",
    "for one_item in d:\n",
    "    print(f'{one_key}: {d[one_key]}')"
   ]
  },
  {
   "cell_type": "code",
   "execution_count": 25,
   "id": "441e4e9e-ef57-428c-b33a-f340459542bb",
   "metadata": {},
   "outputs": [
    {
     "name": "stdout",
     "output_type": "stream",
     "text": [
      "c: 300\n"
     ]
    }
   ],
   "source": [
    "#d.items() returns, with each iteration, a tuple of (key, value)\n",
    "for t in d.items():\n",
    "    key, value = t #unpacking\n",
    "print(f'{key}: {value}')"
   ]
  },
  {
   "cell_type": "code",
   "execution_count": 3,
   "id": "b987e7f4-79fc-421a-8132-f829fa4e9aba",
   "metadata": {},
   "outputs": [
    {
     "name": "stdin",
     "output_type": "stream",
     "text": [
      "Enter numbers separated by spaces:  12 13 14\n"
     ]
    },
    {
     "name": "stdout",
     "output_type": "stream",
     "text": [
      "odds: [1, 1, 1]\n",
      "evens: []\n"
     ]
    }
   ],
   "source": [
    "oe = {'odds':[], 'evens':[]}\n",
    "\n",
    "s = input('Enter numbers separated by spaces: ').strip()\n",
    "\n",
    "#calculations\n",
    "n = 123\n",
    "\n",
    "if in n % 2 == 0: # if n%2\n",
    "for one_character in s.split():\n",
    "    if one_character.isdigit():\n",
    "        int(s)% 2 = 1\n",
    "        oe['odds'].append(1)\n",
    "    else:\n",
    "        int(s) % 2 = 0\n",
    "        oe['o\n",
    "for key, value in oe.items():\n",
    "    print(f'{key}: {value}')"
   ]
  },
  {
   "cell_type": "code",
   "execution_count": 26,
   "id": "c6e8e569-bc05-4adc-9fea-3336fb330a1e",
   "metadata": {},
   "outputs": [
    {
     "name": "stdout",
     "output_type": "stream",
     "text": [
      "a: 100\n",
      "b: 200\n",
      "c: 300\n"
     ]
    }
   ],
   "source": [
    "#unpack inside of the loop: best way to iterate over a dict\n",
    "for key, value in d.items():\n",
    "    print(f'{key}: {"
   ]
  },
  {
   "cell_type": "code",
   "execution_count": 32,
   "id": "e599f225-4390-45f4-a116-e2098b102219",
   "metadata": {},
   "outputs": [
    {
     "name": "stdin",
     "output_type": "stream",
     "text": [
      "Enter a city name:  tel aviv\n",
      "Enter mm rain 4\n"
     ]
    },
    {
     "name": "stdout",
     "output_type": "stream",
     "text": [
      "tel aviv: 4\n"
     ]
    },
    {
     "name": "stdin",
     "output_type": "stream",
     "text": [
      "Enter a city name:  boston\n",
      "Enter mm rain 5\n"
     ]
    },
    {
     "name": "stdout",
     "output_type": "stream",
     "text": [
      "tel aviv: 4\n",
      "boston: 5\n"
     ]
    },
    {
     "name": "stdin",
     "output_type": "stream",
     "text": [
      "Enter a city name:  \n"
     ]
    }
   ],
   "source": [
    "#Paradigm 3 for dict: Start empty, and grow from there adding keys as necessary and updating values as necessary\n",
    "#setup\n",
    "\n",
    "rainfall = {}\n",
    "\n",
    "while True:\n",
    "    city = input('Enter a city name: ').strip()\n",
    "    if city == '':\n",
    "        break\n",
    "    mm_rain = input('Enter mm rain').strip()\n",
    "    mm_rain = int(mm_rain)\n",
    "    if city in rainfall: #does this key exist?\n",
    "        rainfall[city] += mm_rian\n",
    "    else: #if the key doesn't exist yet...\n",
    "        rainfall[city] = mm_rain\n",
    "\n",
    "    #dict.itmes returns (sort of) a list of 2 element tuples, with (key, value)\n",
    "    for key, value in rainfall.items():\n",
    "        print(f'{key}: {value}')\n",
    "          \n",
    "    "
   ]
  },
  {
   "cell_type": "code",
   "execution_count": 6,
   "id": "174d0db1-5e92-4e37-a20b-6a23ae433efc",
   "metadata": {},
   "outputs": [
    {
     "name": "stdin",
     "output_type": "stream",
     "text": [
      "Enter numbers, separated by spaces:  123 456 789 hello\n"
     ]
    },
    {
     "name": "stdout",
     "output_type": "stream",
     "text": [
      "hello is not a number!\n",
      "odds: [123, 789]\n",
      "evens: [456]\n"
     ]
    }
   ],
   "source": [
    "#setup\n",
    "counts = {'odds': [], 'evens': []}\n",
    "\n",
    "#calculations\n",
    "s = input('Enter numbers, separated by spaces: ').strip()\n",
    "\n",
    "for one_item in s.split():\n",
    "    n = 123\n",
    "    s = 'hello' #here's our string\n",
    "    if one_item.isdigit():\n",
    "        n = int(one_item) # here's our int based on that string\n",
    "        if n % 2 == 0: #if n%2 is 0, then number is even (using modulo)\n",
    "            counts['evens'].append(n)\n",
    "        else:\n",
    "            counts['odds'].append(n)\n",
    "    else:\n",
    "        print(f'{one_item} is not a number!')\n",
    "#report\n",
    "for key, value in counts.items():\n",
    "    print(f'{key}: {value}')"
   ]
  },
  {
   "cell_type": "code",
   "execution_count": 9,
   "id": "2ca0d8db-c318-4d89-b813-31f2ffc8c3ec",
   "metadata": {},
   "outputs": [
    {
     "data": {
      "text/plain": [
       "_io.TextIOWrapper"
      ]
     },
     "execution_count": 9,
     "metadata": {},
     "output_type": "execute_result"
    }
   ],
   "source": [
    "#to open a file, name iand pass it to the builtin function \"open\"\n",
    "\n",
    "f = open('/etc/passwd')\n",
    "type(f)"
   ]
  },
  {
   "cell_type": "code",
   "execution_count": null,
   "id": "9e0608c3-9739-4ee7-ab3c-50b33b96c78f",
   "metadata": {},
   "outputs": [],
   "source": [
    "f = open('wcfile.txt') #relative path, located in the current directory"
   ]
  },
  {
   "cell_type": "code",
   "execution_count": 10,
   "id": "72844480-9ef4-43d4-9d5e-8fecab264631",
   "metadata": {},
   "outputs": [
    {
     "data": {
      "text/plain": [
       "<_io.TextIOWrapper name='/etc/passwd' mode='r' encoding='UTF-8'>"
      ]
     },
     "execution_count": 10,
     "metadata": {},
     "output_type": "execute_result"
    }
   ],
   "source": [
    "f"
   ]
  },
  {
   "cell_type": "code",
   "execution_count": 11,
   "id": "9b67e848-b178-46d7-82fa-e5a1518790ab",
   "metadata": {},
   "outputs": [
    {
     "data": {
      "text/plain": [
       "<function TextIOWrapper.read(size=-1, /)>"
      ]
     },
     "execution_count": 11,
     "metadata": {},
     "output_type": "execute_result"
    }
   ],
   "source": [
    "f.read\n"
   ]
  },
  {
   "cell_type": "code",
   "execution_count": null,
   "id": "2fb376c8-cf06-4e28-91bb-cf1b71689b85",
   "metadata": {},
   "outputs": [],
   "source": [
    "#when you read from the file, Python keeps track of where you left off.\n",
    "#meaning: if you read from a file already, then Python will be at its end, reading more leads to nowhere\n",
    "#Reset the pointer to the start of the file."
   ]
  },
  {
   "cell_type": "code",
   "execution_count": 13,
   "id": "28e56913-ca6b-48a1-bade-c29c18f4bc22",
   "metadata": {},
   "outputs": [
    {
     "name": "stdout",
     "output_type": "stream",
     "text": [
      "root:x:0:0:root:/root:/bin/bash\n",
      "daemon:x:1:1:daemon:/usr/sbin:/usr/sbin/nologin\n",
      "bin:x:2:2:bin:/bin:/usr/sbin/nologin\n",
      "sys:x:3:3:sys:/dev:/usr/sbin/nologin\n",
      "sync:x:4:65534:sync:/bin:/bin/sync\n",
      "games:x:5:60:games:/usr/games:/usr/sbin/nologin\n",
      "man:x:6:12:man:/var/cache/man:/usr/sbin/nologin\n",
      "lp:x:7:7:lp:/var/spool/lpd:/usr/sbin/nologin\n",
      "mail:x:8:8:mail:/var/mail:/usr/sbin/nologin\n",
      "news:x:9:9:news:/var/spool/news:/usr/sbin/nologin\n",
      "uucp:x:10:10:uucp:/var/spool/uucp:/usr/sbin/nologin\n",
      "proxy:x:13:13:proxy:/bin:/usr/sbin/nologin\n",
      "www-data:x:33:33:www-data:/var/www:/usr/sbin/nologin\n",
      "backup:x:34:34:backup:/var/backups:/usr/sbin/nologin\n",
      "list:x:38:38:Mailing List Manager:/var/list:/usr/sbin/nologin\n",
      "irc:x:39:39:ircd:/run/ircd:/usr/sbin/nologin\n",
      "gnats:x:41:41:Gnats Bug-Reporting System (admin):/var/lib/gnats:/usr/sbin/nologin\n",
      "nobody:x:65534:65534:nobody:/nonexistent:/usr/sbin/nologin\n",
      "systemd-network:x:100:102:systemd Network Management,,,:/run/systemd:/usr/sbin/nologin\n",
      "systemd-resolve:x:101:103:systemd Resolver,,,:/run/systemd:/usr/sbin/nologin\n",
      "messagebus:x:102:105::/nonexistent:/usr/sbin/nologin\n",
      "systemd-timesync:x:103:106:systemd Time Synchronization,,,:/run/systemd:/usr/sbin/nologin\n",
      "syslog:x:104:111::/home/syslog:/usr/sbin/nologin\n",
      "_apt:x:105:65534::/nonexistent:/usr/sbin/nologin\n",
      "tss:x:106:112:TPM software stack,,,:/var/lib/tpm:/bin/false\n",
      "uuidd:x:107:113::/run/uuidd:/usr/sbin/nologin\n",
      "tcpdump:x:108:114::/nonexistent:/usr/sbin/nologin\n",
      "sshd:x:109:65534::/run/sshd:/usr/sbin/nologin\n",
      "pollinate:x:110:1::/var/cache/pollinate:/bin/false\n",
      "landscape:x:111:116::/var/lib/landscape:/usr/sbin/nologin\n",
      "fwupd-refresh:x:112:117:fwupd-refresh user,,,:/run/systemd:/usr/sbin/nologin\n",
      "lxd:x:999:100::/var/snap/lxd/common/lxd:/bin/false\n",
      "student:x:1000:1000:,,,:/home/student:/bin/bash\n",
      "\n"
     ]
    }
   ],
   "source": [
    "#opening without assigning to a variable\n",
    "\n",
    "print(open('/etc/passwd').read())\n"
   ]
  },
  {
   "cell_type": "code",
   "execution_count": 14,
   "id": "9f6405e8-1cb0-4e2a-9e86-8a7ffe591b20",
   "metadata": {},
   "outputs": [
    {
     "name": "stdout",
     "output_type": "stream",
     "text": [
      "root:x:0:0:root:/root:/bin/bash\n",
      "\n",
      "daemon:x:1:1:daemon:/usr/sbin:/usr/sbin/nologin\n",
      "\n",
      "bin:x:2:2:bin:/bin:/usr/sbin/nologin\n",
      "\n",
      "sys:x:3:3:sys:/dev:/usr/sbin/nologin\n",
      "\n",
      "sync:x:4:65534:sync:/bin:/bin/sync\n",
      "\n",
      "games:x:5:60:games:/usr/games:/usr/sbin/nologin\n",
      "\n",
      "man:x:6:12:man:/var/cache/man:/usr/sbin/nologin\n",
      "\n",
      "lp:x:7:7:lp:/var/spool/lpd:/usr/sbin/nologin\n",
      "\n",
      "mail:x:8:8:mail:/var/mail:/usr/sbin/nologin\n",
      "\n",
      "news:x:9:9:news:/var/spool/news:/usr/sbin/nologin\n",
      "\n",
      "uucp:x:10:10:uucp:/var/spool/uucp:/usr/sbin/nologin\n",
      "\n",
      "proxy:x:13:13:proxy:/bin:/usr/sbin/nologin\n",
      "\n",
      "www-data:x:33:33:www-data:/var/www:/usr/sbin/nologin\n",
      "\n",
      "backup:x:34:34:backup:/var/backups:/usr/sbin/nologin\n",
      "\n",
      "list:x:38:38:Mailing List Manager:/var/list:/usr/sbin/nologin\n",
      "\n",
      "irc:x:39:39:ircd:/run/ircd:/usr/sbin/nologin\n",
      "\n",
      "gnats:x:41:41:Gnats Bug-Reporting System (admin):/var/lib/gnats:/usr/sbin/nologin\n",
      "\n",
      "nobody:x:65534:65534:nobody:/nonexistent:/usr/sbin/nologin\n",
      "\n",
      "systemd-network:x:100:102:systemd Network Management,,,:/run/systemd:/usr/sbin/nologin\n",
      "\n",
      "systemd-resolve:x:101:103:systemd Resolver,,,:/run/systemd:/usr/sbin/nologin\n",
      "\n",
      "messagebus:x:102:105::/nonexistent:/usr/sbin/nologin\n",
      "\n",
      "systemd-timesync:x:103:106:systemd Time Synchronization,,,:/run/systemd:/usr/sbin/nologin\n",
      "\n",
      "syslog:x:104:111::/home/syslog:/usr/sbin/nologin\n",
      "\n",
      "_apt:x:105:65534::/nonexistent:/usr/sbin/nologin\n",
      "\n",
      "tss:x:106:112:TPM software stack,,,:/var/lib/tpm:/bin/false\n",
      "\n",
      "uuidd:x:107:113::/run/uuidd:/usr/sbin/nologin\n",
      "\n",
      "tcpdump:x:108:114::/nonexistent:/usr/sbin/nologin\n",
      "\n",
      "sshd:x:109:65534::/run/sshd:/usr/sbin/nologin\n",
      "\n",
      "pollinate:x:110:1::/var/cache/pollinate:/bin/false\n",
      "\n",
      "landscape:x:111:116::/var/lib/landscape:/usr/sbin/nologin\n",
      "\n",
      "fwupd-refresh:x:112:117:fwupd-refresh user,,,:/run/systemd:/usr/sbin/nologin\n",
      "\n",
      "lxd:x:999:100::/var/snap/lxd/common/lxd:/bin/false\n",
      "\n",
      "student:x:1000:1000:,,,:/home/student:/bin/bash\n",
      "\n"
     ]
    }
   ],
   "source": [
    "#above code is dangerous! file size will negatively affect, can potentially use all memory and crash it\n",
    "#option 2 for reading from a file: read, one line at a time\n",
    "\n",
    "for one_line in open('/etc/passwd'):\n",
    "    print(one_line)"
   ]
  },
  {
   "cell_type": "code",
   "execution_count": null,
   "id": "a80c0a86-cb0f-404e-9be6-9be3bc2596b7",
   "metadata": {},
   "outputs": [],
   "source": [
    "#I want to print the username on my system\n",
    "#usernames are the first field in every line of /etc/passwd\n",
    "\n",
    "for one_line in open ('/etc/passwd'):\n",
    "    print("
   ]
  },
  {
   "cell_type": "code",
   "execution_count": 21,
   "id": "69e71ead-efc0-4dee-968c-591a4b180656",
   "metadata": {},
   "outputs": [
    {
     "name": "stdout",
     "output_type": "stream",
     "text": [
      "Total is 83\n"
     ]
    }
   ],
   "source": [
    "#setup\n",
    "total = 0\n",
    "f = open('nums.txt')\n",
    "for one_line in f:\n",
    "    stripped = one_line.strip() #remove whitespace\n",
    "    if stripped == '': #is anything left after removing whitespace?\n",
    "        continue\n",
    "        \n",
    "    if stripped.isdigit():\n",
    "        total += int(one_line) #only things left are integers....convert and add\n",
    "    else:\n",
    "        break\n",
    "print(f'Total is {total}')\n",
    "    \n",
    "    "
   ]
  },
  {
   "cell_type": "code",
   "execution_count": 28,
   "id": "95bf459b-4629-45c2-8835-9d56478c0e44",
   "metadata": {},
   "outputs": [
    {
     "name": "stdout",
     "output_type": "stream",
     "text": [
      "there are 11 lines\n"
     ]
    }
   ],
   "source": [
    "#Word Count\n",
    "#setup\n",
    "line_count = 0\n",
    "f = open('wcfile.txt')\n",
    "for one\n",
    "    \n",
    "    \n"
   ]
  },
  {
   "cell_type": "code",
   "execution_count": null,
   "id": "1d9ceceb-61f9-40ea-b152-e7ecef952441",
   "metadata": {},
   "outputs": [],
   "source": []
  },
  {
   "cell_type": "code",
   "execution_count": 36,
   "id": "7ee8870f-d282-428a-9a98-446639a5ddd8",
   "metadata": {},
   "outputs": [
    {
     "name": "stdout",
     "output_type": "stream",
     "text": [
      "there are 1 lines\n",
      "there are 144 characters\n"
     ]
    }
   ],
   "source": [
    "#Word Count\n",
    "#setup\n",
    "line_count = 0\n",
    "f = open('wcfile.txt')\n",
    "char_count = 0\n",
    "#how many lines?\n",
    "for one_line in f:\n",
    "    line_count += 1\n",
    "    char_count = len(f.read())\n",
    "    \n",
    "    \n",
    "print(f'there are {line_count} lines')\n",
    "print(f'there are {char_count} characters')\n",
    "    \n",
    "    \n"
   ]
  },
  {
   "cell_type": "code",
   "execution_count": 37,
   "id": "bf133743-914b-4604-a7a7-3cc61f130427",
   "metadata": {},
   "outputs": [
    {
     "data": {
      "text/plain": [
       "<_io.TextIOWrapper name='rml-file.txt' mode='w' encoding='UTF-8'>"
      ]
     },
     "execution_count": 37,
     "metadata": {},
     "output_type": "execute_result"
    }
   ],
   "source": [
    "f = open('rml-file.txt', 'w') # open this file for writing\n",
    "f"
   ]
  },
  {
   "cell_type": "code",
   "execution_count": null,
   "id": "ea32977e-7d9d-4b56-be6c-8ab03bfaf699",
   "metadata": {},
   "outputs": [],
   "source": [
    "f.write('hello\\n') #print adds a new line, "
   ]
  }
 ],
 "metadata": {
  "kernelspec": {
   "display_name": "Python 3 (ipykernel)",
   "language": "python",
   "name": "python3"
  },
  "language_info": {
   "codemirror_mode": {
    "name": "ipython",
    "version": 3
   },
   "file_extension": ".py",
   "mimetype": "text/x-python",
   "name": "python",
   "nbconvert_exporter": "python",
   "pygments_lexer": "ipython3",
   "version": "3.10.12"
  }
 },
 "nbformat": 4,
 "nbformat_minor": 5
}
