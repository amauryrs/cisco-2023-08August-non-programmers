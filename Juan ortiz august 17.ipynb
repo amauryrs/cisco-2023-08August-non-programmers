{
 "cells": [
  {
   "cell_type": "code",
   "execution_count": 7,
   "id": "b44aec1d-c5ca-48f5-9ef3-b53c7e11be54",
   "metadata": {},
   "outputs": [
    {
     "name": "stdout",
     "output_type": "stream",
     "text": [
      "[59, 54, 50, 50, 87, 7, 96, 76, 73, 88, 64, 4, 96, 21, 29, 66, 71, 68, 31, 79]\n"
     ]
    }
   ],
   "source": [
    "import random\n",
    "for _ in range(10):\n",
    "    random_number = random.randint(0, 100)\n",
    "    numbers.append(random_number)\n",
    "\n",
    "print(numbers) "
   ]
  },
  {
   "cell_type": "code",
   "execution_count": 8,
   "id": "7254d252-5da3-4db8-b264-3c126ada8f2c",
   "metadata": {},
   "outputs": [
    {
     "name": "stdin",
     "output_type": "stream",
     "text": [
      "Enter a globbing pattern:  one\n"
     ]
    },
    {
     "name": "stdout",
     "output_type": "stream",
     "text": [
      "Matching filenames:\n"
     ]
    }
   ],
   "source": [
    "import glob\n",
    "pattern = input(\"Enter a globbing pattern: \")\n",
    "matching_filenames = glob.glob(pattern)\n",
    "print(\"Matching filenames:\")\n",
    "for filename in matching_filenames:\n",
    "    print(filename)\n",
    "\n"
   ]
  }
 ],
 "metadata": {
  "kernelspec": {
   "display_name": "Python 3 (ipykernel)",
   "language": "python",
   "name": "python3"
  },
  "language_info": {
   "codemirror_mode": {
    "name": "ipython",
    "version": 3
   },
   "file_extension": ".py",
   "mimetype": "text/x-python",
   "name": "python",
   "nbconvert_exporter": "python",
   "pygments_lexer": "ipython3",
   "version": "3.10.12"
  }
 },
 "nbformat": 4,
 "nbformat_minor": 5
}
