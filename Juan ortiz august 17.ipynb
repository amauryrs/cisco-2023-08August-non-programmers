{
 "cells": [
  {
   "cell_type": "code",
   "execution_count": null,
   "id": "b44aec1d-c5ca-48f5-9ef3-b53c7e11be54",
   "metadata": {},
   "outputs": [],
   "source": [
    "import random\n",
    "\n",
    "# Step 1: Define an empty list\n",
    "number"
   ]
  }
 ],
 "metadata": {
  "kernelspec": {
   "display_name": "",
   "name": ""
  },
  "language_info": {
   "name": ""
  }
 },
 "nbformat": 4,
 "nbformat_minor": 5
}
