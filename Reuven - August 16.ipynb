{
 "cells": [
  {
   "cell_type": "markdown",
   "id": "75cc07fc-f087-4964-8c5a-c73b1e7a341b",
   "metadata": {},
   "source": [
    "# Agenda\n",
    "\n",
    "1. Recap + Q&A + exercise\n",
    "2. Dictionaries\n",
    "    - What are they?\n",
    "    - Creating dicts\n",
    "    - Retrieving from and updating dicts\n",
    "    - How do they work?\n",
    "    - The three different paradigms of dict usage\n",
    "3. Files (text files)\n",
    "    - Reading from files\n",
    "    - Looping over files (and why we can/should do that)\n",
    "    - Writing to files\n",
    "4. Set up Python + PyCharm on your computer\n"
   ]
  },
  {
   "cell_type": "markdown",
   "id": "d494bdbb-9b74-472a-94ad-05e34a6cebaa",
   "metadata": {},
   "source": [
    "# Recap from yesterday\n",
    "\n",
    "- Loops\n",
    "    - `for` loops over strings -- we get one character at a time\n",
    "    - `for` loops over numbers -- we use the `range` function\n",
    "    - `for` loop with indexes -- using the `enumerate` function\n",
    "    - `while` loops -- like an `if` that repeats running its block until the condition is `False`\n",
    "    - `break` -- stops the running of a loop immediately\n",
    "    - `continue` -- stops the running of the current iteration, but goes to the next one in the loop\n",
    "    - If we use `while True` for a loop, then we can use `break` to get out when we get certain input from the user, or hit a particular condition.\n",
    "- Lists\n",
    "    - Mutable\n",
    "        - We can modify the contents of a list via assignment\n",
    "        - We can add items to the end of a list with `list.append`\n",
    "        - We can remove items from the end of a list with `list.pop`\n",
    "    - Ordered\n",
    "        - Just as with strings, we can retrieve with a numeric index or get multiple items with a slice\n",
    "        - We can iterate over the elements of a list, starting with index 0 and going through the end\n",
    "    - Containers -- a list can contain any number of any other objects of any type -- including a list of lists!\n",
    "    - Many (most) of the things that work on strings also work on lists, because both are in the \"sequence\" family in Python\n",
    "        - Indexes\n",
    "        - Slices\n",
    "        - `in` for searching\n",
    "        - `for` loops\n",
    "- Turning strings into lists, and vice versa\n",
    "    - We can get a list of strings based on a string with the `str.split` method\n",
    "        - If we give a delimiter as an argument, then that is used to break apart the original string\n",
    "        - If we don't pass any argument to `str.split`, then any whitespace of any length and any combination is used as the delimiter\n",
    "        - When we use `str.split`, the original string isn't changed. We get back a new list of strings based on it.\n",
    "    - We can take a list of strings, and produce one new string based on it, using `str.join`\n",
    "        - We invoke the method on a string, the \"glue\" that'll go between elements of the list\n",
    "        - We get back a new string, without affecting/modifying the list on which we ran\n",
    "- Tuples\n",
    "    - You can think of tuples as immutable lists, even though the Python world thinks about them as structs/records, containing different types of values\n",
    "    - Most of the things that work on strings and lists also work on tuples\n",
    "    - Python uses a lot of tuples behind the scenes, but how much you'll want to use them is up to you.\n",
    "- Tuple unpacking\n",
    "    - If you have an iterable on the right side of assignment, and a tuple of variables on the left side of assignment, the values are assigned in parallel to the variables\n",
    "    - This means that you can retrieve/extract elements of a sequence into variables pretty easily"
   ]
  },
  {
   "cell_type": "markdown",
   "id": "8d152a9b-562a-4b0a-9f01-0522e29dd20f",
   "metadata": {},
   "source": [
    "# Splitting and joining\n",
    "\n",
    "If I have a string, and I want to treat it as a bunch of fields (in a record) or words (in a sentence), then I can use `str.split` to get back a list of strings based on that string."
   ]
  },
  {
   "cell_type": "code",
   "execution_count": 1,
   "id": "763005c1-7224-4986-b62a-f53a3480ccb8",
   "metadata": {},
   "outputs": [
    {
     "data": {
      "text/plain": [
       "['Reuven', 'Lerner', 'reuven@lerner.co.il', '46']"
      ]
     },
     "execution_count": 1,
     "metadata": {},
     "output_type": "execute_result"
    }
   ],
   "source": [
    "# CSV -- comma-separated values\n",
    "\n",
    "s = 'Reuven,Lerner,reuven@lerner.co.il,46'\n",
    "\n",
    "s.split(',')    # this returns a new list of strings based on s -- we'll get 4 elements"
   ]
  },
  {
   "cell_type": "code",
   "execution_count": 2,
   "id": "f3ccdf18-4c73-42bb-b8be-e8bf5a28aa45",
   "metadata": {},
   "outputs": [
    {
     "data": {
      "text/plain": [
       "'Reuven'"
      ]
     },
     "execution_count": 2,
     "metadata": {},
     "output_type": "execute_result"
    }
   ],
   "source": [
    "fields = s.split(',')  # now the list is assigned to the \"fields\" variable\n",
    "\n",
    "fields[0]"
   ]
  },
  {
   "cell_type": "code",
   "execution_count": 4,
   "id": "b3a36a09-7748-4ca5-8437-b6335bcc7e0f",
   "metadata": {},
   "outputs": [
    {
     "data": {
      "text/plain": [
       "'Lerner'"
      ]
     },
     "execution_count": 4,
     "metadata": {},
     "output_type": "execute_result"
    }
   ],
   "source": [
    "fields[1]"
   ]
  },
  {
   "cell_type": "code",
   "execution_count": 5,
   "id": "8d93d4d4-d037-4425-8589-d11e00f5a1f2",
   "metadata": {},
   "outputs": [],
   "source": [
    "# I can even, using unpacking, say:\n",
    "\n",
    "first_name, last_name, email, shoe_size = s.split(',')"
   ]
  },
  {
   "cell_type": "code",
   "execution_count": 7,
   "id": "17fd9044-3be3-433e-b1a5-72ebb74b5de8",
   "metadata": {},
   "outputs": [],
   "source": [
    "# split is always about taking a string and breaking it into pieces, using\n",
    "# some small string as a delimiter\n",
    "\n",
    "# You can use any character or string as a delimiter\n",
    "# here's a line from the Unix /etc/passwd file, containing user info:\n",
    "\n",
    "s = '_postfix:*:27:27:Postfix Mail Server:/var/spool/postfix:/usr/bin/false'\n",
    "\n",
    "# the fields are separated with : characters"
   ]
  },
  {
   "cell_type": "code",
   "execution_count": 8,
   "id": "a1a3e530-91f9-4e95-8423-61f1f1be219e",
   "metadata": {},
   "outputs": [
    {
     "data": {
      "text/plain": [
       "['_postfix',\n",
       " '*',\n",
       " '27',\n",
       " '27',\n",
       " 'Postfix Mail Server',\n",
       " '/var/spool/postfix',\n",
       " '/usr/bin/false']"
      ]
     },
     "execution_count": 8,
     "metadata": {},
     "output_type": "execute_result"
    }
   ],
   "source": [
    "s.split(':')"
   ]
  },
  {
   "cell_type": "code",
   "execution_count": 9,
   "id": "b9a8150c-92a5-4e3c-914a-f29a0306d597",
   "metadata": {},
   "outputs": [
    {
     "data": {
      "text/plain": [
       "['_postfix:*:27:27:Postfix Mail Server:/var/spool/postfix:/usr/bin/false']"
      ]
     },
     "execution_count": 9,
     "metadata": {},
     "output_type": "execute_result"
    }
   ],
   "source": [
    "# what if I split on something that isn't there?\n",
    "s.split('~')"
   ]
  },
  {
   "cell_type": "code",
   "execution_count": 11,
   "id": "cfc080f1-c289-4862-af61-3afc00c0fe20",
   "metadata": {},
   "outputs": [
    {
     "data": {
      "text/plain": [
       "['This', 'is', 'a', 'bunch', 'of', 'words', 'for', 'my', 'Python', 'course']"
      ]
     },
     "execution_count": 11,
     "metadata": {},
     "output_type": "execute_result"
    }
   ],
   "source": [
    "# the most common use of split is on user-entered data\n",
    "# when we want to break a string apart into words, we can split without mentioning the delimiter\n",
    "# in such a case, any/all whitespace is used\n",
    "\n",
    "s = 'This    is a bunch of    words for my Python course'\n",
    "\n",
    "s.split()  # split on nothing == split on whitespace"
   ]
  },
  {
   "cell_type": "code",
   "execution_count": 12,
   "id": "50610e20-4e92-4fd4-a713-de71c5c8d495",
   "metadata": {},
   "outputs": [
    {
     "data": {
      "text/plain": [
       "['This', 'is', 'a', 'bunch', 'of', 'words', 'for', 'my', 'Python', 'course']"
      ]
     },
     "execution_count": 12,
     "metadata": {},
     "output_type": "execute_result"
    }
   ],
   "source": [
    "# Joining is a bit trickier.  We need two pieces:\n",
    "# 1. The \"glue\" string, typically one character, that'll go between the list elements\n",
    "# 2. A list of strings that'll be joined together\n",
    "\n",
    "words = s.split()   # now I have a list of strings!\n",
    "words"
   ]
  },
  {
   "cell_type": "code",
   "execution_count": 13,
   "id": "5f1da732-df4a-49ea-adac-eebdcc2ff271",
   "metadata": {},
   "outputs": [
    {
     "data": {
      "text/plain": [
       "'This is a bunch of words for my Python course'"
      ]
     },
     "execution_count": 13,
     "metadata": {},
     "output_type": "execute_result"
    }
   ],
   "source": [
    "# I want to get a new string back\n",
    "# based on words\n",
    "# with spaces between the words \n",
    "\n",
    "' '.join(words)"
   ]
  },
  {
   "cell_type": "code",
   "execution_count": 14,
   "id": "abbfcae0-ad68-494c-96a5-7359527e00e9",
   "metadata": {},
   "outputs": [
    {
     "data": {
      "text/plain": [
       "'This  is  a  bunch  of  words  for  my  Python  course'"
      ]
     },
     "execution_count": 14,
     "metadata": {},
     "output_type": "execute_result"
    }
   ],
   "source": [
    "# what if I want two spaces between each word?\n",
    "\n",
    "'  '.join(words)"
   ]
  },
  {
   "cell_type": "code",
   "execution_count": 15,
   "id": "3d46254c-4bc8-4ea4-a4b2-207e18430478",
   "metadata": {},
   "outputs": [
    {
     "data": {
      "text/plain": [
       "'This*_*is*_*a*_*bunch*_*of*_*words*_*for*_*my*_*Python*_*course'"
      ]
     },
     "execution_count": 15,
     "metadata": {},
     "output_type": "execute_result"
    }
   ],
   "source": [
    "# what if I want underscores and asterisks between words?\n",
    "\n",
    "'*_*'.join(words)"
   ]
  },
  {
   "cell_type": "code",
   "execution_count": 16,
   "id": "957156e7-7453-45eb-8a7c-89bf15fae3bf",
   "metadata": {},
   "outputs": [],
   "source": [
    "# notice that the glue goes between elements, not at the start and finish\n",
    "# also, remember -- the original list isn't changed in the slightest"
   ]
  },
  {
   "cell_type": "markdown",
   "id": "e6ba92e3-95b6-4142-8be2-0f59c14a8eaf",
   "metadata": {},
   "source": [
    "# Exercise: Higher and lower\n",
    "\n",
    "1. Define two empty lists, `higher` and `lower`.\n",
    "2. Ask the user to enter an integer, which we'll call `threshold`.\n",
    "3. Repeatedly ask the user to enter a string with numbers separated by whitespace.\n",
    "    - If the user enters an empty string, stop asking\n",
    "4. Go through each \"word\" in the string, one at a time.\n",
    "    - If it's not a number, then scold the user and go on to the next word\n",
    "    - If it's a number and lower than the threshold, append it to `lower`.\n",
    "    - If it's a number and higher (or equal to) the threshold, append it to `higher`.\n",
    "5. At the end print the elements of both `higher` and `lower`.\n",
    "\n",
    "Example:\n",
    "\n",
    "    Enter a threshold: 10\n",
    "    Enter numbers: 5 15 20 30 7\n",
    "    Enter numbers: 2 10 hello\n",
    "    hello is not a number\n",
    "    Enter numbers: [ENTER]\n",
    "    higher: [15, 20, 30, 10]\n",
    "    lower: [5, 7, 2]\n",
    "\n",
    "What are the things to keep in mind here?\n",
    "- `while` loop that goes forever\n",
    "- Ask the user for input, and check for an empty string -- if it's empty, then `break`\n",
    "- Split the user's input string into a bunch of words\n",
    "- Iterate over those words, one at a time\n",
    "- If the word cannot be turned into an integer, continue onto the next word\n",
    "- If the word *can* be turned into an integer, then check whether it's higher/lower than the threshold\n",
    "- Append to the appropriate list\n",
    "- At the end of everything, print both `higher` and `lower`."
   ]
  },
  {
   "cell_type": "code",
   "execution_count": null,
   "id": "fc2974f1-e293-4a54-8acf-231d048efb36",
   "metadata": {},
   "outputs": [],
   "source": [
    "# setup\n",
    "higher = []\n",
    "lower = []\n",
    "\n",
    "# calculations\n",
    "s = input('Enter threshold: ').strip()\n",
    "threshold = int(s)   # here, we assume we got a number\n",
    "\n",
    "while True:\n",
    "    s = input('Enter numbers: ').strip()\n",
    "\n",
    "    # if the user gave us an empty string, then break out of this loop\n",
    "    if s == '':\n",
    "        break\n",
    "\n",
    "    # if I'm here, then I know that the string is non-empty\n",
    "    # break it apart into individual words/numbers, and go through each one to see if it's\n",
    "    # higher or lower\n",
    "    for one_word in s.split():\n",
    "\n",
    "        if one_word.isdigit():\n",
    "            n = int(one_word)    # get an int from one_word, and assign to n\n",
    "            if n < threshold:\n",
    "                lower.append(n)                \n",
    "            else:\n",
    "                higher.append(n)\n",
    "\n",
    "# report\n",
    "print(f'higher = {higher}')\n",
    "print(f'lower = {lower}')"
   ]
  },
  {
   "cell_type": "code",
   "execution_count": null,
   "id": "19dacab0-ee59-45de-87bf-15319c5c7c36",
   "metadata": {},
   "outputs": [],
   "source": []
  }
 ],
 "metadata": {
  "kernelspec": {
   "display_name": "Python 3 (ipykernel)",
   "language": "python",
   "name": "python3"
  },
  "language_info": {
   "codemirror_mode": {
    "name": "ipython",
    "version": 3
   },
   "file_extension": ".py",
   "mimetype": "text/x-python",
   "name": "python",
   "nbconvert_exporter": "python",
   "pygments_lexer": "ipython3",
   "version": "3.10.12"
  }
 },
 "nbformat": 4,
 "nbformat_minor": 5
}
