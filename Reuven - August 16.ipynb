{
 "cells": [
  {
   "cell_type": "markdown",
   "id": "75cc07fc-f087-4964-8c5a-c73b1e7a341b",
   "metadata": {},
   "source": [
    "# Agenda\n",
    "\n",
    "1. Recap + Q&A + exercise\n",
    "2. Dictionaries\n",
    "    - What are they?\n",
    "    - Creating dicts\n",
    "    - Retrieving from and updating dicts\n",
    "    - How do they work?\n",
    "    - The three different paradigms of dict usage\n",
    "3. Files (text files)\n",
    "    - Reading from files\n",
    "    - Looping over files (and why we can/should do that)\n",
    "    - Writing to files\n",
    "4. Set up Python + PyCharm on your computer\n"
   ]
  },
  {
   "cell_type": "markdown",
   "id": "d494bdbb-9b74-472a-94ad-05e34a6cebaa",
   "metadata": {},
   "source": [
    "# Recap from yesterday\n",
    "\n",
    "- Loops\n",
    "    - `for` loops over strings -- we get one character at a time\n",
    "    - `for` loops over numbers -- we use the `range` function\n",
    "    - `for` loop with indexes -- using the `enumerate` function\n",
    "    - `while` loops -- like an `if` that repeats running its block until the condition is `False`\n",
    "    - `break` -- stops the running of a loop immediately\n",
    "    - `continue` -- stops the running of the current iteration, but goes to the next one in the loop\n",
    "    - If we use `while True` for a loop, then we can use `break` to get out when we get certain input from the user, or hit a particular condition.\n",
    "- Lists\n",
    "    - Mutable\n",
    "        - We can modify the contents of a list via assignment\n",
    "        - We can add items to the end of a list with `list.append`\n",
    "        - We can remove items from the end of a list with `list.pop`\n",
    "    - Ordered\n",
    "        - Just as with strings, we can retrieve with a numeric index or get multiple items with a slice\n",
    "        - We can iterate over the elements of a list, starting with index 0 and going through the end\n",
    "    - Containers -- a list can contain any number of any other objects of any type -- including a list of lists!\n",
    "    - Many (most) of the things that work on strings also work on lists, because both are in the \"sequence\" family in Python\n",
    "        - Indexes\n",
    "        - Slices\n",
    "        - `in` for searching\n",
    "        - `for` loops\n",
    "- Turning strings into lists, and vice versa\n",
    "    - We can get a list of strings based on a string with the `str.split` method\n",
    "        - If we give a delimiter as an argument, then that is used to break apart the original string\n",
    "        - If we don't pass any argument to `str.split`, then any whitespace of any length and any combination is used as the delimiter\n",
    "        - When we use `str.split`, the original string isn't changed. We get back a new list of strings based on it.\n",
    "    - We can take a list of strings, and produce one new string based on it, using `str.join`\n",
    "        - We invoke the method on a string, the \"glue\" that'll go between elements of the list\n",
    "        - We get back a new string, without affecting/modifying the list on which we ran\n",
    "- Tuples\n",
    "    - You can think of tuples as immutable lists, even though the Python world thinks about them as structs/records, containing different types of values\n",
    "    - Most of the things that work on strings and lists also work on tuples\n",
    "    - Python uses a lot of tuples behind the scenes, but how much you'll want to use them is up to you.\n",
    "- Tuple unpacking\n",
    "    - If you have an iterable on the right side of assignment, and a tuple of variables on the left side of assignment, the values are assigned in parallel to the variables\n",
    "    - This means that you can retrieve/extract elements of a sequence into variables pretty easily"
   ]
  },
  {
   "cell_type": "markdown",
   "id": "8d152a9b-562a-4b0a-9f01-0522e29dd20f",
   "metadata": {},
   "source": [
    "# Splitting and joining\n",
    "\n",
    "If I have a string, and I want to treat it as a bunch of fields (in a record) or words (in a sentence), then I can use `str.split` to get back a list of strings based on that string."
   ]
  },
  {
   "cell_type": "code",
   "execution_count": 1,
   "id": "763005c1-7224-4986-b62a-f53a3480ccb8",
   "metadata": {},
   "outputs": [
    {
     "data": {
      "text/plain": [
       "['Reuven', 'Lerner', 'reuven@lerner.co.il', '46']"
      ]
     },
     "execution_count": 1,
     "metadata": {},
     "output_type": "execute_result"
    }
   ],
   "source": [
    "# CSV -- comma-separated values\n",
    "\n",
    "s = 'Reuven,Lerner,reuven@lerner.co.il,46'\n",
    "\n",
    "s.split(',')    # this returns a new list of strings based on s -- we'll get 4 elements"
   ]
  },
  {
   "cell_type": "code",
   "execution_count": 2,
   "id": "f3ccdf18-4c73-42bb-b8be-e8bf5a28aa45",
   "metadata": {},
   "outputs": [
    {
     "data": {
      "text/plain": [
       "'Reuven'"
      ]
     },
     "execution_count": 2,
     "metadata": {},
     "output_type": "execute_result"
    }
   ],
   "source": [
    "fields = s.split(',')  # now the list is assigned to the \"fields\" variable\n",
    "\n",
    "fields[0]"
   ]
  },
  {
   "cell_type": "code",
   "execution_count": 4,
   "id": "b3a36a09-7748-4ca5-8437-b6335bcc7e0f",
   "metadata": {},
   "outputs": [
    {
     "data": {
      "text/plain": [
       "'Lerner'"
      ]
     },
     "execution_count": 4,
     "metadata": {},
     "output_type": "execute_result"
    }
   ],
   "source": [
    "fields[1]"
   ]
  },
  {
   "cell_type": "code",
   "execution_count": 5,
   "id": "8d93d4d4-d037-4425-8589-d11e00f5a1f2",
   "metadata": {},
   "outputs": [],
   "source": [
    "# I can even, using unpacking, say:\n",
    "\n",
    "first_name, last_name, email, shoe_size = s.split(',')"
   ]
  },
  {
   "cell_type": "code",
   "execution_count": 7,
   "id": "17fd9044-3be3-433e-b1a5-72ebb74b5de8",
   "metadata": {},
   "outputs": [],
   "source": [
    "# split is always about taking a string and breaking it into pieces, using\n",
    "# some small string as a delimiter\n",
    "\n",
    "# You can use any character or string as a delimiter\n",
    "# here's a line from the Unix /etc/passwd file, containing user info:\n",
    "\n",
    "s = '_postfix:*:27:27:Postfix Mail Server:/var/spool/postfix:/usr/bin/false'\n",
    "\n",
    "# the fields are separated with : characters"
   ]
  },
  {
   "cell_type": "code",
   "execution_count": 8,
   "id": "a1a3e530-91f9-4e95-8423-61f1f1be219e",
   "metadata": {},
   "outputs": [
    {
     "data": {
      "text/plain": [
       "['_postfix',\n",
       " '*',\n",
       " '27',\n",
       " '27',\n",
       " 'Postfix Mail Server',\n",
       " '/var/spool/postfix',\n",
       " '/usr/bin/false']"
      ]
     },
     "execution_count": 8,
     "metadata": {},
     "output_type": "execute_result"
    }
   ],
   "source": [
    "s.split(':')"
   ]
  },
  {
   "cell_type": "code",
   "execution_count": 9,
   "id": "b9a8150c-92a5-4e3c-914a-f29a0306d597",
   "metadata": {},
   "outputs": [
    {
     "data": {
      "text/plain": [
       "['_postfix:*:27:27:Postfix Mail Server:/var/spool/postfix:/usr/bin/false']"
      ]
     },
     "execution_count": 9,
     "metadata": {},
     "output_type": "execute_result"
    }
   ],
   "source": [
    "# what if I split on something that isn't there?\n",
    "s.split('~')"
   ]
  },
  {
   "cell_type": "code",
   "execution_count": 11,
   "id": "cfc080f1-c289-4862-af61-3afc00c0fe20",
   "metadata": {},
   "outputs": [
    {
     "data": {
      "text/plain": [
       "['This', 'is', 'a', 'bunch', 'of', 'words', 'for', 'my', 'Python', 'course']"
      ]
     },
     "execution_count": 11,
     "metadata": {},
     "output_type": "execute_result"
    }
   ],
   "source": [
    "# the most common use of split is on user-entered data\n",
    "# when we want to break a string apart into words, we can split without mentioning the delimiter\n",
    "# in such a case, any/all whitespace is used\n",
    "\n",
    "s = 'This    is a bunch of    words for my Python course'\n",
    "\n",
    "s.split()  # split on nothing == split on whitespace"
   ]
  },
  {
   "cell_type": "code",
   "execution_count": 12,
   "id": "50610e20-4e92-4fd4-a713-de71c5c8d495",
   "metadata": {},
   "outputs": [
    {
     "data": {
      "text/plain": [
       "['This', 'is', 'a', 'bunch', 'of', 'words', 'for', 'my', 'Python', 'course']"
      ]
     },
     "execution_count": 12,
     "metadata": {},
     "output_type": "execute_result"
    }
   ],
   "source": [
    "# Joining is a bit trickier.  We need two pieces:\n",
    "# 1. The \"glue\" string, typically one character, that'll go between the list elements\n",
    "# 2. A list of strings that'll be joined together\n",
    "\n",
    "words = s.split()   # now I have a list of strings!\n",
    "words"
   ]
  },
  {
   "cell_type": "code",
   "execution_count": 13,
   "id": "5f1da732-df4a-49ea-adac-eebdcc2ff271",
   "metadata": {},
   "outputs": [
    {
     "data": {
      "text/plain": [
       "'This is a bunch of words for my Python course'"
      ]
     },
     "execution_count": 13,
     "metadata": {},
     "output_type": "execute_result"
    }
   ],
   "source": [
    "# I want to get a new string back\n",
    "# based on words\n",
    "# with spaces between the words \n",
    "\n",
    "' '.join(words)"
   ]
  },
  {
   "cell_type": "code",
   "execution_count": 14,
   "id": "abbfcae0-ad68-494c-96a5-7359527e00e9",
   "metadata": {},
   "outputs": [
    {
     "data": {
      "text/plain": [
       "'This  is  a  bunch  of  words  for  my  Python  course'"
      ]
     },
     "execution_count": 14,
     "metadata": {},
     "output_type": "execute_result"
    }
   ],
   "source": [
    "# what if I want two spaces between each word?\n",
    "\n",
    "'  '.join(words)"
   ]
  },
  {
   "cell_type": "code",
   "execution_count": 15,
   "id": "3d46254c-4bc8-4ea4-a4b2-207e18430478",
   "metadata": {},
   "outputs": [
    {
     "data": {
      "text/plain": [
       "'This*_*is*_*a*_*bunch*_*of*_*words*_*for*_*my*_*Python*_*course'"
      ]
     },
     "execution_count": 15,
     "metadata": {},
     "output_type": "execute_result"
    }
   ],
   "source": [
    "# what if I want underscores and asterisks between words?\n",
    "\n",
    "'*_*'.join(words)"
   ]
  },
  {
   "cell_type": "code",
   "execution_count": 16,
   "id": "957156e7-7453-45eb-8a7c-89bf15fae3bf",
   "metadata": {},
   "outputs": [],
   "source": [
    "# notice that the glue goes between elements, not at the start and finish\n",
    "# also, remember -- the original list isn't changed in the slightest"
   ]
  },
  {
   "cell_type": "markdown",
   "id": "e6ba92e3-95b6-4142-8be2-0f59c14a8eaf",
   "metadata": {},
   "source": [
    "# Exercise: Higher and lower\n",
    "\n",
    "1. Define two empty lists, `higher` and `lower`.\n",
    "2. Ask the user to enter an integer, which we'll call `threshold`.\n",
    "3. Repeatedly ask the user to enter a string with numbers separated by whitespace.\n",
    "    - If the user enters an empty string, stop asking\n",
    "4. Go through each \"word\" in the string, one at a time.\n",
    "    - If it's not a number, then scold the user and go on to the next word\n",
    "    - If it's a number and lower than the threshold, append it to `lower`.\n",
    "    - If it's a number and higher (or equal to) the threshold, append it to `higher`.\n",
    "5. At the end print the elements of both `higher` and `lower`.\n",
    "\n",
    "Example:\n",
    "\n",
    "    Enter a threshold: 10\n",
    "    Enter numbers: 5 15 20 30 7\n",
    "    Enter numbers: 2 10 hello\n",
    "    hello is not a number\n",
    "    Enter numbers: [ENTER]\n",
    "    higher: [15, 20, 30, 10]\n",
    "    lower: [5, 7, 2]\n",
    "\n",
    "What are the things to keep in mind here?\n",
    "- `while` loop that goes forever\n",
    "- Ask the user for input, and check for an empty string -- if it's empty, then `break`\n",
    "- Split the user's input string into a bunch of words\n",
    "- Iterate over those words, one at a time\n",
    "- If the word cannot be turned into an integer, continue onto the next word\n",
    "- If the word *can* be turned into an integer, then check whether it's higher/lower than the threshold\n",
    "- Append to the appropriate list\n",
    "- At the end of everything, print both `higher` and `lower`."
   ]
  },
  {
   "cell_type": "code",
   "execution_count": 22,
   "id": "fc2974f1-e293-4a54-8acf-231d048efb36",
   "metadata": {},
   "outputs": [
    {
     "name": "stdin",
     "output_type": "stream",
     "text": [
      "Enter threshold:  10\n",
      "Enter numbers:  2 3 4 5 hello 80 90 100\n"
     ]
    },
    {
     "name": "stdout",
     "output_type": "stream",
     "text": [
      "hello is not numeric; ignoring\n"
     ]
    },
    {
     "name": "stdin",
     "output_type": "stream",
     "text": [
      "Enter numbers:  20 30 50 2 3\n",
      "Enter numbers:  \n"
     ]
    },
    {
     "name": "stdout",
     "output_type": "stream",
     "text": [
      "higher = [80, 90, 100, 20, 30, 50]\n",
      "lower = [2, 3, 4, 5, 2, 3]\n"
     ]
    }
   ],
   "source": [
    "# setup\n",
    "higher = []\n",
    "lower = []\n",
    "\n",
    "# calculations\n",
    "s = input('Enter threshold: ').strip()\n",
    "threshold = int(s)   # here, we assume we got a number\n",
    "\n",
    "while True:\n",
    "    s = input('Enter numbers: ').strip()\n",
    "\n",
    "    # if the user gave us an empty string, then break out of this loop\n",
    "    if s == '':\n",
    "        break\n",
    "\n",
    "    # if I'm here, then I know that the string is non-empty\n",
    "    # break it apart into individual words/numbers, and go through each one to see if it's\n",
    "    # higher or lower\n",
    "    for one_word in s.split():\n",
    "\n",
    "        if one_word.isdigit():\n",
    "            n = int(one_word)    # get an int from one_word, and assign to n\n",
    "            if n < threshold:\n",
    "                lower.append(n)                \n",
    "            else:\n",
    "                higher.append(n)\n",
    "\n",
    "        else:   # not numeric? scold the user!\n",
    "            print(f'{one_word} is not numeric; ignoring')\n",
    "\n",
    "# report\n",
    "print(f'higher = {higher}')\n",
    "print(f'lower = {lower}')"
   ]
  },
  {
   "cell_type": "markdown",
   "id": "a749bf99-e9bf-4055-8372-bb3cdaa65a48",
   "metadata": {},
   "source": [
    "# Solution in the Python Tutor:\n",
    "\n",
    "https://pythontutor.com/render.html#code=%23%20setup%0Ahigher%20%3D%20%5B%5D%0Alower%20%3D%20%5B%5D%0A%0A%23%20calculations%0As%20%3D%20input%28'Enter%20threshold%3A%20'%29.strip%28%29%0Athreshold%20%3D%20int%28s%29%20%20%20%23%20here,%20we%20assume%20we%20got%20a%20number%0A%0Awhile%20True%3A%0A%20%20%20%20s%20%3D%20input%28'Enter%20numbers%3A%20'%29.strip%28%29%0A%0A%20%20%20%20%23%20if%20the%20user%20gave%20us%20an%20empty%20string,%20then%20break%20out%20of%20this%20loop%0A%20%20%20%20if%20s%20%3D%3D%20''%3A%0A%20%20%20%20%20%20%20%20break%0A%0A%20%20%20%20%23%20if%20I'm%20here,%20then%20I%20know%20that%20the%20string%20is%20non-empty%0A%20%20%20%20%23%20break%20it%20apart%20into%20individual%20words/numbers,%20and%20go%20through%20each%20one%20to%20see%20if%20it's%0A%20%20%20%20%23%20higher%20or%20lower%0A%20%20%20%20for%20one_word%20in%20s.split%28%29%3A%0A%0A%20%20%20%20%20%20%20%20if%20one_word.isdigit%28%29%3A%0A%20%20%20%20%20%20%20%20%20%20%20%20n%20%3D%20int%28one_word%29%20%20%20%20%23%20get%20an%20int%20from%20one_word,%20and%20assign%20to%20n%0A%20%20%20%20%20%20%20%20%20%20%20%20if%20n%20%3C%20threshold%3A%0A%20%20%20%20%20%20%20%20%20%20%20%20%20%20%20%20lower.append%28n%29%20%20%20%20%20%20%20%20%20%20%20%20%20%20%20%20%0A%20%20%20%20%20%20%20%20%20%20%20%20else%3A%0A%20%20%20%20%20%20%20%20%20%20%20%20%20%20%20%20higher.append%28n%29%0A%0A%20%20%20%20%20%20%20%20else%3A%20%20%20%23%20not%20numeric%3F%20scold%20the%20user!%0A%20%20%20%20%20%20%20%20%20%20%20%20print%28f'%7Bone_word%7D%20is%20not%20numeric%3B%20ignoring'%29%0A%0A%23%20report%0Aprint%28f'higher%20%3D%20%7Bhigher%7D'%29%0Aprint%28f'lower%20%3D%20%7Blower%7D'%29&cumulative=false&curInstr=41&heapPrimitives=nevernest&mode=display&origin=opt-frontend.js&py=3&rawInputLstJSON=%5B%2210%22,%222%203%2020%2030%20hello%2050%22,%22%22%5D&textReferences=false"
   ]
  },
  {
   "cell_type": "markdown",
   "id": "e1bcebda-e420-4853-b94d-35668153886d",
   "metadata": {},
   "source": [
    "# Dictionaries (aka \"dicts\")\n",
    "\n",
    "Dictionaries are not unique to Python! They exist in other languages, too, often with names like:\n",
    "\n",
    "- Hash table\n",
    "- Hash map\n",
    "- Hash\n",
    "- Map\n",
    "- Key-value store\n",
    "- Name-value store\n",
    "- Associative array\n",
    "\n",
    "All of these things describe the same sort of data structure.\n",
    "\n",
    "The idea of a dictionary is sort of like a list, except that in a list, the index is dictated by the number of elements, and is always an integer. If there are 5 elements in a list, then they have the indexes 0-4. \n",
    "\n",
    "In a dict, we can determine what the indexes are, as well as determine what the values are. The keys (which is what we call the indexes) can be any **immutable** type, which basically and normally means integers and strings.\n",
    "\n",
    "This means that our code can be much clearer with a dict, because we aren't using numeric indexes. Rather, we're able to use something closer to our own language.\n",
    "\n",
    "# Defining a dict\n",
    "\n",
    "We define a dictionary with `{}`\n",
    "\n",
    "- Each key-value pair has a colon between the key and the value\n",
    "- The pairs are separated by commas\n",
    "- Every key has a value, every value has a key\n",
    "- Keys are guaranteed to be unique! If you repeat a key, the last one wins\n",
    "- Values don't need to be unique"
   ]
  },
  {
   "cell_type": "code",
   "execution_count": 23,
   "id": "f940b6ae-8c7a-4946-8b5d-061c4eb5cce1",
   "metadata": {},
   "outputs": [
    {
     "data": {
      "text/plain": [
       "dict"
      ]
     },
     "execution_count": 23,
     "metadata": {},
     "output_type": "execute_result"
    }
   ],
   "source": [
    "# defining a simple dict\n",
    "\n",
    "d = {'a':100, 'b':200, 'c':300}\n",
    "\n",
    "type(d)"
   ]
  },
  {
   "cell_type": "code",
   "execution_count": 24,
   "id": "5f127bb4-5cf4-41ec-b3d0-3c9aa33aa6eb",
   "metadata": {},
   "outputs": [
    {
     "data": {
      "text/plain": [
       "3"
      ]
     },
     "execution_count": 24,
     "metadata": {},
     "output_type": "execute_result"
    }
   ],
   "source": [
    "# when we talk about dictionaries, we always talk about them in terms of pairs,\n",
    "# not individual keys or values.\n",
    "\n",
    "len(d)   # how big is d? "
   ]
  },
  {
   "cell_type": "code",
   "execution_count": 25,
   "id": "602e4569-3786-4e3e-b563-bceed6e57dff",
   "metadata": {},
   "outputs": [
    {
     "data": {
      "text/plain": [
       "100"
      ]
     },
     "execution_count": 25,
     "metadata": {},
     "output_type": "execute_result"
    }
   ],
   "source": [
    "# what if I want to retrieve from a dict?\n",
    "# I use []\n",
    "\n",
    "d['a']   # put the key in the square brackets"
   ]
  },
  {
   "cell_type": "code",
   "execution_count": 26,
   "id": "c285dc4e-294a-4324-889e-f7997a2fe83a",
   "metadata": {},
   "outputs": [
    {
     "ename": "KeyError",
     "evalue": "'x'",
     "output_type": "error",
     "traceback": [
      "\u001b[0;31m---------------------------------------------------------------------------\u001b[0m",
      "\u001b[0;31mKeyError\u001b[0m                                  Traceback (most recent call last)",
      "Cell \u001b[0;32mIn[26], line 1\u001b[0m\n\u001b[0;32m----> 1\u001b[0m \u001b[43md\u001b[49m\u001b[43m[\u001b[49m\u001b[38;5;124;43m'\u001b[39;49m\u001b[38;5;124;43mx\u001b[39;49m\u001b[38;5;124;43m'\u001b[39;49m\u001b[43m]\u001b[49m  \u001b[38;5;66;03m# if it doesn't exist...\u001b[39;00m\n",
      "\u001b[0;31mKeyError\u001b[0m: 'x'"
     ]
    }
   ],
   "source": [
    "d['x']  # if it doesn't exist..."
   ]
  },
  {
   "cell_type": "code",
   "execution_count": 27,
   "id": "497efb6e-65a3-41eb-b7b9-9daf3013c1f3",
   "metadata": {},
   "outputs": [
    {
     "data": {
      "text/plain": [
       "200"
      ]
     },
     "execution_count": 27,
     "metadata": {},
     "output_type": "execute_result"
    }
   ],
   "source": [
    "# can I use a variable? yes\n",
    "\n",
    "k = 'b'\n",
    "d[k]  # should return d['b'], which is 200"
   ]
  },
  {
   "cell_type": "code",
   "execution_count": 28,
   "id": "5f6dd229-cd4c-4246-b28e-9f6b8070c192",
   "metadata": {},
   "outputs": [],
   "source": [
    "# Here, we see that we can retrieve a value based on the key\n",
    "# can we retrieve a key based on the value?\n",
    "\n",
    "# no. Dicts are one-way streets. You always use the key to do things; the value\n",
    "# is dragged along for the ride.\n",
    "\n",
    "# besides, values aren't guaranteed to be unique!\n",
    "\n",
    "# choose your keys well, so that they'll work for your purposes"
   ]
  },
  {
   "cell_type": "code",
   "execution_count": 29,
   "id": "dadbd6a2-4fe1-44a7-bd8f-749de38953e3",
   "metadata": {},
   "outputs": [
    {
     "data": {
      "text/plain": [
       "True"
      ]
     },
     "execution_count": 29,
     "metadata": {},
     "output_type": "execute_result"
    }
   ],
   "source": [
    "# how can I check if a key is in a dict?\n",
    "# I can use the \"in\" operator\n",
    "# it does *not* check the values, only the keys!\n",
    "\n",
    "'a' in d    # is 'a' a key in d?"
   ]
  },
  {
   "cell_type": "code",
   "execution_count": 30,
   "id": "894e567d-8e89-4f14-8f90-71c3105a7046",
   "metadata": {},
   "outputs": [
    {
     "data": {
      "text/plain": [
       "False"
      ]
     },
     "execution_count": 30,
     "metadata": {},
     "output_type": "execute_result"
    }
   ],
   "source": [
    "'x' in d"
   ]
  },
  {
   "cell_type": "markdown",
   "id": "d9cc58fa-aeb8-47cb-abc6-96f439a06ba7",
   "metadata": {},
   "source": [
    "# First paradigm of dict use: Define once, and treat as a read-only database\n",
    "\n",
    "At the top of our program, we'll define the dict.  In the program, we'll refer to it.\n",
    "\n",
    "Some examples of where we might want that:\n",
    "\n",
    "- Keys are month names, and values are month numbers\n",
    "- Keys are month numbers, and values are month names\n",
    "- International dialing codes and country names\n",
    "- Usernames and user IDs\n",
    "\n"
   ]
  },
  {
   "cell_type": "markdown",
   "id": "db3a892f-d601-4cfa-ae9e-52224becd402",
   "metadata": {},
   "source": [
    "# Exercise: Restaurant\n",
    "\n",
    "1. Define a dict whose keys are strings, the entries on a restaurant menu, and the values are the prices of those items.\n",
    "2. Define `total` to be 0.\n",
    "3. Ask the user, repeatedly, to order something from the menu. (You don't have to print the menu for them.)\n",
    "    - If the user enters an empty string, stop asking and print the total bill.\n",
    "    - If the user enters something that *is* on the menu, then print that item's price and the total so far, including that item.\n",
    "    - If the user enters something that is *not* on the menu, then scold the user.\n",
    "4. Print the total.\n",
    "\n",
    "Example:\n",
    "\n",
    "    Order: sandwich\n",
    "    sandwich is 10, total is 10\n",
    "    Order: tea\n",
    "    tea is 5, total is 15\n",
    "    Order: elephant\n",
    "    We're all out of elephant today!\n",
    "    Order: [ENTER]\n",
    "    Total is 15"
   ]
  },
  {
   "cell_type": "code",
   "execution_count": 31,
   "id": "829474cc-02c9-4755-841b-847e09f893b0",
   "metadata": {},
   "outputs": [
    {
     "data": {
      "text/plain": [
       "10"
      ]
     },
     "execution_count": 31,
     "metadata": {},
     "output_type": "execute_result"
    }
   ],
   "source": [
    "# we use curly braces to define a dict\n",
    "# each key-value pair written as key:value\n",
    "menu = {'sandwich':10, 'tea':5, 'apple':2, 'cake':7}\n",
    "\n",
    "menu['sandwich']"
   ]
  },
  {
   "cell_type": "code",
   "execution_count": 32,
   "id": "86aea0ab-c21c-4503-a1af-835ad2802719",
   "metadata": {},
   "outputs": [
    {
     "data": {
      "text/plain": [
       "10"
      ]
     },
     "execution_count": 32,
     "metadata": {},
     "output_type": "execute_result"
    }
   ],
   "source": [
    "order = 'sandwich'\n",
    "menu[order]"
   ]
  },
  {
   "cell_type": "code",
   "execution_count": 36,
   "id": "e8c5543e-c9ce-4797-93be-d8263740fcec",
   "metadata": {},
   "outputs": [
    {
     "name": "stdin",
     "output_type": "stream",
     "text": [
      "Order:  sandwich\n"
     ]
    },
    {
     "name": "stdout",
     "output_type": "stream",
     "text": [
      "Price is 10; total is 10\n"
     ]
    },
    {
     "name": "stdin",
     "output_type": "stream",
     "text": [
      "Order:  tea\n"
     ]
    },
    {
     "name": "stdout",
     "output_type": "stream",
     "text": [
      "Price is 5; total is 15\n"
     ]
    },
    {
     "name": "stdin",
     "output_type": "stream",
     "text": [
      "Order:  cake\n"
     ]
    },
    {
     "name": "stdout",
     "output_type": "stream",
     "text": [
      "Price is 7; total is 22\n"
     ]
    },
    {
     "name": "stdin",
     "output_type": "stream",
     "text": [
      "Order:  apple\n"
     ]
    },
    {
     "name": "stdout",
     "output_type": "stream",
     "text": [
      "Price is 2; total is 24\n"
     ]
    },
    {
     "name": "stdin",
     "output_type": "stream",
     "text": [
      "Order:  apple\n"
     ]
    },
    {
     "name": "stdout",
     "output_type": "stream",
     "text": [
      "Price is 2; total is 26\n"
     ]
    },
    {
     "name": "stdin",
     "output_type": "stream",
     "text": [
      "Order:  \n"
     ]
    },
    {
     "name": "stdout",
     "output_type": "stream",
     "text": [
      "Total is 26\n"
     ]
    }
   ],
   "source": [
    "# setup\n",
    "menu = {'sandwich':10, 'tea':5, 'apple':2, 'cake':7}\n",
    "total = 0\n",
    "\n",
    "# calculations\n",
    "while True:\n",
    "    order = input('Order: ').strip()\n",
    "\n",
    "    if order == '':\n",
    "        break\n",
    "\n",
    "    # take whatever the user entered\n",
    "    # does it appear as a key in the \"menu\" dict?\n",
    "    if order in menu:\n",
    "        price = menu[order]    # retrieve the price from the menu, and assign to price\n",
    "        total += price\n",
    "        print(f'Price is {price}; total is {total}')\n",
    "\n",
    "    else:\n",
    "        print(f'We are out of {order} today!')\n",
    "\n",
    "# report\n",
    "print(f'Total is {total}')"
   ]
  },
  {
   "cell_type": "code",
   "execution_count": 34,
   "id": "40393273-7237-4354-b599-3c7ba44d8521",
   "metadata": {},
   "outputs": [
    {
     "data": {
      "text/plain": [
       "40"
      ]
     },
     "execution_count": 34,
     "metadata": {},
     "output_type": "execute_result"
    }
   ],
   "source": [
    "mylist = [10, 20, 30, 40, 50]\n",
    "i = 3\n",
    "\n",
    "# how can I retrieve the item from mylist with the index in i?\n",
    "mylist[i]  "
   ]
  },
  {
   "cell_type": "code",
   "execution_count": 35,
   "id": "fc5cf01b-f514-4fbf-bf44-bb1e97cdda87",
   "metadata": {},
   "outputs": [
    {
     "data": {
      "text/plain": [
       "200"
      ]
     },
     "execution_count": 35,
     "metadata": {},
     "output_type": "execute_result"
    }
   ],
   "source": [
    "d = {'a':100, 'b':200, 'c':300}\n",
    "key = 'b'\n",
    "\n",
    "# how can I retrieve from the dict \"d\" where the key is in the variable \"key\"?\n",
    "d[key]"
   ]
  },
  {
   "cell_type": "markdown",
   "id": "ff532820-871b-4cb2-9706-99381023951a",
   "metadata": {},
   "source": [
    "# Solution from Python Tutor\n",
    "\n",
    "https://pythontutor.com/render.html#code=%23%20setup%0Amenu%20%3D%20%7B'sandwich'%3A10,%20'tea'%3A5,%20'apple'%3A2,%20'cake'%3A7%7D%0Atotal%20%3D%200%0A%0A%23%20calculations%0Awhile%20True%3A%0A%20%20%20%20order%20%3D%20input%28'Order%3A%20'%29.strip%28%29%0A%0A%20%20%20%20if%20order%20%3D%3D%20''%3A%0A%20%20%20%20%20%20%20%20break%0A%0A%20%20%20%20%23%20take%20whatever%20the%20user%20entered%0A%20%20%20%20%23%20does%20it%20appear%20as%20a%20key%20in%20the%20%22menu%22%20dict%3F%0A%20%20%20%20if%20order%20in%20menu%3A%0A%20%20%20%20%20%20%20%20price%20%3D%20menu%5Border%5D%20%20%20%20%23%20retrieve%20the%20price%20from%20the%20menu,%20and%20assign%20to%20price%0A%20%20%20%20%20%20%20%20total%20%2B%3D%20price%0A%20%20%20%20%20%20%20%20print%28f'Price%20is%20%7Bprice%7D%3B%20total%20is%20%7Btotal%7D'%29%0A%0A%20%20%20%20else%3A%0A%20%20%20%20%20%20%20%20print%28f'We%20are%20out%20of%20%7Border%7D%20today!'%29%0A%0A%23%20report%0Aprint%28f'Total%20is%20%7Btotal%7D'%29&cumulative=false&curInstr=23&heapPrimitives=nevernest&mode=display&origin=opt-frontend.js&py=3&rawInputLstJSON=%5B%22sandwich%22,%22tea%22,%22fish%22,%22%22%5D&textReferences=false"
   ]
  }
 ],
 "metadata": {
  "kernelspec": {
   "display_name": "Python 3 (ipykernel)",
   "language": "python",
   "name": "python3"
  },
  "language_info": {
   "codemirror_mode": {
    "name": "ipython",
    "version": 3
   },
   "file_extension": ".py",
   "mimetype": "text/x-python",
   "name": "python",
   "nbconvert_exporter": "python",
   "pygments_lexer": "ipython3",
   "version": "3.10.12"
  }
 },
 "nbformat": 4,
 "nbformat_minor": 5
}
