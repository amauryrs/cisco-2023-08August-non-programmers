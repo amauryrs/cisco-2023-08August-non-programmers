{
 "cells": [
  {
   "cell_type": "markdown",
   "id": "75cc07fc-f087-4964-8c5a-c73b1e7a341b",
   "metadata": {},
   "source": [
    "# Agenda\n",
    "\n",
    "1. Recap + Q&A + exercise\n",
    "2. Dictionaries\n",
    "    - What are they?\n",
    "    - Creating dicts\n",
    "    - Retrieving from and updating dicts\n",
    "    - How do they work?\n",
    "    - The three different paradigms of dict usage\n",
    "3. Files (text files)\n",
    "    - Reading from files\n",
    "    - Looping over files (and why we can/should do that)\n",
    "    - Writing to files\n",
    "4. Set up Python + PyCharm on your computer\n"
   ]
  },
  {
   "cell_type": "markdown",
   "id": "d494bdbb-9b74-472a-94ad-05e34a6cebaa",
   "metadata": {},
   "source": [
    "# Recap from yesterday\n",
    "\n",
    "- Loops\n",
    "    - `for` loops over strings -- we get one character at a time\n",
    "    - `for` loops over numbers -- we use the `range` function\n",
    "    - `for` loop with indexes -- using the `enumerate` function\n",
    "    - `while` loops -- like an `if` that repeats running its block until the condition is `False`\n",
    "    - `break` -- stops the running of a loop immediately\n",
    "    - `continue` -- stops the running of the current iteration, but goes to the next one in the loop\n",
    "    - If we use `while True` for a loop, then we can use `break` to get out when we get certain input from the user, or hit a particular condition.\n",
    "- Lists\n",
    "    - Mutable\n",
    "        - We can modify the contents of a list via assignment\n",
    "        - We can add items to the end of a list with `list.append`\n",
    "        - We can remove items from the end of a list with `list.pop`\n",
    "    - Ordered\n",
    "        - Just as with strings, we can retrieve with a numeric index or get multiple items with a slice\n",
    "        - We can iterate over the elements of a list, starting with index 0 and going through the end\n",
    "    - Containers -- a list can contain any number of any other objects of any type -- including a list of lists!\n",
    "    - Many (most) of the things that work on strings also work on lists, because both are in the \"sequence\" family in Python\n",
    "        - Indexes\n",
    "        - Slices\n",
    "        - `in` for searching\n",
    "        - `for` loops\n",
    "- Turning strings into lists, and vice versa\n",
    "    - We can get a list of strings based on a string with the `str.split` method\n",
    "        - If we give a delimiter as an argument, then that is used to break apart the original string\n",
    "        - If we don't pass any argument to `str.split`, then any whitespace of any length and any combination is used as the delimiter\n",
    "        - When we use `str.split`, the original string isn't changed. We get back a new list of strings based on it.\n",
    "    - We can take a list of strings, and produce one new string based on it, using `str.join`\n",
    "        - We invoke the method on a string, the \"glue\" that'll go between elements of the list\n",
    "        - We get back a new string, without affecting/modifying the list on which we ran\n",
    "- Tuples\n",
    "    - You can think of tuples as immutable lists, even though the Python world thinks about them as structs/records, containing different types of values\n",
    "    - Most of the things that work on strings and lists also work on tuples\n",
    "    - Python uses a lot of tuples behind the scenes, but how much you'll want to use them is up to you.\n",
    "- Tuple unpacking\n",
    "    - If you have an iterable on the right side of assignment, and a tuple of variables on the left side of assignment, the values are assigned in parallel to the variables\n",
    "    - This means that you can retrieve/ex"
   ]
  }
 ],
 "metadata": {
  "kernelspec": {
   "display_name": "Python 3 (ipykernel)",
   "language": "python",
   "name": "python3"
  },
  "language_info": {
   "codemirror_mode": {
    "name": "ipython",
    "version": 3
   },
   "file_extension": ".py",
   "mimetype": "text/x-python",
   "name": "python",
   "nbconvert_exporter": "python",
   "pygments_lexer": "ipython3",
   "version": "3.10.12"
  }
 },
 "nbformat": 4,
 "nbformat_minor": 5
}
