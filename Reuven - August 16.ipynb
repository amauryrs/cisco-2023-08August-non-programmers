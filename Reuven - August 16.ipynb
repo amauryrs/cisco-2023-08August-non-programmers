{
 "cells": [
  {
   "cell_type": "markdown",
   "id": "75cc07fc-f087-4964-8c5a-c73b1e7a341b",
   "metadata": {},
   "source": [
    "# Agenda\n",
    "\n",
    "1. Recap + Q&A + exercise\n",
    "2. Dictionaries\n",
    "    - What are they?\n",
    "    - Creating dicts\n",
    "    - Retrieving from and updating dicts\n",
    "    - How do they work?\n",
    "    - The three different paradigms of dict usage\n",
    "3. Files (text files)\n",
    "    - Reading from files\n",
    "    - Looping over files (and why we can/should do that)\n",
    "    - Writing to files\n",
    "4. Set up Python + PyCharm on your computer\n"
   ]
  },
  {
   "cell_type": "markdown",
   "id": "d494bdbb-9b74-472a-94ad-05e34a6cebaa",
   "metadata": {},
   "source": [
    "# Recap from yesterday\n",
    "\n",
    "- Loops\n",
    "    - `for` loops over strings -- we get one character at a time\n",
    "    - `for` loops over numbers -- we use the `range` function\n",
    "    - `for` loop with indexes -- using the `enumerate` function\n",
    "    - `while` loops -- like an `if` that repeats running its block until the condition is `False`\n",
    "    - `break` -- stops the running of a loop immediately\n",
    "    - `continue` -- stops the running of the current iteration, but goes to the next one in the loop\n",
    "    - If we use `while True` for a loop, then we can use `break` to get out when we get certain input from the user, or hit a particular condition.\n",
    "- Lists\n",
    "    - Mutable\n",
    "        - We can modify the contents of a list via assignment\n",
    "        - We can add items to the end of a list with `list.append`\n",
    "        - We can remove items from the end of a list with `list.pop`\n",
    "    - Ordered\n",
    "        - Just as with strings, we can retrieve with a numeric index or get multiple items with a slice\n",
    "        - We can iterate over the elements of a list, starting with index 0 and going through the end\n",
    "    - Containers -- a list can contain any number of any other objects of any type -- including a list of lists!\n",
    "    - Many (most) of the things that work on strings also work on lists, because both are in the \"sequence\" family in Python\n",
    "        - Indexes\n",
    "        - Slices\n",
    "        - `in` for searching\n",
    "        - `for` loops\n",
    "- Turning strings into lists, and vice versa\n",
    "    - We can get a list of strings based on a string with the `str.split` method\n",
    "        - If we give a delimiter as an argument, then that is used to break apart the original string\n",
    "        - If we don't pass any argument to `str.split`, then any whitespace of any length and any combination is used as the delimiter\n",
    "        - When we use `str.split`, the original string isn't changed. We get back a new list of strings based on it.\n",
    "    - We can take a list of strings, and produce one new string based on it, using `str.join`\n",
    "        - We invoke the method on a string, the \"glue\" that'll go between elements of the list\n",
    "        - We get back a new string, without affecting/modifying the list on which we ran\n",
    "- Tuples\n",
    "    - You can think of tuples as immutable lists, even though the Python world thinks about them as structs/records, containing different types of values\n",
    "    - Most of the things that work on strings and lists also work on tuples\n",
    "    - Python uses a lot of tuples behind the scenes, but how much you'll want to use them is up to you.\n",
    "- Tuple unpacking\n",
    "    - If you have an iterable on the right side of assignment, and a tuple of variables on the left side of assignment, the values are assigned in parallel to the variables\n",
    "    - This means that you can retrieve/extract elements of a sequence into variables pretty easily"
   ]
  },
  {
   "cell_type": "markdown",
   "id": "8d152a9b-562a-4b0a-9f01-0522e29dd20f",
   "metadata": {},
   "source": [
    "# Splitting and joining\n",
    "\n",
    "If I have a string, and I want to treat it as a bunch of fields (in a record) or words (in a sentence), then I can use `str.split` to get back a list of strings based on that string."
   ]
  },
  {
   "cell_type": "code",
   "execution_count": 1,
   "id": "763005c1-7224-4986-b62a-f53a3480ccb8",
   "metadata": {},
   "outputs": [
    {
     "data": {
      "text/plain": [
       "['Reuven', 'Lerner', 'reuven@lerner.co.il', '46']"
      ]
     },
     "execution_count": 1,
     "metadata": {},
     "output_type": "execute_result"
    }
   ],
   "source": [
    "# CSV -- comma-separated values\n",
    "\n",
    "s = 'Reuven,Lerner,reuven@lerner.co.il,46'\n",
    "\n",
    "s.split(',')    # this returns a new list of strings based on s -- we'll get 4 elements"
   ]
  },
  {
   "cell_type": "code",
   "execution_count": 2,
   "id": "f3ccdf18-4c73-42bb-b8be-e8bf5a28aa45",
   "metadata": {},
   "outputs": [
    {
     "data": {
      "text/plain": [
       "'Reuven'"
      ]
     },
     "execution_count": 2,
     "metadata": {},
     "output_type": "execute_result"
    }
   ],
   "source": [
    "fields = s.split(',')  # now the list is assigned to the \"fields\" variable\n",
    "\n",
    "fields[0]"
   ]
  },
  {
   "cell_type": "code",
   "execution_count": 4,
   "id": "b3a36a09-7748-4ca5-8437-b6335bcc7e0f",
   "metadata": {},
   "outputs": [
    {
     "data": {
      "text/plain": [
       "'Lerner'"
      ]
     },
     "execution_count": 4,
     "metadata": {},
     "output_type": "execute_result"
    }
   ],
   "source": [
    "fields[1]"
   ]
  },
  {
   "cell_type": "code",
   "execution_count": 5,
   "id": "8d93d4d4-d037-4425-8589-d11e00f5a1f2",
   "metadata": {},
   "outputs": [],
   "source": [
    "# I can even, using unpacking, say:\n",
    "\n",
    "first_name, last_name, email, shoe_size = s.split(',')"
   ]
  },
  {
   "cell_type": "code",
   "execution_count": 7,
   "id": "17fd9044-3be3-433e-b1a5-72ebb74b5de8",
   "metadata": {},
   "outputs": [],
   "source": [
    "# split is always about taking a string and breaking it into pieces, using\n",
    "# some small string as a delimiter\n",
    "\n",
    "# You can use any character or string as a delimiter\n",
    "# here's a line from the Unix /etc/passwd file, containing user info:\n",
    "\n",
    "s = '_postfix:*:27:27:Postfix Mail Server:/var/spool/postfix:/usr/bin/false'\n",
    "\n",
    "# the fields are separated with : characters"
   ]
  },
  {
   "cell_type": "code",
   "execution_count": 8,
   "id": "a1a3e530-91f9-4e95-8423-61f1f1be219e",
   "metadata": {},
   "outputs": [
    {
     "data": {
      "text/plain": [
       "['_postfix',\n",
       " '*',\n",
       " '27',\n",
       " '27',\n",
       " 'Postfix Mail Server',\n",
       " '/var/spool/postfix',\n",
       " '/usr/bin/false']"
      ]
     },
     "execution_count": 8,
     "metadata": {},
     "output_type": "execute_result"
    }
   ],
   "source": [
    "s.split(':')"
   ]
  },
  {
   "cell_type": "code",
   "execution_count": 9,
   "id": "b9a8150c-92a5-4e3c-914a-f29a0306d597",
   "metadata": {},
   "outputs": [
    {
     "data": {
      "text/plain": [
       "['_postfix:*:27:27:Postfix Mail Server:/var/spool/postfix:/usr/bin/false']"
      ]
     },
     "execution_count": 9,
     "metadata": {},
     "output_type": "execute_result"
    }
   ],
   "source": [
    "# what if I split on something that isn't there?\n",
    "s.split('~')"
   ]
  },
  {
   "cell_type": "code",
   "execution_count": 11,
   "id": "cfc080f1-c289-4862-af61-3afc00c0fe20",
   "metadata": {},
   "outputs": [
    {
     "data": {
      "text/plain": [
       "['This', 'is', 'a', 'bunch', 'of', 'words', 'for', 'my', 'Python', 'course']"
      ]
     },
     "execution_count": 11,
     "metadata": {},
     "output_type": "execute_result"
    }
   ],
   "source": [
    "# the most common use of split is on user-entered data\n",
    "# when we want to break a string apart into words, we can split without mentioning the delimiter\n",
    "# in such a case, any/all whitespace is used\n",
    "\n",
    "s = 'This    is a bunch of    words for my Python course'\n",
    "\n",
    "s.split()  # split on nothing == split on whitespace"
   ]
  },
  {
   "cell_type": "code",
   "execution_count": 12,
   "id": "50610e20-4e92-4fd4-a713-de71c5c8d495",
   "metadata": {},
   "outputs": [
    {
     "data": {
      "text/plain": [
       "['This', 'is', 'a', 'bunch', 'of', 'words', 'for', 'my', 'Python', 'course']"
      ]
     },
     "execution_count": 12,
     "metadata": {},
     "output_type": "execute_result"
    }
   ],
   "source": [
    "# Joining is a bit trickier.  We need two pieces:\n",
    "# 1. The \"glue\" string, typically one character, that'll go between the list elements\n",
    "# 2. A list of strings that'll be joined together\n",
    "\n",
    "words = s.split()   # now I have a list of strings!\n",
    "words"
   ]
  },
  {
   "cell_type": "code",
   "execution_count": 13,
   "id": "5f1da732-df4a-49ea-adac-eebdcc2ff271",
   "metadata": {},
   "outputs": [
    {
     "data": {
      "text/plain": [
       "'This is a bunch of words for my Python course'"
      ]
     },
     "execution_count": 13,
     "metadata": {},
     "output_type": "execute_result"
    }
   ],
   "source": [
    "# I want to get a new string back\n",
    "# based on words\n",
    "# with spaces between the words \n",
    "\n",
    "' '.join(words)"
   ]
  },
  {
   "cell_type": "code",
   "execution_count": 14,
   "id": "abbfcae0-ad68-494c-96a5-7359527e00e9",
   "metadata": {},
   "outputs": [
    {
     "data": {
      "text/plain": [
       "'This  is  a  bunch  of  words  for  my  Python  course'"
      ]
     },
     "execution_count": 14,
     "metadata": {},
     "output_type": "execute_result"
    }
   ],
   "source": [
    "# what if I want two spaces between each word?\n",
    "\n",
    "'  '.join(words)"
   ]
  },
  {
   "cell_type": "code",
   "execution_count": 15,
   "id": "3d46254c-4bc8-4ea4-a4b2-207e18430478",
   "metadata": {},
   "outputs": [
    {
     "data": {
      "text/plain": [
       "'This*_*is*_*a*_*bunch*_*of*_*words*_*for*_*my*_*Python*_*course'"
      ]
     },
     "execution_count": 15,
     "metadata": {},
     "output_type": "execute_result"
    }
   ],
   "source": [
    "# what if I want underscores and asterisks between words?\n",
    "\n",
    "'*_*'.join(words)"
   ]
  },
  {
   "cell_type": "code",
   "execution_count": 16,
   "id": "957156e7-7453-45eb-8a7c-89bf15fae3bf",
   "metadata": {},
   "outputs": [],
   "source": [
    "# notice that the glue goes between elements, not at the start and finish\n",
    "# also, remember -- the original list isn't changed in the slightest"
   ]
  },
  {
   "cell_type": "markdown",
   "id": "e6ba92e3-95b6-4142-8be2-0f59c14a8eaf",
   "metadata": {},
   "source": [
    "# Exercise: Higher and lower\n",
    "\n",
    "1. Define two empty lists, `higher` and `lower`.\n",
    "2. Ask the user to enter an integer, which we'll call `threshold`.\n",
    "3. Repeatedly ask the user to enter a string with numbers separated by whitespace.\n",
    "    - If the user enters an empty string, stop asking\n",
    "4. Go through each \"word\" in the string, one at a time.\n",
    "    - If it's not a number, then scold the user and go on to the next word\n",
    "    - If it's a number and lower than the threshold, append it to `lower`.\n",
    "    - If it's a number and higher (or equal to) the threshold, append it to `higher`.\n",
    "5. At the end print the elements of both `higher` and `lower`.\n",
    "\n",
    "Example:\n",
    "\n",
    "    Enter a threshold: 10\n",
    "    Enter numbers: 5 15 20 30 7\n",
    "    Enter numbers: 2 10 hello\n",
    "    hello is not a number\n",
    "    Enter numbers: [ENTER]\n",
    "    higher: [15, 20, 30, 10]\n",
    "    lower: [5, 7, 2]\n",
    "\n",
    "What are the things to keep in mind here?\n",
    "- `while` loop that goes forever\n",
    "- Ask the user for input, and check for an empty string -- if it's empty, then `break`\n",
    "- Split the user's input string into a bunch of words\n",
    "- Iterate over those words, one at a time\n",
    "- If the word cannot be turned into an integer, continue onto the next word\n",
    "- If the word *can* be turned into an integer, then check whether it's higher/lower than the threshold\n",
    "- Append to the appropriate list\n",
    "- At the end of everything, print both `higher` and `lower`."
   ]
  },
  {
   "cell_type": "code",
   "execution_count": 22,
   "id": "fc2974f1-e293-4a54-8acf-231d048efb36",
   "metadata": {},
   "outputs": [
    {
     "name": "stdin",
     "output_type": "stream",
     "text": [
      "Enter threshold:  10\n",
      "Enter numbers:  2 3 4 5 hello 80 90 100\n"
     ]
    },
    {
     "name": "stdout",
     "output_type": "stream",
     "text": [
      "hello is not numeric; ignoring\n"
     ]
    },
    {
     "name": "stdin",
     "output_type": "stream",
     "text": [
      "Enter numbers:  20 30 50 2 3\n",
      "Enter numbers:  \n"
     ]
    },
    {
     "name": "stdout",
     "output_type": "stream",
     "text": [
      "higher = [80, 90, 100, 20, 30, 50]\n",
      "lower = [2, 3, 4, 5, 2, 3]\n"
     ]
    }
   ],
   "source": [
    "# setup\n",
    "higher = []\n",
    "lower = []\n",
    "\n",
    "# calculations\n",
    "s = input('Enter threshold: ').strip()\n",
    "threshold = int(s)   # here, we assume we got a number\n",
    "\n",
    "while True:\n",
    "    s = input('Enter numbers: ').strip()\n",
    "\n",
    "    # if the user gave us an empty string, then break out of this loop\n",
    "    if s == '':\n",
    "        break\n",
    "\n",
    "    # if I'm here, then I know that the string is non-empty\n",
    "    # break it apart into individual words/numbers, and go through each one to see if it's\n",
    "    # higher or lower\n",
    "    for one_word in s.split():\n",
    "\n",
    "        if one_word.isdigit():\n",
    "            n = int(one_word)    # get an int from one_word, and assign to n\n",
    "            if n < threshold:\n",
    "                lower.append(n)                \n",
    "            else:\n",
    "                higher.append(n)\n",
    "\n",
    "        else:   # not numeric? scold the user!\n",
    "            print(f'{one_word} is not numeric; ignoring')\n",
    "\n",
    "# report\n",
    "print(f'higher = {higher}')\n",
    "print(f'lower = {lower}')"
   ]
  },
  {
   "cell_type": "markdown",
   "id": "a749bf99-e9bf-4055-8372-bb3cdaa65a48",
   "metadata": {},
   "source": [
    "# Solution in the Python Tutor:\n",
    "\n",
    "https://pythontutor.com/render.html#code=%23%20setup%0Ahigher%20%3D%20%5B%5D%0Alower%20%3D%20%5B%5D%0A%0A%23%20calculations%0As%20%3D%20input%28'Enter%20threshold%3A%20'%29.strip%28%29%0Athreshold%20%3D%20int%28s%29%20%20%20%23%20here,%20we%20assume%20we%20got%20a%20number%0A%0Awhile%20True%3A%0A%20%20%20%20s%20%3D%20input%28'Enter%20numbers%3A%20'%29.strip%28%29%0A%0A%20%20%20%20%23%20if%20the%20user%20gave%20us%20an%20empty%20string,%20then%20break%20out%20of%20this%20loop%0A%20%20%20%20if%20s%20%3D%3D%20''%3A%0A%20%20%20%20%20%20%20%20break%0A%0A%20%20%20%20%23%20if%20I'm%20here,%20then%20I%20know%20that%20the%20string%20is%20non-empty%0A%20%20%20%20%23%20break%20it%20apart%20into%20individual%20words/numbers,%20and%20go%20through%20each%20one%20to%20see%20if%20it's%0A%20%20%20%20%23%20higher%20or%20lower%0A%20%20%20%20for%20one_word%20in%20s.split%28%29%3A%0A%0A%20%20%20%20%20%20%20%20if%20one_word.isdigit%28%29%3A%0A%20%20%20%20%20%20%20%20%20%20%20%20n%20%3D%20int%28one_word%29%20%20%20%20%23%20get%20an%20int%20from%20one_word,%20and%20assign%20to%20n%0A%20%20%20%20%20%20%20%20%20%20%20%20if%20n%20%3C%20threshold%3A%0A%20%20%20%20%20%20%20%20%20%20%20%20%20%20%20%20lower.append%28n%29%20%20%20%20%20%20%20%20%20%20%20%20%20%20%20%20%0A%20%20%20%20%20%20%20%20%20%20%20%20else%3A%0A%20%20%20%20%20%20%20%20%20%20%20%20%20%20%20%20higher.append%28n%29%0A%0A%20%20%20%20%20%20%20%20else%3A%20%20%20%23%20not%20numeric%3F%20scold%20the%20user!%0A%20%20%20%20%20%20%20%20%20%20%20%20print%28f'%7Bone_word%7D%20is%20not%20numeric%3B%20ignoring'%29%0A%0A%23%20report%0Aprint%28f'higher%20%3D%20%7Bhigher%7D'%29%0Aprint%28f'lower%20%3D%20%7Blower%7D'%29&cumulative=false&curInstr=41&heapPrimitives=nevernest&mode=display&origin=opt-frontend.js&py=3&rawInputLstJSON=%5B%2210%22,%222%203%2020%2030%20hello%2050%22,%22%22%5D&textReferences=false"
   ]
  },
  {
   "cell_type": "markdown",
   "id": "e1bcebda-e420-4853-b94d-35668153886d",
   "metadata": {},
   "source": [
    "# Dictionaries (aka \"dicts\")\n",
    "\n",
    "Dictionaries are not unique to Python! They exist in other languages, too, often with names like:\n",
    "\n",
    "- Hash table\n",
    "- Hash map\n",
    "- Hash\n",
    "- Map\n",
    "- Key-value store\n",
    "- Name-value store\n",
    "- Associative array\n",
    "\n",
    "All of these things describe the same sort of data structure.\n",
    "\n",
    "The idea of a dictionary is sort of like a list, except that in a list, the index is dictated by the number of elements, and is always an integer. If there are 5 elements in a list, then they have the indexes 0-4. \n",
    "\n",
    "In a dict, we can determine what the indexes are, as well as determine what the values are. The keys (which is what we call the indexes) can be any **immutable** type, which basically and normally means integers and strings.\n",
    "\n",
    "This means that our code can be much clearer with a dict, because we aren't using numeric indexes. Rather, we're able to use something closer to our own language.\n",
    "\n",
    "# Defining a dict\n",
    "\n",
    "We define a dictionary with `{}`\n",
    "\n",
    "- Each key-value pair has a colon between the key and the value\n",
    "- The pairs are separated by commas\n",
    "- Every key has a value, every value has a key\n",
    "- Keys are guaranteed to be unique! If you repeat a key, the last one wins\n",
    "- Values don't need to be unique"
   ]
  },
  {
   "cell_type": "code",
   "execution_count": 23,
   "id": "f940b6ae-8c7a-4946-8b5d-061c4eb5cce1",
   "metadata": {},
   "outputs": [
    {
     "data": {
      "text/plain": [
       "dict"
      ]
     },
     "execution_count": 23,
     "metadata": {},
     "output_type": "execute_result"
    }
   ],
   "source": [
    "# defining a simple dict\n",
    "\n",
    "d = {'a':100, 'b':200, 'c':300}\n",
    "\n",
    "type(d)"
   ]
  },
  {
   "cell_type": "code",
   "execution_count": 24,
   "id": "5f127bb4-5cf4-41ec-b3d0-3c9aa33aa6eb",
   "metadata": {},
   "outputs": [
    {
     "data": {
      "text/plain": [
       "3"
      ]
     },
     "execution_count": 24,
     "metadata": {},
     "output_type": "execute_result"
    }
   ],
   "source": [
    "# when we talk about dictionaries, we always talk about them in terms of pairs,\n",
    "# not individual keys or values.\n",
    "\n",
    "len(d)   # how big is d? "
   ]
  },
  {
   "cell_type": "code",
   "execution_count": 25,
   "id": "602e4569-3786-4e3e-b563-bceed6e57dff",
   "metadata": {},
   "outputs": [
    {
     "data": {
      "text/plain": [
       "100"
      ]
     },
     "execution_count": 25,
     "metadata": {},
     "output_type": "execute_result"
    }
   ],
   "source": [
    "# what if I want to retrieve from a dict?\n",
    "# I use []\n",
    "\n",
    "d['a']   # put the key in the square brackets"
   ]
  },
  {
   "cell_type": "code",
   "execution_count": 26,
   "id": "c285dc4e-294a-4324-889e-f7997a2fe83a",
   "metadata": {},
   "outputs": [
    {
     "ename": "KeyError",
     "evalue": "'x'",
     "output_type": "error",
     "traceback": [
      "\u001b[0;31m---------------------------------------------------------------------------\u001b[0m",
      "\u001b[0;31mKeyError\u001b[0m                                  Traceback (most recent call last)",
      "Cell \u001b[0;32mIn[26], line 1\u001b[0m\n\u001b[0;32m----> 1\u001b[0m \u001b[43md\u001b[49m\u001b[43m[\u001b[49m\u001b[38;5;124;43m'\u001b[39;49m\u001b[38;5;124;43mx\u001b[39;49m\u001b[38;5;124;43m'\u001b[39;49m\u001b[43m]\u001b[49m  \u001b[38;5;66;03m# if it doesn't exist...\u001b[39;00m\n",
      "\u001b[0;31mKeyError\u001b[0m: 'x'"
     ]
    }
   ],
   "source": [
    "d['x']  # if it doesn't exist..."
   ]
  },
  {
   "cell_type": "code",
   "execution_count": 27,
   "id": "497efb6e-65a3-41eb-b7b9-9daf3013c1f3",
   "metadata": {},
   "outputs": [
    {
     "data": {
      "text/plain": [
       "200"
      ]
     },
     "execution_count": 27,
     "metadata": {},
     "output_type": "execute_result"
    }
   ],
   "source": [
    "# can I use a variable? yes\n",
    "\n",
    "k = 'b'\n",
    "d[k]  # should return d['b'], which is 200"
   ]
  },
  {
   "cell_type": "code",
   "execution_count": 28,
   "id": "5f6dd229-cd4c-4246-b28e-9f6b8070c192",
   "metadata": {},
   "outputs": [],
   "source": [
    "# Here, we see that we can retrieve a value based on the key\n",
    "# can we retrieve a key based on the value?\n",
    "\n",
    "# no. Dicts are one-way streets. You always use the key to do things; the value\n",
    "# is dragged along for the ride.\n",
    "\n",
    "# besides, values aren't guaranteed to be unique!\n",
    "\n",
    "# choose your keys well, so that they'll work for your purposes"
   ]
  },
  {
   "cell_type": "code",
   "execution_count": 29,
   "id": "dadbd6a2-4fe1-44a7-bd8f-749de38953e3",
   "metadata": {},
   "outputs": [
    {
     "data": {
      "text/plain": [
       "True"
      ]
     },
     "execution_count": 29,
     "metadata": {},
     "output_type": "execute_result"
    }
   ],
   "source": [
    "# how can I check if a key is in a dict?\n",
    "# I can use the \"in\" operator\n",
    "# it does *not* check the values, only the keys!\n",
    "\n",
    "'a' in d    # is 'a' a key in d?"
   ]
  },
  {
   "cell_type": "code",
   "execution_count": 30,
   "id": "894e567d-8e89-4f14-8f90-71c3105a7046",
   "metadata": {},
   "outputs": [
    {
     "data": {
      "text/plain": [
       "False"
      ]
     },
     "execution_count": 30,
     "metadata": {},
     "output_type": "execute_result"
    }
   ],
   "source": [
    "'x' in d"
   ]
  },
  {
   "cell_type": "markdown",
   "id": "d9cc58fa-aeb8-47cb-abc6-96f439a06ba7",
   "metadata": {},
   "source": [
    "# First paradigm of dict use: Define once, and treat as a read-only database\n",
    "\n",
    "At the top of our program, we'll define the dict.  In the program, we'll refer to it.\n",
    "\n",
    "Some examples of where we might want that:\n",
    "\n",
    "- Keys are month names, and values are month numbers\n",
    "- Keys are month numbers, and values are month names\n",
    "- International dialing codes and country names\n",
    "- Usernames and user IDs\n",
    "\n"
   ]
  },
  {
   "cell_type": "markdown",
   "id": "db3a892f-d601-4cfa-ae9e-52224becd402",
   "metadata": {},
   "source": [
    "# Exercise: Restaurant\n",
    "\n",
    "1. Define a dict whose keys are strings, the entries on a restaurant menu, and the values are the prices of those items.\n",
    "2. Define `total` to be 0.\n",
    "3. Ask the user, repeatedly, to order something from the menu. (You don't have to print the menu for them.)\n",
    "    - If the user enters an empty string, stop asking and print the total bill.\n",
    "    - If the user enters something that *is* on the menu, then print that item's price and the total so far, including that item.\n",
    "    - If the user enters something that is *not* on the menu, then scold the user.\n",
    "4. Print the total.\n",
    "\n",
    "Example:\n",
    "\n",
    "    Order: sandwich\n",
    "    sandwich is 10, total is 10\n",
    "    Order: tea\n",
    "    tea is 5, total is 15\n",
    "    Order: elephant\n",
    "    We're all out of elephant today!\n",
    "    Order: [ENTER]\n",
    "    Total is 15"
   ]
  },
  {
   "cell_type": "code",
   "execution_count": 31,
   "id": "829474cc-02c9-4755-841b-847e09f893b0",
   "metadata": {},
   "outputs": [
    {
     "data": {
      "text/plain": [
       "10"
      ]
     },
     "execution_count": 31,
     "metadata": {},
     "output_type": "execute_result"
    }
   ],
   "source": [
    "# we use curly braces to define a dict\n",
    "# each key-value pair written as key:value\n",
    "menu = {'sandwich':10, 'tea':5, 'apple':2, 'cake':7}\n",
    "\n",
    "menu['sandwich']"
   ]
  },
  {
   "cell_type": "code",
   "execution_count": 32,
   "id": "86aea0ab-c21c-4503-a1af-835ad2802719",
   "metadata": {},
   "outputs": [
    {
     "data": {
      "text/plain": [
       "10"
      ]
     },
     "execution_count": 32,
     "metadata": {},
     "output_type": "execute_result"
    }
   ],
   "source": [
    "order = 'sandwich'\n",
    "menu[order]"
   ]
  },
  {
   "cell_type": "code",
   "execution_count": 36,
   "id": "e8c5543e-c9ce-4797-93be-d8263740fcec",
   "metadata": {},
   "outputs": [
    {
     "name": "stdin",
     "output_type": "stream",
     "text": [
      "Order:  sandwich\n"
     ]
    },
    {
     "name": "stdout",
     "output_type": "stream",
     "text": [
      "Price is 10; total is 10\n"
     ]
    },
    {
     "name": "stdin",
     "output_type": "stream",
     "text": [
      "Order:  tea\n"
     ]
    },
    {
     "name": "stdout",
     "output_type": "stream",
     "text": [
      "Price is 5; total is 15\n"
     ]
    },
    {
     "name": "stdin",
     "output_type": "stream",
     "text": [
      "Order:  cake\n"
     ]
    },
    {
     "name": "stdout",
     "output_type": "stream",
     "text": [
      "Price is 7; total is 22\n"
     ]
    },
    {
     "name": "stdin",
     "output_type": "stream",
     "text": [
      "Order:  apple\n"
     ]
    },
    {
     "name": "stdout",
     "output_type": "stream",
     "text": [
      "Price is 2; total is 24\n"
     ]
    },
    {
     "name": "stdin",
     "output_type": "stream",
     "text": [
      "Order:  apple\n"
     ]
    },
    {
     "name": "stdout",
     "output_type": "stream",
     "text": [
      "Price is 2; total is 26\n"
     ]
    },
    {
     "name": "stdin",
     "output_type": "stream",
     "text": [
      "Order:  \n"
     ]
    },
    {
     "name": "stdout",
     "output_type": "stream",
     "text": [
      "Total is 26\n"
     ]
    }
   ],
   "source": [
    "# setup\n",
    "menu = {'sandwich':10, 'tea':5, 'apple':2, 'cake':7}\n",
    "total = 0\n",
    "\n",
    "# calculations\n",
    "while True:\n",
    "    order = input('Order: ').strip()\n",
    "\n",
    "    if order == '':\n",
    "        break\n",
    "\n",
    "    # take whatever the user entered\n",
    "    # does it appear as a key in the \"menu\" dict?\n",
    "    if order in menu:\n",
    "        price = menu[order]    # retrieve the price from the menu, and assign to price\n",
    "        total += price\n",
    "        print(f'Price is {price}; total is {total}')\n",
    "\n",
    "    else:\n",
    "        print(f'We are out of {order} today!')\n",
    "\n",
    "# report\n",
    "print(f'Total is {total}')"
   ]
  },
  {
   "cell_type": "code",
   "execution_count": 34,
   "id": "40393273-7237-4354-b599-3c7ba44d8521",
   "metadata": {},
   "outputs": [
    {
     "data": {
      "text/plain": [
       "40"
      ]
     },
     "execution_count": 34,
     "metadata": {},
     "output_type": "execute_result"
    }
   ],
   "source": [
    "mylist = [10, 20, 30, 40, 50]\n",
    "i = 3\n",
    "\n",
    "# how can I retrieve the item from mylist with the index in i?\n",
    "mylist[i]  "
   ]
  },
  {
   "cell_type": "code",
   "execution_count": 35,
   "id": "fc5cf01b-f514-4fbf-bf44-bb1e97cdda87",
   "metadata": {},
   "outputs": [
    {
     "data": {
      "text/plain": [
       "200"
      ]
     },
     "execution_count": 35,
     "metadata": {},
     "output_type": "execute_result"
    }
   ],
   "source": [
    "d = {'a':100, 'b':200, 'c':300}\n",
    "key = 'b'\n",
    "\n",
    "# how can I retrieve from the dict \"d\" where the key is in the variable \"key\"?\n",
    "d[key]"
   ]
  },
  {
   "cell_type": "markdown",
   "id": "ff532820-871b-4cb2-9706-99381023951a",
   "metadata": {},
   "source": [
    "# Solution from Python Tutor\n",
    "\n",
    "https://pythontutor.com/render.html#code=%23%20setup%0Amenu%20%3D%20%7B'sandwich'%3A10,%20'tea'%3A5,%20'apple'%3A2,%20'cake'%3A7%7D%0Atotal%20%3D%200%0A%0A%23%20calculations%0Awhile%20True%3A%0A%20%20%20%20order%20%3D%20input%28'Order%3A%20'%29.strip%28%29%0A%0A%20%20%20%20if%20order%20%3D%3D%20''%3A%0A%20%20%20%20%20%20%20%20break%0A%0A%20%20%20%20%23%20take%20whatever%20the%20user%20entered%0A%20%20%20%20%23%20does%20it%20appear%20as%20a%20key%20in%20the%20%22menu%22%20dict%3F%0A%20%20%20%20if%20order%20in%20menu%3A%0A%20%20%20%20%20%20%20%20price%20%3D%20menu%5Border%5D%20%20%20%20%23%20retrieve%20the%20price%20from%20the%20menu,%20and%20assign%20to%20price%0A%20%20%20%20%20%20%20%20total%20%2B%3D%20price%0A%20%20%20%20%20%20%20%20print%28f'Price%20is%20%7Bprice%7D%3B%20total%20is%20%7Btotal%7D'%29%0A%0A%20%20%20%20else%3A%0A%20%20%20%20%20%20%20%20print%28f'We%20are%20out%20of%20%7Border%7D%20today!'%29%0A%0A%23%20report%0Aprint%28f'Total%20is%20%7Btotal%7D'%29&cumulative=false&curInstr=23&heapPrimitives=nevernest&mode=display&origin=opt-frontend.js&py=3&rawInputLstJSON=%5B%22sandwich%22,%22tea%22,%22fish%22,%22%22%5D&textReferences=false"
   ]
  },
  {
   "cell_type": "code",
   "execution_count": 37,
   "id": "ed790862-6dd7-4af9-ac1e-8425b9e75ac5",
   "metadata": {},
   "outputs": [],
   "source": [
    "# define a dict:\n",
    "\n",
    "d = {'a':100, 'b':200, 'c':300}\n",
    "\n",
    "# dictionaries are mutable, like lists!\n",
    "# how do I change a value associated with a key?\n",
    "# assign to the dict, naming the key\n",
    "\n",
    "d['c'] = 999"
   ]
  },
  {
   "cell_type": "code",
   "execution_count": 38,
   "id": "a0c89b98-297e-4c89-881b-19b712f36ba3",
   "metadata": {},
   "outputs": [
    {
     "data": {
      "text/plain": [
       "{'a': 100, 'b': 200, 'c': 999}"
      ]
     },
     "execution_count": 38,
     "metadata": {},
     "output_type": "execute_result"
    }
   ],
   "source": [
    "d"
   ]
  },
  {
   "cell_type": "code",
   "execution_count": 39,
   "id": "60cd2cde-916e-4e74-aaf4-31d553b9c034",
   "metadata": {},
   "outputs": [],
   "source": [
    "# it's just like this:\n",
    "mylist[0] = 'something'"
   ]
  },
  {
   "cell_type": "code",
   "execution_count": 40,
   "id": "aec8f5ac-4046-4379-aafc-a60d244c3497",
   "metadata": {},
   "outputs": [
    {
     "data": {
      "text/plain": [
       "['something', 20, 30, 40, 50]"
      ]
     },
     "execution_count": 40,
     "metadata": {},
     "output_type": "execute_result"
    }
   ],
   "source": [
    "mylist"
   ]
  },
  {
   "cell_type": "code",
   "execution_count": 41,
   "id": "efcd9735-1c73-4e72-936c-d8e5a6129e78",
   "metadata": {},
   "outputs": [
    {
     "data": {
      "text/plain": [
       "{'a': 100, 'b': 200, 'c': 999, 'x': 2345}"
      ]
     },
     "execution_count": 41,
     "metadata": {},
     "output_type": "execute_result"
    }
   ],
   "source": [
    "# but how can I add a new key-value pair to my dict?\n",
    "# there is no special method -- we just assign! If the key is new,\n",
    "# then the key-value pair is created. If the key exists already,\n",
    "# then the value is updated for that key.\n",
    "\n",
    "d['x'] = 2345\n",
    "d"
   ]
  },
  {
   "cell_type": "code",
   "execution_count": 43,
   "id": "f664a885-c3fe-4460-886d-dbc84d5ab7f0",
   "metadata": {},
   "outputs": [
    {
     "data": {
      "text/plain": [
       "5"
      ]
     },
     "execution_count": 43,
     "metadata": {},
     "output_type": "execute_result"
    }
   ],
   "source": [
    "# if I assign to a variable, and the variable already exists,\n",
    "# then its value is updated.\n",
    "\n",
    "# if I assign to a variable, and the variable doesn't yet exist,\n",
    "# then the variable is created and its value is assigned.\n",
    "\n",
    "# we can see Python global variables in the \"globals\" dict, by invoking the \"globals()\" function\n",
    "x = 5\n",
    "globals()['x']"
   ]
  },
  {
   "cell_type": "code",
   "execution_count": null,
   "id": "cc98d1d6-2d11-490b-9e15-fafbbbc93341",
   "metadata": {},
   "outputs": [],
   "source": []
  },
  {
   "cell_type": "code",
   "execution_count": 44,
   "id": "ffae7162-d843-4602-bf25-07a87143f6b4",
   "metadata": {},
   "outputs": [
    {
     "data": {
      "text/plain": [
       "10"
      ]
     },
     "execution_count": 44,
     "metadata": {},
     "output_type": "execute_result"
    }
   ],
   "source": [
    "globals()['x'] = 10\n",
    "x"
   ]
  },
  {
   "cell_type": "code",
   "execution_count": 45,
   "id": "4234fd83-ad59-4aeb-bcc1-aa8981982055",
   "metadata": {},
   "outputs": [
    {
     "data": {
      "text/plain": [
       "{'a': 100, 'b': 200, 'c': 999, 'x': 2345}"
      ]
     },
     "execution_count": 45,
     "metadata": {},
     "output_type": "execute_result"
    }
   ],
   "source": [
    "# what about removing a key-value pair from a dict?\n",
    "# for that, you can use the \"pop\" method, similar to the list method,\n",
    "# but here, you need to specify a key to remove.\n",
    "# The key-value pair is removed, and the value is returned.\n",
    "\n",
    "d"
   ]
  },
  {
   "cell_type": "code",
   "execution_count": 46,
   "id": "570773d2-fd5b-45e1-9e2f-e7896068da95",
   "metadata": {},
   "outputs": [
    {
     "data": {
      "text/plain": [
       "2345"
      ]
     },
     "execution_count": 46,
     "metadata": {},
     "output_type": "execute_result"
    }
   ],
   "source": [
    "d.pop('x')"
   ]
  },
  {
   "cell_type": "code",
   "execution_count": 47,
   "id": "e1fc12c4-fd3a-4b1d-b7cb-e45d6c1eb253",
   "metadata": {},
   "outputs": [
    {
     "data": {
      "text/plain": [
       "{'a': 100, 'b': 200, 'c': 999}"
      ]
     },
     "execution_count": 47,
     "metadata": {},
     "output_type": "execute_result"
    }
   ],
   "source": [
    "d"
   ]
  },
  {
   "cell_type": "markdown",
   "id": "663aea16-d241-4b07-8e6f-d45c281f287a",
   "metadata": {},
   "source": [
    "# Second paradigm of dicts: Keys don't change, but values do\n",
    "\n",
    "The first paradigm of dicts is where we treat it as a read-only database, defining it once and never changing it.\n",
    "\n",
    "In the second paradigm, we define the dict, naming its keys and giving default values (often 0) to each of those keys. Over the course of the program, we'll update those values, to accumulate or count something. We'll never add or remove keys, but we will update the values."
   ]
  },
  {
   "cell_type": "markdown",
   "id": "7b7bae06-4e7d-4565-a4ba-f18817113f8c",
   "metadata": {},
   "source": [
    "# Exercise: Digits, vowels, and others -- dict edition\n",
    "\n",
    "1. Define a dict, `counts`, with three keys -- `digits`, `vowels`, and `others`. The values should all be 0.\n",
    "2. Ask the user to enter a string.\n",
    "3. Go through each character in the string.\n",
    "    - If it's a digit, add 1 to the `digits` count.\n",
    "    - If it's a vowel, add 1 to the `vowels` count.\n",
    "    - Otherwise, add 1 to the `others` count.\n",
    "4. Print the dict when you're done."
   ]
  },
  {
   "cell_type": "code",
   "execution_count": 48,
   "id": "5d951714-49f2-43a1-ade3-32702dad0b7d",
   "metadata": {},
   "outputs": [
    {
     "data": {
      "text/plain": [
       "100"
      ]
     },
     "execution_count": 48,
     "metadata": {},
     "output_type": "execute_result"
    }
   ],
   "source": [
    "d = {'a':100, 'b':200, 'c':300}\n",
    "\n",
    "# I can retrieve values in several ways\n",
    "d['a']    # here, I name the key as a string literal"
   ]
  },
  {
   "cell_type": "code",
   "execution_count": 49,
   "id": "81f4b70c-6369-4e32-8023-f93981b4d76b",
   "metadata": {},
   "outputs": [
    {
     "data": {
      "text/plain": [
       "100"
      ]
     },
     "execution_count": 49,
     "metadata": {},
     "output_type": "execute_result"
    }
   ],
   "source": [
    "key = 'a'\n",
    "d[key]  "
   ]
  },
  {
   "cell_type": "code",
   "execution_count": 50,
   "id": "48571231-ccdf-4f6e-b9aa-dd59c9f39064",
   "metadata": {},
   "outputs": [
    {
     "ename": "KeyError",
     "evalue": "'key'",
     "output_type": "error",
     "traceback": [
      "\u001b[0;31m---------------------------------------------------------------------------\u001b[0m",
      "\u001b[0;31mKeyError\u001b[0m                                  Traceback (most recent call last)",
      "Cell \u001b[0;32mIn[50], line 1\u001b[0m\n\u001b[0;32m----> 1\u001b[0m \u001b[43md\u001b[49m\u001b[43m[\u001b[49m\u001b[38;5;124;43m'\u001b[39;49m\u001b[38;5;124;43mkey\u001b[39;49m\u001b[38;5;124;43m'\u001b[39;49m\u001b[43m]\u001b[49m  \u001b[38;5;66;03m# this won't work!\u001b[39;00m\n",
      "\u001b[0;31mKeyError\u001b[0m: 'key'"
     ]
    }
   ],
   "source": [
    "d['key']  # this won't work!"
   ]
  },
  {
   "cell_type": "code",
   "execution_count": 51,
   "id": "b94ac12e-cb0b-4408-a2e7-f0c4d4d709da",
   "metadata": {},
   "outputs": [
    {
     "ename": "NameError",
     "evalue": "name 'a' is not defined",
     "output_type": "error",
     "traceback": [
      "\u001b[0;31m---------------------------------------------------------------------------\u001b[0m",
      "\u001b[0;31mNameError\u001b[0m                                 Traceback (most recent call last)",
      "Cell \u001b[0;32mIn[51], line 3\u001b[0m\n\u001b[1;32m      1\u001b[0m d \u001b[38;5;241m=\u001b[39m {\u001b[38;5;124m'\u001b[39m\u001b[38;5;124ma\u001b[39m\u001b[38;5;124m'\u001b[39m:\u001b[38;5;241m100\u001b[39m, \u001b[38;5;124m'\u001b[39m\u001b[38;5;124mb\u001b[39m\u001b[38;5;124m'\u001b[39m:\u001b[38;5;241m200\u001b[39m, \u001b[38;5;124m'\u001b[39m\u001b[38;5;124mc\u001b[39m\u001b[38;5;124m'\u001b[39m:\u001b[38;5;241m300\u001b[39m}\n\u001b[0;32m----> 3\u001b[0m d[\u001b[43ma\u001b[49m]  \n",
      "\u001b[0;31mNameError\u001b[0m: name 'a' is not defined"
     ]
    }
   ],
   "source": [
    "d = {'a':100, 'b':200, 'c':300}\n",
    "\n",
    "d[a]  "
   ]
  },
  {
   "cell_type": "code",
   "execution_count": 53,
   "id": "22d47944-1809-4650-a4c0-2f09e8965fb1",
   "metadata": {},
   "outputs": [
    {
     "name": "stdin",
     "output_type": "stream",
     "text": [
      "Enter a string:  hello! 123\n"
     ]
    },
    {
     "name": "stdout",
     "output_type": "stream",
     "text": [
      "{'digits': 3, 'vowels': 2, 'others': 5}\n"
     ]
    }
   ],
   "source": [
    "# setup\n",
    "counts = {'digits':0,\n",
    "          'vowels':0,\n",
    "          'others':0}\n",
    "\n",
    "# calculations\n",
    "s = input('Enter a string: ').strip()\n",
    "\n",
    "for one_character in s:\n",
    "    if one_character.isdigit():\n",
    "        # counts['digits'] = counts['digits'] + 1\n",
    "        counts['digits'] += 1\n",
    "    elif one_character in 'aeiou':\n",
    "        counts['vowels'] += 1\n",
    "    else:\n",
    "        counts['others'] += 1\n",
    "\n",
    "# report\n",
    "print(counts)"
   ]
  },
  {
   "cell_type": "markdown",
   "id": "9490a361-b55b-44de-b73d-4fdcf6742bc1",
   "metadata": {},
   "source": [
    "# Next up\n",
    "\n",
    "1. Iterating over dicts\n",
    "2. Paradigm 3 for dicts -- adding keys and values over time\n",
    "3. How dicts are implemented\n",
    "\n",
    "Resume at :00"
   ]
  },
  {
   "cell_type": "markdown",
   "id": "9a08782b-f100-4f1d-a4cd-ef968fafedbb",
   "metadata": {},
   "source": [
    "# Iterating over a dict\n",
    "\n",
    "We've seen that most Python data structures are iterable, which means that they know how to behave inside of a `for` loop:\n",
    "\n",
    "- Iterating over a string gives us the characters, one at a time\n",
    "- Iterating over a list or tuple gives us the elements, one at a time\n",
    "\n",
    "What will we get if we iterate over a dict?"
   ]
  },
  {
   "cell_type": "code",
   "execution_count": 54,
   "id": "81add0ec-a466-49a6-9c83-30d0eebcf76b",
   "metadata": {},
   "outputs": [
    {
     "name": "stdout",
     "output_type": "stream",
     "text": [
      "a\n",
      "b\n",
      "c\n"
     ]
    }
   ],
   "source": [
    "d = {'a':100, 'b':200, 'c':300}\n",
    "\n",
    "for one_item in d:\n",
    "    print(one_item)"
   ]
  },
  {
   "cell_type": "code",
   "execution_count": 55,
   "id": "01a2c3a0-c2e7-48f3-9cf9-09f8e20cc1a5",
   "metadata": {},
   "outputs": [
    {
     "name": "stdout",
     "output_type": "stream",
     "text": [
      "a: 100\n",
      "b: 200\n",
      "c: 300\n"
     ]
    }
   ],
   "source": [
    "# if I want to print the keys and values, I have to do something like this:\n",
    "\n",
    "for one_key in d:\n",
    "    print(f'{one_key}: {d[one_key]}')"
   ]
  },
  {
   "cell_type": "code",
   "execution_count": 56,
   "id": "11bd9d30-2d1f-452d-80a8-f2db1df11af7",
   "metadata": {},
   "outputs": [
    {
     "data": {
      "text/plain": [
       "dict_keys(['a', 'b', 'c'])"
      ]
     },
     "execution_count": 56,
     "metadata": {},
     "output_type": "execute_result"
    }
   ],
   "source": [
    "# there are dict methods, and two that people discover quickly are\n",
    "# dict.keys and dict.values\n",
    "\n",
    "d.keys()   # this is sorta kinda a list, but not really"
   ]
  },
  {
   "cell_type": "code",
   "execution_count": 58,
   "id": "33d5d394-2234-4bf5-a828-56f6ee31cd1b",
   "metadata": {},
   "outputs": [
    {
     "data": {
      "text/plain": [
       "dict_values([100, 200, 300])"
      ]
     },
     "execution_count": 58,
     "metadata": {},
     "output_type": "execute_result"
    }
   ],
   "source": [
    "# this is great if you want to search the values with \"in\"!\n",
    "\n",
    "d.values()  # this returns a sorta kinda list of the values"
   ]
  },
  {
   "cell_type": "code",
   "execution_count": 59,
   "id": "168ad992-5d18-4803-b9d2-86b432abdaf4",
   "metadata": {},
   "outputs": [
    {
     "data": {
      "text/plain": [
       "False"
      ]
     },
     "execution_count": 59,
     "metadata": {},
     "output_type": "execute_result"
    }
   ],
   "source": [
    "200 in d"
   ]
  },
  {
   "cell_type": "code",
   "execution_count": 60,
   "id": "1b70ba8b-a19a-4586-b5b9-8973ffcbca30",
   "metadata": {},
   "outputs": [
    {
     "data": {
      "text/plain": [
       "True"
      ]
     },
     "execution_count": 60,
     "metadata": {},
     "output_type": "execute_result"
    }
   ],
   "source": [
    "200 in d.values()"
   ]
  },
  {
   "cell_type": "code",
   "execution_count": 61,
   "id": "f74ca23c-9162-47cb-82c7-b67cc28ce537",
   "metadata": {},
   "outputs": [
    {
     "name": "stdout",
     "output_type": "stream",
     "text": [
      "a: 100\n",
      "b: 200\n",
      "c: 300\n"
     ]
    }
   ],
   "source": [
    "# many people, after discovering the dict.keys method, decide to \n",
    "# iterate this way:\n",
    "\n",
    "for one_key in d.keys():     # DO NOT DO THIS! \n",
    "    print(f'{one_key}: {d[one_key]}')"
   ]
  },
  {
   "cell_type": "code",
   "execution_count": 63,
   "id": "147732e0-b797-41d7-bdbc-e5a26ca7dce5",
   "metadata": {},
   "outputs": [
    {
     "name": "stdout",
     "output_type": "stream",
     "text": [
      "('a', 100)\n",
      "('b', 200)\n",
      "('c', 300)\n"
     ]
    }
   ],
   "source": [
    "# there's another method that is actually very useful -- d.items()\n",
    "# it returns, with each iteration, a tuple of (key, value)\n",
    "\n",
    "for t in d.items():\n",
    "    print(t)"
   ]
  },
  {
   "cell_type": "code",
   "execution_count": 64,
   "id": "30eb44d1-1d97-47d3-8942-c6e266bda3df",
   "metadata": {},
   "outputs": [
    {
     "name": "stdout",
     "output_type": "stream",
     "text": [
      "a: 100\n",
      "b: 200\n",
      "c: 300\n"
     ]
    }
   ],
   "source": [
    "# I can do something like this:\n",
    "\n",
    "for t in d.items():\n",
    "    key, value = t    # unpacking!\n",
    "    print(f'{key}: {value}')"
   ]
  },
  {
   "cell_type": "code",
   "execution_count": 65,
   "id": "b8d72d4d-2f57-4ffa-a618-2dd7617d06c6",
   "metadata": {},
   "outputs": [
    {
     "name": "stdout",
     "output_type": "stream",
     "text": [
      "a: 100\n",
      "b: 200\n",
      "c: 300\n"
     ]
    }
   ],
   "source": [
    "# we can do better, thanks to unpacking INSIDE OF THE LOOP:\n",
    "# this is my favorite way to iterate over a dict\n",
    "\n",
    "for key, value in d.items():\n",
    "    print(f'{key}: {value}')"
   ]
  },
  {
   "cell_type": "markdown",
   "id": "5e16e3fa-9e92-407c-997c-38201e560a2c",
   "metadata": {},
   "source": [
    "# Paradigm 3 for dict: Start empty, and grow from there\n",
    "\n",
    "- Paradigm 1 -- treat the dict as a read-only database. Define once, use many times\n",
    "- Paradigm 2 -- keep the keys constant, but update the values.\n",
    "- Paradigm 3 -- start with an empty dict, adding keys as necessary and updating values as necessary\n"
   ]
  },
  {
   "cell_type": "markdown",
   "id": "401bef5d-f993-4c89-9e17-9bee6b48984a",
   "metadata": {},
   "source": [
    "# Exercise: Rainfall\n",
    "\n",
    "In this exercise, we're going to start with an empty dict called `rainfall`. Over time, we're going to grow it:\n",
    "- The keys will be names of cities whose rainfall we're tracking\n",
    "- The values will be integers, the mm of rain that have fallen so far in that city\n",
    "\n",
    "We aren't going to define the city names in advance! Whatever the user enters is what we'll take.\n",
    "\n",
    "1. Define the empty dict `rainfall`.\n",
    "2. Ask the user, repeatedly, to enter a city name.\n",
    "    - If they enter an empty string, stop asking\n",
    "3. If we got a city name, ask for the mm rain that fell in that city. (We can assume we got legit digits here.)\n",
    "    - If we have seen this city before, then add the new rainfall to the existing value.\n",
    "    - If we have *not* seen this city before, then add a new key-value pair to the dict.\n",
    "4. When the user indicates (which an empty string) that they don't want to enter more data, iterate over the `rainfall` dict, and print all of the keys and values.\n",
    "\n",
    "Example:\n",
    "\n",
    "    City: Tel Aviv\n",
    "    Rain: 2\n",
    "    City: Jerusalem\n",
    "    Rain: 3\n",
    "    City: Tel Aviv\n",
    "    Rain: 4\n",
    "    City: [ENTER]\n",
    "    Tel Aviv: 6\n",
    "    Jerusalem: 3"
   ]
  },
  {
   "cell_type": "code",
   "execution_count": 66,
   "id": "0218e1cb-7f76-404c-887d-7cd10169ee2c",
   "metadata": {},
   "outputs": [
    {
     "data": {
      "text/plain": [
       "{'Tel Aviv': 6, 'Jerusalem': 3}"
      ]
     },
     "execution_count": 66,
     "metadata": {},
     "output_type": "execute_result"
    }
   ],
   "source": [
    "rainfall = {'Tel Aviv':6, 'Jerusalem':3}\n",
    "rainfall"
   ]
  },
  {
   "cell_type": "code",
   "execution_count": 67,
   "id": "1b783cef-63d4-4cd8-abb0-4c0b957a5913",
   "metadata": {},
   "outputs": [
    {
     "data": {
      "text/plain": [
       "{'Tel Aviv': 9, 'Jerusalem': 3}"
      ]
     },
     "execution_count": 67,
     "metadata": {},
     "output_type": "execute_result"
    }
   ],
   "source": [
    "# add 3 to the existing value here\n",
    "rainfall['Tel Aviv'] += 3\n",
    "\n",
    "rainfall"
   ]
  },
  {
   "cell_type": "code",
   "execution_count": 68,
   "id": "7174db76-64b2-40b9-98a4-20f485ab2df8",
   "metadata": {},
   "outputs": [
    {
     "ename": "KeyError",
     "evalue": "'Philadelphia'",
     "output_type": "error",
     "traceback": [
      "\u001b[0;31m---------------------------------------------------------------------------\u001b[0m",
      "\u001b[0;31mKeyError\u001b[0m                                  Traceback (most recent call last)",
      "Cell \u001b[0;32mIn[68], line 3\u001b[0m\n\u001b[1;32m      1\u001b[0m \u001b[38;5;66;03m# add a new city  and amount\u001b[39;00m\n\u001b[0;32m----> 3\u001b[0m rainfall[\u001b[38;5;124m'\u001b[39m\u001b[38;5;124mPhiladelphia\u001b[39m\u001b[38;5;124m'\u001b[39m] \u001b[38;5;241m+\u001b[39m\u001b[38;5;241m=\u001b[39m \u001b[38;5;241m5\u001b[39m\n",
      "\u001b[0;31mKeyError\u001b[0m: 'Philadelphia'"
     ]
    }
   ],
   "source": [
    "# add a new city  and amount\n",
    "\n",
    "rainfall['Philadelphia'] += 5   # I cannot add 5 to a value that doesn't exist!"
   ]
  },
  {
   "cell_type": "code",
   "execution_count": 70,
   "id": "75dcead4-313b-4785-8d29-a25a53b2539f",
   "metadata": {},
   "outputs": [
    {
     "name": "stdin",
     "output_type": "stream",
     "text": [
      "City:  a\n",
      "Enter mm rain 5\n",
      "City:  b\n",
      "Enter mm rain 4\n",
      "City:  a\n",
      "Enter mm rain 3\n",
      "City:  c\n",
      "Enter mm rain 2\n",
      "City:  \n"
     ]
    },
    {
     "name": "stdout",
     "output_type": "stream",
     "text": [
      "a: 8\n",
      "b: 4\n",
      "c: 2\n"
     ]
    }
   ],
   "source": [
    "rainfall = {}\n",
    "\n",
    "while True:\n",
    "    city_name = input('City: ').strip()\n",
    "\n",
    "    if city_name == '':\n",
    "        break\n",
    "\n",
    "    mm_rain = input('Enter mm rain').strip()\n",
    "    mm_rain = int(mm_rain)\n",
    "    \n",
    "    if city_name in rainfall:   # does this key exist?\n",
    "        rainfall[city_name] += mm_rain\n",
    "    else:  # if the key doesn't yet exist..\n",
    "        rainfall[city_name] = mm_rain\n",
    "\n",
    "# report\n",
    "\n",
    "# dict.items returns (sort of) a list of 2-element tuples, with (key, value)\n",
    "# with each iteration over rainfall.items(), we'll get (key, value)\n",
    "# we can use unpacking in the for loop to get the key and value into separate variables\n",
    "for key, value in rainfall.items():\n",
    "    print(f'{key}: {value}')\n"
   ]
  },
  {
   "cell_type": "code",
   "execution_count": 71,
   "id": "6e91b695-5233-453a-91b8-7680c3e274aa",
   "metadata": {},
   "outputs": [
    {
     "ename": "TypeError",
     "evalue": "unsupported operand type(s) for +: 'int' and 'str'",
     "output_type": "error",
     "traceback": [
      "\u001b[0;31m---------------------------------------------------------------------------\u001b[0m",
      "\u001b[0;31mTypeError\u001b[0m                                 Traceback (most recent call last)",
      "Cell \u001b[0;32mIn[71], line 1\u001b[0m\n\u001b[0;32m----> 1\u001b[0m \u001b[38;5;241;43m5\u001b[39;49m\u001b[43m \u001b[49m\u001b[38;5;241;43m+\u001b[39;49m\u001b[43m \u001b[49m\u001b[38;5;124;43m'\u001b[39;49m\u001b[38;5;124;43mx\u001b[39;49m\u001b[38;5;124;43m'\u001b[39;49m   \u001b[38;5;66;03m# Python doesn't like this!\u001b[39;00m\n",
      "\u001b[0;31mTypeError\u001b[0m: unsupported operand type(s) for +: 'int' and 'str'"
     ]
    }
   ],
   "source": [
    "5 + 'x'   # Python doesn't like this!"
   ]
  },
  {
   "cell_type": "code",
   "execution_count": 72,
   "id": "13d866c5-9119-441e-9e4d-b59de0a9ecaf",
   "metadata": {},
   "outputs": [
    {
     "data": {
      "text/plain": [
       "'xxxxx'"
      ]
     },
     "execution_count": 72,
     "metadata": {},
     "output_type": "execute_result"
    }
   ],
   "source": [
    "# what about multiplication?\n",
    "\n",
    "5 * 'x'"
   ]
  },
  {
   "cell_type": "code",
   "execution_count": 74,
   "id": "5963b08f-d31f-4c9c-b361-cd4e6884c5f2",
   "metadata": {},
   "outputs": [
    {
     "name": "stdout",
     "output_type": "stream",
     "text": [
      "a: xxxxxxxx\n",
      "b: xxxx\n",
      "c: xx\n"
     ]
    }
   ],
   "source": [
    "# let's print our rainfall dict again!\n",
    "\n",
    "for key, value in rainfall.items():\n",
    "    print(f'{key}: {value * \"x\"}')"
   ]
  },
  {
   "cell_type": "markdown",
   "id": "bee0ffc3-ea16-465e-acd7-b00c0e40aac3",
   "metadata": {},
   "source": [
    "Every time you see code like `a.b` or `a.c()` in Python, the `.` is indicating that the name after it is an \"attribute,\" which can be data and can be a method.\n",
    "\n",
    "How does Python store attributes? In dictionaries -- the names are strings, and the values are whatever is stored in that attribute."
   ]
  },
  {
   "cell_type": "markdown",
   "id": "87470e8d-4e60-41af-84b5-55dbe342b10d",
   "metadata": {},
   "source": [
    "# Exercise: Odds and evens -- dict edition\n",
    "\n",
    "1. Define a dict with two keys, `odds` and `evens`. The values should be empty lists.\n",
    "2. Ask the user to enter a string containing integers, separated by spaces. (We'll just ask once.)\n",
    "3. Go through the numbers in the string:\n",
    "    - If it's not a number, then scold the user\n",
    "    - If it is a number and even, then append the number to `evens` in the dict\n",
    "    - If it is a number and odd, then append the number to `odds` in the dict\n",
    "4. Print the dict\n",
    "\n",
    "Reminders:\n",
    "- Use `str.split` to take a string and break it into a list of strings\n",
    "- Use `int` to take a string and get an int from it\n",
    "- Use `str.isdigit` to check if a string contains only digits\n",
    "- You can check if an integer is odd or even by using `% 2` -- if the response is 1, then the number is odd. Otherwise, it's even.\n",
    "- Dict values can be of any type, including a list. Once you retrieve that value, you can append to a list or do anything else you might want, because it's a list."
   ]
  },
  {
   "cell_type": "code",
   "execution_count": 75,
   "id": "dfd36108-d67e-4004-9cd0-baa6ae60a7fe",
   "metadata": {},
   "outputs": [
    {
     "data": {
      "text/plain": [
       "{'a': [10, 30], 'b': [20]}"
      ]
     },
     "execution_count": 75,
     "metadata": {},
     "output_type": "execute_result"
    }
   ],
   "source": [
    "d = {'a':[], 'b':[]}\n",
    "\n",
    "d['a'].append(10)\n",
    "d['b'].append(20)\n",
    "d['a'].append(30)\n",
    "\n",
    "d"
   ]
  },
  {
   "cell_type": "code",
   "execution_count": 8,
   "id": "6356edd4-d099-48d3-876c-cf75947d6c6d",
   "metadata": {},
   "outputs": [
    {
     "name": "stdin",
     "output_type": "stream",
     "text": [
      "Enter numbers, separated by spaces:  123 456 789 24 25 hello 30 31\n"
     ]
    },
    {
     "name": "stdout",
     "output_type": "stream",
     "text": [
      "hello is not a number!\n",
      "odds: [123, 789, 25, 31]\n",
      "evens: [456, 24, 30]\n"
     ]
    }
   ],
   "source": [
    "# setup\n",
    "counts = {'odds': [],\n",
    "          'evens': []}\n",
    "\n",
    "# calculations\n",
    "s = input('Enter numbers, separated by spaces: ').strip()\n",
    "\n",
    "# s contains multiple numbers, separated by spaces\n",
    "# e.g., s could be '123 456 789'\n",
    "\n",
    "# we want to get them, one at a time, into the variable one_word\n",
    "\n",
    "for one_item in s.split():\n",
    "    \n",
    "    if one_item.isdigit():\n",
    "        n = int(one_item)   # here's our int based on that string\n",
    "        \n",
    "        if n % 2 == 0:    # if n%2 is 0, then the number is even\n",
    "            counts['evens'].append(n)\n",
    "        else:   # not even? It must be odd!\n",
    "            counts['odds'].append(n)    \n",
    "    else:\n",
    "        print(f'{one_item} is not a number!')\n",
    "\n",
    "# report\n",
    "for key, value in counts.items():\n",
    "    print(f'{key}: {value}')"
   ]
  },
  {
   "cell_type": "code",
   "execution_count": 9,
   "id": "84054297-1490-4ba9-a78c-146c8bf989da",
   "metadata": {},
   "outputs": [
    {
     "data": {
      "text/plain": [
       "{'odds': [123, 789, 25, 31], 'evens': [456, 24, 30]}"
      ]
     },
     "execution_count": 9,
     "metadata": {},
     "output_type": "execute_result"
    }
   ],
   "source": [
    "counts"
   ]
  },
  {
   "cell_type": "code",
   "execution_count": 10,
   "id": "91373601-5052-4ff4-a002-ee1d24b3df0b",
   "metadata": {},
   "outputs": [],
   "source": [
    "d = {}\n",
    "d['a'] = 10  # string key, great!"
   ]
  },
  {
   "cell_type": "code",
   "execution_count": 11,
   "id": "9de61cfb-fdf8-4074-bd6d-6fa60bd35fab",
   "metadata": {},
   "outputs": [],
   "source": [
    "d[5] = 12345  # int key, great!"
   ]
  },
  {
   "cell_type": "code",
   "execution_count": 12,
   "id": "8e8fc5ca-f151-467e-85b8-0bf8c8ce148b",
   "metadata": {},
   "outputs": [
    {
     "data": {
      "text/plain": [
       "{'a': 10, 5: 12345}"
      ]
     },
     "execution_count": 12,
     "metadata": {},
     "output_type": "execute_result"
    }
   ],
   "source": [
    "d"
   ]
  },
  {
   "cell_type": "code",
   "execution_count": 13,
   "id": "e7d3a1fe-72d1-4b42-8450-5d484f017298",
   "metadata": {},
   "outputs": [
    {
     "ename": "TypeError",
     "evalue": "unhashable type: 'list'",
     "output_type": "error",
     "traceback": [
      "\u001b[0;31m---------------------------------------------------------------------------\u001b[0m",
      "\u001b[0;31mTypeError\u001b[0m                                 Traceback (most recent call last)",
      "Cell \u001b[0;32mIn[13], line 2\u001b[0m\n\u001b[1;32m      1\u001b[0m mylist \u001b[38;5;241m=\u001b[39m [\u001b[38;5;241m10\u001b[39m, \u001b[38;5;241m20\u001b[39m, \u001b[38;5;241m30\u001b[39m]\n\u001b[0;32m----> 2\u001b[0m \u001b[43md\u001b[49m\u001b[43m[\u001b[49m\u001b[43mmylist\u001b[49m\u001b[43m]\u001b[49m \u001b[38;5;241m=\u001b[39m \u001b[38;5;241m98765\u001b[39m\n",
      "\u001b[0;31mTypeError\u001b[0m: unhashable type: 'list'"
     ]
    }
   ],
   "source": [
    "mylist = [10, 20, 30]\n",
    "d[mylist] = 98765"
   ]
  },
  {
   "cell_type": "markdown",
   "id": "1db68c2a-768a-4122-8001-e42b6914fba5",
   "metadata": {},
   "source": [
    "# Next up\n",
    "\n",
    "1. Files (reading and writing)\n",
    "2. Installing Python + PyCharm\n",
    "\n",
    "Resume at 1:30 p.m. Eastern"
   ]
  },
  {
   "cell_type": "markdown",
   "id": "0b9e3703-00bf-4945-a59a-82f4efac605e",
   "metadata": {},
   "source": [
    "# Choosing a data structure\n",
    "\n",
    "Whenever we're writing a program, we have to choose how we're going to organize our data. The core Python data structures give us a lot of flexibility, especially when we can mix and match the container types together.\n",
    "\n",
    "- If you have numbers, then you'll use integers and floats\n",
    "- If you have text, you'll use a string.\n",
    "- If you have a sequence of the same type, use a list\n",
    "    - List of filenames\n",
    "    - List of directories\n",
    "    - List of usernames\n",
    "    - List of IP addresses\n",
    "    - List of URLs\n",
    "- If you have a name-value sort of data structure, use a dict\n",
    "    - Key is user ID and value is a username\n",
    "    - Key is user ID and value is a list of information about that user\n",
    "    - Key is user ID and value is a dict of information about that user\n",
    "    - Key is a filename and value is a tuple of information about that file\n",
    "- Very common combinations in Python are:\n",
    "    - List of lists\n",
    "    - List of tuples\n",
    "    - List of dicts (each dict is sort of a record)\n",
    "    - Dict of lists\n",
    "    - Dict of dicts"
   ]
  },
  {
   "cell_type": "markdown",
   "id": "b3474b13-fd3e-42d5-932a-e3cfba7f5dfc",
   "metadata": {},
   "source": [
    "# Files\n",
    "\n",
    "If I want to read from a file (note: a text file) in Python, then I need to ask the operating system to \"open\" the file, which means making sure that it exists and then returning an object I can use as an agent to read from the file.\n",
    "\n",
    "If I ask this agent object for the file's contents, I'll get them -- but it's hiding the fact that the operating system is doing a lot of the heavy lifting.\n",
    "\n",
    "Any operation that we want to do on a file must go through this file object. Meaning, we first open the file, and then do whatever we want. When we're done, it's nice to close the file, freeing up resources for others to use.\n",
    "\n"
   ]
  },
  {
   "cell_type": "code",
   "execution_count": null,
   "id": "aead2797-4a1c-42c5-887c-5b5b47893018",
   "metadata": {},
   "outputs": [],
   "source": [
    "# if I want to open a file, I can name it and pass it to the builtin function \"open\"\n",
    "\n",
    "# /etc/passwd is a standard Unix/Linux file containing usernames and other info\n",
    "# about users on your system. Despite the name, it no longer contains passwords.\n",
    "\n",
    "# open -- tells the OS I want to work with this file\n",
    "# by default, I want to read from the file, and not write to it\n",
    "# (typically, you either read from or write to a file -- not both)\n",
    "\n",
    "\n",
    "f = open('/etc/passwd')  "
   ]
  }
 ],
 "metadata": {
  "kernelspec": {
   "display_name": "Python 3 (ipykernel)",
   "language": "python",
   "name": "python3"
  },
  "language_info": {
   "codemirror_mode": {
    "name": "ipython",
    "version": 3
   },
   "file_extension": ".py",
   "mimetype": "text/x-python",
   "name": "python",
   "nbconvert_exporter": "python",
   "pygments_lexer": "ipython3",
   "version": "3.10.12"
  }
 },
 "nbformat": 4,
 "nbformat_minor": 5
}
