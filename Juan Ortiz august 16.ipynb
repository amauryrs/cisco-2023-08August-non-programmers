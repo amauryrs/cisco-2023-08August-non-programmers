{
 "cells": [
  {
   "cell_type": "code",
   "execution_count": null,
   "id": "7d899402-b509-48dc-a68c-3257534d9006",
   "metadata": {},
   "outputs": [],
   "source": [
    "execersie: higher and lower \n",
    "\n",
    "higher = []\n",
    "lower = []\n",
    "\n",
    "threshold = int(input(\"Enter a threshold: \"))\n",
    "user_input = input(\"Enter numbers (separated by whitespace):\")\n",
    "\n"
   ]
  },
  {
   "cell_type": "code",
   "execution_count": null,
   "id": "3d42f8a0-c40c-42ed-8916-972bd7e399ea",
   "metadata": {},
   "outputs": [],
   "source": [
    "Excersise: Restaurant \n",
    "\n",
    "\"sandwich\": 10,\n",
    "    \"tea\": 5,\n",
    "    \"salad\": 8,\n",
    "    \"burger\": 12,\n",
    "    \"fries\": 4\n",
    "\n",
    "total = 0\n",
    "while True:\n",
    "    order = input(\"Order: \").strip().lower()\n",
    "    if order in menu:\n",
    "        price = menu[order]\n",
    "        total += price\n",
    "        print(f\"{order} is {price}, total is {total}\")\n",
    "    else:\n",
    "        print(f\"We're all out of {order} today!\")\n",
    "\n",
    "print(f\"Total is {total}\")\n",
    "\n",
    "    "
   ]
  },
  {
   "cell_type": "code",
   "execution_count": 6,
   "id": "f2034fc0-b020-402b-9079-4cb9e97b1ed6",
   "metadata": {},
   "outputs": [
    {
     "ename": "IndentationError",
     "evalue": "unexpected indent (208297440.py, line 3)",
     "output_type": "error",
     "traceback": [
      "\u001b[0;36m  Cell \u001b[0;32mIn[6], line 3\u001b[0;36m\u001b[0m\n\u001b[0;31m    \"digits\": 0,\u001b[0m\n\u001b[0m    ^\u001b[0m\n\u001b[0;31mIndentationError\u001b[0m\u001b[0;31m:\u001b[0m unexpected indent\n"
     ]
    }
   ],
   "source": [
    "counts = { }\n",
    "   \n",
    "    \"digits\": 0,\n",
    "    \"vowels\": 0,\n",
    "    \"others\": 0\n",
    "\n",
    "user_input = input(\"Enter a string: \")\n",
    "for char in user_input:\n",
    "    if char.isdigit():\n",
    "        counts[\"digits\"] += 1\n",
    "    elif char.lower() in 'aeiou':\n",
    "        counts[\"vowels\"] += 1\n",
    "    else:\n",
    "        counts[\"others\"] += 1\n",
    "\n",
    "print=(counts)\n",
    "\n"
   ]
  },
  {
   "cell_type": "code",
   "execution_count": 3,
   "id": "836522f1-09b7-4b69-8bc5-5fea5b3ee75b",
   "metadata": {},
   "outputs": [
    {
     "name": "stdout",
     "output_type": "stream",
     "text": [
      "83\n"
     ]
    }
   ],
   "source": [
    "\n",
    "with open(\"nums.txt\", \"r\") as file:\n",
    "    total = 0\n",
    "\n",
    "    for line in file:\n",
    "        line = line.strip()  \n",
    "    \n",
    "        if line and line.isdigit():\n",
    "            total += int(line)\n",
    "    \n",
    "    print(total) \n"
   ]
  },
  {
   "cell_type": "code",
   "execution_count": 4,
   "id": "79487a3c-db13-4137-9567-289446ccf0d9",
   "metadata": {},
   "outputs": [
    {
     "name": "stdin",
     "output_type": "stream",
     "text": [
      "Enter the filename:  hello \n"
     ]
    },
    {
     "ename": "FileNotFoundError",
     "evalue": "[Errno 2] No such file or directory: 'hello '",
     "output_type": "error",
     "traceback": [
      "\u001b[0;31m---------------------------------------------------------------------------\u001b[0m",
      "\u001b[0;31mFileNotFoundError\u001b[0m                         Traceback (most recent call last)",
      "Cell \u001b[0;32mIn[4], line 9\u001b[0m\n\u001b[1;32m      5\u001b[0m character_count \u001b[38;5;241m=\u001b[39m \u001b[38;5;241m0\u001b[39m\n\u001b[1;32m      6\u001b[0m word_count \u001b[38;5;241m=\u001b[39m \u001b[38;5;241m0\u001b[39m\n\u001b[0;32m----> 9\u001b[0m \u001b[38;5;28;01mwith\u001b[39;00m \u001b[38;5;28;43mopen\u001b[39;49m\u001b[43m(\u001b[49m\u001b[43mfilename\u001b[49m\u001b[43m,\u001b[49m\u001b[43m \u001b[49m\u001b[38;5;124;43m\"\u001b[39;49m\u001b[38;5;124;43mr\u001b[39;49m\u001b[38;5;124;43m\"\u001b[39;49m\u001b[43m)\u001b[49m \u001b[38;5;28;01mas\u001b[39;00m file:\n\u001b[1;32m     10\u001b[0m     \u001b[38;5;28;01mfor\u001b[39;00m line \u001b[38;5;129;01min\u001b[39;00m file:\n\u001b[1;32m     11\u001b[0m         \u001b[38;5;66;03m# Count lines\u001b[39;00m\n\u001b[1;32m     12\u001b[0m         line_count \u001b[38;5;241m+\u001b[39m\u001b[38;5;241m=\u001b[39m \u001b[38;5;241m1\u001b[39m\n",
      "File \u001b[0;32m/usr/local/lib/python3.10/dist-packages/IPython/core/interactiveshell.py:284\u001b[0m, in \u001b[0;36m_modified_open\u001b[0;34m(file, *args, **kwargs)\u001b[0m\n\u001b[1;32m    277\u001b[0m \u001b[38;5;28;01mif\u001b[39;00m file \u001b[38;5;129;01min\u001b[39;00m {\u001b[38;5;241m0\u001b[39m, \u001b[38;5;241m1\u001b[39m, \u001b[38;5;241m2\u001b[39m}:\n\u001b[1;32m    278\u001b[0m     \u001b[38;5;28;01mraise\u001b[39;00m \u001b[38;5;167;01mValueError\u001b[39;00m(\n\u001b[1;32m    279\u001b[0m         \u001b[38;5;124mf\u001b[39m\u001b[38;5;124m\"\u001b[39m\u001b[38;5;124mIPython won\u001b[39m\u001b[38;5;124m'\u001b[39m\u001b[38;5;124mt let you open fd=\u001b[39m\u001b[38;5;132;01m{\u001b[39;00mfile\u001b[38;5;132;01m}\u001b[39;00m\u001b[38;5;124m by default \u001b[39m\u001b[38;5;124m\"\u001b[39m\n\u001b[1;32m    280\u001b[0m         \u001b[38;5;124m\"\u001b[39m\u001b[38;5;124mas it is likely to crash IPython. If you know what you are doing, \u001b[39m\u001b[38;5;124m\"\u001b[39m\n\u001b[1;32m    281\u001b[0m         \u001b[38;5;124m\"\u001b[39m\u001b[38;5;124myou can use builtins\u001b[39m\u001b[38;5;124m'\u001b[39m\u001b[38;5;124m open.\u001b[39m\u001b[38;5;124m\"\u001b[39m\n\u001b[1;32m    282\u001b[0m     )\n\u001b[0;32m--> 284\u001b[0m \u001b[38;5;28;01mreturn\u001b[39;00m \u001b[43mio_open\u001b[49m\u001b[43m(\u001b[49m\u001b[43mfile\u001b[49m\u001b[43m,\u001b[49m\u001b[43m \u001b[49m\u001b[38;5;241;43m*\u001b[39;49m\u001b[43margs\u001b[49m\u001b[43m,\u001b[49m\u001b[43m \u001b[49m\u001b[38;5;241;43m*\u001b[39;49m\u001b[38;5;241;43m*\u001b[39;49m\u001b[43mkwargs\u001b[49m\u001b[43m)\u001b[49m\n",
      "\u001b[0;31mFileNotFoundError\u001b[0m: [Errno 2] No such file or directory: 'hello '"
     ]
    }
   ],
   "source": [
    "\n",
    "filename = input(\"Enter the filename: \")\n",
    "\n",
    "\n",
    "line_count = 0\n",
    "character_count = 0\n",
    "word_count = 0\n",
    "\n",
    "\n",
    "with open(filename, \"r\") as file:\n",
    "    for line in file:\n",
    "        \n",
    "        line_count += 1        \n",
    "        character_count += len(line)\n",
    "        \n",
    "        words = line.split()\n",
    "        word_count += len(words)\n",
    "\n",
    "print(f\"Number of lines: {line_count}\")\n",
    "print(f\"Number of characters: {character_count}\")\n",
    "print(f\"Number of words: {word_count}\")"
   ]
  },
  {
   "cell_type": "code",
   "execution_count": null,
   "id": "6379e7f0-ba04-40e3-89f5-1c0f34cf4da4",
   "metadata": {},
   "outputs": [],
   "source": []
  }
 ],
 "metadata": {
  "kernelspec": {
   "display_name": "Python 3 (ipykernel)",
   "language": "python",
   "name": "python3"
  },
  "language_info": {
   "codemirror_mode": {
    "name": "ipython",
    "version": 3
   },
   "file_extension": ".py",
   "mimetype": "text/x-python",
   "name": "python",
   "nbconvert_exporter": "python",
   "pygments_lexer": "ipython3",
   "version": "3.10.12"
  }
 },
 "nbformat": 4,
 "nbformat_minor": 5
}
