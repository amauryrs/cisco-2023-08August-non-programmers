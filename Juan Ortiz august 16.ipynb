{
 "cells": [
  {
   "cell_type": "code",
   "execution_count": null,
   "id": "7d899402-b509-48dc-a68c-3257534d9006",
   "metadata": {},
   "outputs": [],
   "source": [
    "execersie: higher and lower \n",
    "\n",
    "higher = []\n",
    "lower = []\n",
    "\n",
    "threshold = int(input(\"Enter a threshold: \"))\n",
    "user_input = input(\"Enter numbers (separated by whitespace):\")\n",
    "\n"
   ]
  },
  {
   "cell_type": "code",
   "execution_count": null,
   "id": "3d42f8a0-c40c-42ed-8916-972bd7e399ea",
   "metadata": {},
   "outputs": [],
   "source": [
    "Excersise: Restaurant \n",
    "\n",
    "\"sandwich\": 10,\n",
    "    \"tea\": 5,\n",
    "    \"salad\": 8,\n",
    "    \"burger\": 12,\n",
    "    \"fries\": 4\n",
    "\n",
    "total = 0\n",
    "while True:\n",
    "    order = input(\"Order: \").strip().lower()\n",
    "    if order in menu:\n",
    "        price = menu[order]\n",
    "        total += price\n",
    "        print(f\"{order} is {price}, total is {total}\")\n",
    "    else:\n",
    "        print(f\"We're all out of {order} today!\")\n",
    "\n",
    "print(f\"Total is {total}\")\n",
    "\n",
    "    "
   ]
  },
  {
   "cell_type": "code",
   "execution_count": null,
   "id": "f2034fc0-b020-402b-9079-4cb9e97b1ed6",
   "metadata": {},
   "outputs": [],
   "source": []
  }
 ],
 "metadata": {
  "kernelspec": {
   "display_name": "Python 3 (ipykernel)",
   "language": "python",
   "name": "python3"
  },
  "language_info": {
   "codemirror_mode": {
    "name": "ipython",
    "version": 3
   },
   "file_extension": ".py",
   "mimetype": "text/x-python",
   "name": "python",
   "nbconvert_exporter": "python",
   "pygments_lexer": "ipython3",
   "version": "3.10.12"
  }
 },
 "nbformat": 4,
 "nbformat_minor": 5
}
