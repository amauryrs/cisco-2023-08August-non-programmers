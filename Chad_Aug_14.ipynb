{
 "cells": [
  {
   "cell_type": "code",
   "execution_count": 185,
   "id": "70004dae-6b96-4b17-87fa-e11e22abfc63",
   "metadata": {},
   "outputs": [
    {
     "name": "stdout",
     "output_type": "stream",
     "text": [
      "C\n",
      "h\n",
      "a\n",
      "d\n"
     ]
    }
   ],
   "source": [
    "name = 'Chad'\n",
    "\n",
    "for one_character in name:\n",
    "    print(one_character)\n",
    "    \n"
   ]
  },
  {
   "cell_type": "code",
   "execution_count": 186,
   "id": "92cb110e-d3d1-40b8-9133-7b6a51ac549e",
   "metadata": {},
   "outputs": [
    {
     "name": "stdin",
     "output_type": "stream",
     "text": [
      "Enter a string:  THisistest\n"
     ]
    },
    {
     "name": "stdout",
     "output_type": "stream",
     "text": [
      "THisistest contains 3 vowels.\n"
     ]
    }
   ],
   "source": [
    "vowel_count = 0\n",
    "s = input('Enter a string: ').strip()\n",
    "\n",
    "for i in s:\n",
    "    if i in 'aeiou':\n",
    "        vowel_count +=1\n",
    "\n",
    "print(f'{s} contains {vowel_count} vowels.')"
   ]
  },
  {
   "cell_type": "code",
   "execution_count": 188,
   "id": "e76d8297-f0ea-435e-950e-301cffd2e5e4",
   "metadata": {},
   "outputs": [
    {
     "name": "stdin",
     "output_type": "stream",
     "text": [
      "Enter a string of digits 12345\n"
     ]
    },
    {
     "ename": "NameError",
     "evalue": "name 'letter_count' is not defined",
     "output_type": "error",
     "traceback": [
      "\u001b[0;31m---------------------------------------------------------------------------\u001b[0m",
      "\u001b[0;31mNameError\u001b[0m                                 Traceback (most recent call last)",
      "Cell \u001b[0;32mIn[188], line 5\u001b[0m\n\u001b[1;32m      3\u001b[0m x \u001b[38;5;241m=\u001b[39m \u001b[38;5;28minput\u001b[39m(\u001b[38;5;124m'\u001b[39m\u001b[38;5;124mEnter a string of digits\u001b[39m\u001b[38;5;124m'\u001b[39m)\n\u001b[1;32m      4\u001b[0m \u001b[38;5;28;01mfor\u001b[39;00m number_of_digits \u001b[38;5;129;01min\u001b[39;00m s:\n\u001b[0;32m----> 5\u001b[0m     letter_count \u001b[38;5;241m+\u001b[39m\u001b[38;5;241m=\u001b[39m \u001b[38;5;241m1\u001b[39m\n\u001b[1;32m      7\u001b[0m \u001b[38;5;28mprint\u001b[39m(lettercount)\n",
      "\u001b[0;31mNameError\u001b[0m: name 'letter_count' is not defined"
     ]
    }
   ],
   "source": [
    "odds = 0\n",
    "evens = 0\n",
    "number_count\n",
    "x = input('Enter a string of digits')\n",
    "for number_of_digits in s:\n",
    "    letter_count += 1\n",
    "\n",
    "print(lettercount)"
   ]
  },
  {
   "cell_type": "code",
   "execution_count": null,
   "id": "aebbd443-0c95-490a-8a26-a07470d675b1",
   "metadata": {},
   "outputs": [],
   "source": []
  }
 ],
 "metadata": {
  "kernelspec": {
   "display_name": "Python 3 (ipykernel)",
   "language": "python",
   "name": "python3"
  },
  "language_info": {
   "codemirror_mode": {
    "name": "ipython",
    "version": 3
   },
   "file_extension": ".py",
   "mimetype": "text/x-python",
   "name": "python",
   "nbconvert_exporter": "python",
   "pygments_lexer": "ipython3",
   "version": "3.10.12"
  }
 },
 "nbformat": 4,
 "nbformat_minor": 5
}
