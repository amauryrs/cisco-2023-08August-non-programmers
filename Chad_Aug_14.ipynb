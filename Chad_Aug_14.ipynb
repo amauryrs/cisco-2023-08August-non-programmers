{
 "cells": [
  {
   "cell_type": "code",
   "execution_count": 1,
   "id": "9538fafa-8702-4032-9740-a342716a9f20",
   "metadata": {},
   "outputs": [
    {
     "name": "stdout",
     "output_type": "stream",
     "text": [
      "hi\n"
     ]
    }
   ],
   "source": [
    "print('hi')\n"
   ]
  },
  {
   "cell_type": "code",
   "execution_count": 12,
   "id": "620a7b71-7f75-4b1c-87ca-0149e1bcc51f",
   "metadata": {},
   "outputs": [
    {
     "data": {
      "text/plain": [
       "str"
      ]
     },
     "execution_count": 12,
     "metadata": {},
     "output_type": "execute_result"
    }
   ],
   "source": [
    "x = 'hello' + ' me'\n",
    "type(x)\n"
   ]
  },
  {
   "cell_type": "code",
   "execution_count": 40,
   "id": "7b9636d2-4cb3-440b-af05-625c7af1f624",
   "metadata": {},
   "outputs": [
    {
     "name": "stdout",
     "output_type": "stream",
     "text": [
      "Hi Chad how are you?\n"
     ]
    },
    {
     "name": "stdin",
     "output_type": "stream",
     "text": [
      "Input response  great\n"
     ]
    },
    {
     "name": "stdout",
     "output_type": "stream",
     "text": [
      " Thats great!\n"
     ]
    }
   ],
   "source": [
    "name = 'Chad'\n",
    "print('Hi ' + name + ' how are you?')\n",
    "resp = input('Input response ')\n",
    "if resp == \"bad\":\n",
    "    print('you can do better')\n",
    "else:\n",
    "    print(' Thats great!')"
   ]
  },
  {
   "cell_type": "code",
   "execution_count": 72,
   "id": "63c4f5d1-8c2b-418e-adf6-a4e17b1dd1ea",
   "metadata": {},
   "outputs": [
    {
     "name": "stdin",
     "output_type": "stream",
     "text": [
      " What is your name? \n",
      "Where do you work? \n"
     ]
    },
    {
     "name": "stdout",
     "output_type": "stream",
     "text": [
      "go away\n"
     ]
    }
   ],
   "source": [
    "un = input(' What is your name?')\n",
    "company = input ('Where do you work?')\n",
    "if un == 'Chad' and company == 'Cisco':\n",
    "    print('You must be me')\n",
    "elif un == 'Chad' and company != 'Cisco':\n",
    "    print('You should work at Cisco ' )\n",
    "elif company == 'Cisco' and un != 'Chad':\n",
    "    print('You are not Chad')\n",
    "elif un != 'Chad' and company != 'Cisco':\n",
    "    print('go away')\n",
    "else: \n",
    "    print('error ID10T')\n",
    "\n",
    "    "
   ]
  },
  {
   "cell_type": "code",
   "execution_count": 75,
   "id": "2ccc8216-e701-4cfb-baf2-a18501346b30",
   "metadata": {},
   "outputs": [
    {
     "name": "stdout",
     "output_type": "stream",
     "text": [
      "1\n"
     ]
    }
   ],
   "source": [
    "x = int(1)\n",
    "print(x)"
   ]
  },
  {
   "cell_type": "code",
   "execution_count": 77,
   "id": "4b6693d6-ed00-41b5-a5b4-f0812c16a7fa",
   "metadata": {},
   "outputs": [
    {
     "data": {
      "text/plain": [
       "10"
      ]
     },
     "execution_count": 77,
     "metadata": {},
     "output_type": "execute_result"
    }
   ],
   "source": [
    "x = 10\n",
    "if x < 1:\n",
    "    x = x * 10\n",
    "x"
   ]
  },
  {
   "cell_type": "code",
   "execution_count": 87,
   "id": "10f7eb96-75a9-47f1-adbd-815fc0743f85",
   "metadata": {},
   "outputs": [
    {
     "name": "stdout",
     "output_type": "stream",
     "text": [
      "10\n"
     ]
    },
    {
     "name": "stdin",
     "output_type": "stream",
     "text": [
      "Welcome to the guessing game.  Pick number between 1 and 100. 9\n"
     ]
    },
    {
     "name": "stdout",
     "output_type": "stream",
     "text": [
      "Too low\n"
     ]
    }
   ],
   "source": [
    "# Guessing Game\n",
    "import random\n",
    "lottery_number = random.randint(0,100)\n",
    "print(lottery_number)\n",
    "x = (int(input('Welcome to the guessing game.  Pick number between 1 and 100.')))\n",
    "\n",
    "if x == lottery_number:\n",
    "    print('you got it')\n",
    "elif x < lottery_number:\n",
    "    print('Too low')\n",
    "elif x > lottery_number:\n",
    "    print ('too high')\n",
    "\n"
   ]
  },
  {
   "cell_type": "code",
   "execution_count": null,
   "id": "b3f6fdad-89c9-4c67-9914-13fa0a3dcc41",
   "metadata": {},
   "outputs": [],
   "source": []
  }
 ],
 "metadata": {
  "kernelspec": {
   "display_name": "Python 3 (ipykernel)",
   "language": "python",
   "name": "python3"
  },
  "language_info": {
   "codemirror_mode": {
    "name": "ipython",
    "version": 3
   },
   "file_extension": ".py",
   "mimetype": "text/x-python",
   "name": "python",
   "nbconvert_exporter": "python",
   "pygments_lexer": "ipython3",
   "version": "3.10.12"
  }
 },
 "nbformat": 4,
 "nbformat_minor": 5
}
