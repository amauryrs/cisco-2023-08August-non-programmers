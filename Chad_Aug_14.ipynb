{
 "cells": [
  {
   "cell_type": "code",
   "execution_count": 185,
   "id": "70004dae-6b96-4b17-87fa-e11e22abfc63",
   "metadata": {},
   "outputs": [
    {
     "name": "stdout",
     "output_type": "stream",
     "text": [
      "C\n",
      "h\n",
      "a\n",
      "d\n"
     ]
    }
   ],
   "source": [
    "name = 'Chad'\n",
    "\n",
    "for one_character in name:\n",
    "    print(one_character)\n",
    "    \n"
   ]
  },
  {
   "cell_type": "code",
   "execution_count": 186,
   "id": "92cb110e-d3d1-40b8-9133-7b6a51ac549e",
   "metadata": {},
   "outputs": [
    {
     "name": "stdin",
     "output_type": "stream",
     "text": [
      "Enter a string:  THisistest\n"
     ]
    },
    {
     "name": "stdout",
     "output_type": "stream",
     "text": [
      "THisistest contains 3 vowels.\n"
     ]
    }
   ],
   "source": [
    "vowel_count = 0\n",
    "s = input('Enter a string: ').strip()\n",
    "\n",
    "for i in s:\n",
    "    if i in 'aeiou':\n",
    "        vowel_count +=1\n",
    "\n",
    "print(f'{s} contains {vowel_count} vowels.')"
   ]
  },
  {
   "cell_type": "code",
   "execution_count": 207,
   "id": "e76d8297-f0ea-435e-950e-301cffd2e5e4",
   "metadata": {},
   "outputs": [
    {
     "name": "stdin",
     "output_type": "stream",
     "text": [
      "enter some numbers 333444555666\n"
     ]
    },
    {
     "name": "stdout",
     "output_type": "stream",
     "text": [
      "odds = 6\n",
      "evens = 6\n"
     ]
    }
   ],
   "source": [
    "odds = 0\n",
    "evens = 0\n",
    "\n",
    "s = input('enter some numbers')\n",
    "\n",
    "for one_digit in s:\n",
    "    n = int(one_digit)\n",
    "    if n % 2 == 0:\n",
    "        evens += 1\n",
    "    else:\n",
    "        odds += 1\n",
    "\n",
    "print(f'odds = {odds}')\n",
    "print(f'evens = {evens}')\n",
    "\n",
    "        \n",
    "\n",
    "\n",
    "\n",
    "\n",
    "\n"
   ]
  },
  {
   "cell_type": "code",
   "execution_count": 235,
   "id": "60f3c04c-5e8d-4fbf-8fdd-2fe6e93f2b45",
   "metadata": {},
   "outputs": [
    {
     "name": "stdin",
     "output_type": "stream",
     "text": [
      "enter string with letter numbers and special characters aaa bbbb\n"
     ]
    },
    {
     "name": "stdout",
     "output_type": "stream",
     "text": [
      "You have 0 integers\n",
      "You have 3 vowels\n",
      "You have 0 special characters\n",
      "You have 1 spaces\n",
      "You have 4 Consanents \n"
     ]
    }
   ],
   "source": [
    "#digits = 'test 1234!!!'\n",
    "#vowels = 0\n",
    "#others = 0\n",
    "digitcount = 0\n",
    "vowelcount = 0\n",
    "othercount = 0\n",
    "spacecount = 0\n",
    "nonvowel = 0\n",
    "\n",
    "string_list = input('enter string with letter numbers and special characters')\n",
    "\n",
    "for onecharacter in string_list:\n",
    "    if onecharacter.isdigit():\n",
    "        digitcount += 1\n",
    "    elif onecharacter in 'aeiou':\n",
    "        vowelcount += 1\n",
    "    elif onecharacter.isalpha():\n",
    "        nonvowel += 1\n",
    "    elif onecharacter.isspace():\n",
    "        spacecount += 1\n",
    "    else:\n",
    "        othercount +=1\n",
    "\n",
    "print(f'You have {digitcount} integers')\n",
    "print(f'You have {vowelcount} vowels') \n",
    "print(f'You have {othercount} special characters')\n",
    "print(f'You have {spacecount} spaces')\n",
    "print(f'You have {nonvowel} Consanents ')\n",
    "        "
   ]
  },
  {
   "cell_type": "code",
   "execution_count": 236,
   "id": "dad8e5ef-921e-48d3-8778-695cf9ea7476",
   "metadata": {},
   "outputs": [
    {
     "name": "stdout",
     "output_type": "stream",
     "text": [
      "Hi\n",
      "Hi\n",
      "Hi\n"
     ]
    }
   ],
   "source": [
    "for i in range(3):\n",
    "    print('Hi')\n"
   ]
  },
  {
   "cell_type": "code",
   "execution_count": 237,
   "id": "317ea788-ee50-416d-827f-34a7e8ab6f65",
   "metadata": {},
   "outputs": [
    {
     "name": "stdout",
     "output_type": "stream",
     "text": [
      " range(0, 5)\n"
     ]
    }
   ],
   "source": [
    "print(f' {range(5)}')"
   ]
  },
  {
   "cell_type": "code",
   "execution_count": 260,
   "id": "69934979-c00e-4f70-afbb-01ccea4fd117",
   "metadata": {},
   "outputs": [
    {
     "name": "stdin",
     "output_type": "stream",
     "text": [
      "Enter Name Thisisatest\n"
     ]
    },
    {
     "name": "stdout",
     "output_type": "stream",
     "text": [
      "T\n",
      "Th\n",
      "Thi\n",
      "This\n",
      "Thisi\n",
      "Thisis\n",
      "Thisisa\n",
      "Thisisat\n",
      "Thisisate\n",
      "Thisisates\n",
      "Thisisatest\n"
     ]
    }
   ],
   "source": [
    "# Name triangles\n",
    "\n",
    "name = input('Enter Name')\n",
    "length = len(name)\n",
    "counter = 1\n",
    "\n",
    "for onecharacter in name:\n",
    "  if counter <= length:\n",
    "    print(name[:counter])\n",
    "    counter += 1\n"
   ]
  },
  {
   "cell_type": "code",
   "execution_count": 263,
   "id": "b4a2edde-2e1f-4cdb-9985-00ca35a2e1ff",
   "metadata": {},
   "outputs": [
    {
     "name": "stdout",
     "output_type": "stream",
     "text": [
      "Current character is a\n",
      "Current character is b\n",
      "Current character is c\n",
      "Current character is d\n"
     ]
    }
   ],
   "source": [
    "s = 'abcd'\n",
    "look_for = 'c' \n",
    "for onecharacter in s:\n",
    "    print(f'Current character is {onecharacter}')\n",
    "    if one_character == look_for:\n",
    "        print(f'Found {look_for}!')\n",
    "        break\n",
    "        "
   ]
  },
  {
   "cell_type": "code",
   "execution_count": 264,
   "id": "4f19f07c-20ea-4f57-87ba-e57e96d98922",
   "metadata": {},
   "outputs": [
    {
     "name": "stdout",
     "output_type": "stream",
     "text": [
      "Start\n",
      "Current character is a\n",
      "Current character is b\n",
      "Current character is c\n",
      "Found c!\n",
      "Done\n"
     ]
    }
   ],
   "source": [
    "s = 'abcd'       # string\n",
    "look_for = 'c'   # what I want to look for in the string\n",
    "\n",
    "# we'll pretend that \"in\" doesn't exist in Python\n",
    "\n",
    "print('Start')\n",
    "for one_character in s:\n",
    "    print(f'Current character is {one_character}')\n",
    "\n",
    "    if one_character == look_for:   # did we find what we want?\n",
    "        print(f'Found {look_for}!')\n",
    "        break\n",
    "print('Done')  "
   ]
  },
  {
   "cell_type": "code",
   "execution_count": 2,
   "id": "742d10e4-f6a2-4c0e-a284-74c23c692a26",
   "metadata": {},
   "outputs": [
    {
     "name": "stdout",
     "output_type": "stream",
     "text": [
      "5\n",
      "4\n",
      "3\n",
      "2\n",
      "1\n"
     ]
    }
   ],
   "source": [
    "#while\n",
    "\n",
    "x = 5\n",
    "while x > 0:\n",
    "    print(x)\n",
    "    x -= 1"
   ]
  },
  {
   "cell_type": "code",
   "execution_count": 10,
   "id": "cf8010ea-01a5-48c5-acc2-03be413f8f42",
   "metadata": {},
   "outputs": [
    {
     "name": "stdin",
     "output_type": "stream",
     "text": [
      "Enter Number a\n"
     ]
    },
    {
     "name": "stdout",
     "output_type": "stream",
     "text": [
      "not numeric\n"
     ]
    },
    {
     "name": "stdin",
     "output_type": "stream",
     "text": [
      "Enter Number 5\n",
      "Enter Number 6\n",
      "Enter Number \n"
     ]
    },
    {
     "name": "stdout",
     "output_type": "stream",
     "text": [
      "11\n"
     ]
    }
   ],
   "source": [
    "total = 0\n",
    "\n",
    "while True:\n",
    "    s = input('Enter Number')\n",
    "    if s == '':\n",
    "        break\n",
    "    \n",
    "    for one_character in s:\n",
    "        if one_character.isdigit():\n",
    "            total += int(one_character)\n",
    "        else: \n",
    "            print('not numeric')\n",
    "\n",
    "print(total)\n"
   ]
  },
  {
   "cell_type": "code",
   "execution_count": 22,
   "id": "44b0e6c6-5c1e-42ef-aa80-716cac1c8ad6",
   "metadata": {},
   "outputs": [
    {
     "name": "stdin",
     "output_type": "stream",
     "text": [
      "Enter a number:  1\n",
      "Enter a number:  2\n",
      "Enter a number:  3\n",
      "Enter a number:  4\n",
      "Enter a number:  5\n",
      "Enter a number:  6\n",
      "Enter a number:  af`12\n"
     ]
    },
    {
     "name": "stdout",
     "output_type": "stream",
     "text": [
      "af`12 is not numeric; try again!\n"
     ]
    },
    {
     "name": "stdin",
     "output_type": "stream",
     "text": [
      "Enter a number:  \n"
     ]
    },
    {
     "name": "stdout",
     "output_type": "stream",
     "text": [
      "evens = [2, 4, 6]\n",
      "odds = [1, 3, 5]\n"
     ]
    }
   ],
   "source": [
    "# setup\n",
    "evens = []\n",
    "odds = []\n",
    "\n",
    "# calculations\n",
    "while True:\n",
    "    s = input('Enter a number: ').strip()\n",
    "\n",
    "    if s == '':\n",
    "        break\n",
    "\n",
    "    if s.isdigit():   # if all characters in s are 0-9\n",
    "\n",
    "        # convert s into an integer\n",
    "        n = int(s)\n",
    "    \n",
    "        # check whether n is odd or even\n",
    "        # if it's odd, append to odds\n",
    "        if n % 2 == 1:   # meaning: after dividing n by 2, do we have a remainder of 1?\n",
    "            odds.append(n)\n",
    "    \n",
    "        # if it's even, append to evens\n",
    "        else:\n",
    "            evens.append(n)\n",
    "\n",
    "    else:\n",
    "        print(f'{s} is not numeric; try again!')\n",
    "\n",
    "# report\n",
    "print(f'evens = {evens}')\n",
    "print(f'odds = {odds}')   \n",
    "\n"
   ]
  },
  {
   "cell_type": "code",
   "execution_count": 35,
   "id": "b9cfd86c-5d34-4287-905f-9afc68bc2ad0",
   "metadata": {},
   "outputs": [
    {
     "name": "stdin",
     "output_type": "stream",
     "text": [
      "enter a string 12312312tfdfasdfasdf~1#!@#@!\n"
     ]
    },
    {
     "name": "stdout",
     "output_type": "stream",
     "text": [
      "12312312tfdfasdfasdf~1#!@#@!\n"
     ]
    },
    {
     "name": "stdin",
     "output_type": "stream",
     "text": [
      "enter a string dsfsdfsd\n"
     ]
    },
    {
     "name": "stdout",
     "output_type": "stream",
     "text": [
      "dsfsdfsd\n"
     ]
    },
    {
     "name": "stdin",
     "output_type": "stream",
     "text": [
      "enter a string sdfsdf\n"
     ]
    },
    {
     "name": "stdout",
     "output_type": "stream",
     "text": [
      "sdfsdf\n"
     ]
    },
    {
     "name": "stdin",
     "output_type": "stream",
     "text": [
      "enter a string \n"
     ]
    },
    {
     "name": "stdout",
     "output_type": "stream",
     "text": [
      "\n"
     ]
    },
    {
     "name": "stdin",
     "output_type": "stream",
     "text": [
      "enter a string \n"
     ]
    },
    {
     "name": "stdout",
     "output_type": "stream",
     "text": [
      "\n"
     ]
    },
    {
     "name": "stdin",
     "output_type": "stream",
     "text": [
      "enter a string \n"
     ]
    },
    {
     "name": "stdout",
     "output_type": "stream",
     "text": [
      "\n"
     ]
    },
    {
     "name": "stdin",
     "output_type": "stream",
     "text": [
      "enter a string \n"
     ]
    },
    {
     "name": "stdout",
     "output_type": "stream",
     "text": [
      "\n"
     ]
    },
    {
     "ename": "KeyboardInterrupt",
     "evalue": "Interrupted by user",
     "output_type": "error",
     "traceback": [
      "\u001b[0;31m---------------------------------------------------------------------------\u001b[0m",
      "\u001b[0;31mKeyboardInterrupt\u001b[0m                         Traceback (most recent call last)",
      "Cell \u001b[0;32mIn[35], line 7\u001b[0m\n\u001b[1;32m      4\u001b[0m otherlist \u001b[38;5;241m=\u001b[39m []\n\u001b[1;32m      6\u001b[0m \u001b[38;5;28;01mwhile\u001b[39;00m \u001b[38;5;28;01mTrue\u001b[39;00m:\n\u001b[0;32m----> 7\u001b[0m     x  \u001b[38;5;241m=\u001b[39m \u001b[38;5;28;43minput\u001b[39;49m\u001b[43m(\u001b[49m\u001b[38;5;124;43m'\u001b[39;49m\u001b[38;5;124;43menter a string\u001b[39;49m\u001b[38;5;124;43m'\u001b[39;49m\u001b[43m)\u001b[49m\n\u001b[1;32m      8\u001b[0m     \u001b[38;5;28mprint\u001b[39m(x)\n\u001b[1;32m      9\u001b[0m     \u001b[38;5;28;01mfor\u001b[39;00m item \u001b[38;5;129;01min\u001b[39;00m x:\n",
      "File \u001b[0;32m/usr/local/lib/python3.10/dist-packages/ipykernel/kernelbase.py:1202\u001b[0m, in \u001b[0;36mKernel.raw_input\u001b[0;34m(self, prompt)\u001b[0m\n\u001b[1;32m   1200\u001b[0m     msg \u001b[38;5;241m=\u001b[39m \u001b[38;5;124m\"\u001b[39m\u001b[38;5;124mraw_input was called, but this frontend does not support input requests.\u001b[39m\u001b[38;5;124m\"\u001b[39m\n\u001b[1;32m   1201\u001b[0m     \u001b[38;5;28;01mraise\u001b[39;00m StdinNotImplementedError(msg)\n\u001b[0;32m-> 1202\u001b[0m \u001b[38;5;28;01mreturn\u001b[39;00m \u001b[38;5;28;43mself\u001b[39;49m\u001b[38;5;241;43m.\u001b[39;49m\u001b[43m_input_request\u001b[49m\u001b[43m(\u001b[49m\n\u001b[1;32m   1203\u001b[0m \u001b[43m    \u001b[49m\u001b[38;5;28;43mstr\u001b[39;49m\u001b[43m(\u001b[49m\u001b[43mprompt\u001b[49m\u001b[43m)\u001b[49m\u001b[43m,\u001b[49m\n\u001b[1;32m   1204\u001b[0m \u001b[43m    \u001b[49m\u001b[38;5;28;43mself\u001b[39;49m\u001b[38;5;241;43m.\u001b[39;49m\u001b[43m_parent_ident\u001b[49m\u001b[43m[\u001b[49m\u001b[38;5;124;43m\"\u001b[39;49m\u001b[38;5;124;43mshell\u001b[39;49m\u001b[38;5;124;43m\"\u001b[39;49m\u001b[43m]\u001b[49m\u001b[43m,\u001b[49m\n\u001b[1;32m   1205\u001b[0m \u001b[43m    \u001b[49m\u001b[38;5;28;43mself\u001b[39;49m\u001b[38;5;241;43m.\u001b[39;49m\u001b[43mget_parent\u001b[49m\u001b[43m(\u001b[49m\u001b[38;5;124;43m\"\u001b[39;49m\u001b[38;5;124;43mshell\u001b[39;49m\u001b[38;5;124;43m\"\u001b[39;49m\u001b[43m)\u001b[49m\u001b[43m,\u001b[49m\n\u001b[1;32m   1206\u001b[0m \u001b[43m    \u001b[49m\u001b[43mpassword\u001b[49m\u001b[38;5;241;43m=\u001b[39;49m\u001b[38;5;28;43;01mFalse\u001b[39;49;00m\u001b[43m,\u001b[49m\n\u001b[1;32m   1207\u001b[0m \u001b[43m\u001b[49m\u001b[43m)\u001b[49m\n",
      "File \u001b[0;32m/usr/local/lib/python3.10/dist-packages/ipykernel/kernelbase.py:1245\u001b[0m, in \u001b[0;36mKernel._input_request\u001b[0;34m(self, prompt, ident, parent, password)\u001b[0m\n\u001b[1;32m   1242\u001b[0m \u001b[38;5;28;01mexcept\u001b[39;00m \u001b[38;5;167;01mKeyboardInterrupt\u001b[39;00m:\n\u001b[1;32m   1243\u001b[0m     \u001b[38;5;66;03m# re-raise KeyboardInterrupt, to truncate traceback\u001b[39;00m\n\u001b[1;32m   1244\u001b[0m     msg \u001b[38;5;241m=\u001b[39m \u001b[38;5;124m\"\u001b[39m\u001b[38;5;124mInterrupted by user\u001b[39m\u001b[38;5;124m\"\u001b[39m\n\u001b[0;32m-> 1245\u001b[0m     \u001b[38;5;28;01mraise\u001b[39;00m \u001b[38;5;167;01mKeyboardInterrupt\u001b[39;00m(msg) \u001b[38;5;28;01mfrom\u001b[39;00m \u001b[38;5;28;01mNone\u001b[39;00m\n\u001b[1;32m   1246\u001b[0m \u001b[38;5;28;01mexcept\u001b[39;00m \u001b[38;5;167;01mException\u001b[39;00m:\n\u001b[1;32m   1247\u001b[0m     \u001b[38;5;28mself\u001b[39m\u001b[38;5;241m.\u001b[39mlog\u001b[38;5;241m.\u001b[39mwarning(\u001b[38;5;124m\"\u001b[39m\u001b[38;5;124mInvalid Message:\u001b[39m\u001b[38;5;124m\"\u001b[39m, exc_info\u001b[38;5;241m=\u001b[39m\u001b[38;5;28;01mTrue\u001b[39;00m)\n",
      "\u001b[0;31mKeyboardInterrupt\u001b[0m: Interrupted by user"
     ]
    },
    {
     "name": "stdin",
     "output_type": "stream",
     "text": [
      "enter a string \n"
     ]
    }
   ],
   "source": [
    "#digits vowels and others\n",
    "digitlist = []\n",
    "vowellist = []\n",
    "otherlist = []\n",
    "\n",
    "while True:\n",
    "    x  = input('enter a string')\n",
    "    print(x)\n",
    "    for item in x:\n",
    "        if item == '':\n",
    "            break\n",
    "        if item.isdigit():\n",
    "            digitlist.append(item)\n",
    "          \n",
    "        elif  item in 'aeiou':\n",
    "            vowellist.append(item)\n",
    "        else:\n",
    "            otherlist.append(item)\n",
    "            "
   ]
  },
  {
   "cell_type": "code",
   "execution_count": 34,
   "id": "9df3db15-f123-45c9-bc76-088abe3b9911",
   "metadata": {},
   "outputs": [
    {
     "name": "stdin",
     "output_type": "stream",
     "text": [
      "string asdfadsf`12`121`~\n"
     ]
    },
    {
     "name": "stdout",
     "output_type": "stream",
     "text": [
      "['1', '2', '1', '2', '1']\n",
      "['a', 'a']\n",
      "['s', 'd', 'f', 'd', 's', 'f', '`', '`', '`', '~']\n"
     ]
    }
   ],
   "source": [
    "d = []\n",
    "v = []\n",
    "o = []\n",
    "\n",
    "s = input('string')\n",
    "\n",
    "for one_char in s:\n",
    "    if one_char.isdigit():\n",
    "        d.append(one_char)\n",
    "    elif one_char in 'aeiou':\n",
    "        v.append(one_char)\n",
    "    else:\n",
    "        o.append(one_char)\n",
    "\n",
    "\n",
    "print(d)\n",
    "print(v)\n",
    "print(o)\n"
   ]
  },
  {
   "cell_type": "code",
   "execution_count": 38,
   "id": "b6a3b1aa-ca27-4e5f-81b4-768849528462",
   "metadata": {},
   "outputs": [
    {
     "name": "stdout",
     "output_type": "stream",
     "text": [
      "['This', 'is', 'a', 'test', 'for', 'moving', 'Strings', 'to', 'lists.']\n"
     ]
    }
   ],
   "source": [
    "l = []\n",
    "s = 'This is     a test    for moving Strings    to lists.'\n",
    "l = s.split()\n"
   ]
  },
  {
   "cell_type": "code",
   "execution_count": 52,
   "id": "d904feef-749b-451b-b5c4-59a7afd04b4a",
   "metadata": {},
   "outputs": [
    {
     "name": "stdin",
     "output_type": "stream",
     "text": [
      "enter numbers with white space 12312 12312312 123123123\n",
      "enter numbers with white space 123123 1231232 123123\n",
      "enter numbers with white space \n"
     ]
    },
    {
     "data": {
      "text/plain": [
       "[['12312', '12312312', '123123123'], ['123123', '1231232', '123123']]"
      ]
     },
     "execution_count": 52,
     "metadata": {},
     "output_type": "execute_result"
    }
   ],
   "source": [
    "total = 0\n",
    "l = []\n",
    "\n",
    "while True:\n",
    "    x = input('enter numbers with white space')\n",
    "    if x == '':\n",
    "        break\n",
    "    else:\n",
    "        l.append(x.split())\n",
    "\n",
    "l\n"
   ]
  },
  {
   "cell_type": "code",
   "execution_count": 56,
   "id": "ccee77bd-a578-43cd-b7aa-ed5c4754a77c",
   "metadata": {},
   "outputs": [
    {
     "name": "stdin",
     "output_type": "stream",
     "text": [
      "input numbers 111 111 111 aaa\n"
     ]
    },
    {
     "name": "stdout",
     "output_type": "stream",
     "text": [
      "not a digit\n",
      "total = 333\n"
     ]
    }
   ],
   "source": [
    "total = 0\n",
    "\n",
    "s = input('input numbers').strip()\n",
    "\n",
    "words = s.split()\n",
    "\n",
    "while True:\n",
    "    \n",
    "    for one_word in words:\n",
    "    if one_word.isdigit():\n",
    "        total += int(one_word)\n",
    "    else:\n",
    "        print('not a digit')\n",
    "\n",
    "\n",
    "print(f'total = {total}')"
   ]
  },
  {
   "cell_type": "code",
   "execution_count": 57,
   "id": "f674417d-df06-4e92-8a71-b9f64f8f2723",
   "metadata": {},
   "outputs": [
    {
     "ename": "SyntaxError",
     "evalue": "invalid syntax (4269923309.py, line 9)",
     "output_type": "error",
     "traceback": [
      "\u001b[0;36m  Cell \u001b[0;32mIn[57], line 9\u001b[0;36m\u001b[0m\n\u001b[0;31m    if\u001b[0m\n\u001b[0m       ^\u001b[0m\n\u001b[0;31mSyntaxError\u001b[0m\u001b[0;31m:\u001b[0m invalid syntax\n"
     ]
    }
   ],
   "source": [
    "# setup\n",
    "total = 0\n",
    "\n",
    "# calculations\n",
    "while True:\n",
    "\n",
    "    s = input('Enter numbers, separated by spaces: ').strip()\n",
    "\n",
    "    if \n",
    "    \n",
    "    words = s.split() \n",
    "    \n",
    "    for one_word in words:\n",
    "        # add the current number/word to total   \n",
    "        if one_word.isdigit():      # can we turn one_word into an integer?\n",
    "            total += int(one_word)  # if so, then add its int version to total\n",
    "        else:\n",
    "            print(f'{one_word} is not numeric; ignoring')\n",
    "\n",
    "# report\n",
    "print(f'total = {total}')"
   ]
  },
  {
   "cell_type": "code",
   "execution_count": 59,
   "id": "2e3fb9a6-fc0c-4585-b336-4964050fda75",
   "metadata": {},
   "outputs": [
    {
     "name": "stdin",
     "output_type": "stream",
     "text": [
      "Enter numbers, separated by spaces:  111\n",
      "Enter numbers, separated by spaces:  \n"
     ]
    },
    {
     "name": "stdout",
     "output_type": "stream",
     "text": [
      "total = 111\n"
     ]
    },
    {
     "data": {
      "text/plain": [
       "list"
      ]
     },
     "execution_count": 59,
     "metadata": {},
     "output_type": "execute_result"
    }
   ],
   "source": [
    "# setup\n",
    "total = 0\n",
    "\n",
    "# calculations\n",
    "while True:\n",
    "\n",
    "    s = input('Enter numbers, separated by spaces: ').strip()\n",
    "\n",
    "    if s == '':    # did we get the empty string?\n",
    "        break      # break out of the loop!\n",
    "    \n",
    "    words = s.split() \n",
    "    \n",
    "    for one_word in words:\n",
    "        # add the current number/word to total   \n",
    "        if one_word.isdigit():      # can we turn one_word into an integer?\n",
    "            total += int(one_word)  # if so, then add its int version to total\n",
    "        else:\n",
    "            print(f'{one_word} is not numeric; ignoring')\n",
    "\n",
    "# report\n",
    "print(f'total = {total}')\n",
    "type(words)"
   ]
  },
  {
   "cell_type": "code",
   "execution_count": null,
   "id": "18eba38a-56af-438c-861e-a623d8366930",
   "metadata": {},
   "outputs": [],
   "source": []
  }
 ],
 "metadata": {
  "kernelspec": {
   "display_name": "Python 3 (ipykernel)",
   "language": "python",
   "name": "python3"
  },
  "language_info": {
   "codemirror_mode": {
    "name": "ipython",
    "version": 3
   },
   "file_extension": ".py",
   "mimetype": "text/x-python",
   "name": "python",
   "nbconvert_exporter": "python",
   "pygments_lexer": "ipython3",
   "version": "3.10.12"
  }
 },
 "nbformat": 4,
 "nbformat_minor": 5
}
