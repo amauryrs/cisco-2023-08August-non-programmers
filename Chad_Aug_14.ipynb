{
 "cells": [
  {
   "cell_type": "code",
   "execution_count": null,
   "id": "70004dae-6b96-4b17-87fa-e11e22abfc63",
   "metadata": {},
   "outputs": [],
   "source": [
    "name = 'Chad'\n",
    "\n",
    "i = 0\n",
    "\n",
    "while i < len(name):\n",
    "    \n"
   ]
  }
 ],
 "metadata": {
  "kernelspec": {
   "display_name": "Python 3 (ipykernel)",
   "language": "python",
   "name": "python3"
  },
  "language_info": {
   "codemirror_mode": {
    "name": "ipython",
    "version": 3
   },
   "file_extension": ".py",
   "mimetype": "text/x-python",
   "name": "python",
   "nbconvert_exporter": "python",
   "pygments_lexer": "ipython3",
   "version": "3.10.12"
  }
 },
 "nbformat": 4,
 "nbformat_minor": 5
}
