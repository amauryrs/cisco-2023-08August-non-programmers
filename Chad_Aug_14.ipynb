{
 "cells": [
  {
   "cell_type": "code",
   "execution_count": 1,
   "id": "9538fafa-8702-4032-9740-a342716a9f20",
   "metadata": {},
   "outputs": [
    {
     "name": "stdout",
     "output_type": "stream",
     "text": [
      "hi\n"
     ]
    }
   ],
   "source": [
    "print('hi')"
   ]
  },
  {
   "cell_type": "code",
   "execution_count": 6,
   "id": "a1789813-ea64-4ac6-915a-30fde98f35e9",
   "metadata": {},
   "outputs": [
    {
     "name": "stdout",
     "output_type": "stream",
     "text": [
      "Error getting weather data. Code: 401\n"
     ]
    }
   ],
   "source": [
    "import requests\n",
    "import json\n",
    "\n",
    "API_KEY = \"YOUR_API_KEY\"\n",
    "\n",
    "def get_weather(zip_code):\n",
    "    url = \"https://api.openweathermap.org/data/2.5/weather?zip={}&appid={}\".format(zip_code, API_KEY)\n",
    "    response = requests.get(url)\n",
    "    if response.status_code == 200:\n",
    "        data = json.loads(response.content)\n",
    "        weather = data[\"weather\"][0]\n",
    "        print(\"Current weather for zip code {}: {}\".format(zip_code, weather[\"description\"]))\n",
    "        print(\"Temperature: {}°C\".format(data[\"main\"][\"temp\"]))\n",
    "        print(\"Humidity: {}%\".format(data[\"main\"][\"humidity\"]))\n",
    "    else:\n",
    "        print(\"Error getting weather data. Code: {}\".format(response.status_code))\n",
    "\n",
    "if __name__ == \"__main__\":\n",
    "    get_weather(27312)"
   ]
  },
  {
   "cell_type": "code",
   "execution_count": 3,
   "id": "dd987f27-0f7f-48a0-ab27-049bd65a4b87",
   "metadata": {},
   "outputs": [
    {
     "name": "stdin",
     "output_type": "stream",
     "text": [
      "Enter an IP address:  8.8.8.8\n"
     ]
    },
    {
     "name": "stdout",
     "output_type": "stream",
     "text": [
      "PING 8.8.8.8 (8.8.8.8) 56(84) bytes of data.\n",
      "64 bytes from 8.8.8.8: icmp_seq=1 ttl=59 time=2.10 ms\n",
      "64 bytes from 8.8.8.8: icmp_seq=2 ttl=59 time=1.48 ms\n",
      "64 bytes from 8.8.8.8: icmp_seq=3 ttl=59 time=1.73 ms\n",
      "64 bytes from 8.8.8.8: icmp_seq=4 ttl=59 time=1.51 ms\n",
      "64 bytes from 8.8.8.8: icmp_seq=5 ttl=59 time=1.48 ms\n",
      "\n",
      "--- 8.8.8.8 ping statistics ---\n",
      "5 packets transmitted, 5 received, 0% packet loss, time 4005ms\n",
      "rtt min/avg/max/mdev = 1.478/1.659/2.104/0.240 ms\n",
      "ok\n"
     ]
    }
   ],
   "source": [
    "import os\n",
    "\n",
    "def ping_ip(ip_address):\n",
    "    response = os.system(\"ping -c 5 {}\".format(ip_address))\n",
    "    if response == 0:\n",
    "        return True\n",
    "    else:\n",
    "        return False\n",
    "\n",
    "if __name__ == \"__main__\":\n",
    "    ip_address = input(\"Enter an IP address: \")\n",
    "    if ping_ip(ip_address):\n",
    "        print(\"ok\")\n",
    "    else:\n",
    "        print(\"The IP address is not reachable.\")"
   ]
  },
  {
   "cell_type": "code",
   "execution_count": 5,
   "id": "98f1dcee-42fa-4c61-979b-5ffd2fa84ca2",
   "metadata": {},
   "outputs": [
    {
     "name": "stdin",
     "output_type": "stream",
     "text": [
      "Enter a hostname or IP address:  a.b.c\n"
     ]
    },
    {
     "ename": "gaierror",
     "evalue": "[Errno -2] Name or service not known",
     "output_type": "error",
     "traceback": [
      "\u001b[0;31m---------------------------------------------------------------------------\u001b[0m",
      "\u001b[0;31mgaierror\u001b[0m                                  Traceback (most recent call last)",
      "Cell \u001b[0;32mIn[5], line 18\u001b[0m\n\u001b[1;32m     15\u001b[0m         \u001b[38;5;28mprint\u001b[39m(\u001b[38;5;124m\"\u001b[39m\u001b[38;5;124mInvalid hostname or IP address.\u001b[39m\u001b[38;5;124m\"\u001b[39m)\n\u001b[1;32m     17\u001b[0m \u001b[38;5;28;01mif\u001b[39;00m \u001b[38;5;18m__name__\u001b[39m \u001b[38;5;241m==\u001b[39m \u001b[38;5;124m\"\u001b[39m\u001b[38;5;124m__main__\u001b[39m\u001b[38;5;124m\"\u001b[39m:\n\u001b[0;32m---> 18\u001b[0m     \u001b[43mmain\u001b[49m\u001b[43m(\u001b[49m\u001b[43m)\u001b[49m\n",
      "Cell \u001b[0;32mIn[5], line 11\u001b[0m, in \u001b[0;36mmain\u001b[0;34m()\u001b[0m\n\u001b[1;32m      9\u001b[0m \u001b[38;5;250m\u001b[39m\u001b[38;5;124;03m\"\"\"Prompts for a hostname or IP address and prints \"ok\" if successful.\"\"\"\u001b[39;00m\n\u001b[1;32m     10\u001b[0m hostname \u001b[38;5;241m=\u001b[39m \u001b[38;5;28minput\u001b[39m(\u001b[38;5;124m\"\u001b[39m\u001b[38;5;124mEnter a hostname or IP address: \u001b[39m\u001b[38;5;124m\"\u001b[39m)\n\u001b[0;32m---> 11\u001b[0m ip_address \u001b[38;5;241m=\u001b[39m \u001b[43mget_ip_address\u001b[49m\u001b[43m(\u001b[49m\u001b[43mhostname\u001b[49m\u001b[43m)\u001b[49m\n\u001b[1;32m     12\u001b[0m \u001b[38;5;28;01mif\u001b[39;00m ip_address:\n\u001b[1;32m     13\u001b[0m     \u001b[38;5;28mprint\u001b[39m(\u001b[38;5;124m\"\u001b[39m\u001b[38;5;124mok\u001b[39m\u001b[38;5;124m\"\u001b[39m)\n",
      "Cell \u001b[0;32mIn[5], line 5\u001b[0m, in \u001b[0;36mget_ip_address\u001b[0;34m(hostname)\u001b[0m\n\u001b[1;32m      3\u001b[0m \u001b[38;5;28;01mdef\u001b[39;00m \u001b[38;5;21mget_ip_address\u001b[39m(hostname):\n\u001b[1;32m      4\u001b[0m \u001b[38;5;250m    \u001b[39m\u001b[38;5;124;03m\"\"\"Gets the IP address of the specified hostname.\"\"\"\u001b[39;00m\n\u001b[0;32m----> 5\u001b[0m     ip_address \u001b[38;5;241m=\u001b[39m \u001b[43msocket\u001b[49m\u001b[38;5;241;43m.\u001b[39;49m\u001b[43mgethostbyname\u001b[49m\u001b[43m(\u001b[49m\u001b[43mhostname\u001b[49m\u001b[43m)\u001b[49m\n\u001b[1;32m      6\u001b[0m     \u001b[38;5;28;01mreturn\u001b[39;00m ip_address\n",
      "\u001b[0;31mgaierror\u001b[0m: [Errno -2] Name or service not known"
     ]
    }
   ],
   "source": [
    "import socket\n",
    "\n",
    "def get_ip_address(hostname):\n",
    "    \"\"\"Gets the IP address of the specified hostname.\"\"\"\n",
    "    ip_address = socket.gethostbyname(hostname)\n",
    "    return ip_address\n",
    "\n",
    "def main():\n",
    "    \"\"\"Prompts for a hostname or IP address and prints \"ok\" if successful.\"\"\"\n",
    "    hostname = input(\"Enter a hostname or IP address: \")\n",
    "    ip_address = get_ip_address(hostname)\n",
    "    if ip_address:\n",
    "        print(\"ok\")\n",
    "    else:\n",
    "        print(\"Invalid hostname or IP address.\")\n",
    "\n",
    "if __name__ == \"__main__\":\n",
    "    main()"
   ]
  },
  {
   "cell_type": "code",
   "execution_count": null,
   "id": "d82c235c-2292-40ab-a987-f4598048b857",
   "metadata": {},
   "outputs": [],
   "source": []
  }
 ],
 "metadata": {
  "kernelspec": {
   "display_name": "Python 3 (ipykernel)",
   "language": "python",
   "name": "python3"
  },
  "language_info": {
   "codemirror_mode": {
    "name": "ipython",
    "version": 3
   },
   "file_extension": ".py",
   "mimetype": "text/x-python",
   "name": "python",
   "nbconvert_exporter": "python",
   "pygments_lexer": "ipython3",
   "version": "3.10.12"
  }
 },
 "nbformat": 4,
 "nbformat_minor": 5
}
