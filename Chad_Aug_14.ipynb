{
 "cells": [
  {
   "cell_type": "code",
   "execution_count": 1,
   "id": "9538fafa-8702-4032-9740-a342716a9f20",
   "metadata": {},
   "outputs": [
    {
     "name": "stdout",
     "output_type": "stream",
     "text": [
      "hi\n"
     ]
    }
   ],
   "source": [
    "print('hi')\n"
   ]
  },
  {
   "cell_type": "code",
   "execution_count": 12,
   "id": "620a7b71-7f75-4b1c-87ca-0149e1bcc51f",
   "metadata": {},
   "outputs": [
    {
     "data": {
      "text/plain": [
       "str"
      ]
     },
     "execution_count": 12,
     "metadata": {},
     "output_type": "execute_result"
    }
   ],
   "source": [
    "x = 'hello' + ' me'\n",
    "type(x)\n"
   ]
  },
  {
   "cell_type": "code",
   "execution_count": 40,
   "id": "7b9636d2-4cb3-440b-af05-625c7af1f624",
   "metadata": {},
   "outputs": [
    {
     "name": "stdout",
     "output_type": "stream",
     "text": [
      "Hi Chad how are you?\n"
     ]
    },
    {
     "name": "stdin",
     "output_type": "stream",
     "text": [
      "Input response  great\n"
     ]
    },
    {
     "name": "stdout",
     "output_type": "stream",
     "text": [
      " Thats great!\n"
     ]
    }
   ],
   "source": [
    "name = 'Chad'\n",
    "print('Hi ' + name + ' how are you?')\n",
    "resp = input('Input response ')\n",
    "if resp == \"bad\":\n",
    "    print('you can do better')\n",
    "else:\n",
    "    print(' Thats great!')"
   ]
  },
  {
   "cell_type": "code",
   "execution_count": 72,
   "id": "63c4f5d1-8c2b-418e-adf6-a4e17b1dd1ea",
   "metadata": {},
   "outputs": [
    {
     "name": "stdin",
     "output_type": "stream",
     "text": [
      " What is your name? \n",
      "Where do you work? \n"
     ]
    },
    {
     "name": "stdout",
     "output_type": "stream",
     "text": [
      "go away\n"
     ]
    }
   ],
   "source": [
    "un = input(' What is your name?')\n",
    "company = input ('Where do you work?')\n",
    "if un == 'Chad' and company == 'Cisco':\n",
    "    print('You must be me')\n",
    "elif un == 'Chad' and company != 'Cisco':\n",
    "    print('You should work at Cisco ' )\n",
    "elif company == 'Cisco' and un != 'Chad':\n",
    "    print('You are not Chad')\n",
    "elif un != 'Chad' and company != 'Cisco':\n",
    "    print('go away')\n",
    "else: \n",
    "    print('error ID10T')\n",
    "\n",
    "    "
   ]
  },
  {
   "cell_type": "code",
   "execution_count": 75,
   "id": "2ccc8216-e701-4cfb-baf2-a18501346b30",
   "metadata": {},
   "outputs": [
    {
     "name": "stdout",
     "output_type": "stream",
     "text": [
      "1\n"
     ]
    }
   ],
   "source": [
    "x = int(1)\n",
    "print(x)"
   ]
  },
  {
   "cell_type": "code",
   "execution_count": 77,
   "id": "4b6693d6-ed00-41b5-a5b4-f0812c16a7fa",
   "metadata": {},
   "outputs": [
    {
     "data": {
      "text/plain": [
       "10"
      ]
     },
     "execution_count": 77,
     "metadata": {},
     "output_type": "execute_result"
    }
   ],
   "source": [
    "x = 10\n",
    "if x < 1:\n",
    "    x = x * 10\n",
    "x"
   ]
  },
  {
   "cell_type": "code",
   "execution_count": 90,
   "id": "10f7eb96-75a9-47f1-adbd-815fc0743f85",
   "metadata": {},
   "outputs": [
    {
     "name": "stdout",
     "output_type": "stream",
     "text": [
      "73\n"
     ]
    },
    {
     "name": "stdin",
     "output_type": "stream",
     "text": [
      "Welcome to the guessing game.  Pick number between 1 and 100. 10\n"
     ]
    },
    {
     "name": "stdout",
     "output_type": "stream",
     "text": [
      "Too low\n"
     ]
    }
   ],
   "source": [
    "# Guessing Game\n",
    "import random\n",
    "number = random.randint(0,100)\n",
    "print(number)\n",
    "x = int(input('Welcome to the guessing game.  Pick number between 1 and 100.'))\n",
    "\n",
    "if x == number:\n",
    "    print('you got it')\n",
    "elif x < number:\n",
    "    print('Too low')\n",
    "elif x > number:\n",
    "    print ('too high')\n",
    "\n"
   ]
  },
  {
   "cell_type": "code",
   "execution_count": 97,
   "id": "61c669f5-450b-4105-bed8-6febbea8524d",
   "metadata": {},
   "outputs": [
    {
     "data": {
      "text/plain": [
       "int"
      ]
     },
     "execution_count": 97,
     "metadata": {},
     "output_type": "execute_result"
    }
   ],
   "source": [
    "x = 12.56\n",
    "x = round(x)\n",
    "\n",
    "int(x)\n",
    "type(x)\n"
   ]
  },
  {
   "cell_type": "code",
   "execution_count": null,
   "id": "b3f6fdad-89c9-4c67-9914-13fa0a3dcc41",
   "metadata": {},
   "outputs": [],
   "source": []
  },
  {
   "cell_type": "code",
   "execution_count": 107,
   "id": "078d0aa8-0cf1-473a-bf80-d6e9acdcef2b",
   "metadata": {},
   "outputs": [
    {
     "data": {
      "text/plain": [
       "'f'"
      ]
     },
     "execution_count": 107,
     "metadata": {},
     "output_type": "execute_result"
    }
   ],
   "source": [
    "x = 'abcdefghijklmnopqrstuvwxyz'\n",
    "x[5]\n"
   ]
  },
  {
   "cell_type": "code",
   "execution_count": 109,
   "id": "03ffeb23-84b3-432f-a3f5-7973cd2cf21f",
   "metadata": {},
   "outputs": [
    {
     "data": {
      "text/plain": [
       "'klmno'"
      ]
     },
     "execution_count": 109,
     "metadata": {},
     "output_type": "execute_result"
    }
   ],
   "source": [
    "x[10:15]\n"
   ]
  },
  {
   "cell_type": "code",
   "execution_count": 110,
   "id": "5d46a7f0-9fc5-41e2-9c6c-5f8f966b2d7a",
   "metadata": {},
   "outputs": [
    {
     "data": {
      "text/plain": [
       "'pqrstuvwxyz'"
      ]
     },
     "execution_count": 110,
     "metadata": {},
     "output_type": "execute_result"
    }
   ],
   "source": [
    "x[15:1000]\n"
   ]
  },
  {
   "cell_type": "code",
   "execution_count": 111,
   "id": "0e6dac49-9a24-4384-8e69-30c3aab2e587",
   "metadata": {},
   "outputs": [
    {
     "data": {
      "text/plain": [
       "True"
      ]
     },
     "execution_count": 111,
     "metadata": {},
     "output_type": "execute_result"
    }
   ],
   "source": [
    "'a' in x\n"
   ]
  },
  {
   "cell_type": "code",
   "execution_count": 112,
   "id": "6977fa11-4e86-4df1-86b7-7bbea8b464c3",
   "metadata": {},
   "outputs": [
    {
     "data": {
      "text/plain": [
       "True"
      ]
     },
     "execution_count": 112,
     "metadata": {},
     "output_type": "execute_result"
    }
   ],
   "source": [
    "'qrst' in x"
   ]
  },
  {
   "cell_type": "code",
   "execution_count": 123,
   "id": "747851e5-9753-4d7c-8cd7-24defa79a316",
   "metadata": {},
   "outputs": [
    {
     "name": "stdout",
     "output_type": "stream",
     "text": [
      "abcd\\acefgg\n"
     ]
    }
   ],
   "source": [
    "s = 'abcd\\\\acefgg'\n",
    "print(s)\n"
   ]
  },
  {
   "cell_type": "code",
   "execution_count": 119,
   "id": "514ffee3-bdfd-4beb-9534-831310dffddb",
   "metadata": {},
   "outputs": [
    {
     "data": {
      "text/plain": [
       "9"
      ]
     },
     "execution_count": 119,
     "metadata": {},
     "output_type": "execute_result"
    }
   ],
   "source": [
    "len(s)"
   ]
  },
  {
   "cell_type": "code",
   "execution_count": 127,
   "id": "fccb9660-0d4b-4467-860e-c0a0d98f3c77",
   "metadata": {},
   "outputs": [
    {
     "name": "stdout",
     "output_type": "stream",
     "text": [
      "c:\\abcd\\efg\\hijk\n"
     ]
    }
   ],
   "source": [
    "path = r'c:\\abcd\\efg\\hijk'\n",
    "print(path)"
   ]
  },
  {
   "cell_type": "raw",
   "id": "db362ad7-a260-467a-8b10-739ff8059255",
   "metadata": {},
   "source": []
  },
  {
   "cell_type": "code",
   "execution_count": 129,
   "id": "55e7212f-158a-4d48-a9d9-819ecace513a",
   "metadata": {},
   "outputs": [
    {
     "data": {
      "text/plain": [
       "'x =  100, y= 1234'"
      ]
     },
     "execution_count": 129,
     "metadata": {},
     "output_type": "execute_result"
    }
   ],
   "source": [
    "x = 100\n",
    "y = 1234\n",
    "f'x =  {x}, y= {y}'"
   ]
  },
  {
   "cell_type": "code",
   "execution_count": 131,
   "id": "a02cf3fb-1334-4057-ac97-076bcb128401",
   "metadata": {},
   "outputs": [
    {
     "ename": "SyntaxError",
     "evalue": "unterminated string literal (detected at line 3) (2630293640.py, line 3)",
     "output_type": "error",
     "traceback": [
      "\u001b[0;36m  Cell \u001b[0;32mIn[131], line 3\u001b[0;36m\u001b[0m\n\u001b[0;31m    f'x = {x},  y = {y}, = {x + y}\u001b[0m\n\u001b[0m    ^\u001b[0m\n\u001b[0;31mSyntaxError\u001b[0m\u001b[0;31m:\u001b[0m unterminated string literal (detected at line 3)\n"
     ]
    }
   ],
   "source": [
    "x = 100\n",
    "y = 1234\n",
    "f'x = {x},  y = {y}, = {x + y}"
   ]
  },
  {
   "cell_type": "code",
   "execution_count": 154,
   "id": "f58239ea-4e51-49df-97a2-88b180b4be42",
   "metadata": {},
   "outputs": [
    {
     "name": "stdin",
     "output_type": "stream",
     "text": [
      "Enter work to translate to Pig Latin dog\n"
     ]
    },
    {
     "name": "stdout",
     "output_type": "stream",
     "text": [
      "3\n",
      "ogday\n"
     ]
    }
   ],
   "source": [
    "word2 = input('Enter work to translate to Pig Latin')\n",
    "print(len(word2))\n",
    "if word2[0] in 'aeiou':\n",
    "    print(word2 + 'way')\n",
    "else:\n",
    "    print(word2[1:] + word2[0] + 'ay')"
   ]
  },
  {
   "cell_type": "code",
   "execution_count": null,
   "id": "126f7f6b-c63c-404e-9caa-42d8571f0fd4",
   "metadata": {},
   "outputs": [],
   "source": [
    "n1 = input('Enter and number')\n",
    "operator = input('Enter an Operator + or -')\n",
    "n2 = input('Enter second number')\n",
    "\n",
    "if n1.isdigit() and n2.isdigit():\n",
    "    print (n1 + n2) \n",
    "    \n",
    "\n",
    "           "
   ]
  }
 ],
 "metadata": {
  "kernelspec": {
   "display_name": "Python 3 (ipykernel)",
   "language": "python",
   "name": "python3"
  },
  "language_info": {
   "codemirror_mode": {
    "name": "ipython",
    "version": 3
   },
   "file_extension": ".py",
   "mimetype": "text/x-python",
   "name": "python",
   "nbconvert_exporter": "python",
   "pygments_lexer": "ipython3",
   "version": "3.10.12"
  }
 },
 "nbformat": 4,
 "nbformat_minor": 5
}
