{
 "cells": [
  {
   "cell_type": "code",
   "execution_count": 185,
   "id": "70004dae-6b96-4b17-87fa-e11e22abfc63",
   "metadata": {},
   "outputs": [
    {
     "name": "stdout",
     "output_type": "stream",
     "text": [
      "C\n",
      "h\n",
      "a\n",
      "d\n"
     ]
    }
   ],
   "source": [
    "name = 'Chad'\n",
    "\n",
    "for one_character in name:\n",
    "    print(one_character)\n",
    "    \n"
   ]
  },
  {
   "cell_type": "code",
   "execution_count": 186,
   "id": "92cb110e-d3d1-40b8-9133-7b6a51ac549e",
   "metadata": {},
   "outputs": [
    {
     "name": "stdin",
     "output_type": "stream",
     "text": [
      "Enter a string:  THisistest\n"
     ]
    },
    {
     "name": "stdout",
     "output_type": "stream",
     "text": [
      "THisistest contains 3 vowels.\n"
     ]
    }
   ],
   "source": [
    "vowel_count = 0\n",
    "s = input('Enter a string: ').strip()\n",
    "\n",
    "for i in s:\n",
    "    if i in 'aeiou':\n",
    "        vowel_count +=1\n",
    "\n",
    "print(f'{s} contains {vowel_count} vowels.')"
   ]
  },
  {
   "cell_type": "code",
   "execution_count": 207,
   "id": "e76d8297-f0ea-435e-950e-301cffd2e5e4",
   "metadata": {},
   "outputs": [
    {
     "name": "stdin",
     "output_type": "stream",
     "text": [
      "enter some numbers 333444555666\n"
     ]
    },
    {
     "name": "stdout",
     "output_type": "stream",
     "text": [
      "odds = 6\n",
      "evens = 6\n"
     ]
    }
   ],
   "source": [
    "odds = 0\n",
    "evens = 0\n",
    "\n",
    "s = input('enter some numbers')\n",
    "\n",
    "for one_digit in s:\n",
    "    n = int(one_digit)\n",
    "    if n % 2 == 0:\n",
    "        evens += 1\n",
    "    else:\n",
    "        odds += 1\n",
    "\n",
    "print(f'odds = {odds}')\n",
    "print(f'evens = {evens}')\n",
    "\n",
    "        \n",
    "\n",
    "\n",
    "\n",
    "\n",
    "\n"
   ]
  },
  {
   "cell_type": "code",
   "execution_count": 235,
   "id": "60f3c04c-5e8d-4fbf-8fdd-2fe6e93f2b45",
   "metadata": {},
   "outputs": [
    {
     "name": "stdin",
     "output_type": "stream",
     "text": [
      "enter string with letter numbers and special characters aaa bbbb\n"
     ]
    },
    {
     "name": "stdout",
     "output_type": "stream",
     "text": [
      "You have 0 integers\n",
      "You have 3 vowels\n",
      "You have 0 special characters\n",
      "You have 1 spaces\n",
      "You have 4 Consanents \n"
     ]
    }
   ],
   "source": [
    "#digits = 'test 1234!!!'\n",
    "#vowels = 0\n",
    "#others = 0\n",
    "digitcount = 0\n",
    "vowelcount = 0\n",
    "othercount = 0\n",
    "spacecount = 0\n",
    "nonvowel = 0\n",
    "\n",
    "string_list = input('enter string with letter numbers and special characters')\n",
    "\n",
    "for onecharacter in string_list:\n",
    "    if onecharacter.isdigit():\n",
    "        digitcount += 1\n",
    "    elif onecharacter in 'aeiou':\n",
    "        vowelcount += 1\n",
    "    elif onecharacter.isalpha():\n",
    "        nonvowel += 1\n",
    "    elif onecharacter.isspace():\n",
    "        spacecount += 1\n",
    "    else:\n",
    "        othercount +=1\n",
    "\n",
    "print(f'You have {digitcount} integers')\n",
    "print(f'You have {vowelcount} vowels') \n",
    "print(f'You have {othercount} special characters')\n",
    "print(f'You have {spacecount} spaces')\n",
    "print(f'You have {nonvowel} Consanents ')\n",
    "        "
   ]
  },
  {
   "cell_type": "code",
   "execution_count": 236,
   "id": "dad8e5ef-921e-48d3-8778-695cf9ea7476",
   "metadata": {},
   "outputs": [
    {
     "name": "stdout",
     "output_type": "stream",
     "text": [
      "Hi\n",
      "Hi\n",
      "Hi\n"
     ]
    }
   ],
   "source": [
    "for i in range(3):\n",
    "    print('Hi')\n"
   ]
  },
  {
   "cell_type": "code",
   "execution_count": 237,
   "id": "317ea788-ee50-416d-827f-34a7e8ab6f65",
   "metadata": {},
   "outputs": [
    {
     "name": "stdout",
     "output_type": "stream",
     "text": [
      " range(0, 5)\n"
     ]
    }
   ],
   "source": [
    "print(f' {range(5)}')"
   ]
  },
  {
   "cell_type": "code",
   "execution_count": 254,
   "id": "69934979-c00e-4f70-afbb-01ccea4fd117",
   "metadata": {},
   "outputs": [
    {
     "name": "stdin",
     "output_type": "stream",
     "text": [
      "Enter Name Chad\n"
     ]
    },
    {
     "name": "stdout",
     "output_type": "stream",
     "text": [
      " 0 * C\n",
      " 1 * C\n",
      " 2 * C\n",
      " 3 * C\n"
     ]
    }
   ],
   "source": [
    "# Name triangles\n",
    "\n",
    "name = input('Enter Name')\n",
    "length = len(name)\n",
    "counter = 0\n",
    "\n",
    "for onecharacter in name:\n",
    "  print(name[:counter])\n"
   ]
  },
  {
   "cell_type": "code",
   "execution_count": null,
   "id": "b4a2edde-2e1f-4cdb-9985-00ca35a2e1ff",
   "metadata": {},
   "outputs": [],
   "source": []
  }
 ],
 "metadata": {
  "kernelspec": {
   "display_name": "Python 3 (ipykernel)",
   "language": "python",
   "name": "python3"
  },
  "language_info": {
   "codemirror_mode": {
    "name": "ipython",
    "version": 3
   },
   "file_extension": ".py",
   "mimetype": "text/x-python",
   "name": "python",
   "nbconvert_exporter": "python",
   "pygments_lexer": "ipython3",
   "version": "3.10.12"
  }
 },
 "nbformat": 4,
 "nbformat_minor": 5
}
