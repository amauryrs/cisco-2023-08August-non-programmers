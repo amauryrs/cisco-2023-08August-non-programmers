{
 "cells": [
  {
   "cell_type": "code",
   "execution_count": 1,
   "id": "9538fafa-8702-4032-9740-a342716a9f20",
   "metadata": {},
   "outputs": [
    {
     "name": "stdout",
     "output_type": "stream",
     "text": [
      "hi\n"
     ]
    }
   ],
   "source": [
    "print('hi')\n"
   ]
  },
  {
   "cell_type": "code",
   "execution_count": 12,
   "id": "620a7b71-7f75-4b1c-87ca-0149e1bcc51f",
   "metadata": {},
   "outputs": [
    {
     "data": {
      "text/plain": [
       "str"
      ]
     },
     "execution_count": 12,
     "metadata": {},
     "output_type": "execute_result"
    }
   ],
   "source": [
    "x = 'hello' + ' me'\n",
    "type(x)\n"
   ]
  },
  {
   "cell_type": "code",
   "execution_count": 40,
   "id": "7b9636d2-4cb3-440b-af05-625c7af1f624",
   "metadata": {},
   "outputs": [
    {
     "name": "stdout",
     "output_type": "stream",
     "text": [
      "Hi Chad how are you?\n"
     ]
    },
    {
     "name": "stdin",
     "output_type": "stream",
     "text": [
      "Input response  great\n"
     ]
    },
    {
     "name": "stdout",
     "output_type": "stream",
     "text": [
      " Thats great!\n"
     ]
    }
   ],
   "source": [
    "name = 'Chad'\n",
    "print('Hi ' + name + ' how are you?')\n",
    "resp = input('Input response ')\n",
    "if resp == \"bad\":\n",
    "    print('you can do better')\n",
    "else:\n",
    "    print(' Thats great!')"
   ]
  },
  {
   "cell_type": "code",
   "execution_count": 49,
   "id": "63c4f5d1-8c2b-418e-adf6-a4e17b1dd1ea",
   "metadata": {},
   "outputs": [
    {
     "ename": "SyntaxError",
     "evalue": "invalid syntax (1908461336.py, line 5)",
     "output_type": "error",
     "traceback": [
      "\u001b[0;36m  Cell \u001b[0;32mIn[49], line 5\u001b[0;36m\u001b[0m\n\u001b[0;31m    elseif un =get_ipython().getoutput(' name:')\u001b[0m\n\u001b[0m           ^\u001b[0m\n\u001b[0;31mSyntaxError\u001b[0m\u001b[0;31m:\u001b[0m invalid syntax\n"
     ]
    }
   ],
   "source": [
    "un = input(' What is your name?')\n",
    "name = 'Chad'\n",
    "if un == name:\n",
    "    print('Good to see you again '  + un)\n",
    "elseif un =! name:\n",
    "    print(un + ' DENIED!')\n"
   ]
  },
  {
   "cell_type": "raw",
   "id": "4c541394-38a6-4c11-b619-ecde26bd314d",
   "metadata": {},
   "source": []
  }
 ],
 "metadata": {
  "kernelspec": {
   "display_name": "Python 3 (ipykernel)",
   "language": "python",
   "name": "python3"
  },
  "language_info": {
   "codemirror_mode": {
    "name": "ipython",
    "version": 3
   },
   "file_extension": ".py",
   "mimetype": "text/x-python",
   "name": "python",
   "nbconvert_exporter": "python",
   "pygments_lexer": "ipython3",
   "version": "3.10.12"
  }
 },
 "nbformat": 4,
 "nbformat_minor": 5
}
