{
 "cells": [
  {
   "cell_type": "code",
   "execution_count": 4,
   "id": "c585c8e9-1eab-4fa9-8833-76a22843f754",
   "metadata": {},
   "outputs": [
    {
     "name": "stdout",
     "output_type": "stream",
     "text": [
      "hello\n"
     ]
    }
   ],
   "source": [
    "print(\"hello\")"
   ]
  },
  {
   "cell_type": "code",
   "execution_count": 5,
   "id": "8d4921c3-d782-4725-be1d-4c4bb9f304ac",
   "metadata": {},
   "outputs": [
    {
     "name": "stdout",
     "output_type": "stream",
     "text": [
      "Hello, Bhavna!\n"
     ]
    }
   ],
   "source": [
    "name = 'Bhavna'\n",
    "print('Hello, ' + name + '!')"
   ]
  },
  {
   "cell_type": "code",
   "execution_count": 7,
   "id": "447210fb-66b5-435b-a2db-21eaa9d7e675",
   "metadata": {},
   "outputs": [
    {
     "name": "stdin",
     "output_type": "stream",
     "text": [
      "enter your name Bhavna\n"
     ]
    }
   ],
   "source": [
    "name = input ('enter your name')"
   ]
  },
  {
   "cell_type": "code",
   "execution_count": 9,
   "id": "2be81d12-3750-4aea-ba47-daedb7b07b9e",
   "metadata": {},
   "outputs": [
    {
     "data": {
      "text/plain": [
       "'Bhavna'"
      ]
     },
     "execution_count": 9,
     "metadata": {},
     "output_type": "execute_result"
    }
   ],
   "source": [
    "name"
   ]
  },
  {
   "cell_type": "code",
   "execution_count": 11,
   "id": "10b97070-79ba-41aa-b13e-246b2b35bfff",
   "metadata": {},
   "outputs": [
    {
     "name": "stdin",
     "output_type": "stream",
     "text": [
      "enter name BB\n"
     ]
    },
    {
     "name": "stdout",
     "output_type": "stream",
     "text": [
      "Nice to meet you BB\n"
     ]
    }
   ],
   "source": [
    "name = input('enter name')\n",
    "print('Nice to meet you ' + name )"
   ]
  },
  {
   "cell_type": "code",
   "execution_count": 15,
   "id": "cc2787d3-d1cb-4b6a-a547-38c0bf80f3df",
   "metadata": {
    "scrolled": true
   },
   "outputs": [
    {
     "name": "stdin",
     "output_type": "stream",
     "text": [
      "enter name \n",
      "where do you work Cisco\n"
     ]
    },
    {
     "name": "stdout",
     "output_type": "stream",
     "text": [
      "My name is  and I work for Cisco\n"
     ]
    }
   ],
   "source": [
    "name = input('enter name')\n",
    "work = input ('where do you work')\n",
    "print('My name is ' + name + ' and I work for ' + work)"
   ]
  },
  {
   "cell_type": "code",
   "execution_count": 16,
   "id": "d0a0669c-c75a-4794-954a-79d6c292eb40",
   "metadata": {},
   "outputs": [
    {
     "name": "stdout",
     "output_type": "stream",
     "text": [
      "14\n"
     ]
    }
   ],
   "source": [
    "print(10+4)"
   ]
  },
  {
   "cell_type": "code",
   "execution_count": null,
   "id": "cb515f82-088d-4221-9f21-5b7e0303dd66",
   "metadata": {},
   "outputs": [],
   "source": [
    "name = input(\"Enter name\")\n",
    "work = input (\"where do you work\")\n",
    "add = input(\"Enter the first number\")\n",
    "add1 = input (\"enter the second number\")\n",
    "print(\"My name is b"
   ]
  },
  {
   "cell_type": "code",
   "execution_count": null,
   "id": "a0ee74a8-0354-4cca-b348-2493174f0a20",
   "metadata": {},
   "outputs": [],
   "source": []
  }
 ],
 "metadata": {
  "kernelspec": {
   "display_name": "Python 3 (ipykernel)",
   "language": "python",
   "name": "python3"
  },
  "language_info": {
   "codemirror_mode": {
    "name": "ipython",
    "version": 3
   },
   "file_extension": ".py",
   "mimetype": "text/x-python",
   "name": "python",
   "nbconvert_exporter": "python",
   "pygments_lexer": "ipython3",
   "version": "3.10.12"
  }
 },
 "nbformat": 4,
 "nbformat_minor": 5
}
