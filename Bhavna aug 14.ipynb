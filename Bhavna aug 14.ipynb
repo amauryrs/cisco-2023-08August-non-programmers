{
 "cells": [
  {
   "cell_type": "code",
   "execution_count": 4,
   "id": "c585c8e9-1eab-4fa9-8833-76a22843f754",
   "metadata": {},
   "outputs": [
    {
     "name": "stdout",
     "output_type": "stream",
     "text": [
      "hello\n"
     ]
    }
   ],
   "source": [
    "print(\"hello\")"
   ]
  },
  {
   "cell_type": "code",
   "execution_count": 5,
   "id": "8d4921c3-d782-4725-be1d-4c4bb9f304ac",
   "metadata": {},
   "outputs": [
    {
     "name": "stdout",
     "output_type": "stream",
     "text": [
      "Hello, Bhavna!\n"
     ]
    }
   ],
   "source": [
    "name = 'Bhavna'\n",
    "print('Hello, ' + name + '!')"
   ]
  },
  {
   "cell_type": "code",
   "execution_count": 7,
   "id": "447210fb-66b5-435b-a2db-21eaa9d7e675",
   "metadata": {},
   "outputs": [
    {
     "name": "stdin",
     "output_type": "stream",
     "text": [
      "enter your name Bhavna\n"
     ]
    }
   ],
   "source": [
    "name = input ('enter your name')"
   ]
  },
  {
   "cell_type": "code",
   "execution_count": 9,
   "id": "2be81d12-3750-4aea-ba47-daedb7b07b9e",
   "metadata": {},
   "outputs": [
    {
     "data": {
      "text/plain": [
       "'Bhavna'"
      ]
     },
     "execution_count": 9,
     "metadata": {},
     "output_type": "execute_result"
    }
   ],
   "source": [
    "name"
   ]
  },
  {
   "cell_type": "code",
   "execution_count": 11,
   "id": "10b97070-79ba-41aa-b13e-246b2b35bfff",
   "metadata": {},
   "outputs": [
    {
     "name": "stdin",
     "output_type": "stream",
     "text": [
      "enter name BB\n"
     ]
    },
    {
     "name": "stdout",
     "output_type": "stream",
     "text": [
      "Nice to meet you BB\n"
     ]
    }
   ],
   "source": [
    "name = input('enter name')\n",
    "print('Nice to meet you ' + name )"
   ]
  },
  {
   "cell_type": "code",
   "execution_count": 15,
   "id": "cc2787d3-d1cb-4b6a-a547-38c0bf80f3df",
   "metadata": {
    "scrolled": true
   },
   "outputs": [
    {
     "name": "stdin",
     "output_type": "stream",
     "text": [
      "enter name \n",
      "where do you work Cisco\n"
     ]
    },
    {
     "name": "stdout",
     "output_type": "stream",
     "text": [
      "My name is  and I work for Cisco\n"
     ]
    }
   ],
   "source": [
    "name = input('enter name')\n",
    "work = input ('where do you work')\n",
    "print('My name is ' + name + ' and I work for ' + work)"
   ]
  },
  {
   "cell_type": "code",
   "execution_count": 16,
   "id": "d0a0669c-c75a-4794-954a-79d6c292eb40",
   "metadata": {},
   "outputs": [
    {
     "name": "stdout",
     "output_type": "stream",
     "text": [
      "14\n"
     ]
    }
   ],
   "source": [
    "print(10+4)"
   ]
  },
  {
   "cell_type": "code",
   "execution_count": 17,
   "id": "cb515f82-088d-4221-9f21-5b7e0303dd66",
   "metadata": {},
   "outputs": [
    {
     "name": "stdin",
     "output_type": "stream",
     "text": [
      "Enter name Bhavna\n",
      "where do you work Cisco\n",
      "Enter the first number 10\n",
      "enter the second number 20\n"
     ]
    },
    {
     "name": "stdout",
     "output_type": "stream",
     "text": [
      "My name isBhavna.I work forCisco.The addition of two numbers is1020\n"
     ]
    }
   ],
   "source": [
    "name = input(\"Enter name\")\n",
    "work = input (\"where do you work\")\n",
    "add = input(\"Enter the first number\")\n",
    "add1 = input (\"enter the second number\")\n",
    "print(\"My name is\" + name + '.' + 'I work for' + work + '.' + 'The addition of two numbers is' + add+add1)"
   ]
  },
  {
   "cell_type": "code",
   "execution_count": 19,
   "id": "a0ee74a8-0354-4cca-b348-2493174f0a20",
   "metadata": {},
   "outputs": [
    {
     "name": "stdin",
     "output_type": "stream",
     "text": [
      "Enter name bb\n",
      "where do you work cisco\n",
      "Enter the first number 10\n",
      "enter the second number 10\n"
     ]
    },
    {
     "name": "stdout",
     "output_type": "stream",
     "text": [
      "My name isbb.I work forcisco.The addition of two numbers is1010\n"
     ]
    }
   ],
   "source": [
    "name = input(\"Enter name\")\n",
    "work = input (\"where do you work\")\n",
    "add = input(\"Enter the first number\")\n",
    "add1 = input (\"enter the second number\")\n",
    "final= (add+add1)\n",
    "print(\"My name is\" + name + '.' + 'I work for' + work + '.' + 'The addition of two numbers is' + final)"
   ]
  },
  {
   "cell_type": "code",
   "execution_count": 21,
   "id": "9efa608b-49d2-4b90-984c-f66dee92988d",
   "metadata": {},
   "outputs": [
    {
     "data": {
      "text/plain": [
       "False"
      ]
     },
     "execution_count": 21,
     "metadata": {},
     "output_type": "execute_result"
    }
   ],
   "source": [
    "x = 10\n",
    "y = 20 \n",
    "x == y"
   ]
  },
  {
   "cell_type": "code",
   "execution_count": 26,
   "id": "8cbe4570-89f0-45e6-9cac-e9dac0ebef24",
   "metadata": {},
   "outputs": [
    {
     "name": "stdin",
     "output_type": "stream",
     "text": [
      "enter your name BB\n"
     ]
    },
    {
     "name": "stdout",
     "output_type": "stream",
     "text": [
      "Hello stranger\n"
     ]
    }
   ],
   "source": [
    "name = input(\"enter your name\")\n",
    "if name == \"bhavna\":\n",
    "    print(\"Hello,\" + name)\n",
    "    print(\" It is nice to see you again\")\n",
    "\n",
    "else:\n",
    "    print(\"Hello stranger\")"
   ]
  },
  {
   "cell_type": "code",
   "execution_count": 27,
   "id": "96e0b9d8-f428-490c-8469-079dbe6e3103",
   "metadata": {},
   "outputs": [
    {
     "name": "stdout",
     "output_type": "stream",
     "text": [
      "one of themm is what you wanted\n"
     ]
    }
   ],
   "source": [
    "if (x==10 or \n",
    "    y == 5555):\n",
    "    print(\"one of themm is what you wanted\")\n",
    "    "
   ]
  },
  {
   "cell_type": "code",
   "execution_count": 33,
   "id": "fc7ca0b8-5d30-4374-a806-5ad918d01fbf",
   "metadata": {},
   "outputs": [
    {
     "name": "stdin",
     "output_type": "stream",
     "text": [
      "Enter num 1 10\n",
      "Enter num 2 20\n"
     ]
    }
   ],
   "source": [
    "num1= input(\"Enter num 1\")\n",
    "num2= input(\"Enter num 2\")\n",
    "if (x==y):\n",
    "    print(\"yes\")\n"
   ]
  },
  {
   "cell_type": "code",
   "execution_count": 38,
   "id": "1d8f65f5-5f01-4275-9f97-acc1c349d8ab",
   "metadata": {},
   "outputs": [
    {
     "name": "stdout",
     "output_type": "stream",
     "text": [
      "it is >=10!\n"
     ]
    }
   ],
   "source": [
    "x = 20\n",
    "if x>=10:\n",
    "    print(\"it is >=10!\")\n",
    "elif x>=20:\n",
    "    prnt(\"it is >=20!\")\n",
    "elif x>=30:\n",
    "    print(\"It is >=30!\")\n",
    "else:\n",
    "    print(\"I have no idea\")"
   ]
  },
  {
   "cell_type": "code",
   "execution_count": 55,
   "id": "63342c54-ca39-42e0-ba9e-78ae76352b14",
   "metadata": {},
   "outputs": [
    {
     "name": "stdin",
     "output_type": "stream",
     "text": [
      "enter name BB\n",
      "where do you work BB\n"
     ]
    },
    {
     "name": "stdout",
     "output_type": "stream",
     "text": [
      "Go to mars\n"
     ]
    }
   ],
   "source": [
    "name = input(\"enter name\")\n",
    "work = input(\"where do you work\")\n",
    "\n",
    "if name==\"bhavna\" and work==\"cisco\":\n",
    "    print(\"you must be me\")\n",
    "    \n",
    "elif name==\"bhavna\":\n",
    "    print(\"try cisco, you will love it\")\n",
    "    \n",
    "elif work==\"cisco\":\n",
    "    print(\"change your name to bhavna\")\n",
    "    \n",
    "else:\n",
    "    print(\"Go to mars\")"
   ]
  },
  {
   "cell_type": "code",
   "execution_count": 71,
   "id": "ff6c009a-00ae-446d-a938-e4cb9c22bd35",
   "metadata": {},
   "outputs": [
    {
     "name": "stdout",
     "output_type": "stream",
     "text": [
      "56\n"
     ]
    },
    {
     "name": "stdin",
     "output_type": "stream",
     "text": [
      "enter your guess: 56\n"
     ]
    },
    {
     "name": "stdout",
     "output_type": "stream",
     "text": [
      "You got this\n"
     ]
    }
   ],
   "source": [
    "import random     \n",
    "number = random.randint(0, 100)\n",
    "print(number)\n",
    "\n",
    "guess = input(\"enter your guess:\")\n",
    "\n",
    "if int(guess) == number:\n",
    "    print(\"You got this\")\n",
    "elif int(guess) < number:\n",
    "    print(\"too low\")\n",
    "elif int(guess)> number:\n",
    "    print(\"too high\")"
   ]
  },
  {
   "cell_type": "code",
   "execution_count": 70,
   "id": "53680f68-3d21-4f4d-9cd7-b0ffdef77efc",
   "metadata": {},
   "outputs": [
    {
     "name": "stdout",
     "output_type": "stream",
     "text": [
      "48\n"
     ]
    }
   ],
   "source": [
    "import random     \n",
    "number = random.randint(0, 100)\n",
    "print(number)"
   ]
  },
  {
   "cell_type": "code",
   "execution_count": 90,
   "id": "b369c424-75c0-470b-a986-555324485cc5",
   "metadata": {
    "scrolled": true
   },
   "outputs": [
    {
     "name": "stdin",
     "output_type": "stream",
     "text": [
      "enter wor mut\n"
     ]
    },
    {
     "name": "stdout",
     "output_type": "stream",
     "text": [
      "mutway\n"
     ]
    }
   ],
   "source": [
    "word=input(\"enter wor\")\n",
    "if word[0]== 'a' or 'e' or 'i' or 'o' or 'u':\n",
    "    print(word + 'way')"
   ]
  },
  {
   "cell_type": "code",
   "execution_count": 91,
   "id": "b43c59b7-cda0-411b-9030-3005d0d5d3ac",
   "metadata": {},
   "outputs": [
    {
     "name": "stdin",
     "output_type": "stream",
     "text": [
      "enter word mut\n"
     ]
    },
    {
     "name": "stdout",
     "output_type": "stream",
     "text": [
      "mut\n"
     ]
    }
   ],
   "source": [
    "word = input(\"enter word\")\n",
    "print(word)\n",
    "if  (word[0]=='a' or\n",
    "    word[0]=='e' or\n",
    "    word[0] =='i'or\n",
    "    word[0] == 'o' or\n",
    "    word[0]== 'u'):\n",
    "     print(word + \"way\")"
   ]
  },
  {
   "cell_type": "code",
   "execution_count": 95,
   "id": "7db6fba1-78bd-49cc-99c6-4249f190fa84",
   "metadata": {},
   "outputs": [
    {
     "name": "stdin",
     "output_type": "stream",
     "text": [
      "enter th word bc\n"
     ]
    }
   ],
   "source": [
    "word= input(\"enter th word\")\n",
    "if word[0] in 'aeiou':\n",
    "    print(word + 'way')"
   ]
  },
  {
   "cell_type": "code",
   "execution_count": 109,
   "id": "11f68752-149f-4c8e-baec-e83f498480f7",
   "metadata": {},
   "outputs": [
    {
     "name": "stdin",
     "output_type": "stream",
     "text": [
      "enter number 20\n",
      "enter operator -\n",
      "enter number2 20\n"
     ]
    },
    {
     "name": "stdout",
     "output_type": "stream",
     "text": [
      "0\n",
      "Not numeric\n"
     ]
    }
   ],
   "source": [
    "number= input(\"enter number\") #enter number1\n",
    "operator= input(\"enter operator\") #enter operator\n",
    "number2=input(\"enter number2\") #enter number 2\n",
    "\n",
    "a==int(number)\n",
    "b==int(number2)\n",
    "\n",
    "if operator=='+':\n",
    "    print(a+b)\n",
    "elif operator=='-':\n",
    "    print(a-b)\n",
    "else: a!=int(number) or b!=int(number1)\n",
    "print(\"Not numeric\")"
   ]
  },
  {
   "cell_type": "code",
   "execution_count": 112,
   "id": "99d7e9b4-a71a-4a77-aae5-169950031afb",
   "metadata": {},
   "outputs": [
    {
     "name": "stdout",
     "output_type": "stream",
     "text": [
      "15\n"
     ]
    }
   ],
   "source": [
    "s1 = '10'\n",
    "op = '+'\n",
    "s2 = '5'\n",
    "\n",
    "s3= int(s1)\n",
    "s4= int(s2)\n",
    "print(s3 + s4)"
   ]
  },
  {
   "cell_type": "code",
   "execution_count": 116,
   "id": "8cdf2dd2-75de-40fc-a139-6bf067d7cfe9",
   "metadata": {},
   "outputs": [
    {
     "ename": "SyntaxError",
     "evalue": "invalid syntax (3322589524.py, line 14)",
     "output_type": "error",
     "traceback": [
      "\u001b[0;36m  Cell \u001b[0;32mIn[116], line 14\u001b[0;36m\u001b[0m\n\u001b[0;31m    if one_character in\u001b[0m\n\u001b[0m                        ^\u001b[0m\n\u001b[0;31mSyntaxError\u001b[0m\u001b[0;31m:\u001b[0m invalid syntax\n"
     ]
    }
   ],
   "source": [
    "odds = 0 \n",
    "evens = 0\n",
    "\n",
    "s = 5123\n",
    "n=int(s)\n",
    "if n%2 ==0:\n",
    "    evens += 1\n",
    "else:\n",
    "    odds +=1\n",
    "\n",
    "print('odds = {odds}')\n",
    "\n",
    "for one_character  in news:\n",
    "    if one_character in \n",
    "\n"
   ]
  },
  {
   "cell_type": "raw",
   "id": "957dc2a6-e701-4b5d-ac11-c3c56d6c2e7f",
   "metadata": {},
   "source": []
  },
  {
   "cell_type": "code",
   "execution_count": null,
   "id": "8354c843-1d54-4d2c-8f10-2567b4f6f4fc",
   "metadata": {},
   "outputs": [],
   "source": []
  }
 ],
 "metadata": {
  "kernelspec": {
   "display_name": "Python 3 (ipykernel)",
   "language": "python",
   "name": "python3"
  },
  "language_info": {
   "codemirror_mode": {
    "name": "ipython",
    "version": 3
   },
   "file_extension": ".py",
   "mimetype": "text/x-python",
   "name": "python",
   "nbconvert_exporter": "python",
   "pygments_lexer": "ipython3",
   "version": "3.10.12"
  }
 },
 "nbformat": 4,
 "nbformat_minor": 5
}
