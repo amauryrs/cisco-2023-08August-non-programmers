{
 "cells": [
  {
   "cell_type": "code",
   "execution_count": 1,
   "id": "b50bfe67-8ab6-49a5-a556-72344e297b57",
   "metadata": {},
   "outputs": [
    {
     "data": {
      "text/plain": [
       "8"
      ]
     },
     "execution_count": 1,
     "metadata": {},
     "output_type": "execute_result"
    }
   ],
   "source": [
    "3+5"
   ]
  },
  {
   "cell_type": "code",
   "execution_count": 2,
   "id": "365cf6d9-d64e-43a5-9d71-3397e7f6a2f2",
   "metadata": {},
   "outputs": [
    {
     "name": "stdout",
     "output_type": "stream",
     "text": [
      "Today is Aug 14th\n"
     ]
    }
   ],
   "source": [
    "print (\"Today is Aug 14th\")"
   ]
  },
  {
   "cell_type": "code",
   "execution_count": 6,
   "id": "b66d42a4-4d97-47e5-8718-0b5918537739",
   "metadata": {},
   "outputs": [
    {
     "name": "stdout",
     "output_type": "stream",
     "text": [
      "Wen\n"
     ]
    }
   ],
   "source": [
    "name = (\"Wen\")\n",
    "print(name)"
   ]
  },
  {
   "cell_type": "code",
   "execution_count": 7,
   "id": "c4e949c5-6374-4c7c-a0ab-cb33c09fa4c2",
   "metadata": {},
   "outputs": [
    {
     "name": "stdout",
     "output_type": "stream",
     "text": [
      "Happy Monday Wen!\n"
     ]
    }
   ],
   "source": [
    "print(\"Happy Monday \" + name + \"!\")"
   ]
  },
  {
   "cell_type": "code",
   "execution_count": 8,
   "id": "1cce4e84-4b9f-4bd5-baf1-ba7fc1d81b92",
   "metadata": {},
   "outputs": [
    {
     "name": "stdin",
     "output_type": "stream",
     "text": [
      "Good morning, please enter your name:  Wen\n"
     ]
    }
   ],
   "source": [
    "name = input ('Good morning, please enter your name: ')"
   ]
  },
  {
   "cell_type": "code",
   "execution_count": 9,
   "id": "6c7cad46-d62b-4ac2-a43a-d095cf3deb4a",
   "metadata": {},
   "outputs": [
    {
     "data": {
      "text/plain": [
       "'Wen'"
      ]
     },
     "execution_count": 9,
     "metadata": {},
     "output_type": "execute_result"
    }
   ],
   "source": [
    "name"
   ]
  },
  {
   "cell_type": "code",
   "execution_count": 10,
   "id": "b6533637-fdca-4d0c-a81b-2d2c1c9c03a6",
   "metadata": {},
   "outputs": [
    {
     "name": "stdout",
     "output_type": "stream",
     "text": [
      "Thank you for entering your name, Wen\n"
     ]
    }
   ],
   "source": [
    "print (\"Thank you for entering your name, \" + name)"
   ]
  },
  {
   "cell_type": "code",
   "execution_count": 15,
   "id": "de6e8bc8-b837-479c-b1e2-9c3ce333f2fa",
   "metadata": {},
   "outputs": [
    {
     "name": "stdin",
     "output_type": "stream",
     "text": [
      "Please enter your name:  Apple\n"
     ]
    },
    {
     "name": "stdout",
     "output_type": "stream",
     "text": [
      "You are not her, Apple, please sign out\n"
     ]
    }
   ],
   "source": [
    "name = input ('Please enter your name: ')\n",
    "if name == 'Wen':\n",
    "    print ('Good morning,' + name)\n",
    "else: \n",
    "    print ('You are not her, ' + name + ',' + ' please sign out')"
   ]
  },
  {
   "cell_type": "code",
   "execution_count": 19,
   "id": "51c2628e-6e59-4c17-89f8-aec9e26747e9",
   "metadata": {},
   "outputs": [
    {
     "name": "stdin",
     "output_type": "stream",
     "text": [
      "Please enter your name:  Wen\n"
     ]
    },
    {
     "name": "stdout",
     "output_type": "stream",
     "text": [
      "Good morning, Wen\n",
      "I am so excited to see you!\n"
     ]
    }
   ],
   "source": [
    "name = input ('Please enter your name: ')\n",
    "if name == 'Wen':\n",
    "    print ('Good morning, ' + name)\n",
    "    print ('I am so excited to see you!')\n",
    "else: \n",
    "    print ('You are not her, ' + name + ',' + ' please sign out')\n",
    "    print ('I am not joking, please sign out now!')"
   ]
  },
  {
   "cell_type": "code",
   "execution_count": null,
   "id": "8afa594a-77a3-49d4-b245-1a4a90ce899e",
   "metadata": {},
   "outputs": [],
   "source": [
    "# Exercise: Greet a colleague (or not)\n",
    "1. Ask the user to enter their name, and assign to `name`.\n",
    "2. Ask the user to enter their company's name, and assign to `company`.\n",
    "3. Print one of four things:\n",
    "    - If the name and company match yours say something like, \"You must be me.\"\n",
    "    - If the name is the same, but the company is not, then compliment their name, and be snarky about their company.\n",
    "    - If the company is the same, but the name is not, then compliment their company, and be snarky about their name.\n",
    "    - If neither is a match, then just be generally snarky with them."
   ]
  },
  {
   "cell_type": "code",
   "execution_count": null,
   "id": "80736463-28a8-4bd3-8bdb-4b82a5efb250",
   "metadata": {},
   "outputs": [],
   "source": [
    "name = input ('please enter your name: ')\n",
    "company = input ('please enter your company: ')\n",
    "if name == 'Wen' and company == 'Cisco':\n",
    "    ptint ('You must be me! Welcome!')\n",
    "elif name =='Wen' and company != 'Cisco'):\n",
    "    print ('Hey you, ' + name + '"
   ]
  }
 ],
 "metadata": {
  "kernelspec": {
   "display_name": "Python 3 (ipykernel)",
   "language": "python",
   "name": "python3"
  },
  "language_info": {
   "codemirror_mode": {
    "name": "ipython",
    "version": 3
   },
   "file_extension": ".py",
   "mimetype": "text/x-python",
   "name": "python",
   "nbconvert_exporter": "python",
   "pygments_lexer": "ipython3",
   "version": "3.10.12"
  }
 },
 "nbformat": 4,
 "nbformat_minor": 5
}
