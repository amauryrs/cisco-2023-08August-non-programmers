{
 "cells": [
  {
   "cell_type": "code",
   "execution_count": 1,
   "id": "b50bfe67-8ab6-49a5-a556-72344e297b57",
   "metadata": {},
   "outputs": [
    {
     "data": {
      "text/plain": [
       "8"
      ]
     },
     "execution_count": 1,
     "metadata": {},
     "output_type": "execute_result"
    }
   ],
   "source": [
    "3+5"
   ]
  },
  {
   "cell_type": "code",
   "execution_count": 2,
   "id": "365cf6d9-d64e-43a5-9d71-3397e7f6a2f2",
   "metadata": {},
   "outputs": [
    {
     "name": "stdout",
     "output_type": "stream",
     "text": [
      "Today is Aug 14th\n"
     ]
    }
   ],
   "source": [
    "print (\"Today is Aug 14th\")"
   ]
  },
  {
   "cell_type": "code",
   "execution_count": 6,
   "id": "b66d42a4-4d97-47e5-8718-0b5918537739",
   "metadata": {},
   "outputs": [
    {
     "name": "stdout",
     "output_type": "stream",
     "text": [
      "Wen\n"
     ]
    }
   ],
   "source": [
    "name = (\"Wen\")\n",
    "print(name)"
   ]
  },
  {
   "cell_type": "code",
   "execution_count": 7,
   "id": "c4e949c5-6374-4c7c-a0ab-cb33c09fa4c2",
   "metadata": {},
   "outputs": [
    {
     "name": "stdout",
     "output_type": "stream",
     "text": [
      "Happy Monday Wen!\n"
     ]
    }
   ],
   "source": [
    "print(\"Happy Monday \" + name + \"!\")"
   ]
  },
  {
   "cell_type": "code",
   "execution_count": 8,
   "id": "1cce4e84-4b9f-4bd5-baf1-ba7fc1d81b92",
   "metadata": {},
   "outputs": [
    {
     "name": "stdin",
     "output_type": "stream",
     "text": [
      "Good morning, please enter your name:  Wen\n"
     ]
    }
   ],
   "source": [
    "name = input ('Good morning, please enter your name: ')"
   ]
  },
  {
   "cell_type": "code",
   "execution_count": 9,
   "id": "6c7cad46-d62b-4ac2-a43a-d095cf3deb4a",
   "metadata": {},
   "outputs": [
    {
     "data": {
      "text/plain": [
       "'Wen'"
      ]
     },
     "execution_count": 9,
     "metadata": {},
     "output_type": "execute_result"
    }
   ],
   "source": [
    "name"
   ]
  },
  {
   "cell_type": "code",
   "execution_count": null,
   "id": "b6533637-fdca-4d0c-a81b-2d2c1c9c03a6",
   "metadata": {},
   "outputs": [],
   "source": [
    "print ("
   ]
  }
 ],
 "metadata": {
  "kernelspec": {
   "display_name": "Python 3 (ipykernel)",
   "language": "python",
   "name": "python3"
  },
  "language_info": {
   "codemirror_mode": {
    "name": "ipython",
    "version": 3
   },
   "file_extension": ".py",
   "mimetype": "text/x-python",
   "name": "python",
   "nbconvert_exporter": "python",
   "pygments_lexer": "ipython3",
   "version": "3.10.12"
  }
 },
 "nbformat": 4,
 "nbformat_minor": 5
}
