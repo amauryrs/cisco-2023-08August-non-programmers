{
 "cells": [
  {
   "cell_type": "code",
   "execution_count": 1,
   "id": "b50bfe67-8ab6-49a5-a556-72344e297b57",
   "metadata": {},
   "outputs": [
    {
     "data": {
      "text/plain": [
       "8"
      ]
     },
     "execution_count": 1,
     "metadata": {},
     "output_type": "execute_result"
    }
   ],
   "source": [
    "3+5"
   ]
  },
  {
   "cell_type": "code",
   "execution_count": 2,
   "id": "365cf6d9-d64e-43a5-9d71-3397e7f6a2f2",
   "metadata": {},
   "outputs": [
    {
     "name": "stdout",
     "output_type": "stream",
     "text": [
      "Today is Aug 14th\n"
     ]
    }
   ],
   "source": [
    "print (\"Today is Aug 14th\")"
   ]
  },
  {
   "cell_type": "code",
   "execution_count": 6,
   "id": "b66d42a4-4d97-47e5-8718-0b5918537739",
   "metadata": {},
   "outputs": [
    {
     "name": "stdout",
     "output_type": "stream",
     "text": [
      "Wen\n"
     ]
    }
   ],
   "source": [
    "name = (\"Wen\")\n",
    "print(name)"
   ]
  },
  {
   "cell_type": "code",
   "execution_count": 29,
   "id": "a7ebe5ed-c538-4bd3-be4d-157086af490f",
   "metadata": {},
   "outputs": [
    {
     "name": "stdout",
     "output_type": "stream",
     "text": [
      "Happy Monday Max!\n"
     ]
    }
   ],
   "source": [
    "print(\"Happy Monday \" + name + \"!\")"
   ]
  },
  {
   "cell_type": "code",
   "execution_count": null,
   "id": "a11dead9-011f-43c2-8a1d-36776cac5816",
   "metadata": {},
   "outputs": [],
   "source": [
    "# Exercise: Nice greeting to any user, with their name\n",
    "1. Get the user's name with `input`, and assign it to the variable `name`.\n",
    "2. Print a nice greeting to the user, including whatever they entered."
   ]
  },
  {
   "cell_type": "code",
   "execution_count": 8,
   "id": "1cce4e84-4b9f-4bd5-baf1-ba7fc1d81b92",
   "metadata": {},
   "outputs": [
    {
     "name": "stdin",
     "output_type": "stream",
     "text": [
      "Good morning, please enter your name:  Wen\n"
     ]
    }
   ],
   "source": [
    "name = input ('Good morning, please enter your name: ')"
   ]
  },
  {
   "cell_type": "code",
   "execution_count": 9,
   "id": "6c7cad46-d62b-4ac2-a43a-d095cf3deb4a",
   "metadata": {},
   "outputs": [
    {
     "data": {
      "text/plain": [
       "'Wen'"
      ]
     },
     "execution_count": 9,
     "metadata": {},
     "output_type": "execute_result"
    }
   ],
   "source": [
    "name"
   ]
  },
  {
   "cell_type": "code",
   "execution_count": 10,
   "id": "b6533637-fdca-4d0c-a81b-2d2c1c9c03a6",
   "metadata": {},
   "outputs": [
    {
     "name": "stdout",
     "output_type": "stream",
     "text": [
      "Thank you for entering your name, Wen\n"
     ]
    }
   ],
   "source": [
    "print (\"Thank you for entering your name, \" + name)"
   ]
  },
  {
   "cell_type": "code",
   "execution_count": 15,
   "id": "de6e8bc8-b837-479c-b1e2-9c3ce333f2fa",
   "metadata": {},
   "outputs": [
    {
     "name": "stdin",
     "output_type": "stream",
     "text": [
      "Please enter your name:  Apple\n"
     ]
    },
    {
     "name": "stdout",
     "output_type": "stream",
     "text": [
      "You are not her, Apple, please sign out\n"
     ]
    }
   ],
   "source": [
    "name = input ('Please enter your name: ')\n",
    "if name == 'Wen':\n",
    "    print ('Good morning,' + name)\n",
    "else: \n",
    "    print ('You are not her, ' + name + ',' + ' please sign out')"
   ]
  },
  {
   "cell_type": "code",
   "execution_count": null,
   "id": "5479b795-dd8f-4f8a-8f01-fc593d05283e",
   "metadata": {},
   "outputs": [],
   "source": [
    "# Exercise: Nice greeting\n",
    "1. Ask the user to enter their name, and assign to `name`.\n",
    "2. If the user's name is the same as yours print a respectful greeting. Have at least 2 lines in that block.\n",
    "3. If the user's name is *not* the same as yours, then print a snarky response."
   ]
  },
  {
   "cell_type": "code",
   "execution_count": 19,
   "id": "51c2628e-6e59-4c17-89f8-aec9e26747e9",
   "metadata": {},
   "outputs": [
    {
     "name": "stdin",
     "output_type": "stream",
     "text": [
      "Please enter your name:  Wen\n"
     ]
    },
    {
     "name": "stdout",
     "output_type": "stream",
     "text": [
      "Good morning, Wen\n",
      "I am so excited to see you!\n"
     ]
    }
   ],
   "source": [
    "name = input ('Please enter your name: ')\n",
    "if name == 'Wen':\n",
    "    print ('Good morning, ' + name)\n",
    "    print ('I am so excited to see you!')\n",
    "else: \n",
    "    print ('You are not her, ' + name + ',' + ' please sign out')\n",
    "    print ('I am not joking, please sign out now!')"
   ]
  },
  {
   "cell_type": "code",
   "execution_count": null,
   "id": "8afa594a-77a3-49d4-b245-1a4a90ce899e",
   "metadata": {},
   "outputs": [],
   "source": [
    "# Exercise: Greet a colleague (or not)\n",
    "1. Ask the user to enter their name, and assign to `name`.\n",
    "2. Ask the user to enter their company's name, and assign to `company`.\n",
    "3. Print one of four things:\n",
    "    - If the name and company match yours say something like, \"You must be me.\"\n",
    "    - If the name is the same, but the company is not, then compliment their name, and be snarky about their company.\n",
    "    - If the company is the same, but the name is not, then compliment their company, and be snarky about their name.\n",
    "    - If neither is a match, then just be generally snarky with them."
   ]
  },
  {
   "cell_type": "code",
   "execution_count": 28,
   "id": "80736463-28a8-4bd3-8bdb-4b82a5efb250",
   "metadata": {},
   "outputs": [
    {
     "name": "stdin",
     "output_type": "stream",
     "text": [
      "please enter your name:  Max\n",
      "please enter your company:  Apple\n"
     ]
    },
    {
     "name": "stdout",
     "output_type": "stream",
     "text": [
      "Get out of here who are you and who you work for?\n"
     ]
    }
   ],
   "source": [
    "name = input ('please enter your name: ')\n",
    "company = input ('please enter your company: ')\n",
    "if name == 'Wen' and company == 'Cisco':\n",
    "    print ('You must be me! Welcome!')\n",
    "elif name =='Wen' and company != 'Cisco':\n",
    "    print ('Hey you, ' + name + ', but you are not from Cisco.')\n",
    "elif company == 'Cisco' and name != 'Wen':\n",
    "    print ('Cool company, but why are ' + name + ' you here?')\n",
    "else:\n",
    "    print ('Get out of here who are you and who you work for?')"
   ]
  },
  {
   "cell_type": "code",
   "execution_count": 33,
   "id": "e9251a3b-3b8c-4a5a-b88e-c102786029c5",
   "metadata": {},
   "outputs": [
    {
     "name": "stdin",
     "output_type": "stream",
     "text": [
      "please enter your name:  Wen\n",
      "please enter your company:  Cisco\n"
     ]
    },
    {
     "name": "stdout",
     "output_type": "stream",
     "text": [
      "You must be me! Welcome!\n"
     ]
    }
   ],
   "source": [
    "name = input ('please enter your name: ')\n",
    "company = input ('please enter your company: ')\n",
    "if name == 'Wen' and company == 'Cisco':\n",
    "    print ('You must be me! Welcome!')\n",
    "elif name =='Wen':\n",
    "    print ('Hey you, ' + name + ', but you are not from Cisco.')\n",
    "elif company == 'Cisco':\n",
    "    print ('Cool company, but why are ' + name + ' you here?')\n",
    "else:\n",
    "    print ('Get out of here who are you and who you work for?')"
   ]
  },
  {
   "cell_type": "code",
   "execution_count": 34,
   "id": "e5602027-b43c-464b-9981-af4fb55391c1",
   "metadata": {},
   "outputs": [
    {
     "name": "stdout",
     "output_type": "stream",
     "text": [
      "30\n"
     ]
    }
   ],
   "source": [
    "x = 10\n",
    "y = '20'\n",
    "print (x + int (y))"
   ]
  },
  {
   "cell_type": "code",
   "execution_count": null,
   "id": "727708fb-96ce-414f-b8e8-1321b4e2d33b",
   "metadata": {},
   "outputs": [],
   "source": []
  }
 ],
 "metadata": {
  "kernelspec": {
   "display_name": "Python 3 (ipykernel)",
   "language": "python",
   "name": "python3"
  },
  "language_info": {
   "codemirror_mode": {
    "name": "ipython",
    "version": 3
   },
   "file_extension": ".py",
   "mimetype": "text/x-python",
   "name": "python",
   "nbconvert_exporter": "python",
   "pygments_lexer": "ipython3",
   "version": "3.10.12"
  }
 },
 "nbformat": 4,
 "nbformat_minor": 5
}
