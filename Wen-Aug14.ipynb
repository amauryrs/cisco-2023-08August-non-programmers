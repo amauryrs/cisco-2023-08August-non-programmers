{
 "cells": [
  {
   "cell_type": "code",
   "execution_count": 1,
   "id": "b50bfe67-8ab6-49a5-a556-72344e297b57",
   "metadata": {},
   "outputs": [
    {
     "data": {
      "text/plain": [
       "8"
      ]
     },
     "execution_count": 1,
     "metadata": {},
     "output_type": "execute_result"
    }
   ],
   "source": [
    "3+5"
   ]
  },
  {
   "cell_type": "code",
   "execution_count": 2,
   "id": "365cf6d9-d64e-43a5-9d71-3397e7f6a2f2",
   "metadata": {},
   "outputs": [
    {
     "name": "stdout",
     "output_type": "stream",
     "text": [
      "Today is Aug 14th\n"
     ]
    }
   ],
   "source": [
    "print (\"Today is Aug 14th\")"
   ]
  },
  {
   "cell_type": "code",
   "execution_count": 6,
   "id": "b66d42a4-4d97-47e5-8718-0b5918537739",
   "metadata": {},
   "outputs": [
    {
     "name": "stdout",
     "output_type": "stream",
     "text": [
      "Wen\n"
     ]
    }
   ],
   "source": [
    "name = (\"Wen\")\n",
    "print(name)"
   ]
  },
  {
   "cell_type": "code",
   "execution_count": 29,
   "id": "a7ebe5ed-c538-4bd3-be4d-157086af490f",
   "metadata": {},
   "outputs": [
    {
     "name": "stdout",
     "output_type": "stream",
     "text": [
      "Happy Monday Max!\n"
     ]
    }
   ],
   "source": [
    "print(\"Happy Monday \" + name + \"!\")"
   ]
  },
  {
   "cell_type": "markdown",
   "id": "0d7af25a-1be2-44eb-b622-a4e72e3b492b",
   "metadata": {},
   "source": [
    "# Exercise: Nice greeting to any user, with their name\n",
    "1. Get the user's name with `input`, and assign it to the variable `name`.\n",
    "2. Print a nice greeting to the user, including whatever they entered."
   ]
  },
  {
   "cell_type": "code",
   "execution_count": 8,
   "id": "1cce4e84-4b9f-4bd5-baf1-ba7fc1d81b92",
   "metadata": {},
   "outputs": [
    {
     "name": "stdin",
     "output_type": "stream",
     "text": [
      "Good morning, please enter your name:  Wen\n"
     ]
    }
   ],
   "source": [
    "name = input ('Good morning, please enter your name: ')"
   ]
  },
  {
   "cell_type": "code",
   "execution_count": 9,
   "id": "6c7cad46-d62b-4ac2-a43a-d095cf3deb4a",
   "metadata": {},
   "outputs": [
    {
     "data": {
      "text/plain": [
       "'Wen'"
      ]
     },
     "execution_count": 9,
     "metadata": {},
     "output_type": "execute_result"
    }
   ],
   "source": [
    "name"
   ]
  },
  {
   "cell_type": "code",
   "execution_count": 10,
   "id": "b6533637-fdca-4d0c-a81b-2d2c1c9c03a6",
   "metadata": {},
   "outputs": [
    {
     "name": "stdout",
     "output_type": "stream",
     "text": [
      "Thank you for entering your name, Wen\n"
     ]
    }
   ],
   "source": [
    "print (\"Thank you for entering your name, \" + name)"
   ]
  },
  {
   "cell_type": "code",
   "execution_count": 15,
   "id": "de6e8bc8-b837-479c-b1e2-9c3ce333f2fa",
   "metadata": {},
   "outputs": [
    {
     "name": "stdin",
     "output_type": "stream",
     "text": [
      "Please enter your name:  Apple\n"
     ]
    },
    {
     "name": "stdout",
     "output_type": "stream",
     "text": [
      "You are not her, Apple, please sign out\n"
     ]
    }
   ],
   "source": [
    "name = input ('Please enter your name: ')\n",
    "if name == 'Wen':\n",
    "    print ('Good morning,' + name)\n",
    "else: \n",
    "    print ('You are not her, ' + name + ',' + ' please sign out')"
   ]
  },
  {
   "cell_type": "code",
   "execution_count": null,
   "id": "5479b795-dd8f-4f8a-8f01-fc593d05283e",
   "metadata": {},
   "outputs": [],
   "source": [
    "# Exercise: Nice greeting\n",
    "1. Ask the user to enter their name, and assign to `name`.\n",
    "2. If the user's name is the same as yours print a respectful greeting. Have at least 2 lines in that block.\n",
    "3. If the user's name is *not* the same as yours, then print a snarky response."
   ]
  },
  {
   "cell_type": "code",
   "execution_count": 19,
   "id": "51c2628e-6e59-4c17-89f8-aec9e26747e9",
   "metadata": {},
   "outputs": [
    {
     "name": "stdin",
     "output_type": "stream",
     "text": [
      "Please enter your name:  Wen\n"
     ]
    },
    {
     "name": "stdout",
     "output_type": "stream",
     "text": [
      "Good morning, Wen\n",
      "I am so excited to see you!\n"
     ]
    }
   ],
   "source": [
    "name = input ('Please enter your name: ')\n",
    "if name == 'Wen':\n",
    "    print ('Good morning, ' + name)\n",
    "    print ('I am so excited to see you!')\n",
    "else: \n",
    "    print ('You are not her, ' + name + ',' + ' please sign out')\n",
    "    print ('I am not joking, please sign out now!')"
   ]
  },
  {
   "cell_type": "markdown",
   "id": "ea247f5d-0047-426a-8e46-7b0728e8ebc5",
   "metadata": {},
   "source": [
    "# Exercise: Greet a colleague (or not)\n",
    "1. Ask the user to enter their name, and assign to `name`.\n",
    "2. Ask the user to enter their company's name, and assign to `company`.\n",
    "3. Print one of four things:\n",
    "    - If the name and company match yours say something like, \"You must be me.\"\n",
    "    - If the name is the same, but the company is not, then compliment their name, and be snarky about their company.\n",
    "    - If the company is the same, but the name is not, then compliment their company, and be snarky about their name.\n",
    "    - If neither is a match, then just be generally snarky with them."
   ]
  },
  {
   "cell_type": "code",
   "execution_count": 28,
   "id": "80736463-28a8-4bd3-8bdb-4b82a5efb250",
   "metadata": {},
   "outputs": [
    {
     "name": "stdin",
     "output_type": "stream",
     "text": [
      "please enter your name:  Max\n",
      "please enter your company:  Apple\n"
     ]
    },
    {
     "name": "stdout",
     "output_type": "stream",
     "text": [
      "Get out of here who are you and who you work for?\n"
     ]
    }
   ],
   "source": [
    "name = input ('please enter your name: ')\n",
    "company = input ('please enter your company: ')\n",
    "if name == 'Wen' and company == 'Cisco':\n",
    "    print ('You must be me! Welcome!')\n",
    "elif name =='Wen' and company != 'Cisco':\n",
    "    print ('Hey you, ' + name + ', but you are not from Cisco.')\n",
    "elif company == 'Cisco' and name != 'Wen':\n",
    "    print ('Cool company, but why are ' + name + ' you here?')\n",
    "else:\n",
    "    print ('Get out of here who are you and who you work for?')"
   ]
  },
  {
   "cell_type": "code",
   "execution_count": 33,
   "id": "e9251a3b-3b8c-4a5a-b88e-c102786029c5",
   "metadata": {},
   "outputs": [
    {
     "name": "stdin",
     "output_type": "stream",
     "text": [
      "please enter your name:  Wen\n",
      "please enter your company:  Cisco\n"
     ]
    },
    {
     "name": "stdout",
     "output_type": "stream",
     "text": [
      "You must be me! Welcome!\n"
     ]
    }
   ],
   "source": [
    "name = input ('please enter your name: ')\n",
    "company = input ('please enter your company: ')\n",
    "if name == 'Wen' and company == 'Cisco':\n",
    "    print ('You must be me! Welcome!')\n",
    "elif name =='Wen':\n",
    "    print ('Hey you, ' + name + ', but you are not from Cisco.')\n",
    "elif company == 'Cisco':\n",
    "    print ('Cool company, but why are ' + name + ' you here?')\n",
    "else:\n",
    "    print ('Get out of here who are you and who you work for?')"
   ]
  },
  {
   "cell_type": "code",
   "execution_count": 34,
   "id": "e5602027-b43c-464b-9981-af4fb55391c1",
   "metadata": {},
   "outputs": [
    {
     "name": "stdout",
     "output_type": "stream",
     "text": [
      "30\n"
     ]
    }
   ],
   "source": [
    "x = 10\n",
    "y = '20'\n",
    "print (x + int (y))"
   ]
  },
  {
   "cell_type": "markdown",
   "id": "4fe86904-0ce4-4405-b1dc-4af79dc2897e",
   "metadata": {},
   "source": [
    "# Exercise: Guessing game\n",
    "1. Generate a random number from 0-100, and store it in `number` (I'll show you how).\n",
    "2. Print the number, for easier debugging.\n",
    "3. Ask the user to guess the number:\n",
    "     - If they guess correctly, write \"You got it!\"\n",
    "     - If they guess too high, write, \"Too high!\"\n",
    "     - If they guess too low, write, \"Too low!\"\n",
    "We'll assume that the user will enter only digits. \n",
    "The user only gets one chance to guess.\n",
    "How can we get a random number? We'll use the `random` module that comes with Python; we'll talk more about it on Thursday.\n",
    "```python\n",
    "import random     # this imports the module, or library, containing random info\n",
    "number = random.randint(0, 100)   # this calls the randint function, and assigns to number\n",
    "```"
   ]
  },
  {
   "cell_type": "code",
   "execution_count": 46,
   "id": "fd42ce4c-d640-4dd6-aced-7567af0295b0",
   "metadata": {},
   "outputs": [
    {
     "name": "stdin",
     "output_type": "stream",
     "text": [
      "please enter your guess:  10\n"
     ]
    },
    {
     "name": "stdout",
     "output_type": "stream",
     "text": [
      "Too low!\n",
      "93\n"
     ]
    }
   ],
   "source": [
    "import random\n",
    "\n",
    "number = random.randint(0,100)\n",
    "#print (number)\n",
    "\n",
    "guess = input('please enter your guess: ')\n",
    "\n",
    "if int(guess) == number:\n",
    "    print ('You got it')\n",
    "elif int(guess) >= number:\n",
    "    print ('Too high!')\n",
    "else:\n",
    "    print ('Too low!')\n",
    "\n",
    "print (number)\n"
   ]
  },
  {
   "cell_type": "markdown",
   "id": "4ee9ddf7-c248-4203-bda0-7a34527b4d6d",
   "metadata": {},
   "source": [
    "# Exercise: Pig Latin\n",
    "To translate a word from English into Pig Latin, check the first letter of the word.\n",
    "1. If the word starts with a vowel (a, e, i, o, or u) then we add `way` to the word.\n",
    "2. In other cases, we move the first letter to the end of the word, then add `ay`.\n",
    "I want you to ask the user to enter a word in English -- no puncutation, all lowercase, one word. The program should look at the first letter, and based on that, print a translation into Pig Latin.\n",
    "Examples:\n",
    "- computer -> omputercay\n",
    "- elephant -> elephantway\n",
    "- octopus -> octopusway\n",
    "- papaya -> apayapay\n",
    "Some things to remember:\n",
    "- Strings are immutable, so you cannot change them. But you can extract parts of them and use those parts to create a new string.\n",
    "- You can use `if` and all of its friends\n",
    "- You can search with `in`\n",
    "- You can retrieve one character with `s[i]`\n",
    "- You can retrieve a slice with `s[start:stop]`"
   ]
  },
  {
   "cell_type": "code",
   "execution_count": 51,
   "id": "1739e553-2c44-4d9c-b544-0ccc2181fa52",
   "metadata": {},
   "outputs": [
    {
     "name": "stdin",
     "output_type": "stream",
     "text": [
      "please enter your word:  computer\n"
     ]
    },
    {
     "name": "stdout",
     "output_type": "stream",
     "text": [
      "omputercay\n"
     ]
    }
   ],
   "source": [
    "word = input ('please enter your word: ')\n",
    "vowel = 'a,e,i,o,u'\n",
    "if word[0] in vowel:\n",
    "    print (word + 'way')\n",
    "else:\n",
    "    print (word[1:] + word[0] + 'ay')"
   ]
  },
  {
   "cell_type": "code",
   "execution_count": 53,
   "id": "1bf0791e-744c-4789-b9a1-f84897967ae1",
   "metadata": {},
   "outputs": [
    {
     "name": "stdout",
     "output_type": "stream",
     "text": [
      "shfgqjsfuwjs\n"
     ]
    }
   ],
   "source": [
    "s='shfgqjsfuwjs'\n",
    "print (s[:])"
   ]
  },
  {
   "cell_type": "code",
   "execution_count": 54,
   "id": "31dc2c6b-b8be-4a43-a5cb-89310315a5f5",
   "metadata": {},
   "outputs": [
    {
     "name": "stdout",
     "output_type": "stream",
     "text": [
      "shfg\n"
     ]
    }
   ],
   "source": [
    "print (s[:4])"
   ]
  },
  {
   "cell_type": "markdown",
   "id": "39cb91a9-4053-498c-890e-99c3211bf9ea",
   "metadata": {},
   "source": [
    "# Exercise: Simple calculator\n",
    "1. Ask the user to enter a number.\n",
    "2. Ask the user to enter an operator (+ or -).\n",
    "3. Ask the user to enter a second number.\n",
    "4. If one or both numbers cannot be turned into integers, scold the user and stop.\n",
    "5. Turn the numbers into integers.\n",
    "6. Get the result of running the operation on them (+ or -).\n",
    "7. Print the result\n",
    "Example:\n",
    "    Enter a number: 10\n",
    "    Enter an operator: +\n",
    "    Enter a number: 5\n",
    "    10 + 5 = 15\n",
    "    Enter a number: 10\n",
    "    Enter an operator: -\n",
    "    Enter a number: no\n",
    "    no is not numeric; giving up\n",
    "Hints/suggestions:\n",
    "1. Use `if`/`elif`/`else` to check conditions\n",
    "2. Use `str.isdigit` to check if something is numeric\n",
    "3. Use f-strings to print things nicely."
   ]
  },
  {
   "cell_type": "code",
   "execution_count": 57,
   "id": "784c244a-47f6-4e59-a42b-98e8303d5658",
   "metadata": {},
   "outputs": [
    {
     "name": "stdin",
     "output_type": "stream",
     "text": [
      "Please enter yor first number:  1\n",
      "Please enter an operator, + or - :  +\n",
      "Please enter your second number:  5\n"
     ]
    },
    {
     "name": "stdout",
     "output_type": "stream",
     "text": [
      "6\n"
     ]
    }
   ],
   "source": [
    "firstnumber = input ('Please enter yor first number: ')\n",
    "operator = input ('Please enter an operator, + or - : ')\n",
    "secondnumber = input ('Please enter your second number: ')\n",
    "\n",
    "result = int(firstnumber) + int(secondnumber)\n",
    "print (result)"
   ]
  },
  {
   "cell_type": "code",
   "execution_count": null,
   "id": "edc9dd31-e366-40fc-bb86-a9a749e5bc4f",
   "metadata": {},
   "outputs": [],
   "source": []
  }
 ],
 "metadata": {
  "kernelspec": {
   "display_name": "Python 3 (ipykernel)",
   "language": "python",
   "name": "python3"
  },
  "language_info": {
   "codemirror_mode": {
    "name": "ipython",
    "version": 3
   },
   "file_extension": ".py",
   "mimetype": "text/x-python",
   "name": "python",
   "nbconvert_exporter": "python",
   "pygments_lexer": "ipython3",
   "version": "3.10.12"
  }
 },
 "nbformat": 4,
 "nbformat_minor": 5
}
