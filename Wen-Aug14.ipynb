{
 "cells": [
  {
   "cell_type": "code",
   "execution_count": 1,
   "id": "b50bfe67-8ab6-49a5-a556-72344e297b57",
   "metadata": {},
   "outputs": [
    {
     "data": {
      "text/plain": [
       "8"
      ]
     },
     "execution_count": 1,
     "metadata": {},
     "output_type": "execute_result"
    }
   ],
   "source": [
    "3+5"
   ]
  },
  {
   "cell_type": "code",
   "execution_count": 2,
   "id": "365cf6d9-d64e-43a5-9d71-3397e7f6a2f2",
   "metadata": {},
   "outputs": [
    {
     "name": "stdout",
     "output_type": "stream",
     "text": [
      "Today is Aug 14th\n"
     ]
    }
   ],
   "source": [
    "print (\"Today is Aug 14th\")"
   ]
  },
  {
   "cell_type": "code",
   "execution_count": null,
   "id": "b72cbb5e-d63e-4273-927c-92f3ee1c23e3",
   "metadata": {},
   "outputs": [],
   "source": []
  }
 ],
 "metadata": {
  "kernelspec": {
   "display_name": "Python 3 (ipykernel)",
   "language": "python",
   "name": "python3"
  },
  "language_info": {
   "codemirror_mode": {
    "name": "ipython",
    "version": 3
   },
   "file_extension": ".py",
   "mimetype": "text/x-python",
   "name": "python",
   "nbconvert_exporter": "python",
   "pygments_lexer": "ipython3",
   "version": "3.10.12"
  }
 },
 "nbformat": 4,
 "nbformat_minor": 5
}
