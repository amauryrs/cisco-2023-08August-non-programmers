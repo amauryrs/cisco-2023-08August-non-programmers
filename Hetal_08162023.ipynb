{
 "cells": [
  {
   "cell_type": "code",
   "execution_count": 1,
   "id": "00ab15d8-0610-4617-a5bf-d6754e14b69d",
   "metadata": {},
   "outputs": [
    {
     "name": "stdout",
     "output_type": "stream",
     "text": [
      "1\n",
      "2\n",
      "3\n",
      "4\n",
      "5\n",
      "6\n"
     ]
    }
   ],
   "source": [
    "a = [1,2,3,4,5,6]\n",
    "for one in a:\n",
    "    print(one)"
   ]
  },
  {
   "cell_type": "code",
   "execution_count": null,
   "id": "2d6f9068-4eda-4b83-afe3-3bd83e70d660",
   "metadata": {},
   "outputs": [],
   "source": [
    "higher =[]\n",
    "lower =[]\n",
    "\n",
    "threshold = input('Enter an integer: ').strip()\n",
    "\n",
    "while True:\n",
    "    s = input('Enter a string with numbers seperated by whitespace: ').strip()\n",
    "    if s == '':\n",
    "        break\n",
    "    else:\n",
    "        s_list = s.split()\n",
    "    for one_number in s_list:\n",
    "        if one_number.isdigit():\n",
    "            if one_number > int(threshold):\n",
    "                lower.append(one_number)\n",
    "            elif one_number < int(threshold):\n",
    "                higher.append(one_number)\n",
    "        else\n",
    "            \n",
    "\n",
    "print(f'higher = {higher}, lower = {lower}')"
   ]
  }
 ],
 "metadata": {
  "kernelspec": {
   "display_name": "Python 3 (ipykernel)",
   "language": "python",
   "name": "python3"
  },
  "language_info": {
   "codemirror_mode": {
    "name": "ipython",
    "version": 3
   },
   "file_extension": ".py",
   "mimetype": "text/x-python",
   "name": "python",
   "nbconvert_exporter": "python",
   "pygments_lexer": "ipython3",
   "version": "3.10.12"
  }
 },
 "nbformat": 4,
 "nbformat_minor": 5
}
