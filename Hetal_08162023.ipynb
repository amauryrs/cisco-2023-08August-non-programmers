{
 "cells": [
  {
   "cell_type": "code",
   "execution_count": 1,
   "id": "00ab15d8-0610-4617-a5bf-d6754e14b69d",
   "metadata": {},
   "outputs": [
    {
     "name": "stdout",
     "output_type": "stream",
     "text": [
      "1\n",
      "2\n",
      "3\n",
      "4\n",
      "5\n",
      "6\n"
     ]
    }
   ],
   "source": [
    "a = [1,2,3,4,5,6]\n",
    "for one in a:\n",
    "    print(one)"
   ]
  },
  {
   "cell_type": "code",
   "execution_count": 11,
   "id": "2d6f9068-4eda-4b83-afe3-3bd83e70d660",
   "metadata": {},
   "outputs": [
    {
     "name": "stdin",
     "output_type": "stream",
     "text": [
      "Enter a threshold:  20\n",
      "Enter a string with numbers seperated by whitespace:  1 2 5 43 22 34 67 89 100\n",
      "Enter a string with numbers seperated by whitespace:  h 9 10 11\n"
     ]
    },
    {
     "name": "stdout",
     "output_type": "stream",
     "text": [
      "h is not a number\n"
     ]
    },
    {
     "name": "stdin",
     "output_type": "stream",
     "text": [
      "Enter a string with numbers seperated by whitespace:  7 8 4 \n",
      "Enter a string with numbers seperated by whitespace:  \n"
     ]
    },
    {
     "name": "stdout",
     "output_type": "stream",
     "text": [
      "higher = ['43', '22', '34', '67', '89', '100'], lower = ['1', '2', '5', '9', '10', '11', '7', '8', '4']\n"
     ]
    }
   ],
   "source": [
    "higher =[]\n",
    "lower =[]\n",
    "\n",
    "threshold = input('Enter a threshold: ').strip()\n",
    "\n",
    "    \n",
    "while True:\n",
    "    s = input('Enter a string with numbers seperated by whitespace: ').strip()\n",
    "    if s == '':\n",
    "        break\n",
    "    else:\n",
    "        s_list = s.split()\n",
    "    for one_number in s_list:\n",
    "        if one_number.isdigit():\n",
    "            if  int(one_number) > int(threshold):\n",
    "                higher.append(one_number)\n",
    "            elif int(one_number) < int(threshold):\n",
    "                lower.append(one_number)\n",
    "        else:\n",
    "            print(f'{one_number} is not a number')\n",
    "            \n",
    "\n",
    "print(f'higher = {higher}, lower = {lower}')"
   ]
  },
  {
   "cell_type": "code",
   "execution_count": 18,
   "id": "80cfabd2-4aca-44a6-9786-195e4924fd7f",
   "metadata": {},
   "outputs": [
    {
     "name": "stdin",
     "output_type": "stream",
     "text": [
      "Enter your order:  a\n",
      "Enter your order:  b\n",
      "Enter your order:  e\n"
     ]
    },
    {
     "name": "stdout",
     "output_type": "stream",
     "text": [
      "Order something only from the menu\n"
     ]
    },
    {
     "name": "stdin",
     "output_type": "stream",
     "text": [
      "Enter your order:  \n"
     ]
    },
    {
     "name": "stdout",
     "output_type": "stream",
     "text": [
      "Total = 27\n"
     ]
    }
   ],
   "source": [
    "menu = {'a':12, 'b':15, 'c':7,'d':9}\n",
    "total = 0\n",
    "while True:\n",
    "    order = input('Enter your order: ').strip()\n",
    "    if order == '':\n",
    "        break\n",
    "    if order in menu:\n",
    "        total += menu[order]\n",
    "    else:\n",
    "        print('Order something only from the menu')\n",
    "print(f'Total = {total}')\n",
    "    "
   ]
  },
  {
   "cell_type": "code",
   "execution_count": null,
   "id": "af095c67-f594-4d53-a7c8-7dc279b392e9",
   "metadata": {},
   "outputs": [],
   "source": [
    "dict ={'digits':0,'vowels':0, 'others':0}\n",
    "\n",
    "s = input('Enter a string: ').strip()\n",
    "for one_char in s:\n",
    "    if one_char.isdigit():\n",
    "        "
   ]
  }
 ],
 "metadata": {
  "kernelspec": {
   "display_name": "Python 3 (ipykernel)",
   "language": "python",
   "name": "python3"
  },
  "language_info": {
   "codemirror_mode": {
    "name": "ipython",
    "version": 3
   },
   "file_extension": ".py",
   "mimetype": "text/x-python",
   "name": "python",
   "nbconvert_exporter": "python",
   "pygments_lexer": "ipython3",
   "version": "3.10.12"
  }
 },
 "nbformat": 4,
 "nbformat_minor": 5
}
