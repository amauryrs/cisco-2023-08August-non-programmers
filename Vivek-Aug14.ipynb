{
 "cells": [
  {
   "cell_type": "raw",
   "id": "2e0b916c-6571-45d3-a049-030ded6b8f1b",
   "metadata": {},
   "source": [
    "print(\"hello\")"
   ]
  },
  {
   "cell_type": "code",
   "execution_count": 1,
   "id": "a49c13d9-1470-4b3e-931e-8a21e4be63af",
   "metadata": {},
   "outputs": [
    {
     "name": "stdout",
     "output_type": "stream",
     "text": [
      "7\n"
     ]
    }
   ],
   "source": [
    "print(2 + 5)"
   ]
  },
  {
   "cell_type": "code",
   "execution_count": 7,
   "id": "9d55a34b-1791-484e-81f8-f8c730f4583c",
   "metadata": {},
   "outputs": [
    {
     "name": "stdout",
     "output_type": "stream",
     "text": [
      "Hello All, This isVivek\n"
     ]
    }
   ],
   "source": [
    "name = 'Vivek'\n",
    "greeting = 'This is'\n",
    "print('Hello All, ' + greeting +  name )"
   ]
  },
  {
   "cell_type": "code",
   "execution_count": null,
   "id": "bf3c1574-c8dc-4954-8f0d-e6be8e1ef971",
   "metadata": {},
   "outputs": [],
   "source": [
    "name = input('Your name: ')"
   ]
  },
  {
   "cell_type": "code",
   "execution_count": null,
   "id": "3ff1ad5c-8b96-4828-94b5-2430ea6ef40a",
   "metadata": {},
   "outputs": [],
   "source": []
  }
 ],
 "metadata": {
  "kernelspec": {
   "display_name": "Python 3 (ipykernel)",
   "language": "python",
   "name": "python3"
  },
  "language_info": {
   "codemirror_mode": {
    "name": "ipython",
    "version": 3
   },
   "file_extension": ".py",
   "mimetype": "text/x-python",
   "name": "python",
   "nbconvert_exporter": "python",
   "pygments_lexer": "ipython3",
   "version": "3.10.12"
  }
 },
 "nbformat": 4,
 "nbformat_minor": 5
}
