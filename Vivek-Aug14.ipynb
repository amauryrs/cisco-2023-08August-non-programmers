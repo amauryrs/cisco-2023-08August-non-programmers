{
 "cells": [
  {
   "cell_type": "raw",
   "id": "2e0b916c-6571-45d3-a049-030ded6b8f1b",
   "metadata": {},
   "source": [
    "print(\"hello\")"
   ]
  },
  {
   "cell_type": "code",
   "execution_count": 1,
   "id": "a49c13d9-1470-4b3e-931e-8a21e4be63af",
   "metadata": {},
   "outputs": [
    {
     "name": "stdout",
     "output_type": "stream",
     "text": [
      "7\n"
     ]
    }
   ],
   "source": [
    "print(2 + 5)"
   ]
  },
  {
   "cell_type": "code",
   "execution_count": 7,
   "id": "9d55a34b-1791-484e-81f8-f8c730f4583c",
   "metadata": {},
   "outputs": [
    {
     "name": "stdout",
     "output_type": "stream",
     "text": [
      "Hello All, This isVivek\n"
     ]
    }
   ],
   "source": [
    "name = 'Vivek'\n",
    "greeting = 'This is'\n",
    "print('Hello All, ' + greeting +  name )"
   ]
  },
  {
   "cell_type": "code",
   "execution_count": null,
   "id": "bf3c1574-c8dc-4954-8f0d-e6be8e1ef971",
   "metadata": {},
   "outputs": [],
   "source": [
    "name = input('Your name: ')"
   ]
  },
  {
   "cell_type": "code",
   "execution_count": null,
   "id": "654728c1-1d03-4619-a42a-962827f33071",
   "metadata": {},
   "outputs": [],
   "source": []
  },
  {
   "cell_type": "code",
   "execution_count": null,
   "id": "7f3d3969-b277-4daf-bfb8-6adc7c95d82c",
   "metadata": {},
   "outputs": [],
   "source": []
  },
  {
   "cell_type": "code",
   "execution_count": 1,
   "id": "3ff1ad5c-8b96-4828-94b5-2430ea6ef40a",
   "metadata": {},
   "outputs": [
    {
     "name": "stdin",
     "output_type": "stream",
     "text": [
      "Your name:  Vivek\n"
     ]
    }
   ],
   "source": [
    "name = input('Your name: ')"
   ]
  },
  {
   "cell_type": "code",
   "execution_count": 2,
   "id": "5dd90a94-8362-4d4d-a15c-6a6e3160bdb9",
   "metadata": {},
   "outputs": [
    {
     "name": "stdin",
     "output_type": "stream",
     "text": [
      "Your name:  Vivek\n",
      "City:  San Jose\n",
      "timezone:  PST\n"
     ]
    }
   ],
   "source": [
    "name = input('Your name: ')\n",
    "place = input('City: ')\n",
    "timezone = input('timezone: ')"
   ]
  },
  {
   "cell_type": "code",
   "execution_count": null,
   "id": "d5365888-5ebc-40b7-a997-4a440341216d",
   "metadata": {},
   "outputs": [],
   "source": [
    "Name = input('Your Name: ')\n",
    "org = input('Your Organization Name: ')\n",
    "org == 'Cisco'\n",
    "\n",
    "\n",
    "if org == 'Cisco':\n",
    "    print('Hello, ' + name + ' thanks for letting us know your are part of cisco' + '.')\n",
    "\n",
    "else:\n",
    "    print('Hello, ' + name + ' you are not part of cisco')"
   ]
  }
 ],
 "metadata": {
  "kernelspec": {
   "display_name": "Python 3 (ipykernel)",
   "language": "python",
   "name": "python3"
  },
  "language_info": {
   "codemirror_mode": {
    "name": "ipython",
    "version": 3
   },
   "file_extension": ".py",
   "mimetype": "text/x-python",
   "name": "python",
   "nbconvert_exporter": "python",
   "pygments_lexer": "ipython3",
   "version": "3.10.12"
  }
 },
 "nbformat": 4,
 "nbformat_minor": 5
}
