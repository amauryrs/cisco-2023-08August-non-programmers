{
 "cells": [
  {
   "cell_type": "raw",
   "id": "2e0b916c-6571-45d3-a049-030ded6b8f1b",
   "metadata": {},
   "source": [
    "print(\"hello\")"
   ]
  },
  {
   "cell_type": "code",
   "execution_count": 1,
   "id": "a49c13d9-1470-4b3e-931e-8a21e4be63af",
   "metadata": {},
   "outputs": [
    {
     "name": "stdout",
     "output_type": "stream",
     "text": [
      "7\n"
     ]
    }
   ],
   "source": [
    "print(2 + 5)"
   ]
  },
  {
   "cell_type": "code",
   "execution_count": 2,
   "id": "7a807acc-5c8c-4501-b4a4-bfd614aaa87c",
   "metadata": {},
   "outputs": [
    {
     "ename": "SyntaxError",
     "evalue": "unterminated string literal (detected at line 3) (4232998954.py, line 3)",
     "output_type": "error",
     "traceback": [
      "\u001b[0;36m  Cell \u001b[0;32mIn[2], line 3\u001b[0;36m\u001b[0m\n\u001b[0;31m    print('Hello All, + greeting + name + '.')\u001b[0m\n\u001b[0m                                            ^\u001b[0m\n\u001b[0;31mSyntaxError\u001b[0m\u001b[0;31m:\u001b[0m unterminated string literal (detected at line 3)\n"
     ]
    }
   ],
   "source": [
    "name = 'Vivek'\n",
    "greeting = 'This is'\n",
    "print('Hello All, + greeting + name + '.')"
   ]
  },
  {
   "cell_type": "code",
   "execution_count": 5,
   "id": "9d55a34b-1791-484e-81f8-f8c730f4583c",
   "metadata": {},
   "outputs": [
    {
     "name": "stdout",
     "output_type": "stream",
     "text": [
      "Hello All, This isVivek\n"
     ]
    }
   ],
   "source": [
    "name = 'Vivek'\n",
    "greeting = 'This is'\n",
    "print('Hello All, ' + greeting + name )"
   ]
  },
  {
   "cell_type": "code",
   "execution_count": null,
   "id": "27774b8a-cd41-4a07-b355-dd0396074e05",
   "metadata": {},
   "outputs": [],
   "source": []
  },
  {
   "cell_type": "code",
   "execution_count": null,
   "id": "7bbd4255-d1f9-4781-94db-45d4be06b51a",
   "metadata": {},
   "outputs": [],
   "source": []
  }
 ],
 "metadata": {
  "kernelspec": {
   "display_name": "Python 3 (ipykernel)",
   "language": "python",
   "name": "python3"
  },
  "language_info": {
   "codemirror_mode": {
    "name": "ipython",
    "version": 3
   },
   "file_extension": ".py",
   "mimetype": "text/x-python",
   "name": "python",
   "nbconvert_exporter": "python",
   "pygments_lexer": "ipython3",
   "version": "3.10.12"
  }
 },
 "nbformat": 4,
 "nbformat_minor": 5
}
