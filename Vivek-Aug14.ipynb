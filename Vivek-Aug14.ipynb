{
 "cells": [
  {
   "cell_type": "raw",
   "id": "2e0b916c-6571-45d3-a049-030ded6b8f1b",
   "metadata": {},
   "source": [
    "print(\"hello\")"
   ]
  },
  {
   "cell_type": "code",
   "execution_count": 1,
   "id": "a49c13d9-1470-4b3e-931e-8a21e4be63af",
   "metadata": {},
   "outputs": [
    {
     "name": "stdout",
     "output_type": "stream",
     "text": [
      "7\n"
     ]
    }
   ],
   "source": [
    "print(2 + 5)"
   ]
  },
  {
   "cell_type": "code",
   "execution_count": 7,
   "id": "9d55a34b-1791-484e-81f8-f8c730f4583c",
   "metadata": {},
   "outputs": [
    {
     "name": "stdout",
     "output_type": "stream",
     "text": [
      "Hello All, This isVivek\n"
     ]
    }
   ],
   "source": [
    "name = 'Vivek'\n",
    "greeting = 'This is'\n",
    "print('Hello All, ' + greeting +  name )"
   ]
  },
  {
   "cell_type": "code",
   "execution_count": null,
   "id": "bf3c1574-c8dc-4954-8f0d-e6be8e1ef971",
   "metadata": {},
   "outputs": [],
   "source": [
    "name = input('Your name: ')"
   ]
  },
  {
   "cell_type": "code",
   "execution_count": null,
   "id": "654728c1-1d03-4619-a42a-962827f33071",
   "metadata": {},
   "outputs": [],
   "source": []
  },
  {
   "cell_type": "code",
   "execution_count": null,
   "id": "7f3d3969-b277-4daf-bfb8-6adc7c95d82c",
   "metadata": {},
   "outputs": [],
   "source": []
  },
  {
   "cell_type": "code",
   "execution_count": 1,
   "id": "3ff1ad5c-8b96-4828-94b5-2430ea6ef40a",
   "metadata": {},
   "outputs": [
    {
     "name": "stdin",
     "output_type": "stream",
     "text": [
      "Your name:  Vivek\n"
     ]
    }
   ],
   "source": [
    "name = input('Your name: ')"
   ]
  },
  {
   "cell_type": "code",
   "execution_count": 2,
   "id": "5dd90a94-8362-4d4d-a15c-6a6e3160bdb9",
   "metadata": {},
   "outputs": [
    {
     "name": "stdin",
     "output_type": "stream",
     "text": [
      "Your name:  Vivek\n",
      "City:  San Jose\n",
      "timezone:  PST\n"
     ]
    }
   ],
   "source": [
    "name = input('Your name: ')\n",
    "place = input('City: ')\n",
    "timezone = input('timezone: ')"
   ]
  },
  {
   "cell_type": "code",
   "execution_count": 9,
   "id": "d5365888-5ebc-40b7-a997-4a440341216d",
   "metadata": {},
   "outputs": [
    {
     "name": "stdin",
     "output_type": "stream",
     "text": [
      "Your Name:  Vivek\n",
      "Your Organization Name:  Apple\n"
     ]
    },
    {
     "name": "stdout",
     "output_type": "stream",
     "text": [
      "Hello, Vivek you are not part of cisco\n"
     ]
    }
   ],
   "source": [
    "Name = input('Your Name: ')\n",
    "org = input('Your Organization Name: ')\n",
    "org == 'Cisco'\n",
    "\n",
    "\n",
    "if org == 'Cisco':\n",
    "    print('Hello, ' + name + ' thanks for letting us know your are part of cisco' + '.')\n",
    "\n",
    "else:\n",
    "    print('Hello, ' + name + ' you are not part of cisco')"
   ]
  },
  {
   "cell_type": "code",
   "execution_count": 10,
   "id": "559baf2a-02f7-47a1-92a6-336e9183ec14",
   "metadata": {},
   "outputs": [
    {
     "name": "stdin",
     "output_type": "stream",
     "text": [
      "Your Name:  Vivek\n",
      "Your Organization Name:  Cisco\n"
     ]
    },
    {
     "name": "stdout",
     "output_type": "stream",
     "text": [
      "Hello, Vivek thanks for letting us know your are part of cisco.\n"
     ]
    }
   ],
   "source": [
    "Name = input('Your Name: ')\n",
    "org = input('Your Organization Name: ')\n",
    "org == 'Cisco'\n",
    "\n",
    "\n",
    "if org == 'Cisco':\n",
    "    print('Hello, ' + name + ' thanks for letting us know your are part of cisco' + '.')\n",
    "\n",
    "else:\n",
    "    print('Hello, ' + name + ' you are not part of cisco')"
   ]
  },
  {
   "cell_type": "code",
   "execution_count": 14,
   "id": "9a8fe52d-f310-492e-bb73-899f97d86106",
   "metadata": {},
   "outputs": [
    {
     "name": "stdin",
     "output_type": "stream",
     "text": [
      "Enter your name:  Vivek\n",
      "Enter the name of your company:  Apple\n"
     ]
    },
    {
     "name": "stdout",
     "output_type": "stream",
     "text": [
      "Oops, I dont know you\n"
     ]
    }
   ],
   "source": [
    "name = input('Enter your name: ')\n",
    "company = input('Enter the name of your company: ')\n",
    "company == 'cisco'\n",
    "name == 'vivek'\n",
    "\n",
    "if company == 'cisco' and name == 'vivek':\n",
    "    print('you must be me')\n",
    "\n",
    "elif company == 'cisco' and name != 'vivek':\n",
    "    print('Hi, ' + name + ' you are not part of my org' + '.')\n",
    "\n",
    "elif company != 'cisco' and name == 'vivek':\n",
    "    print('Hi, ' + name + ' you got a wonderful name' + '.')\n",
    "\n",
    "else:\n",
    "    print('Oops, I dont know you')\n"
   ]
  },
  {
   "cell_type": "code",
   "execution_count": 15,
   "id": "ab06143b-f05f-459c-9dbf-00194aa0a4d5",
   "metadata": {},
   "outputs": [
    {
     "name": "stdin",
     "output_type": "stream",
     "text": [
      "Enter your name:  Vivek\n",
      "Enter the name of your company:  cisco\n"
     ]
    },
    {
     "name": "stdout",
     "output_type": "stream",
     "text": [
      "Hi, Vivek you are not part of my org.\n"
     ]
    }
   ],
   "source": [
    "name = input('Enter your name: ')\n",
    "company = input('Enter the name of your company: ')\n",
    "company == 'cisco'\n",
    "name == 'vivek'\n",
    "\n",
    "if company == 'cisco' and name == 'vivek':\n",
    "    print('you must be me')\n",
    "\n",
    "elif company == 'cisco' and name != 'vivek':\n",
    "    print('Hi, ' + name + ' you are not part of my org' + '.')\n",
    "\n",
    "elif company != 'cisco' and name == 'vivek':\n",
    "    print('Hi, ' + name + ' you got a wonderful name' + '.')\n",
    "\n",
    "else:\n",
    "    print('Oops, I dont know you')"
   ]
  },
  {
   "cell_type": "code",
   "execution_count": 16,
   "id": "de7866d2-888c-4795-9772-d61615ec2c48",
   "metadata": {},
   "outputs": [
    {
     "name": "stdin",
     "output_type": "stream",
     "text": [
      "Enter your name:  vivek\n",
      "Enter the name of your company:  cisco\n"
     ]
    },
    {
     "name": "stdout",
     "output_type": "stream",
     "text": [
      "you must be me\n"
     ]
    }
   ],
   "source": [
    "name = input('Enter your name: ')\n",
    "company = input('Enter the name of your company: ')\n",
    "company == 'cisco'\n",
    "name == 'vivek'\n",
    "\n",
    "if company == 'cisco' and name == 'vivek':\n",
    "    print('you must be me')\n",
    "\n",
    "elif company == 'cisco' and name != 'vivek':\n",
    "    print('Hi, ' + name + ' you are not part of my org' + '.')\n",
    "\n",
    "elif company != 'cisco' and name == 'vivek':\n",
    "    print('Hi, ' + name + ' you got a wonderful name' + '.')\n",
    "\n",
    "else:\n",
    "    print('Oops, I dont know you')"
   ]
  },
  {
   "cell_type": "code",
   "execution_count": 17,
   "id": "d3a1d9af-fe2e-4b25-9b98-f7b16b144538",
   "metadata": {},
   "outputs": [
    {
     "name": "stdin",
     "output_type": "stream",
     "text": [
      "Enter your name:  vish\n",
      "Enter the name of your company:  cisco\n"
     ]
    },
    {
     "name": "stdout",
     "output_type": "stream",
     "text": [
      "Hi, vish you are not part of my org.\n"
     ]
    }
   ],
   "source": [
    "name = input('Enter your name: ')\n",
    "company = input('Enter the name of your company: ')\n",
    "company == 'cisco'\n",
    "name == 'vivek'\n",
    "\n",
    "if company == 'cisco' and name == 'vivek':\n",
    "    print('you must be me')\n",
    "\n",
    "elif company == 'cisco' and name != 'vivek':\n",
    "    print('Hi, ' + name + ' you are not part of my org' + '.')\n",
    "\n",
    "elif company != 'cisco' and name == 'vivek':\n",
    "    print('Hi, ' + name + ' you got a wonderful name' + '.')\n",
    "\n",
    "else:\n",
    "    print('Oops, I dont know you')"
   ]
  },
  {
   "cell_type": "code",
   "execution_count": 18,
   "id": "72de4e5f-ff30-41fd-9778-1df844f688b0",
   "metadata": {},
   "outputs": [
    {
     "name": "stdin",
     "output_type": "stream",
     "text": [
      "Enter your name:  vivek\n",
      "Enter the name of your company:  apple\n"
     ]
    },
    {
     "name": "stdout",
     "output_type": "stream",
     "text": [
      "Hi, vivek you got a wonderful name.\n"
     ]
    }
   ],
   "source": [
    "name = input('Enter your name: ')\n",
    "company = input('Enter the name of your company: ')\n",
    "company == 'cisco'\n",
    "name == 'vivek'\n",
    "\n",
    "if company == 'cisco' and name == 'vivek':\n",
    "    print('you must be me')\n",
    "\n",
    "elif company == 'cisco':\n",
    "    print('Hi, ' + name + ' you are not part of my org' + '.')\n",
    "\n",
    "elif name == 'vivek':\n",
    "    print('Hi, ' + name + ' you got a wonderful name' + '.')\n",
    "\n",
    "else:\n",
    "    print('Oops, I dont know you')"
   ]
  },
  {
   "cell_type": "code",
   "execution_count": 20,
   "id": "4a2a48c9-61cb-41da-ac16-f78f14233eea",
   "metadata": {},
   "outputs": [
    {
     "data": {
      "text/plain": [
       "30"
      ]
     },
     "execution_count": 20,
     "metadata": {},
     "output_type": "execute_result"
    }
   ],
   "source": [
    "x = 10\n",
    "y = 20\n",
    "\n",
    "int_y = int(y)\n",
    "\n",
    "x + y"
   ]
  },
  {
   "cell_type": "code",
   "execution_count": 21,
   "id": "45f5ca56-8119-46c5-a9bb-b6650d18e023",
   "metadata": {},
   "outputs": [
    {
     "data": {
      "text/plain": [
       "30"
      ]
     },
     "execution_count": 21,
     "metadata": {},
     "output_type": "execute_result"
    }
   ],
   "source": [
    "x = 10\n",
    "y = 20\n",
    "\n",
    "int_y = int(y)\n",
    "\n",
    "x + int_y"
   ]
  },
  {
   "cell_type": "code",
   "execution_count": 22,
   "id": "7fa2f061-851a-4a7b-9ac5-5087daf26576",
   "metadata": {},
   "outputs": [
    {
     "data": {
      "text/plain": [
       "30"
      ]
     },
     "execution_count": 22,
     "metadata": {},
     "output_type": "execute_result"
    }
   ],
   "source": [
    "x = 10\n",
    "y = '20'\n",
    "\n",
    "int_y = int(y)\n",
    "\n",
    "x + int_y"
   ]
  },
  {
   "cell_type": "code",
   "execution_count": 24,
   "id": "16d6c753-4f25-4959-bc68-6afaa1e8b1f6",
   "metadata": {},
   "outputs": [
    {
     "ename": "TypeError",
     "evalue": "unsupported operand type(s) for +: 'int' and 'str'",
     "output_type": "error",
     "traceback": [
      "\u001b[0;31m---------------------------------------------------------------------------\u001b[0m",
      "\u001b[0;31mTypeError\u001b[0m                                 Traceback (most recent call last)",
      "Cell \u001b[0;32mIn[24], line 4\u001b[0m\n\u001b[1;32m      1\u001b[0m x \u001b[38;5;241m=\u001b[39m \u001b[38;5;241m10\u001b[39m\n\u001b[1;32m      2\u001b[0m y \u001b[38;5;241m=\u001b[39m \u001b[38;5;124m'\u001b[39m\u001b[38;5;124m20\u001b[39m\u001b[38;5;124m'\u001b[39m\n\u001b[0;32m----> 4\u001b[0m \u001b[43mx\u001b[49m\u001b[43m \u001b[49m\u001b[38;5;241;43m+\u001b[39;49m\u001b[43m \u001b[49m\u001b[43my\u001b[49m\n",
      "\u001b[0;31mTypeError\u001b[0m: unsupported operand type(s) for +: 'int' and 'str'"
     ]
    }
   ],
   "source": [
    "x = 10\n",
    "y = '20'\n",
    "\n",
    "x + y"
   ]
  },
  {
   "cell_type": "code",
   "execution_count": 25,
   "id": "36ad69a1-ef25-4a98-bda9-e5f022fa1395",
   "metadata": {},
   "outputs": [
    {
     "data": {
      "text/plain": [
       "16"
      ]
     },
     "execution_count": 25,
     "metadata": {},
     "output_type": "execute_result"
    }
   ],
   "source": [
    "import random\n",
    "number = random.randint(0, 100)\n",
    "number\n"
   ]
  },
  {
   "cell_type": "code",
   "execution_count": 26,
   "id": "8b82f9ce-04b5-4c17-8ed0-aebdad62c13d",
   "metadata": {},
   "outputs": [
    {
     "name": "stdin",
     "output_type": "stream",
     "text": [
      "guess random number:  16\n"
     ]
    },
    {
     "name": "stdout",
     "output_type": "stream",
     "text": [
      "you got it\n"
     ]
    }
   ],
   "source": [
    "import random\n",
    "number = random.randint(0, 100)\n",
    "number\n",
    "\n",
    "guess = input('guess random number: ')\n",
    "\n",
    "if guess == '16':\n",
    "    print('you got it')\n",
    "\n",
    "elif guess > '16':\n",
    "    print('too high')\n",
    "\n",
    "elif guess < '16':\n",
    "    print('too low')"
   ]
  },
  {
   "cell_type": "code",
   "execution_count": 27,
   "id": "8ffda678-8b18-49cb-9aaf-c54e3c9de923",
   "metadata": {},
   "outputs": [
    {
     "name": "stdin",
     "output_type": "stream",
     "text": [
      "guess random number:  20\n"
     ]
    },
    {
     "name": "stdout",
     "output_type": "stream",
     "text": [
      "too high\n"
     ]
    }
   ],
   "source": [
    "import random\n",
    "number = random.randint(0, 100)\n",
    "number\n",
    "\n",
    "guess = input('guess random number: ')\n",
    "\n",
    "if guess == '16':\n",
    "    print('you got it')\n",
    "\n",
    "elif guess > '16':\n",
    "    print('too high')\n",
    "\n",
    "elif guess < '16':\n",
    "    print('too low')"
   ]
  },
  {
   "cell_type": "code",
   "execution_count": 28,
   "id": "1d6427ce-e526-4a4a-a8f9-118cad68deb0",
   "metadata": {},
   "outputs": [
    {
     "name": "stdin",
     "output_type": "stream",
     "text": [
      "guess random number:  10\n"
     ]
    },
    {
     "name": "stdout",
     "output_type": "stream",
     "text": [
      "too low\n"
     ]
    }
   ],
   "source": [
    "import random\n",
    "number = random.randint(0, 100)\n",
    "number\n",
    "\n",
    "guess = input('guess random number: ')\n",
    "\n",
    "if guess == '16':\n",
    "    print('you got it')\n",
    "\n",
    "elif guess > '16':\n",
    "    print('too high')\n",
    "\n",
    "elif guess < '16':\n",
    "    print('too low')"
   ]
  },
  {
   "cell_type": "code",
   "execution_count": 29,
   "id": "5a71d6f0-b695-47ad-975f-089bb84a5978",
   "metadata": {},
   "outputs": [
    {
     "name": "stdin",
     "output_type": "stream",
     "text": [
      "guess random number:  16\n"
     ]
    },
    {
     "name": "stdout",
     "output_type": "stream",
     "text": [
      "you got it\n"
     ]
    }
   ],
   "source": [
    "import random\n",
    "number = random.randint(0, 100)\n",
    "number\n",
    "\n",
    "guess = input('guess random number: ')\n",
    "\n",
    "if guess == '16':\n",
    "    print('you got it')\n",
    "\n",
    "elif guess > '16':\n",
    "    print('too high')\n",
    "\n",
    "elif guess < '16':\n",
    "    print('too low')"
   ]
  },
  {
   "cell_type": "code",
   "execution_count": 30,
   "id": "0fbaa98e-9d84-42b9-9702-efea2c287d98",
   "metadata": {},
   "outputs": [
    {
     "data": {
      "text/plain": [
       "86"
      ]
     },
     "execution_count": 30,
     "metadata": {},
     "output_type": "execute_result"
    }
   ],
   "source": [
    "import random\n",
    "number = random.randint(0, 100)\n",
    "number"
   ]
  },
  {
   "cell_type": "code",
   "execution_count": 31,
   "id": "fe3cd245-cc15-4e22-a692-ce37b461dd69",
   "metadata": {},
   "outputs": [
    {
     "name": "stdout",
     "output_type": "stream",
     "text": [
      "72\n"
     ]
    },
    {
     "name": "stdin",
     "output_type": "stream",
     "text": [
      "guess random number:  70\n"
     ]
    },
    {
     "ename": "TypeError",
     "evalue": "'>' not supported between instances of 'str' and 'int'",
     "output_type": "error",
     "traceback": [
      "\u001b[0;31m---------------------------------------------------------------------------\u001b[0m",
      "\u001b[0;31mTypeError\u001b[0m                                 Traceback (most recent call last)",
      "Cell \u001b[0;32mIn[31], line 10\u001b[0m\n\u001b[1;32m      7\u001b[0m \u001b[38;5;28;01mif\u001b[39;00m \u001b[38;5;28mint\u001b[39m(guess) \u001b[38;5;241m==\u001b[39m number:\n\u001b[1;32m      8\u001b[0m     \u001b[38;5;28mprint\u001b[39m(\u001b[38;5;124m'\u001b[39m\u001b[38;5;124myou got it\u001b[39m\u001b[38;5;124m'\u001b[39m)\n\u001b[0;32m---> 10\u001b[0m \u001b[38;5;28;01melif\u001b[39;00m \u001b[43mguess\u001b[49m\u001b[43m \u001b[49m\u001b[38;5;241;43m>\u001b[39;49m\u001b[43m \u001b[49m\u001b[43mnumber\u001b[49m:\n\u001b[1;32m     11\u001b[0m     \u001b[38;5;28mprint\u001b[39m(\u001b[38;5;124m'\u001b[39m\u001b[38;5;124mtoo high\u001b[39m\u001b[38;5;124m'\u001b[39m)\n\u001b[1;32m     13\u001b[0m \u001b[38;5;28;01melif\u001b[39;00m guess \u001b[38;5;241m<\u001b[39m number:\n",
      "\u001b[0;31mTypeError\u001b[0m: '>' not supported between instances of 'str' and 'int'"
     ]
    }
   ],
   "source": [
    "import random\n",
    "number = random.randint(0, 100)\n",
    "print(number)\n",
    "\n",
    "guess = input('guess random number: ')\n",
    "\n",
    "if int(guess) == number:\n",
    "    print('you got it')\n",
    "\n",
    "elif guess > number:\n",
    "    print('too high')\n",
    "\n",
    "elif guess < number:\n",
    "    print('too low')"
   ]
  },
  {
   "cell_type": "code",
   "execution_count": 32,
   "id": "6b0dc5d0-af26-439e-bb34-bb383b7da1e0",
   "metadata": {},
   "outputs": [
    {
     "name": "stdout",
     "output_type": "stream",
     "text": [
      "47\n"
     ]
    },
    {
     "name": "stdin",
     "output_type": "stream",
     "text": [
      "guess random number:  30\n"
     ]
    },
    {
     "name": "stdout",
     "output_type": "stream",
     "text": [
      "too low\n"
     ]
    }
   ],
   "source": [
    "import random\n",
    "number = random.randint(0, 100)\n",
    "print(number)\n",
    "\n",
    "guess = input('guess random number: ')\n",
    "\n",
    "if int(guess) == number:\n",
    "    print('you got it')\n",
    "\n",
    "elif int(guess) > number:\n",
    "    print('too high')\n",
    "\n",
    "elif int(guess) < number:\n",
    "    print('too low')"
   ]
  },
  {
   "cell_type": "code",
   "execution_count": null,
   "id": "57e9ebd3-ebef-4deb-a76c-0f06cf669a46",
   "metadata": {},
   "outputs": [],
   "source": [
    "vowes = 'aeous'\n"
   ]
  }
 ],
 "metadata": {
  "kernelspec": {
   "display_name": "Python 3 (ipykernel)",
   "language": "python",
   "name": "python3"
  },
  "language_info": {
   "codemirror_mode": {
    "name": "ipython",
    "version": 3
   },
   "file_extension": ".py",
   "mimetype": "text/x-python",
   "name": "python",
   "nbconvert_exporter": "python",
   "pygments_lexer": "ipython3",
   "version": "3.10.12"
  }
 },
 "nbformat": 4,
 "nbformat_minor": 5
}
