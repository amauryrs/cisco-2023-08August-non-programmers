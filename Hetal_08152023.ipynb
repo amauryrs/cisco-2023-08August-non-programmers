{
 "cells": [
  {
   "cell_type": "code",
   "execution_count": 5,
   "id": "3622b8f1-2a29-4501-a952-767bcef324b1",
   "metadata": {},
   "outputs": [
    {
     "name": "stdin",
     "output_type": "stream",
     "text": [
      "Enter characters: aeiou bcd 123\n"
     ]
    },
    {
     "name": "stdout",
     "output_type": "stream",
     "text": [
      "a\n",
      "e\n",
      "i\n",
      "o\n",
      "u\n",
      " \n",
      "b\n",
      "c\n",
      "d\n",
      " \n",
      "1\n",
      "2\n",
      "3\n",
      "digits = 3, vowels = 5, others = 5\n"
     ]
    }
   ],
   "source": [
    "digits = 0\n",
    "vowels = 0\n",
    "others = 0\n",
    "\n",
    "\n",
    "s = input(\"Enter characters:\").strip()\n",
    "\n",
    "for one_char in s:\n",
    "    print (one_char)\n",
    "    if one_char.isdigit():\n",
    "        digits +=1\n",
    "    elif type(one_char) == str:\n",
    "        if one_char in 'aeiou':\n",
    "            vowels += 1\n",
    "        else:\n",
    "            others += 1\n",
    "print ('digits = ' + str(digits) + ', vowels = ' + str(vowels) + ', others = ' + str(others))\n",
    "    \n",
    "    "
   ]
  },
  {
   "cell_type": "code",
   "execution_count": 7,
   "id": "4f2cd25d-c426-40ab-af6c-63599ff65edf",
   "metadata": {},
   "outputs": [
    {
     "name": "stdin",
     "output_type": "stream",
     "text": [
      "Enter characters: aeiou bc 123\n"
     ]
    },
    {
     "name": "stdout",
     "output_type": "stream",
     "text": [
      "a\n",
      "e\n",
      "i\n",
      "o\n",
      "u\n",
      " \n",
      "b\n",
      "c\n",
      " \n",
      "1\n",
      "2\n",
      "3\n",
      "digits = 3, vowels = 5, others = 4\n"
     ]
    }
   ],
   "source": [
    "digits = 0\n",
    "vowels = 0\n",
    "others = 0\n",
    "\n",
    "\n",
    "s = input(\"Enter characters:\").strip()\n",
    "\n",
    "for one_char in s:\n",
    "    print (one_char)\n",
    "    if one_char.isdigit():\n",
    "        digits +=1\n",
    "    elif one_char in 'aeiou':\n",
    "        vowels += 1\n",
    "    else:\n",
    "        others += 1\n",
    "print ('digits = ' + str(digits) + ', vowels = ' + str(vowels) + ', others = ' + str(others))\n",
    "    \n",
    "    "
   ]
  },
  {
   "cell_type": "code",
   "execution_count": 9,
   "id": "9b12610a-25d6-4505-a840-fc1e7594dfb6",
   "metadata": {},
   "outputs": [
    {
     "name": "stdin",
     "output_type": "stream",
     "text": [
      "Enter characters: abc 123\n"
     ]
    },
    {
     "name": "stdout",
     "output_type": "stream",
     "text": [
      "a\n",
      "b\n",
      "c\n",
      " \n",
      "1\n",
      "2\n",
      "3\n",
      "digits =  3 , vowels = 1 , others = 3\n"
     ]
    }
   ],
   "source": [
    "digits = 0\n",
    "vowels = 0\n",
    "others = 0\n",
    "\n",
    "\n",
    "s = input(\"Enter characters:\").strip()\n",
    "\n",
    "for one_char in s:\n",
    "    print (one_char)\n",
    "    if one_char.isdigit():\n",
    "        digits +=1\n",
    "    elif one_char in 'aeiou':\n",
    "        vowels += 1\n",
    "    else:\n",
    "        others += 1\n",
    "print (f'digits =  {digits} , vowels = {vowels} , others = {others}')\n",
    "    \n",
    "    "
   ]
  },
  {
   "cell_type": "code",
   "execution_count": 14,
   "id": "ec023e10-8e88-4830-9dab-971b41b3efd6",
   "metadata": {},
   "outputs": [
    {
     "name": "stdin",
     "output_type": "stream",
     "text": [
      "Enter your name:  hetal\n"
     ]
    },
    {
     "name": "stdout",
     "output_type": "stream",
     "text": [
      " \n",
      " h\n",
      " he\n",
      " het\n",
      " heta\n",
      " hetal\n"
     ]
    }
   ],
   "source": [
    "name = input('Enter your name: ').strip()\n",
    "\n",
    "length = len(name)\n",
    "for one in range(length+1):\n",
    "    print (f' {name[0:(one)]}')\n",
    "    one += 1\n",
    "\n",
    "\n"
   ]
  },
  {
   "cell_type": "code",
   "execution_count": 15,
   "id": "f3aa9693-8897-4fe1-8ce9-98853e5ffad4",
   "metadata": {},
   "outputs": [
    {
     "name": "stdin",
     "output_type": "stream",
     "text": [
      "Enter your name:  hetal\n"
     ]
    },
    {
     "name": "stdout",
     "output_type": "stream",
     "text": [
      " \n",
      " h\n",
      " he\n",
      " het\n",
      " heta\n",
      " hetal\n"
     ]
    }
   ],
   "source": [
    "name = input('Enter your name: ').strip()\n",
    "\n",
    "length = len(name)\n",
    "for one in range(length+1):\n",
    "    print (f' {name[:(one)]}')\n",
    "    one += 1\n",
    "\n",
    "\n"
   ]
  },
  {
   "cell_type": "code",
   "execution_count": 18,
   "id": "1d542d72-43b1-42df-b64f-c7fe0b1549ed",
   "metadata": {},
   "outputs": [
    {
     "name": "stdout",
     "output_type": "stream",
     "text": [
      "0\n"
     ]
    }
   ],
   "source": [
    "total = 0\n",
    "print (total)"
   ]
  },
  {
   "cell_type": "code",
   "execution_count": 38,
   "id": "fc69a3fd-c7be-4b80-afdd-e03436f2e91e",
   "metadata": {},
   "outputs": [
    {
     "name": "stdin",
     "output_type": "stream",
     "text": [
      "enter a value:  11\n",
      "enter a value:  h\n"
     ]
    },
    {
     "name": "stdout",
     "output_type": "stream",
     "text": [
      "Enter a numeric value\n"
     ]
    },
    {
     "name": "stdin",
     "output_type": "stream",
     "text": [
      "enter a value:  12\n",
      "enter a value:  \n"
     ]
    },
    {
     "name": "stdout",
     "output_type": "stream",
     "text": [
      "Total is  5\n"
     ]
    }
   ],
   "source": [
    "total = 0\n",
    "\n",
    "while True: \n",
    "    value = input('enter a value: ').strip()\n",
    "    if value == '':\n",
    "        break\n",
    "    for one_char in value:\n",
    "        if one_char.isdigit():\n",
    "            total += int(one_char)\n",
    "        else:\n",
    "            print('Enter a numeric value')\n",
    "\n",
    "print(f'Total is  {total}')"
   ]
  },
  {
   "cell_type": "code",
   "execution_count": null,
   "id": "7656f7d9-c5cd-4635-b917-38d04c0f3622",
   "metadata": {},
   "outputs": [],
   "source": [
    "odds = []\n",
    "evens = []\n",
    "\n",
    "while True:\n",
    "number = input('please enter a number: ').strip()\n",
    "\n",
    "if number == '':\n",
    "    break\n",
    "elif number.isdigit():\n",
    "    if int(number) % 2 == 0:\n",
    "        evens.append(number)\n",
    "    else:\n",
    "        odds.append(number)\n",
    "\n",
    "else:\n",
    "    break\n",
    "\n",
    "print(f'Odds =')      \n"
   ]
  }
 ],
 "metadata": {
  "kernelspec": {
   "display_name": "Python 3 (ipykernel)",
   "language": "python",
   "name": "python3"
  },
  "language_info": {
   "codemirror_mode": {
    "name": "ipython",
    "version": 3
   },
   "file_extension": ".py",
   "mimetype": "text/x-python",
   "name": "python",
   "nbconvert_exporter": "python",
   "pygments_lexer": "ipython3",
   "version": "3.10.12"
  }
 },
 "nbformat": 4,
 "nbformat_minor": 5
}
