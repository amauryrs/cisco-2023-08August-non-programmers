{
 "cells": [
  {
   "cell_type": "code",
   "execution_count": 5,
   "id": "3622b8f1-2a29-4501-a952-767bcef324b1",
   "metadata": {},
   "outputs": [
    {
     "name": "stdin",
     "output_type": "stream",
     "text": [
      "Enter characters: aeiou bcd 123\n"
     ]
    },
    {
     "name": "stdout",
     "output_type": "stream",
     "text": [
      "a\n",
      "e\n",
      "i\n",
      "o\n",
      "u\n",
      " \n",
      "b\n",
      "c\n",
      "d\n",
      " \n",
      "1\n",
      "2\n",
      "3\n",
      "digits = 3, vowels = 5, others = 5\n"
     ]
    }
   ],
   "source": [
    "digits = 0\n",
    "vowels = 0\n",
    "others = 0\n",
    "\n",
    "\n",
    "s = input(\"Enter characters:\")\n",
    "\n",
    "for one_char in s:\n",
    "    print (one_char)\n",
    "    if one_char.isdigit():\n",
    "        digits +=1\n",
    "    elif type(one_char) == str:\n",
    "        if one_char in 'aeiou':\n",
    "            vowels += 1\n",
    "        else:\n",
    "            others += 1\n",
    "print ('digits = ' + str(digits) + ', vowels = ' + str(vowels) + ', others = ' + str(others))\n",
    "    \n",
    "    "
   ]
  },
  {
   "cell_type": "code",
   "execution_count": null,
   "id": "4f2cd25d-c426-40ab-af6c-63599ff65edf",
   "metadata": {},
   "outputs": [],
   "source": [
    "digits = 0\n",
    "vowels = 0\n",
    "others = 0\n",
    "\n",
    "\n",
    "s = input(\"Enter characters:\")\n",
    "\n",
    "for one_char in s:\n",
    "    print (one_char)\n",
    "    if one_char.isdigit():\n",
    "        digits +=1\n",
    "    elif type(one_char) == str:\n",
    "        if one_char in 'aeiou':\n",
    "            vowels += 1\n",
    "        else:\n",
    "            others += 1\n",
    "print ('digits = ' + str(digits) + ', vowels = ' + str(vowels) + ', others = ' + str(others))\n",
    "    \n",
    "    "
   ]
  }
 ],
 "metadata": {
  "kernelspec": {
   "display_name": "Python 3 (ipykernel)",
   "language": "python",
   "name": "python3"
  },
  "language_info": {
   "codemirror_mode": {
    "name": "ipython",
    "version": 3
   },
   "file_extension": ".py",
   "mimetype": "text/x-python",
   "name": "python",
   "nbconvert_exporter": "python",
   "pygments_lexer": "ipython3",
   "version": "3.10.12"
  }
 },
 "nbformat": 4,
 "nbformat_minor": 5
}
