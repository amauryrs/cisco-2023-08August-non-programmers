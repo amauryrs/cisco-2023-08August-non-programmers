{
 "cells": [
  {
   "cell_type": "markdown",
   "id": "e60e9535-0743-49f9-9952-3761cdc4e0b6",
   "metadata": {},
   "source": [
    "# Agenda\n",
    "\n",
    "1. What is programming? What is Python?\n",
    "2. Basic functionality in Python (Monday)\n",
    "    - Values\n",
    "    - Variables and assignment\n",
    "    - Different types (intro to)\n",
    "    - Conditions and `if`\n",
    "    - Input from the user\n",
    "    - Output to the user\n",
    "3. Data structures (Monday-Tuesday-Wednesday)\n",
    "    - Numbers (integers and floats)\n",
    "    - Text strings\n",
    "    - Loops (`for` and `while`)\n",
    "    - Lists\n",
    "    - Strings to lists, and back\n",
    "    - Tuples and tuple unpacking\n",
    "    - Dictionaries\n",
    "    - Files (plain-text files, both reading from and writing to them)\n",
    "4. Installing Python + PyCharm on your computer (Wednesday afternoon)\n",
    "5. Functions\n",
    "    - What are functions?\n",
    "    - Writing our own functions\n",
    "    - Arguments and parameters\n",
    "6. Modules and packages\n",
    "    - Using modules in the Python standard library with `import`\n",
    "    - Downloading modules from PyPI with `pip` and using them\n",
    "    - Use the `requests` module to retrieve from a JSON API, turn it into Python data structures, and print it out / make sense of it."
   ]
  },
  {
   "cell_type": "markdown",
   "id": "baf25059-4bf9-4ca5-b26e-32e64f9962fe",
   "metadata": {},
   "source": [
    "# Quick tour of Jupyter\n",
    "\n",
    "Jupyter gives you the illusion that you're running Python code in the browser. In actuality, the browser is the client and it talks to a Python server -- which can be on the same computer, or can be elsewhere.  For our course, I set up a VM at Digital Ocean running a Jupyter server.\n",
    "\n",
    "When you run Jupyter, you're interacting with the browser, and it figures out how to talk to Python on the back end.\n",
    "\n",
    "Everything in Jupyter is done in a *cell*. Every cell has two modes of input:\n",
    "\n",
    "- Edit mode, which I'm using now to type this: You'll see a white background in the cell, and anything I type goes into the cell. I can enter edit mode by clicking in the cell or by pressing ENTER.\n",
    "- Command mode, where anything you type is sent as a command to Jupyter, rather than entered into the text of the cell. You can enter command mode by clicking to the left of a cell or by pressing ESC.\n",
    "\n",
    "I can press shift+ENTER together to \"finalize\" a cell, whether it contains Markdown text or code.\n",
    "\n",
    "What commands do you have in command mode?\n",
    "- `x` -- cuts the current cell\n",
    "- `c` -- copies the current cell\n",
    "- `v` -- pastes the most recently cut or copied cell\n",
    "- `m` -- turn the cell into markdown (for formatted text)\n",
    "- `y` -- turn the cell into Python code\n",
    "- `a` -- add a new cell above the current one\n",
    "- `b` -- add a new cell below the current one"
   ]
  },
  {
   "cell_type": "code",
   "execution_count": 1,
   "id": "a3464e0b-adf3-4917-bc3f-7d44f1f35d2f",
   "metadata": {},
   "outputs": [
    {
     "name": "stdout",
     "output_type": "stream",
     "text": [
      "Hello!\n"
     ]
    }
   ],
   "source": [
    "print('Hello!')"
   ]
  },
  {
   "cell_type": "markdown",
   "id": "ec23b3ba-36ce-4077-9354-0afd0e741a14",
   "metadata": {},
   "source": [
    "# Exercise: Set up a Jupyter notebook\n",
    "\n",
    "1. Go to http://python.lerner.co.il:8888 . This is the main Jupyter notebook page.\n",
    "2. Click on \"new\" and then \"notebook\" to create a new Jupyter notebook.\n",
    "3. It'll give you a new, blank notebook. Click on the title to change it to be your name + today's date.\n",
    "4. Inside of a cell, try some super simple Python code, such as `2 + 3` or `print('Hello')`. Run it with shift + Enter.\n",
    "\n",
    "When you're done, raise your virtual hand in WebEx, to let me know."
   ]
  },
  {
   "cell_type": "markdown",
   "id": "bb4a2d67-1229-4848-8168-f1997d8f2819",
   "metadata": {},
   "source": [
    "# What is a programming language? What is Python?\n",
    "\n",
    "Any programming language can be used for any task. But each language is optimized for slightly different things. Python executes more slowly than C, Java, and C#. It's used in a number of places:\n",
    "\n",
    "- #1 language in data science and machine learning\n",
    "- Web development\n",
    "- Devops and system administration\n",
    "- APIs (creation and consumption)\n",
    "- Education\n",
    "- Finance"
   ]
  },
  {
   "cell_type": "code",
   "execution_count": 2,
   "id": "6dfd2606-ea55-4fb6-8d85-b7737aab5316",
   "metadata": {},
   "outputs": [
    {
     "name": "stdout",
     "output_type": "stream",
     "text": [
      "Hello!\n"
     ]
    }
   ],
   "source": [
    "# this is a comment, starting with #\n",
    "# from # to the end of the line, Python will ignore it -- this is for people, not Python\n",
    "\n",
    "# I'm calling/executing the function \"print\" -- functions are the verbs of a programming language\n",
    "# In Python, we can display anything on the screen with print\n",
    "# I put the thing I want to display inside of round parentheses\n",
    "# Here, the value I want to print is a text string, so I put it in quotes\n",
    "# (There is no difference between single quotes and double quotes in Python. Use whichever you want.)\n",
    "\n",
    "# After writing this code, I can execute the contents of the cell with shift+ENTER\n",
    "\n",
    "print('Hello!')      # I can even write a comment here, if I want"
   ]
  },
  {
   "cell_type": "code",
   "execution_count": 3,
   "id": "798d6df7-b364-48e4-a81b-344919a06230",
   "metadata": {},
   "outputs": [
    {
     "name": "stdout",
     "output_type": "stream",
     "text": [
      "7\n"
     ]
    }
   ],
   "source": [
    "print(2 + 5)   # I can add numbers together, and print their result"
   ]
  },
  {
   "cell_type": "code",
   "execution_count": 5,
   "id": "f6ede27d-a7ad-462f-8814-9dcebba4c0f0",
   "metadata": {},
   "outputs": [
    {
     "name": "stdout",
     "output_type": "stream",
     "text": [
      "hello and goodbye\n"
     ]
    }
   ],
   "source": [
    "print('hello' + ' and ' + 'goodbye') # I can add text together, and print the result"
   ]
  },
  {
   "cell_type": "code",
   "execution_count": 6,
   "id": "29081829-a5e4-4d3b-bcdb-1f20279f88dc",
   "metadata": {},
   "outputs": [
    {
     "name": "stdout",
     "output_type": "stream",
     "text": [
      "Reuven\n"
     ]
    }
   ],
   "source": [
    "print('Reuven')"
   ]
  },
  {
   "cell_type": "code",
   "execution_count": 7,
   "id": "b17014db-ed72-4a08-8355-3ceb9376516c",
   "metadata": {},
   "outputs": [],
   "source": [
    "# at a certain point, we don't want to hard-code our values\n",
    "# instead, we want to have more flexibility\n",
    "# one way to get that is with variables.\n",
    "\n",
    "# a variable is a reference to a value\n",
    "# I like to think of it as a pronoun\n",
    "\n",
    "# to assign a value to a variable, we use the = assignment operator\n",
    "# this is *NOT* the same as the = we use in mathematics\n",
    "\n",
    "x = 5     # this means: get the value from the right side, and assign to the variable on the left side"
   ]
  },
  {
   "cell_type": "code",
   "execution_count": 8,
   "id": "03c78b4c-63b9-4ab0-a1d5-a4d87b444266",
   "metadata": {},
   "outputs": [
    {
     "name": "stdout",
     "output_type": "stream",
     "text": [
      "5\n"
     ]
    }
   ],
   "source": [
    "print(x)   # now we'll display the value of whatever x is referring to "
   ]
  },
  {
   "cell_type": "code",
   "execution_count": 9,
   "id": "d818e1f6-7f9c-4f1e-aeaa-6a3affc6f83d",
   "metadata": {},
   "outputs": [
    {
     "name": "stdout",
     "output_type": "stream",
     "text": [
      "10\n"
     ]
    }
   ],
   "source": [
    "print(x + x)  # first, Python calculates x+x, gets a new value back, and print displays it"
   ]
  },
  {
   "cell_type": "markdown",
   "id": "b5c30153-63b2-4c24-8c4d-e1ad532022b3",
   "metadata": {},
   "source": [
    "# Don't we need to declare our variable?\n",
    "\n",
    "No.\n",
    "\n",
    "In many other programming languages, you first declare a variable, saying what type of value you want it to contain. Then later on, you assign a value to it.\n",
    "\n",
    "That's not how things work in Python. Any variable can refer to any value. A variable can refer to different types of values over the course of a program's run. There is no way in Python to say that the variable `x` will only contain integers."
   ]
  },
  {
   "cell_type": "code",
   "execution_count": 10,
   "id": "f63e5e05-aa20-4756-9a1c-f187b491386a",
   "metadata": {},
   "outputs": [
    {
     "data": {
      "text/plain": [
       "int"
      ]
     },
     "execution_count": 10,
     "metadata": {},
     "output_type": "execute_result"
    }
   ],
   "source": [
    "# let's ask Python: What kind of value is x referring to?\n",
    "\n",
    "type(x)"
   ]
  },
  {
   "cell_type": "code",
   "execution_count": 11,
   "id": "8e687f03-3fcf-40b1-a4c0-7f71775eb28a",
   "metadata": {},
   "outputs": [
    {
     "data": {
      "text/plain": [
       "str"
      ]
     },
     "execution_count": 11,
     "metadata": {},
     "output_type": "execute_result"
    }
   ],
   "source": [
    "x = 'hello'\n",
    "type(x)"
   ]
  },
  {
   "cell_type": "code",
   "execution_count": 12,
   "id": "ed7ba6a9-f4a1-4726-b9a1-58ad5dc362df",
   "metadata": {},
   "outputs": [
    {
     "name": "stdout",
     "output_type": "stream",
     "text": [
      "Hello\n"
     ]
    }
   ],
   "source": [
    "# Fancy Jupyter trick: If the final line of a cell has a value, then\n",
    "# you don't need to use \"print\" to display it. You'll get it displayed anyway.\n",
    "\n",
    "print('Hello')"
   ]
  },
  {
   "cell_type": "code",
   "execution_count": 13,
   "id": "2cd17b93-f10a-4f7a-a1fb-148e5c45d9b6",
   "metadata": {},
   "outputs": [
    {
     "data": {
      "text/plain": [
       "'Hello'"
      ]
     },
     "execution_count": 13,
     "metadata": {},
     "output_type": "execute_result"
    }
   ],
   "source": [
    "'Hello'"
   ]
  },
  {
   "cell_type": "code",
   "execution_count": 14,
   "id": "0fa43e67-e506-42a4-a963-c14b12fc7957",
   "metadata": {},
   "outputs": [
    {
     "data": {
      "text/plain": [
       "'hello'"
      ]
     },
     "execution_count": 14,
     "metadata": {},
     "output_type": "execute_result"
    }
   ],
   "source": [
    "# this comes in handy for checking the value of a variable\n",
    "x"
   ]
  },
  {
   "cell_type": "code",
   "execution_count": 15,
   "id": "7de87c48-f4d3-4c37-8b27-c15aed8fe3e3",
   "metadata": {},
   "outputs": [
    {
     "name": "stdout",
     "output_type": "stream",
     "text": [
      "Reuven\n"
     ]
    }
   ],
   "source": [
    "name = 'Reuven'\n",
    "print(name)"
   ]
  },
  {
   "cell_type": "code",
   "execution_count": 17,
   "id": "d1626bf7-fefe-4ec0-8b0e-26da635d73df",
   "metadata": {},
   "outputs": [
    {
     "name": "stdout",
     "output_type": "stream",
     "text": [
      "Hello, Reuven.\n"
     ]
    }
   ],
   "source": [
    "# I put a space between the comma and closing quote of the first string\n",
    "\n",
    "print('Hello, ' + name + '.')"
   ]
  },
  {
   "cell_type": "code",
   "execution_count": 18,
   "id": "1af1dd57-fdd3-475f-8375-0bea6f435816",
   "metadata": {},
   "outputs": [
    {
     "name": "stdout",
     "output_type": "stream",
     "text": [
      "Hello,Reuven.\n"
     ]
    }
   ],
   "source": [
    "# without it...\n",
    "print('Hello,' + name + '.')"
   ]
  },
  {
   "cell_type": "markdown",
   "id": "da71e99a-5899-47e7-b299-bb45b29fa6e0",
   "metadata": {},
   "source": [
    "# Exercise: Nice greeting\n",
    "\n",
    "1. Define a variable, `name`, with your name.\n",
    "2. Print a nice greeting, including your name, using `print` and several strings."
   ]
  },
  {
   "cell_type": "code",
   "execution_count": 20,
   "id": "724a38e5-0c19-4999-bcc0-cff92a0f156f",
   "metadata": {},
   "outputs": [
    {
     "name": "stdout",
     "output_type": "stream",
     "text": [
      "Hello, Reuven!\n"
     ]
    }
   ],
   "source": [
    "name = 'Reuven'  \n",
    "print('Hello, ' + name + '!')"
   ]
  },
  {
   "cell_type": "markdown",
   "id": "74d66d1e-8fa6-42ef-88a7-83821239ab5c",
   "metadata": {},
   "source": [
    "# Variable names\n",
    "\n",
    "A variable can be named with almost any combination of letters, numbers, and underscores (_) in Python. However:\n",
    "\n",
    "- The first character cannot be a number\n",
    "- You shouldn't use _ as the first character, to avoid clashing with internal Python stuff\n",
    "- Capital and lowercase letters are seen as *different*\n",
    "- Traditionally, Python variables are all lowercase, with _ between words. (This is known as \"snake_case\", as opposed to \"CamelCase\".)\n",
    "\n",
    "We always have to put quotes around the text we want to treat as a value. But there are never quotes around a variable name."
   ]
  },
  {
   "cell_type": "code",
   "execution_count": 21,
   "id": "b995a5fc-d7ed-419a-844a-c6efbe08c6b2",
   "metadata": {},
   "outputs": [
    {
     "ename": "NameError",
     "evalue": "name 'first_name' is not defined",
     "output_type": "error",
     "traceback": [
      "\u001b[0;31m---------------------------------------------------------------------------\u001b[0m",
      "\u001b[0;31mNameError\u001b[0m                                 Traceback (most recent call last)",
      "Cell \u001b[0;32mIn[21], line 2\u001b[0m\n\u001b[1;32m      1\u001b[0m name \u001b[38;5;241m=\u001b[39m \u001b[38;5;124m'\u001b[39m\u001b[38;5;124mReuven\u001b[39m\u001b[38;5;124m'\u001b[39m\n\u001b[0;32m----> 2\u001b[0m \u001b[38;5;28mprint\u001b[39m(\u001b[38;5;124m'\u001b[39m\u001b[38;5;124mHello, \u001b[39m\u001b[38;5;124m'\u001b[39m \u001b[38;5;241m+\u001b[39m \u001b[43mfirst_name\u001b[49m \u001b[38;5;241m+\u001b[39m \u001b[38;5;124m'\u001b[39m\u001b[38;5;124m!\u001b[39m\u001b[38;5;124m'\u001b[39m)   \n",
      "\u001b[0;31mNameError\u001b[0m: name 'first_name' is not defined"
     ]
    }
   ],
   "source": [
    "name = 'Reuven'\n",
    "print('Hello, ' + first_name + '!')   "
   ]
  },
  {
   "cell_type": "code",
   "execution_count": 22,
   "id": "01de985a-031c-4a92-97eb-74f379d7b4c7",
   "metadata": {},
   "outputs": [
    {
     "ename": "NameError",
     "evalue": "name 'Name' is not defined",
     "output_type": "error",
     "traceback": [
      "\u001b[0;31m---------------------------------------------------------------------------\u001b[0m",
      "\u001b[0;31mNameError\u001b[0m                                 Traceback (most recent call last)",
      "Cell \u001b[0;32mIn[22], line 1\u001b[0m\n\u001b[0;32m----> 1\u001b[0m \u001b[38;5;28mprint\u001b[39m(\u001b[38;5;124m'\u001b[39m\u001b[38;5;124mHello, \u001b[39m\u001b[38;5;124m'\u001b[39m \u001b[38;5;241m+\u001b[39m \u001b[43mName\u001b[49m \u001b[38;5;241m+\u001b[39m \u001b[38;5;124m'\u001b[39m\u001b[38;5;124m!\u001b[39m\u001b[38;5;124m'\u001b[39m)\n",
      "\u001b[0;31mNameError\u001b[0m: name 'Name' is not defined"
     ]
    }
   ],
   "source": [
    "print('Hello, ' + Name + '!')"
   ]
  },
  {
   "cell_type": "code",
   "execution_count": 23,
   "id": "5c7e33bd-dc4c-4d84-9fae-70a5323f949b",
   "metadata": {},
   "outputs": [],
   "source": [
    "name_for_example = 'Reuven'"
   ]
  },
  {
   "cell_type": "markdown",
   "id": "e6a103ac-687f-4491-a336-7855b5d4c081",
   "metadata": {},
   "source": [
    "# No semicolons!\n",
    "\n",
    "Many programming languages force you to use a ; after every command. This usually means that there's a semicolon at the end of every line.\n",
    "\n",
    "In Python, we don't have that. Instead, each line is a separate command. End of line == end of what you're working on now. There are some exceptions."
   ]
  },
  {
   "cell_type": "code",
   "execution_count": 24,
   "id": "86d94a57-60a8-4471-a3fb-87bfd627e5ce",
   "metadata": {},
   "outputs": [
    {
     "name": "stdin",
     "output_type": "stream",
     "text": [
      "Enter your name:  Reuven\n"
     ]
    }
   ],
   "source": [
    "# we're still stuck with hard-coded data.\n",
    "# we want to get input from the user, and assign it to a variable\n",
    "\n",
    "# we can do this with the \"input\" function!\n",
    "\n",
    "# - call \"input\"\n",
    "# - pass it a text string, the value you want to present to the user as a question/prompt\n",
    "# - whatever the user types is turned into a new text string, and is returned by the function\n",
    "# - typically, \"input\" is used on the right side of assignment, and on the left side is\n",
    "#    a variable name into which we want to put the user's input.\n",
    "\n",
    "name = input('Enter your name: ')"
   ]
  },
  {
   "cell_type": "code",
   "execution_count": 25,
   "id": "f5948d83-3960-4e21-9c7e-b1a64c0b193a",
   "metadata": {},
   "outputs": [
    {
     "data": {
      "text/plain": [
       "'Reuven'"
      ]
     },
     "execution_count": 25,
     "metadata": {},
     "output_type": "execute_result"
    }
   ],
   "source": [
    "name"
   ]
  },
  {
   "cell_type": "markdown",
   "id": "5ea2eeed-4da2-4546-b0dd-5dd4be8d43ba",
   "metadata": {},
   "source": [
    "# Exercise: Nice greeting to any user, with their name\n",
    "\n",
    "1. Get the user's name with `input`, and assign it to the variable `name`.\n",
    "2. Print a nice greeting to the user, including whatever they entered."
   ]
  },
  {
   "cell_type": "code",
   "execution_count": 26,
   "id": "e6bba9dd-b2f5-456c-8b61-18ece124b3d3",
   "metadata": {},
   "outputs": [
    {
     "name": "stdin",
     "output_type": "stream",
     "text": [
      "Enter something:  this is something!\n"
     ]
    },
    {
     "data": {
      "text/plain": [
       "'this is something!'"
      ]
     },
     "execution_count": 26,
     "metadata": {},
     "output_type": "execute_result"
    }
   ],
   "source": [
    "input('Enter something: ')"
   ]
  },
  {
   "cell_type": "code",
   "execution_count": 27,
   "id": "0ecd2851-5a43-4180-a661-2244c54ec149",
   "metadata": {},
   "outputs": [
    {
     "name": "stdin",
     "output_type": "stream",
     "text": [
      "Enter something:  this is something!\n"
     ]
    }
   ],
   "source": [
    "# now, the right side will get input from the user\n",
    "# whatever we get will be assigned to the variable a_variable\n",
    "\n",
    "a_variable = input('Enter something: ')"
   ]
  },
  {
   "cell_type": "code",
   "execution_count": 28,
   "id": "fe56e02a-16c2-4283-bcb7-e0e59291040d",
   "metadata": {},
   "outputs": [
    {
     "data": {
      "text/plain": [
       "'this is something!'"
      ]
     },
     "execution_count": 28,
     "metadata": {},
     "output_type": "execute_result"
    }
   ],
   "source": [
    "a_variable"
   ]
  },
  {
   "cell_type": "code",
   "execution_count": 30,
   "id": "1cc7abe3-b3e8-405e-ad71-a7ec183159f1",
   "metadata": {},
   "outputs": [
    {
     "name": "stdin",
     "output_type": "stream",
     "text": [
      "Enter your name:  this is not really a name, you stupid computer\n"
     ]
    },
    {
     "name": "stdout",
     "output_type": "stream",
     "text": [
      "Hello, this is not really a name, you stupid computer!\n"
     ]
    }
   ],
   "source": [
    "name = input('Enter your name: ')\n",
    "print('Hello, ' + name + '!')"
   ]
  },
  {
   "cell_type": "markdown",
   "id": "31c45f3d-9c1d-412a-a1b6-cf1241ce241d",
   "metadata": {},
   "source": [
    "# Comparisons\n",
    "\n",
    "We've already seen that we can use `+` on both numbers and text strings. But there are some other operators that compare two values, returning either `True` or `False` depending on whether they have the same values.\n",
    "\n",
    "\n",
    "\n"
   ]
  },
  {
   "cell_type": "code",
   "execution_count": 31,
   "id": "31110c0b-eacc-4c3a-ae01-868a695546d0",
   "metadata": {},
   "outputs": [
    {
     "data": {
      "text/plain": [
       "True"
      ]
     },
     "execution_count": 31,
     "metadata": {},
     "output_type": "execute_result"
    }
   ],
   "source": [
    "x = 10\n",
    "y = 10\n",
    "\n",
    "x == y    # note -- I'm using ==, which asks a question -- are the values the same?"
   ]
  },
  {
   "cell_type": "markdown",
   "id": "ca9ffaf6-2fce-4983-9261-aa6f38f1046a",
   "metadata": {},
   "source": [
    "# Other comparison operators\n",
    "\n",
    "- `==` -- equality\n",
    "- `!=` -- inequality\n",
    "- `<` -- less than\n",
    "- `<=` -- less than or equals\n",
    "- `>` -- greater than\n",
    "- `>=` -- greater than or equals\n",
    "\n",
    "We can use these with numbers, but we can also use them with text strings -- where something that comes earlier alphabetically will be \"less than\" something that comes later alphabetically."
   ]
  },
  {
   "cell_type": "markdown",
   "id": "76316af6-3013-49ca-bfaf-315711c70aa7",
   "metadata": {},
   "source": [
    "# Comparisons are the key\n",
    "\n",
    "Once we can compare two values, we can then make a decision regarding what we want to do. That's what programming is all about -- comparing values, and making a decision, executing one portion of the code sometimes, and another portion at other times.\n",
    "\n",
    "To do this, we'll need to use the `if` statement."
   ]
  },
  {
   "cell_type": "code",
   "execution_count": 34,
   "id": "0c600d23-6f6d-4513-8e58-bcebb05f06ec",
   "metadata": {},
   "outputs": [
    {
     "name": "stdin",
     "output_type": "stream",
     "text": [
      "Enter your name:  asdfasfafda\n"
     ]
    },
    {
     "name": "stdout",
     "output_type": "stream",
     "text": [
      "Hello, asdfasfafda.\n"
     ]
    }
   ],
   "source": [
    "name = input('Enter your name: ')\n",
    "\n",
    "# if looks to its right, and checks if there is a True value there\n",
    "# if it is, then we execute the block of code following the \"if\"\n",
    "# - the \"if\" line ends with a colon\n",
    "# - following that, we have one or more indented lines, known as a \"block\"\n",
    "# - the indentation is mandatory, and is part of the language\n",
    "# - traditionally, we indent 4 spaces for each level of indentation'\n",
    "# - realistically, any tool you use to write Python should be smart enough to indent for you most of the time.\n",
    "# - when you want to end the block, just use backspace to end the indentation\n",
    "# - the block can be as long or as short as you want, so long as it contains at least 1 line\n",
    "\n",
    "if name == 'Reuven':\n",
    "    print('Hello, boss!')\n",
    "    print('It is nice to see you again!')\n",
    "\n",
    "# optionally, I can also have an \"else\" clause\n",
    "# this executes if the \"if\" didn't fire, because the condition was False\n",
    "# remember: there is no conditon on an \"else\"\n",
    "# like the block for \"if\", we need : at the end of the line, and any number of indented lines\n",
    "\n",
    "else:\n",
    "    print('Hello, ' + name + '.')\n",
    "\n",
    "\n",
    "# it is guaranteed that one, and exactly one, of these two blocks will execute"
   ]
  },
  {
   "cell_type": "markdown",
   "id": "5bab8d6c-653f-4687-9cad-ffa6fbc7d041",
   "metadata": {},
   "source": [
    "# Exercise: Nice greeting\n",
    "\n",
    "1. Ask the user to enter their name, and assign to `name`.\n",
    "2. If the user's name is the same as yours print a respectful greeting. Have at least 2 lines in that block.\n",
    "3. If the user's name is *not* the same as yours, then print a snarky response."
   ]
  },
  {
   "cell_type": "code",
   "execution_count": 37,
   "id": "4ce861bd-597e-4cdb-8708-185254ad9b3f",
   "metadata": {},
   "outputs": [
    {
     "name": "stdin",
     "output_type": "stream",
     "text": [
      "Enter your name:  someone else\n"
     ]
    },
    {
     "name": "stdout",
     "output_type": "stream",
     "text": [
      "Who the heck are you?\n",
      "I do not know anyone named someone else!\n"
     ]
    }
   ],
   "source": [
    "name = input('Enter your name: ')\n",
    "\n",
    "if name == 'Reuven':\n",
    "    print('Hi again!')\n",
    "    print('I never tire of seeing your lovely name')\n",
    "else:\n",
    "    print('Who the heck are you?')\n",
    "    print('I do not know anyone named ' + name + '!')"
   ]
  },
  {
   "cell_type": "code",
   "execution_count": 38,
   "id": "79a4fd98-7ffb-478b-8ea4-12106c1b24b7",
   "metadata": {},
   "outputs": [
    {
     "ename": "KeyboardInterrupt",
     "evalue": "Interrupted by user",
     "output_type": "error",
     "traceback": [
      "\u001b[0;31m---------------------------------------------------------------------------\u001b[0m",
      "\u001b[0;31mKeyboardInterrupt\u001b[0m                         Traceback (most recent call last)",
      "Cell \u001b[0;32mIn[38], line 1\u001b[0m\n\u001b[0;32m----> 1\u001b[0m \u001b[38;5;28;43minput\u001b[39;49m\u001b[43m(\u001b[49m\u001b[38;5;124;43m'\u001b[39;49m\u001b[38;5;124;43mEnter something\u001b[39;49m\u001b[38;5;124;43m'\u001b[39;49m\u001b[43m)\u001b[49m\n",
      "File \u001b[0;32m/usr/local/lib/python3.10/dist-packages/ipykernel/kernelbase.py:1202\u001b[0m, in \u001b[0;36mKernel.raw_input\u001b[0;34m(self, prompt)\u001b[0m\n\u001b[1;32m   1200\u001b[0m     msg \u001b[38;5;241m=\u001b[39m \u001b[38;5;124m\"\u001b[39m\u001b[38;5;124mraw_input was called, but this frontend does not support input requests.\u001b[39m\u001b[38;5;124m\"\u001b[39m\n\u001b[1;32m   1201\u001b[0m     \u001b[38;5;28;01mraise\u001b[39;00m StdinNotImplementedError(msg)\n\u001b[0;32m-> 1202\u001b[0m \u001b[38;5;28;01mreturn\u001b[39;00m \u001b[38;5;28;43mself\u001b[39;49m\u001b[38;5;241;43m.\u001b[39;49m\u001b[43m_input_request\u001b[49m\u001b[43m(\u001b[49m\n\u001b[1;32m   1203\u001b[0m \u001b[43m    \u001b[49m\u001b[38;5;28;43mstr\u001b[39;49m\u001b[43m(\u001b[49m\u001b[43mprompt\u001b[49m\u001b[43m)\u001b[49m\u001b[43m,\u001b[49m\n\u001b[1;32m   1204\u001b[0m \u001b[43m    \u001b[49m\u001b[38;5;28;43mself\u001b[39;49m\u001b[38;5;241;43m.\u001b[39;49m\u001b[43m_parent_ident\u001b[49m\u001b[43m[\u001b[49m\u001b[38;5;124;43m\"\u001b[39;49m\u001b[38;5;124;43mshell\u001b[39;49m\u001b[38;5;124;43m\"\u001b[39;49m\u001b[43m]\u001b[49m\u001b[43m,\u001b[49m\n\u001b[1;32m   1205\u001b[0m \u001b[43m    \u001b[49m\u001b[38;5;28;43mself\u001b[39;49m\u001b[38;5;241;43m.\u001b[39;49m\u001b[43mget_parent\u001b[49m\u001b[43m(\u001b[49m\u001b[38;5;124;43m\"\u001b[39;49m\u001b[38;5;124;43mshell\u001b[39;49m\u001b[38;5;124;43m\"\u001b[39;49m\u001b[43m)\u001b[49m\u001b[43m,\u001b[49m\n\u001b[1;32m   1206\u001b[0m \u001b[43m    \u001b[49m\u001b[43mpassword\u001b[49m\u001b[38;5;241;43m=\u001b[39;49m\u001b[38;5;28;43;01mFalse\u001b[39;49;00m\u001b[43m,\u001b[49m\n\u001b[1;32m   1207\u001b[0m \u001b[43m\u001b[49m\u001b[43m)\u001b[49m\n",
      "File \u001b[0;32m/usr/local/lib/python3.10/dist-packages/ipykernel/kernelbase.py:1245\u001b[0m, in \u001b[0;36mKernel._input_request\u001b[0;34m(self, prompt, ident, parent, password)\u001b[0m\n\u001b[1;32m   1242\u001b[0m \u001b[38;5;28;01mexcept\u001b[39;00m \u001b[38;5;167;01mKeyboardInterrupt\u001b[39;00m:\n\u001b[1;32m   1243\u001b[0m     \u001b[38;5;66;03m# re-raise KeyboardInterrupt, to truncate traceback\u001b[39;00m\n\u001b[1;32m   1244\u001b[0m     msg \u001b[38;5;241m=\u001b[39m \u001b[38;5;124m\"\u001b[39m\u001b[38;5;124mInterrupted by user\u001b[39m\u001b[38;5;124m\"\u001b[39m\n\u001b[0;32m-> 1245\u001b[0m     \u001b[38;5;28;01mraise\u001b[39;00m \u001b[38;5;167;01mKeyboardInterrupt\u001b[39;00m(msg) \u001b[38;5;28;01mfrom\u001b[39;00m \u001b[38;5;28;01mNone\u001b[39;00m\n\u001b[1;32m   1246\u001b[0m \u001b[38;5;28;01mexcept\u001b[39;00m \u001b[38;5;167;01mException\u001b[39;00m:\n\u001b[1;32m   1247\u001b[0m     \u001b[38;5;28mself\u001b[39m\u001b[38;5;241m.\u001b[39mlog\u001b[38;5;241m.\u001b[39mwarning(\u001b[38;5;124m\"\u001b[39m\u001b[38;5;124mInvalid Message:\u001b[39m\u001b[38;5;124m\"\u001b[39m, exc_info\u001b[38;5;241m=\u001b[39m\u001b[38;5;28;01mTrue\u001b[39;00m)\n",
      "\u001b[0;31mKeyboardInterrupt\u001b[0m: Interrupted by user"
     ]
    }
   ],
   "source": [
    "input('Enter something')"
   ]
  },
  {
   "cell_type": "code",
   "execution_count": 39,
   "id": "42aac776-4cd4-4e4c-b7bd-755935e8119f",
   "metadata": {},
   "outputs": [
    {
     "data": {
      "text/plain": [
       "4"
      ]
     },
     "execution_count": 39,
     "metadata": {},
     "output_type": "execute_result"
    }
   ],
   "source": [
    "2+2"
   ]
  },
  {
   "cell_type": "markdown",
   "id": "f1b296af-ef59-48d4-956d-d9ea85a6c2b7",
   "metadata": {},
   "source": [
    "# Next up\n",
    "\n",
    "1. Combining conditions with `and` and `or`\n",
    "2. More complex conditionals with `elif`\n",
    "3. Numbers and text strings\n",
    "\n",
    "Resume at :55"
   ]
  },
  {
   "cell_type": "markdown",
   "id": "903380ea-6d73-4c4a-a670-df6c7c7ee006",
   "metadata": {},
   "source": [
    "# More complex conditions\n",
    "\n",
    "So far, we've discussed using `==` and its friends to compare things, and then we have used those comparisons in `if` statements.\n",
    "\n",
    "But what if we want to check two things, and only execute a block based on that?\n",
    "\n",
    "One option would be to have an `if` inside of the block. But that gets ugly very quickly.\n",
    "\n",
    "A better solution is to use `and` or `or`, two operators that let us combine two different comparisons into a single one. Each of the individual comparisons returns `True` or `False`, and then the `and` or `or` returns its own `True` or `False`.\n",
    "\n",
    "Note that if you've used a programming language that uses `||` or `&&`, Python does *not* use these at all."
   ]
  },
  {
   "cell_type": "code",
   "execution_count": 40,
   "id": "8088ebce-bb73-4fd5-b063-d71db565103c",
   "metadata": {},
   "outputs": [
    {
     "data": {
      "text/plain": [
       "True"
      ]
     },
     "execution_count": 40,
     "metadata": {},
     "output_type": "execute_result"
    }
   ],
   "source": [
    "x = 10\n",
    "y = 20\n",
    "\n",
    "x == 10    # this returns True"
   ]
  },
  {
   "cell_type": "code",
   "execution_count": 41,
   "id": "c715cb91-bbb2-4397-9a11-38f1c7fa15da",
   "metadata": {},
   "outputs": [
    {
     "data": {
      "text/plain": [
       "True"
      ]
     },
     "execution_count": 41,
     "metadata": {},
     "output_type": "execute_result"
    }
   ],
   "source": [
    "y == 20    # this also returns True"
   ]
  },
  {
   "cell_type": "code",
   "execution_count": 42,
   "id": "446ef9e7-5893-4aea-8ea3-bdce870613db",
   "metadata": {},
   "outputs": [
    {
     "data": {
      "text/plain": [
       "True"
      ]
     },
     "execution_count": 42,
     "metadata": {},
     "output_type": "execute_result"
    }
   ],
   "source": [
    "#  True     and     True    --> when and has True on either side, it returns True\n",
    "x == 10     and    y == 20    "
   ]
  },
  {
   "cell_type": "code",
   "execution_count": 43,
   "id": "03be6057-a8f3-4273-b5ad-5f92b3cfac8b",
   "metadata": {},
   "outputs": [
    {
     "data": {
      "text/plain": [
       "False"
      ]
     },
     "execution_count": 43,
     "metadata": {},
     "output_type": "execute_result"
    }
   ],
   "source": [
    "#  True     and       False   -> and returns False if one of its inputs is False\n",
    "x == 10     and     y == 555"
   ]
  },
  {
   "cell_type": "code",
   "execution_count": 44,
   "id": "2be7baf6-7a86-4510-9a58-374dee4e7e02",
   "metadata": {},
   "outputs": [
    {
     "data": {
      "text/plain": [
       "True"
      ]
     },
     "execution_count": 44,
     "metadata": {},
     "output_type": "execute_result"
    }
   ],
   "source": [
    "# in the same way, we can use \"or\"\n",
    "# the difference is that \"and\" returns True only if both of the inputs are True\n",
    "# But \"or\" returns True if one or both of its inputs is True\n",
    "\n",
    "#   True      or         True ---> at least one was True, so or returns True\n",
    "x == 10       or     y == 20"
   ]
  },
  {
   "cell_type": "code",
   "execution_count": 45,
   "id": "039e07e4-e730-4236-bd0e-3357cded1c00",
   "metadata": {},
   "outputs": [
    {
     "data": {
      "text/plain": [
       "True"
      ]
     },
     "execution_count": 45,
     "metadata": {},
     "output_type": "execute_result"
    }
   ],
   "source": [
    "#   True      or        False --> since at least one is True, we get back True\n",
    "x == 10       or      y == 555"
   ]
  },
  {
   "cell_type": "code",
   "execution_count": 46,
   "id": "a74e0632-9daa-4e7b-bc7d-0abf2f617b01",
   "metadata": {},
   "outputs": [
    {
     "name": "stdout",
     "output_type": "stream",
     "text": [
      "One of them is what you wanted.\n"
     ]
    }
   ],
   "source": [
    "if x == 10 or y == 555:\n",
    "    print('One of them is what you wanted.')"
   ]
  },
  {
   "cell_type": "code",
   "execution_count": 47,
   "id": "2035c01e-1f3e-4a08-9022-35b73956bc90",
   "metadata": {},
   "outputs": [
    {
     "name": "stdout",
     "output_type": "stream",
     "text": [
      "One of them is what you wanted.\n"
     ]
    }
   ],
   "source": [
    "# we can make this look a little nicer...\n",
    "# Python assumes that we have one statement/expression per line\n",
    "# but it also treats stuff inside of parentheses as if it were on a single line,\n",
    "#   even when spread across lines\n",
    "\n",
    "if (x == 10 or\n",
    "    y == 555):\n",
    "    print('One of them is what you wanted.')"
   ]
  },
  {
   "cell_type": "code",
   "execution_count": 49,
   "id": "a1349290-141d-4ccf-82a4-7ee2db6780b1",
   "metadata": {},
   "outputs": [
    {
     "data": {
      "text/plain": [
       "True"
      ]
     },
     "execution_count": 49,
     "metadata": {},
     "output_type": "execute_result"
    }
   ],
   "source": [
    "# three assignments\n",
    "x = 10\n",
    "y = 10\n",
    "z = 5\n",
    "\n",
    "# three comparisons\n",
    "x == y  # the value produced here will be thrown away\n",
    "x == z  # this value will also be thrown away\n",
    "x != z  # only this one will return its value\n",
    "\n",
    "# Jupyter only returns/displays the FINAL LINE's value in a cell"
   ]
  },
  {
   "cell_type": "code",
   "execution_count": 50,
   "id": "b8a08b90-0687-4b3a-8db2-b9a4018a44fd",
   "metadata": {},
   "outputs": [
    {
     "name": "stdout",
     "output_type": "stream",
     "text": [
      "True\n",
      "False\n",
      "True\n"
     ]
    }
   ],
   "source": [
    "# if you want to see more than one value from a cell, you (mostly) need to use print\n",
    "\n",
    "# three assignments\n",
    "x = 10\n",
    "y = 10\n",
    "z = 5\n",
    "\n",
    "# three comparisons\n",
    "print(x == y)\n",
    "print(x == z)\n",
    "print(x != z)\n",
    "\n",
    "# Jupyter only returns/displays the FINAL LINE's value in a cell"
   ]
  },
  {
   "cell_type": "markdown",
   "id": "428e833c-d7c7-4a24-91cf-954c7736e92d",
   "metadata": {},
   "source": [
    "# `elif` in our `if` statements\n",
    "\n",
    "So far, our `if` statements have been binary -- either the condition is `True` and the `if` block runs, or it is `False`, and the `else` block (if it exists) runs.\n",
    "\n",
    "But what if we want more than two options? We could have additional `if` statements inside of the original `if` statement's block. But it's usually a better idea to use `elif` (short for `else if`), which takes its own comparison and has its own block.\n",
    "\n",
    "You can have as many `elif` clauses as you want. They are evaluated in order. The first `if` or `elif` to have a `True` condition runs its block, and no other block is then run."
   ]
  },
  {
   "cell_type": "code",
   "execution_count": 51,
   "id": "a6ef858d-3c22-4c8d-bdd6-0997159f4b5e",
   "metadata": {},
   "outputs": [
    {
     "name": "stdout",
     "output_type": "stream",
     "text": [
      "It is 10!\n"
     ]
    }
   ],
   "source": [
    "x = 10\n",
    "\n",
    "if x == 30:\n",
    "    print('It is 30!')\n",
    "elif x == 20:\n",
    "    print('It is 20!')\n",
    "elif x == 10:\n",
    "    print('It is 10!')\n",
    "else:\n",
    "    print('I have no idea what its value is.')"
   ]
  },
  {
   "cell_type": "code",
   "execution_count": 53,
   "id": "c66551eb-a2e3-4074-8f01-d80b97fa3878",
   "metadata": {},
   "outputs": [
    {
     "name": "stdout",
     "output_type": "stream",
     "text": [
      "It is >= 10!\n"
     ]
    }
   ],
   "source": [
    "# the conditions are evaluated in order, from top to bottom\n",
    "\n",
    "x = 10\n",
    "\n",
    "if x >= 30:\n",
    "    print('It is >= 30!')\n",
    "elif x >= 20:\n",
    "    print('It is >= 20!')\n",
    "elif x >= 10:\n",
    "    print('It is >= 10!')\n",
    "else:\n",
    "    print('I have no idea what its value is.')"
   ]
  },
  {
   "cell_type": "code",
   "execution_count": 55,
   "id": "f6c0fcf8-d627-48bb-9714-e89c81b214c8",
   "metadata": {},
   "outputs": [
    {
     "name": "stdout",
     "output_type": "stream",
     "text": [
      "It is >= 10!\n"
     ]
    }
   ],
   "source": [
    "\n",
    "x = 35\n",
    "\n",
    "if x >= 10:\n",
    "    print('It is >= 10!')\n",
    "elif x >= 20:\n",
    "    print('It is >= 20!')\n",
    "elif x >= 30:\n",
    "    print('It is >= 30!')\n",
    "else:\n",
    "    print('I have no idea what its value is.')"
   ]
  },
  {
   "cell_type": "markdown",
   "id": "1dbff4f1-6ac8-430e-b449-89b91f46a0a3",
   "metadata": {},
   "source": [
    "# Exercise: Greet a colleague (or not)\n",
    "\n",
    "1. Ask the user to enter their name, and assign to `name`.\n",
    "2. Ask the user to enter their company's name, and assign to `company`.\n",
    "3. Print one of four things:\n",
    "    - If the name and company match yours say something like, \"You must be me.\"\n",
    "    - If the name is the same, but the company is not, then compliment their name, and be snarky about their company.\n",
    "    - If the company is the same, but the name is not, then compliment their company, and be snarky about their name.\n",
    "    - If neither is a match, then just be generally snarky with them."
   ]
  },
  {
   "cell_type": "code",
   "execution_count": 56,
   "id": "5e3a15f9-6af4-4561-9c1e-3b4eef27ab22",
   "metadata": {},
   "outputs": [],
   "source": [
    "# inequality operator is !="
   ]
  },
  {
   "cell_type": "code",
   "execution_count": 58,
   "id": "ad9163aa-8b30-491b-9322-7a17ef7e325e",
   "metadata": {},
   "outputs": [
    {
     "name": "stdin",
     "output_type": "stream",
     "text": [
      "Enter your name:  Reuven\n",
      "Enter your company:  Cisco\n"
     ]
    },
    {
     "name": "stdout",
     "output_type": "stream",
     "text": [
      "Your name is great, and your company is even greater!\n"
     ]
    }
   ],
   "source": [
    "name = input('Enter your name: ')\n",
    "company = input('Enter your company: ')\n",
    "\n",
    "if name == 'Reuven' and company == 'Cisco':\n",
    "    print('Your name is great, and your company is even greater!')\n",
    "\n",
    "# elif name == 'Reuven' and company != 'Cisco':\n",
    "elif name == 'Reuven':    # implicit: Company isn't 'Cisco'\n",
    "    print('Your name is great, but your company... well, not so great.')\n",
    "\n",
    "elif company == 'Cisco':   # implicit: Name isn't 'Reuven'\n",
    "    print('You work for a great company, bad-named colleague of mine!')\n",
    "\n",
    "else:\n",
    "    print('Your name and company are both terrible.')"
   ]
  },
  {
   "cell_type": "code",
   "execution_count": 59,
   "id": "5d1805b1-780b-4507-8b0b-97485458deca",
   "metadata": {},
   "outputs": [
    {
     "name": "stdout",
     "output_type": "stream",
     "text": [
      "This is a new cell with name Reuven and company Cisco\n"
     ]
    }
   ],
   "source": [
    "print('This is a new cell with name ' + name + ' and company ' + company)"
   ]
  },
  {
   "cell_type": "markdown",
   "id": "89727559-9c97-4db3-894d-9aa4cb3403b1",
   "metadata": {},
   "source": [
    "# Data structures\n",
    "\n",
    "At the end of the day, everything on your computer is a bunch of 1s and 0s. Just as different objects in the world behave differently, and have different functions, so too do we organize our data in a program with different types of data structures. Each is optimized for a different type of value, and for different operations we can do on it.\n",
    "\n",
    "Python does distinguish bewteen different types. Python is \"strongly typed,\" meaning that every value knows what type it is, and if/how it can be combined with other types."
   ]
  },
  {
   "cell_type": "code",
   "execution_count": 60,
   "id": "1cb8d306-d9e4-4b4f-ab0b-c92823c2fd75",
   "metadata": {},
   "outputs": [
    {
     "data": {
      "text/plain": [
       "30"
      ]
     },
     "execution_count": 60,
     "metadata": {},
     "output_type": "execute_result"
    }
   ],
   "source": [
    "x = 10\n",
    "y = 20\n",
    "\n",
    "x + y"
   ]
  },
  {
   "cell_type": "code",
   "execution_count": 61,
   "id": "98274531-d8d9-415a-9068-24b56c26d0de",
   "metadata": {},
   "outputs": [
    {
     "data": {
      "text/plain": [
       "'abcdefgh'"
      ]
     },
     "execution_count": 61,
     "metadata": {},
     "output_type": "execute_result"
    }
   ],
   "source": [
    "x = 'abcd'\n",
    "y = 'efgh'\n",
    "\n",
    "x + y"
   ]
  },
  {
   "cell_type": "code",
   "execution_count": 62,
   "id": "451dda6c-806a-47aa-90ec-0c84b3207248",
   "metadata": {},
   "outputs": [
    {
     "ename": "TypeError",
     "evalue": "unsupported operand type(s) for +: 'int' and 'str'",
     "output_type": "error",
     "traceback": [
      "\u001b[0;31m---------------------------------------------------------------------------\u001b[0m",
      "\u001b[0;31mTypeError\u001b[0m                                 Traceback (most recent call last)",
      "Cell \u001b[0;32mIn[62], line 6\u001b[0m\n\u001b[1;32m      3\u001b[0m x \u001b[38;5;241m=\u001b[39m \u001b[38;5;241m10\u001b[39m\n\u001b[1;32m      4\u001b[0m y \u001b[38;5;241m=\u001b[39m \u001b[38;5;124m'\u001b[39m\u001b[38;5;124m20\u001b[39m\u001b[38;5;124m'\u001b[39m   \u001b[38;5;66;03m# notice: this is a text string, not an integer\u001b[39;00m\n\u001b[0;32m----> 6\u001b[0m \u001b[43mx\u001b[49m\u001b[43m \u001b[49m\u001b[38;5;241;43m+\u001b[39;49m\u001b[43m \u001b[49m\u001b[43my\u001b[49m\n",
      "\u001b[0;31mTypeError\u001b[0m: unsupported operand type(s) for +: 'int' and 'str'"
     ]
    }
   ],
   "source": [
    "# what will happen here:\n",
    "\n",
    "x = 10\n",
    "y = '20'   # notice: this is a text string, not an integer\n",
    "\n",
    "x + y"
   ]
  },
  {
   "cell_type": "markdown",
   "id": "4247dd69-608c-4c94-9510-e1726d6db088",
   "metadata": {},
   "source": [
    "# Data structure: integers (`int`)\n",
    "\n",
    "An integer is a whole number, without a fractional part, entered with the digits 0-9.\n",
    "\n"
   ]
  },
  {
   "cell_type": "code",
   "execution_count": 63,
   "id": "1058a3b7-9e61-4d1a-90ef-9ed792a07c6a",
   "metadata": {},
   "outputs": [
    {
     "data": {
      "text/plain": [
       "int"
      ]
     },
     "execution_count": 63,
     "metadata": {},
     "output_type": "execute_result"
    }
   ],
   "source": [
    "x = 100\n",
    "type(x)"
   ]
  },
  {
   "cell_type": "code",
   "execution_count": 64,
   "id": "4d529139-33ba-4f01-8060-e6bed4f34167",
   "metadata": {},
   "outputs": [],
   "source": [
    "# what operations do I have for integers?\n",
    "\n",
    "x = 10\n",
    "y = 3"
   ]
  },
  {
   "cell_type": "code",
   "execution_count": 65,
   "id": "844b7384-3e07-460e-917f-58f3240e8bc5",
   "metadata": {},
   "outputs": [
    {
     "data": {
      "text/plain": [
       "13"
      ]
     },
     "execution_count": 65,
     "metadata": {},
     "output_type": "execute_result"
    }
   ],
   "source": [
    "x + y  # addition"
   ]
  },
  {
   "cell_type": "code",
   "execution_count": 66,
   "id": "a5813748-817d-42e6-b3e0-1152268d95f0",
   "metadata": {},
   "outputs": [
    {
     "data": {
      "text/plain": [
       "7"
      ]
     },
     "execution_count": 66,
     "metadata": {},
     "output_type": "execute_result"
    }
   ],
   "source": [
    "x - y   # subtraction"
   ]
  },
  {
   "cell_type": "code",
   "execution_count": 67,
   "id": "d6922470-ea46-4cd6-bf2f-32a78792b334",
   "metadata": {},
   "outputs": [
    {
     "data": {
      "text/plain": [
       "30"
      ]
     },
     "execution_count": 67,
     "metadata": {},
     "output_type": "execute_result"
    }
   ],
   "source": [
    "x * y   # multiplication"
   ]
  },
  {
   "cell_type": "code",
   "execution_count": 68,
   "id": "a8dee61b-9ca5-4448-a292-2bcd382dd7df",
   "metadata": {},
   "outputs": [
    {
     "data": {
      "text/plain": [
       "3.3333333333333335"
      ]
     },
     "execution_count": 68,
     "metadata": {},
     "output_type": "execute_result"
    }
   ],
   "source": [
    "x / y    # division -- known as truediv, because it returns a float"
   ]
  },
  {
   "cell_type": "code",
   "execution_count": 69,
   "id": "0b28d6d1-6918-4127-923c-f3dc1f3f9e7f",
   "metadata": {},
   "outputs": [
    {
     "data": {
      "text/plain": [
       "3"
      ]
     },
     "execution_count": 69,
     "metadata": {},
     "output_type": "execute_result"
    }
   ],
   "source": [
    "x // y    # division with an integer value, known as floordiv, because it removes the fractional part"
   ]
  },
  {
   "cell_type": "code",
   "execution_count": 70,
   "id": "2955f5c0-5701-43b1-9f0e-5a397e7e1744",
   "metadata": {},
   "outputs": [
    {
     "data": {
      "text/plain": [
       "1000"
      ]
     },
     "execution_count": 70,
     "metadata": {},
     "output_type": "execute_result"
    }
   ],
   "source": [
    "x ** y   # exponentiation -- x to the y power"
   ]
  },
  {
   "cell_type": "code",
   "execution_count": 71,
   "id": "8fe1e599-1d1a-4e9a-9327-56ea7e8c0ef5",
   "metadata": {},
   "outputs": [
    {
     "data": {
      "text/plain": [
       "1"
      ]
     },
     "execution_count": 71,
     "metadata": {},
     "output_type": "execute_result"
    }
   ],
   "source": [
    "x % y    # modulo -- what is the remainder after integer division?"
   ]
  },
  {
   "cell_type": "code",
   "execution_count": 72,
   "id": "43c3a66c-43f7-4a75-b985-4a9a4b2d0404",
   "metadata": {},
   "outputs": [],
   "source": [
    "# if you want to know if a number is even or odd...\n",
    "# just do NUMBER % 2. If the result is 0, the number is even.\n",
    "# If the result is 1, the number is odd."
   ]
  },
  {
   "cell_type": "code",
   "execution_count": 73,
   "id": "1c3c8cca-460b-4abf-82a6-429d16caf588",
   "metadata": {},
   "outputs": [
    {
     "data": {
      "text/plain": [
       "11"
      ]
     },
     "execution_count": 73,
     "metadata": {},
     "output_type": "execute_result"
    }
   ],
   "source": [
    "# let's say I have an integer, and want to add 1 to it\n",
    "\n",
    "x = 10\n",
    "x = x + 1    # first calculate x+1, then assign that value back to x\n",
    "x"
   ]
  },
  {
   "cell_type": "code",
   "execution_count": 74,
   "id": "38410792-da70-4f51-bb6e-a66313132348",
   "metadata": {},
   "outputs": [
    {
     "data": {
      "text/plain": [
       "12"
      ]
     },
     "execution_count": 74,
     "metadata": {},
     "output_type": "execute_result"
    }
   ],
   "source": [
    "# shorthand for that is:\n",
    "x += 1   # same as x = x + 1\n",
    "x"
   ]
  },
  {
   "cell_type": "code",
   "execution_count": 75,
   "id": "c3cb9b41-3782-47a7-8d99-d359e702d41c",
   "metadata": {},
   "outputs": [],
   "source": [
    "# you also have x-=n, x*=n, x%=n, etc."
   ]
  },
  {
   "cell_type": "code",
   "execution_count": 76,
   "id": "237442b7-081f-4fb9-97e9-0d779fa92be3",
   "metadata": {},
   "outputs": [],
   "source": [
    "# what about the famous ++ operator from other languages?\n",
    "# it doesn't exist in Python. Neither does --."
   ]
  },
  {
   "cell_type": "code",
   "execution_count": 77,
   "id": "d08c2ff4-0a76-4e4d-a356-84e911281081",
   "metadata": {},
   "outputs": [
    {
     "data": {
      "text/plain": [
       "30"
      ]
     },
     "execution_count": 77,
     "metadata": {},
     "output_type": "execute_result"
    }
   ],
   "source": [
    "# what about our int vs. string problem from before?\n",
    "\n",
    "x = 10\n",
    "y = '20' \n",
    "\n",
    "# how can I add them as integers?\n",
    "# I'll need to get a new integer value based on the string value in y\n",
    "\n",
    "# we can do that by invoking int() as a function on y.\n",
    "# we won't change y, but we will get an integer back based on it\n",
    "\n",
    "x + int(y)"
   ]
  },
  {
   "cell_type": "code",
   "execution_count": 78,
   "id": "b22baedd-58be-4ecf-bc5a-8e07373d0c90",
   "metadata": {},
   "outputs": [
    {
     "data": {
      "text/plain": [
       "30"
      ]
     },
     "execution_count": 78,
     "metadata": {},
     "output_type": "execute_result"
    }
   ],
   "source": [
    "# or, we can say:\n",
    "\n",
    "y = int(y)   # get an integer based on the current string value\n",
    "x + y"
   ]
  },
  {
   "cell_type": "code",
   "execution_count": 79,
   "id": "624109cf-7b7a-4842-a0b6-281c47fd1183",
   "metadata": {},
   "outputs": [
    {
     "data": {
      "text/plain": [
       "30"
      ]
     },
     "execution_count": 79,
     "metadata": {},
     "output_type": "execute_result"
    }
   ],
   "source": [
    "# or, we can say:\n",
    "\n",
    "x = 10\n",
    "y = '20'\n",
    "\n",
    "y_int = int(y)   # create a new variable\n",
    "\n",
    "x + y_int"
   ]
  },
  {
   "cell_type": "markdown",
   "id": "da0eced2-1283-4e90-8ad3-27ff5425bd98",
   "metadata": {},
   "source": [
    "# Exercise: Guessing game\n",
    "\n",
    "1. Generate a random number from 0-100, and store it in `number` (I'll show you how).\n",
    "2. Print the number, for easier debugging.\n",
    "3. Ask the user to guess the number:\n",
    "     - If they guess correctly, write \"You got it!\"\n",
    "     - If they guess too high, write, \"Too high!\"\n",
    "     - If they guess too low, write, \"Too low!\"\n",
    "\n",
    "We'll assume that the user will enter only digits. \n",
    "\n",
    "The user only gets one chance to guess.\n",
    "\n",
    "How can we get a random number? We'll use the `random` module that comes with Python; we'll talk more about it on Thursday.\n",
    "\n",
    "```python\n",
    "import random     # this imports the module, or library, containing random info\n",
    "number = random.randint(0, 100)   # this calls the randint function, and assigns to number\n",
    "```"
   ]
  },
  {
   "cell_type": "code",
   "execution_count": 81,
   "id": "176b802b-e063-43d2-9324-97ccfc149b90",
   "metadata": {},
   "outputs": [
    {
     "name": "stdout",
     "output_type": "stream",
     "text": [
      "7\n"
     ]
    },
    {
     "name": "stdin",
     "output_type": "stream",
     "text": [
      "Enter your guess:  7\n"
     ]
    },
    {
     "ename": "TypeError",
     "evalue": "'<' not supported between instances of 'str' and 'int'",
     "output_type": "error",
     "traceback": [
      "\u001b[0;31m---------------------------------------------------------------------------\u001b[0m",
      "\u001b[0;31mTypeError\u001b[0m                                 Traceback (most recent call last)",
      "Cell \u001b[0;32mIn[81], line 9\u001b[0m\n\u001b[1;32m      7\u001b[0m \u001b[38;5;28;01mif\u001b[39;00m guess \u001b[38;5;241m==\u001b[39m number:   \u001b[38;5;66;03m# did we guess correctly?\u001b[39;00m\n\u001b[1;32m      8\u001b[0m     \u001b[38;5;28mprint\u001b[39m(\u001b[38;5;124m'\u001b[39m\u001b[38;5;124mYou got it!\u001b[39m\u001b[38;5;124m'\u001b[39m)\n\u001b[0;32m----> 9\u001b[0m \u001b[38;5;28;01melif\u001b[39;00m \u001b[43mguess\u001b[49m\u001b[43m \u001b[49m\u001b[38;5;241;43m<\u001b[39;49m\u001b[43m \u001b[49m\u001b[43mnumber\u001b[49m:  \u001b[38;5;66;03m# did we guess too low?\u001b[39;00m\n\u001b[1;32m     10\u001b[0m     \u001b[38;5;28mprint\u001b[39m(\u001b[38;5;124m'\u001b[39m\u001b[38;5;124mToo low!\u001b[39m\u001b[38;5;124m'\u001b[39m)\n\u001b[1;32m     11\u001b[0m \u001b[38;5;28;01melse\u001b[39;00m:\n",
      "\u001b[0;31mTypeError\u001b[0m: '<' not supported between instances of 'str' and 'int'"
     ]
    }
   ],
   "source": [
    "# buggy version\n",
    "\n",
    "import random\n",
    "number = random.randint(0, 100)\n",
    "print(number)\n",
    "\n",
    "guess = input('Enter your guess: ')\n",
    "\n",
    "if guess == number:   # did we guess correctly?\n",
    "    print('You got it!')\n",
    "elif guess < number:  # did we guess too low?\n",
    "    print('Too low!')\n",
    "else:\n",
    "    print('Too high!')"
   ]
  },
  {
   "cell_type": "code",
   "execution_count": 82,
   "id": "181cfb74-0400-4d19-bdfc-bbfda8af57a6",
   "metadata": {},
   "outputs": [
    {
     "data": {
      "text/plain": [
       "True"
      ]
     },
     "execution_count": 82,
     "metadata": {},
     "output_type": "execute_result"
    }
   ],
   "source": [
    "7 == 7   "
   ]
  },
  {
   "cell_type": "code",
   "execution_count": 83,
   "id": "68de53a9-073b-405e-a8fc-42b254886d04",
   "metadata": {},
   "outputs": [
    {
     "data": {
      "text/plain": [
       "False"
      ]
     },
     "execution_count": 83,
     "metadata": {},
     "output_type": "execute_result"
    }
   ],
   "source": [
    "7 == '7'    "
   ]
  },
  {
   "cell_type": "code",
   "execution_count": 89,
   "id": "0acccf99-feff-4205-a6b0-ec0a7aac84fd",
   "metadata": {},
   "outputs": [
    {
     "name": "stdout",
     "output_type": "stream",
     "text": [
      "5\n"
     ]
    },
    {
     "name": "stdin",
     "output_type": "stream",
     "text": [
      "Enter your guess:  hello\n"
     ]
    },
    {
     "ename": "ValueError",
     "evalue": "invalid literal for int() with base 10: 'hello'",
     "output_type": "error",
     "traceback": [
      "\u001b[0;31m---------------------------------------------------------------------------\u001b[0m",
      "\u001b[0;31mValueError\u001b[0m                                Traceback (most recent call last)",
      "Cell \u001b[0;32mIn[89], line 7\u001b[0m\n\u001b[1;32m      3\u001b[0m \u001b[38;5;28mprint\u001b[39m(number)\n\u001b[1;32m      5\u001b[0m guess \u001b[38;5;241m=\u001b[39m \u001b[38;5;28minput\u001b[39m(\u001b[38;5;124m'\u001b[39m\u001b[38;5;124mEnter your guess: \u001b[39m\u001b[38;5;124m'\u001b[39m)\n\u001b[0;32m----> 7\u001b[0m \u001b[38;5;28;01mif\u001b[39;00m \u001b[38;5;28;43mint\u001b[39;49m\u001b[43m(\u001b[49m\u001b[43mguess\u001b[49m\u001b[43m)\u001b[49m \u001b[38;5;241m==\u001b[39m number:   \u001b[38;5;66;03m# did we guess correctly?\u001b[39;00m\n\u001b[1;32m      8\u001b[0m     \u001b[38;5;28mprint\u001b[39m(\u001b[38;5;124m'\u001b[39m\u001b[38;5;124mYou got it!\u001b[39m\u001b[38;5;124m'\u001b[39m)\n\u001b[1;32m      9\u001b[0m \u001b[38;5;28;01melif\u001b[39;00m \u001b[38;5;28mint\u001b[39m(guess) \u001b[38;5;241m<\u001b[39m number:  \u001b[38;5;66;03m# did we guess too low?\u001b[39;00m\n",
      "\u001b[0;31mValueError\u001b[0m: invalid literal for int() with base 10: 'hello'"
     ]
    }
   ],
   "source": [
    "import random\n",
    "number = random.randint(0, 100)\n",
    "print(number)\n",
    "\n",
    "guess = input('Enter your guess: ')\n",
    "\n",
    "if int(guess) == number:   # did we guess correctly?\n",
    "    print('You got it!')\n",
    "elif int(guess) < number:  # did we guess too low?\n",
    "    print('Too low!')\n",
    "else:\n",
    "    print('Too high!')"
   ]
  },
  {
   "cell_type": "code",
   "execution_count": 90,
   "id": "94ff01e1-d6ac-4972-a715-2d61b7afe97a",
   "metadata": {},
   "outputs": [
    {
     "data": {
      "text/plain": [
       "False"
      ]
     },
     "execution_count": 90,
     "metadata": {},
     "output_type": "execute_result"
    }
   ],
   "source": [
    "7 == '7'   # we can always compare any two values in Python with =="
   ]
  },
  {
   "cell_type": "code",
   "execution_count": 91,
   "id": "2a17297b-04cb-42c1-ad47-ef0818d75088",
   "metadata": {},
   "outputs": [
    {
     "ename": "TypeError",
     "evalue": "'<' not supported between instances of 'int' and 'str'",
     "output_type": "error",
     "traceback": [
      "\u001b[0;31m---------------------------------------------------------------------------\u001b[0m",
      "\u001b[0;31mTypeError\u001b[0m                                 Traceback (most recent call last)",
      "Cell \u001b[0;32mIn[91], line 1\u001b[0m\n\u001b[0;32m----> 1\u001b[0m \u001b[38;5;241;43m7\u001b[39;49m\u001b[43m \u001b[49m\u001b[38;5;241;43m<\u001b[39;49m\u001b[43m \u001b[49m\u001b[38;5;124;43m'\u001b[39;49m\u001b[38;5;124;43m7\u001b[39;49m\u001b[38;5;124;43m'\u001b[39;49m    \u001b[38;5;66;03m# we cannot use < and > on any pair of data types\u001b[39;00m\n",
      "\u001b[0;31mTypeError\u001b[0m: '<' not supported between instances of 'int' and 'str'"
     ]
    }
   ],
   "source": [
    "7 < '7'    # we cannot use < and > on any pair of data types"
   ]
  },
  {
   "cell_type": "markdown",
   "id": "07e10ee7-406d-4123-90f8-70eea38c9375",
   "metadata": {},
   "source": [
    "# Floats\n",
    "\n",
    "Floating-point numbers, aka \"floats,\" are numbers with a fractional component. They always have a decimal point, even when after the decimal, we have 0.\n",
    "\n",
    "You can mix and match ints and floats as much as you want; when you do that, Python will convert an integer into a float, and then perform the computation with floats."
   ]
  },
  {
   "cell_type": "code",
   "execution_count": 92,
   "id": "d8d51c0a-58e2-44db-90cd-475ed5c0d048",
   "metadata": {},
   "outputs": [
    {
     "data": {
      "text/plain": [
       "int"
      ]
     },
     "execution_count": 92,
     "metadata": {},
     "output_type": "execute_result"
    }
   ],
   "source": [
    "x = 10\n",
    "type(x)"
   ]
  },
  {
   "cell_type": "code",
   "execution_count": 93,
   "id": "15ab7e6a-69b2-47a6-abe9-c11255d296b3",
   "metadata": {},
   "outputs": [
    {
     "data": {
      "text/plain": [
       "float"
      ]
     },
     "execution_count": 93,
     "metadata": {},
     "output_type": "execute_result"
    }
   ],
   "source": [
    "x = 10.0\n",
    "type(x)"
   ]
  },
  {
   "cell_type": "code",
   "execution_count": 94,
   "id": "8c8d0402-dd8a-411b-93c2-e0d3441187bd",
   "metadata": {},
   "outputs": [
    {
     "data": {
      "text/plain": [
       "30.0"
      ]
     },
     "execution_count": 94,
     "metadata": {},
     "output_type": "execute_result"
    }
   ],
   "source": [
    "x = 10.0\n",
    "y = 20.0\n",
    "\n",
    "x + y"
   ]
  },
  {
   "cell_type": "code",
   "execution_count": 96,
   "id": "2b354844-26e2-42c0-b134-079047391a97",
   "metadata": {},
   "outputs": [
    {
     "data": {
      "text/plain": [
       "123"
      ]
     },
     "execution_count": 96,
     "metadata": {},
     "output_type": "execute_result"
    }
   ],
   "source": [
    "# to convert a value from float to int, just invoke int() as a function\n",
    "# truncates at the decimal point\n",
    "int(123.456)"
   ]
  },
  {
   "cell_type": "code",
   "execution_count": 97,
   "id": "9c5a33a7-d724-4911-9a3a-0bcd7fc53b0b",
   "metadata": {},
   "outputs": [
    {
     "data": {
      "text/plain": [
       "123.0"
      ]
     },
     "execution_count": 97,
     "metadata": {},
     "output_type": "execute_result"
    }
   ],
   "source": [
    "# to convert a value from int to float, just invoke float() as a function\n",
    "\n",
    "float(123)"
   ]
  },
  {
   "cell_type": "code",
   "execution_count": 98,
   "id": "a12350dd-ce1f-4f96-90c5-7b4092dfd433",
   "metadata": {},
   "outputs": [
    {
     "data": {
      "text/plain": [
       "123.456"
      ]
     },
     "execution_count": 98,
     "metadata": {},
     "output_type": "execute_result"
    }
   ],
   "source": [
    "float('123.456')"
   ]
  },
  {
   "cell_type": "code",
   "execution_count": 99,
   "id": "fde68e9a-449f-471f-8af1-35a7db8377dc",
   "metadata": {},
   "outputs": [
    {
     "data": {
      "text/plain": [
       "0.30000000000000004"
      ]
     },
     "execution_count": 99,
     "metadata": {},
     "output_type": "execute_result"
    }
   ],
   "source": [
    "0.1 + 0.2"
   ]
  },
  {
   "cell_type": "code",
   "execution_count": 100,
   "id": "e4378fe0-65cc-487a-a68c-f75329b64f52",
   "metadata": {},
   "outputs": [
    {
     "data": {
      "text/plain": [
       "False"
      ]
     },
     "execution_count": 100,
     "metadata": {},
     "output_type": "execute_result"
    }
   ],
   "source": [
    "# floats are not exact!\n",
    "\n",
    "0.1 + 0.2 == 0.3"
   ]
  },
  {
   "cell_type": "markdown",
   "id": "6ad48d9b-1fd4-42b8-bdec-4bb20c8e91eb",
   "metadata": {},
   "source": [
    "# Strings\n",
    "\n",
    "In programming, we refer to a text value as a \"string.\" In Python, a string can contain any number of characters. Those characters can be anything from Unicode, aka any character in the world, from any language, including emojis.\n",
    "\n",
    "We create strings using quotes. You can use either single quotes or double quotes, so long as you're consistent and use the same thing at the start and end of the string.  It's not like shell scripting where `''` and `\"\"` are different."
   ]
  },
  {
   "cell_type": "code",
   "execution_count": 101,
   "id": "4f290d70-4cfa-47e0-a418-50e2454bea8d",
   "metadata": {},
   "outputs": [
    {
     "data": {
      "text/plain": [
       "str"
      ]
     },
     "execution_count": 101,
     "metadata": {},
     "output_type": "execute_result"
    }
   ],
   "source": [
    "s = 'abcdefg'\n",
    "type(s)"
   ]
  },
  {
   "cell_type": "code",
   "execution_count": 102,
   "id": "32fc52fb-46b0-4b1d-9210-90cf6b291067",
   "metadata": {},
   "outputs": [
    {
     "data": {
      "text/plain": [
       "str"
      ]
     },
     "execution_count": 102,
     "metadata": {},
     "output_type": "execute_result"
    }
   ],
   "source": [
    "s = \"abcdefg\"\n",
    "type(s)"
   ]
  },
  {
   "cell_type": "code",
   "execution_count": 103,
   "id": "1e7fc210-e755-493c-8ef3-2f2e7f826d95",
   "metadata": {},
   "outputs": [
    {
     "ename": "SyntaxError",
     "evalue": "unterminated string literal (detected at line 4) (511750089.py, line 4)",
     "output_type": "error",
     "traceback": [
      "\u001b[0;36m  Cell \u001b[0;32mIn[103], line 4\u001b[0;36m\u001b[0m\n\u001b[0;31m    s = 'He's very nice'    # here, Python will get very confused\u001b[0m\n\u001b[0m                       ^\u001b[0m\n\u001b[0;31mSyntaxError\u001b[0m\u001b[0;31m:\u001b[0m unterminated string literal (detected at line 4)\n"
     ]
    }
   ],
   "source": [
    "# why use ' or \" ? Normally, it's not just a matter of preference, but a way of\n",
    "# dealing easily with ' or \" inside of the text string.\n",
    "\n",
    "s = 'He's very nice'    # here, Python will get very confused"
   ]
  },
  {
   "cell_type": "code",
   "execution_count": 104,
   "id": "1b756436-3769-4dba-8894-c2248e8a7d51",
   "metadata": {},
   "outputs": [
    {
     "name": "stdout",
     "output_type": "stream",
     "text": [
      "He's very nice\n"
     ]
    }
   ],
   "source": [
    "# one solution is to put a \\ before the quote you want to be taken literally\n",
    "\n",
    "s = 'He\\'s very nice' \n",
    "print(s)"
   ]
  },
  {
   "cell_type": "code",
   "execution_count": 105,
   "id": "1c27e741-732a-4820-860a-c4173f5dd9b6",
   "metadata": {},
   "outputs": [
    {
     "data": {
      "text/plain": [
       "\"He's very nice\""
      ]
     },
     "execution_count": 105,
     "metadata": {},
     "output_type": "execute_result"
    }
   ],
   "source": [
    "s   # let's look at the printed representation, which is what Jupyter shows us"
   ]
  },
  {
   "cell_type": "code",
   "execution_count": 106,
   "id": "a32eaf14-c00a-4501-9bad-d5d836b98cc1",
   "metadata": {},
   "outputs": [
    {
     "name": "stdout",
     "output_type": "stream",
     "text": [
      "He's very nice\n"
     ]
    }
   ],
   "source": [
    "# a better solution: use double quotes, and then your single quote is safe\n",
    "\n",
    "s = \"He's very nice\"\n",
    "print(s)\n"
   ]
  },
  {
   "cell_type": "code",
   "execution_count": 107,
   "id": "c92d13d4-5963-4647-b215-619f0b741b91",
   "metadata": {},
   "outputs": [
    {
     "data": {
      "text/plain": [
       "\"He's very nice\""
      ]
     },
     "execution_count": 107,
     "metadata": {},
     "output_type": "execute_result"
    }
   ],
   "source": [
    "s"
   ]
  },
  {
   "cell_type": "code",
   "execution_count": 108,
   "id": "a062da7f-5e3f-48c8-8c9c-f96b2af42543",
   "metadata": {},
   "outputs": [
    {
     "data": {
      "text/plain": [
       "'She said, \"He\\'s very nice.\"'"
      ]
     },
     "execution_count": 108,
     "metadata": {},
     "output_type": "execute_result"
    }
   ],
   "source": [
    "# what happens if you have both types of quotes? One will need to be backslashed\n",
    "\n",
    "s = 'She said, \"He\\'s very nice.\"'\n",
    "s   # if we just ask for a variable's value in Jupyter, we see it in programmer form"
   ]
  },
  {
   "cell_type": "code",
   "execution_count": 110,
   "id": "ec846f04-f2ac-4365-b817-4c558978d5e5",
   "metadata": {},
   "outputs": [
    {
     "name": "stdout",
     "output_type": "stream",
     "text": [
      "She said, \"He's very nice.\"\n"
     ]
    }
   ],
   "source": [
    "print(s)  # printing a value makes it nicer, and turns special characters into printable ones"
   ]
  },
  {
   "cell_type": "code",
   "execution_count": 111,
   "id": "360b50e7-27b3-4632-a016-d367638c6eac",
   "metadata": {},
   "outputs": [
    {
     "data": {
      "text/plain": [
       "26"
      ]
     },
     "execution_count": 111,
     "metadata": {},
     "output_type": "execute_result"
    }
   ],
   "source": [
    "s = 'abcdefghijklmnopqrstuvwxyz'\n",
    "\n",
    "# how many characters are in s?\n",
    "# use the len() function\n",
    "len(s)"
   ]
  },
  {
   "cell_type": "code",
   "execution_count": 113,
   "id": "ed3c706c-90a4-4111-8781-806ccf991ea5",
   "metadata": {},
   "outputs": [
    {
     "data": {
      "text/plain": [
       "'a'"
      ]
     },
     "execution_count": 113,
     "metadata": {},
     "output_type": "execute_result"
    }
   ],
   "source": [
    "# how can I get the first character in s?\n",
    "s[0]  # square brackets, with an integer index in them"
   ]
  },
  {
   "cell_type": "code",
   "execution_count": 114,
   "id": "70860ad1-8a79-41d2-92dd-ab2d1a0cc28f",
   "metadata": {},
   "outputs": [
    {
     "data": {
      "text/plain": [
       "'b'"
      ]
     },
     "execution_count": 114,
     "metadata": {},
     "output_type": "execute_result"
    }
   ],
   "source": [
    "s[1]   "
   ]
  },
  {
   "cell_type": "code",
   "execution_count": 115,
   "id": "85f0908d-507e-4f1d-90b0-1a44d3bcf381",
   "metadata": {},
   "outputs": [
    {
     "data": {
      "text/plain": [
       "'k'"
      ]
     },
     "execution_count": 115,
     "metadata": {},
     "output_type": "execute_result"
    }
   ],
   "source": [
    "# can I use a variable instead of a number? Of course!\n",
    "i = 10\n",
    "s[i]"
   ]
  },
  {
   "cell_type": "code",
   "execution_count": 116,
   "id": "ba02d037-f349-4aae-b1fd-e757b83d26ff",
   "metadata": {},
   "outputs": [
    {
     "data": {
      "text/plain": [
       "'z'"
      ]
     },
     "execution_count": 116,
     "metadata": {},
     "output_type": "execute_result"
    }
   ],
   "source": [
    "# how can I get the final character in s?\n",
    "\n",
    "s[25]   # the straightforward way"
   ]
  },
  {
   "cell_type": "code",
   "execution_count": 117,
   "id": "48590000-f0f8-4b1e-8b93-e84ab442a86e",
   "metadata": {},
   "outputs": [
    {
     "data": {
      "text/plain": [
       "'z'"
      ]
     },
     "execution_count": 117,
     "metadata": {},
     "output_type": "execute_result"
    }
   ],
   "source": [
    "s[ len(s)-1 ]   # first calculate len(s), then remove 1, then use as an index"
   ]
  },
  {
   "cell_type": "code",
   "execution_count": 118,
   "id": "848a0098-b697-4f03-8bf7-d6020934b747",
   "metadata": {},
   "outputs": [],
   "source": [
    "# what happens if I try to use len without subtracting"
   ]
  },
  {
   "cell_type": "code",
   "execution_count": 119,
   "id": "c84524e9-31c9-4c81-827f-b62da0aa553c",
   "metadata": {},
   "outputs": [
    {
     "ename": "IndexError",
     "evalue": "string index out of range",
     "output_type": "error",
     "traceback": [
      "\u001b[0;31m---------------------------------------------------------------------------\u001b[0m",
      "\u001b[0;31mIndexError\u001b[0m                                Traceback (most recent call last)",
      "Cell \u001b[0;32mIn[119], line 1\u001b[0m\n\u001b[0;32m----> 1\u001b[0m \u001b[43ms\u001b[49m\u001b[43m[\u001b[49m\u001b[38;5;28;43mlen\u001b[39;49m\u001b[43m(\u001b[49m\u001b[43ms\u001b[49m\u001b[43m)\u001b[49m\u001b[43m]\u001b[49m\n",
      "\u001b[0;31mIndexError\u001b[0m: string index out of range"
     ]
    }
   ],
   "source": [
    "s[len(s)]"
   ]
  },
  {
   "cell_type": "code",
   "execution_count": 120,
   "id": "58c5a345-e15e-447c-bcc7-d7a4d56ce7ec",
   "metadata": {},
   "outputs": [
    {
     "data": {
      "text/plain": [
       "'x'"
      ]
     },
     "execution_count": 120,
     "metadata": {},
     "output_type": "execute_result"
    }
   ],
   "source": [
    "# what if I want to retrieve the 3rd character from the end?\n",
    "\n",
    "s[-3]   # use negative numbers, starting at -1, to retrieve from the right side"
   ]
  },
  {
   "cell_type": "code",
   "execution_count": 121,
   "id": "78bd75c3-bc95-4c71-be2f-8b4a460a3d13",
   "metadata": {},
   "outputs": [
    {
     "data": {
      "text/plain": [
       "'klmnopqrst'"
      ]
     },
     "execution_count": 121,
     "metadata": {},
     "output_type": "execute_result"
    }
   ],
   "source": [
    "# what if I want a bunch of characters from the string?\n",
    "\n",
    "# I can use a slice, which goes in []\n",
    "\n",
    "s[10:20]    # s, from index 10, up to and not including index 20"
   ]
  },
  {
   "cell_type": "code",
   "execution_count": 122,
   "id": "09916dad-e850-4960-a3e7-11c2bbccb761",
   "metadata": {},
   "outputs": [
    {
     "data": {
      "text/plain": [
       "'fghijklmnopqrstuvwxy'"
      ]
     },
     "execution_count": 122,
     "metadata": {},
     "output_type": "execute_result"
    }
   ],
   "source": [
    "s[5:25]    # s, from index 5, up to and not including index 25"
   ]
  },
  {
   "cell_type": "code",
   "execution_count": 124,
   "id": "34ba1825-606f-4ec0-9c32-2cd5a9126b16",
   "metadata": {},
   "outputs": [
    {
     "data": {
      "text/plain": [
       "'abcdefghij'"
      ]
     },
     "execution_count": 124,
     "metadata": {},
     "output_type": "execute_result"
    }
   ],
   "source": [
    "s[:10]     # s, from the beginning until (and not including) 10"
   ]
  },
  {
   "cell_type": "code",
   "execution_count": 125,
   "id": "7b00594a-81dc-4c7e-a696-ed78d20270a9",
   "metadata": {},
   "outputs": [
    {
     "data": {
      "text/plain": [
       "'klmnopqrstuvwxyz'"
      ]
     },
     "execution_count": 125,
     "metadata": {},
     "output_type": "execute_result"
    }
   ],
   "source": [
    "s[10:]    #s , from index 10 through the end"
   ]
  },
  {
   "cell_type": "code",
   "execution_count": 126,
   "id": "499fad6c-2747-4382-a24a-1376572a8886",
   "metadata": {},
   "outputs": [
    {
     "ename": "TypeError",
     "evalue": "'str' object does not support item assignment",
     "output_type": "error",
     "traceback": [
      "\u001b[0;31m---------------------------------------------------------------------------\u001b[0m",
      "\u001b[0;31mTypeError\u001b[0m                                 Traceback (most recent call last)",
      "Cell \u001b[0;32mIn[126], line 3\u001b[0m\n\u001b[1;32m      1\u001b[0m \u001b[38;5;66;03m# what if I want to change my string?\u001b[39;00m\n\u001b[0;32m----> 3\u001b[0m \u001b[43ms\u001b[49m\u001b[43m[\u001b[49m\u001b[38;5;241;43m0\u001b[39;49m\u001b[43m]\u001b[49m \u001b[38;5;241m=\u001b[39m \u001b[38;5;124m'\u001b[39m\u001b[38;5;124m!\u001b[39m\u001b[38;5;124m'\u001b[39m\n",
      "\u001b[0;31mTypeError\u001b[0m: 'str' object does not support item assignment"
     ]
    }
   ],
   "source": [
    "# what if I want to change my string?\n",
    "\n",
    "s[0] = '!'"
   ]
  },
  {
   "cell_type": "markdown",
   "id": "b26aee27-23c8-4280-bac5-6c0c224d80a5",
   "metadata": {},
   "source": [
    "# Strings are immutable!\n",
    "\n",
    "Once created, a string can never be modified. You can create a new string based on it, but you can't change an existing string."
   ]
  },
  {
   "cell_type": "markdown",
   "id": "2ebbcee3-585f-4130-8e43-ec022bdb472d",
   "metadata": {},
   "source": [
    "# Next up\n",
    "\n",
    "1. Creating strings -- triple-quoted strings, r-strings, and f-strings\n",
    "2. Special characters in strings\n",
    "3. Methods and string methods\n",
    "\n",
    "Resume at 1:30 p.m. Eastern"
   ]
  },
  {
   "cell_type": "code",
   "execution_count": 127,
   "id": "a64f117c-2b8a-4b93-8f1b-086bac00548c",
   "metadata": {},
   "outputs": [
    {
     "data": {
      "text/plain": [
       "'abcdefghijklmnopqrstuvwxyz'"
      ]
     },
     "execution_count": 127,
     "metadata": {},
     "output_type": "execute_result"
    }
   ],
   "source": [
    "s"
   ]
  },
  {
   "cell_type": "code",
   "execution_count": 128,
   "id": "ba12e7c4-4d4a-40f9-8b64-c5def6a6b6c7",
   "metadata": {},
   "outputs": [
    {
     "data": {
      "text/plain": [
       "'k'"
      ]
     },
     "execution_count": 128,
     "metadata": {},
     "output_type": "execute_result"
    }
   ],
   "source": [
    "# I can get any one character via [] and a single integer index\n",
    "s[10]"
   ]
  },
  {
   "cell_type": "code",
   "execution_count": 129,
   "id": "61dc667f-1601-46de-a64f-c6719406047a",
   "metadata": {},
   "outputs": [
    {
     "data": {
      "text/plain": [
       "'klmno'"
      ]
     },
     "execution_count": 129,
     "metadata": {},
     "output_type": "execute_result"
    }
   ],
   "source": [
    "# I can get any substring via [] and a \"slice\" with a starting index and\n",
    "# and ending index. Always in Python, the ending index is \"up to and not including.\"\n",
    "\n",
    "s[10:15]   # start with index 10, go up to and not including index 15"
   ]
  },
  {
   "cell_type": "code",
   "execution_count": 130,
   "id": "7118c447-344a-4404-a69d-9472108af111",
   "metadata": {},
   "outputs": [
    {
     "data": {
      "text/plain": [
       "'pqrstuvwxyz'"
      ]
     },
     "execution_count": 130,
     "metadata": {},
     "output_type": "execute_result"
    }
   ],
   "source": [
    "# that's why if you want \"through the end\" you need to leave off the ending index\n",
    "\n",
    "s[15:]  "
   ]
  },
  {
   "cell_type": "code",
   "execution_count": 131,
   "id": "38b19feb-df7d-4100-841e-588eb6025c8c",
   "metadata": {},
   "outputs": [
    {
     "data": {
      "text/plain": [
       "'pqrstuvwxy'"
      ]
     },
     "execution_count": 131,
     "metadata": {},
     "output_type": "execute_result"
    }
   ],
   "source": [
    "s[15:25]   # now it'll be up to and not including the final character"
   ]
  },
  {
   "cell_type": "code",
   "execution_count": 132,
   "id": "c78a27a3-c414-4bb5-ac8b-444c09717d6f",
   "metadata": {},
   "outputs": [
    {
     "data": {
      "text/plain": [
       "'pqrstuvwxyz'"
      ]
     },
     "execution_count": 132,
     "metadata": {},
     "output_type": "execute_result"
    }
   ],
   "source": [
    "# we could use a little trick -- when we're using slices,\n",
    "# Python doesn't enforce boundaries\n",
    "\n",
    "s[15:1000]"
   ]
  },
  {
   "cell_type": "code",
   "execution_count": 133,
   "id": "5556d25a-30db-4c5a-8964-949caa905230",
   "metadata": {},
   "outputs": [
    {
     "data": {
      "text/plain": [
       "True"
      ]
     },
     "execution_count": 133,
     "metadata": {},
     "output_type": "execute_result"
    }
   ],
   "source": [
    "# let's search in a string using \"in\"\n",
    "\n",
    "'j' in s     # this will return True or False"
   ]
  },
  {
   "cell_type": "code",
   "execution_count": 134,
   "id": "b5f7d6dd-1eff-410c-9533-e6d7f4addccc",
   "metadata": {},
   "outputs": [
    {
     "data": {
      "text/plain": [
       "False"
      ]
     },
     "execution_count": 134,
     "metadata": {},
     "output_type": "execute_result"
    }
   ],
   "source": [
    "'!' in s"
   ]
  },
  {
   "cell_type": "code",
   "execution_count": 135,
   "id": "630b985b-ec22-4d62-8816-f6d6265cc247",
   "metadata": {},
   "outputs": [
    {
     "ename": "TypeError",
     "evalue": "'in <string>' requires string as left operand, not int",
     "output_type": "error",
     "traceback": [
      "\u001b[0;31m---------------------------------------------------------------------------\u001b[0m",
      "\u001b[0;31mTypeError\u001b[0m                                 Traceback (most recent call last)",
      "Cell \u001b[0;32mIn[135], line 1\u001b[0m\n\u001b[0;32m----> 1\u001b[0m \u001b[38;5;241;43m5\u001b[39;49m\u001b[43m \u001b[49m\u001b[38;5;129;43;01min\u001b[39;49;00m\u001b[43m \u001b[49m\u001b[43ms\u001b[49m\n",
      "\u001b[0;31mTypeError\u001b[0m: 'in <string>' requires string as left operand, not int"
     ]
    }
   ],
   "source": [
    "5 in s"
   ]
  },
  {
   "cell_type": "code",
   "execution_count": 136,
   "id": "35811833-169b-440e-9a4f-97f4cfa887e2",
   "metadata": {},
   "outputs": [
    {
     "data": {
      "text/plain": [
       "True"
      ]
     },
     "execution_count": 136,
     "metadata": {},
     "output_type": "execute_result"
    }
   ],
   "source": [
    "# we can search for multiple characters\n",
    "# we'll get True back if they're all in the target string, in a row\n",
    "\n",
    "'qrst' in s"
   ]
  },
  {
   "cell_type": "code",
   "execution_count": 137,
   "id": "10f7f087-6433-400c-a114-b1167edae5d5",
   "metadata": {},
   "outputs": [
    {
     "data": {
      "text/plain": [
       "False"
      ]
     },
     "execution_count": 137,
     "metadata": {},
     "output_type": "execute_result"
    }
   ],
   "source": [
    "'qst' in s"
   ]
  },
  {
   "cell_type": "code",
   "execution_count": 138,
   "id": "50ff081a-d35c-4744-8f98-07d2f2cbc600",
   "metadata": {},
   "outputs": [
    {
     "ename": "SyntaxError",
     "evalue": "unterminated string literal (detected at line 4) (3269024418.py, line 4)",
     "output_type": "error",
     "traceback": [
      "\u001b[0;36m  Cell \u001b[0;32mIn[138], line 4\u001b[0;36m\u001b[0m\n\u001b[0;31m    s = 'abcd\u001b[0m\n\u001b[0m        ^\u001b[0m\n\u001b[0;31mSyntaxError\u001b[0m\u001b[0;31m:\u001b[0m unterminated string literal (detected at line 4)\n"
     ]
    }
   ],
   "source": [
    "# we've seen that we can create strings with '' and \"\"\n",
    "# what if I want to have a newline character in my string?\n",
    "\n",
    "s = 'abcd\n",
    "efgh'"
   ]
  },
  {
   "cell_type": "code",
   "execution_count": 139,
   "id": "961397f4-d0b9-4231-aa6a-8691cd7d24f0",
   "metadata": {},
   "outputs": [
    {
     "name": "stdout",
     "output_type": "stream",
     "text": [
      "abcd\n",
      "efgh\n"
     ]
    }
   ],
   "source": [
    "# how can I do this? I use \\n, two characters together that represent a newline\n",
    "s = 'abcd\\nefgh'\n",
    "print(s)"
   ]
  },
  {
   "cell_type": "code",
   "execution_count": 140,
   "id": "354242ab-8644-47ad-9183-a400d3e86e99",
   "metadata": {},
   "outputs": [
    {
     "data": {
      "text/plain": [
       "9"
      ]
     },
     "execution_count": 140,
     "metadata": {},
     "output_type": "execute_result"
    }
   ],
   "source": [
    "len(s)  # how many characters are in s?"
   ]
  },
  {
   "cell_type": "markdown",
   "id": "0851eb1b-1ff5-4c3b-99d2-67263de2e3e7",
   "metadata": {},
   "source": [
    "# Some other special characters\n",
    "\n",
    "- `\\n` -- newline\n",
    "- `\\t` -- tab\n",
    "- `\\r` -- carriage return (you probably won't ever use it)\n",
    "\n",
    "Any time you have \\ followed by a character, it might just show the character and it might use a special character -- you have to be careful!"
   ]
  },
  {
   "cell_type": "code",
   "execution_count": 141,
   "id": "fe4e5564-a970-4609-b0f8-2a61325e4264",
   "metadata": {},
   "outputs": [
    {
     "name": "stdout",
     "output_type": "stream",
     "text": [
      "c:\u0007bcd\\efgh\\ijkl\n"
     ]
    }
   ],
   "source": [
    "# let's say I'm working on Windows, and I want to work with this file:\n",
    "path = 'c:\\abcd\\efgh\\ijkl'\n",
    "\n",
    "print(path)\n"
   ]
  },
  {
   "cell_type": "code",
   "execution_count": 142,
   "id": "4329edf2-4c33-4d37-a809-e3d615e4f4f7",
   "metadata": {},
   "outputs": [
    {
     "name": "stdout",
     "output_type": "stream",
     "text": [
      "c:\\abcd\\efgh\\ijkl\n"
     ]
    }
   ],
   "source": [
    "# how can we avoid accidentally inserting special characters into our strings?\n",
    "# (1) don't use backslashes\n",
    "# (2) if you use backslashes, double them to escape them\n",
    "\n",
    "path = 'c:\\\\abcd\\\\efgh\\\\ijkl'\n",
    "print(path)\n"
   ]
  },
  {
   "cell_type": "code",
   "execution_count": 143,
   "id": "a972039c-ff98-41d7-b0bf-b34e3f688eff",
   "metadata": {},
   "outputs": [
    {
     "name": "stdout",
     "output_type": "stream",
     "text": [
      "c:\\abcd\\efgh\\ijkl\n"
     ]
    }
   ],
   "source": [
    "# what a pain!\n",
    "# I can instead use a \"raw string\" in Python, which auto-doubles the backslashes\n",
    "# then your string won't have any special characters, which is fine\n",
    "\n",
    "# put a little r before the opening quote, and you get a \"raw string\"\n",
    "\n",
    "path = r'c:\\abcd\\efgh\\ijkl'\n",
    "print(path)\n"
   ]
  },
  {
   "cell_type": "code",
   "execution_count": 144,
   "id": "e6b27ccc-3e88-4d37-8f28-32d325763dc9",
   "metadata": {},
   "outputs": [
    {
     "data": {
      "text/plain": [
       "'c:\\\\abcd\\\\efgh\\\\ijkl'"
      ]
     },
     "execution_count": 144,
     "metadata": {},
     "output_type": "execute_result"
    }
   ],
   "source": [
    "path"
   ]
  },
  {
   "cell_type": "code",
   "execution_count": 145,
   "id": "ffd80650-28f4-42f0-931f-7591e5398224",
   "metadata": {},
   "outputs": [
    {
     "data": {
      "text/plain": [
       "5"
      ]
     },
     "execution_count": 145,
     "metadata": {},
     "output_type": "execute_result"
    }
   ],
   "source": [
    "# we've seen that if we have a string and want an int, we can call int()\n",
    "int('5')"
   ]
  },
  {
   "cell_type": "code",
   "execution_count": 146,
   "id": "ef7a3917-3777-4e0b-845b-57063f02673b",
   "metadata": {},
   "outputs": [
    {
     "data": {
      "text/plain": [
       "5.0"
      ]
     },
     "execution_count": 146,
     "metadata": {},
     "output_type": "execute_result"
    }
   ],
   "source": [
    "float('5')"
   ]
  },
  {
   "cell_type": "code",
   "execution_count": 147,
   "id": "58e12f2e-a698-4800-a193-0d6b0b77d970",
   "metadata": {},
   "outputs": [
    {
     "data": {
      "text/plain": [
       "'1234'"
      ]
     },
     "execution_count": 147,
     "metadata": {},
     "output_type": "execute_result"
    }
   ],
   "source": [
    "# we can similarly call str() on something and get a string back based on its value\n",
    "str(1234)"
   ]
  },
  {
   "cell_type": "code",
   "execution_count": 148,
   "id": "b7cb6f2b-b74c-442b-a584-f23f7bfe8146",
   "metadata": {},
   "outputs": [
    {
     "name": "stdout",
     "output_type": "stream",
     "text": [
      "x = 100, y = 234.\n"
     ]
    }
   ],
   "source": [
    "# if I want to print a bunch of integers along with text, I can try this:\n",
    "\n",
    "x = 100\n",
    "y = 234\n",
    "\n",
    "print('x = ' + str(x) + ', y = ' + str(y) + '.')"
   ]
  },
  {
   "cell_type": "code",
   "execution_count": 149,
   "id": "cca86808-38e4-415e-8e14-9088664f9234",
   "metadata": {},
   "outputs": [
    {
     "data": {
      "text/plain": [
       "'x = 100, y = 234'"
      ]
     },
     "execution_count": 149,
     "metadata": {},
     "output_type": "execute_result"
    }
   ],
   "source": [
    "# unfortunately, this works.\n",
    "# we can (and should!) instead use f-strings (short for fancy strings, or format strings)\n",
    "\n",
    "# before the string's opening quote, put a lowercase f\n",
    "# the string then behaves just like a regular string *EXCEPT* that you can put\n",
    "# Python expressions (i.e., variables and operations) inside of {} in the f-string\n",
    "# they will be replaced by the expressions' values.\n",
    "\n",
    "x = 100\n",
    "y = 234\n",
    "\n",
    "f'x = {x}, y = {y}'"
   ]
  },
  {
   "cell_type": "code",
   "execution_count": 150,
   "id": "bcbf4206-363d-4683-9c3a-20ad6461e053",
   "metadata": {},
   "outputs": [
    {
     "data": {
      "text/plain": [
       "'x = 100, y = 234, x+y = 334'"
      ]
     },
     "execution_count": 150,
     "metadata": {},
     "output_type": "execute_result"
    }
   ],
   "source": [
    "f'x = {x}, y = {y}, x+y = {x+y}'"
   ]
  },
  {
   "cell_type": "code",
   "execution_count": 151,
   "id": "641a6852-81ca-4599-a1a6-9afa64182acd",
   "metadata": {},
   "outputs": [],
   "source": [
    "# there is no connection between f-strings and print\n",
    "# f-strings are just a really convenient way to create a string\n",
    "# but very often, the result of creating an f-string is passed to print as an argument"
   ]
  },
  {
   "cell_type": "code",
   "execution_count": 152,
   "id": "2b608b44-3b41-4f35-91ba-b25ede7caf62",
   "metadata": {},
   "outputs": [
    {
     "name": "stdout",
     "output_type": "stream",
     "text": [
      "abcd\n",
      "efgh\n",
      "ijkl\n"
     ]
    }
   ],
   "source": [
    "# one last type of string we can create:\n",
    "# if we want a string with newlines, we can (as we saw) use \\n\n",
    "# but what if we have a really long string across multiple paragraphs?\n",
    "# it's really annoying to use \\n there. We can instead use \"triple-quoted strings.\"\n",
    "\n",
    "s = '''abcd\n",
    "efgh\n",
    "ijkl'''   # you can use ''' or \"\"\"\n",
    "\n",
    "print(s)"
   ]
  },
  {
   "cell_type": "code",
   "execution_count": 153,
   "id": "7336db4e-465f-43d1-b798-045f20cf629a",
   "metadata": {},
   "outputs": [
    {
     "data": {
      "text/plain": [
       "'abcd\\nefgh\\nijkl'"
      ]
     },
     "execution_count": 153,
     "metadata": {},
     "output_type": "execute_result"
    }
   ],
   "source": [
    "# if I look at the string.....\n",
    "s"
   ]
  },
  {
   "cell_type": "markdown",
   "id": "f269612d-f505-423d-bbdd-e1fdd891fc7a",
   "metadata": {},
   "source": [
    "# Exercise: Pig Latin\n",
    "\n",
    "To translate a word from English into Pig Latin, check the first letter of the word.\n",
    "\n",
    "1. If the word starts with a vowel (a, e, i, o, or u) then we add `way` to the word.\n",
    "2. In other cases, we move the first letter to the end of the word, then add `ay`.\n",
    "\n",
    "I want you to ask the user to enter a word in English -- no puncutation, all lowercase, one word. The program should look at the first letter, and based on that, print a translation into Pig Latin.\n",
    "\n",
    "Examples:\n",
    "- computer -> omputercay\n",
    "- elephant -> elephantway\n",
    "- octopus -> octopusway\n",
    "- papaya -> apayapay\n",
    "\n",
    "Some things to remember:\n",
    "- Strings are immutable, so you cannot change them. But you can extract parts of them and use those parts to create a new string.\n",
    "- You can use `if` and all of its friends\n",
    "- You can search with `in`\n",
    "- You can retrieve one character with `s[i]`\n",
    "- You can retrieve a slice with `s[start:stop]`"
   ]
  },
  {
   "cell_type": "code",
   "execution_count": 156,
   "id": "0a6d9cf3-5991-46da-a387-07efe0671ebe",
   "metadata": {},
   "outputs": [
    {
     "name": "stdin",
     "output_type": "stream",
     "text": [
      "Enter a word:  centipede\n"
     ]
    }
   ],
   "source": [
    "word = input('Enter a word: ')\n",
    "\n",
    "vowels = 'aeiou'\n",
    "\n",
    "# does the word start with a vowel?\n",
    "# is word[0] a vowel? \n",
    "\n",
    "if (word[0] == 'a' or\n",
    "    word[0] == 'e' or\n",
    "    word[0] == 'i' or\n",
    "    word[0] == 'o' or\n",
    "    word[0] == 'u'):\n",
    "    print(word + 'way')"
   ]
  },
  {
   "cell_type": "code",
   "execution_count": null,
   "id": "759217d0-0ea2-4022-84eb-17c4e27bc4cc",
   "metadata": {},
   "outputs": [],
   "source": [
    "# this doesn't do the right thing -- why not?\n",
    "# because \"or\" separates True/False values\n",
    "# \"or\" looks to its left for True/False and looks to its right for True/False\n",
    "# if you have a value that isn't True/False, then Python forces it to be True/False\n",
    "# everything is considered True in Python, except for 0 and empty strings\n",
    "\n",
    "# this code will *ALWAYS* claim that a word starts with a vowel\n",
    "if word[0] == 'a' or 'e' or 'i' or 'o' or 'u':\n",
    "    print(word + 'way')"
   ]
  },
  {
   "cell_type": "code",
   "execution_count": null,
   "id": "f9712959-242a-4758-b72c-f80192501084",
   "metadata": {},
   "outputs": [],
   "source": [
    "# in my opinion, the \"most Pythonic\" way to do this is with a string of vowels\n",
    "# and with the \"in\" operator\n",
    "\n",
    "if word[0] in 'aeiou':    # we could instead use the \"vowels\" variable I defined above\n",
    "    print(word + 'way')"
   ]
  },
  {
   "cell_type": "code",
   "execution_count": 157,
   "id": "7184373e-7cf8-4365-baad-a2397b5a3560",
   "metadata": {},
   "outputs": [
    {
     "data": {
      "text/plain": [
       "'aeiou'"
      ]
     },
     "execution_count": 157,
     "metadata": {},
     "output_type": "execute_result"
    }
   ],
   "source": [
    "vowels "
   ]
  },
  {
   "cell_type": "code",
   "execution_count": 158,
   "id": "5dd65ffb-a53f-4ce2-bbc3-8e3293d1c9af",
   "metadata": {},
   "outputs": [
    {
     "data": {
      "text/plain": [
       "'aeiou'"
      ]
     },
     "execution_count": 158,
     "metadata": {},
     "output_type": "execute_result"
    }
   ],
   "source": [
    "vowels[0:]"
   ]
  },
  {
   "cell_type": "code",
   "execution_count": 159,
   "id": "72b98141-78af-4fc5-acb1-a17e5f0744bd",
   "metadata": {},
   "outputs": [
    {
     "data": {
      "text/plain": [
       "'aeiou'"
      ]
     },
     "execution_count": 159,
     "metadata": {},
     "output_type": "execute_result"
    }
   ],
   "source": [
    "vowels[0:1000]"
   ]
  },
  {
   "cell_type": "code",
   "execution_count": 160,
   "id": "6a4a68ed-4e89-4023-b040-c715d920695e",
   "metadata": {},
   "outputs": [],
   "source": [
    "vowels = ('aeiou')  # this is actually THE SAME THING as vowels = 'aeiou'"
   ]
  },
  {
   "cell_type": "code",
   "execution_count": 162,
   "id": "efda5570-a6cd-4b5c-8195-fb4bf8332232",
   "metadata": {},
   "outputs": [
    {
     "name": "stdout",
     "output_type": "stream",
     "text": [
      "omputercay\n"
     ]
    }
   ],
   "source": [
    "# if the word doesn't start with a vowel, then we want to move the first\n",
    "# letter to the end, and add \"ay\"\n",
    "\n",
    "# we'll have to create a new string based on \"word\", with:\n",
    "# - all but the first letter\n",
    "# - the first letter\n",
    "# - ay\n",
    "\n",
    "word = 'computer'\n",
    "print(word[1:] + word[0] + \"ay\")"
   ]
  },
  {
   "cell_type": "code",
   "execution_count": 163,
   "id": "80929f88-1a32-438c-84b9-8eed5f341b57",
   "metadata": {},
   "outputs": [
    {
     "name": "stdout",
     "output_type": "stream",
     "text": [
      "omputercay\n"
     ]
    }
   ],
   "source": [
    "new_word = word[1:] + word[0] + 'ay'\n",
    "print(new_word)\n"
   ]
  },
  {
   "cell_type": "code",
   "execution_count": 165,
   "id": "564b85f3-fb2b-4723-8fe5-9d191c4dc1ed",
   "metadata": {},
   "outputs": [
    {
     "data": {
      "text/plain": [
       "'omputercay'"
      ]
     },
     "execution_count": 165,
     "metadata": {},
     "output_type": "execute_result"
    }
   ],
   "source": [
    "# if you want, you can use an f-string here\n",
    "# this f-string has:\n",
    "# - {word[1:]} -- all but the first letter\n",
    "# - {word[0]} -- first letter\n",
    "# - ay\n",
    "f'{word[1:]}{word[0]}ay'"
   ]
  },
  {
   "cell_type": "code",
   "execution_count": 167,
   "id": "da4f5cb9-3b9e-46f1-a1c6-66bafcea7729",
   "metadata": {},
   "outputs": [
    {
     "name": "stdin",
     "output_type": "stream",
     "text": [
      "Enter a word:  teacup\n"
     ]
    },
    {
     "name": "stdout",
     "output_type": "stream",
     "text": [
      "eacuptay\n"
     ]
    }
   ],
   "source": [
    "# final version (I think)\n",
    "\n",
    "word = input('Enter a word: ')\n",
    "\n",
    "if word[0] in 'aeiou':\n",
    "    print(word + 'way')\n",
    "else:\n",
    "    print(word[1:] + word[0] + 'ay')"
   ]
  },
  {
   "cell_type": "code",
   "execution_count": 168,
   "id": "daa00a48-7bf1-414c-b03c-46782a343a36",
   "metadata": {},
   "outputs": [
    {
     "data": {
      "text/plain": [
       "'abcdefgh'"
      ]
     },
     "execution_count": 168,
     "metadata": {},
     "output_type": "execute_result"
    }
   ],
   "source": [
    "# strings are immutable, but...\n",
    "\n",
    "s = 'abcd'\n",
    "s += 'efgh'\n",
    "\n",
    "s  # look! s changed!"
   ]
  },
  {
   "cell_type": "markdown",
   "id": "32347fb2-e400-4aa6-9226-292ea761c5e7",
   "metadata": {},
   "source": [
    "# What happened there?\n",
    "\n",
    "1. On line 3, we created a string ('abcd') and assigned it to s.\n",
    "2. On line 4, we created a new string ('abcd' + 'efgh' = 'abcdefgh'), and then assigned that new string back to s.\n",
    "\n",
    "This means that in lines 3 + 4, we created two totally separate strings. We assigned the first to s, and then the second to s."
   ]
  },
  {
   "cell_type": "code",
   "execution_count": 169,
   "id": "7e307a23-849e-49eb-aea9-3bdf94f41c03",
   "metadata": {},
   "outputs": [
    {
     "name": "stdout",
     "output_type": "stream",
     "text": [
      "abcd\n"
     ]
    }
   ],
   "source": [
    "x = 'abcd'\n",
    "\n",
    "# the below line means:\n",
    "# (1) find the current value of x\n",
    "# (2) assign y to the current value of x\n",
    "# when we say \"y = x\", we are NOT saying that y should keep track of x's value and change with it\n",
    "y = x       # y and x refer to the same string\n",
    "\n",
    "x += 'efgh'  # the same as saying: x = x + 'efgh'\n",
    "\n",
    "print(y)     # y is still referring back to 'abcd'! "
   ]
  },
  {
   "cell_type": "code",
   "execution_count": 170,
   "id": "c3bb72e7-2d3f-4fee-b87d-63208bdcfc21",
   "metadata": {},
   "outputs": [
    {
     "name": "stdout",
     "output_type": "stream",
     "text": [
      "abcdefgh\n"
     ]
    }
   ],
   "source": [
    "# variation \n",
    "\n",
    "x = 'abcd'\n",
    "\n",
    "# the below line means:\n",
    "# (1) find the current value of x\n",
    "# (2) assign y to the current value of x\n",
    "# when we say \"y = x\", we are NOT saying that y should keep track of x's value and change with it\n",
    "y = x       # y and x refer to the same string\n",
    "\n",
    "x += 'efgh'  # the same as saying: x = x + 'efgh'\n",
    "\n",
    "y = x        # find out x's current value and assign y to that -- now x and y are the same\n",
    "print(y)\n"
   ]
  },
  {
   "cell_type": "markdown",
   "id": "28b6a212-6b04-4d2b-80f2-47fbbe942f44",
   "metadata": {},
   "source": [
    "# Functions and methods\n",
    "\n",
    "I said before that functions are the verbs of a programming language. We've seen a bunch of functions so far:\n",
    "\n",
    "- `print`\n",
    "- `input`\n",
    "- `len`\n",
    "\n",
    "We can invoke one of these functions, and get a value back and/or printed on the screen.\n",
    "\n",
    "Not all functions are appropriate for all data. We can call `print` on anything, but `input` only gets a string argument. `len` works with many types of data, but right now, we only know about strings.\n",
    "\n",
    "There is another type of verb in Python, known as a \"method.\" Methods are functions that are tied directly to objects, or to types. That way, you don't have to remember which method runs on which object. Rather, you can just invoke it.  Methods allow us to organize our functions more logically.\n",
    "\n",
    "Normally, if I call a function, it looks like\n",
    "\n",
    "    FUNC(DATA)\n",
    "\n",
    "If there are additional arguments, then it'll look like this:\n",
    "\n",
    "    FUNC(DATA, ARG2, ARG3)\n",
    "\n",
    "In a method, things look like this:\n",
    "\n",
    "    DATA.METHOD()\n",
    "\n",
    "Or with arguments:\n",
    "\n",
    "    DATA.METHOD(ARG2, ARG3)\n",
    "\n",
    "Most verbs in Python are actually methods, not functions. \n",
    "\n",
    "What methods are available? Here are some really useful ones."
   ]
  },
  {
   "cell_type": "code",
   "execution_count": 172,
   "id": "77207f0b-1e09-4434-b95c-a58d42163def",
   "metadata": {},
   "outputs": [
    {
     "name": "stdin",
     "output_type": "stream",
     "text": [
      "Enter your name:                 Reuven           \n"
     ]
    },
    {
     "name": "stdout",
     "output_type": "stream",
     "text": [
      "Hello,                Reuven           !\n"
     ]
    }
   ],
   "source": [
    "# example 1: getting a user's name\n",
    "\n",
    "name = input('Enter your name: ')\n",
    "print(f'Hello, {name}!')"
   ]
  },
  {
   "cell_type": "code",
   "execution_count": 173,
   "id": "18147a01-e392-4389-904e-67d9a666f950",
   "metadata": {},
   "outputs": [
    {
     "data": {
      "text/plain": [
       "32"
      ]
     },
     "execution_count": 173,
     "metadata": {},
     "output_type": "execute_result"
    }
   ],
   "source": [
    "len(name)"
   ]
  },
  {
   "cell_type": "code",
   "execution_count": 174,
   "id": "530410b0-94c1-4f04-99c0-271c2b9d76f6",
   "metadata": {},
   "outputs": [
    {
     "name": "stdin",
     "output_type": "stream",
     "text": [
      "Enter your name:         Reuven        \n"
     ]
    },
    {
     "name": "stdout",
     "output_type": "stream",
     "text": [
      "Hello, Reuven!\n"
     ]
    }
   ],
   "source": [
    "# what I want to do is remove the whitespace (spaces + tabs + \\n + \\r)\n",
    "# from the outside of the string.\n",
    "\n",
    "# I can use the \"strip\" method for that. It can't change the string,\n",
    "# because nothing can change a string, because strings are immutable! But we\n",
    "# can get a new string back, one without spaces on the outside.\n",
    "\n",
    "name = input('Enter your name: ')\n",
    "name = name.strip()         # assign the new, stripped string back to the same \"name\" variable\n",
    "print(f'Hello, {name}!')"
   ]
  },
  {
   "cell_type": "code",
   "execution_count": 175,
   "id": "0a66336b-717c-4ea2-86e6-33df6c18f6db",
   "metadata": {},
   "outputs": [
    {
     "name": "stdin",
     "output_type": "stream",
     "text": [
      "Enter your name:       Reuven      \n"
     ]
    },
    {
     "name": "stdout",
     "output_type": "stream",
     "text": [
      "Hello, Reuven!\n"
     ]
    }
   ],
   "source": [
    "# here's an even easier way to do the same thing:\n",
    "\n",
    "# input returns a string\n",
    "# strip is a string method, and can be run on all strings\n",
    "# this includes the anonymous string we got back from input\n",
    "# *BEFORE* it is assigned to name!\n",
    "\n",
    "name = input('Enter your name: ').strip()\n",
    "print(f'Hello, {name}!')"
   ]
  },
  {
   "cell_type": "code",
   "execution_count": 176,
   "id": "a5b55026-09d5-4083-9365-775a091cdbe1",
   "metadata": {},
   "outputs": [
    {
     "data": {
      "text/plain": [
       "'a       b     c'"
      ]
     },
     "execution_count": 176,
     "metadata": {},
     "output_type": "execute_result"
    }
   ],
   "source": [
    "# strip removes whitespace only from the outside!\n",
    "\n",
    "s = '      a       b     c     '\n",
    "s.strip()"
   ]
  },
  {
   "cell_type": "code",
   "execution_count": 177,
   "id": "ede988be-01a6-41bc-90a8-9b429e8e2f79",
   "metadata": {},
   "outputs": [
    {
     "data": {
      "text/plain": [
       "'abcd efgh'"
      ]
     },
     "execution_count": 177,
     "metadata": {},
     "output_type": "execute_result"
    }
   ],
   "source": [
    "# capitalization methods\n",
    "\n",
    "s = 'aBcD eFgH'\n",
    "s.lower()   # returns a new string, based on s, with all lowercase"
   ]
  },
  {
   "cell_type": "code",
   "execution_count": null,
   "id": "f037df62-273b-4ff9-b0d0-084099d81a71",
   "metadata": {},
   "outputs": [],
   "source": []
  }
 ],
 "metadata": {
  "kernelspec": {
   "display_name": "Python 3 (ipykernel)",
   "language": "python",
   "name": "python3"
  },
  "language_info": {
   "codemirror_mode": {
    "name": "ipython",
    "version": 3
   },
   "file_extension": ".py",
   "mimetype": "text/x-python",
   "name": "python",
   "nbconvert_exporter": "python",
   "pygments_lexer": "ipython3",
   "version": "3.10.12"
  }
 },
 "nbformat": 4,
 "nbformat_minor": 5
}
