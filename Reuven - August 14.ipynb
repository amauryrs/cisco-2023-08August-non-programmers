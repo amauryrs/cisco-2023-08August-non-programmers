{
 "cells": [
  {
   "cell_type": "markdown",
   "id": "e60e9535-0743-49f9-9952-3761cdc4e0b6",
   "metadata": {},
   "source": [
    "# Agenda\n",
    "\n",
    "1. What is programming? What is Python?\n",
    "2. Basic functionality in Python (Monday)\n",
    "    - Values\n",
    "    - Variables and assignment\n",
    "    - Different types (intro to)\n",
    "    - Conditions and `if`\n",
    "    - Input from the user\n",
    "    - Output to the user\n",
    "3. Data structures (Monday-Tuesday-Wednesday)\n",
    "    - Numbers (integers and floats)\n",
    "    - Text strings\n",
    "    - Loops (`for` and `while`)\n",
    "    - Lists\n",
    "    - Strings to lists, and back\n",
    "    - Tuples and tuple unpacking\n",
    "    - Dictionaries\n",
    "    - Files (plain-text files, both reading from and writing to them)\n",
    "4. Installing Python + PyCharm on your computer (Wednesday afternoon)\n",
    "5. Functions\n",
    "    - What are functions?\n",
    "    - Writing our own functions\n",
    "    - Arguments and parameters\n",
    "6. Modules and packages\n",
    "    - Using modules in the Python standard library with `import`\n",
    "    - Downloading modules from PyPI with `pip` and using them\n",
    "    - Use the `requests` module to retrieve from a JSON API, turn it into Python data structures, and print it out / make sense of it."
   ]
  },
  {
   "cell_type": "markdown",
   "id": "baf25059-4bf9-4ca5-b26e-32e64f9962fe",
   "metadata": {},
   "source": [
    "# Quick tour of Jupyter\n",
    "\n",
    "Jupyter gives you the illusion that you're running Python code in the browser. In actuality, the browser is the client and it talks to a Python server -- which can be on the same computer, or can be elsewhere.  For our course, I set up a VM at Digital Ocean running a Jupyter server.\n",
    "\n",
    "When you run Jupyter, you're interacting with the browser, and it figures out how to talk to Python on the back end.\n",
    "\n",
    "Everything in Jupyter is done in a *cell*. Every cell has two modes of input:\n",
    "\n",
    "- Edit mode, which I'm using now to type this: You'll see a white background in the cell, and anything I type goes into the cell. I can enter edit mode by clicking in the cell or by pressing ENTER.\n",
    "- Command mode, where anything you type is sent as a command to Jupyter, rather than entered into the text of the cell. You can enter command mode by clicking to the left of a cell or by pressing ESC.\n",
    "\n",
    "I can press shift+ENTER together to \"finalize\" a cell, whether it contains Markdown text or code.\n",
    "\n",
    "What commands do you have in command mode?\n",
    "- `x` -- cuts the current cell\n",
    "- `c` -- copies the current cell\n",
    "- `v` -- pastes the most recently cut or copied cell\n",
    "- `m` -- turn the cell into markdown (for formatted text)\n",
    "- `y` -- turn the cell into Python code\n",
    "- `a` -- add a new cell above the current one\n",
    "- `b` -- add a new cell below the current one"
   ]
  },
  {
   "cell_type": "code",
   "execution_count": 1,
   "id": "a3464e0b-adf3-4917-bc3f-7d44f1f35d2f",
   "metadata": {},
   "outputs": [
    {
     "name": "stdout",
     "output_type": "stream",
     "text": [
      "Hello!\n"
     ]
    }
   ],
   "source": [
    "print('Hello!')"
   ]
  },
  {
   "cell_type": "markdown",
   "id": "ec23b3ba-36ce-4077-9354-0afd0e741a14",
   "metadata": {},
   "source": [
    "# Exercise: Set up a Jupyter notebook\n",
    "\n",
    "1. Go to http://python.lerner.co.il:8888 . This is the main Jupyter notebook page.\n",
    "2. Click on \"new\" and then \"notebook\" to create a new Jupyter notebook.\n",
    "3. It'll give you a new, blank notebook. Click on the title to change it to be your name + today's date.\n",
    "4. Inside of a cell, try some super simple Python code, such as `2 + 3` or `print('Hello')`. Run it with shift + Enter.\n",
    "\n",
    "When you're done, raise your virtual hand in WebEx, to let me know."
   ]
  },
  {
   "cell_type": "markdown",
   "id": "bb4a2d67-1229-4848-8168-f1997d8f2819",
   "metadata": {},
   "source": [
    "# What is a programming language? What is Python?\n",
    "\n",
    "Any programming language can be used for any task. But each language is optimized for slightly different things. Python executes more slowly than C, Java, and C#. It's used in a number of places:\n",
    "\n",
    "- #1 language in data science and machine learning\n",
    "- Web development\n",
    "- Devops and system administration\n",
    "- APIs (creation and consumption)\n",
    "- Education\n",
    "- Finance"
   ]
  },
  {
   "cell_type": "code",
   "execution_count": 2,
   "id": "6dfd2606-ea55-4fb6-8d85-b7737aab5316",
   "metadata": {},
   "outputs": [
    {
     "name": "stdout",
     "output_type": "stream",
     "text": [
      "Hello!\n"
     ]
    }
   ],
   "source": [
    "# this is a comment, starting with #\n",
    "# from # to the end of the line, Python will ignore it -- this is for people, not Python\n",
    "\n",
    "# I'm calling/executing the function \"print\" -- functions are the verbs of a programming language\n",
    "# In Python, we can display anything on the screen with print\n",
    "# I put the thing I want to display inside of round parentheses\n",
    "# Here, the value I want to print is a text string, so I put it in quotes\n",
    "# (There is no difference between single quotes and double quotes in Python. Use whichever you want.)\n",
    "\n",
    "# After writing this code, I can execute the contents of the cell with shift+ENTER\n",
    "\n",
    "print('Hello!')      # I can even write a comment here, if I want"
   ]
  },
  {
   "cell_type": "code",
   "execution_count": 3,
   "id": "798d6df7-b364-48e4-a81b-344919a06230",
   "metadata": {},
   "outputs": [
    {
     "name": "stdout",
     "output_type": "stream",
     "text": [
      "7\n"
     ]
    }
   ],
   "source": [
    "print(2 + 5)   # I can add numbers together, and print their result"
   ]
  },
  {
   "cell_type": "code",
   "execution_count": 5,
   "id": "f6ede27d-a7ad-462f-8814-9dcebba4c0f0",
   "metadata": {},
   "outputs": [
    {
     "name": "stdout",
     "output_type": "stream",
     "text": [
      "hello and goodbye\n"
     ]
    }
   ],
   "source": [
    "print('hello' + ' and ' + 'goodbye') # I can add text together, and print the result"
   ]
  },
  {
   "cell_type": "code",
   "execution_count": 6,
   "id": "29081829-a5e4-4d3b-bcdb-1f20279f88dc",
   "metadata": {},
   "outputs": [
    {
     "name": "stdout",
     "output_type": "stream",
     "text": [
      "Reuven\n"
     ]
    }
   ],
   "source": [
    "print('Reuven')"
   ]
  },
  {
   "cell_type": "code",
   "execution_count": 7,
   "id": "b17014db-ed72-4a08-8355-3ceb9376516c",
   "metadata": {},
   "outputs": [],
   "source": [
    "# at a certain point, we don't want to hard-code our values\n",
    "# instead, we want to have more flexibility\n",
    "# one way to get that is with variables.\n",
    "\n",
    "# a variable is a reference to a value\n",
    "# I like to think of it as a pronoun\n",
    "\n",
    "# to assign a value to a variable, we use the = assignment operator\n",
    "# this is *NOT* the same as the = we use in mathematics\n",
    "\n",
    "x = 5     # this means: get the value from the right side, and assign to the variable on the left side"
   ]
  },
  {
   "cell_type": "code",
   "execution_count": 8,
   "id": "03c78b4c-63b9-4ab0-a1d5-a4d87b444266",
   "metadata": {},
   "outputs": [
    {
     "name": "stdout",
     "output_type": "stream",
     "text": [
      "5\n"
     ]
    }
   ],
   "source": [
    "print(x)   # now we'll display the value of whatever x is referring to "
   ]
  },
  {
   "cell_type": "code",
   "execution_count": 9,
   "id": "d818e1f6-7f9c-4f1e-aeaa-6a3affc6f83d",
   "metadata": {},
   "outputs": [
    {
     "name": "stdout",
     "output_type": "stream",
     "text": [
      "10\n"
     ]
    }
   ],
   "source": [
    "print(x + x)  # first, Python calculates x+x, gets a new value back, and print displays it"
   ]
  },
  {
   "cell_type": "markdown",
   "id": "b5c30153-63b2-4c24-8c4d-e1ad532022b3",
   "metadata": {},
   "source": [
    "# Don't we need to declare our variable?\n",
    "\n",
    "No.\n",
    "\n",
    "In many other programming languages, you first declare a variable, saying what type of value you want it to contain. Then later on, you assign a value to it.\n",
    "\n",
    "That's not how things work in Python. Any variable can refer to any value. A variable can refer to different types of values over the course of a program's run. There is no way in Python to say that the variable `x` will only contain integers."
   ]
  },
  {
   "cell_type": "code",
   "execution_count": 10,
   "id": "f63e5e05-aa20-4756-9a1c-f187b491386a",
   "metadata": {},
   "outputs": [
    {
     "data": {
      "text/plain": [
       "int"
      ]
     },
     "execution_count": 10,
     "metadata": {},
     "output_type": "execute_result"
    }
   ],
   "source": [
    "# let's ask Python: What kind of value is x referring to?\n",
    "\n",
    "type(x)"
   ]
  },
  {
   "cell_type": "code",
   "execution_count": 11,
   "id": "8e687f03-3fcf-40b1-a4c0-7f71775eb28a",
   "metadata": {},
   "outputs": [
    {
     "data": {
      "text/plain": [
       "str"
      ]
     },
     "execution_count": 11,
     "metadata": {},
     "output_type": "execute_result"
    }
   ],
   "source": [
    "x = 'hello'\n",
    "type(x)"
   ]
  },
  {
   "cell_type": "code",
   "execution_count": 12,
   "id": "ed7ba6a9-f4a1-4726-b9a1-58ad5dc362df",
   "metadata": {},
   "outputs": [
    {
     "name": "stdout",
     "output_type": "stream",
     "text": [
      "Hello\n"
     ]
    }
   ],
   "source": [
    "# Fancy Jupyter trick: If the final line of a cell has a value, then\n",
    "# you don't need to use \"print\" to display it. You'll get it displayed anyway.\n",
    "\n",
    "print('Hello')"
   ]
  },
  {
   "cell_type": "code",
   "execution_count": 13,
   "id": "2cd17b93-f10a-4f7a-a1fb-148e5c45d9b6",
   "metadata": {},
   "outputs": [
    {
     "data": {
      "text/plain": [
       "'Hello'"
      ]
     },
     "execution_count": 13,
     "metadata": {},
     "output_type": "execute_result"
    }
   ],
   "source": [
    "'Hello'"
   ]
  },
  {
   "cell_type": "code",
   "execution_count": 14,
   "id": "0fa43e67-e506-42a4-a963-c14b12fc7957",
   "metadata": {},
   "outputs": [
    {
     "data": {
      "text/plain": [
       "'hello'"
      ]
     },
     "execution_count": 14,
     "metadata": {},
     "output_type": "execute_result"
    }
   ],
   "source": [
    "# this comes in handy for checking the value of a variable\n",
    "x"
   ]
  },
  {
   "cell_type": "code",
   "execution_count": 15,
   "id": "7de87c48-f4d3-4c37-8b27-c15aed8fe3e3",
   "metadata": {},
   "outputs": [
    {
     "name": "stdout",
     "output_type": "stream",
     "text": [
      "Reuven\n"
     ]
    }
   ],
   "source": [
    "name = 'Reuven'\n",
    "print(name)"
   ]
  },
  {
   "cell_type": "code",
   "execution_count": 17,
   "id": "d1626bf7-fefe-4ec0-8b0e-26da635d73df",
   "metadata": {},
   "outputs": [
    {
     "name": "stdout",
     "output_type": "stream",
     "text": [
      "Hello, Reuven.\n"
     ]
    }
   ],
   "source": [
    "# I put a space between the comma and closing quote of the first string\n",
    "\n",
    "print('Hello, ' + name + '.')"
   ]
  },
  {
   "cell_type": "code",
   "execution_count": 18,
   "id": "1af1dd57-fdd3-475f-8375-0bea6f435816",
   "metadata": {},
   "outputs": [
    {
     "name": "stdout",
     "output_type": "stream",
     "text": [
      "Hello,Reuven.\n"
     ]
    }
   ],
   "source": [
    "# without it...\n",
    "print('Hello,' + name + '.')"
   ]
  },
  {
   "cell_type": "markdown",
   "id": "da71e99a-5899-47e7-b299-bb45b29fa6e0",
   "metadata": {},
   "source": [
    "# Exercise: Nice greeting\n",
    "\n",
    "1. Define a variable, `name`, with your name.\n",
    "2. Print a nice greeting, including your name, using `print` and several strings."
   ]
  },
  {
   "cell_type": "code",
   "execution_count": 20,
   "id": "724a38e5-0c19-4999-bcc0-cff92a0f156f",
   "metadata": {},
   "outputs": [
    {
     "name": "stdout",
     "output_type": "stream",
     "text": [
      "Hello, Reuven!\n"
     ]
    }
   ],
   "source": [
    "name = 'Reuven'  \n",
    "print('Hello, ' + name + '!')"
   ]
  },
  {
   "cell_type": "markdown",
   "id": "74d66d1e-8fa6-42ef-88a7-83821239ab5c",
   "metadata": {},
   "source": [
    "# Variable names\n",
    "\n",
    "A variable can be named with almost any combination of letters, numbers, and underscores (_) in Python. However:\n",
    "\n",
    "- The first character cannot be a number\n",
    "- You shouldn't use _ as the first character, to avoid clashing with internal Python stuff\n",
    "- Capital and lowercase letters are seen as *different*\n",
    "- Traditionally, Python variables are all lowercase, with _ between words. (This is known as \"snake_case\", as opposed to \"CamelCase\".)\n",
    "\n",
    "We always have to put quotes around the text we want to treat as a value. But there are never quotes around a variable name."
   ]
  },
  {
   "cell_type": "code",
   "execution_count": 21,
   "id": "b995a5fc-d7ed-419a-844a-c6efbe08c6b2",
   "metadata": {},
   "outputs": [
    {
     "ename": "NameError",
     "evalue": "name 'first_name' is not defined",
     "output_type": "error",
     "traceback": [
      "\u001b[0;31m---------------------------------------------------------------------------\u001b[0m",
      "\u001b[0;31mNameError\u001b[0m                                 Traceback (most recent call last)",
      "Cell \u001b[0;32mIn[21], line 2\u001b[0m\n\u001b[1;32m      1\u001b[0m name \u001b[38;5;241m=\u001b[39m \u001b[38;5;124m'\u001b[39m\u001b[38;5;124mReuven\u001b[39m\u001b[38;5;124m'\u001b[39m\n\u001b[0;32m----> 2\u001b[0m \u001b[38;5;28mprint\u001b[39m(\u001b[38;5;124m'\u001b[39m\u001b[38;5;124mHello, \u001b[39m\u001b[38;5;124m'\u001b[39m \u001b[38;5;241m+\u001b[39m \u001b[43mfirst_name\u001b[49m \u001b[38;5;241m+\u001b[39m \u001b[38;5;124m'\u001b[39m\u001b[38;5;124m!\u001b[39m\u001b[38;5;124m'\u001b[39m)   \n",
      "\u001b[0;31mNameError\u001b[0m: name 'first_name' is not defined"
     ]
    }
   ],
   "source": [
    "name = 'Reuven'\n",
    "print('Hello, ' + first_name + '!')   "
   ]
  },
  {
   "cell_type": "code",
   "execution_count": 22,
   "id": "01de985a-031c-4a92-97eb-74f379d7b4c7",
   "metadata": {},
   "outputs": [
    {
     "ename": "NameError",
     "evalue": "name 'Name' is not defined",
     "output_type": "error",
     "traceback": [
      "\u001b[0;31m---------------------------------------------------------------------------\u001b[0m",
      "\u001b[0;31mNameError\u001b[0m                                 Traceback (most recent call last)",
      "Cell \u001b[0;32mIn[22], line 1\u001b[0m\n\u001b[0;32m----> 1\u001b[0m \u001b[38;5;28mprint\u001b[39m(\u001b[38;5;124m'\u001b[39m\u001b[38;5;124mHello, \u001b[39m\u001b[38;5;124m'\u001b[39m \u001b[38;5;241m+\u001b[39m \u001b[43mName\u001b[49m \u001b[38;5;241m+\u001b[39m \u001b[38;5;124m'\u001b[39m\u001b[38;5;124m!\u001b[39m\u001b[38;5;124m'\u001b[39m)\n",
      "\u001b[0;31mNameError\u001b[0m: name 'Name' is not defined"
     ]
    }
   ],
   "source": [
    "print('Hello, ' + Name + '!')"
   ]
  },
  {
   "cell_type": "code",
   "execution_count": 23,
   "id": "5c7e33bd-dc4c-4d84-9fae-70a5323f949b",
   "metadata": {},
   "outputs": [],
   "source": [
    "name_for_example = 'Reuven'"
   ]
  },
  {
   "cell_type": "markdown",
   "id": "e6a103ac-687f-4491-a336-7855b5d4c081",
   "metadata": {},
   "source": [
    "# No semicolons!\n",
    "\n",
    "Many programming languages force you to use a ; after every command. This usually means that there's a semicolon at the end of every line.\n",
    "\n",
    "In Python, we don't have that. Instead, each line is a separate command. End of line == end of what you're working on now. There are some exceptions."
   ]
  },
  {
   "cell_type": "code",
   "execution_count": 24,
   "id": "86d94a57-60a8-4471-a3fb-87bfd627e5ce",
   "metadata": {},
   "outputs": [
    {
     "name": "stdin",
     "output_type": "stream",
     "text": [
      "Enter your name:  Reuven\n"
     ]
    }
   ],
   "source": [
    "# we're still stuck with hard-coded data.\n",
    "# we want to get input from the user, and assign it to a variable\n",
    "\n",
    "# we can do this with the \"input\" function!\n",
    "\n",
    "# - call \"input\"\n",
    "# - pass it a text string, the value you want to present to the user as a question/prompt\n",
    "# - whatever the user types is turned into a new text string, and is returned by the function\n",
    "# - typically, \"input\" is used on the right side of assignment, and on the left side is\n",
    "#    a variable name into which we want to put the user's input.\n",
    "\n",
    "name = input('Enter your name: ')"
   ]
  },
  {
   "cell_type": "code",
   "execution_count": 25,
   "id": "f5948d83-3960-4e21-9c7e-b1a64c0b193a",
   "metadata": {},
   "outputs": [
    {
     "data": {
      "text/plain": [
       "'Reuven'"
      ]
     },
     "execution_count": 25,
     "metadata": {},
     "output_type": "execute_result"
    }
   ],
   "source": [
    "name"
   ]
  },
  {
   "cell_type": "markdown",
   "id": "5ea2eeed-4da2-4546-b0dd-5dd4be8d43ba",
   "metadata": {},
   "source": [
    "# Exercise: Nice greeting to any user, with their name\n",
    "\n",
    "1. Get the user's name with `input`, and assign it to the variable `name`.\n",
    "2. Print a nice greeting to the user, including whatever they entered."
   ]
  },
  {
   "cell_type": "code",
   "execution_count": 26,
   "id": "e6bba9dd-b2f5-456c-8b61-18ece124b3d3",
   "metadata": {},
   "outputs": [
    {
     "name": "stdin",
     "output_type": "stream",
     "text": [
      "Enter something:  this is something!\n"
     ]
    },
    {
     "data": {
      "text/plain": [
       "'this is something!'"
      ]
     },
     "execution_count": 26,
     "metadata": {},
     "output_type": "execute_result"
    }
   ],
   "source": [
    "input('Enter something: ')"
   ]
  },
  {
   "cell_type": "code",
   "execution_count": 27,
   "id": "0ecd2851-5a43-4180-a661-2244c54ec149",
   "metadata": {},
   "outputs": [
    {
     "name": "stdin",
     "output_type": "stream",
     "text": [
      "Enter something:  this is something!\n"
     ]
    }
   ],
   "source": [
    "# now, the right side will get input from the user\n",
    "# whatever we get will be assigned to the variable a_variable\n",
    "\n",
    "a_variable = input('Enter something: ')"
   ]
  },
  {
   "cell_type": "code",
   "execution_count": 28,
   "id": "fe56e02a-16c2-4283-bcb7-e0e59291040d",
   "metadata": {},
   "outputs": [
    {
     "data": {
      "text/plain": [
       "'this is something!'"
      ]
     },
     "execution_count": 28,
     "metadata": {},
     "output_type": "execute_result"
    }
   ],
   "source": [
    "a_variable"
   ]
  },
  {
   "cell_type": "code",
   "execution_count": 30,
   "id": "1cc7abe3-b3e8-405e-ad71-a7ec183159f1",
   "metadata": {},
   "outputs": [
    {
     "name": "stdin",
     "output_type": "stream",
     "text": [
      "Enter your name:  this is not really a name, you stupid computer\n"
     ]
    },
    {
     "name": "stdout",
     "output_type": "stream",
     "text": [
      "Hello, this is not really a name, you stupid computer!\n"
     ]
    }
   ],
   "source": [
    "name = input('Enter your name: ')\n",
    "print('Hello, ' + name + '!')"
   ]
  },
  {
   "cell_type": "markdown",
   "id": "31c45f3d-9c1d-412a-a1b6-cf1241ce241d",
   "metadata": {},
   "source": [
    "# Comparisons\n",
    "\n",
    "We've already seen that we can use `+` on both numbers and text strings. But there are some other operators that compare two values, returning either `True` or `False` depending on whether they have the same values.\n",
    "\n",
    "\n",
    "\n"
   ]
  },
  {
   "cell_type": "code",
   "execution_count": 31,
   "id": "31110c0b-eacc-4c3a-ae01-868a695546d0",
   "metadata": {},
   "outputs": [
    {
     "data": {
      "text/plain": [
       "True"
      ]
     },
     "execution_count": 31,
     "metadata": {},
     "output_type": "execute_result"
    }
   ],
   "source": [
    "x = 10\n",
    "y = 10\n",
    "\n",
    "x == y    # note -- I'm using ==, which asks a question -- are the values the same?"
   ]
  },
  {
   "cell_type": "markdown",
   "id": "ca9ffaf6-2fce-4983-9261-aa6f38f1046a",
   "metadata": {},
   "source": [
    "# Other comparison operators\n",
    "\n",
    "- `==` -- equality\n",
    "- `!=` -- inequality\n",
    "- `<` -- less than\n",
    "- `<=` -- less than or equals\n",
    "- `>` -- greater than\n",
    "- `>=` -- greater than or equals\n",
    "\n",
    "We can use these with numbers, but we can also use them with text strings -- where something that comes earlier alphabetically will be \"less than\" something that comes later alphabetically."
   ]
  },
  {
   "cell_type": "markdown",
   "id": "76316af6-3013-49ca-bfaf-315711c70aa7",
   "metadata": {},
   "source": [
    "# Comparisons are the key\n",
    "\n",
    "Once we can compare two values, we can then make a decision regarding what we want to do. That's what programming is all about -- comparing values, and making a decision, executing one portion of the code sometimes, and another portion at other times.\n",
    "\n",
    "To do this, we'll need to use the `if` statement."
   ]
  },
  {
   "cell_type": "code",
   "execution_count": 34,
   "id": "0c600d23-6f6d-4513-8e58-bcebb05f06ec",
   "metadata": {},
   "outputs": [
    {
     "name": "stdin",
     "output_type": "stream",
     "text": [
      "Enter your name:  asdfasfafda\n"
     ]
    },
    {
     "name": "stdout",
     "output_type": "stream",
     "text": [
      "Hello, asdfasfafda.\n"
     ]
    }
   ],
   "source": [
    "name = input('Enter your name: ')\n",
    "\n",
    "# if looks to its right, and checks if there is a True value there\n",
    "# if it is, then we execute the block of code following the \"if\"\n",
    "# - the \"if\" line ends with a colon\n",
    "# - following that, we have one or more indented lines, known as a \"block\"\n",
    "# - the indentation is mandatory, and is part of the language\n",
    "# - traditionally, we indent 4 spaces for each level of indentation'\n",
    "# - realistically, any tool you use to write Python should be smart enough to indent for you most of the time.\n",
    "# - when you want to end the block, just use backspace to end the indentation\n",
    "# - the block can be as long or as short as you want, so long as it contains at least 1 line\n",
    "\n",
    "if name == 'Reuven':\n",
    "    print('Hello, boss!')\n",
    "    print('It is nice to see you again!')\n",
    "\n",
    "# optionally, I can also have an \"else\" clause\n",
    "# this executes if the \"if\" didn't fire, because the condition was False\n",
    "# remember: there is no conditon on an \"else\"\n",
    "# like the block for \"if\", we need : at the end of the line, and any number of indented lines\n",
    "\n",
    "else:\n",
    "    print('Hello, ' + name + '.')\n",
    "\n",
    "\n",
    "# it is guaranteed that one, and exactly one, of these two blocks will execute"
   ]
  },
  {
   "cell_type": "markdown",
   "id": "5bab8d6c-653f-4687-9cad-ffa6fbc7d041",
   "metadata": {},
   "source": [
    "# Exercise: Nice greeting\n",
    "\n",
    "1. Ask the user to enter their name, and assign to `name`.\n",
    "2. If the user's name is the same as yours print a respectful greeting. Have at least 2 lines in that block.\n",
    "3. If the user's name is *not* the same as yours, then print a snarky response."
   ]
  },
  {
   "cell_type": "code",
   "execution_count": 37,
   "id": "4ce861bd-597e-4cdb-8708-185254ad9b3f",
   "metadata": {},
   "outputs": [
    {
     "name": "stdin",
     "output_type": "stream",
     "text": [
      "Enter your name:  someone else\n"
     ]
    },
    {
     "name": "stdout",
     "output_type": "stream",
     "text": [
      "Who the heck are you?\n",
      "I do not know anyone named someone else!\n"
     ]
    }
   ],
   "source": [
    "name = input('Enter your name: ')\n",
    "\n",
    "if name == 'Reuven':\n",
    "    print('Hi again!')\n",
    "    print('I never tire of seeing your lovely name')\n",
    "else:\n",
    "    print('Who the heck are you?')\n",
    "    print('I do not know anyone named ' + name + '!')"
   ]
  },
  {
   "cell_type": "code",
   "execution_count": 38,
   "id": "79a4fd98-7ffb-478b-8ea4-12106c1b24b7",
   "metadata": {},
   "outputs": [
    {
     "ename": "KeyboardInterrupt",
     "evalue": "Interrupted by user",
     "output_type": "error",
     "traceback": [
      "\u001b[0;31m---------------------------------------------------------------------------\u001b[0m",
      "\u001b[0;31mKeyboardInterrupt\u001b[0m                         Traceback (most recent call last)",
      "Cell \u001b[0;32mIn[38], line 1\u001b[0m\n\u001b[0;32m----> 1\u001b[0m \u001b[38;5;28;43minput\u001b[39;49m\u001b[43m(\u001b[49m\u001b[38;5;124;43m'\u001b[39;49m\u001b[38;5;124;43mEnter something\u001b[39;49m\u001b[38;5;124;43m'\u001b[39;49m\u001b[43m)\u001b[49m\n",
      "File \u001b[0;32m/usr/local/lib/python3.10/dist-packages/ipykernel/kernelbase.py:1202\u001b[0m, in \u001b[0;36mKernel.raw_input\u001b[0;34m(self, prompt)\u001b[0m\n\u001b[1;32m   1200\u001b[0m     msg \u001b[38;5;241m=\u001b[39m \u001b[38;5;124m\"\u001b[39m\u001b[38;5;124mraw_input was called, but this frontend does not support input requests.\u001b[39m\u001b[38;5;124m\"\u001b[39m\n\u001b[1;32m   1201\u001b[0m     \u001b[38;5;28;01mraise\u001b[39;00m StdinNotImplementedError(msg)\n\u001b[0;32m-> 1202\u001b[0m \u001b[38;5;28;01mreturn\u001b[39;00m \u001b[38;5;28;43mself\u001b[39;49m\u001b[38;5;241;43m.\u001b[39;49m\u001b[43m_input_request\u001b[49m\u001b[43m(\u001b[49m\n\u001b[1;32m   1203\u001b[0m \u001b[43m    \u001b[49m\u001b[38;5;28;43mstr\u001b[39;49m\u001b[43m(\u001b[49m\u001b[43mprompt\u001b[49m\u001b[43m)\u001b[49m\u001b[43m,\u001b[49m\n\u001b[1;32m   1204\u001b[0m \u001b[43m    \u001b[49m\u001b[38;5;28;43mself\u001b[39;49m\u001b[38;5;241;43m.\u001b[39;49m\u001b[43m_parent_ident\u001b[49m\u001b[43m[\u001b[49m\u001b[38;5;124;43m\"\u001b[39;49m\u001b[38;5;124;43mshell\u001b[39;49m\u001b[38;5;124;43m\"\u001b[39;49m\u001b[43m]\u001b[49m\u001b[43m,\u001b[49m\n\u001b[1;32m   1205\u001b[0m \u001b[43m    \u001b[49m\u001b[38;5;28;43mself\u001b[39;49m\u001b[38;5;241;43m.\u001b[39;49m\u001b[43mget_parent\u001b[49m\u001b[43m(\u001b[49m\u001b[38;5;124;43m\"\u001b[39;49m\u001b[38;5;124;43mshell\u001b[39;49m\u001b[38;5;124;43m\"\u001b[39;49m\u001b[43m)\u001b[49m\u001b[43m,\u001b[49m\n\u001b[1;32m   1206\u001b[0m \u001b[43m    \u001b[49m\u001b[43mpassword\u001b[49m\u001b[38;5;241;43m=\u001b[39;49m\u001b[38;5;28;43;01mFalse\u001b[39;49;00m\u001b[43m,\u001b[49m\n\u001b[1;32m   1207\u001b[0m \u001b[43m\u001b[49m\u001b[43m)\u001b[49m\n",
      "File \u001b[0;32m/usr/local/lib/python3.10/dist-packages/ipykernel/kernelbase.py:1245\u001b[0m, in \u001b[0;36mKernel._input_request\u001b[0;34m(self, prompt, ident, parent, password)\u001b[0m\n\u001b[1;32m   1242\u001b[0m \u001b[38;5;28;01mexcept\u001b[39;00m \u001b[38;5;167;01mKeyboardInterrupt\u001b[39;00m:\n\u001b[1;32m   1243\u001b[0m     \u001b[38;5;66;03m# re-raise KeyboardInterrupt, to truncate traceback\u001b[39;00m\n\u001b[1;32m   1244\u001b[0m     msg \u001b[38;5;241m=\u001b[39m \u001b[38;5;124m\"\u001b[39m\u001b[38;5;124mInterrupted by user\u001b[39m\u001b[38;5;124m\"\u001b[39m\n\u001b[0;32m-> 1245\u001b[0m     \u001b[38;5;28;01mraise\u001b[39;00m \u001b[38;5;167;01mKeyboardInterrupt\u001b[39;00m(msg) \u001b[38;5;28;01mfrom\u001b[39;00m \u001b[38;5;28;01mNone\u001b[39;00m\n\u001b[1;32m   1246\u001b[0m \u001b[38;5;28;01mexcept\u001b[39;00m \u001b[38;5;167;01mException\u001b[39;00m:\n\u001b[1;32m   1247\u001b[0m     \u001b[38;5;28mself\u001b[39m\u001b[38;5;241m.\u001b[39mlog\u001b[38;5;241m.\u001b[39mwarning(\u001b[38;5;124m\"\u001b[39m\u001b[38;5;124mInvalid Message:\u001b[39m\u001b[38;5;124m\"\u001b[39m, exc_info\u001b[38;5;241m=\u001b[39m\u001b[38;5;28;01mTrue\u001b[39;00m)\n",
      "\u001b[0;31mKeyboardInterrupt\u001b[0m: Interrupted by user"
     ]
    }
   ],
   "source": [
    "input('Enter something')"
   ]
  },
  {
   "cell_type": "code",
   "execution_count": 39,
   "id": "42aac776-4cd4-4e4c-b7bd-755935e8119f",
   "metadata": {},
   "outputs": [
    {
     "data": {
      "text/plain": [
       "4"
      ]
     },
     "execution_count": 39,
     "metadata": {},
     "output_type": "execute_result"
    }
   ],
   "source": [
    "2+2"
   ]
  },
  {
   "cell_type": "markdown",
   "id": "f1b296af-ef59-48d4-956d-d9ea85a6c2b7",
   "metadata": {},
   "source": [
    "# Next up\n",
    "\n",
    "1. Combining conditions with `and` and `or`\n",
    "2. More complex conditionals with `elif`\n",
    "3. Numbers and text strings\n",
    "\n",
    "Resume at :55"
   ]
  },
  {
   "cell_type": "markdown",
   "id": "903380ea-6d73-4c4a-a670-df6c7c7ee006",
   "metadata": {},
   "source": [
    "# More complex conditions\n",
    "\n",
    "So far, we've discussed using `==` and its friends to compare things, and then we have used those comparisons in `if` statements.\n",
    "\n",
    "But what if we want to check two things, and only execute a block based on that?\n",
    "\n",
    "One option would be to have an `if` inside of the block. But that gets ugly very quickly.\n",
    "\n",
    "A better solution is to use `and` or `or`, two operators that let us combine two different comparisons into a single one. Each of the individual comparisons returns `True` or `False`, and then the `and` or `or` returns its own `True` or `False`.\n",
    "\n",
    "Note that if you've used a programming language that uses `||` or `&&`, Python does"
   ]
  }
 ],
 "metadata": {
  "kernelspec": {
   "display_name": "Python 3 (ipykernel)",
   "language": "python",
   "name": "python3"
  },
  "language_info": {
   "codemirror_mode": {
    "name": "ipython",
    "version": 3
   },
   "file_extension": ".py",
   "mimetype": "text/x-python",
   "name": "python",
   "nbconvert_exporter": "python",
   "pygments_lexer": "ipython3",
   "version": "3.10.12"
  }
 },
 "nbformat": 4,
 "nbformat_minor": 5
}
