{
 "cells": [
  {
   "cell_type": "markdown",
   "id": "e60e9535-0743-49f9-9952-3761cdc4e0b6",
   "metadata": {},
   "source": [
    "# Agenda\n",
    "\n",
    "1. What is programming? What is Python?\n",
    "2. Basic functionality in Python (Monday)\n",
    "    - Values\n",
    "    - Variables and assignment\n",
    "    - Different types (intro to)\n",
    "    - Conditions and `if`\n",
    "    - Input from the user\n",
    "    - Output to the user\n",
    "3. Data structures (Monday-Tuesday-Wednesday)\n",
    "    - Numbers (integers and floats)\n",
    "    - Text strings\n",
    "    - Loops (`for` and `while`)\n",
    "    - Lists\n",
    "    - Strings to lists, and back\n",
    "    - Tuples and tuple unpacking\n",
    "    - Dictionaries\n",
    "    - Files (plain-text files, both reading from and writing to them)\n",
    "4. Installing Python + PyCharm on your computer (Wednesday afternoon)\n",
    "5. Functions\n",
    "    - What are functions?\n",
    "    - Writing our own functions\n",
    "    - Arguments and parameters\n",
    "6. Modules and packages\n",
    "    - Using modules in the Python standard library with `import`\n",
    "    - Downloading modules from PyPI with `pip` and using them\n",
    "    - Use the `requests` module to retrieve from a JSON API, turn it into Python data structures, and print it out / make sense of it."
   ]
  },
  {
   "cell_type": "markdown",
   "id": "baf25059-4bf9-4ca5-b26e-32e64f9962fe",
   "metadata": {},
   "source": [
    "# Quick tour of Jupyter\n",
    "\n",
    "Jupyter gives you the illusion that you're running Python code in the browser. In actuality, the browser is the client and it talks to a Python server -- which can be on the same computer, or can be elsewhere.  For our course, I set up a VM at Digital Ocean running a Jupyter server.\n",
    "\n",
    "When you run Jupyter, you're interacting with the browser, and it figures out how to talk to Python on the back end.\n",
    "\n",
    "Everything in Jupyter is done in a *cell*. Every cell has two modes of input:\n",
    "\n",
    "- Edit mode, which I'm using now to type this: You'll see a white background in the cell, and anything I type goes into the cell. I can enter edit mode by clicking in the cell or by pressing ENTER.\n",
    "- Command mode, where anything you type is sent as a command to Jupyter, rather than entered into the text of the cell. You can enter command mode by clicking to the left of a cell or by pressing ESC.\n",
    "\n",
    "I can press shift+ENTER together to \"finalize\" a cell, whether it contains Markdown text or code.\n",
    "\n",
    "What commands do you have in command mode?\n",
    "- `x` -- cuts the current cell\n",
    "- `c` -- copies the current cell\n",
    "- `v` -- pastes the most recently cut or copied cell\n",
    "- `m` -- turn the cell into markdown (for formatted text)\n",
    "- `y` -- turn the cell into Python code\n",
    "- `a` -- add a new cell above the current one\n",
    "- `b` -- add a new cell below the current one"
   ]
  },
  {
   "cell_type": "code",
   "execution_count": 1,
   "id": "a3464e0b-adf3-4917-bc3f-7d44f1f35d2f",
   "metadata": {},
   "outputs": [
    {
     "name": "stdout",
     "output_type": "stream",
     "text": [
      "Hello!\n"
     ]
    }
   ],
   "source": [
    "print('Hello!')"
   ]
  },
  {
   "cell_type": "markdown",
   "id": "ec23b3ba-36ce-4077-9354-0afd0e741a14",
   "metadata": {},
   "source": [
    "# Exercise: Set up a Jupyter notebook\n",
    "\n",
    "1. Go to http://python.lerner.co.il:8888 . This is the main Jupyter notebook page.\n",
    "2. Click on \"new\" and then \"notebook\" to create a new Jupyter notebook.\n",
    "3. It'll give you a new, blank notebook. Click on the title to change it to be your name + today's date.\n",
    "4. Inside of a cell, try some super simple Python code, such as `2 + 3` or `print('Hello')`. Run it with shift + Enter.\n",
    "\n",
    "When you're done, raise your virtual hand in WebEx, to let me know."
   ]
  },
  {
   "cell_type": "markdown",
   "id": "bb4a2d67-1229-4848-8168-f1997d8f2819",
   "metadata": {},
   "source": [
    "# What is a programming language? What is Python?\n",
    "\n",
    "Any programming language can be used for any task. But each language is optimized for slightly different things. Python executes more slowly than C, Java, and C#. It's used in a number of places:\n",
    "\n",
    "- #1 language in data science and machine learning\n",
    "- Web development\n",
    "- Devops and system administration\n",
    "- APIs (creation and consumption)\n",
    "- Education\n",
    "- Finance"
   ]
  },
  {
   "cell_type": "code",
   "execution_count": null,
   "id": "6fe13f76-c49d-4728-8d69-45a60caf2268",
   "metadata": {},
   "outputs": [],
   "source": []
  },
  {
   "cell_type": "code",
   "execution_count": null,
   "id": "798d6df7-b364-48e4-a81b-344919a06230",
   "metadata": {},
   "outputs": [],
   "source": []
  }
 ],
 "metadata": {
  "kernelspec": {
   "display_name": "Python 3 (ipykernel)",
   "language": "python",
   "name": "python3"
  },
  "language_info": {
   "codemirror_mode": {
    "name": "ipython",
    "version": 3
   },
   "file_extension": ".py",
   "mimetype": "text/x-python",
   "name": "python",
   "nbconvert_exporter": "python",
   "pygments_lexer": "ipython3",
   "version": "3.10.12"
  }
 },
 "nbformat": 4,
 "nbformat_minor": 5
}
