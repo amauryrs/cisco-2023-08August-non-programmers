{
 "cells": [
  {
   "cell_type": "markdown",
   "id": "e60e9535-0743-49f9-9952-3761cdc4e0b6",
   "metadata": {},
   "source": [
    "# Agenda\n",
    "\n",
    "1. What is programming? What is Python?\n",
    "2. Basic functionality in Python (Monday)\n",
    "    - Values\n",
    "    - Variables and assignment\n",
    "    - Different types (intro to)\n",
    "    - Conditions and `if`\n",
    "    - Input from the user\n",
    "    - Output to the user\n",
    "3. Data structures (Monday-Tuesday-Wednesday)\n",
    "    - Numbers (integers and floats)\n",
    "    - Text strings\n",
    "    - Loops (`for` and `while`)\n",
    "    - Lists\n",
    "    - Strings to lists, and back\n",
    "    - Tuples and tuple unpacking\n",
    "    - Dictionaries\n",
    "    - Files (plain-text files, both reading from and writing to them)\n",
    "4. Installing Python + PyCharm on your computer (Wednesday afternoon)\n",
    "5. Functions\n",
    "    - What are functions?\n",
    "    - Writing our own functions\n",
    "    - Arguments and parameters\n",
    "6. Modules and packages\n",
    "    - Using modules in the Python standard library with `import`\n",
    "    - Downloading modules from PyPI with `pip` and using them\n",
    "    - Use the `requests` module to retrieve from a JSON API, turn it into Python data structures, and print it out / make sense of it."
   ]
  },
  {
   "cell_type": "markdown",
   "id": "baf25059-4bf9-4ca5-b26e-32e64f9962fe",
   "metadata": {},
   "source": [
    "# Quick tour of Jupyter\n",
    "\n",
    "Jupyter gives you the illusion that you're running Python code in the browser. In actuality, the browser is the client and it talks to a Python server -- which can be on the same computer, or can be elsewhere.  For our course, I set up a VM at Digital Ocean running a Jupyter server.\n",
    "\n",
    "When you run Jupyter, you're interacting with the browser, and it figures out how to talk to Python on the back end.\n",
    "\n",
    "Everything in Jupyter is done in a *cell*. Every cell has two modes of input:\n",
    "\n",
    "- Edit mode, which I'm using now to type this: You'll see a white background in the cell, and anything I type goes into the cell. I can enter edit mode by clicking in the cell or by pressing ENTER.\n",
    "- Command mode, where anything you type is sent as a command to Jupyter, rather than entered into the text of the cell. You can enter command mode by clicking to the left of a cell or by pressing ESC.\n",
    "\n",
    "I can press shift+ENTER together to \"finalize\" a cell, whether it contains Markdown text or code.\n",
    "\n",
    "What commands do you have in command mode?\n",
    "- `x` -- cuts the current cell\n",
    "- `c` -- copies the current cell\n",
    "- `v` -- pastes the most recently cut or copied cell\n",
    "- `m` -- turn the cell into markdown (for formatted text)\n",
    "- `y` -- turn the cell into Python code\n",
    "- `a` -- add a new cell above the current one\n",
    "- `b` -- add a new cell below the current one"
   ]
  },
  {
   "cell_type": "code",
   "execution_count": 1,
   "id": "a3464e0b-adf3-4917-bc3f-7d44f1f35d2f",
   "metadata": {},
   "outputs": [
    {
     "name": "stdout",
     "output_type": "stream",
     "text": [
      "Hello!\n"
     ]
    }
   ],
   "source": [
    "print('Hello!')"
   ]
  },
  {
   "cell_type": "markdown",
   "id": "ec23b3ba-36ce-4077-9354-0afd0e741a14",
   "metadata": {},
   "source": [
    "# Exercise: Set up a Jupyter notebook\n",
    "\n",
    "1. Go to http://python.lerner.co.il:8888 . This is the main Jupyter notebook page.\n",
    "2. Click on \"new\" and then \"notebook\" to create a new Jupyter notebook.\n",
    "3. It'll give you a new, blank notebook. Click on the title to change it to be your name + today's date.\n",
    "4. Inside of a cell, try some super simple Python code, such as `2 + 3` or `print('Hello')`. Run it with shift + Enter.\n",
    "\n",
    "When you're done, raise your virtual hand in WebEx, to let me know."
   ]
  },
  {
   "cell_type": "markdown",
   "id": "bb4a2d67-1229-4848-8168-f1997d8f2819",
   "metadata": {},
   "source": [
    "# What is a programming language? What is Python?\n",
    "\n",
    "Any programming language can be used for any task. But each language is optimized for slightly different things. Python executes more slowly than C, Java, and C#. It's used in a number of places:\n",
    "\n",
    "- #1 language in data science and machine learning\n",
    "- Web development\n",
    "- Devops and system administration\n",
    "- APIs (creation and consumption)\n",
    "- Education\n",
    "- Finance"
   ]
  },
  {
   "cell_type": "code",
   "execution_count": 2,
   "id": "6dfd2606-ea55-4fb6-8d85-b7737aab5316",
   "metadata": {},
   "outputs": [
    {
     "name": "stdout",
     "output_type": "stream",
     "text": [
      "Hello!\n"
     ]
    }
   ],
   "source": [
    "# this is a comment, starting with #\n",
    "# from # to the end of the line, Python will ignore it -- this is for people, not Python\n",
    "\n",
    "# I'm calling/executing the function \"print\" -- functions are the verbs of a programming language\n",
    "# In Python, we can display anything on the screen with print\n",
    "# I put the thing I want to display inside of round parentheses\n",
    "# Here, the value I want to print is a text string, so I put it in quotes\n",
    "# (There is no difference between single quotes and double quotes in Python. Use whichever you want.)\n",
    "\n",
    "# After writing this code, I can execute the contents of the cell with shift+ENTER\n",
    "\n",
    "print('Hello!')      # I can even write a comment here, if I want"
   ]
  },
  {
   "cell_type": "code",
   "execution_count": 3,
   "id": "798d6df7-b364-48e4-a81b-344919a06230",
   "metadata": {},
   "outputs": [
    {
     "name": "stdout",
     "output_type": "stream",
     "text": [
      "7\n"
     ]
    }
   ],
   "source": [
    "print(2 + 5)   # I can add numbers together, and print their result"
   ]
  },
  {
   "cell_type": "code",
   "execution_count": 5,
   "id": "f6ede27d-a7ad-462f-8814-9dcebba4c0f0",
   "metadata": {},
   "outputs": [
    {
     "name": "stdout",
     "output_type": "stream",
     "text": [
      "hello and goodbye\n"
     ]
    }
   ],
   "source": [
    "print('hello' + ' and ' + 'goodbye') # I can add text together, and print the result"
   ]
  },
  {
   "cell_type": "code",
   "execution_count": 6,
   "id": "29081829-a5e4-4d3b-bcdb-1f20279f88dc",
   "metadata": {},
   "outputs": [
    {
     "name": "stdout",
     "output_type": "stream",
     "text": [
      "Reuven\n"
     ]
    }
   ],
   "source": [
    "print('Reuven')"
   ]
  },
  {
   "cell_type": "code",
   "execution_count": null,
   "id": "b17014db-ed72-4a08-8355-3ceb9376516c",
   "metadata": {},
   "outputs": [],
   "source": [
    "# at a certain point, we don't want to hard-code our values\n",
    "# instead, we want to have more flexibility\n",
    "# one way to get that is with variables.\n",
    "\n",
    "# a variable is a reference to a value\n",
    "# I like to think of it as a pronoun"
   ]
  }
 ],
 "metadata": {
  "kernelspec": {
   "display_name": "Python 3 (ipykernel)",
   "language": "python",
   "name": "python3"
  },
  "language_info": {
   "codemirror_mode": {
    "name": "ipython",
    "version": 3
   },
   "file_extension": ".py",
   "mimetype": "text/x-python",
   "name": "python",
   "nbconvert_exporter": "python",
   "pygments_lexer": "ipython3",
   "version": "3.10.12"
  }
 },
 "nbformat": 4,
 "nbformat_minor": 5
}
