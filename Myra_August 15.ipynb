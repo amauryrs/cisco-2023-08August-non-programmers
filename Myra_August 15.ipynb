{
 "cells": [
  {
   "cell_type": "code",
   "execution_count": 2,
   "id": "1ca530f4-7254-44fb-8f04-cc50c76e4997",
   "metadata": {},
   "outputs": [
    {
     "ename": "SyntaxError",
     "evalue": "unterminated string literal (detected at line 12) (3149600371.py, line 12)",
     "output_type": "error",
     "traceback": [
      "\u001b[0;36m  Cell \u001b[0;32mIn[2], line 12\u001b[0;36m\u001b[0m\n\u001b[0;31m    print(f'digits = {digits})\u001b[0m\n\u001b[0m          ^\u001b[0m\n\u001b[0;31mSyntaxError\u001b[0m\u001b[0;31m:\u001b[0m unterminated string literal (detected at line 12)\n"
     ]
    }
   ],
   "source": [
    "digits = 0\n",
    "vowels = 0\n",
    "others = 0\n",
    "\n",
    "s = 123456\n",
    "\n",
    "for one_character in s:\n",
    "if(s == digit +=1)\n",
    "elif(s == vowel +=1)\n",
    "else +=1\n",
    "\n",
    "print(f'digits = {digits})\n",
    "    "
   ]
  },
  {
   "cell_type": "code",
   "execution_count": 3,
   "id": "fd0cc26d-1822-46de-b81d-cc246133452b",
   "metadata": {},
   "outputs": [],
   "source": [
    "# was headed in the right direction but didn't have the correct calculations. I was going to use is.digit (that was correct)"
   ]
  },
  {
   "cell_type": "code",
   "execution_count": 4,
   "id": "ce46caeb-a3b9-4495-9d33-723b664bb987",
   "metadata": {},
   "outputs": [
    {
     "ename": "IndentationError",
     "evalue": "unexpected indent (1753801612.py, line 2)",
     "output_type": "error",
     "traceback": [
      "\u001b[0;36m  Cell \u001b[0;32mIn[4], line 2\u001b[0;36m\u001b[0m\n\u001b[0;31m    digits +=1\u001b[0m\n\u001b[0m    ^\u001b[0m\n\u001b[0;31mIndentationError\u001b[0m\u001b[0;31m:\u001b[0m unexpected indent\n"
     ]
    }
   ],
   "source": [
    "# if one_character.isdigit():\n",
    "    digits +=1\n",
    "elif one_character in 'aeiou':\n",
    "    digits +=1\n",
    "else other:\n",
    "    digits +=1"
   ]
  },
  {
   "cell_type": "code",
   "execution_count": 12,
   "id": "1e325593-0ada-4b02-bd47-8fa6ed6cef1d",
   "metadata": {},
   "outputs": [
    {
     "name": "stdin",
     "output_type": "stream",
     "text": [
      "Enter your name:  Myra\n"
     ]
    },
    {
     "name": "stdout",
     "output_type": "stream",
     "text": [
      "M\n",
      "My\n"
     ]
    }
   ],
   "source": [
    "name = input('Enter your name: ')\n",
    "print(name[0:1])\n",
    "print(name[0:2]) "
   ]
  },
  {
   "cell_type": "code",
   "execution_count": 14,
   "id": "8232f8b4-8317-41df-ac9e-6d74005d14d4",
   "metadata": {},
   "outputs": [
    {
     "name": "stdin",
     "output_type": "stream",
     "text": [
      "Enter you name:  Myra\n"
     ]
    },
    {
     "name": "stdout",
     "output_type": "stream",
     "text": [
      "M\n",
      "y\n",
      "r\n",
      "a\n"
     ]
    }
   ],
   "source": [
    "name = input('Enter you name: ').strip()\n",
    "for one_character in name:\n",
    "    print(one_character)\n",
    "    print "
   ]
  },
  {
   "cell_type": "code",
   "execution_count": 16,
   "id": "7969e0b4-dec0-4616-bfbd-d9b55a868039",
   "metadata": {},
   "outputs": [
    {
     "name": "stdin",
     "output_type": "stream",
     "text": [
      "Enter you name:  Myra\n"
     ]
    },
    {
     "name": "stdout",
     "output_type": "stream",
     "text": [
      "M\n",
      "My\n",
      "Myr\n",
      "Myra\n"
     ]
    }
   ],
   "source": [
    "name = input('Enter you name: ').strip()\n",
    "for index in range(len(name)): # you can also put +1 here\n",
    "    print(name[:index+1])"
   ]
  },
  {
   "cell_type": "code",
   "execution_count": 17,
   "id": "5dbb54a5-da04-4de3-adc5-a0d5c14420fa",
   "metadata": {},
   "outputs": [
    {
     "ename": "SyntaxError",
     "evalue": "invalid syntax (2116414775.py, line 5)",
     "output_type": "error",
     "traceback": [
      "\u001b[0;36m  Cell \u001b[0;32mIn[17], line 5\u001b[0;36m\u001b[0m\n\u001b[0;31m    if number is not is.digit\u001b[0m\n\u001b[0m                     ^\u001b[0m\n\u001b[0;31mSyntaxError\u001b[0m\u001b[0;31m:\u001b[0m invalid syntax\n"
     ]
    }
   ],
   "source": [
    "total = 0 \n",
    "\n",
    "while total < 100:\n",
    "    number = input('Enter a number: ')\n",
    "    if number is not is.digit\n",
    "        print ('Try again: ')\n",
    "    elif total < 100\n",
    "print('Done: ')\n"
   ]
  },
  {
   "cell_type": "code",
   "execution_count": 20,
   "id": "1e0a1615-1c8b-4892-880b-1934f733ecff",
   "metadata": {},
   "outputs": [
    {
     "name": "stdin",
     "output_type": "stream",
     "text": [
      "Enter a number:  90\n",
      "Enter a number:  hello\n"
     ]
    },
    {
     "name": "stdout",
     "output_type": "stream",
     "text": [
      "hello is not numeric; try again!\n"
     ]
    },
    {
     "name": "stdin",
     "output_type": "stream",
     "text": [
      "Enter a number:  50\n"
     ]
    },
    {
     "name": "stdout",
     "output_type": "stream",
     "text": [
      "Total = 140\n"
     ]
    }
   ],
   "source": [
    "total = 0 \n",
    "\n",
    "while total < 100:\n",
    "    s = input('Enter a number: ').strip()\n",
    "    if s.isdigit():\n",
    "        n = int(s)\n",
    "        total += n\n",
    "    else:\n",
    "        print(f'{s} is not numeric; try again!')\n",
    "print(f'Total = {total}')"
   ]
  },
  {
   "cell_type": "code",
   "execution_count": 23,
   "id": "0f4a44e5-51a6-47c7-aa5f-6e0b77c912e1",
   "metadata": {},
   "outputs": [
    {
     "ename": "IndentationError",
     "evalue": "unindent does not match any outer indentation level (<tokenize>, line 10)",
     "output_type": "error",
     "traceback": [
      "\u001b[0;36m  File \u001b[0;32m<tokenize>:10\u001b[0;36m\u001b[0m\n\u001b[0;31m    else:\u001b[0m\n\u001b[0m    ^\u001b[0m\n\u001b[0;31mIndentationError\u001b[0m\u001b[0;31m:\u001b[0m unindent does not match any outer indentation level\n"
     ]
    }
   ],
   "source": [
    "total = 0\n",
    "\n",
    "while s.isdigit:\n",
    "    s = input ('Enter a digit: ').strip()    \n",
    "    for total     \n",
    "if s.isdigit():\n",
    "        n = int(s)\n",
    "        for \n",
    "        int(s) + total\n",
    "    else:\n",
    "        print('Not a digit!')\n",
    "print(f'Total = {total})\n"
   ]
  },
  {
   "cell_type": "code",
   "execution_count": 28,
   "id": "0bcfdf71-340b-4884-b57e-0eb15a981fdf",
   "metadata": {},
   "outputs": [
    {
     "name": "stdin",
     "output_type": "stream",
     "text": [
      "Enter a digit:  50\n",
      "Enter a digit:  hello\n"
     ]
    },
    {
     "name": "stdout",
     "output_type": "stream",
     "text": [
      "not a digit\n",
      "not a digit\n",
      "not a digit\n",
      "not a digit\n",
      "not a digit\n"
     ]
    },
    {
     "name": "stdin",
     "output_type": "stream",
     "text": [
      "Enter a digit:  25\n",
      "Enter a digit:  \n"
     ]
    },
    {
     "name": "stdout",
     "output_type": "stream",
     "text": [
      "total = 12\n"
     ]
    }
   ],
   "source": [
    "total = 0\n",
    "\n",
    "while True:\n",
    "    s = input ('Enter a digit: ').strip()    \n",
    "    if s == '':\n",
    "        break\n",
    "    for one_character in s:\n",
    "        if one_character.isdigit():\n",
    "            total += int(one_character)\n",
    "        else:\n",
    "            print('not a digit')\n",
    "print(f'total = {total}')"
   ]
  },
  {
   "cell_type": "code",
   "execution_count": 34,
   "id": "d4f776f5-4329-4d7b-8242-4da5e60cdfe8",
   "metadata": {},
   "outputs": [
    {
     "ename": "SyntaxError",
     "evalue": "invalid syntax (1754229178.py, line 9)",
     "output_type": "error",
     "traceback": [
      "\u001b[0;36m  Cell \u001b[0;32mIn[34], line 9\u001b[0;36m\u001b[0m\n\u001b[0;31m    elif s == is.digit():\u001b[0m\n\u001b[0m              ^\u001b[0m\n\u001b[0;31mSyntaxError\u001b[0m\u001b[0;31m:\u001b[0m invalid syntax\n"
     ]
    }
   ],
   "source": [
    "mylist = odds\n",
    "mylist2 = evens\n",
    "\n",
    "s = input('Enter a number: ').string()\n",
    "\n",
    "for one_character in s: \n",
    "    if s == '': \n",
    "        break\n",
    "    elif s == is.digit():\n",
    "        break\n",
    "    elif s is odd:\n",
    "        mylist.append(odd)\n",
    "    elif s is even:\n",
    "        mylist.append(evens)\n",
    "\n",
    "print(f'odds = {mylist}')\n",
    "print(f'evens = {mylist2}')"
   ]
  },
  {
   "cell_type": "code",
   "execution_count": null,
   "id": "390c6b1a-1cbd-437c-8a1e-53235f6f146e",
   "metadata": {},
   "outputs": [],
   "source": [
    "evens = []\n",
    "odds = []\n",
    "\n",
    "while True:\n",
    "    s = input('Enter a number: ').strip()\n",
    "    if s    "
   ]
  }
 ],
 "metadata": {
  "kernelspec": {
   "display_name": "Python 3 (ipykernel)",
   "language": "python",
   "name": "python3"
  },
  "language_info": {
   "codemirror_mode": {
    "name": "ipython",
    "version": 3
   },
   "file_extension": ".py",
   "mimetype": "text/x-python",
   "name": "python",
   "nbconvert_exporter": "python",
   "pygments_lexer": "ipython3",
   "version": "3.10.12"
  }
 },
 "nbformat": 4,
 "nbformat_minor": 5
}
