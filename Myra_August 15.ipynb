{
 "cells": [
  {
   "cell_type": "code",
   "execution_count": 2,
   "id": "1ca530f4-7254-44fb-8f04-cc50c76e4997",
   "metadata": {},
   "outputs": [
    {
     "ename": "SyntaxError",
     "evalue": "unterminated string literal (detected at line 12) (3149600371.py, line 12)",
     "output_type": "error",
     "traceback": [
      "\u001b[0;36m  Cell \u001b[0;32mIn[2], line 12\u001b[0;36m\u001b[0m\n\u001b[0;31m    print(f'digits = {digits})\u001b[0m\n\u001b[0m          ^\u001b[0m\n\u001b[0;31mSyntaxError\u001b[0m\u001b[0;31m:\u001b[0m unterminated string literal (detected at line 12)\n"
     ]
    }
   ],
   "source": [
    "digits = 0\n",
    "vowels = 0\n",
    "others = 0\n",
    "\n",
    "s = 123456\n",
    "\n",
    "for one_character in s:\n",
    "if(s == digit +=1)\n",
    "elif(s == vowel +=1)\n",
    "else +=1\n",
    "\n",
    "print(f'digits = {digits})\n",
    "    "
   ]
  },
  {
   "cell_type": "code",
   "execution_count": 3,
   "id": "fd0cc26d-1822-46de-b81d-cc246133452b",
   "metadata": {},
   "outputs": [],
   "source": [
    "# was headed in the right direction but didn't have the correct calculations. I was going to use is.digit (that was correct)"
   ]
  },
  {
   "cell_type": "code",
   "execution_count": 4,
   "id": "ce46caeb-a3b9-4495-9d33-723b664bb987",
   "metadata": {},
   "outputs": [
    {
     "ename": "IndentationError",
     "evalue": "unexpected indent (1753801612.py, line 2)",
     "output_type": "error",
     "traceback": [
      "\u001b[0;36m  Cell \u001b[0;32mIn[4], line 2\u001b[0;36m\u001b[0m\n\u001b[0;31m    digits +=1\u001b[0m\n\u001b[0m    ^\u001b[0m\n\u001b[0;31mIndentationError\u001b[0m\u001b[0;31m:\u001b[0m unexpected indent\n"
     ]
    }
   ],
   "source": [
    "# if one_character.isdigit():\n",
    "    digits +=1\n",
    "elif one_character in 'aeiou':\n",
    "    digits +=1\n",
    "else other:\n",
    "    digits +=1"
   ]
  },
  {
   "cell_type": "code",
   "execution_count": 12,
   "id": "1e325593-0ada-4b02-bd47-8fa6ed6cef1d",
   "metadata": {},
   "outputs": [
    {
     "name": "stdin",
     "output_type": "stream",
     "text": [
      "Enter your name:  Myra\n"
     ]
    },
    {
     "name": "stdout",
     "output_type": "stream",
     "text": [
      "M\n",
      "My\n"
     ]
    }
   ],
   "source": [
    "name = input('Enter your name: ')\n",
    "print(name[0:1])\n",
    "print(name[0:2]) "
   ]
  },
  {
   "cell_type": "code",
   "execution_count": 14,
   "id": "8232f8b4-8317-41df-ac9e-6d74005d14d4",
   "metadata": {},
   "outputs": [
    {
     "name": "stdin",
     "output_type": "stream",
     "text": [
      "Enter you name:  Myra\n"
     ]
    },
    {
     "name": "stdout",
     "output_type": "stream",
     "text": [
      "M\n",
      "y\n",
      "r\n",
      "a\n"
     ]
    }
   ],
   "source": [
    "name = input('Enter you name: ').strip()\n",
    "for one_character in name:\n",
    "    print(one_character)\n",
    "    print "
   ]
  },
  {
   "cell_type": "code",
   "execution_count": 16,
   "id": "7969e0b4-dec0-4616-bfbd-d9b55a868039",
   "metadata": {},
   "outputs": [
    {
     "name": "stdin",
     "output_type": "stream",
     "text": [
      "Enter you name:  Myra\n"
     ]
    },
    {
     "name": "stdout",
     "output_type": "stream",
     "text": [
      "M\n",
      "My\n",
      "Myr\n",
      "Myra\n"
     ]
    }
   ],
   "source": [
    "name = input('Enter you name: ').strip()\n",
    "for index in range(len(name)): # you can also put +1 here\n",
    "    print(name[:index+1])"
   ]
  },
  {
   "cell_type": "code",
   "execution_count": 17,
   "id": "5dbb54a5-da04-4de3-adc5-a0d5c14420fa",
   "metadata": {},
   "outputs": [
    {
     "ename": "SyntaxError",
     "evalue": "invalid syntax (2116414775.py, line 5)",
     "output_type": "error",
     "traceback": [
      "\u001b[0;36m  Cell \u001b[0;32mIn[17], line 5\u001b[0;36m\u001b[0m\n\u001b[0;31m    if number is not is.digit\u001b[0m\n\u001b[0m                     ^\u001b[0m\n\u001b[0;31mSyntaxError\u001b[0m\u001b[0;31m:\u001b[0m invalid syntax\n"
     ]
    }
   ],
   "source": [
    "total = 0 \n",
    "\n",
    "while total < 100:\n",
    "    number = input('Enter a number: ')\n",
    "    if number is not is.digit\n",
    "        print ('Try again: ')\n",
    "    elif total < 100\n",
    "print('Done: ')\n"
   ]
  },
  {
   "cell_type": "code",
   "execution_count": 20,
   "id": "1e0a1615-1c8b-4892-880b-1934f733ecff",
   "metadata": {},
   "outputs": [
    {
     "name": "stdin",
     "output_type": "stream",
     "text": [
      "Enter a number:  90\n",
      "Enter a number:  hello\n"
     ]
    },
    {
     "name": "stdout",
     "output_type": "stream",
     "text": [
      "hello is not numeric; try again!\n"
     ]
    },
    {
     "name": "stdin",
     "output_type": "stream",
     "text": [
      "Enter a number:  50\n"
     ]
    },
    {
     "name": "stdout",
     "output_type": "stream",
     "text": [
      "Total = 140\n"
     ]
    }
   ],
   "source": [
    "total = 0 \n",
    "\n",
    "while total < 100:\n",
    "    s = input('Enter a number: ').strip()\n",
    "    if s.isdigit():\n",
    "        n = int(s)\n",
    "        total += n\n",
    "    else:\n",
    "        print(f'{s} is not numeric; try again!')\n",
    "print(f'Total = {total}')"
   ]
  },
  {
   "cell_type": "code",
   "execution_count": 23,
   "id": "0f4a44e5-51a6-47c7-aa5f-6e0b77c912e1",
   "metadata": {},
   "outputs": [
    {
     "ename": "IndentationError",
     "evalue": "unindent does not match any outer indentation level (<tokenize>, line 10)",
     "output_type": "error",
     "traceback": [
      "\u001b[0;36m  File \u001b[0;32m<tokenize>:10\u001b[0;36m\u001b[0m\n\u001b[0;31m    else:\u001b[0m\n\u001b[0m    ^\u001b[0m\n\u001b[0;31mIndentationError\u001b[0m\u001b[0;31m:\u001b[0m unindent does not match any outer indentation level\n"
     ]
    }
   ],
   "source": [
    "total = 0\n",
    "\n",
    "while s.isdigit:\n",
    "    s = input ('Enter a digit: ').strip()    \n",
    "    for total     \n",
    "if s.isdigit():\n",
    "        n = int(s)\n",
    "        for \n",
    "        int(s) + total\n",
    "    else:\n",
    "        print('Not a digit!')\n",
    "print(f'Total = {total})\n"
   ]
  },
  {
   "cell_type": "code",
   "execution_count": 28,
   "id": "0bcfdf71-340b-4884-b57e-0eb15a981fdf",
   "metadata": {},
   "outputs": [
    {
     "name": "stdin",
     "output_type": "stream",
     "text": [
      "Enter a digit:  50\n",
      "Enter a digit:  hello\n"
     ]
    },
    {
     "name": "stdout",
     "output_type": "stream",
     "text": [
      "not a digit\n",
      "not a digit\n",
      "not a digit\n",
      "not a digit\n",
      "not a digit\n"
     ]
    },
    {
     "name": "stdin",
     "output_type": "stream",
     "text": [
      "Enter a digit:  25\n",
      "Enter a digit:  \n"
     ]
    },
    {
     "name": "stdout",
     "output_type": "stream",
     "text": [
      "total = 12\n"
     ]
    }
   ],
   "source": [
    "total = 0\n",
    "\n",
    "while True:\n",
    "    s = input ('Enter a digit: ').strip()    \n",
    "    if s == '':\n",
    "        break\n",
    "    for one_character in s:\n",
    "        if one_character.isdigit():\n",
    "            total += int(one_character)\n",
    "        else:\n",
    "            print('not a digit')\n",
    "print(f'total = {total}')"
   ]
  },
  {
   "cell_type": "code",
   "execution_count": 34,
   "id": "d4f776f5-4329-4d7b-8242-4da5e60cdfe8",
   "metadata": {},
   "outputs": [
    {
     "ename": "SyntaxError",
     "evalue": "invalid syntax (1754229178.py, line 9)",
     "output_type": "error",
     "traceback": [
      "\u001b[0;36m  Cell \u001b[0;32mIn[34], line 9\u001b[0;36m\u001b[0m\n\u001b[0;31m    elif s == is.digit():\u001b[0m\n\u001b[0m              ^\u001b[0m\n\u001b[0;31mSyntaxError\u001b[0m\u001b[0;31m:\u001b[0m invalid syntax\n"
     ]
    }
   ],
   "source": [
    "mylist = odds\n",
    "mylist2 = evens\n",
    "\n",
    "s = input('Enter a number: ').string()\n",
    "\n",
    "for one_character in s: \n",
    "    if s == '': \n",
    "        break\n",
    "    elif s == is.digit():\n",
    "        break\n",
    "    elif s is odd:\n",
    "        mylist.append(odd)\n",
    "    elif s is even:\n",
    "        mylist.append(evens)\n",
    "\n",
    "print(f'odds = {mylist}')\n",
    "print(f'evens = {mylist2}')"
   ]
  },
  {
   "cell_type": "code",
   "execution_count": 36,
   "id": "390c6b1a-1cbd-437c-8a1e-53235f6f146e",
   "metadata": {},
   "outputs": [
    {
     "name": "stdin",
     "output_type": "stream",
     "text": [
      "Enter a number:  5\n",
      "Enter a number:  15\n",
      "Enter a number:  hello\n",
      "Enter a number:  15\n",
      "Enter a number:  \n"
     ]
    },
    {
     "name": "stdout",
     "output_type": "stream",
     "text": [
      "odds [5, 15, 15]\n",
      "evens []\n"
     ]
    }
   ],
   "source": [
    "evens = []\n",
    "odds = []\n",
    "\n",
    "while True:\n",
    "    s = input('Enter a number: ').strip()\n",
    "    if s == '':\n",
    "        break\n",
    "    if s.isdigit():\n",
    "        n = int(s)\n",
    "        if n % 2 == 1:\n",
    "            odds.append(n)\n",
    "        else:\n",
    "            print(f'{s} not a numeric; try again!')\n",
    "\n",
    "print(f'odds {odds}')\n",
    "print(f'evens {evens}')"
   ]
  },
  {
   "cell_type": "code",
   "execution_count": 48,
   "id": "d5efe530-9900-4048-b2bf-d42fa307becb",
   "metadata": {},
   "outputs": [
    {
     "ename": "SyntaxError",
     "evalue": "invalid syntax (3690147570.py, line 9)",
     "output_type": "error",
     "traceback": [
      "\u001b[0;36m  Cell \u001b[0;32mIn[48], line 9\u001b[0;36m\u001b[0m\n\u001b[0;31m    digits[] += s\u001b[0m\n\u001b[0m           ^\u001b[0m\n\u001b[0;31mSyntaxError\u001b[0m\u001b[0;31m:\u001b[0m invalid syntax\n"
     ]
    }
   ],
   "source": [
    "digits = []\n",
    "vowels = []\n",
    "others = []\n",
    "\n",
    "s = input('Enter text: ').strip()\n",
    "\n",
    "for one_character in s:\n",
    "    if one_character.isdigit():\n",
    "        digits[] += s\n",
    "    elif one_character in 'a,e,i,o,u':\n",
    "        vowels[] += s\n",
    "    else:\n",
    "        others[] += s\n",
    "\n",
    "print(f'digits = {digits}')\n",
    "print(f'vowels = {vowels}')\n",
    "print(f'others = {others}')       "
   ]
  },
  {
   "cell_type": "code",
   "execution_count": 50,
   "id": "238b913f-e063-44e2-a823-5de5cb069d58",
   "metadata": {},
   "outputs": [],
   "source": [
    "for one_character in s:\n",
    "    if one_character.isdigit():\n",
    "        digits.append(one_character)\n",
    "    elif one_character in 'a,e,i,o,u':\n",
    "        vowels.append(one_character)\n",
    "    else:\n",
    "        others.append(one_character)"
   ]
  },
  {
   "cell_type": "code",
   "execution_count": 55,
   "id": "5f40821b-32b9-43c4-ba4f-063e3835dbe3",
   "metadata": {},
   "outputs": [
    {
     "name": "stdin",
     "output_type": "stream",
     "text": [
      "Enter numbers separated by spaces 10 20 30\n"
     ]
    },
    {
     "ename": "ValueError",
     "evalue": "invalid literal for int() with base 10: ' '",
     "output_type": "error",
     "traceback": [
      "\u001b[0;31m---------------------------------------------------------------------------\u001b[0m",
      "\u001b[0;31mValueError\u001b[0m                                Traceback (most recent call last)",
      "Cell \u001b[0;32mIn[55], line 9\u001b[0m\n\u001b[1;32m      7\u001b[0m \u001b[38;5;28;01melif\u001b[39;00m \u001b[38;5;28mstr\u001b[39m\u001b[38;5;241m.\u001b[39msplit:\n\u001b[1;32m      8\u001b[0m     \u001b[38;5;28;01mfor\u001b[39;00m one_word \u001b[38;5;129;01min\u001b[39;00m s:\n\u001b[0;32m----> 9\u001b[0m        total \u001b[38;5;241m+\u001b[39m\u001b[38;5;241m=\u001b[39m \u001b[38;5;28;43mint\u001b[39;49m\u001b[43m(\u001b[49m\u001b[43mone_word\u001b[49m\u001b[43m)\u001b[49m\n\u001b[1;32m     10\u001b[0m \u001b[38;5;28;01melse\u001b[39;00m:\n\u001b[1;32m     11\u001b[0m     \u001b[38;5;28mprint\u001b[39m(\u001b[38;5;124m'\u001b[39m\u001b[38;5;124mNot a number\u001b[39m\u001b[38;5;124m'\u001b[39m)\n",
      "\u001b[0;31mValueError\u001b[0m: invalid literal for int() with base 10: ' '"
     ]
    }
   ],
   "source": [
    "total = 0\n",
    "\n",
    "while True:\n",
    "    s = input('Enter numbers separated by spaces').strip()\n",
    "    if s == '':\n",
    "        break\n",
    "    elif str.split:\n",
    "        for one_word in s:\n",
    "           total += int(one_word)\n",
    "    else:\n",
    "        print('Not a number')\n",
    "\n",
    "print(f'total = {total}')"
   ]
  },
  {
   "cell_type": "code",
   "execution_count": 65,
   "id": "d832f9b4-91b4-45e0-93a7-8763d786870c",
   "metadata": {},
   "outputs": [
    {
     "ename": "SyntaxError",
     "evalue": "invalid syntax (4268673658.py, line 3)",
     "output_type": "error",
     "traceback": [
      "\u001b[0;36m  Cell \u001b[0;32mIn[65], line 3\u001b[0;36m\u001b[0m\n\u001b[0;31m    s.split:\u001b[0m\n\u001b[0m            ^\u001b[0m\n\u001b[0;31mSyntaxError\u001b[0m\u001b[0;31m:\u001b[0m invalid syntax\n"
     ]
    }
   ],
   "source": [
    "s = input('Enter a sentence: ').strip()\n",
    "\n",
    "str.split:\n",
    "    for one_word in s:\n",
    "        if word[0] in 'aeiou':\n",
    "           print(word + 'way')\n",
    "        else:\n",
    "            print(word[1:] + word[0] + 'ay')\n",
    "    s.join\n",
    "\n",
    "print('Sentence = {s}')"
   ]
  },
  {
   "cell_type": "code",
   "execution_count": null,
   "id": "71e66a84-7782-4193-9f14-7ce014e94d3e",
   "metadata": {},
   "outputs": [],
   "source": []
  }
 ],
 "metadata": {
  "kernelspec": {
   "display_name": "Python 3 (ipykernel)",
   "language": "python",
   "name": "python3"
  },
  "language_info": {
   "codemirror_mode": {
    "name": "ipython",
    "version": 3
   },
   "file_extension": ".py",
   "mimetype": "text/x-python",
   "name": "python",
   "nbconvert_exporter": "python",
   "pygments_lexer": "ipython3",
   "version": "3.10.12"
  }
 },
 "nbformat": 4,
 "nbformat_minor": 5
}
