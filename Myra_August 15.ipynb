{
 "cells": [
  {
   "cell_type": "code",
   "execution_count": 2,
   "id": "1ca530f4-7254-44fb-8f04-cc50c76e4997",
   "metadata": {},
   "outputs": [
    {
     "ename": "SyntaxError",
     "evalue": "unterminated string literal (detected at line 12) (3149600371.py, line 12)",
     "output_type": "error",
     "traceback": [
      "\u001b[0;36m  Cell \u001b[0;32mIn[2], line 12\u001b[0;36m\u001b[0m\n\u001b[0;31m    print(f'digits = {digits})\u001b[0m\n\u001b[0m          ^\u001b[0m\n\u001b[0;31mSyntaxError\u001b[0m\u001b[0;31m:\u001b[0m unterminated string literal (detected at line 12)\n"
     ]
    }
   ],
   "source": [
    "digits = 0\n",
    "vowels = 0\n",
    "others = 0\n",
    "\n",
    "s = 123456\n",
    "\n",
    "for one_character in s:\n",
    "if(s == digit +=1)\n",
    "elif(s == vowel +=1)\n",
    "else +=1\n",
    "\n",
    "print(f'digits = {digits})\n",
    "    "
   ]
  },
  {
   "cell_type": "code",
   "execution_count": 3,
   "id": "fd0cc26d-1822-46de-b81d-cc246133452b",
   "metadata": {},
   "outputs": [],
   "source": [
    "# was headed in the right direction but didn't have the correct calculations. I was going to use is.digit (that was correct)"
   ]
  },
  {
   "cell_type": "code",
   "execution_count": 4,
   "id": "ce46caeb-a3b9-4495-9d33-723b664bb987",
   "metadata": {},
   "outputs": [
    {
     "ename": "IndentationError",
     "evalue": "unexpected indent (1753801612.py, line 2)",
     "output_type": "error",
     "traceback": [
      "\u001b[0;36m  Cell \u001b[0;32mIn[4], line 2\u001b[0;36m\u001b[0m\n\u001b[0;31m    digits +=1\u001b[0m\n\u001b[0m    ^\u001b[0m\n\u001b[0;31mIndentationError\u001b[0m\u001b[0;31m:\u001b[0m unexpected indent\n"
     ]
    }
   ],
   "source": [
    "# if one_character.isdigit():\n",
    "    digits +=1\n",
    "elif one_character in 'aeiou':\n",
    "    digits +=1\n",
    "else other:\n",
    "    digits +=1"
   ]
  },
  {
   "cell_type": "code",
   "execution_count": 12,
   "id": "1e325593-0ada-4b02-bd47-8fa6ed6cef1d",
   "metadata": {},
   "outputs": [
    {
     "name": "stdin",
     "output_type": "stream",
     "text": [
      "Enter your name:  Myra\n"
     ]
    },
    {
     "name": "stdout",
     "output_type": "stream",
     "text": [
      "M\n",
      "My\n"
     ]
    }
   ],
   "source": [
    "name = input('Enter your name: ')\n",
    "print(name[0:1])\n",
    "print(name[0:2]) "
   ]
  },
  {
   "cell_type": "code",
   "execution_count": 14,
   "id": "8232f8b4-8317-41df-ac9e-6d74005d14d4",
   "metadata": {},
   "outputs": [
    {
     "name": "stdin",
     "output_type": "stream",
     "text": [
      "Enter you name:  Myra\n"
     ]
    },
    {
     "name": "stdout",
     "output_type": "stream",
     "text": [
      "M\n",
      "y\n",
      "r\n",
      "a\n"
     ]
    }
   ],
   "source": [
    "name = input('Enter you name: ').strip()\n",
    "for one_character in name:\n",
    "    print(one_character)\n",
    "    print "
   ]
  },
  {
   "cell_type": "code",
   "execution_count": 16,
   "id": "7969e0b4-dec0-4616-bfbd-d9b55a868039",
   "metadata": {},
   "outputs": [
    {
     "name": "stdin",
     "output_type": "stream",
     "text": [
      "Enter you name:  Myra\n"
     ]
    },
    {
     "name": "stdout",
     "output_type": "stream",
     "text": [
      "M\n",
      "My\n",
      "Myr\n",
      "Myra\n"
     ]
    }
   ],
   "source": [
    "name = input('Enter you name: ').strip()\n",
    "for index in range(len(name)): # you can also put +1 here\n",
    "    print(name[:index+1])"
   ]
  },
  {
   "cell_type": "code",
   "execution_count": 17,
   "id": "5dbb54a5-da04-4de3-adc5-a0d5c14420fa",
   "metadata": {},
   "outputs": [
    {
     "ename": "SyntaxError",
     "evalue": "invalid syntax (2116414775.py, line 5)",
     "output_type": "error",
     "traceback": [
      "\u001b[0;36m  Cell \u001b[0;32mIn[17], line 5\u001b[0;36m\u001b[0m\n\u001b[0;31m    if number is not is.digit\u001b[0m\n\u001b[0m                     ^\u001b[0m\n\u001b[0;31mSyntaxError\u001b[0m\u001b[0;31m:\u001b[0m invalid syntax\n"
     ]
    }
   ],
   "source": [
    "total = 0 \n",
    "\n",
    "while total < 100:\n",
    "    number = input('Enter a number: ')\n",
    "    if number is not is.digit\n",
    "        print ('Try again: ')\n",
    "    elif total < 100\n",
    "print('Done: ')\n"
   ]
  },
  {
   "cell_type": "code",
   "execution_count": 20,
   "id": "1e0a1615-1c8b-4892-880b-1934f733ecff",
   "metadata": {},
   "outputs": [
    {
     "name": "stdin",
     "output_type": "stream",
     "text": [
      "Enter a number:  90\n",
      "Enter a number:  hello\n"
     ]
    },
    {
     "name": "stdout",
     "output_type": "stream",
     "text": [
      "hello is not numeric; try again!\n"
     ]
    },
    {
     "name": "stdin",
     "output_type": "stream",
     "text": [
      "Enter a number:  50\n"
     ]
    },
    {
     "name": "stdout",
     "output_type": "stream",
     "text": [
      "Total = 140\n"
     ]
    }
   ],
   "source": [
    "total = 0 \n",
    "\n",
    "while total < 100:\n",
    "    s = input('Enter a number: ').strip()\n",
    "    if s.isdigit():\n",
    "        n = int(s)\n",
    "        total += n\n",
    "    else:\n",
    "        print(f'{s} is not numeric; try again!')\n",
    "print(f'Total = {total}')"
   ]
  },
  {
   "cell_type": "code",
   "execution_count": null,
   "id": "0f4a44e5-51a6-47c7-aa5f-6e0b77c912e1",
   "metadata": {},
   "outputs": [],
   "source": [
    "total = 0\n",
    "\n",
    "while s = is.digit:\n",
    "    s = input ('Enter a digit: ').strip()    \n",
    "    \n",
    "if s.isdigit():\n",
    "        n = int(s)\n",
    "        total += n\n",
    "while s \n"
   ]
  }
 ],
 "metadata": {
  "kernelspec": {
   "display_name": "Python 3 (ipykernel)",
   "language": "python",
   "name": "python3"
  },
  "language_info": {
   "codemirror_mode": {
    "name": "ipython",
    "version": 3
   },
   "file_extension": ".py",
   "mimetype": "text/x-python",
   "name": "python",
   "nbconvert_exporter": "python",
   "pygments_lexer": "ipython3",
   "version": "3.10.12"
  }
 },
 "nbformat": 4,
 "nbformat_minor": 5
}
