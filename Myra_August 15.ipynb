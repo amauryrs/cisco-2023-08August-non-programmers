{
 "cells": [
  {
   "cell_type": "code",
   "execution_count": 2,
   "id": "1ca530f4-7254-44fb-8f04-cc50c76e4997",
   "metadata": {},
   "outputs": [
    {
     "ename": "SyntaxError",
     "evalue": "unterminated string literal (detected at line 12) (3149600371.py, line 12)",
     "output_type": "error",
     "traceback": [
      "\u001b[0;36m  Cell \u001b[0;32mIn[2], line 12\u001b[0;36m\u001b[0m\n\u001b[0;31m    print(f'digits = {digits})\u001b[0m\n\u001b[0m          ^\u001b[0m\n\u001b[0;31mSyntaxError\u001b[0m\u001b[0;31m:\u001b[0m unterminated string literal (detected at line 12)\n"
     ]
    }
   ],
   "source": [
    "digits = 0\n",
    "vowels = 0\n",
    "others = 0\n",
    "\n",
    "s = 123456\n",
    "\n",
    "for one_character in s:\n",
    "if(s == digit +=1)\n",
    "elif(s == vowel +=1)\n",
    "else +=1\n",
    "\n",
    "print(f'digits = {digits})\n",
    "    "
   ]
  },
  {
   "cell_type": "code",
   "execution_count": 3,
   "id": "fd0cc26d-1822-46de-b81d-cc246133452b",
   "metadata": {},
   "outputs": [],
   "source": [
    "# was headed in the right direction but didn't have the correct calculations. I was going to use is.digit (that was correct)"
   ]
  },
  {
   "cell_type": "code",
   "execution_count": 4,
   "id": "ce46caeb-a3b9-4495-9d33-723b664bb987",
   "metadata": {},
   "outputs": [
    {
     "ename": "IndentationError",
     "evalue": "unexpected indent (1753801612.py, line 2)",
     "output_type": "error",
     "traceback": [
      "\u001b[0;36m  Cell \u001b[0;32mIn[4], line 2\u001b[0;36m\u001b[0m\n\u001b[0;31m    digits +=1\u001b[0m\n\u001b[0m    ^\u001b[0m\n\u001b[0;31mIndentationError\u001b[0m\u001b[0;31m:\u001b[0m unexpected indent\n"
     ]
    }
   ],
   "source": [
    "# if one_character.isdigit():\n",
    "    digits +=1\n",
    "elif one_character in 'aeiou':\n",
    "    digits +=1\n",
    "else other:\n",
    "    digits +=1"
   ]
  },
  {
   "cell_type": "code",
   "execution_count": 12,
   "id": "1e325593-0ada-4b02-bd47-8fa6ed6cef1d",
   "metadata": {},
   "outputs": [
    {
     "name": "stdin",
     "output_type": "stream",
     "text": [
      "Enter your name:  Myra\n"
     ]
    },
    {
     "name": "stdout",
     "output_type": "stream",
     "text": [
      "M\n",
      "My\n"
     ]
    }
   ],
   "source": [
    "name = input('Enter your name: ')\n",
    "print(name[0:1])\n",
    "print(name[0:2]) "
   ]
  },
  {
   "cell_type": "code",
   "execution_count": 13,
   "id": "8232f8b4-8317-41df-ac9e-6d74005d14d4",
   "metadata": {},
   "outputs": [
    {
     "name": "stdin",
     "output_type": "stream",
     "text": [
      "Enter you name:  Myra\n"
     ]
    },
    {
     "name": "stdout",
     "output_type": "stream",
     "text": [
      "M\n",
      "y\n",
      "r\n",
      "a\n"
     ]
    }
   ],
   "source": [
    "name = input('Enter you name: ').strip\n",
    "for one_character in name:\n",
    "    print(one_character)\n",
    "    print "
   ]
  },
  {
   "cell_type": "code",
   "execution_count": null,
   "id": "7969e0b4-dec0-4616-bfbd-d9b55a868039",
   "metadata": {},
   "outputs": [],
   "source": []
  }
 ],
 "metadata": {
  "kernelspec": {
   "display_name": "Python 3 (ipykernel)",
   "language": "python",
   "name": "python3"
  },
  "language_info": {
   "codemirror_mode": {
    "name": "ipython",
    "version": 3
   },
   "file_extension": ".py",
   "mimetype": "text/x-python",
   "name": "python",
   "nbconvert_exporter": "python",
   "pygments_lexer": "ipython3",
   "version": "3.10.12"
  }
 },
 "nbformat": 4,
 "nbformat_minor": 5
}
