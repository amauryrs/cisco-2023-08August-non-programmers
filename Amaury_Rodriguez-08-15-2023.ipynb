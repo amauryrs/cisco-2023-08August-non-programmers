{
 "cells": [
  {
   "cell_type": "code",
   "execution_count": null,
   "id": "ca7485a4-8ada-4ac6-ad63-eb19d398fd54",
   "metadata": {},
   "outputs": [],
   "source": [
    "# Exercise: Digits, vowels, and others ---\n",
    "Define three variables, digits, vowels, and others, all to be 0. We will use these variables to count how many times we see digits, vowels, and other characters in the user's input.\n",
    "Ask the user to enter a string.\n",
    "Go through that string, one character at a time:\n",
    "If the current character is a digit 0-9, add 1 to the digits variable.\n",
    "If the current character is a vowel (a, e, i, o, or u), add 1 to the vowels variable.\n",
    "In all other cases, add 1 to the others variable.\n",
    "Print the names and values of all three counting variables.\n",
    "\n",
    "Example:\n",
    "\n",
    "Enter a string: hello!! 123\n",
    "digits: 3\n",
    "vowels: 2\n",
    "others: 6"
   ]
  },
  {
   "cell_type": "code",
   "execution_count": 2,
   "id": "fa373259-3131-46b2-8570-12ae485ead00",
   "metadata": {},
   "outputs": [
    {
     "name": "stdin",
     "output_type": "stream",
     "text": [
      "Enter a String:  Hello!! 123 =)\n"
     ]
    },
    {
     "name": "stdout",
     "output_type": "stream",
     "text": [
      "vowels = 2\n",
      "digits = 3\n",
      "others = 9\n"
     ]
    }
   ],
   "source": [
    "# --- Setup:\n",
    "digits = 0\n",
    "vowels = 0\n",
    "others = 0\n",
    "\n",
    "s = input('Enter a String: ').strip()\n",
    "\n",
    "# --- Calculation:\n",
    "for one_character in s:\n",
    "    if one_character.isdigit():\n",
    "        digits += 1\n",
    "    elif one_character in 'aeiou':\n",
    "        vowels += 1\n",
    "    else:\n",
    "        others += 1\n",
    "\n",
    "# report\n",
    "print(f'vowels = {vowels}')\n",
    "print(f'digits = {digits}')\n",
    "print(f'others = {others}')\n"
   ]
  },
  {
   "cell_type": "code",
   "execution_count": null,
   "id": "9c7eb83b-b9f3-4ee2-b7f2-595bc8abdc08",
   "metadata": {},
   "outputs": [],
   "source": [
    "# Exercise: Name triangles\n",
    "Ask the user to enter their name.\n",
    "Print the user's name as a triangle:\n",
    "On the first line, print the first letter\n",
    "On the second line, print the first two letters\n",
    "Continue...\n",
    "On the final line, print the entire name\n",
    "Example:\n",
    "\n",
    "Enter your name: Reuven\n",
    "R\n",
    "Re\n",
    "Reu\n",
    "Reuv\n",
    "Reuve\n",
    "Reuven\n",
    "\n",
    "A few things to remember:\n",
    "\n",
    "You can get the length of a string with len\n",
    "You can iterate a number of times with range\n",
    "You can grab a portion of a string with a slice, namely s[start:end]\n",
    "\n",
    "\n",
    "### Example:\n",
    "# Ask the user to enter their name\n",
    "user_name = input(\"Enter your name: \")\n",
    "\n",
    "# Get the length of the user's name\n",
    "name_length = len(user_name)\n",
    "\n",
    "# Print the name as a triangle\n",
    "for i in range(1, name_length + 1):\n",
    "    print(user_name[:i])\n",
    "\n"
   ]
  },
  {
   "cell_type": "code",
   "execution_count": 19,
   "id": "10079873-8528-4c50-a0a1-6ae700c48b3e",
   "metadata": {},
   "outputs": [
    {
     "name": "stdin",
     "output_type": "stream",
     "text": [
      "Enter your name:  JoseManuel\n"
     ]
    },
    {
     "name": "stdout",
     "output_type": "stream",
     "text": [
      "J\n",
      "Jo\n",
      "Jos\n",
      "Jose\n",
      "JoseM\n",
      "JoseMa\n",
      "JoseMan\n",
      "JoseManu\n",
      "JoseManue\n",
      "JoseManuel\n"
     ]
    }
   ],
   "source": [
    "#--- Setup:\n",
    "user_name = input('Enter your name: ')\n",
    "\n",
    "#--- Calculation:\n",
    "name_len = len(user_name)\n",
    "\n",
    "for index in range(name_len):\n",
    "    print(user_name[0:index+1])\n",
    "\n"
   ]
  },
  {
   "cell_type": "code",
   "execution_count": null,
   "id": "b4eff015-6b9e-4feb-b606-f76b368d3328",
   "metadata": {},
   "outputs": [],
   "source": [
    "### # Exercise: Sum to 100\n",
    "1. Define a variable, `total`, and set it to 0.\n",
    "2. So long as `total` is less than 100, ask the user to enter a number.\n",
    "    - If they enter something non-numeric, scold them and let them try again.\n",
    "3. Add the user's input to `total`.\n",
    "4. When `total` is 100 or more, stop asking and print its value.\n",
    "Example:\n",
    "    Enter a number: 30\n",
    "    Enter a number: 50\n",
    "    Enter a number: hello\n",
    "    hello is not a number\n",
    "    Enter a number: 30\n",
    "    Total is 110\n",
    "- What condition do you need in the `while` loop?\n",
    "- Start off by not checking if the user's input is numeric, to make things easier\n",
    "- Don't forget to convert your data from strings to ints (or vice versa)."
   ]
  },
  {
   "cell_type": "code",
   "execution_count": 22,
   "id": "35842f95-9d97-4960-81d4-1338da69f59d",
   "metadata": {},
   "outputs": [
    {
     "name": "stdin",
     "output_type": "stream",
     "text": [
      "Enter a number:  Hola\n"
     ]
    },
    {
     "name": "stdout",
     "output_type": "stream",
     "text": [
      "HOLA is not a number.\n"
     ]
    },
    {
     "name": "stdin",
     "output_type": "stream",
     "text": [
      "Enter a number:  30\n",
      "Enter a number:  30\n",
      "Enter a number:  50\n"
     ]
    },
    {
     "name": "stdout",
     "output_type": "stream",
     "text": [
      "Total is 110\n"
     ]
    }
   ],
   "source": [
    "#setup\n",
    "total = 0\n",
    "\n",
    "#calculation\n",
    "while total < 100:\n",
    "    user_input = input('Enter a number: ')\n",
    "    if user_input.isdigit():\n",
    "        total +=int(user_input)\n",
    "    else:\n",
    "        print(str.upper(user_input), \"is not a number.\")\n",
    "    \n",
    "#report\n",
    "print(\"Total is\", total)\n"
   ]
  },
  {
   "cell_type": "code",
   "execution_count": null,
   "id": "891ece86-445c-4646-b525-74c4592cea19",
   "metadata": {},
   "outputs": [],
   "source": [
    "## Exercise: Sum digits\n",
    "1. Define `total` to be 0.\n",
    "2. Repeatedly ask the user to enter a string containing digits.\n",
    "3. If the user enters an empty string (or one containing just whitespace), then stop asking and print `total`.\n",
    "4. If the user enters a string, then go through each character in the string.\n",
    "    - If it's numeric, then turn it into an integer, and add to `total`.\n",
    "    - Otherwise, scold the user.\n",
    "5. Print `total`\n",
    "This means: \n",
    "- We're going to use a `while` loop to get input from the user, because we don't know how many strings we'll get.\n",
    "- Inside of the `while` loop, we'll use a `for` loop to go through each character. If it's numeric, we'll turn it into an int and add to `total`\n",
    "Example:\n",
    "    Enter numbers: 123\n",
    "    Enter numbers: 4a5\n",
    "    a is not numeric; ignoring\n",
    "    Enter numbers: [ENTER]\n",
    "    Total: 15"
   ]
  },
  {
   "cell_type": "code",
   "execution_count": 31,
   "id": "1e039d84-622c-4946-be4a-d40b4bc58c06",
   "metadata": {},
   "outputs": [
    {
     "name": "stdin",
     "output_type": "stream",
     "text": [
      "Enter a String with Digits:  123\n",
      "Enter a String with Digits:  4d6\n"
     ]
    },
    {
     "name": "stdout",
     "output_type": "stream",
     "text": [
      "d, is not a number.\n"
     ]
    },
    {
     "name": "stdin",
     "output_type": "stream",
     "text": [
      "Enter a String with Digits:  \n"
     ]
    },
    {
     "name": "stdout",
     "output_type": "stream",
     "text": [
      "Total = 16\n"
     ]
    }
   ],
   "source": [
    "#setup\n",
    "total = 0\n",
    "\n",
    "#calculation\n",
    "while True:\n",
    "    user_input = input('Enter a String with Digits: ').strip()\n",
    "    if user_input == '':\n",
    "        break\n",
    "    for one_char in user_input:\n",
    "            if one_char.isdigit():\n",
    "                   total += int(one_char)\n",
    "            else:\n",
    "                print(f'{one_char}, is not a number.')\n",
    "\n",
    "#report\n",
    "print(f'Total = {total}')\n"
   ]
  },
  {
   "cell_type": "code",
   "execution_count": null,
   "id": "c090bd9b-da9a-4b89-bb34-1b3988bbfd2e",
   "metadata": {},
   "outputs": [],
   "source": [
    "## Exercise: Odds and evens\n",
    "1. Define two empty lists, `odds` and `evens`.\n",
    "2. Ask the user to enter a number.\n",
    "    - If the user enters the empty string, break\n",
    "    - If the user enters non-numeric data, break\n",
    "3. Check whether the number is odd or even.\n",
    "    - If it's odd, append to the `odds` list\n",
    "    - If it's even, append to the `evens\" list\n",
    "4. Print both lists \n",
    "Example:\n",
    "    Enter a number: 10\n",
    "    Enter a number: 7\n",
    "    Enter a number: 22\n",
    "    Enter a number: 93\n",
    "    Enter a number: [ENTER]\n",
    "    Odds: [7, 93]\n",
    "    Evens: 10, 22]\n",
    "\n",
    "\n",
    "### EXAMPLE SOLUTION:\n",
    "# setup\n",
    "evens = []\n",
    "odds = []\n",
    "\n",
    "# calculations\n",
    "while True:\n",
    "    s = input('Enter a number: ').strip()\n",
    "\n",
    "    if s == '':\n",
    "        break\n",
    "\n",
    "    if s.isdigit():   # if all characters in s are 0-9\n",
    "\n",
    "        # convert s into an integer\n",
    "        n = int(s)\n",
    "    \n",
    "        # check whether n is odd or even\n",
    "        # if it's odd, append to odds\n",
    "        if n % 2 == 1:   # meaning: after dividing n by 2, do we have a remainder of 1?\n",
    "            odds.append(n)\n",
    "    \n",
    "        # if it's even, append to evens\n",
    "        else:\n",
    "            evens.append(n)\n",
    "\n",
    "    else:\n",
    "        print(f'{s} is not numeric; try again!')\n",
    "\n",
    "# report\n",
    "print(f'evens = {evens}')\n",
    "print(f'odds = {odds}')\n",
    "\n",
    "#End of Code Example!\n"
   ]
  },
  {
   "cell_type": "code",
   "execution_count": null,
   "id": "cc4e3458-99bb-4e0d-ae3c-e0207f807986",
   "metadata": {},
   "outputs": [],
   "source": [
    "#Setup\n",
    "odds = []\n",
    "evens = []\n",
    "\n",
    "#Calculator\n",
    "while True:\n",
    "    num = input('Enter a Number: ').strip()\n",
    "    if num == '':\n",
    "        break\n",
    "    if num != '0123456789':\n",
    "        break\n",
    "    if num % 2 == 0:\n",
    "        evens.append(num)\n",
    "    else:\n",
    "        odds.append(num)\n",
    "        \n",
    "#Report\n",
    "print(odds)\n",
    "print(evens)\n"
   ]
  },
  {
   "cell_type": "code",
   "execution_count": null,
   "id": "09f3f339-ba0a-457d-ac5b-4b33b9507730",
   "metadata": {},
   "outputs": [],
   "source": [
    "## # Exercise: Digits, vowels, and others -- list edition\n",
    "1. Define three empty lists, called `digits`, `vowels`, and `others`.\n",
    "2. Ask the user to enter a string.\n",
    "3. Go through each character in the string:\n",
    "    - If it's a digit, then add that digit to the `digits` list.\n",
    "    - If it's a vowel, then add that vowel to the `vowels` list.\n",
    "    - Otherwise, append it to the `others` list.\n",
    "4. Print all three lists.\n",
    "Example:\n",
    "    Enter a string: hello!! 123\n",
    "    digits = ['1', '2', '3']\n",
    "    vowels = ['e', 'o']\n",
    "    others = ['h', 'l', 'l', '!', '!', ' ']\n",
    "\n"
   ]
  },
  {
   "cell_type": "code",
   "execution_count": 41,
   "id": "1c7b897d-58ec-48b4-abc3-f3153c64b6f1",
   "metadata": {},
   "outputs": [
    {
     "name": "stdin",
     "output_type": "stream",
     "text": [
      "Enter a String:  hello! amaury 2013\n"
     ]
    },
    {
     "name": "stdout",
     "output_type": "stream",
     "text": [
      "digits= ['2', '0', '1', '3']\n",
      "vowels= ['e', 'o', 'a', 'a', 'u']\n",
      "others= ['h', 'l', 'l', '!', ' ', 'm', 'r', 'y', ' ']\n"
     ]
    }
   ],
   "source": [
    "#setup\n",
    "digits = []\n",
    "vowels = []\n",
    "others = []\n",
    "\n",
    "#calculation\n",
    "\n",
    "s = input('Enter a String: ')\n",
    "for one_char in s:\n",
    "    if one_char.isdigit():\n",
    "        digits.append(one_char)\n",
    "    elif one_char in 'aeiou':\n",
    "        vowels.append(one_char)\n",
    "    else:\n",
    "        others.append(one_char)\n",
    "\n",
    "#report\n",
    "print(f'digits= {digits}')\n",
    "print(f'vowels= {vowels}')\n",
    "print(f'others= {others}')\n"
   ]
  },
  {
   "cell_type": "code",
   "execution_count": null,
   "id": "01146347-6f07-4af6-b06d-ecac77338f67",
   "metadata": {},
   "outputs": [],
   "source": [
    "### Exercise: Summing numbers\n",
    "1. Define `total` to be 0.\n",
    "2. Ask the user, repeatedly, to enter one or more numbers separated by whitespace.\n",
    "    - If the user just presses ENTER or gives the empty string, stop asking\n",
    "3. Break the user's input into a list of strings\n",
    "4. Go through each \"word\" one at a time\n",
    "    - If the string/word is numeric, then turn it into an int and add to `total`.\n",
    "    - Otherwise, scold the user\n",
    "5. Print `total`.\n",
    "Example:\n",
    "    Enter one or more numbers: 10 20 30\n",
    "    Enter one or more numbers: 100 200\n",
    "    Enter one or more numbers: asdfafdas\n",
    "    Please enter a number!\n",
    "    Enter one or more numbers: [ENTER]\n",
    "    Total is 360\n",
    "Strategy:\n",
    "- Use `while True` to get user input\n",
    "- Compare the user's input with `''`, empty string\n",
    "- Use `str.split` to turn the string into a list of strings/words\n",
    "- Use a `for` loop to go through the words\n",
    "- If it's numeric, then turn into an integer and add to `total`.\n",
    "\n",
    "\n"
   ]
  },
  {
   "cell_type": "code",
   "execution_count": 42,
   "id": "4536b955-2cbd-45b1-a3bd-44e051fe8238",
   "metadata": {},
   "outputs": [
    {
     "name": "stdin",
     "output_type": "stream",
     "text": [
      "Enter one or more numbers:  10 20 30 40 \n",
      "Enter one or more numbers:  50 30 20\n",
      "Enter one or more numbers:  \n"
     ]
    },
    {
     "name": "stdout",
     "output_type": "stream",
     "text": [
      "200\n"
     ]
    }
   ],
   "source": [
    "#setup\n",
    "total = 0\n",
    "\n",
    "#calculation\n",
    "\n",
    "while True:\n",
    "    s = input('Enter one or more numbers: ').strip()\n",
    "    if s == '':\n",
    "        break\n",
    "    newlist = s.split()\n",
    "    for world in newlist:\n",
    "        if world.isdigit():\n",
    "            total +=int(world)\n",
    "        else:\n",
    "            print('Please Enter a Number!: ')\n",
    "            \n",
    "#report\n",
    "print(total)\n"
   ]
  },
  {
   "cell_type": "code",
   "execution_count": null,
   "id": "a8e4a704-a8d5-4884-886e-8c5922c0507c",
   "metadata": {},
   "outputs": [],
   "source": [
    "### # Exercise: Pig Latin sentence!\n",
    "Yesterday, we wrote a program that takes one word, and translates it into Pig Latin:\n",
    "\n",
    "```python\n",
    "word = input('Enter a word: ').strip()\n",
    "if word[0] in 'aeiou':\n",
    "    print(word + 'way')\n",
    "else:\n",
    "    print(word[1:] + word[0] + 'ay')\n",
    "```\n",
    "\n",
    "1. Ask the user to enter a *sentence* -- no capitals, no punctuation.\n",
    "2. Print the result of translating the sentence, with all of the words on a single line.\n",
    "\n",
    "Example:\n",
    "    Enter a sentence: this is a test\n",
    "    histay isway away esttay\n",
    "\n",
    "Hints/ideas:\n",
    "'''\n",
    "1. It's totally OK to start with yesterday's code.\n",
    "2. Consider how you'll get a sentence from the user, and break it apart.\n",
    "3. Once you've broken it apart, how can you apply yesterday's code to each word?\n",
    "4. Once you've translated each word, how can you put it back together?\n",
    "'''\n",
    "\n",
    "##### EXAMPLE CODE: 2 Optiosn:\n",
    "\n",
    "# now let's try to get the output on a single line\n",
    "# option 1: use a string\n",
    "\n",
    "output = ''\n",
    "sentence = input('Enter a sentence: ').strip()\n",
    "\n",
    "for word in sentence.split():\n",
    "    if word[0] in 'aeiou':\n",
    "        output += word + 'way '\n",
    "    else:\n",
    "        output += word[1:] + word[0] + 'ay '\n",
    "\n",
    "print(output)\n",
    "\n",
    "# option 2: use a list -- the better, more efficient option\n",
    "\n",
    "output = []\n",
    "sentence = input('Enter a sentence: ').strip()\n",
    "\n",
    "for word in sentence.split():\n",
    "    if word[0] in 'aeiou':\n",
    "        output.append(word + 'way')\n",
    "    else:\n",
    "        output.append(word[1:] + word[0] + 'ay')\n",
    "\n",
    "print(' '.join(output))\n",
    "\n",
    "### End of code examples.\n"
   ]
  },
  {
   "cell_type": "code",
   "execution_count": null,
   "id": "d46707f9-4cc5-40fa-874f-254135935c73",
   "metadata": {},
   "outputs": [
    {
     "name": "stdin",
     "output_type": "stream",
     "text": [
      "Enter a sentense with not capitals, not puntuation:  this is a test\n"
     ]
    }
   ],
   "source": [
    "# Reusing code from yesterday exercise: \n",
    "### === Need to practice the logic/approach to solve the problems... \n",
    "#setup\n",
    "output = ''\n",
    "\n",
    "#calculation\n",
    "sentence = input(\"Enter a sentense with not capitals, not puntuation: \").strip()\n",
    "for word in sentence.split():\n",
    "    if word[0] in 'aeiou':\n",
    "       output += word + 'way '\n",
    "    else: \n",
    "        output += word[1:] + word[0] + 'ay '\n",
    "\n",
    "print(output)\n",
    "## === Need to practice the logic/approach to solve the problems... \n"
   ]
  },
  {
   "cell_type": "code",
   "execution_count": 61,
   "id": "ffdf29e9-1e7c-4235-97b3-32983ed4dd61",
   "metadata": {},
   "outputs": [
    {
     "name": "stdin",
     "output_type": "stream",
     "text": [
      "Enter a sentence:  this is a test\n"
     ]
    },
    {
     "name": "stdout",
     "output_type": "stream",
     "text": [
      "histay isway away esttay\n"
     ]
    }
   ],
   "source": [
    "# Other example from internet:\n",
    "# Step 1: Ask the user to enter a sentence\n",
    "sentence = input(\"Enter a sentence: \").strip().lower()\n",
    "\n",
    "# Step 2: Break the sentence into individual words\n",
    "words = sentence.split()\n",
    "\n",
    "# Initialize an empty list to store translated words\n",
    "translated_words = []\n",
    "\n",
    "# Step 3 and 4: Process each word and translate to Pig Latin\n",
    "for word in words:\n",
    "    if word[0] in 'aeiou':\n",
    "        translated_words.append(word + 'way')\n",
    "    else:\n",
    "        translated_words.append(word[1:] + word[0] + 'ay')\n",
    "\n",
    "# Step 5: Print the translated sentence\n",
    "translated_sentence = ' '.join(translated_words)\n",
    "print(translated_sentence)\n"
   ]
  },
  {
   "cell_type": "code",
   "execution_count": null,
   "id": "67b2924c-9ef4-4a38-9712-18bf66b4013d",
   "metadata": {},
   "outputs": [],
   "source": [
    "### # Exercise: Smallest and largest\n",
    "1. Define a list, `numbers`, containing 10 integers.\n",
    "2. Find the largest and smallest numbers in this list.\n",
    "3. Print the largest and smallest numbers.\n",
    "\n",
    "You could cheat and use the builtin `min` and `max` functions on the list, getting the answers. \n",
    "But that's not what I want! Instead, I want you to do the following:\n",
    "\n",
    "1. Define `largest` and `smallest` both to be the first element of `numbers`.\n",
    "2. Go through `numbers`, one element at a time.\n",
    "    - If the current element is larger than `largest`, replace it.\n",
    "    - If the current element is smaller than `smallest`, replace it.\n",
    "3. Print `largest` and `smallest`.\n",
    "\n"
   ]
  },
  {
   "cell_type": "code",
   "execution_count": 1,
   "id": "75bf790b-d2fe-4831-9bf1-396bb6d3a7b1",
   "metadata": {},
   "outputs": [
    {
     "name": "stdout",
     "output_type": "stream",
     "text": [
      "largest = 654\n",
      "smallest = 9\n"
     ]
    }
   ],
   "source": [
    "### CODE EXAMPLE\n",
    "numbers = [23, 654, 21, 9, 564, 92, 51, 177, 20, 15]\n",
    "\n",
    "largest = numbers[0]    # assume the largest number is the first element of numbers\n",
    "smallest = numbers[0]   # assume that the smallest number is the first element of numbers\n",
    "\n",
    "# go through numbers, starting with its 2nd element (index 1)\n",
    "for one_number in numbers[1:]:\n",
    "    if one_number < smallest:\n",
    "        smallest = one_number\n",
    "        \n",
    "    if one_number > largest:\n",
    "        largest = one_number\n",
    "\n",
    "print(f'largest = {largest}')\n",
    "print(f'smallest = {smallest}')\n"
   ]
  },
  {
   "cell_type": "code",
   "execution_count": null,
   "id": "8bc08ac5-485f-4c19-ac82-9a1c38571794",
   "metadata": {},
   "outputs": [],
   "source": [
    "#Setup\n",
    "numbers = [1, 2, 3, 4, 5, 6, 7, 8, 9, 10]\n",
    "\n",
    "#Calculation\n",
    "\n",
    "#Report\n",
    "print(largest)\n",
    "print(smallest)\n"
   ]
  }
 ],
 "metadata": {
  "kernelspec": {
   "display_name": "Python 3 (ipykernel)",
   "language": "python",
   "name": "python3"
  },
  "language_info": {
   "codemirror_mode": {
    "name": "ipython",
    "version": 3
   },
   "file_extension": ".py",
   "mimetype": "text/x-python",
   "name": "python",
   "nbconvert_exporter": "python",
   "pygments_lexer": "ipython3",
   "version": "3.10.12"
  }
 },
 "nbformat": 4,
 "nbformat_minor": 5
}
