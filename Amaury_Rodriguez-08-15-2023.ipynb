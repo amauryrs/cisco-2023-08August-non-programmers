{
 "cells": [
  {
   "cell_type": "code",
   "execution_count": null,
   "id": "ca7485a4-8ada-4ac6-ad63-eb19d398fd54",
   "metadata": {},
   "outputs": [],
   "source": [
    "# Exercise: Digits, vowels, and others ---\n",
    "Define three variables, digits, vowels, and others, all to be 0. We will use these variables to count how many times we see digits, vowels, and other characters in the user's input.\n",
    "Ask the user to enter a string.\n",
    "Go through that string, one character at a time:\n",
    "If the current character is a digit 0-9, add 1 to the digits variable.\n",
    "If the current character is a vowel (a, e, i, o, or u), add 1 to the vowels variable.\n",
    "In all other cases, add 1 to the others variable.\n",
    "Print the names and values of all three counting variables.\n",
    "\n",
    "Example:\n",
    "\n",
    "Enter a string: hello!! 123\n",
    "digits: 3\n",
    "vowels: 2\n",
    "others: 6"
   ]
  },
  {
   "cell_type": "code",
   "execution_count": 2,
   "id": "fa373259-3131-46b2-8570-12ae485ead00",
   "metadata": {},
   "outputs": [
    {
     "name": "stdin",
     "output_type": "stream",
     "text": [
      "Enter a String:  Hello!! 123 =)\n"
     ]
    },
    {
     "name": "stdout",
     "output_type": "stream",
     "text": [
      "vowels = 2\n",
      "digits = 3\n",
      "others = 9\n"
     ]
    }
   ],
   "source": [
    "# --- Setup:\n",
    "digits = 0\n",
    "vowels = 0\n",
    "others = 0\n",
    "\n",
    "s = input('Enter a String: ').strip()\n",
    "\n",
    "# --- Calculation:\n",
    "for one_character in s:\n",
    "    if one_character.isdigit():\n",
    "        digits += 1\n",
    "    elif one_character in 'aeiou':\n",
    "        vowels += 1\n",
    "    else:\n",
    "        others += 1\n",
    "\n",
    "# report\n",
    "print(f'vowels = {vowels}')\n",
    "print(f'digits = {digits}')\n",
    "print(f'others = {others}')\n"
   ]
  },
  {
   "cell_type": "code",
   "execution_count": null,
   "id": "9c7eb83b-b9f3-4ee2-b7f2-595bc8abdc08",
   "metadata": {},
   "outputs": [],
   "source": [
    "# Exercise: Name triangles\n",
    "Ask the user to enter their name.\n",
    "Print the user's name as a triangle:\n",
    "On the first line, print the first letter\n",
    "On the second line, print the first two letters\n",
    "Continue...\n",
    "On the final line, print the entire name\n",
    "Example:\n",
    "\n",
    "Enter your name: Reuven\n",
    "R\n",
    "Re\n",
    "Reu\n",
    "Reuv\n",
    "Reuve\n",
    "Reuven\n",
    "\n",
    "A few things to remember:\n",
    "\n",
    "You can get the length of a string with len\n",
    "You can iterate a number of times with range\n",
    "You can grab a portion of a string with a slice, namely s[start:end]\n"
   ]
  },
  {
   "cell_type": "code",
   "execution_count": 4,
   "id": "10079873-8528-4c50-a0a1-6ae700c48b3e",
   "metadata": {},
   "outputs": [
    {
     "name": "stdin",
     "output_type": "stream",
     "text": [
      "Enter your name:  Mike\n"
     ]
    }
   ],
   "source": [
    "#--- Setup:\n",
    "user_name: input('Enter your name: ')\n",
    "\n",
    "\n"
   ]
  },
  {
   "cell_type": "code",
   "execution_count": null,
   "id": "b4eff015-6b9e-4feb-b606-f76b368d3328",
   "metadata": {},
   "outputs": [],
   "source": []
  }
 ],
 "metadata": {
  "kernelspec": {
   "display_name": "Python 3 (ipykernel)",
   "language": "python",
   "name": "python3"
  },
  "language_info": {
   "codemirror_mode": {
    "name": "ipython",
    "version": 3
   },
   "file_extension": ".py",
   "mimetype": "text/x-python",
   "name": "python",
   "nbconvert_exporter": "python",
   "pygments_lexer": "ipython3",
   "version": "3.10.12"
  }
 },
 "nbformat": 4,
 "nbformat_minor": 5
}
