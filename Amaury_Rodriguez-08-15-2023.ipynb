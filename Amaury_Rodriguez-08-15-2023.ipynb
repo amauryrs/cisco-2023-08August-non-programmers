{
 "cells": [
  {
   "cell_type": "code",
   "execution_count": null,
   "id": "ca7485a4-8ada-4ac6-ad63-eb19d398fd54",
   "metadata": {},
   "outputs": [],
   "source": [
    "# Exercise: Digits, vowels, and others ---\n",
    "Define three variables, digits, vowels, and others, all to be 0. We will use these variables to count how many times we see digits, vowels, and other characters in the user's input.\n",
    "Ask the user to enter a string.\n",
    "Go through that string, one character at a time:\n",
    "If the current character is a digit 0-9, add 1 to the digits variable.\n",
    "If the current character is a vowel (a, e, i, o, or u), add 1 to the vowels variable.\n",
    "In all other cases, add 1 to the others variable.\n",
    "Print the names and values of all three counting variables.\n",
    "\n",
    "Example:\n",
    "\n",
    "Enter a string: hello!! 123\n",
    "digits: 3\n",
    "vowels: 2\n",
    "others: 6"
   ]
  },
  {
   "cell_type": "code",
   "execution_count": 2,
   "id": "fa373259-3131-46b2-8570-12ae485ead00",
   "metadata": {},
   "outputs": [
    {
     "name": "stdin",
     "output_type": "stream",
     "text": [
      "Enter a String:  Hello!! 123 =)\n"
     ]
    },
    {
     "name": "stdout",
     "output_type": "stream",
     "text": [
      "vowels = 2\n",
      "digits = 3\n",
      "others = 9\n"
     ]
    }
   ],
   "source": [
    "# --- Setup:\n",
    "digits = 0\n",
    "vowels = 0\n",
    "others = 0\n",
    "\n",
    "s = input('Enter a String: ').strip()\n",
    "\n",
    "# --- Calculation:\n",
    "for one_character in s:\n",
    "    if one_character.isdigit():\n",
    "        digits += 1\n",
    "    elif one_character in 'aeiou':\n",
    "        vowels += 1\n",
    "    else:\n",
    "        others += 1\n",
    "\n",
    "# report\n",
    "print(f'vowels = {vowels}')\n",
    "print(f'digits = {digits}')\n",
    "print(f'others = {others}')\n"
   ]
  },
  {
   "cell_type": "code",
   "execution_count": null,
   "id": "9c7eb83b-b9f3-4ee2-b7f2-595bc8abdc08",
   "metadata": {},
   "outputs": [],
   "source": [
    "# Exercise: Name triangles\n",
    "Ask the user to enter their name.\n",
    "Print the user's name as a triangle:\n",
    "On the first line, print the first letter\n",
    "On the second line, print the first two letters\n",
    "Continue...\n",
    "On the final line, print the entire name\n",
    "Example:\n",
    "\n",
    "Enter your name: Reuven\n",
    "R\n",
    "Re\n",
    "Reu\n",
    "Reuv\n",
    "Reuve\n",
    "Reuven\n",
    "\n",
    "A few things to remember:\n",
    "\n",
    "You can get the length of a string with len\n",
    "You can iterate a number of times with range\n",
    "You can grab a portion of a string with a slice, namely s[start:end]\n",
    "\n",
    "\n",
    "### Example:\n",
    "# Ask the user to enter their name\n",
    "user_name = input(\"Enter your name: \")\n",
    "\n",
    "# Get the length of the user's name\n",
    "name_length = len(user_name)\n",
    "\n",
    "# Print the name as a triangle\n",
    "for i in range(1, name_length + 1):\n",
    "    print(user_name[:i])\n",
    "\n"
   ]
  },
  {
   "cell_type": "code",
   "execution_count": 19,
   "id": "10079873-8528-4c50-a0a1-6ae700c48b3e",
   "metadata": {},
   "outputs": [
    {
     "name": "stdin",
     "output_type": "stream",
     "text": [
      "Enter your name:  JoseManuel\n"
     ]
    },
    {
     "name": "stdout",
     "output_type": "stream",
     "text": [
      "J\n",
      "Jo\n",
      "Jos\n",
      "Jose\n",
      "JoseM\n",
      "JoseMa\n",
      "JoseMan\n",
      "JoseManu\n",
      "JoseManue\n",
      "JoseManuel\n"
     ]
    }
   ],
   "source": [
    "#--- Setup:\n",
    "user_name = input('Enter your name: ')\n",
    "\n",
    "#--- Calculation:\n",
    "name_len = len(user_name)\n",
    "\n",
    "for index in range(name_len):\n",
    "    print(user_name[0:index+1])\n",
    "\n"
   ]
  },
  {
   "cell_type": "code",
   "execution_count": null,
   "id": "b4eff015-6b9e-4feb-b606-f76b368d3328",
   "metadata": {},
   "outputs": [],
   "source": [
    "### # Exercise: Sum to 100\n",
    "1. Define a variable, `total`, and set it to 0.\n",
    "2. So long as `total` is less than 100, ask the user to enter a number.\n",
    "    - If they enter something non-numeric, scold them and let them try again.\n",
    "3. Add the user's input to `total`.\n",
    "4. When `total` is 100 or more, stop asking and print its value.\n",
    "Example:\n",
    "    Enter a number: 30\n",
    "    Enter a number: 50\n",
    "    Enter a number: hello\n",
    "    hello is not a number\n",
    "    Enter a number: 30\n",
    "    Total is 110\n",
    "- What condition do you need in the `while` loop?\n",
    "- Start off by not checking if the user's input is numeric, to make things easier\n",
    "- Don't forget to convert your data from strings to ints (or vice versa)."
   ]
  },
  {
   "cell_type": "code",
   "execution_count": 22,
   "id": "35842f95-9d97-4960-81d4-1338da69f59d",
   "metadata": {},
   "outputs": [
    {
     "name": "stdin",
     "output_type": "stream",
     "text": [
      "Enter a number:  Hola\n"
     ]
    },
    {
     "name": "stdout",
     "output_type": "stream",
     "text": [
      "HOLA is not a number.\n"
     ]
    },
    {
     "name": "stdin",
     "output_type": "stream",
     "text": [
      "Enter a number:  30\n",
      "Enter a number:  30\n",
      "Enter a number:  50\n"
     ]
    },
    {
     "name": "stdout",
     "output_type": "stream",
     "text": [
      "Total is 110\n"
     ]
    }
   ],
   "source": [
    "#setup\n",
    "total = 0\n",
    "sum = 0\n",
    "\n",
    "#calculation\n",
    "\n",
    "while total < 100:\n",
    "    user_input = input('Enter a number: ')\n",
    "    if user_input.isdigit():\n",
    "        total +=int(user_input)\n",
    "    else:\n",
    "        print(str.upper(user_input), \"is not a number.\")\n",
    "    \n",
    "#report\n",
    "print(\"Total is\", total)\n",
    "\n"
   ]
  },
  {
   "cell_type": "code",
   "execution_count": null,
   "id": "891ece86-445c-4646-b525-74c4592cea19",
   "metadata": {},
   "outputs": [],
   "source": []
  }
 ],
 "metadata": {
  "kernelspec": {
   "display_name": "Python 3 (ipykernel)",
   "language": "python",
   "name": "python3"
  },
  "language_info": {
   "codemirror_mode": {
    "name": "ipython",
    "version": 3
   },
   "file_extension": ".py",
   "mimetype": "text/x-python",
   "name": "python",
   "nbconvert_exporter": "python",
   "pygments_lexer": "ipython3",
   "version": "3.10.12"
  }
 },
 "nbformat": 4,
 "nbformat_minor": 5
}
