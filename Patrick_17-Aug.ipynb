{
 "cells": [
  {
   "cell_type": "code",
   "execution_count": 13,
   "id": "76f8f195-76df-48e4-847c-9f0f3edb7873",
   "metadata": {},
   "outputs": [
    {
     "name": "stdout",
     "output_type": "stream",
     "text": [
      "T:1\n",
      "h:2\n",
      "i:10\n",
      "s:15\n",
      " :22\n",
      "a:11\n",
      "t:12\n",
      "e:10\n",
      "f:5\n",
      "l:7\n",
      ".:5\n",
      "\n",
      ":11\n",
      "I:4\n",
      "c:5\n",
      "o:9\n",
      "n:10\n",
      "2:2\n",
      "8:1\n",
      "w:3\n",
      "r:7\n",
      "d:4\n",
      "0:1\n",
      "1:3\n",
      "6:1\n",
      "5:1\n",
      "-:1\n",
      "W:1\n",
      "!:1\n"
     ]
    }
   ],
   "source": [
    "\n",
    "filename = 'wcfile.txt'\n",
    "counts = {}\n",
    "\n",
    "for one_line in open(filename): #iterating over file - get strings, lines from a file\n",
    "    for char in one_line:       #iterating over string - we get characters  \n",
    "\n",
    "        if char in counts:\n",
    "            counts[char] +=1    #we have seen the \"char\" increment the count\n",
    "        else:\n",
    "            counts[char] = 1     #never seen the \"char\" - add it with count of 1\n",
    "\n",
    "\n",
    "for key, value in counts.items():   #each iteration of items returns (key, value)\n",
    "    print(f'{key}:{value}')\n",
    "      \n",
    "\n",
    "\n",
    "\n",
    "\n",
    "\n",
    "\n"
   ]
  },
  {
   "cell_type": "code",
   "execution_count": 21,
   "id": "2f8142c4-cfb5-4ead-86a6-8b1cf46e2d02",
   "metadata": {},
   "outputs": [
    {
     "name": "stdout",
     "output_type": "stream",
     "text": [
      "{}\n"
     ]
    }
   ],
   "source": [
    "\n",
    "\n",
    "\n",
    "\n",
    "counts = {}\n",
    "\n",
    "for one_line in open('mini-access-log.txt'):\n",
    "    ip_address = one_line.split()[0]\n",
    "    \n",
    "   \n",
    "print(counts)\n",
    "\n"
   ]
  },
  {
   "cell_type": "code",
   "execution_count": null,
   "id": "221bfe3e-8883-49bb-8811-f8243b95d6f3",
   "metadata": {},
   "outputs": [],
   "source": []
  }
 ],
 "metadata": {
  "kernelspec": {
   "display_name": "Python 3 (ipykernel)",
   "language": "python",
   "name": "python3"
  },
  "language_info": {
   "codemirror_mode": {
    "name": "ipython",
    "version": 3
   },
   "file_extension": ".py",
   "mimetype": "text/x-python",
   "name": "python",
   "nbconvert_exporter": "python",
   "pygments_lexer": "ipython3",
   "version": "3.10.12"
  }
 },
 "nbformat": 4,
 "nbformat_minor": 5
}
