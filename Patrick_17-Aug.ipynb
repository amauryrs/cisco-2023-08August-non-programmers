{
 "cells": [
  {
   "cell_type": "code",
   "execution_count": 6,
   "id": "76f8f195-76df-48e4-847c-9f0f3edb7873",
   "metadata": {},
   "outputs": [
    {
     "name": "stdout",
     "output_type": "stream",
     "text": [
      "characters = 0\n",
      "Wow!\n"
     ]
    }
   ],
   "source": [
    "\n",
    "filename = 'wcfile.txt'\n",
    "\n",
    "char_count = 0\n",
    "\n",
    "for one_line in open('wcfile.txt'):\n",
    "    #char_count += len(one_line)\n",
    "\n",
    "    for one_char in one_line.split():\n",
    "        n = str(one_char)\n",
    "\n",
    "print(f'characters = {char_count}')\n",
    "print(one_char)\n",
    "\n",
    "\n",
    "\n"
   ]
  },
  {
   "cell_type": "code",
   "execution_count": null,
   "id": "2f8142c4-cfb5-4ead-86a6-8b1cf46e2d02",
   "metadata": {},
   "outputs": [],
   "source": []
  }
 ],
 "metadata": {
  "kernelspec": {
   "display_name": "Python 3 (ipykernel)",
   "language": "python",
   "name": "python3"
  },
  "language_info": {
   "codemirror_mode": {
    "name": "ipython",
    "version": 3
   },
   "file_extension": ".py",
   "mimetype": "text/x-python",
   "name": "python",
   "nbconvert_exporter": "python",
   "pygments_lexer": "ipython3",
   "version": "3.10.12"
  }
 },
 "nbformat": 4,
 "nbformat_minor": 5
}
