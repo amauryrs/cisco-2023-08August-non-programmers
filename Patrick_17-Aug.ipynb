{
 "cells": [
  {
   "cell_type": "code",
   "execution_count": 13,
   "id": "76f8f195-76df-48e4-847c-9f0f3edb7873",
   "metadata": {},
   "outputs": [
    {
     "name": "stdout",
     "output_type": "stream",
     "text": [
      "T:1\n",
      "h:2\n",
      "i:10\n",
      "s:15\n",
      " :22\n",
      "a:11\n",
      "t:12\n",
      "e:10\n",
      "f:5\n",
      "l:7\n",
      ".:5\n",
      "\n",
      ":11\n",
      "I:4\n",
      "c:5\n",
      "o:9\n",
      "n:10\n",
      "2:2\n",
      "8:1\n",
      "w:3\n",
      "r:7\n",
      "d:4\n",
      "0:1\n",
      "1:3\n",
      "6:1\n",
      "5:1\n",
      "-:1\n",
      "W:1\n",
      "!:1\n"
     ]
    }
   ],
   "source": [
    "\n",
    "filename = 'wcfile.txt'\n",
    "counts = {}\n",
    "\n",
    "for one_line in open(filename): #iterating over file - get strings, lines from a file\n",
    "    for char in one_line:       #iterating over string - we get characters  \n",
    "\n",
    "        if char in counts:\n",
    "            counts[char] +=1    #we have seen the \"char\" increment the count\n",
    "        else:\n",
    "            counts[char] = 1     #never seen the \"char\" - add it with count of 1\n",
    "\n",
    "\n",
    "for key, value in counts.items():   #each iteration of items returns (key, value)\n",
    "    print(f'{key}:{value}')\n",
    "      \n",
    "\n",
    "\n",
    "\n",
    "\n",
    "\n",
    "\n"
   ]
  },
  {
   "cell_type": "code",
   "execution_count": 24,
   "id": "2f8142c4-cfb5-4ead-86a6-8b1cf46e2d02",
   "metadata": {},
   "outputs": [
    {
     "name": "stdout",
     "output_type": "stream",
     "text": [
      "67.218.116.165:\t2\n",
      "66.249.71.65:\t3\n",
      "65.55.106.183:\t2\n",
      "66.249.65.12:\t32\n",
      "65.55.106.131:\t2\n",
      "65.55.106.186:\t2\n",
      "74.52.245.146:\t2\n",
      "66.249.65.43:\t3\n",
      "65.55.207.25:\t2\n",
      "65.55.207.94:\t2\n",
      "65.55.207.71:\t1\n",
      "98.242.170.241:\t1\n",
      "66.249.65.38:\t100\n",
      "65.55.207.126:\t2\n",
      "82.34.9.20:\t2\n",
      "65.55.106.155:\t2\n",
      "65.55.207.77:\t2\n",
      "208.80.193.28:\t1\n",
      "89.248.172.58:\t22\n",
      "67.195.112.35:\t16\n",
      "65.55.207.50:\t3\n",
      "65.55.215.75:\t2\n"
     ]
    }
   ],
   "source": [
    "\n",
    "\n",
    "\n",
    "\n",
    "counts = {}\n",
    "\n",
    "for one_line in open('mini-access-log.txt'):\n",
    "    ip_address = one_line.split()[0]    #split the lines and then take the first string \"0\"\n",
    "    if ip_address in counts:\n",
    "        counts[ip_address] += 1\n",
    "    else:\n",
    "        counts[ip_address] = 1\n",
    "\n",
    "for key, value in counts.items():\n",
    "    print(f'{key}:\\t{value}')    # /t adds tab to space the value from the key\n",
    "\n",
    "\n"
   ]
  },
  {
   "cell_type": "code",
   "execution_count": 25,
   "id": "221bfe3e-8883-49bb-8811-f8243b95d6f3",
   "metadata": {},
   "outputs": [
    {
     "name": "stdin",
     "output_type": "stream",
     "text": [
      "first number:  10\n",
      "enter operator:  +\n",
      "second number:  4\n"
     ]
    },
    {
     "name": "stdout",
     "output_type": "stream",
     "text": [
      "14\n"
     ]
    }
   ],
   "source": [
    "\n",
    "def calc():\n",
    "    first_int = input('first number: ')\n",
    "    operator = input('enter operator: ')\n",
    "    second_int = input('second number: ')\n",
    "\n",
    "    first_int = int(first_int)\n",
    "    second_int = int(second_int)\n",
    "\n",
    "    if operator == '+':\n",
    "        return first_int + second_int\n",
    "    elif operator == '-':\n",
    "        return first_int - second_int\n",
    "    else:\n",
    "        return (f'operator {operator} doesnt exist')\n",
    "print(calc())\n"
   ]
  },
  {
   "cell_type": "code",
   "execution_count": 26,
   "id": "4b40a674-89b8-46ac-a167-8ef406a7ec54",
   "metadata": {},
   "outputs": [
    {
     "name": "stdout",
     "output_type": "stream",
     "text": [
      "4724\n"
     ]
    }
   ],
   "source": [
    "\n",
    "\n",
    "\n",
    "filename = 'mini-access-log.txt'\n",
    "def count_vowels(filename):\n",
    "    number_of_vowels = 0\n",
    "    for one_line in open(filename):\n",
    "        for one_word in one_line:\n",
    "            if one_word in 'aeiou':\n",
    "                number_of_vowels +=1\n",
    "    return number_of_vowels\n",
    "\n",
    "print(count_vowels(filename))"
   ]
  },
  {
   "cell_type": "code",
   "execution_count": 27,
   "id": "4e54228a-5364-42dd-ad8e-e131d5d6ad88",
   "metadata": {},
   "outputs": [
    {
     "name": "stdout",
     "output_type": "stream",
     "text": [
      "[7, 83, 90, 43, 58, 100, 67, 37, 38, 89]\n"
     ]
    }
   ],
   "source": [
    "\n",
    "import random\n",
    "numbers = []\n",
    "\n",
    "for counter in range(10):\n",
    "    n = random.randint (0,100)\n",
    "    numbers.append(n)\n",
    "\n",
    "print (numbers)\n",
    "\n"
   ]
  },
  {
   "cell_type": "code",
   "execution_count": 43,
   "id": "3fe83a21-5a38-411e-8945-864a0f6ebb97",
   "metadata": {},
   "outputs": [
    {
     "name": "stdin",
     "output_type": "stream",
     "text": [
      "enter glob pattern:  *.txt\n"
     ]
    },
    {
     "ename": "AttributeError",
     "evalue": "'list' object has no attribute 'split'",
     "output_type": "error",
     "traceback": [
      "\u001b[0;31m---------------------------------------------------------------------------\u001b[0m",
      "\u001b[0;31mAttributeError\u001b[0m                            Traceback (most recent call last)",
      "Cell \u001b[0;32mIn[43], line 6\u001b[0m\n\u001b[1;32m      4\u001b[0m pattern \u001b[38;5;241m=\u001b[39m \u001b[38;5;28minput\u001b[39m(\u001b[38;5;124m\"\u001b[39m\u001b[38;5;124menter glob pattern: \u001b[39m\u001b[38;5;124m\"\u001b[39m)\n\u001b[1;32m      5\u001b[0m filenames \u001b[38;5;241m=\u001b[39m glob\u001b[38;5;241m.\u001b[39mglob(pattern)\n\u001b[0;32m----> 6\u001b[0m \u001b[38;5;28;01mfor\u001b[39;00m ext \u001b[38;5;129;01min\u001b[39;00m \u001b[43mfilenames\u001b[49m\u001b[38;5;241;43m.\u001b[39;49m\u001b[43msplit\u001b[49m(\u001b[38;5;124m'\u001b[39m\u001b[38;5;124m.\u001b[39m\u001b[38;5;124m'\u001b[39m):\n\u001b[1;32m      7\u001b[0m     counts \u001b[38;5;241m+\u001b[39m\u001b[38;5;241m=\u001b[39m \u001b[38;5;241m1\u001b[39m\n\u001b[1;32m      9\u001b[0m \u001b[38;5;28mprint\u001b[39m(counts)\n",
      "\u001b[0;31mAttributeError\u001b[0m: 'list' object has no attribute 'split'"
     ]
    }
   ],
   "source": [
    "import glob\n",
    "counts = {}\n",
    "\n",
    "pattern = input(\"enter glob pattern: \")\n",
    "filenames = glob.glob(pattern)\n",
    "for ext in filenames:\n",
    "    counts = ext.split('.')\n",
    "    counts += 1\n",
    "\n",
    "print(counts)\n",
    "\n",
    "\n",
    "\n",
    "\n"
   ]
  },
  {
   "cell_type": "code",
   "execution_count": null,
   "id": "4bc70c26-19a5-4a4b-9337-72b11aad2c0e",
   "metadata": {},
   "outputs": [],
   "source": []
  }
 ],
 "metadata": {
  "kernelspec": {
   "display_name": "Python 3 (ipykernel)",
   "language": "python",
   "name": "python3"
  },
  "language_info": {
   "codemirror_mode": {
    "name": "ipython",
    "version": 3
   },
   "file_extension": ".py",
   "mimetype": "text/x-python",
   "name": "python",
   "nbconvert_exporter": "python",
   "pygments_lexer": "ipython3",
   "version": "3.10.12"
  }
 },
 "nbformat": 4,
 "nbformat_minor": 5
}
