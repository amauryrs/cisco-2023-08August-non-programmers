{
 "cells": [
  {
   "cell_type": "code",
   "execution_count": 1,
   "id": "19e394be-91c8-4e48-88cf-4de0f7dfd058",
   "metadata": {},
   "outputs": [
    {
     "name": "stdout",
     "output_type": "stream",
     "text": [
      "Hello\n"
     ]
    }
   ],
   "source": [
    "print('Hello')"
   ]
  },
  {
   "cell_type": "code",
   "execution_count": 6,
   "id": "7c461d6a-7c65-4caa-8b13-8c50cecac314",
   "metadata": {},
   "outputs": [
    {
     "name": "stdout",
     "output_type": "stream",
     "text": [
      "odds: [123]\n",
      "evens: []\n"
     ]
    }
   ],
   "source": [
    "counts ={'odds': [],\n",
    "         'evens': []}\n",
    "n=123\n",
    "\n",
    "if n%2==0:\n",
    "    counts['evens'].append(n)\n",
    "else:\n",
    "    counts['odds'].append(n)\n",
    "\n",
    "for key, value in counts.items():\n",
    "    print(f'{key}: {value}')"
   ]
  },
  {
   "cell_type": "code",
   "execution_count": 8,
   "id": "896056b0-4289-49e3-9c72-3ecf7db08849",
   "metadata": {},
   "outputs": [
    {
     "name": "stdout",
     "output_type": "stream",
     "text": [
      "odds: []\n",
      "evens: [44]\n"
     ]
    }
   ],
   "source": [
    "counts ={'odds': [],\n",
    "         'evens': []}\n",
    "s=44\n",
    "n=int(s)\n",
    "\n",
    "if n%2==0:\n",
    "    counts['evens'].append(n)\n",
    "else:\n",
    "    counts['odds'].append(n)\n",
    "\n",
    "for key, value in counts.items():\n",
    "    print(f'{key}: {value}')"
   ]
  },
  {
   "cell_type": "code",
   "execution_count": 9,
   "id": "a269fe26-bcb6-47bf-8351-00c197ea2d27",
   "metadata": {},
   "outputs": [
    {
     "ename": "ValueError",
     "evalue": "invalid literal for int() with base 10: 'hello'",
     "output_type": "error",
     "traceback": [
      "\u001b[0;31m---------------------------------------------------------------------------\u001b[0m",
      "\u001b[0;31mValueError\u001b[0m                                Traceback (most recent call last)",
      "Cell \u001b[0;32mIn[9], line 4\u001b[0m\n\u001b[1;32m      1\u001b[0m counts \u001b[38;5;241m=\u001b[39m{\u001b[38;5;124m'\u001b[39m\u001b[38;5;124modds\u001b[39m\u001b[38;5;124m'\u001b[39m: [],\n\u001b[1;32m      2\u001b[0m          \u001b[38;5;124m'\u001b[39m\u001b[38;5;124mevens\u001b[39m\u001b[38;5;124m'\u001b[39m: []}\n\u001b[1;32m      3\u001b[0m s\u001b[38;5;241m=\u001b[39m\u001b[38;5;124m'\u001b[39m\u001b[38;5;124mhello\u001b[39m\u001b[38;5;124m'\u001b[39m\n\u001b[0;32m----> 4\u001b[0m n\u001b[38;5;241m=\u001b[39m\u001b[38;5;28;43mint\u001b[39;49m\u001b[43m(\u001b[49m\u001b[43ms\u001b[49m\u001b[43m)\u001b[49m\n\u001b[1;32m      6\u001b[0m \u001b[38;5;28;01mif\u001b[39;00m n\u001b[38;5;241m%\u001b[39m\u001b[38;5;241m2\u001b[39m\u001b[38;5;241m==\u001b[39m\u001b[38;5;241m0\u001b[39m:\n\u001b[1;32m      7\u001b[0m     counts[\u001b[38;5;124m'\u001b[39m\u001b[38;5;124mevens\u001b[39m\u001b[38;5;124m'\u001b[39m]\u001b[38;5;241m.\u001b[39mappend(n)\n",
      "\u001b[0;31mValueError\u001b[0m: invalid literal for int() with base 10: 'hello'"
     ]
    }
   ],
   "source": [
    "counts ={'odds': [],\n",
    "         'evens': []}\n",
    "s='hello'\n",
    "n=int(s)\n",
    "\n",
    "if n%2==0:\n",
    "    counts['evens'].append(n)\n",
    "else:\n",
    "    counts['odds'].append(n)\n",
    "\n",
    "for key, value in counts.items():\n",
    "    print(f'{key}: {value}')"
   ]
  },
  {
   "cell_type": "code",
   "execution_count": 11,
   "id": "05be85de-576e-49b9-a388-f073c1e9f391",
   "metadata": {},
   "outputs": [
    {
     "name": "stdout",
     "output_type": "stream",
     "text": [
      "odds: []\n",
      "evens: [98]\n"
     ]
    }
   ],
   "source": [
    "counts ={'odds': [],\n",
    "         'evens': []}\n",
    "s='98'\n",
    "\n",
    "if s.isdigit():\n",
    "    n=int(s)\n",
    "    \n",
    "    if n%2==0:\n",
    "        counts['evens'].append(n)\n",
    "    else:\n",
    "        counts['odds'].append(n)\n",
    "else:\n",
    "    print(f'{s}  is not a number')\n",
    "\n",
    "for key, value in counts.items():\n",
    "    print(f'{key}: {value}')"
   ]
  },
  {
   "cell_type": "code",
   "execution_count": null,
   "id": "a5163d17-efa7-4262-9540-6314c7c973e7",
   "metadata": {},
   "outputs": [],
   "source": []
  }
 ],
 "metadata": {
  "kernelspec": {
   "display_name": "Python 3 (ipykernel)",
   "language": "python",
   "name": "python3"
  },
  "language_info": {
   "codemirror_mode": {
    "name": "ipython",
    "version": 3
   },
   "file_extension": ".py",
   "mimetype": "text/x-python",
   "name": "python",
   "nbconvert_exporter": "python",
   "pygments_lexer": "ipython3",
   "version": "3.10.12"
  }
 },
 "nbformat": 4,
 "nbformat_minor": 5
}
