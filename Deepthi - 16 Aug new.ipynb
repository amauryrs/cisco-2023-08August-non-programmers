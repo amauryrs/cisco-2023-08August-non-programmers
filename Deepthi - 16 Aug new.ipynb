{
 "cells": [
  {
   "cell_type": "code",
   "execution_count": 1,
   "id": "19e394be-91c8-4e48-88cf-4de0f7dfd058",
   "metadata": {},
   "outputs": [
    {
     "name": "stdout",
     "output_type": "stream",
     "text": [
      "Hello\n"
     ]
    }
   ],
   "source": [
    "print('Hello')"
   ]
  },
  {
   "cell_type": "code",
   "execution_count": null,
   "id": "7c461d6a-7c65-4caa-8b13-8c50cecac314",
   "metadata": {},
   "outputs": [],
   "source": [
    "counts ={'odds': [],\n",
    "         evens': []}\n",
    "n=123\n",
    "\n",
    "if n%2==0:\n",
    "    counts['evens'].append9\n",
    "\n",
    "for key, value in count.items90:\n",
    "    print(f'{key}: {value}')"
   ]
  }
 ],
 "metadata": {
  "kernelspec": {
   "display_name": "Python 3 (ipykernel)",
   "language": "python",
   "name": "python3"
  },
  "language_info": {
   "codemirror_mode": {
    "name": "ipython",
    "version": 3
   },
   "file_extension": ".py",
   "mimetype": "text/x-python",
   "name": "python",
   "nbconvert_exporter": "python",
   "pygments_lexer": "ipython3",
   "version": "3.10.12"
  }
 },
 "nbformat": 4,
 "nbformat_minor": 5
}
