{
 "cells": [
  {
   "cell_type": "code",
   "execution_count": 1,
   "id": "2491d2e8-6bfc-46fe-9e75-8cda765d3c86",
   "metadata": {},
   "outputs": [
    {
     "ename": "SyntaxError",
     "evalue": "invalid syntax (2752968658.py, line 34)",
     "output_type": "error",
     "traceback": [
      "\u001b[0;36m  Cell \u001b[0;32mIn[1], line 34\u001b[0;36m\u001b[0m\n\u001b[0;31m    Copy and paste this code into a Python interpreter or script, and it will guide the user through entering numbers and an operator to perform addition or subtraction. It includes error handling to ensure that the input is numeric and valid. Remember to run the code in a Python environment.\u001b[0m\n\u001b[0m                   ^\u001b[0m\n\u001b[0;31mSyntaxError\u001b[0m\u001b[0;31m:\u001b[0m invalid syntax\n"
     ]
    }
   ],
   "source": [
    "# Ask the user to enter a number\n",
    "num1_input = input(\"Enter a number: \")\n",
    "\n",
    "# Check if the input can be converted to an integer\n",
    "if not num1_input.isdigit():\n",
    "    print(f\"{num1_input} is not numeric; giving up\")\n",
    "else:\n",
    "    num1 = int(num1_input)\n",
    "    \n",
    "    # Ask the user to enter an operator\n",
    "    operator = input(\"Enter an operator (+ or -): \")\n",
    "    \n",
    "    # Check if the operator is valid\n",
    "    if operator not in ['+', '-']:\n",
    "        print(f\"Invalid operator: {operator}\")\n",
    "    else:\n",
    "        # Ask the user to enter a second number\n",
    "        num2_input = input(\"Enter a number: \")\n",
    "        \n",
    "        # Check if the input can be converted to an integer\n",
    "        if not num2_input.isdigit():\n",
    "            print(f\"{num2_input} is not numeric; giving up\")\n",
    "        else:\n",
    "            num2 = int(num2_input)\n",
    "            \n",
    "            # Perform the operation based on the operator\n",
    "            if operator == '+':\n",
    "                result = num1 + num2\n",
    "            else:\n",
    "                result = num1 - num2\n",
    "                \n",
    "            # Print the result\n",
    "            print(f\"{num1} {operator} {num2} = {result}\")\n",
    "Copy and paste this code into a Python interpreter or script, and it will guide the user through entering numbers and an operator to perform addition or subtraction. It includes error handling to ensure that the input is numeric and valid. Remember to run the code in a Python environment.\n"
   ]
  },
  {
   "cell_type": "code",
   "execution_count": 3,
   "id": "87dc1bca-6d92-46d9-bbe8-e7ff2b362180",
   "metadata": {},
   "outputs": [
    {
     "name": "stdin",
     "output_type": "stream",
     "text": [
      "Enter a string of digits:  0\n"
     ]
    },
    {
     "name": "stdout",
     "output_type": "stream",
     "text": [
      "odds: 0\n",
      "evens: 1\n"
     ]
    }
   ],
   "source": [
    "# Initialize counters for odds and evens\n",
    "odds = 0\n",
    "evens = 0\n",
    "\n",
    "# Ask the user to enter a string of digits\n",
    "digit_string = input(\"Enter a string of digits: \")\n",
    "\n",
    "# Go through each character (digit) in the string\n",
    "for char in digit_string:\n",
    "    # Convert the character to an integer\n",
    "    digit = int(char)\n",
    "    \n",
    "    # Check if the digit is odd or even using the % operator\n",
    "    if digit % 2 == 0:\n",
    "        evens += 1\n",
    "    else:\n",
    "        odds += 1\n",
    "\n",
    "# Print the total number of odds and evens\n",
    "print(\"odds:\", odds)\n",
    "print(\"evens:\", evens)"
   ]
  }
 ],
 "metadata": {
  "kernelspec": {
   "display_name": "Python 3 (ipykernel)",
   "language": "python",
   "name": "python3"
  },
  "language_info": {
   "codemirror_mode": {
    "name": "ipython",
    "version": 3
   },
   "file_extension": ".py",
   "mimetype": "text/x-python",
   "name": "python",
   "nbconvert_exporter": "python",
   "pygments_lexer": "ipython3",
   "version": "3.10.12"
  }
 },
 "nbformat": 4,
 "nbformat_minor": 5
}
