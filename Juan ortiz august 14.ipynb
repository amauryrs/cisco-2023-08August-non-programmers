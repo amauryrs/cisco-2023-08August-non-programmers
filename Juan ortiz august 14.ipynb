{
 "cells": [
  {
   "cell_type": "code",
   "execution_count": 1,
   "id": "2491d2e8-6bfc-46fe-9e75-8cda765d3c86",
   "metadata": {},
   "outputs": [
    {
     "ename": "SyntaxError",
     "evalue": "invalid syntax (2752968658.py, line 34)",
     "output_type": "error",
     "traceback": [
      "\u001b[0;36m  Cell \u001b[0;32mIn[1], line 34\u001b[0;36m\u001b[0m\n\u001b[0;31m    Copy and paste this code into a Python interpreter or script, and it will guide the user through entering numbers and an operator to perform addition or subtraction. It includes error handling to ensure that the input is numeric and valid. Remember to run the code in a Python environment.\u001b[0m\n\u001b[0m                   ^\u001b[0m\n\u001b[0;31mSyntaxError\u001b[0m\u001b[0;31m:\u001b[0m invalid syntax\n"
     ]
    }
   ],
   "source": [
    "# Ask the user to enter a number\n",
    "num1_input = input(\"Enter a number: \")\n",
    "\n",
    "# Check if the input can be converted to an integer\n",
    "if not num1_input.isdigit():\n",
    "    print(f\"{num1_input} is not numeric; giving up\")\n",
    "else:\n",
    "    num1 = int(num1_input)\n",
    "    \n",
    "    # Ask the user to enter an operator\n",
    "    operator = input(\"Enter an operator (+ or -): \")\n",
    "    \n",
    "    # Check if the operator is valid\n",
    "    if operator not in ['+', '-']:\n",
    "        print(f\"Invalid operator: {operator}\")\n",
    "    else:\n",
    "        # Ask the user to enter a second number\n",
    "        num2_input = input(\"Enter a number: \")\n",
    "        \n",
    "        # Check if the input can be converted to an integer\n",
    "        if not num2_input.isdigit():\n",
    "            print(f\"{num2_input} is not numeric; giving up\")\n",
    "        else:\n",
    "            num2 = int(num2_input)\n",
    "            \n",
    "            # Perform the operation based on the operator\n",
    "            if operator == '+':\n",
    "                result = num1 + num2\n",
    "            else:\n",
    "                result = num1 - num2\n",
    "                \n",
    "            # Print the result\n",
    "            print(f\"{num1} {operator} {num2} = {result}\")\n",
    "Copy and paste this code into a Python interpreter or script, and it will guide the user through entering numbers and an operator to perform addition or subtraction. It includes error handling to ensure that the input is numeric and valid. Remember to run the code in a Python environment.\n"
   ]
  }
 ],
 "metadata": {
  "kernelspec": {
   "display_name": "Python 3 (ipykernel)",
   "language": "python",
   "name": "python3"
  },
  "language_info": {
   "codemirror_mode": {
    "name": "ipython",
    "version": 3
   },
   "file_extension": ".py",
   "mimetype": "text/x-python",
   "name": "python",
   "nbconvert_exporter": "python",
   "pygments_lexer": "ipython3",
   "version": "3.10.12"
  }
 },
 "nbformat": 4,
 "nbformat_minor": 5
}
