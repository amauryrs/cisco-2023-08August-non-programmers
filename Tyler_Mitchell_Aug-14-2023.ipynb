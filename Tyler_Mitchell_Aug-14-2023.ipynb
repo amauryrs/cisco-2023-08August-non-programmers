{
 "cells": [
  {
   "cell_type": "code",
   "execution_count": 4,
   "id": "0d6c45e7-6f75-4f02-8f2e-957e111905c5",
   "metadata": {},
   "outputs": [
    {
     "name": "stdout",
     "output_type": "stream",
     "text": [
      "Hello\n"
     ]
    }
   ],
   "source": [
    "print('Hello')"
   ]
  },
  {
   "cell_type": "code",
   "execution_count": 10,
   "id": "c78a101e-7255-4bf7-a358-98f7b5dae3ef",
   "metadata": {},
   "outputs": [
    {
     "name": "stdout",
     "output_type": "stream",
     "text": [
      "Hello, my name is Tyler. Nice to meet you!\n"
     ]
    }
   ],
   "source": [
    "#Create a variable for name and print it with a greeting\n",
    "name_for_example = 'Tyler'\n",
    "print('Hello, ' + 'my name is ' + name_for_example + '. ' + 'Nice to meet you!')"
   ]
  },
  {
   "cell_type": "code",
   "execution_count": 13,
   "id": "b85bf336-8091-48c0-8a72-9f93c9660d5e",
   "metadata": {
    "scrolled": true
   },
   "outputs": [
    {
     "name": "stdin",
     "output_type": "stream",
     "text": [
      "Enter your name here: Tyler\n"
     ]
    },
    {
     "name": "stdout",
     "output_type": "stream",
     "text": [
      "Hello, my name is Tyler. Nice to meet you!\n"
     ]
    }
   ],
   "source": [
    "#Create an input variable for name \n",
    "name_variable = input('Enter your name here:')\n",
    "print('Hello, ' + 'my name is ' + name_variable + '. ' + 'Nice to meet you!')"
   ]
  },
  {
   "cell_type": "code",
   "execution_count": 27,
   "id": "c799dfec-95da-45cf-90be-60eed7fa2166",
   "metadata": {
    "scrolled": true
   },
   "outputs": [
    {
     "name": "stdin",
     "output_type": "stream",
     "text": [
      "Enter your name here: tyler\n"
     ]
    },
    {
     "name": "stdout",
     "output_type": "stream",
     "text": [
      "Hey boss!\n",
      "Great to see you again.\n"
     ]
    }
   ],
   "source": [
    "name_variable = input('Enter your name here:')\n",
    "\n",
    "if name_variable == 'Tyler' or 'tyler':\n",
    "    print('Hey boss!')\n",
    "    print('Great to see you again.')\n",
    "else:\n",
    "    print('Hey bozo, get lost!')"
   ]
  },
  {
   "cell_type": "code",
   "execution_count": 49,
   "id": "1da67e05-1c71-4262-a1a8-727dd2f63649",
   "metadata": {},
   "outputs": [
    {
     "name": "stdin",
     "output_type": "stream",
     "text": [
      "Enter your name here: k\n",
      "Company name here: j\n"
     ]
    },
    {
     "name": "stdout",
     "output_type": "stream",
     "text": [
      "Hey Bozo! Get a real job!\n"
     ]
    }
   ],
   "source": [
    "name_variable = input('Enter your name here:')\n",
    "company_variable = input('Company name here:')\n",
    "\n",
    "if (name_variable == 'Tyler' and\n",
    "   company_variable == 'Cisco'):\n",
    "        print('You arent just handsome, but brilliant as well!')\n",
    "    \n",
    "elif (name_variable == 'Tyler' and \n",
    "   company_variable != 'Cisco'):\n",
    "        print('Hey youre handsome!, but average...')\n",
    "    \n",
    "elif (name_variable != 'Tyler' and\n",
    "   company_variable == 'Cisco'):\n",
    "        print('Whats up bozo, but at least youre brilliant!')\n",
    "    \n",
    "else:\n",
    "        print('Hey Bozo! Get a real job!')\n"
   ]
  },
  {
   "cell_type": "code",
   "execution_count": 65,
   "id": "e435c13b-ea92-440a-84f1-63206a34d689",
   "metadata": {},
   "outputs": [
    {
     "name": "stdin",
     "output_type": "stream",
     "text": [
      "Guess a whole number 1-100. What is your guess? 90\n"
     ]
    },
    {
     "name": "stdout",
     "output_type": "stream",
     "text": [
      "Too high! Try again.\n"
     ]
    }
   ],
   "source": [
    "# Exercise: Guessing Game\n",
    "import random     # this imports the module, or library, containing random info\n",
    "number = random.randint(0, 100)   # this calls the randint function, and assigns to number\n",
    "\n",
    "guess_number = input('Guess a whole number 1-100. What is your guess?')\n",
    "\n",
    "if int(guess_number) == number:\n",
    "    print (\"Congrats you got it!\")\n",
    "elif int(guess_number) > number:\n",
    "    print (\"Too high! Try again.\")\n",
    "elif int(guess_number) < number:\n",
    "    print (\"Too low! Try again.\")"
   ]
  },
  {
   "cell_type": "code",
   "execution_count": 89,
   "id": "2f4926ef-1c63-4860-90be-04e6d93df624",
   "metadata": {},
   "outputs": [
    {
     "name": "stdin",
     "output_type": "stream",
     "text": [
      "Please enter a single word and in all lower case with no puncuation: kite\n",
      "itekay \n"
     ]
    },
    {
     "name": "stdout",
     "output_type": "stream",
     "text": [
      "\n"
     ]
    }
   ],
   "source": [
    "# Exercise: Pig Latin\n",
    "user_word = input(\"Please enter a single word and in all lower case with no puncuation:\")\n",
    "vowels = 'aeiou'\n",
    "\n",
    "if user_word[0] in vowels:\n",
    "    print (user_word + \"way\")\n",
    "elif  user_word[0] not in vowels:\n",
    "    new_word = input(user_word[1:] + user_word[0] + 'ay')\n",
    "    print (new_word)"
   ]
  },
  {
   "cell_type": "code",
   "execution_count": 100,
   "id": "23617ab4-f13f-4184-ba5e-2b17734249dd",
   "metadata": {},
   "outputs": [
    {
     "ename": "SyntaxError",
     "evalue": "invalid syntax (4069699682.py, line 19)",
     "output_type": "error",
     "traceback": [
      "\u001b[0;36m  Cell \u001b[0;32mIn[100], line 19\u001b[0;36m\u001b[0m\n\u001b[0;31m    result = n1 'r2' n2\u001b[0m\n\u001b[0m                ^\u001b[0m\n\u001b[0;31mSyntaxError\u001b[0m\u001b[0;31m:\u001b[0m invalid syntax\n"
     ]
    }
   ],
   "source": [
    "# Exercise: Simple Calculator\n",
    "\n",
    "r1 = input('Enter 1st number:')\n",
    "r2 = input('Enter one valid Mathmatical Operator (+ - * /):')\n",
    "r3 = input('Enter 2nd number:')\n",
    "operators = '+-*/' \n",
    "\n",
    "if r1.isdigit():\n",
    "           n1 = int(r1)\n",
    "else:\n",
    "    print(f'{r1} is not numeric!')\n",
    "\n",
    "if r3.isdigit():\n",
    "           n2 = int(r3)\n",
    "else:\n",
    "    print(f'{r3} is not numeric!')\n",
    "\n",
    "if r2 in operators:\n",
    "    result = (f'(n1 'r2' n2)\n",
    "elif r2 not in operators:\n",
    "    print(f'{r2} is not a valid operator!')"
   ]
  },
  {
   "cell_type": "code",
   "execution_count": null,
   "id": "0493fd22-dad5-4114-9c55-784911c099af",
   "metadata": {},
   "outputs": [],
   "source": []
  }
 ],
 "metadata": {
  "kernelspec": {
   "display_name": "Python 3 (ipykernel)",
   "language": "python",
   "name": "python3"
  },
  "language_info": {
   "codemirror_mode": {
    "name": "ipython",
    "version": 3
   },
   "file_extension": ".py",
   "mimetype": "text/x-python",
   "name": "python",
   "nbconvert_exporter": "python",
   "pygments_lexer": "ipython3",
   "version": "3.10.12"
  }
 },
 "nbformat": 4,
 "nbformat_minor": 5
}
