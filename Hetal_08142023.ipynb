{
 "cells": [
  {
   "cell_type": "code",
   "execution_count": 1,
   "id": "62148cf5-9b23-4f10-b470-cd9ddb347f9e",
   "metadata": {},
   "outputs": [
    {
     "name": "stdout",
     "output_type": "stream",
     "text": [
      "this is Hetal\n"
     ]
    }
   ],
   "source": [
    "print(\"this is Hetal\")"
   ]
  },
  {
   "cell_type": "code",
   "execution_count": 2,
   "id": "33e3d5f4-d3f0-48dc-9683-2ea35f6f3f48",
   "metadata": {},
   "outputs": [
    {
     "ename": "NameError",
     "evalue": "name 'hello' is not defined",
     "output_type": "error",
     "traceback": [
      "\u001b[0;31m---------------------------------------------------------------------------\u001b[0m",
      "\u001b[0;31mNameError\u001b[0m                                 Traceback (most recent call last)",
      "Cell \u001b[0;32mIn[2], line 1\u001b[0m\n\u001b[0;32m----> 1\u001b[0m \u001b[43mhello\u001b[49m\n",
      "\u001b[0;31mNameError\u001b[0m: name 'hello' is not defined"
     ]
    }
   ],
   "source": [
    "hello"
   ]
  },
  {
   "cell_type": "code",
   "execution_count": 3,
   "id": "841e9a6d-60f5-4ea3-a56e-9fbf3b190cac",
   "metadata": {},
   "outputs": [
    {
     "data": {
      "text/plain": [
       "'hello'"
      ]
     },
     "execution_count": 3,
     "metadata": {},
     "output_type": "execute_result"
    }
   ],
   "source": [
    "'hello'"
   ]
  },
  {
   "cell_type": "code",
   "execution_count": 4,
   "id": "e1cbe328-de65-49e5-8125-6f8bae724bed",
   "metadata": {},
   "outputs": [
    {
     "ename": "NameError",
     "evalue": "name 'hetal' is not defined",
     "output_type": "error",
     "traceback": [
      "\u001b[0;31m---------------------------------------------------------------------------\u001b[0m",
      "\u001b[0;31mNameError\u001b[0m                                 Traceback (most recent call last)",
      "Cell \u001b[0;32mIn[4], line 1\u001b[0m\n\u001b[0;32m----> 1\u001b[0m name \u001b[38;5;241m=\u001b[39m \u001b[43mhetal\u001b[49m\n",
      "\u001b[0;31mNameError\u001b[0m: name 'hetal' is not defined"
     ]
    }
   ],
   "source": [
    "name = hetal"
   ]
  },
  {
   "cell_type": "code",
   "execution_count": 5,
   "id": "4d383990-737f-4e6b-a00d-ac2cd46322d0",
   "metadata": {},
   "outputs": [],
   "source": [
    "name = 'Hetal'"
   ]
  },
  {
   "cell_type": "code",
   "execution_count": 6,
   "id": "6976734c-bf5b-4e8f-995b-747353e8ccce",
   "metadata": {},
   "outputs": [
    {
     "name": "stdout",
     "output_type": "stream",
     "text": [
      "Hi, this isHetalhere.\n"
     ]
    }
   ],
   "source": [
    "print('Hi, ' + 'this is' + name + 'here' + '.')"
   ]
  },
  {
   "cell_type": "code",
   "execution_count": 7,
   "id": "c7c8f74e-d53b-41e4-aa98-13c6eb7107fd",
   "metadata": {},
   "outputs": [
    {
     "name": "stdout",
     "output_type": "stream",
     "text": [
      "Hi, this is Hetal here.\n"
     ]
    }
   ],
   "source": [
    "print('Hi, ' + 'this is ' + name + ' here' + '.')"
   ]
  },
  {
   "cell_type": "code",
   "execution_count": 8,
   "id": "086ccff2-d526-48be-ac1a-0eaa18582403",
   "metadata": {},
   "outputs": [],
   "source": [
    "date = 'August 14'"
   ]
  },
  {
   "cell_type": "code",
   "execution_count": 9,
   "id": "1d513e21-091e-4875-92f5-be13c4fb9390",
   "metadata": {},
   "outputs": [
    {
     "name": "stdout",
     "output_type": "stream",
     "text": [
      "Today is August 14th\n"
     ]
    }
   ],
   "source": [
    "print('Today'+' is '+date+'th')"
   ]
  },
  {
   "cell_type": "code",
   "execution_count": 10,
   "id": "15e666d3-64f7-4af0-934b-25be549ea976",
   "metadata": {},
   "outputs": [
    {
     "name": "stdin",
     "output_type": "stream",
     "text": [
      "Please enter your name:  Hetal\n"
     ]
    }
   ],
   "source": [
    "name = input('Please enter your name: ')"
   ]
  },
  {
   "cell_type": "code",
   "execution_count": 11,
   "id": "7303994b-e13a-41ab-93f2-cedc8349a902",
   "metadata": {},
   "outputs": [
    {
     "name": "stdout",
     "output_type": "stream",
     "text": [
      "Hello, Hetal!\n"
     ]
    }
   ],
   "source": [
    "print('Hello, '+name+'!') "
   ]
  },
  {
   "cell_type": "code",
   "execution_count": null,
   "id": "b9c5c130-9959-4159-9e59-9db81d9867a9",
   "metadata": {},
   "outputs": [],
   "source": [
    "x = 10\n",
    "y = 10\n",
    "z = 5\n",
    "\n",
    "x == y\n",
    "x == "
   ]
  }
 ],
 "metadata": {
  "kernelspec": {
   "display_name": "Python 3 (ipykernel)",
   "language": "python",
   "name": "python3"
  },
  "language_info": {
   "codemirror_mode": {
    "name": "ipython",
    "version": 3
   },
   "file_extension": ".py",
   "mimetype": "text/x-python",
   "name": "python",
   "nbconvert_exporter": "python",
   "pygments_lexer": "ipython3",
   "version": "3.10.12"
  }
 },
 "nbformat": 4,
 "nbformat_minor": 5
}
