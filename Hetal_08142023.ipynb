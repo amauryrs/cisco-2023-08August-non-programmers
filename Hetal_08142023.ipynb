{
 "cells": [
  {
   "cell_type": "code",
   "execution_count": 1,
   "id": "62148cf5-9b23-4f10-b470-cd9ddb347f9e",
   "metadata": {},
   "outputs": [
    {
     "name": "stdout",
     "output_type": "stream",
     "text": [
      "this is Hetal\n"
     ]
    }
   ],
   "source": [
    "print(\"this is Hetal\")"
   ]
  },
  {
   "cell_type": "code",
   "execution_count": 2,
   "id": "33e3d5f4-d3f0-48dc-9683-2ea35f6f3f48",
   "metadata": {},
   "outputs": [
    {
     "ename": "NameError",
     "evalue": "name 'hello' is not defined",
     "output_type": "error",
     "traceback": [
      "\u001b[0;31m---------------------------------------------------------------------------\u001b[0m",
      "\u001b[0;31mNameError\u001b[0m                                 Traceback (most recent call last)",
      "Cell \u001b[0;32mIn[2], line 1\u001b[0m\n\u001b[0;32m----> 1\u001b[0m \u001b[43mhello\u001b[49m\n",
      "\u001b[0;31mNameError\u001b[0m: name 'hello' is not defined"
     ]
    }
   ],
   "source": [
    "hello"
   ]
  },
  {
   "cell_type": "code",
   "execution_count": 3,
   "id": "841e9a6d-60f5-4ea3-a56e-9fbf3b190cac",
   "metadata": {},
   "outputs": [
    {
     "data": {
      "text/plain": [
       "'hello'"
      ]
     },
     "execution_count": 3,
     "metadata": {},
     "output_type": "execute_result"
    }
   ],
   "source": [
    "'hello'"
   ]
  },
  {
   "cell_type": "code",
   "execution_count": 4,
   "id": "e1cbe328-de65-49e5-8125-6f8bae724bed",
   "metadata": {},
   "outputs": [
    {
     "ename": "NameError",
     "evalue": "name 'hetal' is not defined",
     "output_type": "error",
     "traceback": [
      "\u001b[0;31m---------------------------------------------------------------------------\u001b[0m",
      "\u001b[0;31mNameError\u001b[0m                                 Traceback (most recent call last)",
      "Cell \u001b[0;32mIn[4], line 1\u001b[0m\n\u001b[0;32m----> 1\u001b[0m name \u001b[38;5;241m=\u001b[39m \u001b[43mhetal\u001b[49m\n",
      "\u001b[0;31mNameError\u001b[0m: name 'hetal' is not defined"
     ]
    }
   ],
   "source": [
    "name = hetal"
   ]
  },
  {
   "cell_type": "code",
   "execution_count": 5,
   "id": "4d383990-737f-4e6b-a00d-ac2cd46322d0",
   "metadata": {},
   "outputs": [],
   "source": [
    "name = 'Hetal'"
   ]
  },
  {
   "cell_type": "code",
   "execution_count": 6,
   "id": "6976734c-bf5b-4e8f-995b-747353e8ccce",
   "metadata": {},
   "outputs": [
    {
     "name": "stdout",
     "output_type": "stream",
     "text": [
      "Hi, this isHetalhere.\n"
     ]
    }
   ],
   "source": [
    "print('Hi, ' + 'this is' + name + 'here' + '.')"
   ]
  },
  {
   "cell_type": "code",
   "execution_count": 7,
   "id": "c7c8f74e-d53b-41e4-aa98-13c6eb7107fd",
   "metadata": {},
   "outputs": [
    {
     "name": "stdout",
     "output_type": "stream",
     "text": [
      "Hi, this is Hetal here.\n"
     ]
    }
   ],
   "source": [
    "print('Hi, ' + 'this is ' + name + ' here' + '.')"
   ]
  },
  {
   "cell_type": "code",
   "execution_count": 8,
   "id": "086ccff2-d526-48be-ac1a-0eaa18582403",
   "metadata": {},
   "outputs": [],
   "source": [
    "date = 'August 14'"
   ]
  },
  {
   "cell_type": "code",
   "execution_count": 9,
   "id": "1d513e21-091e-4875-92f5-be13c4fb9390",
   "metadata": {},
   "outputs": [
    {
     "name": "stdout",
     "output_type": "stream",
     "text": [
      "Today is August 14th\n"
     ]
    }
   ],
   "source": [
    "print('Today'+' is '+date+'th')"
   ]
  },
  {
   "cell_type": "code",
   "execution_count": 10,
   "id": "15e666d3-64f7-4af0-934b-25be549ea976",
   "metadata": {},
   "outputs": [
    {
     "name": "stdin",
     "output_type": "stream",
     "text": [
      "Please enter your name:  Hetal\n"
     ]
    }
   ],
   "source": [
    "name = input('Please enter your name: ')"
   ]
  },
  {
   "cell_type": "code",
   "execution_count": 11,
   "id": "7303994b-e13a-41ab-93f2-cedc8349a902",
   "metadata": {},
   "outputs": [
    {
     "name": "stdout",
     "output_type": "stream",
     "text": [
      "Hello, Hetal!\n"
     ]
    }
   ],
   "source": [
    "print('Hello, '+name+'!') "
   ]
  },
  {
   "cell_type": "code",
   "execution_count": 12,
   "id": "b9c5c130-9959-4159-9e59-9db81d9867a9",
   "metadata": {},
   "outputs": [
    {
     "data": {
      "text/plain": [
       "True"
      ]
     },
     "execution_count": 12,
     "metadata": {},
     "output_type": "execute_result"
    }
   ],
   "source": [
    "x = 10\n",
    "y = 10\n",
    "z = 5\n",
    "\n",
    "x == y\n",
    "x == z\n",
    "x != z"
   ]
  },
  {
   "cell_type": "code",
   "execution_count": 16,
   "id": "4889db6e-871c-45f9-85a4-e1da51872375",
   "metadata": {},
   "outputs": [
    {
     "name": "stdin",
     "output_type": "stream",
     "text": [
      "Please enter your name:  abcd\n"
     ]
    },
    {
     "name": "stdout",
     "output_type": "stream",
     "text": [
      "abcd is not a valid user\n"
     ]
    }
   ],
   "source": [
    "user_name = input('Please enter your name: ')\n",
    "if user_name == 'Hetal' :\n",
    "    print('Welcome '+ user_name +'!')\n",
    "else:\n",
    "    print(user_name + \" is not a valid user\")"
   ]
  },
  {
   "cell_type": "code",
   "execution_count": 22,
   "id": "072d4856-929a-45a6-ac58-50f8b80ad779",
   "metadata": {},
   "outputs": [
    {
     "name": "stdin",
     "output_type": "stream",
     "text": [
      "Please enter your name:  abc\n",
      "Please enter the company you work for:  abc\n"
     ]
    },
    {
     "name": "stdout",
     "output_type": "stream",
     "text": [
      "Neither your name, abc nor Company abc is not familiar\n"
     ]
    }
   ],
   "source": [
    "name = input( 'Please enter your name: ')\n",
    "Company = input('Please enter the company you work for: ')\n",
    "if name == 'Hetal' and Company == 'Cisco':\n",
    "    print('You are same as me')\n",
    "elif name == 'Hetal' and Company != 'Cisco':\n",
    "    print('Oh your name is ' +name+ ' too' ' but Company is different, '  + Company )\n",
    "elif name != 'Hetal' and Company == 'Cisco':\n",
    "    print('Oh your Company is ' + Company+ 'but name ' + name + ' not so good')\n",
    "else:\n",
    "    print('Neither your name, ' +name+ ' nor Company ' +Company+ ' is not familiar')\n",
    "\n"
   ]
  },
  {
   "cell_type": "code",
   "execution_count": 30,
   "id": "12fc6ff4-046e-4ee9-acee-edcc4af5404f",
   "metadata": {},
   "outputs": [
    {
     "name": "stdout",
     "output_type": "stream",
     "text": [
      "13\n"
     ]
    },
    {
     "name": "stdin",
     "output_type": "stream",
     "text": [
      "Enter any digit between 0 to 100:  13\n"
     ]
    },
    {
     "name": "stdout",
     "output_type": "stream",
     "text": [
      "You got it!\n"
     ]
    }
   ],
   "source": [
    "import random\n",
    "number = random.randint(0,100)\n",
    "print (number)\n",
    "input_number = int(input('Enter any digit between 0 to 100: '))\n",
    "if input_number == number:\n",
    "    print(\"You got it!\")\n",
    "elif input_number > number:\n",
    "    print(\"Too high!\")\n",
    "else:\n",
    "    print(\"too low!\")\n",
    "    "
   ]
  },
  {
   "cell_type": "code",
   "execution_count": 35,
   "id": "4a6c66b5-ca43-43cb-9f47-24f257491f55",
   "metadata": {},
   "outputs": [
    {
     "name": "stdin",
     "output_type": "stream",
     "text": [
      "Enter a word, with no punctuation and all lowercase, no spaces:  summer\n"
     ]
    },
    {
     "name": "stdout",
     "output_type": "stream",
     "text": [
      "s\n",
      "ummersay\n"
     ]
    }
   ],
   "source": [
    "word = input('Enter a word, with no punctuation and all lowercase, no spaces: ')\n",
    "print(word[0])\n",
    "if (word[0] == 'a' or word[0] == 'e' or word[0] == 'i' or word[0] == 'o' or word[0]== 'u'):\n",
    "    new_word = (word + 'way')\n",
    "    print(new_word)\n",
    "else:\n",
    "    new_word = word[1:] + word[0] + 'ay'\n",
    "    print(new_word)\n",
    "\n",
    "\n",
    "\n",
    "\n",
    "\n"
   ]
  },
  {
   "cell_type": "code",
   "execution_count": 37,
   "id": "fada71e5-02ed-4a3c-a4fa-b48d92f8c531",
   "metadata": {},
   "outputs": [
    {
     "name": "stdin",
     "output_type": "stream",
     "text": [
      "Enter a word, with no punctuation and all lowercase, no spaces:  cat\n"
     ]
    },
    {
     "name": "stdout",
     "output_type": "stream",
     "text": [
      "c\n",
      "atcay\n"
     ]
    }
   ],
   "source": [
    "word = input('Enter a word, with no punctuation and all lowercase, no spaces: ')\n",
    "print(word[0])\n",
    "vowel = 'aeiou'\n",
    "if word[0] in vowel:\n",
    "    new_word = (word + 'way')\n",
    "    print(new_word)\n",
    "else:\n",
    "    new_word = word[1:] + word[0] + 'ay'\n",
    "    print(new_word)"
   ]
  },
  {
   "cell_type": "code",
   "execution_count": 39,
   "id": "fd4f19e0-b790-4cef-99d0-3050fd87e800",
   "metadata": {},
   "outputs": [
    {
     "data": {
      "text/plain": [
       "'abcdefghabcdefgh'"
      ]
     },
     "execution_count": 39,
     "metadata": {},
     "output_type": "execute_result"
    }
   ],
   "source": [
    "s = 'abcd'\n",
    "s += 'efgh'\n",
    "s += s\n",
    "s\n",
    "\n"
   ]
  },
  {
   "cell_type": "code",
   "execution_count": 56,
   "id": "480a49d8-e19a-480b-8f61-028d860e1fc0",
   "metadata": {},
   "outputs": [
    {
     "name": "stdin",
     "output_type": "stream",
     "text": [
      "Enter 1st number:  4\n",
      "Enter an operator:  +\n",
      "Enter 2nd number:  2\n"
     ]
    },
    {
     "name": "stdout",
     "output_type": "stream",
     "text": [
      "6\n"
     ]
    }
   ],
   "source": [
    "n1 = input('Enter 1st number: ').strip()\n",
    "operator = input('Enter an operator: ').strip()\n",
    "n2 = input('Enter 2nd number: ').strip()\n",
    "\n",
    "if n1.isdigit() and n2.isdigit() and operator == '+' :\n",
    "    print (int(n1)+int(n2))\n",
    "elif n1.isdigit() and n2.isdigit() and operator == '-' :\n",
    "    print (int(n1)- int(n2))\n",
    "else:\n",
    "    print ( \"Operation can not be performed. Please enter valid operator and numeric values.\")"
   ]
  },
  {
   "cell_type": "code",
   "execution_count": 55,
   "id": "a405c34b-af11-4024-88c9-2b9cab1198f0",
   "metadata": {},
   "outputs": [
    {
     "name": "stdin",
     "output_type": "stream",
     "text": [
      "Enter 1st number:  4\n",
      "Enter an operator:  +\n",
      "Enter 2nd number:  2\n"
     ]
    },
    {
     "ename": "TypeError",
     "evalue": "unsupported operand type(s) for +: 'int' and 'str'",
     "output_type": "error",
     "traceback": [
      "\u001b[0;31m---------------------------------------------------------------------------\u001b[0m",
      "\u001b[0;31mTypeError\u001b[0m                                 Traceback (most recent call last)",
      "Cell \u001b[0;32mIn[55], line 6\u001b[0m\n\u001b[1;32m      3\u001b[0m n2 \u001b[38;5;241m=\u001b[39m \u001b[38;5;28minput\u001b[39m(\u001b[38;5;124m'\u001b[39m\u001b[38;5;124mEnter 2nd number: \u001b[39m\u001b[38;5;124m'\u001b[39m)\n\u001b[1;32m      5\u001b[0m \u001b[38;5;28;01mif\u001b[39;00m n1\u001b[38;5;241m.\u001b[39misdigit() \u001b[38;5;129;01mand\u001b[39;00m n2\u001b[38;5;241m.\u001b[39misdigit() \u001b[38;5;129;01mand\u001b[39;00m  ( operator \u001b[38;5;241m==\u001b[39m \u001b[38;5;124m'\u001b[39m\u001b[38;5;124m+\u001b[39m\u001b[38;5;124m'\u001b[39m \u001b[38;5;129;01mor\u001b[39;00m operator \u001b[38;5;241m==\u001b[39m \u001b[38;5;124m'\u001b[39m\u001b[38;5;124m-\u001b[39m\u001b[38;5;124m'\u001b[39m) :\n\u001b[0;32m----> 6\u001b[0m     \u001b[38;5;28mprint\u001b[39m (\u001b[38;5;28;43mint\u001b[39;49m\u001b[43m(\u001b[49m\u001b[43mn1\u001b[49m\u001b[43m)\u001b[49m\u001b[43m \u001b[49m\u001b[38;5;241;43m+\u001b[39;49m\u001b[43m \u001b[49m\u001b[38;5;28;43mstr\u001b[39;49m\u001b[43m(\u001b[49m\u001b[43moperator\u001b[49m\u001b[43m)\u001b[49m \u001b[38;5;241m+\u001b[39m \u001b[38;5;28mint\u001b[39m(n2))\n\u001b[1;32m      8\u001b[0m \u001b[38;5;28;01melse\u001b[39;00m:\n\u001b[1;32m      9\u001b[0m     \u001b[38;5;28mprint\u001b[39m ( \u001b[38;5;124m\"\u001b[39m\u001b[38;5;124mOperation can not be performed. Please enter valid operator and numeric values.\u001b[39m\u001b[38;5;124m\"\u001b[39m)\n",
      "\u001b[0;31mTypeError\u001b[0m: unsupported operand type(s) for +: 'int' and 'str'"
     ]
    }
   ],
   "source": [
    "n1 = input('Enter 1st number: ')\n",
    "operator = input('Enter an operator: ')\n",
    "n2 = input('Enter 2nd number: ')\n",
    "\n",
    "if n1.isdigit() and n2.isdigit() and  ( operator == '+' or operator == '-') :\n",
    "    print (int(n1) + str(operator) + int(n2))\n",
    "\n",
    "else:\n",
    "    print ( \"Operation can not be performed. Please enter valid operator and numeric values.\")"
   ]
  },
  {
   "cell_type": "code",
   "execution_count": 59,
   "id": "e5cfc1a6-8e2d-45e1-ad07-6353cf90ed9e",
   "metadata": {},
   "outputs": [
    {
     "name": "stdin",
     "output_type": "stream",
     "text": [
      " Enter a string of digits: 234\n"
     ]
    },
    {
     "name": "stdout",
     "output_type": "stream",
     "text": [
      "234\n"
     ]
    }
   ],
   "source": [
    "odds = 0\n",
    "evens = 0\n",
    "number = int(input(\" Enter a string of digits:\").strip())\n",
    "print (number)\n",
    "for one_digit in number:\n",
    "    "
   ]
  },
  {
   "cell_type": "code",
   "execution_count": null,
   "id": "7fdc2ea0-cd35-46a9-8dc1-454158789142",
   "metadata": {},
   "outputs": [],
   "source": []
  }
 ],
 "metadata": {
  "kernelspec": {
   "display_name": "Python 3 (ipykernel)",
   "language": "python",
   "name": "python3"
  },
  "language_info": {
   "codemirror_mode": {
    "name": "ipython",
    "version": 3
   },
   "file_extension": ".py",
   "mimetype": "text/x-python",
   "name": "python",
   "nbconvert_exporter": "python",
   "pygments_lexer": "ipython3",
   "version": "3.10.12"
  }
 },
 "nbformat": 4,
 "nbformat_minor": 5
}
