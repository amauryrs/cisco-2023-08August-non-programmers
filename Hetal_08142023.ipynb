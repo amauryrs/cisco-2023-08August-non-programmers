{
 "cells": [
  {
   "cell_type": "code",
   "execution_count": 1,
   "id": "62148cf5-9b23-4f10-b470-cd9ddb347f9e",
   "metadata": {},
   "outputs": [
    {
     "name": "stdout",
     "output_type": "stream",
     "text": [
      "this is Hetal\n"
     ]
    }
   ],
   "source": [
    "print(\"this is Hetal\")"
   ]
  },
  {
   "cell_type": "code",
   "execution_count": null,
   "id": "33e3d5f4-d3f0-48dc-9683-2ea35f6f3f48",
   "metadata": {},
   "outputs": [],
   "source": []
  }
 ],
 "metadata": {
  "kernelspec": {
   "display_name": "Python 3 (ipykernel)",
   "language": "python",
   "name": "python3"
  },
  "language_info": {
   "codemirror_mode": {
    "name": "ipython",
    "version": 3
   },
   "file_extension": ".py",
   "mimetype": "text/x-python",
   "name": "python",
   "nbconvert_exporter": "python",
   "pygments_lexer": "ipython3",
   "version": "3.10.12"
  }
 },
 "nbformat": 4,
 "nbformat_minor": 5
}
