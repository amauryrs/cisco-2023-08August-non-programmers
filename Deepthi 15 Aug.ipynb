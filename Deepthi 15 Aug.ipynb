{
 "cells": [
  {
   "cell_type": "code",
   "execution_count": 1,
   "id": "3ebfe199-ef2e-426c-86c1-817e5ccb586d",
   "metadata": {},
   "outputs": [],
   "source": [
    "s= 'Deepthi'"
   ]
  },
  {
   "cell_type": "code",
   "execution_count": 3,
   "id": "1b5ff2d8-1eed-4231-8791-9b25379bcec0",
   "metadata": {},
   "outputs": [
    {
     "name": "stdout",
     "output_type": "stream",
     "text": [
      "D\n",
      "e\n",
      "e\n",
      "p\n",
      "t\n",
      "h\n",
      "i\n"
     ]
    }
   ],
   "source": [
    "for one_character in s:\n",
    "    print(one_character)"
   ]
  },
  {
   "cell_type": "code",
   "execution_count": 8,
   "id": "4d2f2355-7967-42cf-a14b-59c7c3ecf6c2",
   "metadata": {},
   "outputs": [
    {
     "ename": "IndentationError",
     "evalue": "unexpected indent (373454278.py, line 10)",
     "output_type": "error",
     "traceback": [
      "\u001b[0;36m  Cell \u001b[0;32mIn[8], line 10\u001b[0;36m\u001b[0m\n\u001b[0;31m    else:\u001b[0m\n\u001b[0m    ^\u001b[0m\n\u001b[0;31mIndentationError\u001b[0m\u001b[0;31m:\u001b[0m unexpected indent\n"
     ]
    }
   ],
   "source": [
    "digits=0\n",
    "vowels=0\n",
    "others=0\n",
    "s=input('Enter a string: ').strip()\n",
    "\n",
    "for one_character in s:\n",
    "    if one_character in 'aeiou':\n",
    "        vowels +=1\n",
    "print({vowels})\n",
    "     else: \n",
    "        digits+=1\n",
    "print({digits})"
   ]
  },
  {
   "cell_type": "code",
   "execution_count": null,
   "id": "4db5ed1e-ef10-42e9-b7f1-5e369d74e9b6",
   "metadata": {},
   "outputs": [],
   "source": []
  }
 ],
 "metadata": {
  "kernelspec": {
   "display_name": "Python 3 (ipykernel)",
   "language": "python",
   "name": "python3"
  },
  "language_info": {
   "codemirror_mode": {
    "name": "ipython",
    "version": 3
   },
   "file_extension": ".py",
   "mimetype": "text/x-python",
   "name": "python",
   "nbconvert_exporter": "python",
   "pygments_lexer": "ipython3",
   "version": "3.10.12"
  }
 },
 "nbformat": 4,
 "nbformat_minor": 5
}
