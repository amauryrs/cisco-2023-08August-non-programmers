{
 "cells": [
  {
   "cell_type": "code",
   "execution_count": 1,
   "id": "3ebfe199-ef2e-426c-86c1-817e5ccb586d",
   "metadata": {},
   "outputs": [],
   "source": [
    "s= 'Deepthi'"
   ]
  },
  {
   "cell_type": "code",
   "execution_count": 2,
   "id": "1b5ff2d8-1eed-4231-8791-9b25379bcec0",
   "metadata": {},
   "outputs": [
    {
     "ename": "SyntaxError",
     "evalue": "incomplete input (3373095685.py, line 1)",
     "output_type": "error",
     "traceback": [
      "\u001b[0;36m  Cell \u001b[0;32mIn[2], line 1\u001b[0;36m\u001b[0m\n\u001b[0;31m    for one_character in s:\u001b[0m\n\u001b[0m                           ^\u001b[0m\n\u001b[0;31mSyntaxError\u001b[0m\u001b[0;31m:\u001b[0m incomplete input\n"
     ]
    }
   ],
   "source": [
    "for one_character in s:\n",
    "    print(one_char"
   ]
  },
  {
   "cell_type": "code",
   "execution_count": null,
   "id": "4d2f2355-7967-42cf-a14b-59c7c3ecf6c2",
   "metadata": {},
   "outputs": [],
   "source": []
  }
 ],
 "metadata": {
  "kernelspec": {
   "display_name": "Python 3 (ipykernel)",
   "language": "python",
   "name": "python3"
  },
  "language_info": {
   "codemirror_mode": {
    "name": "ipython",
    "version": 3
   },
   "file_extension": ".py",
   "mimetype": "text/x-python",
   "name": "python",
   "nbconvert_exporter": "python",
   "pygments_lexer": "ipython3",
   "version": "3.10.12"
  }
 },
 "nbformat": 4,
 "nbformat_minor": 5
}
