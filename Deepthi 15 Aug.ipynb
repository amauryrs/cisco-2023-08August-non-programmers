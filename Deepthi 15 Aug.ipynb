{
 "cells": [
  {
   "cell_type": "code",
   "execution_count": 1,
   "id": "3ebfe199-ef2e-426c-86c1-817e5ccb586d",
   "metadata": {},
   "outputs": [],
   "source": [
    "s= 'Deepthi'"
   ]
  },
  {
   "cell_type": "code",
   "execution_count": 3,
   "id": "1b5ff2d8-1eed-4231-8791-9b25379bcec0",
   "metadata": {},
   "outputs": [
    {
     "name": "stdout",
     "output_type": "stream",
     "text": [
      "D\n",
      "e\n",
      "e\n",
      "p\n",
      "t\n",
      "h\n",
      "i\n"
     ]
    }
   ],
   "source": [
    "for one_character in s:\n",
    "    print(one_character)"
   ]
  },
  {
   "cell_type": "code",
   "execution_count": 13,
   "id": "4d2f2355-7967-42cf-a14b-59c7c3ecf6c2",
   "metadata": {},
   "outputs": [
    {
     "name": "stdin",
     "output_type": "stream",
     "text": [
      "Enter a string:  mrethika\n"
     ]
    },
    {
     "name": "stdout",
     "output_type": "stream",
     "text": [
      "{1}\n",
      "{2}\n",
      "{3}\n"
     ]
    }
   ],
   "source": [
    "digits=0\n",
    "vowels=0\n",
    "others=0\n",
    "s=input('Enter a string: ').strip()\n",
    "\n",
    "for one_character in s:\n",
    "    if one_character in 'aeiou':\n",
    "        vowels +=1\n",
    "        print({vowels})\n",
    "    \n"
   ]
  },
  {
   "cell_type": "code",
   "execution_count": 17,
   "id": "4db5ed1e-ef10-42e9-b7f1-5e369d74e9b6",
   "metadata": {},
   "outputs": [
    {
     "name": "stdin",
     "output_type": "stream",
     "text": [
      "Enter a string:  Deepthi123\n"
     ]
    },
    {
     "name": "stdout",
     "output_type": "stream",
     "text": [
      "vowels = 3\n",
      "digits = 3\n",
      "others = 4\n"
     ]
    }
   ],
   "source": [
    "digits=0\n",
    "vowels=0\n",
    "others=0\n",
    "s=input('Enter a string: ').strip()\n",
    "\n",
    "for one_character in s:\n",
    "    if one_character .isdigit():\n",
    "        digits+=1\n",
    "    elif one_character in 'aeiou':\n",
    "         vowels +=1\n",
    "    else:\n",
    "        others+=1\n",
    "print(f'vowels = {vowels}')\n",
    "print(f'digits = {digits}')\n",
    "print(f'others = {others}')"
   ]
  },
  {
   "cell_type": "code",
   "execution_count": 18,
   "id": "b5b84936-215f-4468-9dca-4bdf62e3a279",
   "metadata": {},
   "outputs": [
    {
     "name": "stdout",
     "output_type": "stream",
     "text": [
      "Hello\n",
      "Hello\n",
      "Hello\n"
     ]
    }
   ],
   "source": [
    "for one_iteration in range(3):\n",
    "    print('Hello')\n",
    "    "
   ]
  },
  {
   "cell_type": "code",
   "execution_count": 23,
   "id": "e27e4c40-6ca7-4300-9b4a-be6460d2a74e",
   "metadata": {},
   "outputs": [
    {
     "name": "stdout",
     "output_type": "stream",
     "text": [
      "0 Hello\n",
      "1 Hello\n",
      "2 Hello\n"
     ]
    }
   ],
   "source": [
    "for iteration in range(3):\n",
    "    print(f'{iteration} Hello')"
   ]
  },
  {
   "cell_type": "code",
   "execution_count": 24,
   "id": "586b7706-bc86-42e0-aa7c-1a90cab5e0fc",
   "metadata": {},
   "outputs": [
    {
     "name": "stdout",
     "output_type": "stream",
     "text": [
      "1\n",
      "2\n",
      "3\n",
      "4\n",
      "5\n",
      "6\n"
     ]
    }
   ],
   "source": [
    "n=123456\n",
    "for digit in str(n):\n",
    "    print(digit)"
   ]
  },
  {
   "cell_type": "code",
   "execution_count": 25,
   "id": "82ad2e2f-b8a9-4007-b632-b500220507b5",
   "metadata": {},
   "outputs": [
    {
     "name": "stdout",
     "output_type": "stream",
     "text": [
      "5\n",
      "6\n",
      "7\n",
      "8\n",
      "9\n"
     ]
    }
   ],
   "source": [
    "for count in range (5, 10):\n",
    "    print(count)"
   ]
  },
  {
   "cell_type": "code",
   "execution_count": 27,
   "id": "890d60ac-4473-4f6f-92a7-50adf3ac4ea7",
   "metadata": {},
   "outputs": [
    {
     "name": "stdin",
     "output_type": "stream",
     "text": [
      "Enter your name:  hello\n"
     ]
    },
    {
     "name": "stdout",
     "output_type": "stream",
     "text": [
      "h\n",
      "he\n",
      "hel\n"
     ]
    }
   ],
   "source": [
    "name =input('Enter your name: ') .strip()\n",
    "\n",
    "print(name[:1])\n",
    "print(name[:2])\n",
    "print(name[:3])"
   ]
  },
  {
   "cell_type": "code",
   "execution_count": 28,
   "id": "b15df184-08a1-4f5c-ae04-ed680ac7a4c9",
   "metadata": {},
   "outputs": [
    {
     "name": "stdin",
     "output_type": "stream",
     "text": [
      "Enter your name:  Deepthi\n"
     ]
    },
    {
     "name": "stdout",
     "output_type": "stream",
     "text": [
      "0\n",
      "1\n",
      "2\n",
      "3\n",
      "4\n",
      "5\n",
      "6\n"
     ]
    }
   ],
   "source": [
    "name =input('Enter your name: ') .strip()\n",
    "\n",
    "for one_iteration in range (len(name)):\n",
    "    print(one_iteration)"
   ]
  },
  {
   "cell_type": "code",
   "execution_count": 29,
   "id": "2838fb72-f12a-4dec-b5f8-e768f2b89b3f",
   "metadata": {},
   "outputs": [
    {
     "name": "stdin",
     "output_type": "stream",
     "text": [
      "Enter your name:  Deepthi\n"
     ]
    },
    {
     "name": "stdout",
     "output_type": "stream",
     "text": [
      "D\n",
      "D\n",
      "D\n",
      "D\n",
      "D\n",
      "D\n",
      "D\n"
     ]
    }
   ],
   "source": [
    "name =input('Enter your name: ') .strip()\n",
    "\n",
    "for one_iteration in range (len(name)):\n",
    "    print(name[0])"
   ]
  },
  {
   "cell_type": "code",
   "execution_count": 30,
   "id": "20f22725-bb41-46db-a1ff-9bb6384c5ea5",
   "metadata": {},
   "outputs": [
    {
     "name": "stdin",
     "output_type": "stream",
     "text": [
      "Enter your name:  Deepthi\n"
     ]
    },
    {
     "name": "stdout",
     "output_type": "stream",
     "text": [
      "\n",
      "D\n",
      "De\n",
      "Dee\n",
      "Deep\n",
      "Deept\n",
      "Deepth\n"
     ]
    }
   ],
   "source": [
    "name =input('Enter your name: ') .strip()\n",
    "\n",
    "for index in range (len(name)):\n",
    "    print(name[:index])"
   ]
  },
  {
   "cell_type": "code",
   "execution_count": 31,
   "id": "c471ecf8-daa6-41fa-9312-68cf4fbb3109",
   "metadata": {},
   "outputs": [
    {
     "name": "stdin",
     "output_type": "stream",
     "text": [
      "Enter your name:  Mrethika\n"
     ]
    },
    {
     "name": "stdout",
     "output_type": "stream",
     "text": [
      "M\n",
      "Mr\n",
      "Mre\n",
      "Mret\n",
      "Mreth\n",
      "Mrethi\n",
      "Mrethik\n",
      "Mrethika\n"
     ]
    }
   ],
   "source": [
    "name =input('Enter your name: ') .strip()\n",
    "\n",
    "for index in range(len(name)):\n",
    "    print(name[:index+1])"
   ]
  },
  {
   "cell_type": "code",
   "execution_count": 32,
   "id": "641e23bc-0d75-4480-91da-af7cc98c1e46",
   "metadata": {},
   "outputs": [
    {
     "name": "stdin",
     "output_type": "stream",
     "text": [
      "Enter your name:  Mithra\n"
     ]
    },
    {
     "name": "stdout",
     "output_type": "stream",
     "text": [
      "M\n",
      "Mi\n",
      "Mit\n",
      "Mith\n",
      "Mithr\n",
      "Mithra\n"
     ]
    }
   ],
   "source": [
    "name =input('Enter your name: ') .strip()\n",
    "\n",
    "for index in range(1, len(name)+1):\n",
    "    print(name[:index])"
   ]
  },
  {
   "cell_type": "code",
   "execution_count": 33,
   "id": "29204a1e-6220-457d-bf31-9302c1242819",
   "metadata": {},
   "outputs": [
    {
     "name": "stdin",
     "output_type": "stream",
     "text": [
      "Enter your name:  Deepthi\n"
     ]
    },
    {
     "name": "stdout",
     "output_type": "stream",
     "text": [
      "D\n",
      "De\n",
      "Dee\n",
      "Deep\n",
      "Deept\n",
      "Deepth\n",
      "Deepthi\n"
     ]
    }
   ],
   "source": [
    "name =input('Enter your name: ') .strip()\n",
    "\n",
    "for index in range(1, len(name)+1):\n",
    "    print(name[:index])"
   ]
  },
  {
   "cell_type": "code",
   "execution_count": 35,
   "id": "8ec03eb8-5026-4e87-928f-1d88b3da596a",
   "metadata": {},
   "outputs": [
    {
     "name": "stdout",
     "output_type": "stream",
     "text": [
      "5\n",
      "4\n",
      "3\n",
      "2\n",
      "1\n"
     ]
    }
   ],
   "source": [
    "x=5\n",
    "while x>0:\n",
    "    print(x)\n",
    "    x-=1"
   ]
  },
  {
   "cell_type": "code",
   "execution_count": 41,
   "id": "dd1de98c-1ed2-4e60-bc2b-d94e86059cbc",
   "metadata": {},
   "outputs": [
    {
     "name": "stdin",
     "output_type": "stream",
     "text": [
      "Enter a number:  45\n"
     ]
    },
    {
     "ename": "AttributeError",
     "evalue": "'int' object has no attribute 'isdigit'",
     "output_type": "error",
     "traceback": [
      "\u001b[0;31m---------------------------------------------------------------------------\u001b[0m",
      "\u001b[0;31mAttributeError\u001b[0m                            Traceback (most recent call last)",
      "Cell \u001b[0;32mIn[41], line 5\u001b[0m\n\u001b[1;32m      3\u001b[0m x\u001b[38;5;241m=\u001b[39m\u001b[38;5;28mint\u001b[39m(number)\n\u001b[1;32m      4\u001b[0m \u001b[38;5;28;01mwhile\u001b[39;00m x \u001b[38;5;241m<\u001b[39m \u001b[38;5;241m100\u001b[39m:\n\u001b[0;32m----> 5\u001b[0m     \u001b[38;5;28;01mif\u001b[39;00m \u001b[43mx\u001b[49m\u001b[43m \u001b[49m\u001b[38;5;241;43m.\u001b[39;49m\u001b[43misdigit\u001b[49m():\n\u001b[1;32m      6\u001b[0m         \u001b[38;5;28mprint\u001b[39m(x)\n\u001b[1;32m      7\u001b[0m     \u001b[38;5;28;01melse\u001b[39;00m: \n",
      "\u001b[0;31mAttributeError\u001b[0m: 'int' object has no attribute 'isdigit'"
     ]
    }
   ],
   "source": [
    "total=0\n",
    "number =input('Enter a number: ')\n",
    "x=int(number)\n",
    "while x < 100:\n",
    "    if x .isdigit():\n",
    "        total = x \n",
    "    else: \n",
    "        print('Try again')\n",
    "        \n",
    "        \n",
    "        \n",
    "        \n",
    "    \n"
   ]
  },
  {
   "cell_type": "code",
   "execution_count": 43,
   "id": "17c86b48-8cc9-4e80-9d19-acdec550cb06",
   "metadata": {},
   "outputs": [
    {
     "name": "stdin",
     "output_type": "stream",
     "text": [
      "Enter a number:  58\n"
     ]
    },
    {
     "name": "stdout",
     "output_type": "stream",
     "text": [
      "Total =58\n"
     ]
    }
   ],
   "source": [
    "total=0\n",
    "s =input('Enter a number: ').strip()\n",
    "x=int(s)\n",
    "total+=x\n",
    "print(f'Total ={total}')\n",
    "        "
   ]
  },
  {
   "cell_type": "code",
   "execution_count": 46,
   "id": "ae16aa3c-16d4-4d17-882f-7fd35288e447",
   "metadata": {},
   "outputs": [
    {
     "name": "stdin",
     "output_type": "stream",
     "text": [
      "Enter a number:  89\n",
      "Enter a number:  67\n"
     ]
    },
    {
     "name": "stdout",
     "output_type": "stream",
     "text": [
      "Total =156\n"
     ]
    }
   ],
   "source": [
    "total=0\n",
    "\n",
    "\n",
    "while total < 100:\n",
    "    s =input('Enter a number: ').strip()\n",
    "\n",
    "    n=int(s)\n",
    "    total+=n\n",
    "print(f'Total ={total}')"
   ]
  },
  {
   "cell_type": "code",
   "execution_count": 47,
   "id": "cb8e6a00-d5b6-4edf-9c49-e82be7c1d4cd",
   "metadata": {},
   "outputs": [
    {
     "name": "stdin",
     "output_type": "stream",
     "text": [
      "Enter a number:  8\n",
      "Enter a number:  5\n",
      "Enter a number:  3\n",
      "Enter a number:  7\n",
      "Enter a number:  100\n"
     ]
    },
    {
     "name": "stdout",
     "output_type": "stream",
     "text": [
      "Total =123\n"
     ]
    }
   ],
   "source": [
    "total=0\n",
    "\n",
    "\n",
    "while total < 100:\n",
    "    s =input('Enter a number: ').strip()\n",
    "\n",
    "    n=int(s)\n",
    "    total+=n\n",
    "print(f'Total ={total}')"
   ]
  },
  {
   "cell_type": "code",
   "execution_count": 48,
   "id": "e5328b73-c16d-4bf0-821e-35af08e7a968",
   "metadata": {},
   "outputs": [
    {
     "name": "stdin",
     "output_type": "stream",
     "text": [
      "Enter a number:  8\n",
      "Enter a number:  9\n",
      "Enter a number:  hj\n"
     ]
    },
    {
     "name": "stdout",
     "output_type": "stream",
     "text": [
      "hj  is not numeric; try again!\n"
     ]
    },
    {
     "name": "stdin",
     "output_type": "stream",
     "text": [
      "Enter a number:  78\n",
      "Enter a number:  90\n"
     ]
    },
    {
     "name": "stdout",
     "output_type": "stream",
     "text": [
      "Total =185\n"
     ]
    }
   ],
   "source": [
    "total=0\n",
    "\n",
    "\n",
    "while total < 100:\n",
    "    s =input('Enter a number: ').strip()\n",
    "    if s.isdigit():\n",
    "        n=int(s)\n",
    "        total+=n\n",
    "    else:\n",
    "        print(f'{s}  is not numeric; try again!')\n",
    "        \n",
    "print(f'Total ={total}')"
   ]
  },
  {
   "cell_type": "code",
   "execution_count": null,
   "id": "0571258c-0ebb-48de-93d9-7cd6fa4cf952",
   "metadata": {},
   "outputs": [],
   "source": [
    "total=0\n",
    "\n",
    "s=input('Enter a number: ').strip()\n",
    "while s.isdigit():\n",
    "    n=int(s)\n",
    "    total+=n\n",
    "    if s == ' ':\n",
    "        break\n",
    "    else:\n",
    "        print(f'Total, {total}')"
   ]
  },
  {
   "cell_type": "code",
   "execution_count": null,
   "id": "7d0890be-f077-4a2d-a75c-d65d6c9e43d3",
   "metadata": {},
   "outputs": [],
   "source": [
    "total=0\n",
    "\n",
    "s=input('Enter a number: ').strip()\n",
    "while s.isdigit():\n",
    "    n=int(s)\n",
    "    total+=n\n",
    "    if s == ' ':\n",
    "        break\n",
    "    else:\n",
    "        print(f'Total, {total}')"
   ]
  },
  {
   "cell_type": "code",
   "execution_count": null,
   "id": "5a895e54-82be-4450-9156-30a81bfbbdf2",
   "metadata": {},
   "outputs": [],
   "source": []
  }
 ],
 "metadata": {
  "kernelspec": {
   "display_name": "Python 3 (ipykernel)",
   "language": "python",
   "name": "python3"
  },
  "language_info": {
   "codemirror_mode": {
    "name": "ipython",
    "version": 3
   },
   "file_extension": ".py",
   "mimetype": "text/x-python",
   "name": "python",
   "nbconvert_exporter": "python",
   "pygments_lexer": "ipython3",
   "version": "3.10.12"
  }
 },
 "nbformat": 4,
 "nbformat_minor": 5
}
