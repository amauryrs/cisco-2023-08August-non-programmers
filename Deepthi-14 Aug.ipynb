{
 "cells": [
  {
   "cell_type": "code",
   "execution_count": 1,
   "id": "c85d8c51-934e-43c3-8d94-15850ac9bf9c",
   "metadata": {},
   "outputs": [
    {
     "name": "stdout",
     "output_type": "stream",
     "text": [
      "Hello\n"
     ]
    }
   ],
   "source": [
    "print('Hello')"
   ]
  },
  {
   "cell_type": "code",
   "execution_count": 2,
   "id": "b7f06c2a-902e-4211-b38e-054a8310275f",
   "metadata": {},
   "outputs": [
    {
     "data": {
      "text/plain": [
       "16"
      ]
     },
     "execution_count": 2,
     "metadata": {},
     "output_type": "execute_result"
    }
   ],
   "source": [
    "6+10\n"
   ]
  },
  {
   "cell_type": "code",
   "execution_count": 3,
   "id": "ab1326a2-7b58-4936-a433-3a587da56b17",
   "metadata": {},
   "outputs": [
    {
     "name": "stdout",
     "output_type": "stream",
     "text": [
      "This is the first day of Python class\n"
     ]
    }
   ],
   "source": [
    "print('This is the first day of Python class')"
   ]
  },
  {
   "cell_type": "code",
   "execution_count": 4,
   "id": "d8dc8117-c5cd-433b-a052-9a73c8a74baa",
   "metadata": {},
   "outputs": [
    {
     "data": {
      "text/plain": [
       "10"
      ]
     },
     "execution_count": 4,
     "metadata": {},
     "output_type": "execute_result"
    }
   ],
   "source": [
    "6+8-4"
   ]
  },
  {
   "cell_type": "code",
   "execution_count": 5,
   "id": "fb500a59-d0ea-4755-bd7a-2cd11c92b000",
   "metadata": {},
   "outputs": [
    {
     "name": "stdout",
     "output_type": "stream",
     "text": [
      "HelloGood Morning\n"
     ]
    }
   ],
   "source": [
    "print(\"Hello\" + \"Good Morning\")"
   ]
  },
  {
   "cell_type": "code",
   "execution_count": 6,
   "id": "574d34e1-ad2d-4ce8-bea0-900d7320305d",
   "metadata": {},
   "outputs": [
    {
     "name": "stdout",
     "output_type": "stream",
     "text": [
      "Hello\n"
     ]
    }
   ],
   "source": [
    "print(\"Hello\")"
   ]
  },
  {
   "cell_type": "code",
   "execution_count": 7,
   "id": "abf28187-c802-4af4-b900-d58f22741398",
   "metadata": {},
   "outputs": [
    {
     "name": "stdout",
     "output_type": "stream",
     "text": [
      "27\n"
     ]
    }
   ],
   "source": [
    "x=27\n",
    "print(x)"
   ]
  },
  {
   "cell_type": "code",
   "execution_count": 8,
   "id": "887eee39-6de8-4c88-875d-7a32d3f48c46",
   "metadata": {},
   "outputs": [
    {
     "name": "stdout",
     "output_type": "stream",
     "text": [
      "50\n"
     ]
    }
   ],
   "source": [
    "x=10\n",
    "print(x*5)"
   ]
  },
  {
   "cell_type": "code",
   "execution_count": 9,
   "id": "b0ffb52e-64b8-44dc-865c-174b4e8c3075",
   "metadata": {},
   "outputs": [
    {
     "ename": "NameError",
     "evalue": "name 'hello' is not defined",
     "output_type": "error",
     "traceback": [
      "\u001b[0;31m---------------------------------------------------------------------------\u001b[0m",
      "\u001b[0;31mNameError\u001b[0m                                 Traceback (most recent call last)",
      "Cell \u001b[0;32mIn[9], line 1\u001b[0m\n\u001b[0;32m----> 1\u001b[0m \u001b[43mhello\u001b[49m\n",
      "\u001b[0;31mNameError\u001b[0m: name 'hello' is not defined"
     ]
    }
   ],
   "source": [
    "hello\n"
   ]
  },
  {
   "cell_type": "code",
   "execution_count": 10,
   "id": "4b563e2a-0977-48eb-bd27-9b2ff1b6018f",
   "metadata": {},
   "outputs": [
    {
     "data": {
      "text/plain": [
       "'hello'"
      ]
     },
     "execution_count": 10,
     "metadata": {},
     "output_type": "execute_result"
    }
   ],
   "source": [
    "\"hello\""
   ]
  },
  {
   "cell_type": "code",
   "execution_count": 11,
   "id": "54d025c4-acf3-47fa-a1e4-80b04ee03e2a",
   "metadata": {},
   "outputs": [
    {
     "name": "stdout",
     "output_type": "stream",
     "text": [
      "Hello, Deepthi\n"
     ]
    }
   ],
   "source": [
    "print('Hello, '+ 'Deepthi')"
   ]
  },
  {
   "cell_type": "code",
   "execution_count": 12,
   "id": "ba261c1e-ede2-45e3-ba2b-119ea81e10a8",
   "metadata": {},
   "outputs": [
    {
     "name": "stdout",
     "output_type": "stream",
     "text": [
      "Hello Deepthi\n"
     ]
    }
   ],
   "source": [
    "print('Hello '+ 'Deepthi')"
   ]
  },
  {
   "cell_type": "code",
   "execution_count": 13,
   "id": "a8486b63-8f0e-4e55-ba16-d022d1ea68a0",
   "metadata": {},
   "outputs": [
    {
     "ename": "SyntaxError",
     "evalue": "unterminated string literal (detected at line 2) (3098933469.py, line 2)",
     "output_type": "error",
     "traceback": [
      "\u001b[0;36m  Cell \u001b[0;32mIn[13], line 2\u001b[0;36m\u001b[0m\n\u001b[0;31m    print(\"Hello 'name')\u001b[0m\n\u001b[0m          ^\u001b[0m\n\u001b[0;31mSyntaxError\u001b[0m\u001b[0;31m:\u001b[0m unterminated string literal (detected at line 2)\n"
     ]
    }
   ],
   "source": [
    "name = Deepthi\n",
    "print(\"Hello 'name')"
   ]
  },
  {
   "cell_type": "code",
   "execution_count": 14,
   "id": "692b8104-e029-4ec1-a190-3160537074b5",
   "metadata": {},
   "outputs": [
    {
     "ename": "NameError",
     "evalue": "name 'Deepthi' is not defined",
     "output_type": "error",
     "traceback": [
      "\u001b[0;31m---------------------------------------------------------------------------\u001b[0m",
      "\u001b[0;31mNameError\u001b[0m                                 Traceback (most recent call last)",
      "Cell \u001b[0;32mIn[14], line 1\u001b[0m\n\u001b[0;32m----> 1\u001b[0m name \u001b[38;5;241m=\u001b[39m \u001b[43mDeepthi\u001b[49m\n\u001b[1;32m      2\u001b[0m \u001b[38;5;28mprint\u001b[39m(\u001b[38;5;124m'\u001b[39m\u001b[38;5;124mWelcome to the Python Class, name\u001b[39m\u001b[38;5;124m'\u001b[39m)\n",
      "\u001b[0;31mNameError\u001b[0m: name 'Deepthi' is not defined"
     ]
    }
   ],
   "source": [
    "name = Deepthi\n",
    "print('Welcome to the Python Class, name')"
   ]
  },
  {
   "cell_type": "code",
   "execution_count": 15,
   "id": "d0346ed9-424e-4f40-b116-ddd9ba5c7c26",
   "metadata": {},
   "outputs": [
    {
     "ename": "NameError",
     "evalue": "name 'Deepthi' is not defined",
     "output_type": "error",
     "traceback": [
      "\u001b[0;31m---------------------------------------------------------------------------\u001b[0m",
      "\u001b[0;31mNameError\u001b[0m                                 Traceback (most recent call last)",
      "Cell \u001b[0;32mIn[15], line 1\u001b[0m\n\u001b[0;32m----> 1\u001b[0m name \u001b[38;5;241m=\u001b[39m \u001b[43mDeepthi\u001b[49m\n\u001b[1;32m      2\u001b[0m \u001b[38;5;28mprint\u001b[39m(\u001b[38;5;124m'\u001b[39m\u001b[38;5;124mWelcome to the Python Class, \u001b[39m\u001b[38;5;124m'\u001b[39m \u001b[38;5;241m+\u001b[39m name \u001b[38;5;241m+\u001b[39m \u001b[38;5;124m'\u001b[39m\u001b[38;5;124m.\u001b[39m\u001b[38;5;124m'\u001b[39m)\n",
      "\u001b[0;31mNameError\u001b[0m: name 'Deepthi' is not defined"
     ]
    }
   ],
   "source": [
    "name = Deepthi\n",
    "print('Welcome to the Python Class, ' + name + '.')"
   ]
  },
  {
   "cell_type": "code",
   "execution_count": 16,
   "id": "b5ee7470-b828-46e7-a449-60bdcb25a04e",
   "metadata": {},
   "outputs": [
    {
     "ename": "NameError",
     "evalue": "name 'Deepthi' is not defined",
     "output_type": "error",
     "traceback": [
      "\u001b[0;31m---------------------------------------------------------------------------\u001b[0m",
      "\u001b[0;31mNameError\u001b[0m                                 Traceback (most recent call last)",
      "Cell \u001b[0;32mIn[16], line 1\u001b[0m\n\u001b[0;32m----> 1\u001b[0m name \u001b[38;5;241m=\u001b[39m \u001b[43mDeepthi\u001b[49m\n\u001b[1;32m      2\u001b[0m \u001b[38;5;28mprint\u001b[39m(name)\n",
      "\u001b[0;31mNameError\u001b[0m: name 'Deepthi' is not defined"
     ]
    }
   ],
   "source": [
    "name = Deepthi\n",
    "print(name)"
   ]
  },
  {
   "cell_type": "code",
   "execution_count": null,
   "id": "7279546b-b694-45a7-9ee0-b6a6d7937094",
   "metadata": {},
   "outputs": [],
   "source": [
    "name = Deepthi"
   ]
  },
  {
   "cell_type": "code",
   "execution_count": 17,
   "id": "6c228838-3e97-4492-a287-ce0e2c3e0ff7",
   "metadata": {},
   "outputs": [
    {
     "ename": "NameError",
     "evalue": "name 'name' is not defined",
     "output_type": "error",
     "traceback": [
      "\u001b[0;31m---------------------------------------------------------------------------\u001b[0m",
      "\u001b[0;31mNameError\u001b[0m                                 Traceback (most recent call last)",
      "Cell \u001b[0;32mIn[17], line 1\u001b[0m\n\u001b[0;32m----> 1\u001b[0m \u001b[38;5;28mprint\u001b[39m(\u001b[43mname\u001b[49m)\n",
      "\u001b[0;31mNameError\u001b[0m: name 'name' is not defined"
     ]
    }
   ],
   "source": [
    "print(name)"
   ]
  },
  {
   "cell_type": "code",
   "execution_count": 18,
   "id": "e6cb3b2c-4997-4aa4-9b74-bc5cbd4ddfc7",
   "metadata": {},
   "outputs": [
    {
     "name": "stdout",
     "output_type": "stream",
     "text": [
      "Hello, Deepthi!\n"
     ]
    }
   ],
   "source": [
    "name ='Deepthi'\n",
    "print('Hello, ' + name + '!')"
   ]
  },
  {
   "cell_type": "code",
   "execution_count": 19,
   "id": "1f559e71-e7de-46cc-94c9-f007fd0494e5",
   "metadata": {},
   "outputs": [
    {
     "name": "stdout",
     "output_type": "stream",
     "text": [
      "welcome to the Python class, name.\n"
     ]
    }
   ],
   "source": [
    "name = 'Deepthi'\n",
    "print('welcome to the Python class, name.')"
   ]
  },
  {
   "cell_type": "code",
   "execution_count": 20,
   "id": "4c6e4b19-1718-437a-a3d9-90df844484b4",
   "metadata": {},
   "outputs": [
    {
     "ename": "SyntaxError",
     "evalue": "invalid syntax (1086012379.py, line 2)",
     "output_type": "error",
     "traceback": [
      "\u001b[0;36m  Cell \u001b[0;32mIn[20], line 2\u001b[0;36m\u001b[0m\n\u001b[0;31m    print('welcome to the Python class, '+ name.)\u001b[0m\n\u001b[0m                                                ^\u001b[0m\n\u001b[0;31mSyntaxError\u001b[0m\u001b[0;31m:\u001b[0m invalid syntax\n"
     ]
    }
   ],
   "source": [
    "name = 'Deepthi'\n",
    "print('welcome to the Python class, '+ name.)"
   ]
  },
  {
   "cell_type": "code",
   "execution_count": 21,
   "id": "a3ce7cb4-642b-469b-be32-b101e3ffed55",
   "metadata": {},
   "outputs": [
    {
     "name": "stdout",
     "output_type": "stream",
     "text": [
      "welcome to the Python class, Deepthi\n"
     ]
    }
   ],
   "source": [
    "name = 'Deepthi'\n",
    "print('welcome to the Python class, '+ name)"
   ]
  },
  {
   "cell_type": "code",
   "execution_count": null,
   "id": "650f6512-df9b-43a8-8ca9-d8a8cb093db1",
   "metadata": {},
   "outputs": [],
   "source": []
  }
 ],
 "metadata": {
  "kernelspec": {
   "display_name": "Python 3 (ipykernel)",
   "language": "python",
   "name": "python3"
  },
  "language_info": {
   "codemirror_mode": {
    "name": "ipython",
    "version": 3
   },
   "file_extension": ".py",
   "mimetype": "text/x-python",
   "name": "python",
   "nbconvert_exporter": "python",
   "pygments_lexer": "ipython3",
   "version": "3.10.12"
  }
 },
 "nbformat": 4,
 "nbformat_minor": 5
}
