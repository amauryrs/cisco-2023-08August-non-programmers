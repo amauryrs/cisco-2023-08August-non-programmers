{
 "cells": [
  {
   "cell_type": "code",
   "execution_count": 1,
   "id": "c85d8c51-934e-43c3-8d94-15850ac9bf9c",
   "metadata": {},
   "outputs": [
    {
     "name": "stdout",
     "output_type": "stream",
     "text": [
      "Hello\n"
     ]
    }
   ],
   "source": [
    "print('Hello')"
   ]
  },
  {
   "cell_type": "code",
   "execution_count": 2,
   "id": "b7f06c2a-902e-4211-b38e-054a8310275f",
   "metadata": {},
   "outputs": [
    {
     "data": {
      "text/plain": [
       "16"
      ]
     },
     "execution_count": 2,
     "metadata": {},
     "output_type": "execute_result"
    }
   ],
   "source": [
    "6+10\n"
   ]
  },
  {
   "cell_type": "code",
   "execution_count": 3,
   "id": "ab1326a2-7b58-4936-a433-3a587da56b17",
   "metadata": {},
   "outputs": [
    {
     "name": "stdout",
     "output_type": "stream",
     "text": [
      "This is the first day of Python class\n"
     ]
    }
   ],
   "source": [
    "print('This is the first day of Python class')"
   ]
  },
  {
   "cell_type": "code",
   "execution_count": 4,
   "id": "d8dc8117-c5cd-433b-a052-9a73c8a74baa",
   "metadata": {},
   "outputs": [
    {
     "data": {
      "text/plain": [
       "10"
      ]
     },
     "execution_count": 4,
     "metadata": {},
     "output_type": "execute_result"
    }
   ],
   "source": [
    "6+8-4"
   ]
  },
  {
   "cell_type": "code",
   "execution_count": 5,
   "id": "fb500a59-d0ea-4755-bd7a-2cd11c92b000",
   "metadata": {},
   "outputs": [
    {
     "name": "stdout",
     "output_type": "stream",
     "text": [
      "HelloGood Morning\n"
     ]
    }
   ],
   "source": [
    "print(\"Hello\" + \"Good Morning\")"
   ]
  },
  {
   "cell_type": "code",
   "execution_count": 6,
   "id": "574d34e1-ad2d-4ce8-bea0-900d7320305d",
   "metadata": {},
   "outputs": [
    {
     "name": "stdout",
     "output_type": "stream",
     "text": [
      "Hello\n"
     ]
    }
   ],
   "source": [
    "print(\"Hello\")"
   ]
  },
  {
   "cell_type": "code",
   "execution_count": 7,
   "id": "abf28187-c802-4af4-b900-d58f22741398",
   "metadata": {},
   "outputs": [
    {
     "name": "stdout",
     "output_type": "stream",
     "text": [
      "27\n"
     ]
    }
   ],
   "source": [
    "x=27\n",
    "print(x)"
   ]
  },
  {
   "cell_type": "code",
   "execution_count": 8,
   "id": "887eee39-6de8-4c88-875d-7a32d3f48c46",
   "metadata": {},
   "outputs": [
    {
     "name": "stdout",
     "output_type": "stream",
     "text": [
      "50\n"
     ]
    }
   ],
   "source": [
    "x=10\n",
    "print(x*5)"
   ]
  },
  {
   "cell_type": "code",
   "execution_count": 9,
   "id": "b0ffb52e-64b8-44dc-865c-174b4e8c3075",
   "metadata": {},
   "outputs": [
    {
     "ename": "NameError",
     "evalue": "name 'hello' is not defined",
     "output_type": "error",
     "traceback": [
      "\u001b[0;31m---------------------------------------------------------------------------\u001b[0m",
      "\u001b[0;31mNameError\u001b[0m                                 Traceback (most recent call last)",
      "Cell \u001b[0;32mIn[9], line 1\u001b[0m\n\u001b[0;32m----> 1\u001b[0m \u001b[43mhello\u001b[49m\n",
      "\u001b[0;31mNameError\u001b[0m: name 'hello' is not defined"
     ]
    }
   ],
   "source": [
    "hello\n"
   ]
  },
  {
   "cell_type": "code",
   "execution_count": 10,
   "id": "4b563e2a-0977-48eb-bd27-9b2ff1b6018f",
   "metadata": {},
   "outputs": [
    {
     "data": {
      "text/plain": [
       "'hello'"
      ]
     },
     "execution_count": 10,
     "metadata": {},
     "output_type": "execute_result"
    }
   ],
   "source": [
    "\"hello\""
   ]
  },
  {
   "cell_type": "code",
   "execution_count": 11,
   "id": "54d025c4-acf3-47fa-a1e4-80b04ee03e2a",
   "metadata": {},
   "outputs": [
    {
     "name": "stdout",
     "output_type": "stream",
     "text": [
      "Hello, Deepthi\n"
     ]
    }
   ],
   "source": [
    "print('Hello, '+ 'Deepthi')"
   ]
  },
  {
   "cell_type": "code",
   "execution_count": 12,
   "id": "ba261c1e-ede2-45e3-ba2b-119ea81e10a8",
   "metadata": {},
   "outputs": [
    {
     "name": "stdout",
     "output_type": "stream",
     "text": [
      "Hello Deepthi\n"
     ]
    }
   ],
   "source": [
    "print('Hello '+ 'Deepthi')"
   ]
  },
  {
   "cell_type": "code",
   "execution_count": 13,
   "id": "a8486b63-8f0e-4e55-ba16-d022d1ea68a0",
   "metadata": {},
   "outputs": [
    {
     "ename": "SyntaxError",
     "evalue": "unterminated string literal (detected at line 2) (3098933469.py, line 2)",
     "output_type": "error",
     "traceback": [
      "\u001b[0;36m  Cell \u001b[0;32mIn[13], line 2\u001b[0;36m\u001b[0m\n\u001b[0;31m    print(\"Hello 'name')\u001b[0m\n\u001b[0m          ^\u001b[0m\n\u001b[0;31mSyntaxError\u001b[0m\u001b[0;31m:\u001b[0m unterminated string literal (detected at line 2)\n"
     ]
    }
   ],
   "source": [
    "name = Deepthi\n",
    "print(\"Hello 'name')"
   ]
  },
  {
   "cell_type": "code",
   "execution_count": 14,
   "id": "692b8104-e029-4ec1-a190-3160537074b5",
   "metadata": {},
   "outputs": [
    {
     "ename": "NameError",
     "evalue": "name 'Deepthi' is not defined",
     "output_type": "error",
     "traceback": [
      "\u001b[0;31m---------------------------------------------------------------------------\u001b[0m",
      "\u001b[0;31mNameError\u001b[0m                                 Traceback (most recent call last)",
      "Cell \u001b[0;32mIn[14], line 1\u001b[0m\n\u001b[0;32m----> 1\u001b[0m name \u001b[38;5;241m=\u001b[39m \u001b[43mDeepthi\u001b[49m\n\u001b[1;32m      2\u001b[0m \u001b[38;5;28mprint\u001b[39m(\u001b[38;5;124m'\u001b[39m\u001b[38;5;124mWelcome to the Python Class, name\u001b[39m\u001b[38;5;124m'\u001b[39m)\n",
      "\u001b[0;31mNameError\u001b[0m: name 'Deepthi' is not defined"
     ]
    }
   ],
   "source": [
    "name = Deepthi\n",
    "print('Welcome to the Python Class, name')"
   ]
  },
  {
   "cell_type": "code",
   "execution_count": 15,
   "id": "d0346ed9-424e-4f40-b116-ddd9ba5c7c26",
   "metadata": {},
   "outputs": [
    {
     "ename": "NameError",
     "evalue": "name 'Deepthi' is not defined",
     "output_type": "error",
     "traceback": [
      "\u001b[0;31m---------------------------------------------------------------------------\u001b[0m",
      "\u001b[0;31mNameError\u001b[0m                                 Traceback (most recent call last)",
      "Cell \u001b[0;32mIn[15], line 1\u001b[0m\n\u001b[0;32m----> 1\u001b[0m name \u001b[38;5;241m=\u001b[39m \u001b[43mDeepthi\u001b[49m\n\u001b[1;32m      2\u001b[0m \u001b[38;5;28mprint\u001b[39m(\u001b[38;5;124m'\u001b[39m\u001b[38;5;124mWelcome to the Python Class, \u001b[39m\u001b[38;5;124m'\u001b[39m \u001b[38;5;241m+\u001b[39m name \u001b[38;5;241m+\u001b[39m \u001b[38;5;124m'\u001b[39m\u001b[38;5;124m.\u001b[39m\u001b[38;5;124m'\u001b[39m)\n",
      "\u001b[0;31mNameError\u001b[0m: name 'Deepthi' is not defined"
     ]
    }
   ],
   "source": [
    "name = Deepthi\n",
    "print('Welcome to the Python Class, ' + name + '.')"
   ]
  },
  {
   "cell_type": "code",
   "execution_count": 16,
   "id": "b5ee7470-b828-46e7-a449-60bdcb25a04e",
   "metadata": {},
   "outputs": [
    {
     "ename": "NameError",
     "evalue": "name 'Deepthi' is not defined",
     "output_type": "error",
     "traceback": [
      "\u001b[0;31m---------------------------------------------------------------------------\u001b[0m",
      "\u001b[0;31mNameError\u001b[0m                                 Traceback (most recent call last)",
      "Cell \u001b[0;32mIn[16], line 1\u001b[0m\n\u001b[0;32m----> 1\u001b[0m name \u001b[38;5;241m=\u001b[39m \u001b[43mDeepthi\u001b[49m\n\u001b[1;32m      2\u001b[0m \u001b[38;5;28mprint\u001b[39m(name)\n",
      "\u001b[0;31mNameError\u001b[0m: name 'Deepthi' is not defined"
     ]
    }
   ],
   "source": [
    "name = Deepthi\n",
    "print(name)"
   ]
  },
  {
   "cell_type": "code",
   "execution_count": null,
   "id": "7279546b-b694-45a7-9ee0-b6a6d7937094",
   "metadata": {},
   "outputs": [],
   "source": [
    "name = Deepthi"
   ]
  },
  {
   "cell_type": "code",
   "execution_count": 17,
   "id": "6c228838-3e97-4492-a287-ce0e2c3e0ff7",
   "metadata": {},
   "outputs": [
    {
     "ename": "NameError",
     "evalue": "name 'name' is not defined",
     "output_type": "error",
     "traceback": [
      "\u001b[0;31m---------------------------------------------------------------------------\u001b[0m",
      "\u001b[0;31mNameError\u001b[0m                                 Traceback (most recent call last)",
      "Cell \u001b[0;32mIn[17], line 1\u001b[0m\n\u001b[0;32m----> 1\u001b[0m \u001b[38;5;28mprint\u001b[39m(\u001b[43mname\u001b[49m)\n",
      "\u001b[0;31mNameError\u001b[0m: name 'name' is not defined"
     ]
    }
   ],
   "source": [
    "print(name)"
   ]
  },
  {
   "cell_type": "code",
   "execution_count": 18,
   "id": "e6cb3b2c-4997-4aa4-9b74-bc5cbd4ddfc7",
   "metadata": {},
   "outputs": [
    {
     "name": "stdout",
     "output_type": "stream",
     "text": [
      "Hello, Deepthi!\n"
     ]
    }
   ],
   "source": [
    "name ='Deepthi'\n",
    "print('Hello, ' + name + '!')"
   ]
  },
  {
   "cell_type": "code",
   "execution_count": 19,
   "id": "1f559e71-e7de-46cc-94c9-f007fd0494e5",
   "metadata": {},
   "outputs": [
    {
     "name": "stdout",
     "output_type": "stream",
     "text": [
      "welcome to the Python class, name.\n"
     ]
    }
   ],
   "source": [
    "name = 'Deepthi'\n",
    "print('welcome to the Python class, name.')"
   ]
  },
  {
   "cell_type": "code",
   "execution_count": 20,
   "id": "4c6e4b19-1718-437a-a3d9-90df844484b4",
   "metadata": {},
   "outputs": [
    {
     "ename": "SyntaxError",
     "evalue": "invalid syntax (1086012379.py, line 2)",
     "output_type": "error",
     "traceback": [
      "\u001b[0;36m  Cell \u001b[0;32mIn[20], line 2\u001b[0;36m\u001b[0m\n\u001b[0;31m    print('welcome to the Python class, '+ name.)\u001b[0m\n\u001b[0m                                                ^\u001b[0m\n\u001b[0;31mSyntaxError\u001b[0m\u001b[0;31m:\u001b[0m invalid syntax\n"
     ]
    }
   ],
   "source": [
    "name = 'Deepthi'\n",
    "print('welcome to the Python class, '+ name.)"
   ]
  },
  {
   "cell_type": "code",
   "execution_count": 21,
   "id": "a3ce7cb4-642b-469b-be32-b101e3ffed55",
   "metadata": {},
   "outputs": [
    {
     "name": "stdout",
     "output_type": "stream",
     "text": [
      "welcome to the Python class, Deepthi\n"
     ]
    }
   ],
   "source": [
    "name = 'Deepthi'\n",
    "print('welcome to the Python class, '+ name)"
   ]
  },
  {
   "cell_type": "code",
   "execution_count": 22,
   "id": "650f6512-df9b-43a8-8ca9-d8a8cb093db1",
   "metadata": {},
   "outputs": [
    {
     "name": "stdin",
     "output_type": "stream",
     "text": [
      "Enter your name:  DEEPTHI\n"
     ]
    }
   ],
   "source": [
    "name = input('Enter your name: ')\n"
   ]
  },
  {
   "cell_type": "code",
   "execution_count": 23,
   "id": "be739643-ccc7-4106-84af-9e2c11edc5fc",
   "metadata": {},
   "outputs": [
    {
     "data": {
      "text/plain": [
       "'DEEPTHI'"
      ]
     },
     "execution_count": 23,
     "metadata": {},
     "output_type": "execute_result"
    }
   ],
   "source": [
    "name"
   ]
  },
  {
   "cell_type": "code",
   "execution_count": 24,
   "id": "d1a7df14-186a-42bf-a620-971dc0b6b63c",
   "metadata": {},
   "outputs": [
    {
     "name": "stdout",
     "output_type": "stream",
     "text": [
      "DEEPTHI\n"
     ]
    }
   ],
   "source": [
    "print(name)\n"
   ]
  },
  {
   "cell_type": "code",
   "execution_count": 25,
   "id": "3719de66-d04c-4404-9315-93a9bf48b710",
   "metadata": {},
   "outputs": [
    {
     "name": "stdin",
     "output_type": "stream",
     "text": [
      "Enter your name:  Deepthi\n"
     ]
    }
   ],
   "source": [
    "name = input('Enter your name: ')"
   ]
  },
  {
   "cell_type": "code",
   "execution_count": 26,
   "id": "b8899eee-22af-4ac1-9f04-0eed2209a929",
   "metadata": {},
   "outputs": [
    {
     "name": "stdin",
     "output_type": "stream",
     "text": [
      "Enter your name:  Deepthi Kamalakannan\n"
     ]
    }
   ],
   "source": [
    "name = input('Enter your name: ')"
   ]
  },
  {
   "cell_type": "code",
   "execution_count": 27,
   "id": "43598bd1-1881-47c7-81af-f077a27fa163",
   "metadata": {},
   "outputs": [
    {
     "name": "stdout",
     "output_type": "stream",
     "text": [
      "Welcome to the Python class, Deepthi Kamalakannan\n"
     ]
    }
   ],
   "source": [
    "print('Welcome to the Python class, ' + name)"
   ]
  },
  {
   "cell_type": "code",
   "execution_count": 28,
   "id": "36fc5aa3-d054-4084-a688-173e3abe67e5",
   "metadata": {},
   "outputs": [
    {
     "ename": "SyntaxError",
     "evalue": "invalid syntax. Perhaps you forgot a comma? (2308909981.py, line 2)",
     "output_type": "error",
     "traceback": [
      "\u001b[0;36m  Cell \u001b[0;32mIn[28], line 2\u001b[0;36m\u001b[0m\n\u001b[0;31m    print('Welcome to the first day of the Python class, ' + name '.')\u001b[0m\n\u001b[0m          ^\u001b[0m\n\u001b[0;31mSyntaxError\u001b[0m\u001b[0;31m:\u001b[0m invalid syntax. Perhaps you forgot a comma?\n"
     ]
    }
   ],
   "source": [
    "name = input('Enter your name: ')\n",
    "print('Welcome to the first day of the Python class, ' + name '.')"
   ]
  },
  {
   "cell_type": "code",
   "execution_count": 29,
   "id": "198bdd69-bb2f-4b25-acbb-3fe5bfdd17b2",
   "metadata": {},
   "outputs": [
    {
     "name": "stdin",
     "output_type": "stream",
     "text": [
      "Enter your name:  Deepthi. K\n"
     ]
    },
    {
     "name": "stdout",
     "output_type": "stream",
     "text": [
      "Welcome to the first day of the Python class, Deepthi. K\n"
     ]
    }
   ],
   "source": [
    "name = input('Enter your name: ')\n",
    "print('Welcome to the first day of the Python class, ' + name)"
   ]
  },
  {
   "cell_type": "code",
   "execution_count": 30,
   "id": "f79522fb-011e-4e72-a19e-a001b9104e40",
   "metadata": {},
   "outputs": [
    {
     "name": "stdin",
     "output_type": "stream",
     "text": [
      "Please enter your name and press Enter:  Mrethika\n"
     ]
    },
    {
     "name": "stdout",
     "output_type": "stream",
     "text": [
      "Welcome to the first day of the Python class, Mrethika!\n"
     ]
    }
   ],
   "source": [
    "name = input('Please enter your name and press Enter: ')\n",
    "print('Welcome to the first day of the Python class, ' + name + '!')"
   ]
  },
  {
   "cell_type": "code",
   "execution_count": 31,
   "id": "eb765308-e5d8-4cb9-851e-9221eec290cc",
   "metadata": {},
   "outputs": [
    {
     "name": "stdin",
     "output_type": "stream",
     "text": [
      "Please enter your name and press Enter:  Deepthi Kamalakannan\n"
     ]
    },
    {
     "name": "stdout",
     "output_type": "stream",
     "text": [
      "Welcome to the first day of the Python class, Deepthi Kamalakannan!\n",
      "You will learn basics of Python in first day, Deepthi Kamalakannan!\n"
     ]
    }
   ],
   "source": [
    "name = input('Please enter your name and press Enter: ')\n",
    "print('Welcome to the first day of the Python class, ' + name + '!')\n",
    "print('You will learn basics of Python in first day, ' + name + '!')"
   ]
  },
  {
   "cell_type": "code",
   "execution_count": 32,
   "id": "c8dc2387-f0a4-4056-b3a6-2bc08b801e50",
   "metadata": {},
   "outputs": [
    {
     "data": {
      "text/plain": [
       "True"
      ]
     },
     "execution_count": 32,
     "metadata": {},
     "output_type": "execute_result"
    }
   ],
   "source": [
    "x=20\n",
    "y=20\n",
    "x==y"
   ]
  },
  {
   "cell_type": "code",
   "execution_count": 33,
   "id": "752c287c-477a-4802-955b-269763828da7",
   "metadata": {},
   "outputs": [
    {
     "data": {
      "text/plain": [
       "False"
      ]
     },
     "execution_count": 33,
     "metadata": {},
     "output_type": "execute_result"
    }
   ],
   "source": [
    "x=20\n",
    "y=15\n",
    "x==y"
   ]
  },
  {
   "cell_type": "code",
   "execution_count": 34,
   "id": "6e500d87-cdac-4103-9e4d-e123f0300030",
   "metadata": {},
   "outputs": [
    {
     "data": {
      "text/plain": [
       "True"
      ]
     },
     "execution_count": 34,
     "metadata": {},
     "output_type": "execute_result"
    }
   ],
   "source": [
    "x=20\n",
    "y=10+10\n",
    "x==y"
   ]
  },
  {
   "cell_type": "code",
   "execution_count": 35,
   "id": "1b2cbbaf-2a7e-4c84-94b5-829698006c37",
   "metadata": {},
   "outputs": [
    {
     "data": {
      "text/plain": [
       "False"
      ]
     },
     "execution_count": 35,
     "metadata": {},
     "output_type": "execute_result"
    }
   ],
   "source": [
    "x=20\n",
    "y=10+20\n",
    "x==y"
   ]
  },
  {
   "cell_type": "code",
   "execution_count": 36,
   "id": "15d7594d-0086-464c-af97-c93cfb916cf7",
   "metadata": {},
   "outputs": [
    {
     "ename": "SyntaxError",
     "evalue": "unterminated string literal (detected at line 1) (1659906884.py, line 1)",
     "output_type": "error",
     "traceback": [
      "\u001b[0;36m  Cell \u001b[0;32mIn[36], line 1\u001b[0;36m\u001b[0m\n\u001b[0;31m    name = input(\"Enter your name: ')\u001b[0m\n\u001b[0m                 ^\u001b[0m\n\u001b[0;31mSyntaxError\u001b[0m\u001b[0;31m:\u001b[0m unterminated string literal (detected at line 1)\n"
     ]
    }
   ],
   "source": [
    "name = input(\"Enter your name: ')\n",
    "             if name == 'Deepthi':\n",
    "             print(name)\n",
    "             else:\n",
    "             print('sorry')"
   ]
  },
  {
   "cell_type": "code",
   "execution_count": 37,
   "id": "13a2fbca-b7cb-404e-a43b-f4b7099a142e",
   "metadata": {},
   "outputs": [
    {
     "ename": "SyntaxError",
     "evalue": "unterminated string literal (detected at line 1) (713155531.py, line 1)",
     "output_type": "error",
     "traceback": [
      "\u001b[0;36m  Cell \u001b[0;32mIn[37], line 1\u001b[0;36m\u001b[0m\n\u001b[0;31m    name = input(\"Enter your name: ')\u001b[0m\n\u001b[0m                 ^\u001b[0m\n\u001b[0;31mSyntaxError\u001b[0m\u001b[0;31m:\u001b[0m unterminated string literal (detected at line 1)\n"
     ]
    }
   ],
   "source": [
    "name = input(\"Enter your name: ')\n",
    "             if name == 'Deepthi':\n",
    "             print('Hello')\n",
    "             else:\n",
    "             print('sorry')"
   ]
  },
  {
   "cell_type": "code",
   "execution_count": 38,
   "id": "b240092b-90e5-471e-a3ca-f38e4e17240e",
   "metadata": {},
   "outputs": [
    {
     "ename": "IndentationError",
     "evalue": "unexpected indent (2884561592.py, line 2)",
     "output_type": "error",
     "traceback": [
      "\u001b[0;36m  Cell \u001b[0;32mIn[38], line 2\u001b[0;36m\u001b[0m\n\u001b[0;31m    if name == 'Deepthi':\u001b[0m\n\u001b[0m    ^\u001b[0m\n\u001b[0;31mIndentationError\u001b[0m\u001b[0;31m:\u001b[0m unexpected indent\n"
     ]
    }
   ],
   "source": [
    "name = input('Enter your name: ')\n",
    "             if name == 'Deepthi':\n",
    "             print('Hello')\n",
    "             else:\n",
    "             print('sorry')"
   ]
  },
  {
   "cell_type": "code",
   "execution_count": 39,
   "id": "02b6f82e-35ab-451f-9020-cc6d9210cfb0",
   "metadata": {},
   "outputs": [
    {
     "ename": "IndentationError",
     "evalue": "expected an indented block after 'if' statement on line 2 (834945521.py, line 3)",
     "output_type": "error",
     "traceback": [
      "\u001b[0;36m  Cell \u001b[0;32mIn[39], line 3\u001b[0;36m\u001b[0m\n\u001b[0;31m    print('Hello')\u001b[0m\n\u001b[0m    ^\u001b[0m\n\u001b[0;31mIndentationError\u001b[0m\u001b[0;31m:\u001b[0m expected an indented block after 'if' statement on line 2\n"
     ]
    }
   ],
   "source": [
    "name = input('Enter your name: ')\n",
    "if name == 'Deepthi':\n",
    "print('Hello')\n",
    "else:\n",
    "print('sorry')"
   ]
  },
  {
   "cell_type": "code",
   "execution_count": 40,
   "id": "9297453a-24c9-4978-b8f4-3a147b018c1e",
   "metadata": {},
   "outputs": [
    {
     "name": "stdin",
     "output_type": "stream",
     "text": [
      "Enter your name:  Deepthi\n"
     ]
    },
    {
     "name": "stdout",
     "output_type": "stream",
     "text": [
      "Hello\n"
     ]
    }
   ],
   "source": [
    "name = input('Enter your name: ')\n",
    "if name == 'Deepthi':\n",
    "    print('Hello')\n",
    "else:\n",
    "    print('sorry')"
   ]
  },
  {
   "cell_type": "code",
   "execution_count": 41,
   "id": "73aa406c-4f12-4ab6-917d-abdc3b51082f",
   "metadata": {},
   "outputs": [
    {
     "name": "stdin",
     "output_type": "stream",
     "text": [
      "Enter your name:  Deepthi\n"
     ]
    },
    {
     "name": "stdout",
     "output_type": "stream",
     "text": [
      "You are Amazing\n"
     ]
    }
   ],
   "source": [
    "name = input('Enter your name: ')\n",
    "if name == 'Deepthi':\n",
    "    print('You are Amazing')\n",
    "else:\n",
    "    print('Please try again')"
   ]
  },
  {
   "cell_type": "code",
   "execution_count": 42,
   "id": "cc20b1ee-3a81-4b90-99f7-84dbac9cb033",
   "metadata": {},
   "outputs": [
    {
     "name": "stdin",
     "output_type": "stream",
     "text": [
      "Enter your name:  Mrethika\n"
     ]
    },
    {
     "name": "stdout",
     "output_type": "stream",
     "text": [
      "Please try again\n"
     ]
    }
   ],
   "source": [
    "name = input('Enter your name: ')\n",
    "if name == 'Deepthi':\n",
    "    print('You are Amazing')\n",
    "else:\n",
    "    print('Please try again')"
   ]
  },
  {
   "cell_type": "code",
   "execution_count": 43,
   "id": "499b6fa6-5ffd-4921-8336-0dbc73adc51d",
   "metadata": {},
   "outputs": [
    {
     "name": "stdin",
     "output_type": "stream",
     "text": [
      "Enter your name:  Deepthi Kamal\n"
     ]
    },
    {
     "name": "stdout",
     "output_type": "stream",
     "text": [
      "Please try again!\n"
     ]
    }
   ],
   "source": [
    "name = input('Enter your name: ')\n",
    "if name == 'Deepthi':\n",
    "    print('You are Amazing!')\n",
    "else:\n",
    "    print('Please try again!')"
   ]
  },
  {
   "cell_type": "code",
   "execution_count": 44,
   "id": "c0a344cf-5901-494e-b368-0eaedaf70866",
   "metadata": {},
   "outputs": [
    {
     "name": "stdin",
     "output_type": "stream",
     "text": [
      "Enter your name:  Deepthi\n"
     ]
    },
    {
     "name": "stdout",
     "output_type": "stream",
     "text": [
      "You are Amazing!\n"
     ]
    }
   ],
   "source": [
    "name = input('Enter your name: ')\n",
    "if name == 'Deepthi':\n",
    "    print('You are Amazing!')\n"
   ]
  },
  {
   "cell_type": "code",
   "execution_count": 45,
   "id": "195328c6-434f-4ce7-bc38-bbd00c98044d",
   "metadata": {},
   "outputs": [
    {
     "name": "stdin",
     "output_type": "stream",
     "text": [
      "Enter your name:  Mrethika\n"
     ]
    }
   ],
   "source": [
    "name = input('Enter your name: ')\n",
    "if name == 'Deepthi':\n",
    "    print('You are Amazing!')\n"
   ]
  },
  {
   "cell_type": "code",
   "execution_count": 46,
   "id": "cee07b41-d356-4eda-afb3-d94e372ee415",
   "metadata": {},
   "outputs": [
    {
     "ename": "SyntaxError",
     "evalue": "invalid syntax (361393337.py, line 3)",
     "output_type": "error",
     "traceback": [
      "\u001b[0;36m  Cell \u001b[0;32mIn[46], line 3\u001b[0;36m\u001b[0m\n\u001b[0;31m    if x==10 and y==30;\u001b[0m\n\u001b[0m                      ^\u001b[0m\n\u001b[0;31mSyntaxError\u001b[0m\u001b[0;31m:\u001b[0m invalid syntax\n"
     ]
    }
   ],
   "source": [
    "x=10\n",
    "y=30\n",
    "if x==10 and y==30;"
   ]
  },
  {
   "cell_type": "code",
   "execution_count": 47,
   "id": "db60521b-c4ce-4334-8f36-b42f78cf90e0",
   "metadata": {},
   "outputs": [
    {
     "ename": "SyntaxError",
     "evalue": "incomplete input (1739128116.py, line 3)",
     "output_type": "error",
     "traceback": [
      "\u001b[0;36m  Cell \u001b[0;32mIn[47], line 3\u001b[0;36m\u001b[0m\n\u001b[0;31m    if x==10 and y==30:\u001b[0m\n\u001b[0m                       ^\u001b[0m\n\u001b[0;31mSyntaxError\u001b[0m\u001b[0;31m:\u001b[0m incomplete input\n"
     ]
    }
   ],
   "source": [
    "x=10\n",
    "y=30\n",
    "if x==10 and y==30:"
   ]
  },
  {
   "cell_type": "code",
   "execution_count": 48,
   "id": "65bafe08-a94b-46a3-9282-2bd99e92efdc",
   "metadata": {},
   "outputs": [
    {
     "ename": "SyntaxError",
     "evalue": "expected ':' (2768317491.py, line 3)",
     "output_type": "error",
     "traceback": [
      "\u001b[0;36m  Cell \u001b[0;32mIn[48], line 3\u001b[0;36m\u001b[0m\n\u001b[0;31m    if x==10 and y==30\u001b[0m\n\u001b[0m                      ^\u001b[0m\n\u001b[0;31mSyntaxError\u001b[0m\u001b[0;31m:\u001b[0m expected ':'\n"
     ]
    }
   ],
   "source": [
    "x=10\n",
    "y=30\n",
    "if x==10 and y==30"
   ]
  },
  {
   "cell_type": "code",
   "execution_count": 49,
   "id": "88bf4e88-6593-4fcf-ae12-299cd5cbdd36",
   "metadata": {},
   "outputs": [
    {
     "ename": "SyntaxError",
     "evalue": "incomplete input (1739128116.py, line 3)",
     "output_type": "error",
     "traceback": [
      "\u001b[0;36m  Cell \u001b[0;32mIn[49], line 3\u001b[0;36m\u001b[0m\n\u001b[0;31m    if x==10 and y==30:\u001b[0m\n\u001b[0m                       ^\u001b[0m\n\u001b[0;31mSyntaxError\u001b[0m\u001b[0;31m:\u001b[0m incomplete input\n"
     ]
    }
   ],
   "source": [
    "x=10\n",
    "y=30\n",
    "if x==10 and y==30:"
   ]
  },
  {
   "cell_type": "code",
   "execution_count": 50,
   "id": "1d424d70-de38-402e-824a-a26f324822d8",
   "metadata": {},
   "outputs": [
    {
     "name": "stdout",
     "output_type": "stream",
     "text": [
      "10\n"
     ]
    }
   ],
   "source": [
    "x=10\n",
    "y=30\n",
    "if x==10 and y==30:\n",
    "    print(x)\n"
   ]
  },
  {
   "cell_type": "code",
   "execution_count": 51,
   "id": "03782764-58f1-4515-b823-c3fcfcada718",
   "metadata": {},
   "outputs": [
    {
     "ename": "SyntaxError",
     "evalue": "invalid syntax. Maybe you meant '==' or ':=' instead of '='? (1290745129.py, line 2)",
     "output_type": "error",
     "traceback": [
      "\u001b[0;36m  Cell \u001b[0;32mIn[51], line 2\u001b[0;36m\u001b[0m\n\u001b[0;31m    if x=30:\u001b[0m\n\u001b[0m       ^\u001b[0m\n\u001b[0;31mSyntaxError\u001b[0m\u001b[0;31m:\u001b[0m invalid syntax. Maybe you meant '==' or ':=' instead of '='?\n"
     ]
    }
   ],
   "source": [
    "x=10\n",
    "if x==30:\n",
    "    print('It is 30')\n",
    "elif x==20:\n",
    "    print('It is 20')\n",
    "else:\n",
    "    prit('Sorry no idea')"
   ]
  },
  {
   "cell_type": "code",
   "execution_count": 52,
   "id": "fd02fa02-5c2c-4294-96d9-9a9c6f49c983",
   "metadata": {},
   "outputs": [
    {
     "ename": "NameError",
     "evalue": "name 'prit' is not defined",
     "output_type": "error",
     "traceback": [
      "\u001b[0;31m---------------------------------------------------------------------------\u001b[0m",
      "\u001b[0;31mNameError\u001b[0m                                 Traceback (most recent call last)",
      "Cell \u001b[0;32mIn[52], line 7\u001b[0m\n\u001b[1;32m      5\u001b[0m     \u001b[38;5;28mprint\u001b[39m(\u001b[38;5;124m'\u001b[39m\u001b[38;5;124mIt is 20\u001b[39m\u001b[38;5;124m'\u001b[39m)\n\u001b[1;32m      6\u001b[0m \u001b[38;5;28;01melse\u001b[39;00m:\n\u001b[0;32m----> 7\u001b[0m     \u001b[43mprit\u001b[49m(\u001b[38;5;124m'\u001b[39m\u001b[38;5;124mSorry no idea\u001b[39m\u001b[38;5;124m'\u001b[39m)\n",
      "\u001b[0;31mNameError\u001b[0m: name 'prit' is not defined"
     ]
    }
   ],
   "source": [
    "x=10\n",
    "if x==30:\n",
    "    print('It is 30')\n",
    "elif x==20:\n",
    "    print('It is 20')\n",
    "else:\n",
    "    prit('Sorry no idea')"
   ]
  },
  {
   "cell_type": "code",
   "execution_count": 53,
   "id": "2fb91fd5-c082-4032-b32b-a689aa83e467",
   "metadata": {},
   "outputs": [
    {
     "name": "stdout",
     "output_type": "stream",
     "text": [
      "Sorry no idea\n"
     ]
    }
   ],
   "source": [
    "x=10\n",
    "if x==30:\n",
    "    print('It is 30')\n",
    "elif x==20:\n",
    "    print('It is 20')\n",
    "else:\n",
    "    print('Sorry no idea')"
   ]
  },
  {
   "cell_type": "code",
   "execution_count": 54,
   "id": "f7088977-66be-4a5b-9d7c-989723a54c51",
   "metadata": {},
   "outputs": [
    {
     "ename": "NameError",
     "evalue": "name 'company' is not defined",
     "output_type": "error",
     "traceback": [
      "\u001b[0;31m---------------------------------------------------------------------------\u001b[0m",
      "\u001b[0;31mNameError\u001b[0m                                 Traceback (most recent call last)",
      "Cell \u001b[0;32mIn[54], line 2\u001b[0m\n\u001b[1;32m      1\u001b[0m name\u001b[38;5;241m=\u001b[39m(\u001b[38;5;124m'\u001b[39m\u001b[38;5;124mEnter your name: \u001b[39m\u001b[38;5;124m'\u001b[39m)\n\u001b[0;32m----> 2\u001b[0m \u001b[43mcompany\u001b[49m(\u001b[38;5;124m'\u001b[39m\u001b[38;5;124mEnter your company: \u001b[39m\u001b[38;5;124m'\u001b[39m)\n\u001b[1;32m      3\u001b[0m \u001b[38;5;28;01mif\u001b[39;00m name\u001b[38;5;241m==\u001b[39m\u001b[38;5;124m'\u001b[39m\u001b[38;5;124mDeepthi\u001b[39m\u001b[38;5;124m'\u001b[39m \u001b[38;5;129;01mand\u001b[39;00m company\u001b[38;5;241m==\u001b[39m\u001b[38;5;124m'\u001b[39m\u001b[38;5;124mCisco\u001b[39m\u001b[38;5;124m'\u001b[39m:\n\u001b[1;32m      4\u001b[0m     \u001b[38;5;28mprint\u001b[39m(\u001b[38;5;124m'\u001b[39m\u001b[38;5;124mYou must be me\u001b[39m\u001b[38;5;124m'\u001b[39m)\n",
      "\u001b[0;31mNameError\u001b[0m: name 'company' is not defined"
     ]
    }
   ],
   "source": [
    "name=('Enter your name: ')\n",
    "company('Enter your company: ')\n",
    "if name=='Deepthi' and company=='Cisco':\n",
    "    print('You must be me')"
   ]
  },
  {
   "cell_type": "code",
   "execution_count": 60,
   "id": "6da69ee5-72e9-4f3e-85a3-827632b746c5",
   "metadata": {},
   "outputs": [
    {
     "name": "stdin",
     "output_type": "stream",
     "text": [
      "Enter your name:  Deepthi\n",
      "Enter your company:  Cisco\n"
     ]
    },
    {
     "name": "stdout",
     "output_type": "stream",
     "text": [
      "You must be me\n"
     ]
    }
   ],
   "source": [
    "name=input ('Enter your name: ')\n",
    "company= input ('Enter your company: ')\n",
    "if name =='Deepthi' and company =='Cisco':\n",
    "    print('You must be me')\n",
    "elif name =='Deepthi'and company !='Cisco':\n",
    "    print('Hello Deepthi, you are not my company')"
   ]
  },
  {
   "cell_type": "code",
   "execution_count": 62,
   "id": "06797562-e1d5-413a-b2aa-875d7a45d559",
   "metadata": {},
   "outputs": [
    {
     "name": "stdin",
     "output_type": "stream",
     "text": [
      "Enter your name:  Deepthi\n",
      "Enter your company:  Juniper\n"
     ]
    },
    {
     "name": "stdout",
     "output_type": "stream",
     "text": [
      "Hello Deepthi, you are not my company\n"
     ]
    }
   ],
   "source": [
    "name=input ('Enter your name: ')\n",
    "company= input ('Enter your company: ')\n",
    "if name =='Deepthi' and company =='Cisco':\n",
    "    print('You must be me')\n",
    "elif name =='Deepthi'and company !='Cisco':\n",
    "    print('Hello Deepthi, you are not my company')\n",
    "elif name != 'Deepthi' and company == 'Cisco':\n",
    "    print('Welcome to Cisco. But you are not me')\n",
    "else:\n",
    "    print('Please try again')"
   ]
  },
  {
   "cell_type": "code",
   "execution_count": 63,
   "id": "fb2eff12-57e9-4380-a27c-378e7c6f5ac4",
   "metadata": {},
   "outputs": [
    {
     "name": "stdin",
     "output_type": "stream",
     "text": [
      "Enter your name:  Mrethika\n",
      "Enter your company:  Cisco\n"
     ]
    },
    {
     "name": "stdout",
     "output_type": "stream",
     "text": [
      "Welcome to Cisco. But you are not me\n"
     ]
    }
   ],
   "source": [
    "name=input ('Enter your name: ')\n",
    "company= input ('Enter your company: ')\n",
    "if name =='Deepthi' and company =='Cisco':\n",
    "    print('You must be me')\n",
    "elif name =='Deepthi'and company !='Cisco':\n",
    "    print('Hello Deepthi, you are not my company')\n",
    "elif name != 'Deepthi' and company == 'Cisco':\n",
    "    print('Welcome to Cisco. But you are not me')\n",
    "else:\n",
    "    print('Please try again')"
   ]
  },
  {
   "cell_type": "code",
   "execution_count": 64,
   "id": "97d7cb50-613c-4aba-9c1b-d89d54225b7a",
   "metadata": {},
   "outputs": [
    {
     "name": "stdin",
     "output_type": "stream",
     "text": [
      "Enter your name:  Mrethika\n",
      "Enter your company:  Juniper\n"
     ]
    },
    {
     "name": "stdout",
     "output_type": "stream",
     "text": [
      "Please try again\n"
     ]
    }
   ],
   "source": [
    "name=input ('Enter your name: ')\n",
    "company= input ('Enter your company: ')\n",
    "if name =='Deepthi' and company =='Cisco':\n",
    "    print('You must be me')\n",
    "elif name =='Deepthi'and company !='Cisco':\n",
    "    print('Hello Deepthi, you are not my company')\n",
    "elif name != 'Deepthi' and company == 'Cisco':\n",
    "    print('Welcome to Cisco. But you are not me')\n",
    "else:\n",
    "    print('Please try again')"
   ]
  },
  {
   "cell_type": "code",
   "execution_count": 65,
   "id": "cf473231-2d99-42ed-91fc-fcf6617cbc72",
   "metadata": {},
   "outputs": [
    {
     "name": "stdin",
     "output_type": "stream",
     "text": [
      "Enter your name:  Deepthi\n",
      "Enter your company:  Cisco\n"
     ]
    },
    {
     "name": "stdout",
     "output_type": "stream",
     "text": [
      "You must be me\n"
     ]
    }
   ],
   "source": [
    "name=input ('Enter your name: ')\n",
    "company= input ('Enter your company: ')\n",
    "if name =='Deepthi' and company =='Cisco':\n",
    "    print('You must be me')\n",
    "elif name =='Deepthi'and company !='Cisco':\n",
    "    print('Hello Deepthi, you are not my company')\n",
    "elif name != 'Deepthi' and company == 'Cisco':\n",
    "    print('Welcome to Cisco. But you are not me')\n",
    "else:\n",
    "    print('Please try again')"
   ]
  },
  {
   "cell_type": "code",
   "execution_count": 66,
   "id": "ff6e02e5-12a7-47e5-9e38-5b671a176995",
   "metadata": {},
   "outputs": [
    {
     "data": {
      "text/plain": [
       "22"
      ]
     },
     "execution_count": 66,
     "metadata": {},
     "output_type": "execute_result"
    }
   ],
   "source": [
    "x=20\n",
    "y=2\n",
    "x+y"
   ]
  },
  {
   "cell_type": "code",
   "execution_count": 67,
   "id": "2320c712-c82a-46e8-ac7c-f9f3b181be73",
   "metadata": {},
   "outputs": [
    {
     "data": {
      "text/plain": [
       "0"
      ]
     },
     "execution_count": 67,
     "metadata": {},
     "output_type": "execute_result"
    }
   ],
   "source": [
    "x=20\n",
    "y=2\n",
    "x+y\n",
    "x-y\n",
    "x*y\n",
    "x/y\n",
    "x//y\n",
    "x**y\n",
    "x%y\n"
   ]
  },
  {
   "cell_type": "code",
   "execution_count": 68,
   "id": "a0220d8b-5b77-4296-a9fe-50f1a75d0827",
   "metadata": {},
   "outputs": [
    {
     "data": {
      "text/plain": [
       "22"
      ]
     },
     "execution_count": 68,
     "metadata": {},
     "output_type": "execute_result"
    }
   ],
   "source": [
    "x=20\n",
    "y=2\n",
    "x+y"
   ]
  },
  {
   "cell_type": "code",
   "execution_count": 69,
   "id": "e86da2ad-6d9b-4e1d-9226-3b438aeff2cc",
   "metadata": {},
   "outputs": [
    {
     "data": {
      "text/plain": [
       "18"
      ]
     },
     "execution_count": 69,
     "metadata": {},
     "output_type": "execute_result"
    }
   ],
   "source": [
    "x-y"
   ]
  },
  {
   "cell_type": "code",
   "execution_count": 70,
   "id": "e3b8faa2-b279-4c8e-b6ea-eb9ec0b08f4a",
   "metadata": {},
   "outputs": [],
   "source": [
    "x+=1"
   ]
  },
  {
   "cell_type": "code",
   "execution_count": 71,
   "id": "6ee49641-6a15-4d50-85de-49d395b18ba4",
   "metadata": {},
   "outputs": [],
   "source": [
    "x=20\n",
    "y=2\n",
    "x+=1"
   ]
  },
  {
   "cell_type": "code",
   "execution_count": 72,
   "id": "11d54c6e-69c9-4e9e-ae55-91e8ad290498",
   "metadata": {},
   "outputs": [
    {
     "data": {
      "text/plain": [
       "21"
      ]
     },
     "execution_count": 72,
     "metadata": {},
     "output_type": "execute_result"
    }
   ],
   "source": [
    "x=20\n",
    "y=2\n",
    "x+=1\n",
    "x"
   ]
  },
  {
   "cell_type": "code",
   "execution_count": 73,
   "id": "e460479d-5940-4b10-b330-0f62f2281450",
   "metadata": {},
   "outputs": [
    {
     "data": {
      "text/plain": [
       "'20'"
      ]
     },
     "execution_count": 73,
     "metadata": {},
     "output_type": "execute_result"
    }
   ],
   "source": [
    "x=10\n",
    "y='20'\n",
    "y_int = int(y)\n",
    "y"
   ]
  },
  {
   "cell_type": "code",
   "execution_count": 74,
   "id": "81c7c56b-a00a-4772-bb2f-bcfbeee14aa4",
   "metadata": {},
   "outputs": [
    {
     "data": {
      "text/plain": [
       "30"
      ]
     },
     "execution_count": 74,
     "metadata": {},
     "output_type": "execute_result"
    }
   ],
   "source": [
    "x=10\n",
    "y='20'\n",
    "y_int = int(y)\n",
    "x+y_int"
   ]
  },
  {
   "cell_type": "code",
   "execution_count": 75,
   "id": "018050dd-dfa5-4690-926f-3b901f30e86f",
   "metadata": {},
   "outputs": [
    {
     "data": {
      "text/plain": [
       "71"
      ]
     },
     "execution_count": 75,
     "metadata": {},
     "output_type": "execute_result"
    }
   ],
   "source": [
    "import random\n",
    "number = random.randint(0, 100)\n",
    "number"
   ]
  },
  {
   "cell_type": "code",
   "execution_count": 76,
   "id": "3ba4c5eb-11c0-4dd0-a9c1-6498d2013e4e",
   "metadata": {},
   "outputs": [
    {
     "data": {
      "text/plain": [
       "32"
      ]
     },
     "execution_count": 76,
     "metadata": {},
     "output_type": "execute_result"
    }
   ],
   "source": [
    "import random\n",
    "number = random.randint(0, 100)\n",
    "number"
   ]
  },
  {
   "cell_type": "code",
   "execution_count": null,
   "id": "51eeaf4b-9ef2-4df1-909f-4d366793d49b",
   "metadata": {},
   "outputs": [],
   "source": [
    "import random\n",
    "number = random.randint(0, 100)\n",
    "number = input (\"Guess the number\")"
   ]
  }
 ],
 "metadata": {
  "kernelspec": {
   "display_name": "Python 3 (ipykernel)",
   "language": "python",
   "name": "python3"
  },
  "language_info": {
   "codemirror_mode": {
    "name": "ipython",
    "version": 3
   },
   "file_extension": ".py",
   "mimetype": "text/x-python",
   "name": "python",
   "nbconvert_exporter": "python",
   "pygments_lexer": "ipython3",
   "version": "3.10.12"
  }
 },
 "nbformat": 4,
 "nbformat_minor": 5
}
