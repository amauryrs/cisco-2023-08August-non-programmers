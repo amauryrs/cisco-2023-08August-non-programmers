{
 "cells": [
  {
   "cell_type": "code",
   "execution_count": 1,
   "id": "c85d8c51-934e-43c3-8d94-15850ac9bf9c",
   "metadata": {},
   "outputs": [
    {
     "name": "stdout",
     "output_type": "stream",
     "text": [
      "Hello\n"
     ]
    }
   ],
   "source": [
    "print('Hello')"
   ]
  },
  {
   "cell_type": "code",
   "execution_count": 2,
   "id": "b7f06c2a-902e-4211-b38e-054a8310275f",
   "metadata": {},
   "outputs": [
    {
     "data": {
      "text/plain": [
       "16"
      ]
     },
     "execution_count": 2,
     "metadata": {},
     "output_type": "execute_result"
    }
   ],
   "source": [
    "6+10\n"
   ]
  },
  {
   "cell_type": "code",
   "execution_count": 3,
   "id": "ab1326a2-7b58-4936-a433-3a587da56b17",
   "metadata": {},
   "outputs": [
    {
     "name": "stdout",
     "output_type": "stream",
     "text": [
      "This is the first day of Python class\n"
     ]
    }
   ],
   "source": [
    "print('This is the first day of Python class')"
   ]
  },
  {
   "cell_type": "code",
   "execution_count": 4,
   "id": "d8dc8117-c5cd-433b-a052-9a73c8a74baa",
   "metadata": {},
   "outputs": [
    {
     "data": {
      "text/plain": [
       "10"
      ]
     },
     "execution_count": 4,
     "metadata": {},
     "output_type": "execute_result"
    }
   ],
   "source": [
    "6+8-4"
   ]
  },
  {
   "cell_type": "code",
   "execution_count": 5,
   "id": "fb500a59-d0ea-4755-bd7a-2cd11c92b000",
   "metadata": {},
   "outputs": [
    {
     "name": "stdout",
     "output_type": "stream",
     "text": [
      "HelloGood Morning\n"
     ]
    }
   ],
   "source": [
    "print(\"Hello\" + \"Good Morning\")"
   ]
  },
  {
   "cell_type": "code",
   "execution_count": 6,
   "id": "574d34e1-ad2d-4ce8-bea0-900d7320305d",
   "metadata": {},
   "outputs": [
    {
     "name": "stdout",
     "output_type": "stream",
     "text": [
      "Hello\n"
     ]
    }
   ],
   "source": [
    "print(\"Hello\")"
   ]
  },
  {
   "cell_type": "code",
   "execution_count": 7,
   "id": "abf28187-c802-4af4-b900-d58f22741398",
   "metadata": {},
   "outputs": [
    {
     "name": "stdout",
     "output_type": "stream",
     "text": [
      "27\n"
     ]
    }
   ],
   "source": [
    "x=27\n",
    "print(x)"
   ]
  },
  {
   "cell_type": "code",
   "execution_count": 8,
   "id": "887eee39-6de8-4c88-875d-7a32d3f48c46",
   "metadata": {},
   "outputs": [
    {
     "name": "stdout",
     "output_type": "stream",
     "text": [
      "50\n"
     ]
    }
   ],
   "source": [
    "x=10\n",
    "print(x*5)"
   ]
  },
  {
   "cell_type": "code",
   "execution_count": 9,
   "id": "b0ffb52e-64b8-44dc-865c-174b4e8c3075",
   "metadata": {},
   "outputs": [
    {
     "ename": "NameError",
     "evalue": "name 'hello' is not defined",
     "output_type": "error",
     "traceback": [
      "\u001b[0;31m---------------------------------------------------------------------------\u001b[0m",
      "\u001b[0;31mNameError\u001b[0m                                 Traceback (most recent call last)",
      "Cell \u001b[0;32mIn[9], line 1\u001b[0m\n\u001b[0;32m----> 1\u001b[0m \u001b[43mhello\u001b[49m\n",
      "\u001b[0;31mNameError\u001b[0m: name 'hello' is not defined"
     ]
    }
   ],
   "source": [
    "hello\n"
   ]
  },
  {
   "cell_type": "code",
   "execution_count": 10,
   "id": "4b563e2a-0977-48eb-bd27-9b2ff1b6018f",
   "metadata": {},
   "outputs": [
    {
     "data": {
      "text/plain": [
       "'hello'"
      ]
     },
     "execution_count": 10,
     "metadata": {},
     "output_type": "execute_result"
    }
   ],
   "source": [
    "\"hello\""
   ]
  },
  {
   "cell_type": "code",
   "execution_count": 11,
   "id": "54d025c4-acf3-47fa-a1e4-80b04ee03e2a",
   "metadata": {},
   "outputs": [
    {
     "name": "stdout",
     "output_type": "stream",
     "text": [
      "Hello, Deepthi\n"
     ]
    }
   ],
   "source": [
    "print('Hello, '+ 'Deepthi')"
   ]
  },
  {
   "cell_type": "code",
   "execution_count": 12,
   "id": "ba261c1e-ede2-45e3-ba2b-119ea81e10a8",
   "metadata": {},
   "outputs": [
    {
     "name": "stdout",
     "output_type": "stream",
     "text": [
      "Hello Deepthi\n"
     ]
    }
   ],
   "source": [
    "print('Hello '+ 'Deepthi')"
   ]
  },
  {
   "cell_type": "code",
   "execution_count": 13,
   "id": "a8486b63-8f0e-4e55-ba16-d022d1ea68a0",
   "metadata": {},
   "outputs": [
    {
     "ename": "SyntaxError",
     "evalue": "unterminated string literal (detected at line 2) (3098933469.py, line 2)",
     "output_type": "error",
     "traceback": [
      "\u001b[0;36m  Cell \u001b[0;32mIn[13], line 2\u001b[0;36m\u001b[0m\n\u001b[0;31m    print(\"Hello 'name')\u001b[0m\n\u001b[0m          ^\u001b[0m\n\u001b[0;31mSyntaxError\u001b[0m\u001b[0;31m:\u001b[0m unterminated string literal (detected at line 2)\n"
     ]
    }
   ],
   "source": [
    "name = Deepthi\n",
    "print(\"Hello 'name')"
   ]
  },
  {
   "cell_type": "code",
   "execution_count": 14,
   "id": "692b8104-e029-4ec1-a190-3160537074b5",
   "metadata": {},
   "outputs": [
    {
     "ename": "NameError",
     "evalue": "name 'Deepthi' is not defined",
     "output_type": "error",
     "traceback": [
      "\u001b[0;31m---------------------------------------------------------------------------\u001b[0m",
      "\u001b[0;31mNameError\u001b[0m                                 Traceback (most recent call last)",
      "Cell \u001b[0;32mIn[14], line 1\u001b[0m\n\u001b[0;32m----> 1\u001b[0m name \u001b[38;5;241m=\u001b[39m \u001b[43mDeepthi\u001b[49m\n\u001b[1;32m      2\u001b[0m \u001b[38;5;28mprint\u001b[39m(\u001b[38;5;124m'\u001b[39m\u001b[38;5;124mWelcome to the Python Class, name\u001b[39m\u001b[38;5;124m'\u001b[39m)\n",
      "\u001b[0;31mNameError\u001b[0m: name 'Deepthi' is not defined"
     ]
    }
   ],
   "source": [
    "name = Deepthi\n",
    "print('Welcome to the Python Class, name')"
   ]
  },
  {
   "cell_type": "code",
   "execution_count": 15,
   "id": "d0346ed9-424e-4f40-b116-ddd9ba5c7c26",
   "metadata": {},
   "outputs": [
    {
     "ename": "NameError",
     "evalue": "name 'Deepthi' is not defined",
     "output_type": "error",
     "traceback": [
      "\u001b[0;31m---------------------------------------------------------------------------\u001b[0m",
      "\u001b[0;31mNameError\u001b[0m                                 Traceback (most recent call last)",
      "Cell \u001b[0;32mIn[15], line 1\u001b[0m\n\u001b[0;32m----> 1\u001b[0m name \u001b[38;5;241m=\u001b[39m \u001b[43mDeepthi\u001b[49m\n\u001b[1;32m      2\u001b[0m \u001b[38;5;28mprint\u001b[39m(\u001b[38;5;124m'\u001b[39m\u001b[38;5;124mWelcome to the Python Class, \u001b[39m\u001b[38;5;124m'\u001b[39m \u001b[38;5;241m+\u001b[39m name \u001b[38;5;241m+\u001b[39m \u001b[38;5;124m'\u001b[39m\u001b[38;5;124m.\u001b[39m\u001b[38;5;124m'\u001b[39m)\n",
      "\u001b[0;31mNameError\u001b[0m: name 'Deepthi' is not defined"
     ]
    }
   ],
   "source": [
    "name = Deepthi\n",
    "print('Welcome to the Python Class, ' + name + '.')"
   ]
  },
  {
   "cell_type": "code",
   "execution_count": 16,
   "id": "b5ee7470-b828-46e7-a449-60bdcb25a04e",
   "metadata": {},
   "outputs": [
    {
     "ename": "NameError",
     "evalue": "name 'Deepthi' is not defined",
     "output_type": "error",
     "traceback": [
      "\u001b[0;31m---------------------------------------------------------------------------\u001b[0m",
      "\u001b[0;31mNameError\u001b[0m                                 Traceback (most recent call last)",
      "Cell \u001b[0;32mIn[16], line 1\u001b[0m\n\u001b[0;32m----> 1\u001b[0m name \u001b[38;5;241m=\u001b[39m \u001b[43mDeepthi\u001b[49m\n\u001b[1;32m      2\u001b[0m \u001b[38;5;28mprint\u001b[39m(name)\n",
      "\u001b[0;31mNameError\u001b[0m: name 'Deepthi' is not defined"
     ]
    }
   ],
   "source": [
    "name = Deepthi\n",
    "print(name)"
   ]
  },
  {
   "cell_type": "code",
   "execution_count": null,
   "id": "7279546b-b694-45a7-9ee0-b6a6d7937094",
   "metadata": {},
   "outputs": [],
   "source": [
    "name = Deepthi"
   ]
  },
  {
   "cell_type": "code",
   "execution_count": 17,
   "id": "6c228838-3e97-4492-a287-ce0e2c3e0ff7",
   "metadata": {},
   "outputs": [
    {
     "ename": "NameError",
     "evalue": "name 'name' is not defined",
     "output_type": "error",
     "traceback": [
      "\u001b[0;31m---------------------------------------------------------------------------\u001b[0m",
      "\u001b[0;31mNameError\u001b[0m                                 Traceback (most recent call last)",
      "Cell \u001b[0;32mIn[17], line 1\u001b[0m\n\u001b[0;32m----> 1\u001b[0m \u001b[38;5;28mprint\u001b[39m(\u001b[43mname\u001b[49m)\n",
      "\u001b[0;31mNameError\u001b[0m: name 'name' is not defined"
     ]
    }
   ],
   "source": [
    "print(name)"
   ]
  },
  {
   "cell_type": "code",
   "execution_count": 18,
   "id": "e6cb3b2c-4997-4aa4-9b74-bc5cbd4ddfc7",
   "metadata": {},
   "outputs": [
    {
     "name": "stdout",
     "output_type": "stream",
     "text": [
      "Hello, Deepthi!\n"
     ]
    }
   ],
   "source": [
    "name ='Deepthi'\n",
    "print('Hello, ' + name + '!')"
   ]
  },
  {
   "cell_type": "code",
   "execution_count": 19,
   "id": "1f559e71-e7de-46cc-94c9-f007fd0494e5",
   "metadata": {},
   "outputs": [
    {
     "name": "stdout",
     "output_type": "stream",
     "text": [
      "welcome to the Python class, name.\n"
     ]
    }
   ],
   "source": [
    "name = 'Deepthi'\n",
    "print('welcome to the Python class, name.')"
   ]
  },
  {
   "cell_type": "code",
   "execution_count": 20,
   "id": "4c6e4b19-1718-437a-a3d9-90df844484b4",
   "metadata": {},
   "outputs": [
    {
     "ename": "SyntaxError",
     "evalue": "invalid syntax (1086012379.py, line 2)",
     "output_type": "error",
     "traceback": [
      "\u001b[0;36m  Cell \u001b[0;32mIn[20], line 2\u001b[0;36m\u001b[0m\n\u001b[0;31m    print('welcome to the Python class, '+ name.)\u001b[0m\n\u001b[0m                                                ^\u001b[0m\n\u001b[0;31mSyntaxError\u001b[0m\u001b[0;31m:\u001b[0m invalid syntax\n"
     ]
    }
   ],
   "source": [
    "name = 'Deepthi'\n",
    "print('welcome to the Python class, '+ name.)"
   ]
  },
  {
   "cell_type": "code",
   "execution_count": 21,
   "id": "a3ce7cb4-642b-469b-be32-b101e3ffed55",
   "metadata": {},
   "outputs": [
    {
     "name": "stdout",
     "output_type": "stream",
     "text": [
      "welcome to the Python class, Deepthi\n"
     ]
    }
   ],
   "source": [
    "name = 'Deepthi'\n",
    "print('welcome to the Python class, '+ name)"
   ]
  },
  {
   "cell_type": "code",
   "execution_count": 22,
   "id": "650f6512-df9b-43a8-8ca9-d8a8cb093db1",
   "metadata": {},
   "outputs": [
    {
     "name": "stdin",
     "output_type": "stream",
     "text": [
      "Enter your name:  DEEPTHI\n"
     ]
    }
   ],
   "source": [
    "name = input('Enter your name: ')\n"
   ]
  },
  {
   "cell_type": "code",
   "execution_count": 23,
   "id": "be739643-ccc7-4106-84af-9e2c11edc5fc",
   "metadata": {},
   "outputs": [
    {
     "data": {
      "text/plain": [
       "'DEEPTHI'"
      ]
     },
     "execution_count": 23,
     "metadata": {},
     "output_type": "execute_result"
    }
   ],
   "source": [
    "name"
   ]
  },
  {
   "cell_type": "code",
   "execution_count": 24,
   "id": "d1a7df14-186a-42bf-a620-971dc0b6b63c",
   "metadata": {},
   "outputs": [
    {
     "name": "stdout",
     "output_type": "stream",
     "text": [
      "DEEPTHI\n"
     ]
    }
   ],
   "source": [
    "print(name)\n"
   ]
  },
  {
   "cell_type": "code",
   "execution_count": 25,
   "id": "3719de66-d04c-4404-9315-93a9bf48b710",
   "metadata": {},
   "outputs": [
    {
     "name": "stdin",
     "output_type": "stream",
     "text": [
      "Enter your name:  Deepthi\n"
     ]
    }
   ],
   "source": [
    "name = input('Enter your name: ')"
   ]
  },
  {
   "cell_type": "code",
   "execution_count": 26,
   "id": "b8899eee-22af-4ac1-9f04-0eed2209a929",
   "metadata": {},
   "outputs": [
    {
     "name": "stdin",
     "output_type": "stream",
     "text": [
      "Enter your name:  Deepthi Kamalakannan\n"
     ]
    }
   ],
   "source": [
    "name = input('Enter your name: ')"
   ]
  },
  {
   "cell_type": "code",
   "execution_count": 27,
   "id": "43598bd1-1881-47c7-81af-f077a27fa163",
   "metadata": {},
   "outputs": [
    {
     "name": "stdout",
     "output_type": "stream",
     "text": [
      "Welcome to the Python class, Deepthi Kamalakannan\n"
     ]
    }
   ],
   "source": [
    "print('Welcome to the Python class, ' + name)"
   ]
  },
  {
   "cell_type": "code",
   "execution_count": 28,
   "id": "36fc5aa3-d054-4084-a688-173e3abe67e5",
   "metadata": {},
   "outputs": [
    {
     "ename": "SyntaxError",
     "evalue": "invalid syntax. Perhaps you forgot a comma? (2308909981.py, line 2)",
     "output_type": "error",
     "traceback": [
      "\u001b[0;36m  Cell \u001b[0;32mIn[28], line 2\u001b[0;36m\u001b[0m\n\u001b[0;31m    print('Welcome to the first day of the Python class, ' + name '.')\u001b[0m\n\u001b[0m          ^\u001b[0m\n\u001b[0;31mSyntaxError\u001b[0m\u001b[0;31m:\u001b[0m invalid syntax. Perhaps you forgot a comma?\n"
     ]
    }
   ],
   "source": [
    "name = input('Enter your name: ')\n",
    "print('Welcome to the first day of the Python class, ' + name '.')"
   ]
  },
  {
   "cell_type": "code",
   "execution_count": 29,
   "id": "198bdd69-bb2f-4b25-acbb-3fe5bfdd17b2",
   "metadata": {},
   "outputs": [
    {
     "name": "stdin",
     "output_type": "stream",
     "text": [
      "Enter your name:  Deepthi. K\n"
     ]
    },
    {
     "name": "stdout",
     "output_type": "stream",
     "text": [
      "Welcome to the first day of the Python class, Deepthi. K\n"
     ]
    }
   ],
   "source": [
    "name = input('Enter your name: ')\n",
    "print('Welcome to the first day of the Python class, ' + name)"
   ]
  },
  {
   "cell_type": "code",
   "execution_count": 30,
   "id": "f79522fb-011e-4e72-a19e-a001b9104e40",
   "metadata": {},
   "outputs": [
    {
     "name": "stdin",
     "output_type": "stream",
     "text": [
      "Please enter your name and press Enter:  Mrethika\n"
     ]
    },
    {
     "name": "stdout",
     "output_type": "stream",
     "text": [
      "Welcome to the first day of the Python class, Mrethika!\n"
     ]
    }
   ],
   "source": [
    "name = input('Please enter your name and press Enter: ')\n",
    "print('Welcome to the first day of the Python class, ' + name + '!')"
   ]
  },
  {
   "cell_type": "code",
   "execution_count": 31,
   "id": "eb765308-e5d8-4cb9-851e-9221eec290cc",
   "metadata": {},
   "outputs": [
    {
     "name": "stdin",
     "output_type": "stream",
     "text": [
      "Please enter your name and press Enter:  Deepthi Kamalakannan\n"
     ]
    },
    {
     "name": "stdout",
     "output_type": "stream",
     "text": [
      "Welcome to the first day of the Python class, Deepthi Kamalakannan!\n",
      "You will learn basics of Python in first day, Deepthi Kamalakannan!\n"
     ]
    }
   ],
   "source": [
    "name = input('Please enter your name and press Enter: ')\n",
    "print('Welcome to the first day of the Python class, ' + name + '!')\n",
    "print('You will learn basics of Python in first day, ' + name + '!')"
   ]
  },
  {
   "cell_type": "code",
   "execution_count": 32,
   "id": "c8dc2387-f0a4-4056-b3a6-2bc08b801e50",
   "metadata": {},
   "outputs": [
    {
     "data": {
      "text/plain": [
       "True"
      ]
     },
     "execution_count": 32,
     "metadata": {},
     "output_type": "execute_result"
    }
   ],
   "source": [
    "x=20\n",
    "y=20\n",
    "x==y"
   ]
  },
  {
   "cell_type": "code",
   "execution_count": 33,
   "id": "752c287c-477a-4802-955b-269763828da7",
   "metadata": {},
   "outputs": [
    {
     "data": {
      "text/plain": [
       "False"
      ]
     },
     "execution_count": 33,
     "metadata": {},
     "output_type": "execute_result"
    }
   ],
   "source": [
    "x=20\n",
    "y=15\n",
    "x==y"
   ]
  },
  {
   "cell_type": "code",
   "execution_count": 34,
   "id": "6e500d87-cdac-4103-9e4d-e123f0300030",
   "metadata": {},
   "outputs": [
    {
     "data": {
      "text/plain": [
       "True"
      ]
     },
     "execution_count": 34,
     "metadata": {},
     "output_type": "execute_result"
    }
   ],
   "source": [
    "x=20\n",
    "y=10+10\n",
    "x==y"
   ]
  },
  {
   "cell_type": "code",
   "execution_count": 35,
   "id": "1b2cbbaf-2a7e-4c84-94b5-829698006c37",
   "metadata": {},
   "outputs": [
    {
     "data": {
      "text/plain": [
       "False"
      ]
     },
     "execution_count": 35,
     "metadata": {},
     "output_type": "execute_result"
    }
   ],
   "source": [
    "x=20\n",
    "y=10+20\n",
    "x==y"
   ]
  },
  {
   "cell_type": "code",
   "execution_count": 36,
   "id": "15d7594d-0086-464c-af97-c93cfb916cf7",
   "metadata": {},
   "outputs": [
    {
     "ename": "SyntaxError",
     "evalue": "unterminated string literal (detected at line 1) (1659906884.py, line 1)",
     "output_type": "error",
     "traceback": [
      "\u001b[0;36m  Cell \u001b[0;32mIn[36], line 1\u001b[0;36m\u001b[0m\n\u001b[0;31m    name = input(\"Enter your name: ')\u001b[0m\n\u001b[0m                 ^\u001b[0m\n\u001b[0;31mSyntaxError\u001b[0m\u001b[0;31m:\u001b[0m unterminated string literal (detected at line 1)\n"
     ]
    }
   ],
   "source": [
    "name = input(\"Enter your name: ')\n",
    "             if name == 'Deepthi':\n",
    "             print(name)\n",
    "             else:\n",
    "             print('sorry')"
   ]
  },
  {
   "cell_type": "code",
   "execution_count": 37,
   "id": "13a2fbca-b7cb-404e-a43b-f4b7099a142e",
   "metadata": {},
   "outputs": [
    {
     "ename": "SyntaxError",
     "evalue": "unterminated string literal (detected at line 1) (713155531.py, line 1)",
     "output_type": "error",
     "traceback": [
      "\u001b[0;36m  Cell \u001b[0;32mIn[37], line 1\u001b[0;36m\u001b[0m\n\u001b[0;31m    name = input(\"Enter your name: ')\u001b[0m\n\u001b[0m                 ^\u001b[0m\n\u001b[0;31mSyntaxError\u001b[0m\u001b[0;31m:\u001b[0m unterminated string literal (detected at line 1)\n"
     ]
    }
   ],
   "source": [
    "name = input(\"Enter your name: ')\n",
    "             if name == 'Deepthi':\n",
    "             print('Hello')\n",
    "             else:\n",
    "             print('sorry')"
   ]
  },
  {
   "cell_type": "code",
   "execution_count": 38,
   "id": "b240092b-90e5-471e-a3ca-f38e4e17240e",
   "metadata": {},
   "outputs": [
    {
     "ename": "IndentationError",
     "evalue": "unexpected indent (2884561592.py, line 2)",
     "output_type": "error",
     "traceback": [
      "\u001b[0;36m  Cell \u001b[0;32mIn[38], line 2\u001b[0;36m\u001b[0m\n\u001b[0;31m    if name == 'Deepthi':\u001b[0m\n\u001b[0m    ^\u001b[0m\n\u001b[0;31mIndentationError\u001b[0m\u001b[0;31m:\u001b[0m unexpected indent\n"
     ]
    }
   ],
   "source": [
    "name = input('Enter your name: ')\n",
    "             if name == 'Deepthi':\n",
    "             print('Hello')\n",
    "             else:\n",
    "             print('sorry')"
   ]
  },
  {
   "cell_type": "code",
   "execution_count": 39,
   "id": "02b6f82e-35ab-451f-9020-cc6d9210cfb0",
   "metadata": {},
   "outputs": [
    {
     "ename": "IndentationError",
     "evalue": "expected an indented block after 'if' statement on line 2 (834945521.py, line 3)",
     "output_type": "error",
     "traceback": [
      "\u001b[0;36m  Cell \u001b[0;32mIn[39], line 3\u001b[0;36m\u001b[0m\n\u001b[0;31m    print('Hello')\u001b[0m\n\u001b[0m    ^\u001b[0m\n\u001b[0;31mIndentationError\u001b[0m\u001b[0;31m:\u001b[0m expected an indented block after 'if' statement on line 2\n"
     ]
    }
   ],
   "source": [
    "name = input('Enter your name: ')\n",
    "if name == 'Deepthi':\n",
    "print('Hello')\n",
    "else:\n",
    "print('sorry')"
   ]
  },
  {
   "cell_type": "code",
   "execution_count": 40,
   "id": "9297453a-24c9-4978-b8f4-3a147b018c1e",
   "metadata": {},
   "outputs": [
    {
     "name": "stdin",
     "output_type": "stream",
     "text": [
      "Enter your name:  Deepthi\n"
     ]
    },
    {
     "name": "stdout",
     "output_type": "stream",
     "text": [
      "Hello\n"
     ]
    }
   ],
   "source": [
    "name = input('Enter your name: ')\n",
    "if name == 'Deepthi':\n",
    "    print('Hello')\n",
    "else:\n",
    "    print('sorry')"
   ]
  },
  {
   "cell_type": "code",
   "execution_count": 41,
   "id": "73aa406c-4f12-4ab6-917d-abdc3b51082f",
   "metadata": {},
   "outputs": [
    {
     "name": "stdin",
     "output_type": "stream",
     "text": [
      "Enter your name:  Deepthi\n"
     ]
    },
    {
     "name": "stdout",
     "output_type": "stream",
     "text": [
      "You are Amazing\n"
     ]
    }
   ],
   "source": [
    "name = input('Enter your name: ')\n",
    "if name == 'Deepthi':\n",
    "    print('You are Amazing')\n",
    "else:\n",
    "    print('Please try again')"
   ]
  },
  {
   "cell_type": "code",
   "execution_count": 42,
   "id": "cc20b1ee-3a81-4b90-99f7-84dbac9cb033",
   "metadata": {},
   "outputs": [
    {
     "name": "stdin",
     "output_type": "stream",
     "text": [
      "Enter your name:  Mrethika\n"
     ]
    },
    {
     "name": "stdout",
     "output_type": "stream",
     "text": [
      "Please try again\n"
     ]
    }
   ],
   "source": [
    "name = input('Enter your name: ')\n",
    "if name == 'Deepthi':\n",
    "    print('You are Amazing')\n",
    "else:\n",
    "    print('Please try again')"
   ]
  },
  {
   "cell_type": "code",
   "execution_count": 43,
   "id": "499b6fa6-5ffd-4921-8336-0dbc73adc51d",
   "metadata": {},
   "outputs": [
    {
     "name": "stdin",
     "output_type": "stream",
     "text": [
      "Enter your name:  Deepthi Kamal\n"
     ]
    },
    {
     "name": "stdout",
     "output_type": "stream",
     "text": [
      "Please try again!\n"
     ]
    }
   ],
   "source": [
    "name = input('Enter your name: ')\n",
    "if name == 'Deepthi':\n",
    "    print('You are Amazing!')\n",
    "else:\n",
    "    print('Please try again!')"
   ]
  },
  {
   "cell_type": "code",
   "execution_count": 44,
   "id": "c0a344cf-5901-494e-b368-0eaedaf70866",
   "metadata": {},
   "outputs": [
    {
     "name": "stdin",
     "output_type": "stream",
     "text": [
      "Enter your name:  Deepthi\n"
     ]
    },
    {
     "name": "stdout",
     "output_type": "stream",
     "text": [
      "You are Amazing!\n"
     ]
    }
   ],
   "source": [
    "name = input('Enter your name: ')\n",
    "if name == 'Deepthi':\n",
    "    print('You are Amazing!')\n"
   ]
  },
  {
   "cell_type": "code",
   "execution_count": 45,
   "id": "195328c6-434f-4ce7-bc38-bbd00c98044d",
   "metadata": {},
   "outputs": [
    {
     "name": "stdin",
     "output_type": "stream",
     "text": [
      "Enter your name:  Mrethika\n"
     ]
    }
   ],
   "source": [
    "name = input('Enter your name: ')\n",
    "if name == 'Deepthi':\n",
    "    print('You are Amazing!')\n"
   ]
  },
  {
   "cell_type": "code",
   "execution_count": 46,
   "id": "cee07b41-d356-4eda-afb3-d94e372ee415",
   "metadata": {},
   "outputs": [
    {
     "ename": "SyntaxError",
     "evalue": "invalid syntax (361393337.py, line 3)",
     "output_type": "error",
     "traceback": [
      "\u001b[0;36m  Cell \u001b[0;32mIn[46], line 3\u001b[0;36m\u001b[0m\n\u001b[0;31m    if x==10 and y==30;\u001b[0m\n\u001b[0m                      ^\u001b[0m\n\u001b[0;31mSyntaxError\u001b[0m\u001b[0;31m:\u001b[0m invalid syntax\n"
     ]
    }
   ],
   "source": [
    "x=10\n",
    "y=30\n",
    "if x==10 and y==30;"
   ]
  },
  {
   "cell_type": "code",
   "execution_count": 47,
   "id": "db60521b-c4ce-4334-8f36-b42f78cf90e0",
   "metadata": {},
   "outputs": [
    {
     "ename": "SyntaxError",
     "evalue": "incomplete input (1739128116.py, line 3)",
     "output_type": "error",
     "traceback": [
      "\u001b[0;36m  Cell \u001b[0;32mIn[47], line 3\u001b[0;36m\u001b[0m\n\u001b[0;31m    if x==10 and y==30:\u001b[0m\n\u001b[0m                       ^\u001b[0m\n\u001b[0;31mSyntaxError\u001b[0m\u001b[0;31m:\u001b[0m incomplete input\n"
     ]
    }
   ],
   "source": [
    "x=10\n",
    "y=30\n",
    "if x==10 and y==30:"
   ]
  },
  {
   "cell_type": "code",
   "execution_count": 48,
   "id": "65bafe08-a94b-46a3-9282-2bd99e92efdc",
   "metadata": {},
   "outputs": [
    {
     "ename": "SyntaxError",
     "evalue": "expected ':' (2768317491.py, line 3)",
     "output_type": "error",
     "traceback": [
      "\u001b[0;36m  Cell \u001b[0;32mIn[48], line 3\u001b[0;36m\u001b[0m\n\u001b[0;31m    if x==10 and y==30\u001b[0m\n\u001b[0m                      ^\u001b[0m\n\u001b[0;31mSyntaxError\u001b[0m\u001b[0;31m:\u001b[0m expected ':'\n"
     ]
    }
   ],
   "source": [
    "x=10\n",
    "y=30\n",
    "if x==10 and y==30"
   ]
  },
  {
   "cell_type": "code",
   "execution_count": 49,
   "id": "88bf4e88-6593-4fcf-ae12-299cd5cbdd36",
   "metadata": {},
   "outputs": [
    {
     "ename": "SyntaxError",
     "evalue": "incomplete input (1739128116.py, line 3)",
     "output_type": "error",
     "traceback": [
      "\u001b[0;36m  Cell \u001b[0;32mIn[49], line 3\u001b[0;36m\u001b[0m\n\u001b[0;31m    if x==10 and y==30:\u001b[0m\n\u001b[0m                       ^\u001b[0m\n\u001b[0;31mSyntaxError\u001b[0m\u001b[0;31m:\u001b[0m incomplete input\n"
     ]
    }
   ],
   "source": [
    "x=10\n",
    "y=30\n",
    "if x==10 and y==30:"
   ]
  },
  {
   "cell_type": "code",
   "execution_count": 50,
   "id": "1d424d70-de38-402e-824a-a26f324822d8",
   "metadata": {},
   "outputs": [
    {
     "name": "stdout",
     "output_type": "stream",
     "text": [
      "10\n"
     ]
    }
   ],
   "source": [
    "x=10\n",
    "y=30\n",
    "if x==10 and y==30:\n",
    "    print(x)\n"
   ]
  },
  {
   "cell_type": "code",
   "execution_count": 51,
   "id": "03782764-58f1-4515-b823-c3fcfcada718",
   "metadata": {},
   "outputs": [
    {
     "ename": "SyntaxError",
     "evalue": "invalid syntax. Maybe you meant '==' or ':=' instead of '='? (1290745129.py, line 2)",
     "output_type": "error",
     "traceback": [
      "\u001b[0;36m  Cell \u001b[0;32mIn[51], line 2\u001b[0;36m\u001b[0m\n\u001b[0;31m    if x=30:\u001b[0m\n\u001b[0m       ^\u001b[0m\n\u001b[0;31mSyntaxError\u001b[0m\u001b[0;31m:\u001b[0m invalid syntax. Maybe you meant '==' or ':=' instead of '='?\n"
     ]
    }
   ],
   "source": [
    "x=10\n",
    "if x==30:\n",
    "    print('It is 30')\n",
    "elif x==20:\n",
    "    print('It is 20')\n",
    "else:\n",
    "    prit('Sorry no idea')"
   ]
  },
  {
   "cell_type": "code",
   "execution_count": 52,
   "id": "fd02fa02-5c2c-4294-96d9-9a9c6f49c983",
   "metadata": {},
   "outputs": [
    {
     "ename": "NameError",
     "evalue": "name 'prit' is not defined",
     "output_type": "error",
     "traceback": [
      "\u001b[0;31m---------------------------------------------------------------------------\u001b[0m",
      "\u001b[0;31mNameError\u001b[0m                                 Traceback (most recent call last)",
      "Cell \u001b[0;32mIn[52], line 7\u001b[0m\n\u001b[1;32m      5\u001b[0m     \u001b[38;5;28mprint\u001b[39m(\u001b[38;5;124m'\u001b[39m\u001b[38;5;124mIt is 20\u001b[39m\u001b[38;5;124m'\u001b[39m)\n\u001b[1;32m      6\u001b[0m \u001b[38;5;28;01melse\u001b[39;00m:\n\u001b[0;32m----> 7\u001b[0m     \u001b[43mprit\u001b[49m(\u001b[38;5;124m'\u001b[39m\u001b[38;5;124mSorry no idea\u001b[39m\u001b[38;5;124m'\u001b[39m)\n",
      "\u001b[0;31mNameError\u001b[0m: name 'prit' is not defined"
     ]
    }
   ],
   "source": [
    "x=10\n",
    "if x==30:\n",
    "    print('It is 30')\n",
    "elif x==20:\n",
    "    print('It is 20')\n",
    "else:\n",
    "    prit('Sorry no idea')"
   ]
  },
  {
   "cell_type": "code",
   "execution_count": 53,
   "id": "2fb91fd5-c082-4032-b32b-a689aa83e467",
   "metadata": {},
   "outputs": [
    {
     "name": "stdout",
     "output_type": "stream",
     "text": [
      "Sorry no idea\n"
     ]
    }
   ],
   "source": [
    "x=10\n",
    "if x==30:\n",
    "    print('It is 30')\n",
    "elif x==20:\n",
    "    print('It is 20')\n",
    "else:\n",
    "    print('Sorry no idea')"
   ]
  },
  {
   "cell_type": "code",
   "execution_count": 54,
   "id": "f7088977-66be-4a5b-9d7c-989723a54c51",
   "metadata": {},
   "outputs": [
    {
     "ename": "NameError",
     "evalue": "name 'company' is not defined",
     "output_type": "error",
     "traceback": [
      "\u001b[0;31m---------------------------------------------------------------------------\u001b[0m",
      "\u001b[0;31mNameError\u001b[0m                                 Traceback (most recent call last)",
      "Cell \u001b[0;32mIn[54], line 2\u001b[0m\n\u001b[1;32m      1\u001b[0m name\u001b[38;5;241m=\u001b[39m(\u001b[38;5;124m'\u001b[39m\u001b[38;5;124mEnter your name: \u001b[39m\u001b[38;5;124m'\u001b[39m)\n\u001b[0;32m----> 2\u001b[0m \u001b[43mcompany\u001b[49m(\u001b[38;5;124m'\u001b[39m\u001b[38;5;124mEnter your company: \u001b[39m\u001b[38;5;124m'\u001b[39m)\n\u001b[1;32m      3\u001b[0m \u001b[38;5;28;01mif\u001b[39;00m name\u001b[38;5;241m==\u001b[39m\u001b[38;5;124m'\u001b[39m\u001b[38;5;124mDeepthi\u001b[39m\u001b[38;5;124m'\u001b[39m \u001b[38;5;129;01mand\u001b[39;00m company\u001b[38;5;241m==\u001b[39m\u001b[38;5;124m'\u001b[39m\u001b[38;5;124mCisco\u001b[39m\u001b[38;5;124m'\u001b[39m:\n\u001b[1;32m      4\u001b[0m     \u001b[38;5;28mprint\u001b[39m(\u001b[38;5;124m'\u001b[39m\u001b[38;5;124mYou must be me\u001b[39m\u001b[38;5;124m'\u001b[39m)\n",
      "\u001b[0;31mNameError\u001b[0m: name 'company' is not defined"
     ]
    }
   ],
   "source": [
    "name=('Enter your name: ')\n",
    "company('Enter your company: ')\n",
    "if name=='Deepthi' and company=='Cisco':\n",
    "    print('You must be me')"
   ]
  },
  {
   "cell_type": "code",
   "execution_count": 60,
   "id": "6da69ee5-72e9-4f3e-85a3-827632b746c5",
   "metadata": {},
   "outputs": [
    {
     "name": "stdin",
     "output_type": "stream",
     "text": [
      "Enter your name:  Deepthi\n",
      "Enter your company:  Cisco\n"
     ]
    },
    {
     "name": "stdout",
     "output_type": "stream",
     "text": [
      "You must be me\n"
     ]
    }
   ],
   "source": [
    "name=input ('Enter your name: ')\n",
    "company= input ('Enter your company: ')\n",
    "if name =='Deepthi' and company =='Cisco':\n",
    "    print('You must be me')\n",
    "elif name =='Deepthi'and company !='Cisco':\n",
    "    print('Hello Deepthi, you are not my company')"
   ]
  },
  {
   "cell_type": "code",
   "execution_count": 62,
   "id": "06797562-e1d5-413a-b2aa-875d7a45d559",
   "metadata": {},
   "outputs": [
    {
     "name": "stdin",
     "output_type": "stream",
     "text": [
      "Enter your name:  Deepthi\n",
      "Enter your company:  Juniper\n"
     ]
    },
    {
     "name": "stdout",
     "output_type": "stream",
     "text": [
      "Hello Deepthi, you are not my company\n"
     ]
    }
   ],
   "source": [
    "name=input ('Enter your name: ')\n",
    "company= input ('Enter your company: ')\n",
    "if name =='Deepthi' and company =='Cisco':\n",
    "    print('You must be me')\n",
    "elif name =='Deepthi'and company !='Cisco':\n",
    "    print('Hello Deepthi, you are not my company')\n",
    "elif name != 'Deepthi' and company == 'Cisco':\n",
    "    print('Welcome to Cisco. But you are not me')\n",
    "else:\n",
    "    print('Please try again')"
   ]
  },
  {
   "cell_type": "code",
   "execution_count": 63,
   "id": "fb2eff12-57e9-4380-a27c-378e7c6f5ac4",
   "metadata": {},
   "outputs": [
    {
     "name": "stdin",
     "output_type": "stream",
     "text": [
      "Enter your name:  Mrethika\n",
      "Enter your company:  Cisco\n"
     ]
    },
    {
     "name": "stdout",
     "output_type": "stream",
     "text": [
      "Welcome to Cisco. But you are not me\n"
     ]
    }
   ],
   "source": [
    "name=input ('Enter your name: ')\n",
    "company= input ('Enter your company: ')\n",
    "if name =='Deepthi' and company =='Cisco':\n",
    "    print('You must be me')\n",
    "elif name =='Deepthi'and company !='Cisco':\n",
    "    print('Hello Deepthi, you are not my company')\n",
    "elif name != 'Deepthi' and company == 'Cisco':\n",
    "    print('Welcome to Cisco. But you are not me')\n",
    "else:\n",
    "    print('Please try again')"
   ]
  },
  {
   "cell_type": "code",
   "execution_count": 64,
   "id": "97d7cb50-613c-4aba-9c1b-d89d54225b7a",
   "metadata": {},
   "outputs": [
    {
     "name": "stdin",
     "output_type": "stream",
     "text": [
      "Enter your name:  Mrethika\n",
      "Enter your company:  Juniper\n"
     ]
    },
    {
     "name": "stdout",
     "output_type": "stream",
     "text": [
      "Please try again\n"
     ]
    }
   ],
   "source": [
    "name=input ('Enter your name: ')\n",
    "company= input ('Enter your company: ')\n",
    "if name =='Deepthi' and company =='Cisco':\n",
    "    print('You must be me')\n",
    "elif name =='Deepthi'and company !='Cisco':\n",
    "    print('Hello Deepthi, you are not my company')\n",
    "elif name != 'Deepthi' and company == 'Cisco':\n",
    "    print('Welcome to Cisco. But you are not me')\n",
    "else:\n",
    "    print('Please try again')"
   ]
  },
  {
   "cell_type": "code",
   "execution_count": 65,
   "id": "cf473231-2d99-42ed-91fc-fcf6617cbc72",
   "metadata": {},
   "outputs": [
    {
     "name": "stdin",
     "output_type": "stream",
     "text": [
      "Enter your name:  Deepthi\n",
      "Enter your company:  Cisco\n"
     ]
    },
    {
     "name": "stdout",
     "output_type": "stream",
     "text": [
      "You must be me\n"
     ]
    }
   ],
   "source": [
    "name=input ('Enter your name: ')\n",
    "company= input ('Enter your company: ')\n",
    "if name =='Deepthi' and company =='Cisco':\n",
    "    print('You must be me')\n",
    "elif name =='Deepthi'and company !='Cisco':\n",
    "    print('Hello Deepthi, you are not my company')\n",
    "elif name != 'Deepthi' and company == 'Cisco':\n",
    "    print('Welcome to Cisco. But you are not me')\n",
    "else:\n",
    "    print('Please try again')"
   ]
  },
  {
   "cell_type": "code",
   "execution_count": 66,
   "id": "ff6e02e5-12a7-47e5-9e38-5b671a176995",
   "metadata": {},
   "outputs": [
    {
     "data": {
      "text/plain": [
       "22"
      ]
     },
     "execution_count": 66,
     "metadata": {},
     "output_type": "execute_result"
    }
   ],
   "source": [
    "x=20\n",
    "y=2\n",
    "x+y"
   ]
  },
  {
   "cell_type": "code",
   "execution_count": 67,
   "id": "2320c712-c82a-46e8-ac7c-f9f3b181be73",
   "metadata": {},
   "outputs": [
    {
     "data": {
      "text/plain": [
       "0"
      ]
     },
     "execution_count": 67,
     "metadata": {},
     "output_type": "execute_result"
    }
   ],
   "source": [
    "x=20\n",
    "y=2\n",
    "x+y\n",
    "x-y\n",
    "x*y\n",
    "x/y\n",
    "x//y\n",
    "x**y\n",
    "x%y\n"
   ]
  },
  {
   "cell_type": "code",
   "execution_count": 68,
   "id": "a0220d8b-5b77-4296-a9fe-50f1a75d0827",
   "metadata": {},
   "outputs": [
    {
     "data": {
      "text/plain": [
       "22"
      ]
     },
     "execution_count": 68,
     "metadata": {},
     "output_type": "execute_result"
    }
   ],
   "source": [
    "x=20\n",
    "y=2\n",
    "x+y"
   ]
  },
  {
   "cell_type": "code",
   "execution_count": 69,
   "id": "e86da2ad-6d9b-4e1d-9226-3b438aeff2cc",
   "metadata": {},
   "outputs": [
    {
     "data": {
      "text/plain": [
       "18"
      ]
     },
     "execution_count": 69,
     "metadata": {},
     "output_type": "execute_result"
    }
   ],
   "source": [
    "x-y"
   ]
  },
  {
   "cell_type": "code",
   "execution_count": 70,
   "id": "e3b8faa2-b279-4c8e-b6ea-eb9ec0b08f4a",
   "metadata": {},
   "outputs": [],
   "source": [
    "x+=1"
   ]
  },
  {
   "cell_type": "code",
   "execution_count": 71,
   "id": "6ee49641-6a15-4d50-85de-49d395b18ba4",
   "metadata": {},
   "outputs": [],
   "source": [
    "x=20\n",
    "y=2\n",
    "x+=1"
   ]
  },
  {
   "cell_type": "code",
   "execution_count": 72,
   "id": "11d54c6e-69c9-4e9e-ae55-91e8ad290498",
   "metadata": {},
   "outputs": [
    {
     "data": {
      "text/plain": [
       "21"
      ]
     },
     "execution_count": 72,
     "metadata": {},
     "output_type": "execute_result"
    }
   ],
   "source": [
    "x=20\n",
    "y=2\n",
    "x+=1\n",
    "x"
   ]
  },
  {
   "cell_type": "code",
   "execution_count": 73,
   "id": "e460479d-5940-4b10-b330-0f62f2281450",
   "metadata": {},
   "outputs": [
    {
     "data": {
      "text/plain": [
       "'20'"
      ]
     },
     "execution_count": 73,
     "metadata": {},
     "output_type": "execute_result"
    }
   ],
   "source": [
    "x=10\n",
    "y='20'\n",
    "y_int = int(y)\n",
    "y"
   ]
  },
  {
   "cell_type": "code",
   "execution_count": 74,
   "id": "81c7c56b-a00a-4772-bb2f-bcfbeee14aa4",
   "metadata": {},
   "outputs": [
    {
     "data": {
      "text/plain": [
       "30"
      ]
     },
     "execution_count": 74,
     "metadata": {},
     "output_type": "execute_result"
    }
   ],
   "source": [
    "x=10\n",
    "y='20'\n",
    "y_int = int(y)\n",
    "x+y_int"
   ]
  },
  {
   "cell_type": "code",
   "execution_count": 75,
   "id": "018050dd-dfa5-4690-926f-3b901f30e86f",
   "metadata": {},
   "outputs": [
    {
     "data": {
      "text/plain": [
       "71"
      ]
     },
     "execution_count": 75,
     "metadata": {},
     "output_type": "execute_result"
    }
   ],
   "source": [
    "import random\n",
    "number = random.randint(0, 100)\n",
    "number"
   ]
  },
  {
   "cell_type": "code",
   "execution_count": 76,
   "id": "3ba4c5eb-11c0-4dd0-a9c1-6498d2013e4e",
   "metadata": {},
   "outputs": [
    {
     "data": {
      "text/plain": [
       "32"
      ]
     },
     "execution_count": 76,
     "metadata": {},
     "output_type": "execute_result"
    }
   ],
   "source": [
    "import random\n",
    "number = random.randint(0, 100)\n",
    "number"
   ]
  },
  {
   "cell_type": "code",
   "execution_count": 77,
   "id": "51eeaf4b-9ef2-4df1-909f-4d366793d49b",
   "metadata": {},
   "outputs": [
    {
     "name": "stdin",
     "output_type": "stream",
     "text": [
      "Guess the number 45\n"
     ]
    }
   ],
   "source": [
    "import random\n",
    "number = random.randint(0, 100)\n",
    "number = input (\"Guess the number\")"
   ]
  },
  {
   "cell_type": "code",
   "execution_count": 78,
   "id": "48a28ed6-af5b-486c-8229-33b363c1dc56",
   "metadata": {},
   "outputs": [
    {
     "name": "stdin",
     "output_type": "stream",
     "text": [
      "Guess the number 45\n"
     ]
    }
   ],
   "source": [
    "import random\n",
    "number = random.randint(0, 100)\n",
    "\n",
    "number = input (\"Guess the number\")\n",
    "if number == 45:\n",
    "    print('You got it')"
   ]
  },
  {
   "cell_type": "code",
   "execution_count": 79,
   "id": "667d808a-4acc-4615-8b70-eae2f51b2b34",
   "metadata": {},
   "outputs": [
    {
     "name": "stdin",
     "output_type": "stream",
     "text": [
      "Guess the number 45\n"
     ]
    }
   ],
   "source": [
    "import random\n",
    "number = random.randint(0, 100)\n",
    "y=number\n",
    "y = input (\"Guess the number\")\n",
    "if y == 45:\n",
    "    print('You got it')"
   ]
  },
  {
   "cell_type": "code",
   "execution_count": 80,
   "id": "63c520dd-444d-4fa2-99b1-4ab6f9285a59",
   "metadata": {},
   "outputs": [
    {
     "ename": "SyntaxError",
     "evalue": "expected ':' (3900778702.py, line 6)",
     "output_type": "error",
     "traceback": [
      "\u001b[0;36m  Cell \u001b[0;32mIn[80], line 6\u001b[0;36m\u001b[0m\n\u001b[0;31m    elif numbers >=1000\u001b[0m\n\u001b[0m                       ^\u001b[0m\n\u001b[0;31mSyntaxError\u001b[0m\u001b[0;31m:\u001b[0m expected ':'\n"
     ]
    }
   ],
   "source": [
    "import random\n",
    "number = random.randint(0, 100)\n",
    "numbers = input (\"Guess the number\")\n",
    "if numbers == 45:\n",
    "    print('You got it')\n",
    "elif numbers >=1000\n",
    "    print('Too high')"
   ]
  },
  {
   "cell_type": "code",
   "execution_count": 81,
   "id": "814a12de-cf33-4ff4-9362-3b2a95cbee92",
   "metadata": {},
   "outputs": [
    {
     "name": "stdin",
     "output_type": "stream",
     "text": [
      "Guess the number 5000\n"
     ]
    },
    {
     "ename": "TypeError",
     "evalue": "'>=' not supported between instances of 'str' and 'int'",
     "output_type": "error",
     "traceback": [
      "\u001b[0;31m---------------------------------------------------------------------------\u001b[0m",
      "\u001b[0;31mTypeError\u001b[0m                                 Traceback (most recent call last)",
      "Cell \u001b[0;32mIn[81], line 6\u001b[0m\n\u001b[1;32m      4\u001b[0m \u001b[38;5;28;01mif\u001b[39;00m numbers \u001b[38;5;241m==\u001b[39m \u001b[38;5;241m45\u001b[39m:\n\u001b[1;32m      5\u001b[0m     \u001b[38;5;28mprint\u001b[39m(\u001b[38;5;124m'\u001b[39m\u001b[38;5;124mYou got it\u001b[39m\u001b[38;5;124m'\u001b[39m)\n\u001b[0;32m----> 6\u001b[0m \u001b[38;5;28;01melif\u001b[39;00m \u001b[43mnumbers\u001b[49m\u001b[43m \u001b[49m\u001b[38;5;241;43m>\u001b[39;49m\u001b[38;5;241;43m=\u001b[39;49m\u001b[38;5;241;43m1000\u001b[39;49m:\n\u001b[1;32m      7\u001b[0m     \u001b[38;5;28mprint\u001b[39m(\u001b[38;5;124m'\u001b[39m\u001b[38;5;124mToo high\u001b[39m\u001b[38;5;124m'\u001b[39m)\n",
      "\u001b[0;31mTypeError\u001b[0m: '>=' not supported between instances of 'str' and 'int'"
     ]
    }
   ],
   "source": [
    "import random\n",
    "number = random.randint(0, 100)\n",
    "numbers = input (\"Guess the number\")\n",
    "if numbers == 45:\n",
    "    print('You got it')\n",
    "elif numbers >=1000:\n",
    "    print('Too high')"
   ]
  },
  {
   "cell_type": "code",
   "execution_count": 82,
   "id": "9f12310c-8f18-4b01-9ac4-3b6d7c4b8930",
   "metadata": {},
   "outputs": [
    {
     "name": "stdin",
     "output_type": "stream",
     "text": [
      "Guess the number 5000\n"
     ]
    },
    {
     "ename": "TypeError",
     "evalue": "'>=' not supported between instances of 'str' and 'int'",
     "output_type": "error",
     "traceback": [
      "\u001b[0;31m---------------------------------------------------------------------------\u001b[0m",
      "\u001b[0;31mTypeError\u001b[0m                                 Traceback (most recent call last)",
      "Cell \u001b[0;32mIn[82], line 6\u001b[0m\n\u001b[1;32m      4\u001b[0m \u001b[38;5;28;01mif\u001b[39;00m number \u001b[38;5;241m==\u001b[39m \u001b[38;5;241m45\u001b[39m:\n\u001b[1;32m      5\u001b[0m     \u001b[38;5;28mprint\u001b[39m(\u001b[38;5;124m'\u001b[39m\u001b[38;5;124mYou got it\u001b[39m\u001b[38;5;124m'\u001b[39m)\n\u001b[0;32m----> 6\u001b[0m \u001b[38;5;28;01melif\u001b[39;00m \u001b[43mnumber\u001b[49m\u001b[43m \u001b[49m\u001b[38;5;241;43m>\u001b[39;49m\u001b[38;5;241;43m=\u001b[39;49m\u001b[38;5;241;43m1000\u001b[39;49m:\n\u001b[1;32m      7\u001b[0m     \u001b[38;5;28mprint\u001b[39m(\u001b[38;5;124m'\u001b[39m\u001b[38;5;124mToo high\u001b[39m\u001b[38;5;124m'\u001b[39m)\n",
      "\u001b[0;31mTypeError\u001b[0m: '>=' not supported between instances of 'str' and 'int'"
     ]
    }
   ],
   "source": [
    "import random\n",
    "number = random.randint(0, 100)\n",
    "number = input (\"Guess the number\")\n",
    "if number == 45:\n",
    "    print('You got it')\n",
    "elif number >=1000:\n",
    "    print('Too high')"
   ]
  },
  {
   "cell_type": "code",
   "execution_count": 83,
   "id": "652c9661-5cd9-4c55-a7c5-7b87399f1593",
   "metadata": {},
   "outputs": [
    {
     "name": "stdin",
     "output_type": "stream",
     "text": [
      "Guess the number 5000\n"
     ]
    },
    {
     "ename": "TypeError",
     "evalue": "'>' not supported between instances of 'str' and 'int'",
     "output_type": "error",
     "traceback": [
      "\u001b[0;31m---------------------------------------------------------------------------\u001b[0m",
      "\u001b[0;31mTypeError\u001b[0m                                 Traceback (most recent call last)",
      "Cell \u001b[0;32mIn[83], line 6\u001b[0m\n\u001b[1;32m      4\u001b[0m \u001b[38;5;28;01mif\u001b[39;00m number \u001b[38;5;241m==\u001b[39m \u001b[38;5;241m45\u001b[39m:\n\u001b[1;32m      5\u001b[0m     \u001b[38;5;28mprint\u001b[39m(\u001b[38;5;124m'\u001b[39m\u001b[38;5;124mYou got it\u001b[39m\u001b[38;5;124m'\u001b[39m)\n\u001b[0;32m----> 6\u001b[0m \u001b[38;5;28;01melif\u001b[39;00m \u001b[43mnumber\u001b[49m\u001b[43m \u001b[49m\u001b[38;5;241;43m>\u001b[39;49m\u001b[38;5;241;43m1000\u001b[39;49m:\n\u001b[1;32m      7\u001b[0m     \u001b[38;5;28mprint\u001b[39m(\u001b[38;5;124m'\u001b[39m\u001b[38;5;124mToo high\u001b[39m\u001b[38;5;124m'\u001b[39m)\n",
      "\u001b[0;31mTypeError\u001b[0m: '>' not supported between instances of 'str' and 'int'"
     ]
    }
   ],
   "source": [
    "import random\n",
    "number = random.randint(0, 100)\n",
    "number = input (\"Guess the number\")\n",
    "if number == 45:\n",
    "    print('You got it')\n",
    "elif number >1000:\n",
    "    print('Too high')"
   ]
  },
  {
   "cell_type": "code",
   "execution_count": 84,
   "id": "eb8dec31-bd59-4cee-9d79-8c32f41178a8",
   "metadata": {},
   "outputs": [],
   "source": [
    "import random\n",
    "number = random.randint(0, 1000)"
   ]
  },
  {
   "cell_type": "code",
   "execution_count": 85,
   "id": "8ed8adb9-9e1b-47b1-b546-4b4902b1ec40",
   "metadata": {},
   "outputs": [
    {
     "data": {
      "text/plain": [
       "760"
      ]
     },
     "execution_count": 85,
     "metadata": {},
     "output_type": "execute_result"
    }
   ],
   "source": [
    "import random\n",
    "number = random.randint(0, 1000)\n",
    "number"
   ]
  },
  {
   "cell_type": "code",
   "execution_count": 87,
   "id": "98881d16-6116-4859-877a-cf3d4034caf5",
   "metadata": {},
   "outputs": [],
   "source": [
    "import random\n",
    "number = random.randint(0, 1000)\n",
    "if number > 1000:\n",
    "    print('You are high')"
   ]
  },
  {
   "cell_type": "code",
   "execution_count": 88,
   "id": "5b72e819-ce6b-4056-b678-934583bb7823",
   "metadata": {},
   "outputs": [
    {
     "name": "stdin",
     "output_type": "stream",
     "text": [
      "Guess the number 89\n"
     ]
    }
   ],
   "source": [
    "import random\n",
    "number = random.randint(0, 100)\n",
    "guess = input (\"Guess the number\")\n",
    "if int(guess) == number:\n",
    "    print('You got it')\n",
    "elif int(guess) < number:\n",
    "    print('Too low')"
   ]
  },
  {
   "cell_type": "code",
   "execution_count": 89,
   "id": "1cd73a91-1aad-4a1a-9975-aa112306d718",
   "metadata": {},
   "outputs": [
    {
     "ename": "SyntaxError",
     "evalue": "expected ':' (2177563453.py, line 9)",
     "output_type": "error",
     "traceback": [
      "\u001b[0;36m  Cell \u001b[0;32mIn[89], line 9\u001b[0;36m\u001b[0m\n\u001b[0;31m    else\u001b[0m\n\u001b[0m         ^\u001b[0m\n\u001b[0;31mSyntaxError\u001b[0m\u001b[0;31m:\u001b[0m expected ':'\n"
     ]
    }
   ],
   "source": [
    "import random\n",
    "number = random.randint(0, 100)\n",
    "print(number)\n",
    "guess = input (\"Guess the number\")\n",
    "if int(guess) == number:\n",
    "    print('You got it')\n",
    "elif int(guess) < number:\n",
    "    print('Too low')\n",
    "else \n",
    "    print('Too high')"
   ]
  },
  {
   "cell_type": "code",
   "execution_count": 90,
   "id": "48a1b5cc-2925-497b-a0de-8c0720a898fa",
   "metadata": {},
   "outputs": [
    {
     "name": "stdout",
     "output_type": "stream",
     "text": [
      "6\n"
     ]
    },
    {
     "name": "stdin",
     "output_type": "stream",
     "text": [
      "Guess the number 89\n"
     ]
    },
    {
     "name": "stdout",
     "output_type": "stream",
     "text": [
      "Too high\n"
     ]
    }
   ],
   "source": [
    "import random\n",
    "number = random.randint(0, 100)\n",
    "print(number)\n",
    "guess = input (\"Guess the number\")\n",
    "if int(guess) == number:\n",
    "    print('You got it')\n",
    "elif int(guess) < number:\n",
    "    print('Too low')\n",
    "else: \n",
    "    print('Too high')"
   ]
  },
  {
   "cell_type": "code",
   "execution_count": 91,
   "id": "d9f8f8ed-a3f0-4a21-8ee6-4693bd6eba1f",
   "metadata": {},
   "outputs": [
    {
     "data": {
      "text/plain": [
       "float"
      ]
     },
     "execution_count": 91,
     "metadata": {},
     "output_type": "execute_result"
    }
   ],
   "source": [
    "x=10.5\n",
    "type(x)"
   ]
  },
  {
   "cell_type": "code",
   "execution_count": 92,
   "id": "30901977-72fb-48cc-919c-3c79dba3033c",
   "metadata": {},
   "outputs": [
    {
     "data": {
      "text/plain": [
       "1234.0"
      ]
     },
     "execution_count": 92,
     "metadata": {},
     "output_type": "execute_result"
    }
   ],
   "source": [
    "float(1234)"
   ]
  },
  {
   "cell_type": "code",
   "execution_count": 93,
   "id": "e61045f4-cb86-495c-a014-b5591ed48684",
   "metadata": {},
   "outputs": [
    {
     "data": {
      "text/plain": [
       "1234.53"
      ]
     },
     "execution_count": 93,
     "metadata": {},
     "output_type": "execute_result"
    }
   ],
   "source": [
    "float(1234.53)"
   ]
  },
  {
   "cell_type": "code",
   "execution_count": 94,
   "id": "cc55e49c-ccf2-4f3a-bc4a-029a8611c876",
   "metadata": {},
   "outputs": [
    {
     "data": {
      "text/plain": [
       "2343.5"
      ]
     },
     "execution_count": 94,
     "metadata": {},
     "output_type": "execute_result"
    }
   ],
   "source": [
    "float('2343.5')"
   ]
  },
  {
   "cell_type": "code",
   "execution_count": 95,
   "id": "eb3e4d2f-4135-40bc-8d89-d2001630a9e7",
   "metadata": {},
   "outputs": [
    {
     "ename": "ValueError",
     "evalue": "could not convert string to float: 'float'",
     "output_type": "error",
     "traceback": [
      "\u001b[0;31m---------------------------------------------------------------------------\u001b[0m",
      "\u001b[0;31mValueError\u001b[0m                                Traceback (most recent call last)",
      "Cell \u001b[0;32mIn[95], line 1\u001b[0m\n\u001b[0;32m----> 1\u001b[0m \u001b[38;5;28;43mfloat\u001b[39;49m\u001b[43m(\u001b[49m\u001b[38;5;124;43m'\u001b[39;49m\u001b[38;5;124;43mfloat\u001b[39;49m\u001b[38;5;124;43m'\u001b[39;49m\u001b[43m)\u001b[49m\n",
      "\u001b[0;31mValueError\u001b[0m: could not convert string to float: 'float'"
     ]
    }
   ],
   "source": [
    "float('float')"
   ]
  },
  {
   "cell_type": "code",
   "execution_count": 96,
   "id": "895de52c-acf6-4f12-93b9-d36360b25d3a",
   "metadata": {},
   "outputs": [
    {
     "data": {
      "text/plain": [
       "0.5"
      ]
     },
     "execution_count": 96,
     "metadata": {},
     "output_type": "execute_result"
    }
   ],
   "source": [
    "0.1 + 0.4"
   ]
  },
  {
   "cell_type": "code",
   "execution_count": 97,
   "id": "e2da905b-198e-4218-831c-56d3882cad54",
   "metadata": {},
   "outputs": [
    {
     "data": {
      "text/plain": [
       "0"
      ]
     },
     "execution_count": 97,
     "metadata": {},
     "output_type": "execute_result"
    }
   ],
   "source": [
    "int(0.1+0.5)"
   ]
  },
  {
   "cell_type": "code",
   "execution_count": 98,
   "id": "23d81951-788c-406a-94b7-18ec5e31c4ea",
   "metadata": {},
   "outputs": [
    {
     "data": {
      "text/plain": [
       "5"
      ]
     },
     "execution_count": 98,
     "metadata": {},
     "output_type": "execute_result"
    }
   ],
   "source": [
    "int(2.1+3.1)"
   ]
  },
  {
   "cell_type": "code",
   "execution_count": 99,
   "id": "31d94f6e-297a-4e07-b8eb-1f559e2a637d",
   "metadata": {},
   "outputs": [
    {
     "data": {
      "text/plain": [
       "0.30000000000000004"
      ]
     },
     "execution_count": 99,
     "metadata": {},
     "output_type": "execute_result"
    }
   ],
   "source": [
    "0.1+0.2"
   ]
  },
  {
   "cell_type": "code",
   "execution_count": 100,
   "id": "e185fb37-d4b0-4347-8e09-ac0cdfe851a0",
   "metadata": {},
   "outputs": [
    {
     "data": {
      "text/plain": [
       "False"
      ]
     },
     "execution_count": 100,
     "metadata": {},
     "output_type": "execute_result"
    }
   ],
   "source": [
    "0.1+0.2==0.3"
   ]
  },
  {
   "cell_type": "code",
   "execution_count": 101,
   "id": "571ee6f6-a305-4b28-a97d-86be097d3467",
   "metadata": {},
   "outputs": [
    {
     "data": {
      "text/plain": [
       "False"
      ]
     },
     "execution_count": 101,
     "metadata": {},
     "output_type": "execute_result"
    }
   ],
   "source": [
    "float(0.1+0.2)==0.3"
   ]
  },
  {
   "cell_type": "code",
   "execution_count": 102,
   "id": "9bb893fd-f061-44b3-b351-553abb081e79",
   "metadata": {},
   "outputs": [
    {
     "ename": "SyntaxError",
     "evalue": "unterminated string literal (detected at line 1) (3892696871.py, line 1)",
     "output_type": "error",
     "traceback": [
      "\u001b[0;36m  Cell \u001b[0;32mIn[102], line 1\u001b[0;36m\u001b[0m\n\u001b[0;31m    s = 'It's rainy today'\u001b[0m\n\u001b[0m                         ^\u001b[0m\n\u001b[0;31mSyntaxError\u001b[0m\u001b[0;31m:\u001b[0m unterminated string literal (detected at line 1)\n"
     ]
    }
   ],
   "source": [
    "s = 'It's rainy today'\n",
    "print(s)"
   ]
  },
  {
   "cell_type": "code",
   "execution_count": 103,
   "id": "3f64f860-14e3-4fa8-ad0e-0ae43495ee4b",
   "metadata": {},
   "outputs": [
    {
     "ename": "SyntaxError",
     "evalue": "unterminated string literal (detected at line 1) (315190066.py, line 1)",
     "output_type": "error",
     "traceback": [
      "\u001b[0;36m  Cell \u001b[0;32mIn[103], line 1\u001b[0;36m\u001b[0m\n\u001b[0;31m    s = 'It \\n 's rainy today'\u001b[0m\n\u001b[0m                             ^\u001b[0m\n\u001b[0;31mSyntaxError\u001b[0m\u001b[0;31m:\u001b[0m unterminated string literal (detected at line 1)\n"
     ]
    }
   ],
   "source": [
    "s = 'It \\n 's rainy today'\n",
    "print(s)"
   ]
  },
  {
   "cell_type": "code",
   "execution_count": 104,
   "id": "5c083bdf-a63e-4ffa-9075-39aed846cfa1",
   "metadata": {},
   "outputs": [
    {
     "ename": "SyntaxError",
     "evalue": "unterminated string literal (detected at line 1) (3892696871.py, line 1)",
     "output_type": "error",
     "traceback": [
      "\u001b[0;36m  Cell \u001b[0;32mIn[104], line 1\u001b[0;36m\u001b[0m\n\u001b[0;31m    s = 'It's rainy today'\u001b[0m\n\u001b[0m                         ^\u001b[0m\n\u001b[0;31mSyntaxError\u001b[0m\u001b[0;31m:\u001b[0m unterminated string literal (detected at line 1)\n"
     ]
    }
   ],
   "source": [
    "s = 'It's rainy today'\n",
    "print(s)"
   ]
  },
  {
   "cell_type": "code",
   "execution_count": 105,
   "id": "f913a1e2-ee74-40cc-869a-8d7249989c12",
   "metadata": {},
   "outputs": [
    {
     "data": {
      "text/plain": [
       "6"
      ]
     },
     "execution_count": 105,
     "metadata": {},
     "output_type": "execute_result"
    }
   ],
   "source": [
    "s='woierj'\n",
    "len(s)"
   ]
  },
  {
   "cell_type": "code",
   "execution_count": 106,
   "id": "00615c8a-39b3-4f0a-bc54-010f799af7de",
   "metadata": {},
   "outputs": [
    {
     "data": {
      "text/plain": [
       "'i'"
      ]
     },
     "execution_count": 106,
     "metadata": {},
     "output_type": "execute_result"
    }
   ],
   "source": [
    "s[2]"
   ]
  },
  {
   "cell_type": "code",
   "execution_count": 107,
   "id": "76cd1baf-cbe9-4532-8219-dad176949247",
   "metadata": {},
   "outputs": [
    {
     "data": {
      "text/plain": [
       "'w'"
      ]
     },
     "execution_count": 107,
     "metadata": {},
     "output_type": "execute_result"
    }
   ],
   "source": [
    "s[0]"
   ]
  },
  {
   "cell_type": "code",
   "execution_count": 108,
   "id": "988ab531-e463-4f8a-bf6b-ae00ec1acca9",
   "metadata": {},
   "outputs": [
    {
     "name": "stdout",
     "output_type": "stream",
     "text": [
      "abcde\n",
      "efgh\n"
     ]
    }
   ],
   "source": [
    "s='abcde\\nefgh'\n",
    "print(s)\n"
   ]
  },
  {
   "cell_type": "code",
   "execution_count": 109,
   "id": "7e1249e5-ce63-475a-95a4-af7d15f85cf4",
   "metadata": {},
   "outputs": [
    {
     "data": {
      "text/plain": [
       "10"
      ]
     },
     "execution_count": 109,
     "metadata": {},
     "output_type": "execute_result"
    }
   ],
   "source": [
    "len(s)\n"
   ]
  },
  {
   "cell_type": "code",
   "execution_count": 110,
   "id": "faa03346-dc8f-4b56-867c-467e7e304c4b",
   "metadata": {},
   "outputs": [
    {
     "data": {
      "text/plain": [
       "6"
      ]
     },
     "execution_count": 110,
     "metadata": {},
     "output_type": "execute_result"
    }
   ],
   "source": [
    "int('6')\n"
   ]
  },
  {
   "cell_type": "code",
   "execution_count": 111,
   "id": "b0c52865-f7e2-460b-bf1b-6af85b144acb",
   "metadata": {},
   "outputs": [
    {
     "data": {
      "text/plain": [
       "5.0"
      ]
     },
     "execution_count": 111,
     "metadata": {},
     "output_type": "execute_result"
    }
   ],
   "source": [
    "float('5')"
   ]
  },
  {
   "cell_type": "code",
   "execution_count": 112,
   "id": "29b057dc-844e-4d96-8d5c-a93a1898c92a",
   "metadata": {},
   "outputs": [
    {
     "data": {
      "text/plain": [
       "'1234'"
      ]
     },
     "execution_count": 112,
     "metadata": {},
     "output_type": "execute_result"
    }
   ],
   "source": [
    "str(1234)"
   ]
  },
  {
   "cell_type": "code",
   "execution_count": 113,
   "id": "9f689732-f023-4d9c-add0-607693e8c33c",
   "metadata": {},
   "outputs": [
    {
     "data": {
      "text/plain": [
       "'1234'"
      ]
     },
     "execution_count": 113,
     "metadata": {},
     "output_type": "execute_result"
    }
   ],
   "source": [
    "str('1234')"
   ]
  },
  {
   "cell_type": "code",
   "execution_count": 114,
   "id": "6cb819d1-9f34-4dd7-8260-aaba0c2c7b74",
   "metadata": {},
   "outputs": [
    {
     "name": "stdout",
     "output_type": "stream",
     "text": [
      "x= 100\n"
     ]
    }
   ],
   "source": [
    "x=100\n",
    "y=239\n",
    "print('x= ' + str(x))\n"
   ]
  },
  {
   "cell_type": "code",
   "execution_count": 115,
   "id": "f92fb8fe-88f2-4bcf-892a-e29d92e87855",
   "metadata": {},
   "outputs": [
    {
     "name": "stdout",
     "output_type": "stream",
     "text": [
      "x= 100\n"
     ]
    }
   ],
   "source": [
    "x=100\n",
    "y=239\n",
    "print('x= ' + str(x))"
   ]
  },
  {
   "cell_type": "code",
   "execution_count": 116,
   "id": "3714d835-5bdd-4caf-b6a3-6a9f2dd78833",
   "metadata": {},
   "outputs": [
    {
     "data": {
      "text/plain": [
       "'x=100, y=200'"
      ]
     },
     "execution_count": 116,
     "metadata": {},
     "output_type": "execute_result"
    }
   ],
   "source": [
    "x=100\n",
    "y=200\n",
    "f'x={x}, y={y}'"
   ]
  },
  {
   "cell_type": "code",
   "execution_count": 117,
   "id": "60349a4d-1666-41b5-91d9-4d30c7d3b9f5",
   "metadata": {},
   "outputs": [
    {
     "name": "stdout",
     "output_type": "stream",
     "text": [
      "abcd\n",
      "efgh\n",
      "ijkl\n"
     ]
    }
   ],
   "source": [
    "s='''abcd\n",
    "efgh\n",
    "ijkl'''\n",
    "print(s)"
   ]
  },
  {
   "cell_type": "code",
   "execution_count": 118,
   "id": "5b2d7337-3404-4413-b6a9-5feb1435c778",
   "metadata": {},
   "outputs": [
    {
     "name": "stdin",
     "output_type": "stream",
     "text": [
      "enter a word to translate to pig latin:  otto\n"
     ]
    }
   ],
   "source": [
    "vowel = ('a', 'e','i', 'o', 'u')\n",
    "word=input('enter a word to translate to pig latin: ')\n",
    "first_letter = word[0]\n",
    "firt_letter = str(first_letter)\n",
    "if first_letter in vowel:\n",
    "    length=len(word)"
   ]
  },
  {
   "cell_type": "code",
   "execution_count": null,
   "id": "3107a250-934b-44fb-adb4-3cc57e07f906",
   "metadata": {},
   "outputs": [],
   "source": [
    "vowel = ('a', 'e','i', 'o', 'u')\n",
    "word=input('enter a word to translate to pig latin: ')\n",
    "first_letter = word[0]\n",
    "firt_letter = str(first_letter)\n",
    "if first_letter in vowel:\n",
    "    length=len(word)\n",
    "    "
   ]
  },
  {
   "cell_type": "code",
   "execution_count": 120,
   "id": "5ff8e8a5-1a0c-4775-bdee-ad8cf31a02ba",
   "metadata": {},
   "outputs": [
    {
     "name": "stdin",
     "output_type": "stream",
     "text": [
      "Enter a word:  tit\n"
     ]
    }
   ],
   "source": [
    "word = input ('Enter a word: ')\n",
    "vowels= 'aeiou'\n",
    "if word[0]== 'a':\n",
    "    print(word + 'way')\n",
    "if word[0]== 'e':\n",
    "    print(word + 'way')\n",
    "if word[0]== 'e':\n",
    "    print(word + 'way')"
   ]
  },
  {
   "cell_type": "code",
   "execution_count": 122,
   "id": "fdcf4615-a9fd-41b0-abbc-60104a4fdaba",
   "metadata": {},
   "outputs": [
    {
     "name": "stdin",
     "output_type": "stream",
     "text": [
      "Enter a word:  cent\n"
     ]
    }
   ],
   "source": [
    "word = input ('Enter a word: ')\n",
    "vowels= 'aeiou'\n",
    "if (word[0]== 'a' or \n",
    "    word[0]== 'e' or \n",
    "    word[0]== 'i' or \n",
    "    word[0]== 'o' or \n",
    "    word[0]== 'u'):\n",
    "    print(word + 'way')\n",
    "    "
   ]
  },
  {
   "cell_type": "code",
   "execution_count": 123,
   "id": "728362e9-0510-41b4-b3f4-f07c7bdada10",
   "metadata": {},
   "outputs": [
    {
     "name": "stdin",
     "output_type": "stream",
     "text": [
      "Enter a word:  enter\n"
     ]
    },
    {
     "name": "stdout",
     "output_type": "stream",
     "text": [
      "enterway\n"
     ]
    }
   ],
   "source": [
    "word = input ('Enter a word: ')\n",
    "vowels= 'aeiou'\n",
    "if (word[0]== 'a' or \n",
    "    word[0]== 'e' or \n",
    "    word[0]== 'i' or \n",
    "    word[0]== 'o' or \n",
    "    word[0]== 'u'):\n",
    "    print(word + 'way')"
   ]
  },
  {
   "cell_type": "code",
   "execution_count": 124,
   "id": "e70fcadb-5068-41e7-a252-e5923c7fcb1d",
   "metadata": {},
   "outputs": [
    {
     "ename": "SyntaxError",
     "evalue": "invalid syntax (3224967832.py, line 3)",
     "output_type": "error",
     "traceback": [
      "\u001b[0;36m  Cell \u001b[0;32mIn[124], line 3\u001b[0;36m\u001b[0m\n\u001b[0;31m    if (word[0]in 'aeiou':\u001b[0m\n\u001b[0m                         ^\u001b[0m\n\u001b[0;31mSyntaxError\u001b[0m\u001b[0;31m:\u001b[0m invalid syntax\n"
     ]
    }
   ],
   "source": [
    "word = input ('Enter a word: ')\n",
    "vowels= 'aeiou'\n",
    "if (word[0]in 'aeiou':\n",
    "    print(word + 'way')"
   ]
  },
  {
   "cell_type": "code",
   "execution_count": 125,
   "id": "5c220c64-cf8e-4634-b628-185f72c99b29",
   "metadata": {},
   "outputs": [
    {
     "name": "stdin",
     "output_type": "stream",
     "text": [
      "Enter a word:  enter\n"
     ]
    },
    {
     "name": "stdout",
     "output_type": "stream",
     "text": [
      "enterway\n"
     ]
    }
   ],
   "source": [
    "word = input ('Enter a word: ')\n",
    "vowels= 'aeiou'\n",
    "if word[0]in 'aeiou':\n",
    "    print(word + 'way')"
   ]
  },
  {
   "cell_type": "code",
   "execution_count": 126,
   "id": "76fc9954-b90e-4ab6-9a58-8daa2ee3ed9b",
   "metadata": {},
   "outputs": [
    {
     "name": "stdout",
     "output_type": "stream",
     "text": [
      "ntereay\n"
     ]
    },
    {
     "ename": "NameError",
     "evalue": "name 'new_word' is not defined",
     "output_type": "error",
     "traceback": [
      "\u001b[0;31m---------------------------------------------------------------------------\u001b[0m",
      "\u001b[0;31mNameError\u001b[0m                                 Traceback (most recent call last)",
      "Cell \u001b[0;32mIn[126], line 2\u001b[0m\n\u001b[1;32m      1\u001b[0m \u001b[38;5;28mprint\u001b[39m(word[\u001b[38;5;241m1\u001b[39m:] \u001b[38;5;241m+\u001b[39m word[\u001b[38;5;241m0\u001b[39m] \u001b[38;5;241m+\u001b[39m \u001b[38;5;124m'\u001b[39m\u001b[38;5;124may\u001b[39m\u001b[38;5;124m'\u001b[39m)\n\u001b[0;32m----> 2\u001b[0m \u001b[38;5;28mprint\u001b[39m(\u001b[43mnew_word\u001b[49m)\n",
      "\u001b[0;31mNameError\u001b[0m: name 'new_word' is not defined"
     ]
    }
   ],
   "source": [
    "print(word[1:] + word[0] + 'ay')\n",
    "print(new_word)"
   ]
  },
  {
   "cell_type": "code",
   "execution_count": 127,
   "id": "1c5890ba-dd19-4a9d-b751-962a2ae56b98",
   "metadata": {},
   "outputs": [
    {
     "ename": "SyntaxError",
     "evalue": "unmatched ')' (3679689954.py, line 1)",
     "output_type": "error",
     "traceback": [
      "\u001b[0;36m  Cell \u001b[0;32mIn[127], line 1\u001b[0;36m\u001b[0m\n\u001b[0;31m    new_word= word[1:] + word[0] + 'ay')\u001b[0m\n\u001b[0m                                       ^\u001b[0m\n\u001b[0;31mSyntaxError\u001b[0m\u001b[0;31m:\u001b[0m unmatched ')'\n"
     ]
    }
   ],
   "source": [
    "new_word= word[1:] + word[0] + 'ay')\n",
    "print(new_word)"
   ]
  },
  {
   "cell_type": "code",
   "execution_count": 128,
   "id": "30fd9d06-b9dd-48f7-a582-ab463edce540",
   "metadata": {},
   "outputs": [
    {
     "name": "stdout",
     "output_type": "stream",
     "text": [
      "ntereay\n"
     ]
    }
   ],
   "source": [
    "new_word= word[1:] + word[0] + 'ay'\n",
    "print(new_word)"
   ]
  },
  {
   "cell_type": "code",
   "execution_count": 130,
   "id": "25025faa-4f66-42c0-9cbf-ad4bad1a2042",
   "metadata": {},
   "outputs": [
    {
     "name": "stdin",
     "output_type": "stream",
     "text": [
      "Enter a word:  tea\n"
     ]
    },
    {
     "name": "stdout",
     "output_type": "stream",
     "text": [
      "eatay\n"
     ]
    }
   ],
   "source": [
    "word=input('Enter a word: ')\n",
    "if word[0] in 'aeiou':\n",
    "    print(word + 'way')\n",
    "else:\n",
    "    print(word[1:] + word[0] + 'ay')"
   ]
  },
  {
   "cell_type": "code",
   "execution_count": 131,
   "id": "9f8e82d7-f919-4701-a9a3-175c725a7027",
   "metadata": {},
   "outputs": [
    {
     "name": "stdin",
     "output_type": "stream",
     "text": [
      "Enter your name:  Deepthi\n"
     ]
    },
    {
     "name": "stdout",
     "output_type": "stream",
     "text": [
      "Hello Deepthi\n"
     ]
    }
   ],
   "source": [
    "name = input('Enter your name: ')\n",
    "print('Hello', name)"
   ]
  },
  {
   "cell_type": "code",
   "execution_count": 132,
   "id": "cfe02e96-8c00-44ff-9e6e-fc3ab7a1117c",
   "metadata": {},
   "outputs": [
    {
     "ename": "SyntaxError",
     "evalue": "unterminated string literal (detected at line 2) (1035649292.py, line 2)",
     "output_type": "error",
     "traceback": [
      "\u001b[0;36m  Cell \u001b[0;32mIn[132], line 2\u001b[0;36m\u001b[0m\n\u001b[0;31m    print(f'Hello', {name}!')\u001b[0m\n\u001b[0m                           ^\u001b[0m\n\u001b[0;31mSyntaxError\u001b[0m\u001b[0;31m:\u001b[0m unterminated string literal (detected at line 2)\n"
     ]
    }
   ],
   "source": [
    "name = input('Enter your name: ')\n",
    "print(f'Hello', {name}!')"
   ]
  },
  {
   "cell_type": "code",
   "execution_count": 133,
   "id": "493c251d-69be-4689-8057-54e0c2e51f80",
   "metadata": {},
   "outputs": [
    {
     "name": "stdin",
     "output_type": "stream",
     "text": [
      "Enter your name:  Deepthi\n"
     ]
    },
    {
     "name": "stdout",
     "output_type": "stream",
     "text": [
      "Hello, Deepthi!\n"
     ]
    }
   ],
   "source": [
    "name = input('Enter your name: ').strip()\n",
    "print(f'Hello, {name}!')"
   ]
  },
  {
   "cell_type": "code",
   "execution_count": 134,
   "id": "1b6c07ef-fd69-4117-bf15-bb2c33bcd29c",
   "metadata": {},
   "outputs": [
    {
     "data": {
      "text/plain": [
       "'abcd'"
      ]
     },
     "execution_count": 134,
     "metadata": {},
     "output_type": "execute_result"
    }
   ],
   "source": [
    "s = 'aBcD eFgh'\n",
    "s.lower()"
   ]
  },
  {
   "cell_type": "code",
   "execution_count": 135,
   "id": "e02c2a59-a036-4fe7-a6ef-4e5d587ceac4",
   "metadata": {},
   "outputs": [
    {
     "data": {
      "text/plain": [
       "'ABCD'"
      ]
     },
     "execution_count": 135,
     "metadata": {},
     "output_type": "execute_result"
    }
   ],
   "source": [
    "s.upper()"
   ]
  },
  {
   "cell_type": "code",
   "execution_count": 136,
   "id": "bb412fa1-3f61-4bbc-a5b5-c242d1079b1c",
   "metadata": {},
   "outputs": [
    {
     "data": {
      "text/plain": [
       "'Abcd'"
      ]
     },
     "execution_count": 136,
     "metadata": {},
     "output_type": "execute_result"
    }
   ],
   "source": [
    "s.capitalize()"
   ]
  },
  {
   "cell_type": "code",
   "execution_count": 137,
   "id": "9a4a5719-4422-4d73-9a2b-ce3ed7f66e3e",
   "metadata": {},
   "outputs": [
    {
     "data": {
      "text/plain": [
       "'Abcd'"
      ]
     },
     "execution_count": 137,
     "metadata": {},
     "output_type": "execute_result"
    }
   ],
   "source": [
    "s.title()\n"
   ]
  },
  {
   "cell_type": "code",
   "execution_count": 138,
   "id": "7a1d4692-90a7-47f0-bfe5-08db6810d131",
   "metadata": {},
   "outputs": [
    {
     "data": {
      "text/plain": [
       "'Abcd Efgh'"
      ]
     },
     "execution_count": 138,
     "metadata": {},
     "output_type": "execute_result"
    }
   ],
   "source": [
    "s = 'aBcD eFgh'\n",
    "s.title()"
   ]
  },
  {
   "cell_type": "code",
   "execution_count": 139,
   "id": "e899adb1-4621-48b8-88d7-fcc4a5d0c02e",
   "metadata": {},
   "outputs": [
    {
     "data": {
      "text/plain": [
       "'AbCd EfGH'"
      ]
     },
     "execution_count": 139,
     "metadata": {},
     "output_type": "execute_result"
    }
   ],
   "source": [
    "s.swapcase()"
   ]
  },
  {
   "cell_type": "code",
   "execution_count": 140,
   "id": "d8c115f4-7349-4928-8afd-b908466a02db",
   "metadata": {},
   "outputs": [
    {
     "name": "stdout",
     "output_type": "stream",
     "text": [
      "3702\n"
     ]
    }
   ],
   "source": [
    "s='1234'\n",
    "n=int(s)\n",
    "print(n * 3)"
   ]
  },
  {
   "cell_type": "code",
   "execution_count": 141,
   "id": "db210004-f159-459c-93c5-61492685fe09",
   "metadata": {},
   "outputs": [
    {
     "ename": "AttributeError",
     "evalue": "'str' object has no attribute 'digit'",
     "output_type": "error",
     "traceback": [
      "\u001b[0;31m---------------------------------------------------------------------------\u001b[0m",
      "\u001b[0;31mAttributeError\u001b[0m                            Traceback (most recent call last)",
      "Cell \u001b[0;32mIn[141], line 2\u001b[0m\n\u001b[1;32m      1\u001b[0m s\u001b[38;5;241m=\u001b[39m\u001b[38;5;124m'\u001b[39m\u001b[38;5;124mhello\u001b[39m\u001b[38;5;124m'\u001b[39m\n\u001b[0;32m----> 2\u001b[0m \u001b[38;5;28;01mif\u001b[39;00m \u001b[43ms\u001b[49m\u001b[38;5;241;43m.\u001b[39;49m\u001b[43mdigit\u001b[49m():\n\u001b[1;32m      3\u001b[0m     n\u001b[38;5;241m=\u001b[39m\u001b[38;5;28mint\u001b[39m(s)\n\u001b[1;32m      4\u001b[0m     \u001b[38;5;28mprint\u001b[39m(n \u001b[38;5;241m*\u001b[39m \u001b[38;5;241m3\u001b[39m)\n",
      "\u001b[0;31mAttributeError\u001b[0m: 'str' object has no attribute 'digit'"
     ]
    }
   ],
   "source": [
    "s='hello'\n",
    "if s.digit():\n",
    "    n=int(s)\n",
    "    print(n * 3)\n",
    "else:\n",
    "    print('{s} is not numeric')"
   ]
  },
  {
   "cell_type": "code",
   "execution_count": 142,
   "id": "272b657c-09c1-4d67-b8f2-855bede67a26",
   "metadata": {},
   "outputs": [
    {
     "name": "stdout",
     "output_type": "stream",
     "text": [
      "{s} is not numeric\n"
     ]
    }
   ],
   "source": [
    "s='hello'\n",
    "if s.isdigit():\n",
    "    n=int(s)\n",
    "    print(n * 3)\n",
    "else:\n",
    "    print('{s} is not numeric')"
   ]
  },
  {
   "cell_type": "code",
   "execution_count": 143,
   "id": "164b13c1-ee75-4d49-bd29-f9d501d9a0e2",
   "metadata": {},
   "outputs": [
    {
     "name": "stdout",
     "output_type": "stream",
     "text": [
      "369\n"
     ]
    }
   ],
   "source": [
    "s='123'\n",
    "if s.isdigit():\n",
    "    n=int(s)\n",
    "    print(n * 3)\n",
    "else:\n",
    "    print('{s} is not numeric')"
   ]
  },
  {
   "cell_type": "code",
   "execution_count": null,
   "id": "1bc17b30-5a64-4d49-9aed-41f838af9797",
   "metadata": {},
   "outputs": [],
   "source": [
    "x = input('Enter the first number: ')\n",
    "operator = input ('Enter the operator + or -: ')\n",
    "y = input('Enter the second number: ')\n",
    "if x.isdigit"
   ]
  }
 ],
 "metadata": {
  "kernelspec": {
   "display_name": "Python 3 (ipykernel)",
   "language": "python",
   "name": "python3"
  },
  "language_info": {
   "codemirror_mode": {
    "name": "ipython",
    "version": 3
   },
   "file_extension": ".py",
   "mimetype": "text/x-python",
   "name": "python",
   "nbconvert_exporter": "python",
   "pygments_lexer": "ipython3",
   "version": "3.10.12"
  }
 },
 "nbformat": 4,
 "nbformat_minor": 5
}
