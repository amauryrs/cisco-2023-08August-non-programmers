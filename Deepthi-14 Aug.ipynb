{
 "cells": [
  {
   "cell_type": "code",
   "execution_count": 1,
   "id": "c85d8c51-934e-43c3-8d94-15850ac9bf9c",
   "metadata": {},
   "outputs": [
    {
     "name": "stdout",
     "output_type": "stream",
     "text": [
      "Hello\n"
     ]
    }
   ],
   "source": [
    "print('Hello')"
   ]
  },
  {
   "cell_type": "code",
   "execution_count": 2,
   "id": "b7f06c2a-902e-4211-b38e-054a8310275f",
   "metadata": {},
   "outputs": [
    {
     "data": {
      "text/plain": [
       "16"
      ]
     },
     "execution_count": 2,
     "metadata": {},
     "output_type": "execute_result"
    }
   ],
   "source": [
    "6+10\n"
   ]
  },
  {
   "cell_type": "code",
   "execution_count": 3,
   "id": "ab1326a2-7b58-4936-a433-3a587da56b17",
   "metadata": {},
   "outputs": [
    {
     "name": "stdout",
     "output_type": "stream",
     "text": [
      "This is the first day of Python class\n"
     ]
    }
   ],
   "source": [
    "print('This is the first day of Python class')"
   ]
  },
  {
   "cell_type": "code",
   "execution_count": 4,
   "id": "d8dc8117-c5cd-433b-a052-9a73c8a74baa",
   "metadata": {},
   "outputs": [
    {
     "data": {
      "text/plain": [
       "10"
      ]
     },
     "execution_count": 4,
     "metadata": {},
     "output_type": "execute_result"
    }
   ],
   "source": [
    "6+8-4"
   ]
  },
  {
   "cell_type": "code",
   "execution_count": 5,
   "id": "fb500a59-d0ea-4755-bd7a-2cd11c92b000",
   "metadata": {},
   "outputs": [
    {
     "name": "stdout",
     "output_type": "stream",
     "text": [
      "HelloGood Morning\n"
     ]
    }
   ],
   "source": [
    "print(\"Hello\" + \"Good Morning\")"
   ]
  },
  {
   "cell_type": "code",
   "execution_count": 6,
   "id": "574d34e1-ad2d-4ce8-bea0-900d7320305d",
   "metadata": {},
   "outputs": [
    {
     "name": "stdout",
     "output_type": "stream",
     "text": [
      "Hello\n"
     ]
    }
   ],
   "source": [
    "print(\"Hello\")"
   ]
  },
  {
   "cell_type": "code",
   "execution_count": 7,
   "id": "abf28187-c802-4af4-b900-d58f22741398",
   "metadata": {},
   "outputs": [
    {
     "name": "stdout",
     "output_type": "stream",
     "text": [
      "27\n"
     ]
    }
   ],
   "source": [
    "x=27\n",
    "print(x)"
   ]
  },
  {
   "cell_type": "code",
   "execution_count": 8,
   "id": "887eee39-6de8-4c88-875d-7a32d3f48c46",
   "metadata": {},
   "outputs": [
    {
     "name": "stdout",
     "output_type": "stream",
     "text": [
      "50\n"
     ]
    }
   ],
   "source": [
    "x=10\n",
    "print(x*5)"
   ]
  },
  {
   "cell_type": "code",
   "execution_count": 9,
   "id": "b0ffb52e-64b8-44dc-865c-174b4e8c3075",
   "metadata": {},
   "outputs": [
    {
     "ename": "NameError",
     "evalue": "name 'hello' is not defined",
     "output_type": "error",
     "traceback": [
      "\u001b[0;31m---------------------------------------------------------------------------\u001b[0m",
      "\u001b[0;31mNameError\u001b[0m                                 Traceback (most recent call last)",
      "Cell \u001b[0;32mIn[9], line 1\u001b[0m\n\u001b[0;32m----> 1\u001b[0m \u001b[43mhello\u001b[49m\n",
      "\u001b[0;31mNameError\u001b[0m: name 'hello' is not defined"
     ]
    }
   ],
   "source": [
    "hello\n"
   ]
  },
  {
   "cell_type": "code",
   "execution_count": 10,
   "id": "4b563e2a-0977-48eb-bd27-9b2ff1b6018f",
   "metadata": {},
   "outputs": [
    {
     "data": {
      "text/plain": [
       "'hello'"
      ]
     },
     "execution_count": 10,
     "metadata": {},
     "output_type": "execute_result"
    }
   ],
   "source": [
    "\"hello\""
   ]
  },
  {
   "cell_type": "code",
   "execution_count": 11,
   "id": "54d025c4-acf3-47fa-a1e4-80b04ee03e2a",
   "metadata": {},
   "outputs": [
    {
     "name": "stdout",
     "output_type": "stream",
     "text": [
      "Hello, Deepthi\n"
     ]
    }
   ],
   "source": [
    "print('Hello, '+ 'Deepthi')"
   ]
  },
  {
   "cell_type": "code",
   "execution_count": 12,
   "id": "ba261c1e-ede2-45e3-ba2b-119ea81e10a8",
   "metadata": {},
   "outputs": [
    {
     "name": "stdout",
     "output_type": "stream",
     "text": [
      "Hello Deepthi\n"
     ]
    }
   ],
   "source": [
    "print('Hello '+ 'Deepthi')"
   ]
  },
  {
   "cell_type": "code",
   "execution_count": 13,
   "id": "a8486b63-8f0e-4e55-ba16-d022d1ea68a0",
   "metadata": {},
   "outputs": [
    {
     "ename": "SyntaxError",
     "evalue": "unterminated string literal (detected at line 2) (3098933469.py, line 2)",
     "output_type": "error",
     "traceback": [
      "\u001b[0;36m  Cell \u001b[0;32mIn[13], line 2\u001b[0;36m\u001b[0m\n\u001b[0;31m    print(\"Hello 'name')\u001b[0m\n\u001b[0m          ^\u001b[0m\n\u001b[0;31mSyntaxError\u001b[0m\u001b[0;31m:\u001b[0m unterminated string literal (detected at line 2)\n"
     ]
    }
   ],
   "source": [
    "name = Deepthi\n",
    "print(\"Hello 'name')"
   ]
  },
  {
   "cell_type": "code",
   "execution_count": null,
   "id": "692b8104-e029-4ec1-a190-3160537074b5",
   "metadata": {},
   "outputs": [],
   "source": [
    "name = Deepthi\n",
    "print(\"Hello ')"
   ]
  }
 ],
 "metadata": {
  "kernelspec": {
   "display_name": "Python 3 (ipykernel)",
   "language": "python",
   "name": "python3"
  },
  "language_info": {
   "codemirror_mode": {
    "name": "ipython",
    "version": 3
   },
   "file_extension": ".py",
   "mimetype": "text/x-python",
   "name": "python",
   "nbconvert_exporter": "python",
   "pygments_lexer": "ipython3",
   "version": "3.10.12"
  }
 },
 "nbformat": 4,
 "nbformat_minor": 5
}
