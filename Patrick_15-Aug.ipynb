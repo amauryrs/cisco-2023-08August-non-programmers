{
 "cells": [
  {
   "cell_type": "code",
   "execution_count": 2,
   "id": "9f100c9c-f7d0-4d9e-b932-f577c8e7a76b",
   "metadata": {},
   "outputs": [
    {
     "name": "stdout",
     "output_type": "stream",
     "text": [
      "aa\n",
      "bb\n",
      "cc\n",
      "dd\n",
      "ee\n",
      "ff\n",
      "gg\n"
     ]
    }
   ],
   "source": [
    "#FOR LOOP example (m is a variable, same as using s or any other letter)\n",
    "m = \"abcdefg\"\n",
    "for one_character in m:\n",
    "    print(one_character + one_character)"
   ]
  },
  {
   "cell_type": "code",
   "execution_count": 13,
   "id": "6bca71e2-ea34-475d-aa91-7051154e5565",
   "metadata": {},
   "outputs": [
    {
     "name": "stdin",
     "output_type": "stream",
     "text": [
      "Enter string:  123 hello\n"
     ]
    },
    {
     "name": "stdout",
     "output_type": "stream",
     "text": [
      "123 hello\n",
      "5\n"
     ]
    }
   ],
   "source": [
    "digits = 0\n",
    "vowels = 0\n",
    "others = 0\n",
    "num_let = input (\"Enter string: \").strip()\n",
    "print(num_let)\n",
    "\n",
    "\n",
    "for count in num_let:\n",
    "    if count in \"1234567890\":\n",
    "        digits +=1\n",
    "    elif count in \"aeiou\":\n",
    "        vowels +=1\n",
    "    else:\n",
    "        others +=1\n",
    "print(f'digits = {digits}')\n",
    "print(f'vowels"
   ]
  },
  {
   "cell_type": "code",
   "execution_count": null,
   "id": "36ef5719-7779-4907-8c54-344116e208d4",
   "metadata": {},
   "outputs": [],
   "source": []
  }
 ],
 "metadata": {
  "kernelspec": {
   "display_name": "Python 3 (ipykernel)",
   "language": "python",
   "name": "python3"
  },
  "language_info": {
   "codemirror_mode": {
    "name": "ipython",
    "version": 3
   },
   "file_extension": ".py",
   "mimetype": "text/x-python",
   "name": "python",
   "nbconvert_exporter": "python",
   "pygments_lexer": "ipython3",
   "version": "3.10.12"
  }
 },
 "nbformat": 4,
 "nbformat_minor": 5
}
