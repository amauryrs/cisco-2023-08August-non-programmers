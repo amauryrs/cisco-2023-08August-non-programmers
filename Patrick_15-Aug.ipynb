{
 "cells": [
  {
   "cell_type": "code",
   "execution_count": 2,
   "id": "9f100c9c-f7d0-4d9e-b932-f577c8e7a76b",
   "metadata": {},
   "outputs": [
    {
     "name": "stdout",
     "output_type": "stream",
     "text": [
      "aa\n",
      "bb\n",
      "cc\n",
      "dd\n",
      "ee\n",
      "ff\n",
      "gg\n"
     ]
    }
   ],
   "source": [
    "#FOR LOOP example (m is a variable, same as using s or any other letter)\n",
    "m = \"abcdefg\"\n",
    "for one_character in m:\n",
    "    print(one_character + one_character)"
   ]
  },
  {
   "cell_type": "code",
   "execution_count": 17,
   "id": "6bca71e2-ea34-475d-aa91-7051154e5565",
   "metadata": {},
   "outputs": [
    {
     "name": "stdin",
     "output_type": "stream",
     "text": [
      "Enter string:  hello 12345\n"
     ]
    },
    {
     "name": "stdout",
     "output_type": "stream",
     "text": [
      "hello 12345\n",
      "digits = 5\n",
      "vowels = 2\n",
      "others = 4\n"
     ]
    }
   ],
   "source": [
    "#remember the white space in between will be counted even though the strip method is added\n",
    "digits = 0\n",
    "vowels = 0\n",
    "others = 0\n",
    "num_let = input (\"Enter string: \").strip()\n",
    "print(num_let)\n",
    "\n",
    "\n",
    "for count in num_let:\n",
    "    #CAN Also use count.isdigit()\n",
    "    if count in \"1234567890\":\n",
    "        digits +=1\n",
    "    elif count in \"aeiou\":\n",
    "        vowels +=1\n",
    "    else:\n",
    "        others +=1\n",
    "print(f'digits = {digits}')\n",
    "print(f'vowels = {vowels}')\n",
    "print(f'others = {others}')"
   ]
  },
  {
   "cell_type": "code",
   "execution_count": 21,
   "id": "36ef5719-7779-4907-8c54-344116e208d4",
   "metadata": {},
   "outputs": [
    {
     "ename": "IndentationError",
     "evalue": "expected an indented block after 'for' statement on line 3 (3331637390.py, line 4)",
     "output_type": "error",
     "traceback": [
      "\u001b[0;36m  Cell \u001b[0;32mIn[21], line 4\u001b[0;36m\u001b[0m\n\u001b[0;31m    print(triangle)\u001b[0m\n\u001b[0m    ^\u001b[0m\n\u001b[0;31mIndentationError\u001b[0m\u001b[0;31m:\u001b[0m expected an indented block after 'for' statement on line 3\n"
     ]
    }
   ],
   "source": [
    "name = input (\"Enter name: \")\n",
    "\n",
    "for triangle in range(0, 20):\n",
    "    \n",
    "print(triangle)"
   ]
  },
  {
   "cell_type": "code",
   "execution_count": null,
   "id": "0cf3db8c-83ef-4fab-91c6-75d8da8bb1d6",
   "metadata": {},
   "outputs": [],
   "source": []
  }
 ],
 "metadata": {
  "kernelspec": {
   "display_name": "Python 3 (ipykernel)",
   "language": "python",
   "name": "python3"
  },
  "language_info": {
   "codemirror_mode": {
    "name": "ipython",
    "version": 3
   },
   "file_extension": ".py",
   "mimetype": "text/x-python",
   "name": "python",
   "nbconvert_exporter": "python",
   "pygments_lexer": "ipython3",
   "version": "3.10.12"
  }
 },
 "nbformat": 4,
 "nbformat_minor": 5
}
