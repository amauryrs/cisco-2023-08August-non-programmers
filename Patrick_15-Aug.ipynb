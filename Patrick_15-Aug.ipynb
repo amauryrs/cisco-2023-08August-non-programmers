{
 "cells": [
  {
   "cell_type": "code",
   "execution_count": 2,
   "id": "9f100c9c-f7d0-4d9e-b932-f577c8e7a76b",
   "metadata": {},
   "outputs": [
    {
     "name": "stdout",
     "output_type": "stream",
     "text": [
      "aa\n",
      "bb\n",
      "cc\n",
      "dd\n",
      "ee\n",
      "ff\n",
      "gg\n"
     ]
    }
   ],
   "source": [
    "#FOR LOOP example (m is a variable, same as using s or any other letter)\n",
    "m = \"abcdefg\"\n",
    "for one_character in m:\n",
    "    print(one_character + one_character)"
   ]
  },
  {
   "cell_type": "code",
   "execution_count": 17,
   "id": "6bca71e2-ea34-475d-aa91-7051154e5565",
   "metadata": {},
   "outputs": [
    {
     "name": "stdin",
     "output_type": "stream",
     "text": [
      "Enter string:  hello 12345\n"
     ]
    },
    {
     "name": "stdout",
     "output_type": "stream",
     "text": [
      "hello 12345\n",
      "digits = 5\n",
      "vowels = 2\n",
      "others = 4\n"
     ]
    }
   ],
   "source": [
    "#remember the white space in between will be counted even though the strip method is added\n",
    "digits = 0\n",
    "vowels = 0\n",
    "others = 0\n",
    "num_let = input (\"Enter string: \").strip()\n",
    "print(num_let)\n",
    "\n",
    "\n",
    "for count in num_let:\n",
    "    #CAN Also use count.isdigit()\n",
    "    if count in \"1234567890\":\n",
    "        digits +=1\n",
    "    elif count in \"aeiou\":\n",
    "        vowels +=1\n",
    "    else:\n",
    "        others +=1\n",
    "print(f'digits = {digits}')\n",
    "print(f'vowels = {vowels}')\n",
    "print(f'others = {others}')"
   ]
  },
  {
   "cell_type": "code",
   "execution_count": 42,
   "id": "36ef5719-7779-4907-8c54-344116e208d4",
   "metadata": {},
   "outputs": [
    {
     "name": "stdin",
     "output_type": "stream",
     "text": [
      "Enter name:  Patrick\n"
     ]
    },
    {
     "name": "stdout",
     "output_type": "stream",
     "text": [
      "P\n",
      "Pa\n",
      "Pat\n",
      "Patr\n",
      "Patri\n",
      "Patric\n",
      "Patrick\n"
     ]
    }
   ],
   "source": [
    "name = input (\"Enter name: \").strip()\n",
    "for triangle in range(len(name)):\n",
    "    print(name[0:triangle+1])\n",
    "    "
   ]
  },
  {
   "cell_type": "code",
   "execution_count": 52,
   "id": "0cf3db8c-83ef-4fab-91c6-75d8da8bb1d6",
   "metadata": {},
   "outputs": [
    {
     "name": "stdin",
     "output_type": "stream",
     "text": [
      "Enter a number:  10l\n"
     ]
    },
    {
     "name": "stdout",
     "output_type": "stream",
     "text": [
      "10l not a number!\n"
     ]
    },
    {
     "name": "stdin",
     "output_type": "stream",
     "text": [
      "Enter a number:  50\n",
      "Enter a number:  hello\n"
     ]
    },
    {
     "name": "stdout",
     "output_type": "stream",
     "text": [
      "hello not a number!\n"
     ]
    },
    {
     "name": "stdin",
     "output_type": "stream",
     "text": [
      "Enter a number:  30\n",
      "Enter a number:  40\n"
     ]
    },
    {
     "name": "stdout",
     "output_type": "stream",
     "text": [
      "Total = 120\n"
     ]
    }
   ],
   "source": [
    "total = 0\n",
    "\n",
    "while total < 100:\n",
    "    x = input(\"Enter a number: \").strip()\n",
    "    # IF users input only contains digits\n",
    "    if x.isdigit():\n",
    "        #turn the string into integer\n",
    "        n = int(x)\n",
    "        #add integer to total\n",
    "        total += n\n",
    "    else:\n",
    "        print(f'{x} not a number!')\n",
    "\n",
    "print(f'Total = {total}')\n",
    "    \n",
    "    "
   ]
  },
  {
   "cell_type": "code",
   "execution_count": 57,
   "id": "d32ecff4-544f-48e7-8a0a-550de11c8b81",
   "metadata": {},
   "outputs": [
    {
     "name": "stdin",
     "output_type": "stream",
     "text": [
      "Enter number:  10\n",
      "Enter number:  1a4\n"
     ]
    },
    {
     "ename": "ValueError",
     "evalue": "invalid literal for int() with base 10: 'a'",
     "output_type": "error",
     "traceback": [
      "\u001b[0;31m---------------------------------------------------------------------------\u001b[0m",
      "\u001b[0;31mValueError\u001b[0m                                Traceback (most recent call last)",
      "Cell \u001b[0;32mIn[57], line 9\u001b[0m\n\u001b[1;32m      7\u001b[0m         \u001b[38;5;28;01mbreak\u001b[39;00m\n\u001b[1;32m      8\u001b[0m     \u001b[38;5;28;01mfor\u001b[39;00m one_character \u001b[38;5;129;01min\u001b[39;00m x:\n\u001b[0;32m----> 9\u001b[0m         total \u001b[38;5;241m+\u001b[39m\u001b[38;5;241m=\u001b[39m \u001b[38;5;28;43mint\u001b[39;49m\u001b[43m(\u001b[49m\u001b[43mone_character\u001b[49m\u001b[43m)\u001b[49m\n\u001b[1;32m     11\u001b[0m \u001b[38;5;28mprint\u001b[39m(\u001b[38;5;124mf\u001b[39m\u001b[38;5;124m'\u001b[39m\u001b[38;5;124mtotal = \u001b[39m\u001b[38;5;132;01m{\u001b[39;00mtotal\u001b[38;5;132;01m}\u001b[39;00m\u001b[38;5;124m'\u001b[39m)        \n",
      "\u001b[0;31mValueError\u001b[0m: invalid literal for int() with base 10: 'a'"
     ]
    }
   ],
   "source": [
    "total = 0\n",
    "\n",
    "while True:\n",
    "    x = input(\"Enter number: \").strip()\n",
    "\n",
    "    if x == '':\n",
    "        break\n",
    "    for one_character in x:\n",
    "        if one_character\n",
    "        total += int(one_character)\n",
    "\n",
    "print(f'total = {total}')        "
   ]
  },
  {
   "cell_type": "code",
   "execution_count": null,
   "id": "d4f22e98-f31c-4be6-8ab4-952430947db5",
   "metadata": {},
   "outputs": [],
   "source": []
  }
 ],
 "metadata": {
  "kernelspec": {
   "display_name": "Python 3 (ipykernel)",
   "language": "python",
   "name": "python3"
  },
  "language_info": {
   "codemirror_mode": {
    "name": "ipython",
    "version": 3
   },
   "file_extension": ".py",
   "mimetype": "text/x-python",
   "name": "python",
   "nbconvert_exporter": "python",
   "pygments_lexer": "ipython3",
   "version": "3.10.12"
  }
 },
 "nbformat": 4,
 "nbformat_minor": 5
}
