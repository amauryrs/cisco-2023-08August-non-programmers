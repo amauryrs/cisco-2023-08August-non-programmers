{
 "cells": [
  {
   "cell_type": "code",
   "execution_count": 1,
   "id": "8ec5ed79-8ac0-436e-8899-d9c7b988879e",
   "metadata": {},
   "outputs": [
    {
     "name": "stdout",
     "output_type": "stream",
     "text": [
      "Hello\n"
     ]
    }
   ],
   "source": [
    "print('Hello')"
   ]
  },
  {
   "cell_type": "code",
   "execution_count": 9,
   "id": "b68a3693-03bd-49a0-8f6a-924e142a8b4d",
   "metadata": {},
   "outputs": [
    {
     "ename": "IndentationError",
     "evalue": "unindent does not match any outer indentation level (<tokenize>, line 16)",
     "output_type": "error",
     "traceback": [
      "\u001b[0;36m  File \u001b[0;32m<tokenize>:16\u001b[0;36m\u001b[0m\n\u001b[0;31m    else:\u001b[0m\n\u001b[0m    ^\u001b[0m\n\u001b[0;31mIndentationError\u001b[0m\u001b[0;31m:\u001b[0m unindent does not match any outer indentation level\n"
     ]
    }
   ],
   "source": [
    "higher=[]\n",
    "lower=[]\n",
    "threshold=input('Enter an integer for threshold: ').strip()\n",
    "\n",
    "while True:\n",
    "    number = input('Enter a string of numbers separated by whitespace: ').strip()\n",
    "    n = int(number)\n",
    "     if n == '':\n",
    "         break\n",
    "         for one_character in n:\n",
    "             if one_character .isdigit():\n",
    "                 if one_character < threshold:\n",
    "                     lower.append(one_character)\n",
    "                 else:\n",
    "                     higher.append(one_character)\n",
    "            else:\n",
    "                print(f'{one_character} is not numeric; ')\n",
    "\n",
    "print(f'higher = {higher}')\n",
    "print(f'lower = {lower}')\n"
   ]
  },
  {
   "cell_type": "code",
   "execution_count": null,
   "id": "0a1f19ac-12c4-4b67-b9d7-73a0dc6a7e28",
   "metadata": {},
   "outputs": [],
   "source": [
    "higher=[]\n",
    "lower=[]\n",
    "s =input('Enter an integer for threshold: ').strip()\n",
    "threshold =int(s)\n"
   ]
  },
  {
   "cell_type": "code",
   "execution_count": 10,
   "id": "d15edbfa-b7e6-4a43-a060-af1936e12afd",
   "metadata": {},
   "outputs": [
    {
     "data": {
      "text/plain": [
       "10"
      ]
     },
     "execution_count": 10,
     "metadata": {},
     "output_type": "execute_result"
    }
   ],
   "source": [
    "menu ={'sandwich':10, 'tea':5, 'apple':2, 'cake':7}\n",
    "menu['sandwich']"
   ]
  },
  {
   "cell_type": "code",
   "execution_count": 11,
   "id": "8334dec4-59d9-4806-9aaa-0753261f819b",
   "metadata": {},
   "outputs": [
    {
     "data": {
      "text/plain": [
       "10"
      ]
     },
     "execution_count": 11,
     "metadata": {},
     "output_type": "execute_result"
    }
   ],
   "source": [
    "order = 'sandwich'\n",
    "menu[order]"
   ]
  },
  {
   "cell_type": "code",
   "execution_count": 12,
   "id": "8a6fd12f-d02e-42f6-b19c-5261a0e8b4f3",
   "metadata": {},
   "outputs": [
    {
     "ename": "SyntaxError",
     "evalue": "expected ':' (505253452.py, line 6)",
     "output_type": "error",
     "traceback": [
      "\u001b[0;36m  Cell \u001b[0;32mIn[12], line 6\u001b[0;36m\u001b[0m\n\u001b[0;31m    if order == ''\u001b[0m\n\u001b[0m                  ^\u001b[0m\n\u001b[0;31mSyntaxError\u001b[0m\u001b[0;31m:\u001b[0m expected ':'\n"
     ]
    }
   ],
   "source": [
    "menu ={'sandwich':10, 'tea':5, 'apple':2, 'cake':7}\n",
    "total=0\n",
    "\n",
    "while True:\n",
    "    order=input('Order:').strip()\n",
    "    if order == ''\n",
    "        break\n",
    "\n",
    "    if order in menu:"
   ]
  },
  {
   "cell_type": "code",
   "execution_count": null,
   "id": "cf26d572-9e7a-4512-ae02-0cb55dd9d21e",
   "metadata": {},
   "outputs": [],
   "source": [
    "count"
   ]
  }
 ],
 "metadata": {
  "kernelspec": {
   "display_name": "Python 3 (ipykernel)",
   "language": "python",
   "name": "python3"
  },
  "language_info": {
   "codemirror_mode": {
    "name": "ipython",
    "version": 3
   },
   "file_extension": ".py",
   "mimetype": "text/x-python",
   "name": "python",
   "nbconvert_exporter": "python",
   "pygments_lexer": "ipython3",
   "version": "3.10.12"
  }
 },
 "nbformat": 4,
 "nbformat_minor": 5
}
