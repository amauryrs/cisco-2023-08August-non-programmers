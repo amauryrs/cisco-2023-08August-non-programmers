{
 "cells": [
  {
   "cell_type": "code",
   "execution_count": 1,
   "id": "5134b937-137e-4eec-9d4a-e790ac93cb18",
   "metadata": {},
   "outputs": [
    {
     "name": "stdout",
     "output_type": "stream",
     "text": [
      "Hello\n"
     ]
    }
   ],
   "source": [
    "print('Hello')"
   ]
  },
  {
   "cell_type": "code",
   "execution_count": null,
   "id": "3615bc0f-022f-4e99-8d1a-e03846016efc",
   "metadata": {},
   "outputs": [],
   "source": [
    "d = = {'a':100, 'b':200, 'c':300}\n",
    "count = {}"
   ]
  },
  {
   "cell_type": "code",
   "execution_count": 3,
   "id": "9dd85346-7e6d-4490-b29a-dfc7a67fbb35",
   "metadata": {},
   "outputs": [
    {
     "name": "stdout",
     "output_type": "stream",
     "text": [
      "This is a test file.\n",
      "\n",
      "\n",
      "\n",
      "It contains 28 words and 20 different words.\n",
      "\n",
      "\n",
      "\n",
      "It also contains 165 characters.\n",
      "\n",
      "\n",
      "\n",
      "It also contains 11 lines.\n",
      "\n",
      "\n",
      "\n",
      "It is also self-referential.\n",
      "\n",
      "\n",
      "\n",
      "Wow!\n",
      "\n"
     ]
    }
   ],
   "source": [
    "filename = 'wcfile.txt'\n",
    "\n",
    "for one_line in open(filename):\n",
    "    print(one_line)\n",
    "    "
   ]
  },
  {
   "cell_type": "code",
   "execution_count": null,
   "id": "3bae792e-8019-44d4-baf9-72fe40e9aa0f",
   "metadata": {},
   "outputs": [],
   "source": [
    "filename = 'wcfile.txt'\n",
    "\n",
    "for one_line in open(filename):\n",
    "    print(one_line)\n",
    "    for one_character in "
   ]
  }
 ],
 "metadata": {
  "kernelspec": {
   "display_name": "Python 3 (ipykernel)",
   "language": "python",
   "name": "python3"
  },
  "language_info": {
   "codemirror_mode": {
    "name": "ipython",
    "version": 3
   },
   "file_extension": ".py",
   "mimetype": "text/x-python",
   "name": "python",
   "nbconvert_exporter": "python",
   "pygments_lexer": "ipython3",
   "version": "3.10.12"
  }
 },
 "nbformat": 4,
 "nbformat_minor": 5
}
