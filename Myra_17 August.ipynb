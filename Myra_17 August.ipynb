{
 "cells": [
  {
   "cell_type": "code",
   "execution_count": 1,
   "id": "68bd2439-f2c6-41de-b5cd-dfa97cdd1199",
   "metadata": {},
   "outputs": [
    {
     "name": "stdout",
     "output_type": "stream",
     "text": [
      "This is a test file.\n",
      "\n",
      "\n",
      "\n",
      "It contains 28 words and 20 different words.\n",
      "\n",
      "\n",
      "\n",
      "It also contains 165 characters.\n",
      "\n",
      "\n",
      "\n",
      "It also contains 11 lines.\n",
      "\n",
      "\n",
      "\n",
      "It is also self-referential.\n",
      "\n",
      "\n",
      "\n",
      "Wow!\n",
      "\n"
     ]
    }
   ],
   "source": [
    "filename = 'wcfile.txt'    # in the same directory as Jupyter\n",
    "\n",
    "for one_line in open(filename):   # open the file + iterate over it in a for loop\n",
    "    len(one_line)\n",
    "    print(one_line)               # print the current line from the file"
   ]
  },
  {
   "cell_type": "code",
   "execution_count": null,
   "id": "c7464d4b-b0ba-4ecb-8216-ce7862bce3d3",
   "metadata": {},
   "outputs": [],
   "source": [
    "filename = 'mini-access-log.txt'\n",
    "IPaddress = {}\n",
    "\n"
   ]
  }
 ],
 "metadata": {
  "kernelspec": {
   "display_name": "Python 3 (ipykernel)",
   "language": "python",
   "name": "python3"
  },
  "language_info": {
   "codemirror_mode": {
    "name": "ipython",
    "version": 3
   },
   "file_extension": ".py",
   "mimetype": "text/x-python",
   "name": "python",
   "nbconvert_exporter": "python",
   "pygments_lexer": "ipython3",
   "version": "3.10.12"
  }
 },
 "nbformat": 4,
 "nbformat_minor": 5
}
