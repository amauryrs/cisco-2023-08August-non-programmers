{
 "cells": [
  {
   "cell_type": "code",
   "execution_count": 1,
   "id": "68bd2439-f2c6-41de-b5cd-dfa97cdd1199",
   "metadata": {},
   "outputs": [
    {
     "name": "stdout",
     "output_type": "stream",
     "text": [
      "This is a test file.\n",
      "\n",
      "\n",
      "\n",
      "It contains 28 words and 20 different words.\n",
      "\n",
      "\n",
      "\n",
      "It also contains 165 characters.\n",
      "\n",
      "\n",
      "\n",
      "It also contains 11 lines.\n",
      "\n",
      "\n",
      "\n",
      "It is also self-referential.\n",
      "\n",
      "\n",
      "\n",
      "Wow!\n",
      "\n"
     ]
    }
   ],
   "source": [
    "filename = 'wcfile.txt'    # in the same directory as Jupyter\n",
    "\n",
    "for one_line in open(filename):   # open the file + iterate over it in a for loop\n",
    "    len(one_line)\n",
    "    print(one_line)               # print the current line from the file"
   ]
  },
  {
   "cell_type": "code",
   "execution_count": 4,
   "id": "c7464d4b-b0ba-4ecb-8216-ce7862bce3d3",
   "metadata": {},
   "outputs": [
    {
     "ename": "NameError",
     "evalue": "name 'line' is not defined",
     "output_type": "error",
     "traceback": [
      "\u001b[0;31m---------------------------------------------------------------------------\u001b[0m",
      "\u001b[0;31mNameError\u001b[0m                                 Traceback (most recent call last)",
      "Cell \u001b[0;32mIn[4], line 5\u001b[0m\n\u001b[1;32m      2\u001b[0m IPaddress \u001b[38;5;241m=\u001b[39m {}\n\u001b[1;32m      4\u001b[0m \u001b[38;5;28;01mfor\u001b[39;00m one_line \u001b[38;5;129;01min\u001b[39;00m \u001b[38;5;28mopen\u001b[39m(filename):\n\u001b[0;32m----> 5\u001b[0m     \u001b[38;5;28;01mfor\u001b[39;00m one_word \u001b[38;5;129;01min\u001b[39;00m \u001b[43mline\u001b[49m\u001b[38;5;241m.\u001b[39mstrip():\n\u001b[1;32m      6\u001b[0m         \u001b[38;5;28;01mif\u001b[39;00m word \u001b[38;5;129;01min\u001b[39;00m IPaddress:\n\u001b[1;32m      7\u001b[0m             IPaddress[word] \u001b[38;5;241m+\u001b[39m\u001b[38;5;241m=\u001b[39m \u001b[38;5;241m1\u001b[39m\n",
      "\u001b[0;31mNameError\u001b[0m: name 'line' is not defined"
     ]
    }
   ],
   "source": [
    "filename = 'mini-access-log.txt'\n",
    "counts = {}\n",
    "\n",
    "for one_line in open(filename):\n",
    "    for one_line in open('filename').split():\n",
    "        if word in counts:\n",
    "            counts[word] += 1\n",
    "        else:\n",
    "            counts[word] = 1\n",
    "            \n",
    "for key, value in counts.items():\n",
    "    print(f'{key} : {value}')"
   ]
  },
  {
   "cell_type": "code",
   "execution_count": 9,
   "id": "1cbea84c-b9cc-4b20-9962-9c90924a0c83",
   "metadata": {},
   "outputs": [
    {
     "name": "stdout",
     "output_type": "stream",
     "text": [
      "67.218.116.165:\t2\n",
      "66.249.71.65:\t3\n",
      "65.55.106.183:\t2\n",
      "66.249.65.12:\t32\n",
      "65.55.106.131:\t2\n",
      "65.55.106.186:\t2\n",
      "74.52.245.146:\t2\n",
      "66.249.65.43:\t3\n",
      "65.55.207.25:\t2\n",
      "65.55.207.94:\t2\n",
      "65.55.207.71:\t1\n",
      "98.242.170.241:\t1\n",
      "66.249.65.38:\t100\n",
      "65.55.207.126:\t2\n",
      "82.34.9.20:\t2\n",
      "65.55.106.155:\t2\n",
      "65.55.207.77:\t2\n",
      "208.80.193.28:\t1\n",
      "89.248.172.58:\t22\n",
      "67.195.112.35:\t16\n",
      "65.55.207.50:\t3\n",
      "65.55.215.75:\t2\n"
     ]
    }
   ],
   "source": [
    "filename = 'mini-access-log.txt'\n",
    "counts = {}\n",
    "\n",
    "for one_line in open(filename):\n",
    "    ip_address = one_line.split()[0]\n",
    "    if ip_address in counts:\n",
    "        counts[ip_address] += 1\n",
    "    else:\n",
    "        counts[ip_address] = 1\n",
    "            \n",
    "for key, value in counts.items():\n",
    "    print(f'{key}:\\t{value}')"
   ]
  },
  {
   "cell_type": "code",
   "execution_count": null,
   "id": "90298956-fe16-4c0b-aaa3-819bd3394ade",
   "metadata": {},
   "outputs": [],
   "source": [
    "def calc():\n",
    "    number = input('Enter a number: ')\n",
    "    operator = input('Enter + or -: ')\n",
    "    number2 = input('Enter a second number: ')\n",
    "    return f'number and operator and number2"
   ]
  }
 ],
 "metadata": {
  "kernelspec": {
   "display_name": "Python 3 (ipykernel)",
   "language": "python",
   "name": "python3"
  },
  "language_info": {
   "codemirror_mode": {
    "name": "ipython",
    "version": 3
   },
   "file_extension": ".py",
   "mimetype": "text/x-python",
   "name": "python",
   "nbconvert_exporter": "python",
   "pygments_lexer": "ipython3",
   "version": "3.10.12"
  }
 },
 "nbformat": 4,
 "nbformat_minor": 5
}
